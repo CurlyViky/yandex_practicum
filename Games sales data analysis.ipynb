{
 "cells": [
  {
   "cell_type": "markdown",
   "metadata": {},
   "source": [
    "# Описание проекта, загрузка данных"
   ]
  },
  {
   "cell_type": "markdown",
   "metadata": {},
   "source": [
    "В данном проекта будут исследоваться исторические данные о продажах игр, оценки пользователей и экспертов, жанры и платформы c 1980 по 2016 год. Необходимо выявить влияющие на успешность играы факторы для планирования рекламных кампаний на 2017 год. \n",
    "Сначала необходимо подготовить данные к анализу, найти в них ошибки, пропуски и дубликаты. Далее необходимо проанализировать изменения продаж по платформам, выявить актуальный период, на основании которого будут строиться прогнозы. Посмотреть, оказывают ли влияние на продажи отзывы пользователей и критиков, проанализировать распределение игр по жанрам, какие являются наиболее популярными.\n",
    "Далее составить портрет пользователей регионов NA, EU, JP, проанализировать продажи по платформам, по жанрам и в зависимости от рейтинга ESRB. И в конце проверить гипотезы: средние пользовательские рейтинги платформ Xbox One и PC одинаковые и средние пользовательские рейтинги жанров Action (англ. «действие», экшен-игры) и Sports (англ. «спортивные соревнования») разные."
   ]
  },
  {
   "cell_type": "code",
   "execution_count": 1,
   "metadata": {},
   "outputs": [],
   "source": [
    "import numpy as np\n",
    "import seaborn as sns\n",
    "import pandas as pd\n",
    "from scipy import stats as st\n",
    "import matplotlib.pyplot as plt"
   ]
  },
  {
   "cell_type": "code",
   "execution_count": 2,
   "metadata": {},
   "outputs": [
    {
     "name": "stdout",
     "output_type": "stream",
     "text": [
      "<class 'pandas.core.frame.DataFrame'>\n",
      "RangeIndex: 16715 entries, 0 to 16714\n",
      "Data columns (total 11 columns):\n",
      " #   Column           Non-Null Count  Dtype  \n",
      "---  ------           --------------  -----  \n",
      " 0   Name             16713 non-null  object \n",
      " 1   Platform         16715 non-null  object \n",
      " 2   Year_of_Release  16446 non-null  float64\n",
      " 3   Genre            16713 non-null  object \n",
      " 4   NA_sales         16715 non-null  float64\n",
      " 5   EU_sales         16715 non-null  float64\n",
      " 6   JP_sales         16715 non-null  float64\n",
      " 7   Other_sales      16715 non-null  float64\n",
      " 8   Critic_Score     8137 non-null   float64\n",
      " 9   User_Score       10014 non-null  object \n",
      " 10  Rating           9949 non-null   object \n",
      "dtypes: float64(6), object(5)\n",
      "memory usage: 1.4+ MB\n"
     ]
    }
   ],
   "source": [
    "games = pd.read_csv('/datasets/games.csv')\n",
    "games.info()"
   ]
  },
  {
   "cell_type": "markdown",
   "metadata": {},
   "source": [
    "## Подготовка данных"
   ]
  },
  {
   "cell_type": "code",
   "execution_count": 3,
   "metadata": {
    "scrolled": true
   },
   "outputs": [
    {
     "data": {
      "text/html": [
       "<div>\n",
       "<style scoped>\n",
       "    .dataframe tbody tr th:only-of-type {\n",
       "        vertical-align: middle;\n",
       "    }\n",
       "\n",
       "    .dataframe tbody tr th {\n",
       "        vertical-align: top;\n",
       "    }\n",
       "\n",
       "    .dataframe thead th {\n",
       "        text-align: right;\n",
       "    }\n",
       "</style>\n",
       "<table border=\"1\" class=\"dataframe\">\n",
       "  <thead>\n",
       "    <tr style=\"text-align: right;\">\n",
       "      <th></th>\n",
       "      <th>name</th>\n",
       "      <th>platform</th>\n",
       "      <th>year_of_release</th>\n",
       "      <th>genre</th>\n",
       "      <th>na_sales</th>\n",
       "      <th>eu_sales</th>\n",
       "      <th>jp_sales</th>\n",
       "      <th>other_sales</th>\n",
       "      <th>critic_score</th>\n",
       "      <th>user_score</th>\n",
       "      <th>rating</th>\n",
       "    </tr>\n",
       "  </thead>\n",
       "  <tbody>\n",
       "    <tr>\n",
       "      <th>0</th>\n",
       "      <td>Wii Sports</td>\n",
       "      <td>Wii</td>\n",
       "      <td>2006.0</td>\n",
       "      <td>Sports</td>\n",
       "      <td>41.36</td>\n",
       "      <td>28.96</td>\n",
       "      <td>3.77</td>\n",
       "      <td>8.45</td>\n",
       "      <td>76.0</td>\n",
       "      <td>8</td>\n",
       "      <td>E</td>\n",
       "    </tr>\n",
       "    <tr>\n",
       "      <th>1</th>\n",
       "      <td>Super Mario Bros.</td>\n",
       "      <td>NES</td>\n",
       "      <td>1985.0</td>\n",
       "      <td>Platform</td>\n",
       "      <td>29.08</td>\n",
       "      <td>3.58</td>\n",
       "      <td>6.81</td>\n",
       "      <td>0.77</td>\n",
       "      <td>NaN</td>\n",
       "      <td>NaN</td>\n",
       "      <td>NaN</td>\n",
       "    </tr>\n",
       "    <tr>\n",
       "      <th>2</th>\n",
       "      <td>Mario Kart Wii</td>\n",
       "      <td>Wii</td>\n",
       "      <td>2008.0</td>\n",
       "      <td>Racing</td>\n",
       "      <td>15.68</td>\n",
       "      <td>12.76</td>\n",
       "      <td>3.79</td>\n",
       "      <td>3.29</td>\n",
       "      <td>82.0</td>\n",
       "      <td>8.3</td>\n",
       "      <td>E</td>\n",
       "    </tr>\n",
       "    <tr>\n",
       "      <th>3</th>\n",
       "      <td>Wii Sports Resort</td>\n",
       "      <td>Wii</td>\n",
       "      <td>2009.0</td>\n",
       "      <td>Sports</td>\n",
       "      <td>15.61</td>\n",
       "      <td>10.93</td>\n",
       "      <td>3.28</td>\n",
       "      <td>2.95</td>\n",
       "      <td>80.0</td>\n",
       "      <td>8</td>\n",
       "      <td>E</td>\n",
       "    </tr>\n",
       "    <tr>\n",
       "      <th>4</th>\n",
       "      <td>Pokemon Red/Pokemon Blue</td>\n",
       "      <td>GB</td>\n",
       "      <td>1996.0</td>\n",
       "      <td>Role-Playing</td>\n",
       "      <td>11.27</td>\n",
       "      <td>8.89</td>\n",
       "      <td>10.22</td>\n",
       "      <td>1.00</td>\n",
       "      <td>NaN</td>\n",
       "      <td>NaN</td>\n",
       "      <td>NaN</td>\n",
       "    </tr>\n",
       "  </tbody>\n",
       "</table>\n",
       "</div>"
      ],
      "text/plain": [
       "                       name platform  year_of_release         genre  na_sales  \\\n",
       "0                Wii Sports      Wii           2006.0        Sports     41.36   \n",
       "1         Super Mario Bros.      NES           1985.0      Platform     29.08   \n",
       "2            Mario Kart Wii      Wii           2008.0        Racing     15.68   \n",
       "3         Wii Sports Resort      Wii           2009.0        Sports     15.61   \n",
       "4  Pokemon Red/Pokemon Blue       GB           1996.0  Role-Playing     11.27   \n",
       "\n",
       "   eu_sales  jp_sales  other_sales  critic_score user_score rating  \n",
       "0     28.96      3.77         8.45          76.0          8      E  \n",
       "1      3.58      6.81         0.77           NaN        NaN    NaN  \n",
       "2     12.76      3.79         3.29          82.0        8.3      E  \n",
       "3     10.93      3.28         2.95          80.0          8      E  \n",
       "4      8.89     10.22         1.00           NaN        NaN    NaN  "
      ]
     },
     "execution_count": 3,
     "metadata": {},
     "output_type": "execute_result"
    }
   ],
   "source": [
    "games = games.rename(columns={'Name':'name', 'Platform':'platform', 'Year_of_Release':'year_of_release',\\\n",
    "'Genre':'genre', 'NA_sales':'na_sales', 'EU_sales':'eu_sales', 'JP_sales':'jp_sales', 'Other_sales':'other_sales',\\\n",
    "'Critic_Score':'critic_score', 'User_Score':'user_score', 'Rating':'rating'})\n",
    "games.head()"
   ]
  },
  {
   "cell_type": "markdown",
   "metadata": {},
   "source": [
    "Удаляем строчки с пропусками в столбце с годом релиза, т.к. этих данных достаточно мало (всего 269 из 16713, что равно меньше, чем 2%)"
   ]
  },
  {
   "cell_type": "code",
   "execution_count": 4,
   "metadata": {},
   "outputs": [],
   "source": [
    "games = games.dropna(subset=['year_of_release'])\n",
    "games['year_of_release'] = games['year_of_release'].astype('int')"
   ]
  },
  {
   "cell_type": "code",
   "execution_count": 5,
   "metadata": {},
   "outputs": [
    {
     "data": {
      "text/plain": [
       "name                  2\n",
       "platform              0\n",
       "year_of_release       0\n",
       "genre                 2\n",
       "na_sales              0\n",
       "eu_sales              0\n",
       "jp_sales              0\n",
       "other_sales           0\n",
       "critic_score       8463\n",
       "user_score         6607\n",
       "rating             6678\n",
       "dtype: int64"
      ]
     },
     "execution_count": 5,
     "metadata": {},
     "output_type": "execute_result"
    }
   ],
   "source": [
    "games.isna().sum()"
   ]
  },
  {
   "cell_type": "code",
   "execution_count": 6,
   "metadata": {},
   "outputs": [],
   "source": [
    "games = games.dropna(subset=['name'])"
   ]
  },
  {
   "cell_type": "markdown",
   "metadata": {},
   "source": [
    "Явных дубликатов анализ не выявил"
   ]
  },
  {
   "cell_type": "code",
   "execution_count": 8,
   "metadata": {},
   "outputs": [
    {
     "data": {
      "text/plain": [
       "0        False\n",
       "1        False\n",
       "2        False\n",
       "3        False\n",
       "4        False\n",
       "         ...  \n",
       "16710    False\n",
       "16711    False\n",
       "16712    False\n",
       "16713    False\n",
       "16714    False\n",
       "Length: 16444, dtype: bool"
      ]
     },
     "execution_count": 8,
     "metadata": {},
     "output_type": "execute_result"
    }
   ],
   "source": [
    "games.duplicated()"
   ]
  },
  {
   "cell_type": "code",
   "execution_count": 11,
   "metadata": {},
   "outputs": [
    {
     "data": {
      "text/plain": [
       "8981"
      ]
     },
     "execution_count": 11,
     "metadata": {},
     "output_type": "execute_result"
    }
   ],
   "source": [
    "games['user_score'] = games['user_score'].replace('tbd', np.nan)\n",
    "games['user_score'].isna().sum()"
   ]
  },
  {
   "cell_type": "code",
   "execution_count": 12,
   "metadata": {},
   "outputs": [],
   "source": [
    "games['user_score'] = pd.to_numeric(games['user_score'], errors='coerce', downcast='float')\n",
    "games['user_score'] = games['user_score'].astype('float64')"
   ]
  },
  {
   "cell_type": "code",
   "execution_count": 14,
   "metadata": {},
   "outputs": [
    {
     "name": "stdout",
     "output_type": "stream",
     "text": [
      "[76. nan 82. 80. 89. 58. 87. 91. 61. 97. 95. 77. 88. 83. 94. 93. 85. 86.\n",
      " 98. 96. 90. 84. 73. 74. 78. 92. 71. 72. 68. 62. 49. 67. 81. 66. 56. 79.\n",
      " 70. 59. 64. 75. 60. 63. 69. 50. 25. 42. 44. 55. 48. 57. 29. 47. 65. 54.\n",
      " 20. 53. 37. 38. 33. 52. 30. 32. 43. 45. 51. 40. 46. 39. 34. 41. 36. 31.\n",
      " 27. 35. 26. 19. 28. 23. 24. 21. 17. 13.]\n"
     ]
    }
   ],
   "source": [
    "print(games['critic_score'].unique())"
   ]
  },
  {
   "cell_type": "markdown",
   "metadata": {},
   "source": [
    "Заполним сначала пропуски в столбце critic_score нулями, чтобы было возможно изменить тип данных столбца, а реальных оценок критиков мы не знаем, и удалять пропуски нельзя, т.к. их достаточно много и они могут повлиять на дальнейшее исследование, а так можно будет просто применить фильтрацию "
   ]
  },
  {
   "cell_type": "code",
   "execution_count": 15,
   "metadata": {},
   "outputs": [],
   "source": [
    "games['critic_score'] = games['critic_score'].fillna(-1)\n",
    "games['critic_score'] = games['critic_score'].astype('int')\n",
    "\n",
    "games['rating'] = games['rating'].fillna(-1)"
   ]
  },
  {
   "cell_type": "code",
   "execution_count": 16,
   "metadata": {},
   "outputs": [
    {
     "name": "stdout",
     "output_type": "stream",
     "text": [
      "<class 'pandas.core.frame.DataFrame'>\n",
      "Int64Index: 16444 entries, 0 to 16714\n",
      "Data columns (total 11 columns):\n",
      " #   Column           Non-Null Count  Dtype  \n",
      "---  ------           --------------  -----  \n",
      " 0   name             16444 non-null  object \n",
      " 1   platform         16444 non-null  object \n",
      " 2   year_of_release  16444 non-null  int64  \n",
      " 3   genre            16444 non-null  object \n",
      " 4   na_sales         16444 non-null  float64\n",
      " 5   eu_sales         16444 non-null  float64\n",
      " 6   jp_sales         16444 non-null  float64\n",
      " 7   other_sales      16444 non-null  float64\n",
      " 8   critic_score     16444 non-null  int64  \n",
      " 9   user_score       7463 non-null   float64\n",
      " 10  rating           16444 non-null  object \n",
      "dtypes: float64(5), int64(2), object(4)\n",
      "memory usage: 1.5+ MB\n"
     ]
    }
   ],
   "source": [
    "games.info()"
   ]
  },
  {
   "cell_type": "markdown",
   "metadata": {},
   "source": [
    "Заменяем значения tbd в столбце с оценками пользователей на nan, потому что tbd означает, что оценка уточняется, то есть ее пока нет"
   ]
  },
  {
   "cell_type": "markdown",
   "metadata": {},
   "source": [
    "Как показалось из изучения данных, пропуски в столбцах с оценками критиков и пользователей, а также столбце рейтинга, в первую очередь встречаются у игр, выпущенных в конце 20-го века и в начале 21-го (в первом десятилетии), то есть данные по этим играм могли быть просто необновлены или утеряны "
   ]
  },
  {
   "cell_type": "code",
   "execution_count": 17,
   "metadata": {},
   "outputs": [],
   "source": [
    "games['region_sales'] = games[['na_sales', 'jp_sales', 'eu_sales', 'other_sales']].sum(axis=1)"
   ]
  },
  {
   "cell_type": "code",
   "execution_count": 18,
   "metadata": {},
   "outputs": [
    {
     "data": {
      "text/html": [
       "<div>\n",
       "<style scoped>\n",
       "    .dataframe tbody tr th:only-of-type {\n",
       "        vertical-align: middle;\n",
       "    }\n",
       "\n",
       "    .dataframe tbody tr th {\n",
       "        vertical-align: top;\n",
       "    }\n",
       "\n",
       "    .dataframe thead th {\n",
       "        text-align: right;\n",
       "    }\n",
       "</style>\n",
       "<table border=\"1\" class=\"dataframe\">\n",
       "  <thead>\n",
       "    <tr style=\"text-align: right;\">\n",
       "      <th></th>\n",
       "      <th>name</th>\n",
       "      <th>platform</th>\n",
       "      <th>year_of_release</th>\n",
       "      <th>genre</th>\n",
       "      <th>na_sales</th>\n",
       "      <th>eu_sales</th>\n",
       "      <th>jp_sales</th>\n",
       "      <th>other_sales</th>\n",
       "      <th>critic_score</th>\n",
       "      <th>user_score</th>\n",
       "      <th>rating</th>\n",
       "      <th>region_sales</th>\n",
       "    </tr>\n",
       "  </thead>\n",
       "  <tbody>\n",
       "    <tr>\n",
       "      <th>0</th>\n",
       "      <td>Wii Sports</td>\n",
       "      <td>Wii</td>\n",
       "      <td>2006</td>\n",
       "      <td>Sports</td>\n",
       "      <td>41.36</td>\n",
       "      <td>28.96</td>\n",
       "      <td>3.77</td>\n",
       "      <td>8.45</td>\n",
       "      <td>76</td>\n",
       "      <td>8.0</td>\n",
       "      <td>E</td>\n",
       "      <td>82.54</td>\n",
       "    </tr>\n",
       "    <tr>\n",
       "      <th>1</th>\n",
       "      <td>Super Mario Bros.</td>\n",
       "      <td>NES</td>\n",
       "      <td>1985</td>\n",
       "      <td>Platform</td>\n",
       "      <td>29.08</td>\n",
       "      <td>3.58</td>\n",
       "      <td>6.81</td>\n",
       "      <td>0.77</td>\n",
       "      <td>-1</td>\n",
       "      <td>NaN</td>\n",
       "      <td>-1</td>\n",
       "      <td>40.24</td>\n",
       "    </tr>\n",
       "    <tr>\n",
       "      <th>2</th>\n",
       "      <td>Mario Kart Wii</td>\n",
       "      <td>Wii</td>\n",
       "      <td>2008</td>\n",
       "      <td>Racing</td>\n",
       "      <td>15.68</td>\n",
       "      <td>12.76</td>\n",
       "      <td>3.79</td>\n",
       "      <td>3.29</td>\n",
       "      <td>82</td>\n",
       "      <td>8.3</td>\n",
       "      <td>E</td>\n",
       "      <td>35.52</td>\n",
       "    </tr>\n",
       "    <tr>\n",
       "      <th>3</th>\n",
       "      <td>Wii Sports Resort</td>\n",
       "      <td>Wii</td>\n",
       "      <td>2009</td>\n",
       "      <td>Sports</td>\n",
       "      <td>15.61</td>\n",
       "      <td>10.93</td>\n",
       "      <td>3.28</td>\n",
       "      <td>2.95</td>\n",
       "      <td>80</td>\n",
       "      <td>8.0</td>\n",
       "      <td>E</td>\n",
       "      <td>32.77</td>\n",
       "    </tr>\n",
       "    <tr>\n",
       "      <th>4</th>\n",
       "      <td>Pokemon Red/Pokemon Blue</td>\n",
       "      <td>GB</td>\n",
       "      <td>1996</td>\n",
       "      <td>Role-Playing</td>\n",
       "      <td>11.27</td>\n",
       "      <td>8.89</td>\n",
       "      <td>10.22</td>\n",
       "      <td>1.00</td>\n",
       "      <td>-1</td>\n",
       "      <td>NaN</td>\n",
       "      <td>-1</td>\n",
       "      <td>31.38</td>\n",
       "    </tr>\n",
       "  </tbody>\n",
       "</table>\n",
       "</div>"
      ],
      "text/plain": [
       "                       name platform  year_of_release         genre  na_sales  \\\n",
       "0                Wii Sports      Wii             2006        Sports     41.36   \n",
       "1         Super Mario Bros.      NES             1985      Platform     29.08   \n",
       "2            Mario Kart Wii      Wii             2008        Racing     15.68   \n",
       "3         Wii Sports Resort      Wii             2009        Sports     15.61   \n",
       "4  Pokemon Red/Pokemon Blue       GB             1996  Role-Playing     11.27   \n",
       "\n",
       "   eu_sales  jp_sales  other_sales  critic_score  user_score rating  \\\n",
       "0     28.96      3.77         8.45            76         8.0      E   \n",
       "1      3.58      6.81         0.77            -1         NaN     -1   \n",
       "2     12.76      3.79         3.29            82         8.3      E   \n",
       "3     10.93      3.28         2.95            80         8.0      E   \n",
       "4      8.89     10.22         1.00            -1         NaN     -1   \n",
       "\n",
       "   region_sales  \n",
       "0         82.54  \n",
       "1         40.24  \n",
       "2         35.52  \n",
       "3         32.77  \n",
       "4         31.38  "
      ]
     },
     "execution_count": 18,
     "metadata": {},
     "output_type": "execute_result"
    }
   ],
   "source": [
    "games.head()"
   ]
  },
  {
   "cell_type": "markdown",
   "metadata": {},
   "source": [
    "## Исследовательский анализ данных"
   ]
  },
  {
   "cell_type": "markdown",
   "metadata": {},
   "source": [
    "В целом, если учитывать, какое кол-во игр стало выпускаться после 2002 года, можно предположить, что года, в которые выпускалось меньше хотя бы 100 игр, то есть до 1994 года, можно не учитывать, так как это кажется слишком незначительным количеством "
   ]
  },
  {
   "cell_type": "code",
   "execution_count": 20,
   "metadata": {
    "scrolled": true
   },
   "outputs": [
    {
     "data": {
      "text/plain": [
       "<AxesSubplot:xlabel='year_of_release'>"
      ]
     },
     "execution_count": 20,
     "metadata": {},
     "output_type": "execute_result"
    },
    {
     "data": {
      "image/png": "[encoded data removed]",
      "text/plain": [
       "<Figure size 432x288 with 1 Axes>"
      ]
     },
     "metadata": {
      "needs_background": "light"
     },
     "output_type": "display_data"
    }
   ],
   "source": [
    "games.pivot_table(index='year_of_release', values='name', aggfunc='count').plot()"
   ]
  },
  {
   "cell_type": "code",
   "execution_count": 21,
   "metadata": {},
   "outputs": [],
   "source": [
    "games = games.loc[games['year_of_release'] >= 1994]"
   ]
  },
  {
   "cell_type": "code",
   "execution_count": 22,
   "metadata": {},
   "outputs": [
    {
     "name": "stdout",
     "output_type": "stream",
     "text": [
      "<class 'pandas.core.frame.DataFrame'>\n",
      "Int64Index: 16079 entries, 0 to 16714\n",
      "Data columns (total 12 columns):\n",
      " #   Column           Non-Null Count  Dtype  \n",
      "---  ------           --------------  -----  \n",
      " 0   name             16079 non-null  object \n",
      " 1   platform         16079 non-null  object \n",
      " 2   year_of_release  16079 non-null  int64  \n",
      " 3   genre            16079 non-null  object \n",
      " 4   na_sales         16079 non-null  float64\n",
      " 5   eu_sales         16079 non-null  float64\n",
      " 6   jp_sales         16079 non-null  float64\n",
      " 7   other_sales      16079 non-null  float64\n",
      " 8   critic_score     16079 non-null  int64  \n",
      " 9   user_score       7460 non-null   float64\n",
      " 10  rating           16079 non-null  object \n",
      " 11  region_sales     16079 non-null  float64\n",
      "dtypes: float64(6), int64(2), object(4)\n",
      "memory usage: 1.6+ MB\n"
     ]
    }
   ],
   "source": [
    "games.info()"
   ]
  },
  {
   "cell_type": "markdown",
   "metadata": {},
   "source": [
    "Смотрим, какие платформы имели наибольшие продажи суммарно по регионам. На основании сводоной таблицы были выбран топ 6 платформ"
   ]
  },
  {
   "cell_type": "code",
   "execution_count": 23,
   "metadata": {},
   "outputs": [
    {
     "data": {
      "text/plain": [
       "<AxesSubplot:xlabel='platform'>"
      ]
     },
     "execution_count": 23,
     "metadata": {},
     "output_type": "execute_result"
    },
    {
     "data": {
      "image/png": "[encoded data removed]",
      "text/plain": [
       "<Figure size 432x288 with 1 Axes>"
      ]
     },
     "metadata": {
      "needs_background": "light"
     },
     "output_type": "display_data"
    }
   ],
   "source": [
    "platform_sales = games.pivot_table(index='platform', values='region_sales', aggfunc='sum')\n",
    "platform_sales = platform_sales.sort_values(by='region_sales', ascending=False)\n",
    "top6_platforms = platform_sales.head(6)\n",
    "top6_platforms.plot(kind='bar')"
   ]
  },
  {
   "cell_type": "code",
   "execution_count": 24,
   "metadata": {},
   "outputs": [],
   "source": [
    "games['region_sales'] = pd.to_numeric(games['region_sales'], errors='coerce', downcast='float')"
   ]
  },
  {
   "cell_type": "code",
   "execution_count": 25,
   "metadata": {},
   "outputs": [
    {
     "name": "stdout",
     "output_type": "stream",
     "text": [
      "['PS2', 'X360', 'PS3', 'Wii', 'DS', 'PS']\n"
     ]
    }
   ],
   "source": [
    "platforms = ['PS2', 'X360', 'PS3', 'Wii', 'DS', 'PS']\n",
    "print(platforms)"
   ]
  },
  {
   "cell_type": "markdown",
   "metadata": {},
   "source": [
    "Можно заметить, что некоторые платформы как бы сменяли друг друга, так, когда прожади PS падали, продажи PS2 начинали растит, аналогично происходило и с PS2 и DS. В 2005 года начали расти продажи у нескольких платформ: DS, Wii, X360 и PS3. Примерно с 2010 года продажи этих платформ стали падать."
   ]
  },
  {
   "cell_type": "code",
   "execution_count": 26,
   "metadata": {
    "scrolled": false
   },
   "outputs": [
    {
     "data": {
      "image/png": "[encoded data removed]",
      "text/plain": [
       "<Figure size 1080x504 with 1 Axes>"
      ]
     },
     "metadata": {
      "needs_background": "light"
     },
     "output_type": "display_data"
    }
   ],
   "source": [
    "games_top6 = games.query('platform in @platforms').pivot_table(index=['year_of_release'], columns=['platform'], values=['region_sales'], aggfunc='sum')\n",
    "games_top6.plot(figsize=(15, 7))\n",
    "plt.title('Продажи по всем регионам у топ-6 платформ', fontsize=(15))\n",
    "plt.xlabel('Год', fontsize=(10))\n",
    "plt.ylabel('Продажи', fontsize=(10))\n",
    "plt.show()"
   ]
  },
  {
   "cell_type": "markdown",
   "metadata": {},
   "source": [
    "Предположим, что актуальным будет период с 2014 года."
   ]
  },
  {
   "cell_type": "code",
   "execution_count": 27,
   "metadata": {},
   "outputs": [],
   "source": [
    "games_2014 = games.query('year_of_release > 2013')\n"
   ]
  },
  {
   "cell_type": "code",
   "execution_count": 28,
   "metadata": {},
   "outputs": [
    {
     "data": {
      "text/plain": [
       "array(['PS4', '3DS', 'XOne', 'WiiU', 'PS3', 'X360', 'PC', 'Wii', 'PSV',\n",
       "       'PSP'], dtype=object)"
      ]
     },
     "execution_count": 28,
     "metadata": {},
     "output_type": "execute_result"
    }
   ],
   "source": [
    "top_platforms_2014 = games_2014['platform'].value_counts() \n",
    "top_platforms_2014 = pd.to_numeric(top_platforms_2014, errors='coerce', downcast='float')\n",
    "platforms_2014 = games_2014['platform'].unique()\n",
    "platforms_2014"
   ]
  },
  {
   "cell_type": "markdown",
   "metadata": {},
   "source": [
    "Продажи PSP приблизились к 0 к 2015 году. В целом, продажи всех платформ сократились к 2016 году. \n",
    "В начале актуального периода по продажам лидировали PS4, продажи были примерно 80 млн копий, и XOne, продажи были примерно 50 млн копий. А с 2015 года данные платформы достаточно упали в продажах, примерно на 10 млн копий к 2016 году."
   ]
  },
  {
   "cell_type": "code",
   "execution_count": 29,
   "metadata": {},
   "outputs": [
    {
     "data": {
      "image/png": "[encoded data removed]",
      "text/plain": [
       "<Figure size 1080x504 with 1 Axes>"
      ]
     },
     "metadata": {
      "needs_background": "light"
     },
     "output_type": "display_data"
    }
   ],
   "source": [
    "top_games_2014 = games_2014.query('platform in @platforms_2014').pivot_table(index=['year_of_release'], columns=['platform'], values=['region_sales'], aggfunc='sum')\n",
    "top_games_2014.plot(figsize=(15, 7))\n",
    "plt.title('Продажи по всем регионам платформ c 2014 года', fontsize=(15))\n",
    "plt.xlabel('Год', fontsize=(10))\n",
    "plt.ylabel('Продажи', fontsize=(10))\n",
    "plt.legend(fontsize=(7))\n",
    "\n",
    "plt.show()"
   ]
  },
  {
   "cell_type": "code",
   "execution_count": 30,
   "metadata": {},
   "outputs": [],
   "source": [
    "five_platforms_2014 = games_2014.pivot_table(index='platform', values='region_sales', aggfunc='sum')\n",
    "five_platforms_2014 = five_platforms_2014.sort_values(by='region_sales', ascending=False).head(5)\n",
    "five_platforms_2014\n",
    "platforms_2014 = ['PS4', 'XOne', '3DS', 'PS3', 'X360']"
   ]
  },
  {
   "cell_type": "code",
   "execution_count": 31,
   "metadata": {},
   "outputs": [
    {
     "data": {
      "text/html": [
       "<div>\n",
       "<style scoped>\n",
       "    .dataframe tbody tr th:only-of-type {\n",
       "        vertical-align: middle;\n",
       "    }\n",
       "\n",
       "    .dataframe tbody tr th {\n",
       "        vertical-align: top;\n",
       "    }\n",
       "\n",
       "    .dataframe thead th {\n",
       "        text-align: right;\n",
       "    }\n",
       "</style>\n",
       "<table border=\"1\" class=\"dataframe\">\n",
       "  <thead>\n",
       "    <tr style=\"text-align: right;\">\n",
       "      <th></th>\n",
       "      <th>name</th>\n",
       "      <th>platform</th>\n",
       "      <th>year_of_release</th>\n",
       "      <th>genre</th>\n",
       "      <th>na_sales</th>\n",
       "      <th>eu_sales</th>\n",
       "      <th>jp_sales</th>\n",
       "      <th>other_sales</th>\n",
       "      <th>critic_score</th>\n",
       "      <th>user_score</th>\n",
       "      <th>rating</th>\n",
       "      <th>region_sales</th>\n",
       "    </tr>\n",
       "  </thead>\n",
       "  <tbody>\n",
       "    <tr>\n",
       "      <th>31</th>\n",
       "      <td>Call of Duty: Black Ops 3</td>\n",
       "      <td>PS4</td>\n",
       "      <td>2015</td>\n",
       "      <td>Shooter</td>\n",
       "      <td>6.03</td>\n",
       "      <td>5.86</td>\n",
       "      <td>0.36</td>\n",
       "      <td>2.38</td>\n",
       "      <td>-1</td>\n",
       "      <td>NaN</td>\n",
       "      <td>-1</td>\n",
       "      <td>14.63</td>\n",
       "    </tr>\n",
       "    <tr>\n",
       "      <th>42</th>\n",
       "      <td>Grand Theft Auto V</td>\n",
       "      <td>PS4</td>\n",
       "      <td>2014</td>\n",
       "      <td>Action</td>\n",
       "      <td>3.96</td>\n",
       "      <td>6.31</td>\n",
       "      <td>0.38</td>\n",
       "      <td>1.97</td>\n",
       "      <td>97</td>\n",
       "      <td>8.3</td>\n",
       "      <td>M</td>\n",
       "      <td>12.62</td>\n",
       "    </tr>\n",
       "    <tr>\n",
       "      <th>47</th>\n",
       "      <td>Pokemon Omega Ruby/Pokemon Alpha Sapphire</td>\n",
       "      <td>3DS</td>\n",
       "      <td>2014</td>\n",
       "      <td>Role-Playing</td>\n",
       "      <td>4.35</td>\n",
       "      <td>3.49</td>\n",
       "      <td>3.10</td>\n",
       "      <td>0.74</td>\n",
       "      <td>-1</td>\n",
       "      <td>NaN</td>\n",
       "      <td>-1</td>\n",
       "      <td>11.68</td>\n",
       "    </tr>\n",
       "    <tr>\n",
       "      <th>77</th>\n",
       "      <td>FIFA 16</td>\n",
       "      <td>PS4</td>\n",
       "      <td>2015</td>\n",
       "      <td>Sports</td>\n",
       "      <td>1.12</td>\n",
       "      <td>6.12</td>\n",
       "      <td>0.06</td>\n",
       "      <td>1.28</td>\n",
       "      <td>82</td>\n",
       "      <td>4.3</td>\n",
       "      <td>E</td>\n",
       "      <td>8.58</td>\n",
       "    </tr>\n",
       "    <tr>\n",
       "      <th>87</th>\n",
       "      <td>Star Wars Battlefront (2015)</td>\n",
       "      <td>PS4</td>\n",
       "      <td>2015</td>\n",
       "      <td>Shooter</td>\n",
       "      <td>2.99</td>\n",
       "      <td>3.49</td>\n",
       "      <td>0.22</td>\n",
       "      <td>1.28</td>\n",
       "      <td>-1</td>\n",
       "      <td>NaN</td>\n",
       "      <td>-1</td>\n",
       "      <td>7.98</td>\n",
       "    </tr>\n",
       "    <tr>\n",
       "      <th>...</th>\n",
       "      <td>...</td>\n",
       "      <td>...</td>\n",
       "      <td>...</td>\n",
       "      <td>...</td>\n",
       "      <td>...</td>\n",
       "      <td>...</td>\n",
       "      <td>...</td>\n",
       "      <td>...</td>\n",
       "      <td>...</td>\n",
       "      <td>...</td>\n",
       "      <td>...</td>\n",
       "      <td>...</td>\n",
       "    </tr>\n",
       "    <tr>\n",
       "      <th>16672</th>\n",
       "      <td>Metal Gear Solid V: The Definitive Experience</td>\n",
       "      <td>XOne</td>\n",
       "      <td>2016</td>\n",
       "      <td>Action</td>\n",
       "      <td>0.01</td>\n",
       "      <td>0.00</td>\n",
       "      <td>0.00</td>\n",
       "      <td>0.00</td>\n",
       "      <td>-1</td>\n",
       "      <td>NaN</td>\n",
       "      <td>M</td>\n",
       "      <td>0.01</td>\n",
       "    </tr>\n",
       "    <tr>\n",
       "      <th>16674</th>\n",
       "      <td>Tsukigime Ranko's Longest Day</td>\n",
       "      <td>PS3</td>\n",
       "      <td>2014</td>\n",
       "      <td>Action</td>\n",
       "      <td>0.00</td>\n",
       "      <td>0.01</td>\n",
       "      <td>0.00</td>\n",
       "      <td>0.00</td>\n",
       "      <td>-1</td>\n",
       "      <td>NaN</td>\n",
       "      <td>-1</td>\n",
       "      <td>0.01</td>\n",
       "    </tr>\n",
       "    <tr>\n",
       "      <th>16677</th>\n",
       "      <td>Aikatsu Stars! My Special Appeal</td>\n",
       "      <td>3DS</td>\n",
       "      <td>2016</td>\n",
       "      <td>Action</td>\n",
       "      <td>0.00</td>\n",
       "      <td>0.00</td>\n",
       "      <td>0.01</td>\n",
       "      <td>0.00</td>\n",
       "      <td>-1</td>\n",
       "      <td>NaN</td>\n",
       "      <td>-1</td>\n",
       "      <td>0.01</td>\n",
       "    </tr>\n",
       "    <tr>\n",
       "      <th>16691</th>\n",
       "      <td>Dynasty Warriors: Eiketsuden</td>\n",
       "      <td>PS3</td>\n",
       "      <td>2016</td>\n",
       "      <td>Action</td>\n",
       "      <td>0.00</td>\n",
       "      <td>0.00</td>\n",
       "      <td>0.01</td>\n",
       "      <td>0.00</td>\n",
       "      <td>-1</td>\n",
       "      <td>NaN</td>\n",
       "      <td>-1</td>\n",
       "      <td>0.01</td>\n",
       "    </tr>\n",
       "    <tr>\n",
       "      <th>16710</th>\n",
       "      <td>Samurai Warriors: Sanada Maru</td>\n",
       "      <td>PS3</td>\n",
       "      <td>2016</td>\n",
       "      <td>Action</td>\n",
       "      <td>0.00</td>\n",
       "      <td>0.00</td>\n",
       "      <td>0.01</td>\n",
       "      <td>0.00</td>\n",
       "      <td>-1</td>\n",
       "      <td>NaN</td>\n",
       "      <td>-1</td>\n",
       "      <td>0.01</td>\n",
       "    </tr>\n",
       "  </tbody>\n",
       "</table>\n",
       "<p>1146 rows × 12 columns</p>\n",
       "</div>"
      ],
      "text/plain": [
       "                                                name platform  \\\n",
       "31                         Call of Duty: Black Ops 3      PS4   \n",
       "42                                Grand Theft Auto V      PS4   \n",
       "47         Pokemon Omega Ruby/Pokemon Alpha Sapphire      3DS   \n",
       "77                                           FIFA 16      PS4   \n",
       "87                      Star Wars Battlefront (2015)      PS4   \n",
       "...                                              ...      ...   \n",
       "16672  Metal Gear Solid V: The Definitive Experience     XOne   \n",
       "16674                  Tsukigime Ranko's Longest Day      PS3   \n",
       "16677               Aikatsu Stars! My Special Appeal      3DS   \n",
       "16691                   Dynasty Warriors: Eiketsuden      PS3   \n",
       "16710                  Samurai Warriors: Sanada Maru      PS3   \n",
       "\n",
       "       year_of_release         genre  na_sales  eu_sales  jp_sales  \\\n",
       "31                2015       Shooter      6.03      5.86      0.36   \n",
       "42                2014        Action      3.96      6.31      0.38   \n",
       "47                2014  Role-Playing      4.35      3.49      3.10   \n",
       "77                2015        Sports      1.12      6.12      0.06   \n",
       "87                2015       Shooter      2.99      3.49      0.22   \n",
       "...                ...           ...       ...       ...       ...   \n",
       "16672             2016        Action      0.01      0.00      0.00   \n",
       "16674             2014        Action      0.00      0.01      0.00   \n",
       "16677             2016        Action      0.00      0.00      0.01   \n",
       "16691             2016        Action      0.00      0.00      0.01   \n",
       "16710             2016        Action      0.00      0.00      0.01   \n",
       "\n",
       "       other_sales  critic_score  user_score rating  region_sales  \n",
       "31            2.38            -1         NaN     -1         14.63  \n",
       "42            1.97            97         8.3      M         12.62  \n",
       "47            0.74            -1         NaN     -1         11.68  \n",
       "77            1.28            82         4.3      E          8.58  \n",
       "87            1.28            -1         NaN     -1          7.98  \n",
       "...            ...           ...         ...    ...           ...  \n",
       "16672         0.00            -1         NaN      M          0.01  \n",
       "16674         0.00            -1         NaN     -1          0.01  \n",
       "16677         0.00            -1         NaN     -1          0.01  \n",
       "16691         0.00            -1         NaN     -1          0.01  \n",
       "16710         0.00            -1         NaN     -1          0.01  \n",
       "\n",
       "[1146 rows x 12 columns]"
      ]
     },
     "execution_count": 31,
     "metadata": {},
     "output_type": "execute_result"
    }
   ],
   "source": [
    "top_5_platforms_2014 = games_2014.query('platform in @platforms_2014')\n",
    "top_5_platforms_2014"
   ]
  },
  {
   "cell_type": "code",
   "execution_count": 32,
   "metadata": {},
   "outputs": [
    {
     "data": {
      "text/plain": [
       "Text(0, 0.5, 'Продажи')"
      ]
     },
     "execution_count": 32,
     "metadata": {},
     "output_type": "execute_result"
    },
    {
     "data": {
      "image/png": "[encoded data removed]",
      "text/plain": [
       "<Figure size 1440x720 with 1 Axes>"
      ]
     },
     "metadata": {
      "needs_background": "light"
     },
     "output_type": "display_data"
    }
   ],
   "source": [
    "plt.figure(figsize=(20,10))\n",
    "sns.boxplot(data=games_2014, x='platform', y='region_sales')\n",
    "plt.title('\"Ящик с усами\" по глобальным продажам', fontsize=(15))\n",
    "plt.xlabel('Платформа', fontsize=(10))\n",
    "plt.ylabel('Продажи', fontsize=(10))\n"
   ]
  },
  {
   "cell_type": "code",
   "execution_count": 33,
   "metadata": {},
   "outputs": [
    {
     "data": {
      "text/plain": [
       "(0.0, 0.8)"
      ]
     },
     "execution_count": 33,
     "metadata": {},
     "output_type": "execute_result"
    },
    {
     "data": {
      "image/png": "[encoded data removed]",
      "text/plain": [
       "<Figure size 1440x720 with 1 Axes>"
      ]
     },
     "metadata": {
      "needs_background": "light"
     },
     "output_type": "display_data"
    }
   ],
   "source": [
    "plt.figure(figsize=(20,10))\n",
    "sns.boxplot(data=games_2014, x='platform', y='region_sales')\n",
    "plt.title('\"Ящик с усами\" по глобальным продажам', fontsize=(15))\n",
    "plt.xlabel('Платформа', fontsize=(10))\n",
    "plt.ylabel('Продажи', fontsize=(10))\n",
    "plt.ylim([0, 0.8])"
   ]
  },
  {
   "cell_type": "markdown",
   "metadata": {},
   "source": [
    "Данные о продажах не симметричны, также в них имеются выбросы. Медианной значение у платформ PS4, XOne, WiiU, X360, Wii примерно равно 200 тысячам копий, для остальных оно находится примерно на уровне 100 тыс копий. Верхний предел продаж наивысший у PS4 и Wii. У PS4 и X360 самый большой разрыв между нижним квартилем и нижней границей. Большинство значений располагаются над медианой. Распределение смещено вправо."
   ]
  },
  {
   "cell_type": "markdown",
   "metadata": {},
   "source": [
    "Сложно говорить о связи отзывов критиков и продажами игр для платформы PS4, т.к. достаточно игр с оценками выше 60 имеют продажи приближающиеся к нулю. \n"
   ]
  },
  {
   "cell_type": "code",
   "execution_count": 34,
   "metadata": {},
   "outputs": [
    {
     "data": {
      "text/plain": [
       "0.4026614122246821"
      ]
     },
     "execution_count": 34,
     "metadata": {},
     "output_type": "execute_result"
    },
    {
     "data": {
      "image/png": "[encoded data removed]",
      "text/plain": [
       "<Figure size 1080x432 with 1 Axes>"
      ]
     },
     "metadata": {
      "needs_background": "light"
     },
     "output_type": "display_data"
    }
   ],
   "source": [
    "games_2014_ps4 = games_2014.query('platform == \"PS4\"')\n",
    "games_2014_fltd = games_2014_ps4.query('critic_score > 0')\n",
    "games_2014_fltd.plot(figsize=(15,6), kind='scatter', x='critic_score', y='region_sales')\n",
    "plt.title('Отзывы критиков и продажи')\n",
    "\n",
    "games_2014_fltd.query('platform == \"PS4\"')['critic_score'].corr(games_2014_fltd.query('platform == \"PS4\"')['region_sales'])"
   ]
  },
  {
   "cell_type": "code",
   "execution_count": 35,
   "metadata": {},
   "outputs": [
    {
     "data": {
      "text/plain": [
       "-0.04013158815891951"
      ]
     },
     "execution_count": 35,
     "metadata": {},
     "output_type": "execute_result"
    },
    {
     "data": {
      "image/png": "[encoded data removed]",
      "text/plain": [
       "<Figure size 1080x432 with 1 Axes>"
      ]
     },
     "metadata": {
      "needs_background": "light"
     },
     "output_type": "display_data"
    }
   ],
   "source": [
    "games_2014.query('platform == \"PS4\"').plot(figsize=(15,6), kind='scatter', x='user_score', y='region_sales')\n",
    "plt.title('Отзывы пользователей и продажи')\n",
    "\n",
    "games_2014.query('platform == \"PS4\"')['user_score'].corr(games_2014.query('platform == \"PS4\"')['region_sales'])"
   ]
  },
  {
   "cell_type": "code",
   "execution_count": 36,
   "metadata": {},
   "outputs": [
    {
     "data": {
      "text/plain": [
       "-0.013070307681861373"
      ]
     },
     "execution_count": 36,
     "metadata": {},
     "output_type": "execute_result"
    },
    {
     "data": {
      "image/png": "[encoded data removed]",
      "text/plain": [
       "<Figure size 1080x432 with 1 Axes>"
      ]
     },
     "metadata": {
      "needs_background": "light"
     },
     "output_type": "display_data"
    }
   ],
   "source": [
    "games_2014.plot(figsize=(15,6), kind='scatter', x='user_score', y='region_sales')\n",
    "games_2014['user_score'].corr(games_2014['region_sales'])"
   ]
  },
  {
   "cell_type": "markdown",
   "metadata": {},
   "source": [
    "Корреляция крайне слабая, и она отрицательная, то есть чем ниже оценка пользователей, тем выше будут продажи. Но по графику все-таки заметно, что с ростом оценок пользователей продажи игр растут."
   ]
  },
  {
   "cell_type": "code",
   "execution_count": 37,
   "metadata": {},
   "outputs": [
    {
     "data": {
      "text/plain": [
       "<AxesSubplot:xlabel='critic_score', ylabel='region_sales'>"
      ]
     },
     "execution_count": 37,
     "metadata": {},
     "output_type": "execute_result"
    },
    {
     "data": {
      "image/png": "[encoded data removed]",
      "text/plain": [
       "<Figure size 1080x432 with 1 Axes>"
      ]
     },
     "metadata": {
      "needs_background": "light"
     },
     "output_type": "display_data"
    }
   ],
   "source": [
    "games_2014_all_platforms = games_2014.query('critic_score > 0')\n",
    "games_2014_all_platforms.query('platform == platform')['critic_score'].corr(games_2014_all_platforms.query('platform == platform')['region_sales'])\n",
    "games_2014_all_platforms.plot(figsize=(15,6), kind='scatter', x='critic_score', y='region_sales')\n"
   ]
  },
  {
   "cell_type": "markdown",
   "metadata": {},
   "source": [
    "Если посмотреть на распределение продаж относительно оценок критиков или оценок пользователей по всем платформам, то прослеживается тот же вывод, что и отдельно для PS4."
   ]
  },
  {
   "cell_type": "code",
   "execution_count": 38,
   "metadata": {},
   "outputs": [
    {
     "data": {
      "text/html": [
       "<div>\n",
       "<style scoped>\n",
       "    .dataframe tbody tr th:only-of-type {\n",
       "        vertical-align: middle;\n",
       "    }\n",
       "\n",
       "    .dataframe tbody tr th {\n",
       "        vertical-align: top;\n",
       "    }\n",
       "\n",
       "    .dataframe thead th {\n",
       "        text-align: right;\n",
       "    }\n",
       "</style>\n",
       "<table border=\"1\" class=\"dataframe\">\n",
       "  <thead>\n",
       "    <tr style=\"text-align: right;\">\n",
       "      <th></th>\n",
       "      <th>region_sales</th>\n",
       "      <th>critic_score</th>\n",
       "      <th>user_score</th>\n",
       "    </tr>\n",
       "  </thead>\n",
       "  <tbody>\n",
       "    <tr>\n",
       "      <th>region_sales</th>\n",
       "      <td>1.000000</td>\n",
       "      <td>0.428677</td>\n",
       "      <td>-0.091734</td>\n",
       "    </tr>\n",
       "    <tr>\n",
       "      <th>critic_score</th>\n",
       "      <td>0.428677</td>\n",
       "      <td>1.000000</td>\n",
       "      <td>0.440977</td>\n",
       "    </tr>\n",
       "    <tr>\n",
       "      <th>user_score</th>\n",
       "      <td>-0.091734</td>\n",
       "      <td>0.440977</td>\n",
       "      <td>1.000000</td>\n",
       "    </tr>\n",
       "  </tbody>\n",
       "</table>\n",
       "</div>"
      ],
      "text/plain": [
       "              region_sales  critic_score  user_score\n",
       "region_sales      1.000000      0.428677   -0.091734\n",
       "critic_score      0.428677      1.000000    0.440977\n",
       "user_score       -0.091734      0.440977    1.000000"
      ]
     },
     "metadata": {},
     "output_type": "display_data"
    },
    {
     "data": {
      "image/png": "[encoded data removed]",
      "text/plain": [
       "<Figure size 1080x432 with 1 Axes>"
      ]
     },
     "metadata": {
      "needs_background": "light"
     },
     "output_type": "display_data"
    },
    {
     "data": {
      "image/png": "[encoded data removed]",
      "text/plain": [
       "<Figure size 1080x432 with 1 Axes>"
      ]
     },
     "metadata": {
      "needs_background": "light"
     },
     "output_type": "display_data"
    }
   ],
   "source": [
    "def score(platform):\n",
    "    temp = games_2014_all_platforms[games_2014_all_platforms['platform'] == platform]\n",
    "    temp.index = temp.index.astype('int')\n",
    "    temp[['region_sales', 'critic_score', 'user_score']].corr()\n",
    "    temp.plot(figsize=(15,6), kind='scatter', x='critic_score', y='region_sales')\n",
    "    temp.plot(figsize=(15,6), kind='scatter', x='user_score', y='region_sales')\n",
    "    display(temp[['region_sales', 'critic_score', 'user_score']].corr())\n",
    "\n",
    "score('XOne')"
   ]
  },
  {
   "cell_type": "code",
   "execution_count": 39,
   "metadata": {},
   "outputs": [
    {
     "data": {
      "text/html": [
       "<div>\n",
       "<style scoped>\n",
       "    .dataframe tbody tr th:only-of-type {\n",
       "        vertical-align: middle;\n",
       "    }\n",
       "\n",
       "    .dataframe tbody tr th {\n",
       "        vertical-align: top;\n",
       "    }\n",
       "\n",
       "    .dataframe thead th {\n",
       "        text-align: right;\n",
       "    }\n",
       "</style>\n",
       "<table border=\"1\" class=\"dataframe\">\n",
       "  <thead>\n",
       "    <tr style=\"text-align: right;\">\n",
       "      <th></th>\n",
       "      <th>region_sales</th>\n",
       "      <th>critic_score</th>\n",
       "      <th>user_score</th>\n",
       "    </tr>\n",
       "  </thead>\n",
       "  <tbody>\n",
       "    <tr>\n",
       "      <th>region_sales</th>\n",
       "      <td>1.000000</td>\n",
       "      <td>0.314117</td>\n",
       "      <td>0.279850</td>\n",
       "    </tr>\n",
       "    <tr>\n",
       "      <th>critic_score</th>\n",
       "      <td>0.314117</td>\n",
       "      <td>1.000000</td>\n",
       "      <td>0.862485</td>\n",
       "    </tr>\n",
       "    <tr>\n",
       "      <th>user_score</th>\n",
       "      <td>0.279850</td>\n",
       "      <td>0.862485</td>\n",
       "      <td>1.000000</td>\n",
       "    </tr>\n",
       "  </tbody>\n",
       "</table>\n",
       "</div>"
      ],
      "text/plain": [
       "              region_sales  critic_score  user_score\n",
       "region_sales      1.000000      0.314117    0.279850\n",
       "critic_score      0.314117      1.000000    0.862485\n",
       "user_score        0.279850      0.862485    1.000000"
      ]
     },
     "metadata": {},
     "output_type": "display_data"
    },
    {
     "data": {
      "image/png": "[encoded data removed]",
      "text/plain": [
       "<Figure size 1080x432 with 1 Axes>"
      ]
     },
     "metadata": {
      "needs_background": "light"
     },
     "output_type": "display_data"
    },
    {
     "data": {
      "image/png": "[encoded data removed]",
      "text/plain": [
       "<Figure size 1080x432 with 1 Axes>"
      ]
     },
     "metadata": {
      "needs_background": "light"
     },
     "output_type": "display_data"
    }
   ],
   "source": [
    "score('3DS')"
   ]
  },
  {
   "cell_type": "code",
   "execution_count": 40,
   "metadata": {},
   "outputs": [
    {
     "data": {
      "text/html": [
       "<div>\n",
       "<style scoped>\n",
       "    .dataframe tbody tr th:only-of-type {\n",
       "        vertical-align: middle;\n",
       "    }\n",
       "\n",
       "    .dataframe tbody tr th {\n",
       "        vertical-align: top;\n",
       "    }\n",
       "\n",
       "    .dataframe thead th {\n",
       "        text-align: right;\n",
       "    }\n",
       "</style>\n",
       "<table border=\"1\" class=\"dataframe\">\n",
       "  <thead>\n",
       "    <tr style=\"text-align: right;\">\n",
       "      <th></th>\n",
       "      <th>region_sales</th>\n",
       "      <th>critic_score</th>\n",
       "      <th>user_score</th>\n",
       "    </tr>\n",
       "  </thead>\n",
       "  <tbody>\n",
       "    <tr>\n",
       "      <th>region_sales</th>\n",
       "      <td>1.000000</td>\n",
       "      <td>0.525723</td>\n",
       "      <td>0.336514</td>\n",
       "    </tr>\n",
       "    <tr>\n",
       "      <th>critic_score</th>\n",
       "      <td>0.525723</td>\n",
       "      <td>1.000000</td>\n",
       "      <td>0.625309</td>\n",
       "    </tr>\n",
       "    <tr>\n",
       "      <th>user_score</th>\n",
       "      <td>0.336514</td>\n",
       "      <td>0.625309</td>\n",
       "      <td>1.000000</td>\n",
       "    </tr>\n",
       "  </tbody>\n",
       "</table>\n",
       "</div>"
      ],
      "text/plain": [
       "              region_sales  critic_score  user_score\n",
       "region_sales      1.000000      0.525723    0.336514\n",
       "critic_score      0.525723      1.000000    0.625309\n",
       "user_score        0.336514      0.625309    1.000000"
      ]
     },
     "metadata": {},
     "output_type": "display_data"
    },
    {
     "data": {
      "image/png": "[encoded data removed]",
      "text/plain": [
       "<Figure size 1080x432 with 1 Axes>"
      ]
     },
     "metadata": {
      "needs_background": "light"
     },
     "output_type": "display_data"
    },
    {
     "data": {
      "image/png": "[encoded data removed]",
      "text/plain": [
       "<Figure size 1080x432 with 1 Axes>"
      ]
     },
     "metadata": {
      "needs_background": "light"
     },
     "output_type": "display_data"
    }
   ],
   "source": [
    "score('X360')"
   ]
  },
  {
   "cell_type": "markdown",
   "metadata": {},
   "source": [
    "Корреляция для других платформ, которые имели одни из самых высоких показателей продаж по регионам, достаточно слабые. Тем не менее у платформ, кроме X360, заметна та же тенденция, что у PS4, опираясь на графики можно сделать вывод, что все-таки продажи связаны с оценками, так как заметно, что с ростом оценки, увеличивается и кол-во проданных копий.\n",
    "У платформы X360 между оценками пользователей и критиков и продажами не прослеживается взаимосвязи.\n"
   ]
  },
  {
   "cell_type": "code",
   "execution_count": 41,
   "metadata": {},
   "outputs": [
    {
     "data": {
      "text/plain": [
       "<AxesSubplot:xlabel='genre'>"
      ]
     },
     "execution_count": 41,
     "metadata": {},
     "output_type": "execute_result"
    },
    {
     "data": {
      "image/png": "[encoded data removed]",
      "text/plain": [
       "<Figure size 432x288 with 1 Axes>"
      ]
     },
     "metadata": {
      "needs_background": "light"
     },
     "output_type": "display_data"
    }
   ],
   "source": [
    "games_2014.pivot_table(index='genre', values='region_sales', aggfunc='sum').plot(kind='bar')"
   ]
  },
  {
   "cell_type": "markdown",
   "metadata": {},
   "source": [
    "Среди продаж с большим отрывом лидирует жанры \"action\" и \"shooter\", самыми менее продаваемыми являются \"strategy\" и \"puzzle\""
   ]
  },
  {
   "cell_type": "code",
   "execution_count": 42,
   "metadata": {
    "scrolled": false
   },
   "outputs": [
    {
     "data": {
      "image/png": "[encoded data removed]",
      "text/plain": [
       "<Figure size 1440x720 with 4 Axes>"
      ]
     },
     "metadata": {
      "needs_background": "light"
     },
     "output_type": "display_data"
    }
   ],
   "source": [
    "def genre_stat (game_genre, ax): \n",
    "    games_2014.groupby('genre')[game_genre].median().plot(ax=ax, kind='bar')\n",
    "game_genre = ['na_sales', 'jp_sales', 'eu_sales', 'other_sales']\n",
    "fig, ax = plt.subplots(nrows=1, ncols=4, figsize=(20, 10))\n",
    "fig.suptitle('Показатели продаж по жанрам')\n",
    "for i in range(len(ax)):    \n",
    "    genre_stat(game_genre[i], ax[i])"
   ]
  },
  {
   "cell_type": "markdown",
   "metadata": {},
   "source": [
    "Если рассматривать продажи по жанрам отдельно для каждого региона, то, во-первых, можно отметить, что по продаже некоторых жанров в регионах отсутсвуют данные. \n",
    "В Японии наиболее популярным жанром является \"role-playing\", во всех остальных \"shooter\""
   ]
  },
  {
   "cell_type": "markdown",
   "metadata": {},
   "source": [
    "## Портреты пользователей каждого региона"
   ]
  },
  {
   "cell_type": "code",
   "execution_count": 43,
   "metadata": {},
   "outputs": [
    {
     "data": {
      "text/html": [
       "<div>\n",
       "<style scoped>\n",
       "    .dataframe tbody tr th:only-of-type {\n",
       "        vertical-align: middle;\n",
       "    }\n",
       "\n",
       "    .dataframe tbody tr th {\n",
       "        vertical-align: top;\n",
       "    }\n",
       "\n",
       "    .dataframe thead th {\n",
       "        text-align: right;\n",
       "    }\n",
       "</style>\n",
       "<table border=\"1\" class=\"dataframe\">\n",
       "  <thead>\n",
       "    <tr style=\"text-align: right;\">\n",
       "      <th></th>\n",
       "      <th>platform</th>\n",
       "      <th>na_sales</th>\n",
       "    </tr>\n",
       "  </thead>\n",
       "  <tbody>\n",
       "    <tr>\n",
       "      <th>3</th>\n",
       "      <td>PS4</td>\n",
       "      <td>98.61</td>\n",
       "    </tr>\n",
       "    <tr>\n",
       "      <th>9</th>\n",
       "      <td>XOne</td>\n",
       "      <td>81.27</td>\n",
       "    </tr>\n",
       "    <tr>\n",
       "      <th>8</th>\n",
       "      <td>X360</td>\n",
       "      <td>28.30</td>\n",
       "    </tr>\n",
       "    <tr>\n",
       "      <th>0</th>\n",
       "      <td>3DS</td>\n",
       "      <td>22.64</td>\n",
       "    </tr>\n",
       "    <tr>\n",
       "      <th>2</th>\n",
       "      <td>PS3</td>\n",
       "      <td>22.05</td>\n",
       "    </tr>\n",
       "    <tr>\n",
       "      <th>7</th>\n",
       "      <td>WiiU</td>\n",
       "      <td>19.36</td>\n",
       "    </tr>\n",
       "    <tr>\n",
       "      <th>1</th>\n",
       "      <td>PC</td>\n",
       "      <td>7.23</td>\n",
       "    </tr>\n",
       "    <tr>\n",
       "      <th>5</th>\n",
       "      <td>PSV</td>\n",
       "      <td>2.52</td>\n",
       "    </tr>\n",
       "    <tr>\n",
       "      <th>6</th>\n",
       "      <td>Wii</td>\n",
       "      <td>2.08</td>\n",
       "    </tr>\n",
       "    <tr>\n",
       "      <th>4</th>\n",
       "      <td>PSP</td>\n",
       "      <td>0.00</td>\n",
       "    </tr>\n",
       "  </tbody>\n",
       "</table>\n",
       "</div>"
      ],
      "text/plain": [
       "  platform  na_sales\n",
       "3      PS4     98.61\n",
       "9     XOne     81.27\n",
       "8     X360     28.30\n",
       "0      3DS     22.64\n",
       "2      PS3     22.05\n",
       "7     WiiU     19.36\n",
       "1       PC      7.23\n",
       "5      PSV      2.52\n",
       "6      Wii      2.08\n",
       "4      PSP      0.00"
      ]
     },
     "execution_count": 43,
     "metadata": {},
     "output_type": "execute_result"
    }
   ],
   "source": [
    "na_platforms = games_2014.pivot_table(index='platform', values='na_sales', aggfunc='sum').reset_index()\\\n",
    ".sort_values(by='na_sales', ascending=False)\n",
    "na_platforms"
   ]
  },
  {
   "cell_type": "code",
   "execution_count": 44,
   "metadata": {
    "scrolled": false
   },
   "outputs": [
    {
     "data": {
      "text/plain": [
       "Text(0.5, 1.0, 'Japan')"
      ]
     },
     "execution_count": 44,
     "metadata": {},
     "output_type": "execute_result"
    },
    {
     "data": {
      "image/png": "[encoded data removed]",
      "text/plain": [
       "<Figure size 1440x1080 with 4 Axes>"
      ]
     },
     "metadata": {
      "needs_background": "light"
     },
     "output_type": "display_data"
    }
   ],
   "source": [
    "na_platforms = games_2014.pivot_table(index='platform', values='na_sales', aggfunc='sum').reset_index()\\\n",
    ".sort_values(by='na_sales', ascending=False)\n",
    "\n",
    "eu_platforms = games_2014.pivot_table(index='platform', values='eu_sales', aggfunc='sum').reset_index()\\\n",
    ".sort_values(by='eu_sales', ascending=False)\n",
    "\n",
    "jp_platforms = games_2014.pivot_table(index='platform', values='jp_sales', aggfunc='sum').reset_index()\\\n",
    ".sort_values(by='jp_sales', ascending=False)\n",
    "fig, ax = plt.subplots(figsize=(20,15))\n",
    "ax1 = fig.add_subplot(131)\n",
    "ax2 = fig.add_subplot(132)\n",
    "ax3 = fig.add_subplot(133)\n",
    "ax1.pie(data=na_platforms, x='na_sales', autopct='%.2f%%', labels = na_platforms['platform'])\n",
    "ax2.pie(data=eu_platforms, x='eu_sales', autopct='%.2f%%', labels = eu_platforms['platform'])\n",
    "ax3.pie(data=jp_platforms, x='jp_sales', autopct='%.2f%%', labels = jp_platforms['platform'])\n",
    "plt.suptitle('Продажи по регионам', fontsize=(15))\n",
    "ax1.set_title('North America')\n",
    "ax2.set_title('Europe')\n",
    "ax3.set_title('Japan')"
   ]
  },
  {
   "cell_type": "markdown",
   "metadata": {},
   "source": [
    "По графику можно увидеть, что большая часть продаж в Северной Америке и Европе принадлежит PS4, в Северной Америке ее доля составляет почти 35%, а в Европе 48%. Второе место в Северной Америке и Европе занимает XOne (28,6% и 17%). В Японии с большим отрывом лидирует платформа 3DS, ее продажи примерно равны 48% от общего кол-ва, далее идут PS4, PSV, PS3, но их кол-во не достигает и 20%."
   ]
  },
  {
   "cell_type": "code",
   "execution_count": 45,
   "metadata": {},
   "outputs": [
    {
     "data": {
      "text/html": [
       "<div>\n",
       "<style scoped>\n",
       "    .dataframe tbody tr th:only-of-type {\n",
       "        vertical-align: middle;\n",
       "    }\n",
       "\n",
       "    .dataframe tbody tr th {\n",
       "        vertical-align: top;\n",
       "    }\n",
       "\n",
       "    .dataframe thead th {\n",
       "        text-align: right;\n",
       "    }\n",
       "</style>\n",
       "<table border=\"1\" class=\"dataframe\">\n",
       "  <thead>\n",
       "    <tr style=\"text-align: right;\">\n",
       "      <th></th>\n",
       "      <th>genre</th>\n",
       "      <th>na_sales</th>\n",
       "    </tr>\n",
       "  </thead>\n",
       "  <tbody>\n",
       "    <tr>\n",
       "      <th>8</th>\n",
       "      <td>Shooter</td>\n",
       "      <td>79.02</td>\n",
       "    </tr>\n",
       "    <tr>\n",
       "      <th>0</th>\n",
       "      <td>Action</td>\n",
       "      <td>72.53</td>\n",
       "    </tr>\n",
       "    <tr>\n",
       "      <th>10</th>\n",
       "      <td>Sports</td>\n",
       "      <td>46.13</td>\n",
       "    </tr>\n",
       "    <tr>\n",
       "      <th>7</th>\n",
       "      <td>Role-Playing</td>\n",
       "      <td>33.47</td>\n",
       "    </tr>\n",
       "    <tr>\n",
       "      <th>3</th>\n",
       "      <td>Misc</td>\n",
       "      <td>15.05</td>\n",
       "    </tr>\n",
       "    <tr>\n",
       "      <th>2</th>\n",
       "      <td>Fighting</td>\n",
       "      <td>12.43</td>\n",
       "    </tr>\n",
       "    <tr>\n",
       "      <th>6</th>\n",
       "      <td>Racing</td>\n",
       "      <td>8.74</td>\n",
       "    </tr>\n",
       "    <tr>\n",
       "      <th>4</th>\n",
       "      <td>Platform</td>\n",
       "      <td>6.79</td>\n",
       "    </tr>\n",
       "    <tr>\n",
       "      <th>1</th>\n",
       "      <td>Adventure</td>\n",
       "      <td>5.64</td>\n",
       "    </tr>\n",
       "    <tr>\n",
       "      <th>9</th>\n",
       "      <td>Simulation</td>\n",
       "      <td>2.63</td>\n",
       "    </tr>\n",
       "    <tr>\n",
       "      <th>11</th>\n",
       "      <td>Strategy</td>\n",
       "      <td>0.98</td>\n",
       "    </tr>\n",
       "    <tr>\n",
       "      <th>5</th>\n",
       "      <td>Puzzle</td>\n",
       "      <td>0.65</td>\n",
       "    </tr>\n",
       "  </tbody>\n",
       "</table>\n",
       "</div>"
      ],
      "text/plain": [
       "           genre  na_sales\n",
       "8        Shooter     79.02\n",
       "0         Action     72.53\n",
       "10        Sports     46.13\n",
       "7   Role-Playing     33.47\n",
       "3           Misc     15.05\n",
       "2       Fighting     12.43\n",
       "6         Racing      8.74\n",
       "4       Platform      6.79\n",
       "1      Adventure      5.64\n",
       "9     Simulation      2.63\n",
       "11      Strategy      0.98\n",
       "5         Puzzle      0.65"
      ]
     },
     "execution_count": 45,
     "metadata": {},
     "output_type": "execute_result"
    }
   ],
   "source": [
    "na_genre = games_2014.pivot_table(index='genre', values='na_sales', aggfunc='sum').reset_index()\\\n",
    ".sort_values(by='na_sales', ascending=False)\n",
    "na_genre "
   ]
  },
  {
   "cell_type": "code",
   "execution_count": 46,
   "metadata": {},
   "outputs": [
    {
     "data": {
      "text/html": [
       "<div>\n",
       "<style scoped>\n",
       "    .dataframe tbody tr th:only-of-type {\n",
       "        vertical-align: middle;\n",
       "    }\n",
       "\n",
       "    .dataframe tbody tr th {\n",
       "        vertical-align: top;\n",
       "    }\n",
       "\n",
       "    .dataframe thead th {\n",
       "        text-align: right;\n",
       "    }\n",
       "</style>\n",
       "<table border=\"1\" class=\"dataframe\">\n",
       "  <thead>\n",
       "    <tr style=\"text-align: right;\">\n",
       "      <th></th>\n",
       "      <th>genre</th>\n",
       "      <th>eu_sales</th>\n",
       "    </tr>\n",
       "  </thead>\n",
       "  <tbody>\n",
       "    <tr>\n",
       "      <th>0</th>\n",
       "      <td>Action</td>\n",
       "      <td>74.68</td>\n",
       "    </tr>\n",
       "    <tr>\n",
       "      <th>8</th>\n",
       "      <td>Shooter</td>\n",
       "      <td>65.52</td>\n",
       "    </tr>\n",
       "    <tr>\n",
       "      <th>10</th>\n",
       "      <td>Sports</td>\n",
       "      <td>45.73</td>\n",
       "    </tr>\n",
       "    <tr>\n",
       "      <th>7</th>\n",
       "      <td>Role-Playing</td>\n",
       "      <td>28.17</td>\n",
       "    </tr>\n",
       "    <tr>\n",
       "      <th>6</th>\n",
       "      <td>Racing</td>\n",
       "      <td>14.13</td>\n",
       "    </tr>\n",
       "    <tr>\n",
       "      <th>3</th>\n",
       "      <td>Misc</td>\n",
       "      <td>12.86</td>\n",
       "    </tr>\n",
       "    <tr>\n",
       "      <th>9</th>\n",
       "      <td>Simulation</td>\n",
       "      <td>7.30</td>\n",
       "    </tr>\n",
       "    <tr>\n",
       "      <th>4</th>\n",
       "      <td>Platform</td>\n",
       "      <td>6.80</td>\n",
       "    </tr>\n",
       "    <tr>\n",
       "      <th>2</th>\n",
       "      <td>Fighting</td>\n",
       "      <td>6.69</td>\n",
       "    </tr>\n",
       "    <tr>\n",
       "      <th>1</th>\n",
       "      <td>Adventure</td>\n",
       "      <td>6.49</td>\n",
       "    </tr>\n",
       "    <tr>\n",
       "      <th>11</th>\n",
       "      <td>Strategy</td>\n",
       "      <td>1.79</td>\n",
       "    </tr>\n",
       "    <tr>\n",
       "      <th>5</th>\n",
       "      <td>Puzzle</td>\n",
       "      <td>0.52</td>\n",
       "    </tr>\n",
       "  </tbody>\n",
       "</table>\n",
       "</div>"
      ],
      "text/plain": [
       "           genre  eu_sales\n",
       "0         Action     74.68\n",
       "8        Shooter     65.52\n",
       "10        Sports     45.73\n",
       "7   Role-Playing     28.17\n",
       "6         Racing     14.13\n",
       "3           Misc     12.86\n",
       "9     Simulation      7.30\n",
       "4       Platform      6.80\n",
       "2       Fighting      6.69\n",
       "1      Adventure      6.49\n",
       "11      Strategy      1.79\n",
       "5         Puzzle      0.52"
      ]
     },
     "execution_count": 46,
     "metadata": {},
     "output_type": "execute_result"
    }
   ],
   "source": [
    "eu_genre = games_2014.pivot_table(index='genre', values='eu_sales', aggfunc='sum').reset_index()\\\n",
    ".sort_values(by='eu_sales', ascending=False)\n",
    "eu_genre"
   ]
  },
  {
   "cell_type": "code",
   "execution_count": 47,
   "metadata": {},
   "outputs": [
    {
     "data": {
      "text/html": [
       "<div>\n",
       "<style scoped>\n",
       "    .dataframe tbody tr th:only-of-type {\n",
       "        vertical-align: middle;\n",
       "    }\n",
       "\n",
       "    .dataframe tbody tr th {\n",
       "        vertical-align: top;\n",
       "    }\n",
       "\n",
       "    .dataframe thead th {\n",
       "        text-align: right;\n",
       "    }\n",
       "</style>\n",
       "<table border=\"1\" class=\"dataframe\">\n",
       "  <thead>\n",
       "    <tr style=\"text-align: right;\">\n",
       "      <th></th>\n",
       "      <th>genre</th>\n",
       "      <th>jp_sales</th>\n",
       "    </tr>\n",
       "  </thead>\n",
       "  <tbody>\n",
       "    <tr>\n",
       "      <th>7</th>\n",
       "      <td>Role-Playing</td>\n",
       "      <td>31.16</td>\n",
       "    </tr>\n",
       "    <tr>\n",
       "      <th>0</th>\n",
       "      <td>Action</td>\n",
       "      <td>29.58</td>\n",
       "    </tr>\n",
       "    <tr>\n",
       "      <th>2</th>\n",
       "      <td>Fighting</td>\n",
       "      <td>6.37</td>\n",
       "    </tr>\n",
       "    <tr>\n",
       "      <th>3</th>\n",
       "      <td>Misc</td>\n",
       "      <td>5.61</td>\n",
       "    </tr>\n",
       "    <tr>\n",
       "      <th>8</th>\n",
       "      <td>Shooter</td>\n",
       "      <td>4.87</td>\n",
       "    </tr>\n",
       "    <tr>\n",
       "      <th>1</th>\n",
       "      <td>Adventure</td>\n",
       "      <td>3.60</td>\n",
       "    </tr>\n",
       "    <tr>\n",
       "      <th>10</th>\n",
       "      <td>Sports</td>\n",
       "      <td>3.26</td>\n",
       "    </tr>\n",
       "    <tr>\n",
       "      <th>4</th>\n",
       "      <td>Platform</td>\n",
       "      <td>2.69</td>\n",
       "    </tr>\n",
       "    <tr>\n",
       "      <th>9</th>\n",
       "      <td>Simulation</td>\n",
       "      <td>2.31</td>\n",
       "    </tr>\n",
       "    <tr>\n",
       "      <th>6</th>\n",
       "      <td>Racing</td>\n",
       "      <td>1.76</td>\n",
       "    </tr>\n",
       "    <tr>\n",
       "      <th>11</th>\n",
       "      <td>Strategy</td>\n",
       "      <td>0.95</td>\n",
       "    </tr>\n",
       "    <tr>\n",
       "      <th>5</th>\n",
       "      <td>Puzzle</td>\n",
       "      <td>0.93</td>\n",
       "    </tr>\n",
       "  </tbody>\n",
       "</table>\n",
       "</div>"
      ],
      "text/plain": [
       "           genre  jp_sales\n",
       "7   Role-Playing     31.16\n",
       "0         Action     29.58\n",
       "2       Fighting      6.37\n",
       "3           Misc      5.61\n",
       "8        Shooter      4.87\n",
       "1      Adventure      3.60\n",
       "10        Sports      3.26\n",
       "4       Platform      2.69\n",
       "9     Simulation      2.31\n",
       "6         Racing      1.76\n",
       "11      Strategy      0.95\n",
       "5         Puzzle      0.93"
      ]
     },
     "execution_count": 47,
     "metadata": {},
     "output_type": "execute_result"
    }
   ],
   "source": [
    "jp_genre = games_2014.pivot_table(index='genre', values='jp_sales', aggfunc='sum').reset_index()\\\n",
    ".sort_values(by='jp_sales', ascending=False)\n",
    "jp_genre "
   ]
  },
  {
   "cell_type": "code",
   "execution_count": 48,
   "metadata": {},
   "outputs": [
    {
     "data": {
      "text/plain": [
       "Text(0.5, 1.0, 'Japan')"
      ]
     },
     "execution_count": 48,
     "metadata": {},
     "output_type": "execute_result"
    },
    {
     "data": {
      "image/png": "[encoded data removed]",
      "text/plain": [
       "<Figure size 1800x1080 with 4 Axes>"
      ]
     },
     "metadata": {
      "needs_background": "light"
     },
     "output_type": "display_data"
    }
   ],
   "source": [
    "na_genre = games_2014.pivot_table(index='genre', values='na_sales', aggfunc='sum').reset_index()\\\n",
    ".sort_values(by='na_sales', ascending=False)\n",
    "eu_genre = games_2014.pivot_table(index='genre', values='eu_sales', aggfunc='sum').reset_index()\\\n",
    ".sort_values(by='eu_sales', ascending=False)\n",
    "jp_genre = games_2014.pivot_table(index='genre', values='jp_sales', aggfunc='sum').reset_index()\\\n",
    ".sort_values(by='jp_sales', ascending=False)\n",
    "\n",
    "\n",
    "fig, ax = plt.subplots(figsize=(25,15))\n",
    "ax1 = fig.add_subplot(131)\n",
    "ax2 = fig.add_subplot(132)\n",
    "ax3 = fig.add_subplot(133)\n",
    "ax1.pie(data=na_genre, x='na_sales', autopct='%.2f%%', labels = na_genre['genre'])\n",
    "ax2.pie(data=eu_genre, x='eu_sales', autopct='%.2f%%', labels = eu_genre['genre'])\n",
    "ax3.pie(data=jp_genre, x='jp_sales', autopct='%.2f%%', labels = jp_genre['genre'])\n",
    "plt.suptitle('Продажи жанров по регионам', fontsize=(15))\n",
    "ax1.set_title('North America')\n",
    "ax2.set_title('Europe')\n",
    "ax3.set_title('Japan')"
   ]
  },
  {
   "cell_type": "markdown",
   "metadata": {},
   "source": [
    "В США и Европе самыми популярными жанрами являются Shooter и Action (в сумме примерно 50% от общего количества), далее идут жанры Sports и Role-Playing, продажи по жанрам распределены примерно одинаково. А в Японии Role-Playing являются самым востребованным жанром, далее идет Action, в сумме они занимают больше 60% продаж."
   ]
  },
  {
   "cell_type": "code",
   "execution_count": 49,
   "metadata": {},
   "outputs": [
    {
     "data": {
      "text/plain": [
       "array([-1, 'M', 'E', 'T', 'E10+'], dtype=object)"
      ]
     },
     "execution_count": 49,
     "metadata": {},
     "output_type": "execute_result"
    }
   ],
   "source": [
    "games_2014 = games_2014.fillna(-1)\n",
    "games_2014['rating'].unique()"
   ]
  },
  {
   "cell_type": "code",
   "execution_count": 50,
   "metadata": {},
   "outputs": [
    {
     "data": {
      "text/html": [
       "<div>\n",
       "<style scoped>\n",
       "    .dataframe tbody tr th:only-of-type {\n",
       "        vertical-align: middle;\n",
       "    }\n",
       "\n",
       "    .dataframe tbody tr th {\n",
       "        vertical-align: top;\n",
       "    }\n",
       "\n",
       "    .dataframe thead th {\n",
       "        text-align: right;\n",
       "    }\n",
       "</style>\n",
       "<table border=\"1\" class=\"dataframe\">\n",
       "  <thead>\n",
       "    <tr style=\"text-align: right;\">\n",
       "      <th></th>\n",
       "      <th>eu_sales</th>\n",
       "      <th>jp_sales</th>\n",
       "      <th>na_sales</th>\n",
       "    </tr>\n",
       "    <tr>\n",
       "      <th>rating</th>\n",
       "      <th></th>\n",
       "      <th></th>\n",
       "      <th></th>\n",
       "    </tr>\n",
       "  </thead>\n",
       "  <tbody>\n",
       "    <tr>\n",
       "      <th>-1</th>\n",
       "      <td>58.95</td>\n",
       "      <td>56.90</td>\n",
       "      <td>64.72</td>\n",
       "    </tr>\n",
       "    <tr>\n",
       "      <th>E</th>\n",
       "      <td>58.06</td>\n",
       "      <td>8.94</td>\n",
       "      <td>50.74</td>\n",
       "    </tr>\n",
       "    <tr>\n",
       "      <th>E10+</th>\n",
       "      <td>26.16</td>\n",
       "      <td>4.46</td>\n",
       "      <td>33.23</td>\n",
       "    </tr>\n",
       "    <tr>\n",
       "      <th>M</th>\n",
       "      <td>93.44</td>\n",
       "      <td>8.01</td>\n",
       "      <td>96.42</td>\n",
       "    </tr>\n",
       "    <tr>\n",
       "      <th>T</th>\n",
       "      <td>34.07</td>\n",
       "      <td>14.78</td>\n",
       "      <td>38.95</td>\n",
       "    </tr>\n",
       "  </tbody>\n",
       "</table>\n",
       "</div>"
      ],
      "text/plain": [
       "        eu_sales  jp_sales  na_sales\n",
       "rating                              \n",
       "-1         58.95     56.90     64.72\n",
       "E          58.06      8.94     50.74\n",
       "E10+       26.16      4.46     33.23\n",
       "M          93.44      8.01     96.42\n",
       "T          34.07     14.78     38.95"
      ]
     },
     "execution_count": 50,
     "metadata": {},
     "output_type": "execute_result"
    }
   ],
   "source": [
    "games_2014.pivot_table(index='rating', values=['na_sales', 'eu_sales', 'jp_sales'], aggfunc='sum')"
   ]
  },
  {
   "cell_type": "code",
   "execution_count": 51,
   "metadata": {},
   "outputs": [
    {
     "data": {
      "image/png": "[encoded data removed]",
      "text/plain": [
       "<Figure size 1440x1080 with 3 Axes>"
      ]
     },
     "metadata": {
      "needs_background": "light"
     },
     "output_type": "display_data"
    }
   ],
   "source": [
    "games_raiting = games_2014.pivot_table(index='rating', values=['na_sales', 'eu_sales', 'jp_sales'], aggfunc='sum')\n",
    "fig, axes = plt.subplots(1,3, figsize=(20,15))\n",
    "sns.barplot(x=games_raiting.index, y=games_raiting['na_sales'], ax=axes[0])\n",
    "sns.barplot(x=games_raiting.index, y=games_raiting['eu_sales'], ax=axes[1])\n",
    "sns.barplot(x=games_raiting.index, y=games_raiting['jp_sales'], ax=axes[2])\n",
    "plt.show()"
   ]
  },
  {
   "cell_type": "markdown",
   "metadata": {},
   "source": [
    "Несмотря на то, что рейтинг ESRB используется в первую очередь в США и Канаде, данные по этому рейтингу присутствует и для других регионов, то есть и для Европы и Японии, данных по Японии крайне мало, что означает, что продажа там игр с таким рейтингом является чем-то исключительным, это доказывает и график, мы использовали заглушку -1 для игр, у оторых отсутсвуют данные по рейтинг ESRB, в Японии таких игр большинство, а вот по кол-ву продаж игр с рейтингом ESRB Европа не сильно устпает Северной Америке.\n",
    "\n",
    "При исключении из анализа пропусков в столбце рейтинга, в принципе, результат не особо изменился. \n",
    "\n",
    "Так, в Северной Америке продажи с большим отрывом  лидируют по играм с рейтингом M, далее идут игры с рейтингом E, в Европе ситуация аналогичная. А вот в Японии по рейтингу лидируют игры с рейтингом T, на втором месте с рейтингом E."
   ]
  },
  {
   "cell_type": "markdown",
   "metadata": {},
   "source": [
    "## Проверка гипотез"
   ]
  },
  {
   "cell_type": "markdown",
   "metadata": {},
   "source": [
    "Первая гипотеза\n",
    "\n",
    "H0: Средние пользовательские рейтинги платформ Xbox One и PC одинаковые;\n",
    "\n",
    "H1: Средние пользовательские рейтинги платформ Xbox One и PC различаются \n",
    "\n",
    "Вторая гипотеза\n",
    "\n",
    "H0: Средние пользовательские рейтинги жанров Action (англ. «действие», экшен-игры) и Sports (англ. «спортивные соревнования») одинаковые;\n",
    "\n",
    "H1: Средние пользовательские рейтинги жанров Action (англ. «действие», экшен-игры) и Sports (англ. «спортивные соревнования») различаются"
   ]
  },
  {
   "cell_type": "code",
   "execution_count": 53,
   "metadata": {},
   "outputs": [
    {
     "name": "stdout",
     "output_type": "stream",
     "text": [
      "P-value 0.26246009492976585\n",
      "Не получилось отвергнуть нулевую гипотезу\n"
     ]
    }
   ],
   "source": [
    "#Первая гипотеза\n",
    "xone_user_score = games_2014[games_2014['platform'] == 'XOne']['user_score'].dropna()\n",
    "pc_user_score = games_2014[games_2014['platform'] == 'PC']['user_score'].dropna()\n",
    "\n",
    "alpha = .05\n",
    "\n",
    "results = st.ttest_ind(\n",
    "    xone_user_score,\n",
    "    pc_user_score,\n",
    "    equal_var=False)\n",
    "print('P-value', results.pvalue)\n",
    "if results.pvalue < alpha:\n",
    "    print('Отвергаем нулевую гипотезу')\n",
    "else: print('Не получилось отвергнуть нулевую гипотезу')"
   ]
  },
  {
   "cell_type": "code",
   "execution_count": 54,
   "metadata": {},
   "outputs": [
    {
     "name": "stdout",
     "output_type": "stream",
     "text": [
      "P-value 4.829372599882802e-05\n",
      "Отвергаем нулевую гипотезу\n"
     ]
    }
   ],
   "source": [
    "#Вторая гипотеза\n",
    "action_user_score = games_2014[games_2014['genre'] == 'Action']['user_score'].dropna()\n",
    "sports_user_score = games_2014[games_2014['genre'] == 'Sports']['user_score'].dropna()\n",
    "\n",
    "alpha = .05\n",
    "\n",
    "results_1 = st.ttest_ind(\n",
    "    action_user_score,\n",
    "    sports_user_score,\n",
    "    equal_var=False)\n",
    "print('P-value', results_1.pvalue)\n",
    "if results_1.pvalue < alpha:\n",
    "    print('Отвергаем нулевую гипотезу')\n",
    "else: print('Не получилось отвергнуть нулевую гипотезу')"
   ]
  },
  {
   "cell_type": "markdown",
   "metadata": {},
   "source": [
    "Для проверки гипотезы использовался метод о равенстве среднего двух генеральных совокупностей по взятым из них выборкам.\n",
    "Производилось сравнение критического уровеня статистической значимости и получившимся p-value"
   ]
  },
  {
   "cell_type": "code",
   "execution_count": 55,
   "metadata": {},
   "outputs": [
    {
     "data": {
      "text/html": [
       "<div>\n",
       "<style scoped>\n",
       "    .dataframe tbody tr th:only-of-type {\n",
       "        vertical-align: middle;\n",
       "    }\n",
       "\n",
       "    .dataframe tbody tr th {\n",
       "        vertical-align: top;\n",
       "    }\n",
       "\n",
       "    .dataframe thead th {\n",
       "        text-align: right;\n",
       "    }\n",
       "</style>\n",
       "<table border=\"1\" class=\"dataframe\">\n",
       "  <thead>\n",
       "    <tr style=\"text-align: right;\">\n",
       "      <th></th>\n",
       "      <th>user_score</th>\n",
       "    </tr>\n",
       "    <tr>\n",
       "      <th>platform</th>\n",
       "      <th></th>\n",
       "    </tr>\n",
       "  </thead>\n",
       "  <tbody>\n",
       "    <tr>\n",
       "      <th>3DS</th>\n",
       "      <td>1.111321</td>\n",
       "    </tr>\n",
       "    <tr>\n",
       "      <th>PC</th>\n",
       "      <td>4.896689</td>\n",
       "    </tr>\n",
       "    <tr>\n",
       "      <th>PS3</th>\n",
       "      <td>2.138813</td>\n",
       "    </tr>\n",
       "    <tr>\n",
       "      <th>PS4</th>\n",
       "      <td>4.038298</td>\n",
       "    </tr>\n",
       "    <tr>\n",
       "      <th>PSP</th>\n",
       "      <td>-1.000000</td>\n",
       "    </tr>\n",
       "    <tr>\n",
       "      <th>PSV</th>\n",
       "      <td>1.142034</td>\n",
       "    </tr>\n",
       "    <tr>\n",
       "      <th>Wii</th>\n",
       "      <td>0.336364</td>\n",
       "    </tr>\n",
       "    <tr>\n",
       "      <th>WiiU</th>\n",
       "      <td>4.317808</td>\n",
       "    </tr>\n",
       "    <tr>\n",
       "      <th>X360</th>\n",
       "      <td>4.063063</td>\n",
       "    </tr>\n",
       "    <tr>\n",
       "      <th>XOne</th>\n",
       "      <td>4.496053</td>\n",
       "    </tr>\n",
       "  </tbody>\n",
       "</table>\n",
       "</div>"
      ],
      "text/plain": [
       "          user_score\n",
       "platform            \n",
       "3DS         1.111321\n",
       "PC          4.896689\n",
       "PS3         2.138813\n",
       "PS4         4.038298\n",
       "PSP        -1.000000\n",
       "PSV         1.142034\n",
       "Wii         0.336364\n",
       "WiiU        4.317808\n",
       "X360        4.063063\n",
       "XOne        4.496053"
      ]
     },
     "execution_count": 55,
     "metadata": {},
     "output_type": "execute_result"
    }
   ],
   "source": [
    "results_platforms = games_2014.dropna(subset=['user_score']).pivot_table(index='platform', values='user_score', aggfunc='mean')\n",
    "results_platforms"
   ]
  },
  {
   "cell_type": "code",
   "execution_count": 56,
   "metadata": {},
   "outputs": [
    {
     "data": {
      "text/html": [
       "<div>\n",
       "<style scoped>\n",
       "    .dataframe tbody tr th:only-of-type {\n",
       "        vertical-align: middle;\n",
       "    }\n",
       "\n",
       "    .dataframe tbody tr th {\n",
       "        vertical-align: top;\n",
       "    }\n",
       "\n",
       "    .dataframe thead th {\n",
       "        text-align: right;\n",
       "    }\n",
       "</style>\n",
       "<table border=\"1\" class=\"dataframe\">\n",
       "  <thead>\n",
       "    <tr style=\"text-align: right;\">\n",
       "      <th></th>\n",
       "      <th>user_score</th>\n",
       "    </tr>\n",
       "    <tr>\n",
       "      <th>genre</th>\n",
       "      <th></th>\n",
       "    </tr>\n",
       "  </thead>\n",
       "  <tbody>\n",
       "    <tr>\n",
       "      <th>Action</th>\n",
       "      <td>2.723586</td>\n",
       "    </tr>\n",
       "    <tr>\n",
       "      <th>Adventure</th>\n",
       "      <td>1.151892</td>\n",
       "    </tr>\n",
       "    <tr>\n",
       "      <th>Fighting</th>\n",
       "      <td>3.923333</td>\n",
       "    </tr>\n",
       "    <tr>\n",
       "      <th>Misc</th>\n",
       "      <td>1.891150</td>\n",
       "    </tr>\n",
       "    <tr>\n",
       "      <th>Platform</th>\n",
       "      <td>4.907895</td>\n",
       "    </tr>\n",
       "    <tr>\n",
       "      <th>Puzzle</th>\n",
       "      <td>1.564286</td>\n",
       "    </tr>\n",
       "    <tr>\n",
       "      <th>Racing</th>\n",
       "      <td>4.415942</td>\n",
       "    </tr>\n",
       "    <tr>\n",
       "      <th>Role-Playing</th>\n",
       "      <td>2.966516</td>\n",
       "    </tr>\n",
       "    <tr>\n",
       "      <th>Shooter</th>\n",
       "      <td>5.369531</td>\n",
       "    </tr>\n",
       "    <tr>\n",
       "      <th>Simulation</th>\n",
       "      <td>3.093182</td>\n",
       "    </tr>\n",
       "    <tr>\n",
       "      <th>Sports</th>\n",
       "      <td>3.910559</td>\n",
       "    </tr>\n",
       "    <tr>\n",
       "      <th>Strategy</th>\n",
       "      <td>2.997297</td>\n",
       "    </tr>\n",
       "  </tbody>\n",
       "</table>\n",
       "</div>"
      ],
      "text/plain": [
       "              user_score\n",
       "genre                   \n",
       "Action          2.723586\n",
       "Adventure       1.151892\n",
       "Fighting        3.923333\n",
       "Misc            1.891150\n",
       "Platform        4.907895\n",
       "Puzzle          1.564286\n",
       "Racing          4.415942\n",
       "Role-Playing    2.966516\n",
       "Shooter         5.369531\n",
       "Simulation      3.093182\n",
       "Sports          3.910559\n",
       "Strategy        2.997297"
      ]
     },
     "execution_count": 56,
     "metadata": {},
     "output_type": "execute_result"
    }
   ],
   "source": [
    "results_genre = games_2014.dropna(subset=['user_score']).pivot_table(index='genre', values='user_score', aggfunc='mean')\n",
    "results_genre"
   ]
  },
  {
   "cell_type": "markdown",
   "metadata": {},
   "source": [
    "# Вывод"
   ]
  },
  {
   "cell_type": "markdown",
   "metadata": {},
   "source": [
    "В ходе исследования было выявлено, что продажи некоторых платформ очень падали с течением времени, а к концу исследуемого периода продажи всех платформ заметно упали. Так, в начале взятого актуального периода, то есть с 2014 года, лидировал PS4  и продажи были примерно 80 млн копий, а к 2016 году они упали  примерно на 10 млн копий. Также было замечено,что продажи PSP крайне малы, что говорит об упадке популярности этой платформы.\n",
    "\n",
    "Медианной значение у платформ PS4, XOne, WiiU, X360, Wii примерно равно 200 тысячам копий, для остальных оно находится примерно на уровне 100 тыс копий. Верхний предел продаж наивысший у PS4 и Wii.\n",
    "\n",
    "Была выявлена слабая корреляция между показателями оценки критиков и пользователей и кол-ом продаж. Конечно, чем выше оценка, тем выше продажи, но в то же время достаточное кол-во игр с высоким рейтингом имеют и продажи приближающиеся к 0. \n",
    "\n",
    "Большая часть продаж в Северной Америке и Европе принадлежит PS4, в Северной Америке ее доля составляет почти 35%, а в Европе 48%. Второе место в Северной Америке и Европе занимает XOne (28,6% и 17%). В Японии с большим отрывом лидирует платформа 3DS, ее продажи примерно равны 48% от общего кол-ва, далее идут PS4, PSV, PS3, но их кол-во не достигает и 20%.\n",
    "\n",
    "В США и Европе самыми популярными жанрами являются Shooter и Action (в сумме примерно 50% от общего количества), далее идут жанры Sports и Role-Playing, продажи по жанрам распределены примерно одинаково. А в Японии Role-Playing являются самым востребованным жанром, далее идет Action, в сумме они занимают больше 60% продаж.\n",
    "\n",
    "В Северной Америке продажи лидируют по играм с рейтингом M и E, в Европе ситуация аналогичная. Но даже для Северной Америке достаточно большое кол-во игр не имеет данных по рейтингу ESRB. Для Японии большая часть игр не имеет даннхы по рейтпнгу ESRB, из-за того, что данный рейтинг применяется в США и Канаде,но из тех игр, для которых данные имеются,лидируют игры с рейтингом T, на втором месте с рейтингом E.\n",
    "\n",
    "Были исследованы гипотезы: \"Средние пользовательские рейтинги платформ Xbox One и PC одинаковые\" и \"Средние пользовательские рейтинги жанров Action (англ. «действие», экшен-игры) и Sports (англ. «спортивные соревнования») разные\"\n",
    "\n",
    "Первая гипотеза не получилось отвергнуть на уровне значимости 0.05, так как p-value для исследуемых данных было больше, чем критическое значение, то есть средние пользовательские рейтинги Xbox One и PC все-таки одинаковые. Если посмотреть на сводные таблицы, то нельзя сказать, что средние пользовательсике оценки идентичны для Xbox One и PC, тем не менее они расположены достаточно близко друг к другу. А вторая гипотеза наоборот была отвергнута на уровне значимости 0.05, средние пользовательские оценки для жанров Action и Sports различны, что доказывает и сводная таблица."
   ]
  }
 ],
 "metadata": {
  "ExecuteTimeLog": [
   {
    "duration": 393,
    "start_time": "2023-01-15T21:00:27.094Z"
   },
   {
    "duration": 179,
    "start_time": "2023-01-15T21:00:49.943Z"
   },
   {
    "duration": 63,
    "start_time": "2023-01-15T21:00:54.859Z"
   },
   {
    "duration": 76,
    "start_time": "2023-01-15T21:01:02.168Z"
   },
   {
    "duration": 61,
    "start_time": "2023-01-15T21:01:06.971Z"
   },
   {
    "duration": 72,
    "start_time": "2023-01-15T21:04:19.643Z"
   },
   {
    "duration": 22,
    "start_time": "2023-01-15T21:04:26.847Z"
   },
   {
    "duration": 27,
    "start_time": "2023-01-15T21:04:44.082Z"
   },
   {
    "duration": 23,
    "start_time": "2023-01-15T21:04:52.700Z"
   },
   {
    "duration": 4,
    "start_time": "2023-01-15T21:04:59.367Z"
   },
   {
    "duration": 20,
    "start_time": "2023-01-15T21:05:05.038Z"
   },
   {
    "duration": 19,
    "start_time": "2023-01-15T21:05:26.484Z"
   },
   {
    "duration": 65,
    "start_time": "2023-01-15T21:07:07.357Z"
   },
   {
    "duration": 7,
    "start_time": "2023-01-15T21:07:42.196Z"
   },
   {
    "duration": 10,
    "start_time": "2023-01-15T21:07:48.227Z"
   },
   {
    "duration": 4,
    "start_time": "2023-01-15T21:07:52.558Z"
   },
   {
    "duration": 11,
    "start_time": "2023-01-15T21:08:01.381Z"
   },
   {
    "duration": 10,
    "start_time": "2023-01-15T21:13:07.485Z"
   },
   {
    "duration": 4,
    "start_time": "2023-01-15T21:13:19.043Z"
   },
   {
    "duration": 7,
    "start_time": "2023-01-15T21:13:25.463Z"
   },
   {
    "duration": 11,
    "start_time": "2023-01-15T21:13:29.391Z"
   },
   {
    "duration": 7,
    "start_time": "2023-01-15T21:21:14.627Z"
   },
   {
    "duration": 5,
    "start_time": "2023-01-15T21:22:03.487Z"
   },
   {
    "duration": 8,
    "start_time": "2023-01-15T21:22:16.944Z"
   },
   {
    "duration": 8,
    "start_time": "2023-01-15T21:35:51.863Z"
   },
   {
    "duration": 8,
    "start_time": "2023-01-15T21:37:00.628Z"
   },
   {
    "duration": 9,
    "start_time": "2023-01-15T21:37:36.964Z"
   },
   {
    "duration": 87,
    "start_time": "2023-01-15T21:38:08.782Z"
   },
   {
    "duration": 70,
    "start_time": "2023-01-15T21:38:15.352Z"
   },
   {
    "duration": 8,
    "start_time": "2023-01-15T21:39:53.092Z"
   },
   {
    "duration": 28,
    "start_time": "2023-01-15T21:39:56.938Z"
   },
   {
    "duration": 13,
    "start_time": "2023-01-15T21:40:05.375Z"
   },
   {
    "duration": 5,
    "start_time": "2023-01-15T21:56:39.613Z"
   },
   {
    "duration": 6,
    "start_time": "2023-01-15T21:56:59.091Z"
   },
   {
    "duration": 11,
    "start_time": "2023-01-15T21:58:01.280Z"
   },
   {
    "duration": 6,
    "start_time": "2023-01-15T21:58:04.721Z"
   },
   {
    "duration": 8,
    "start_time": "2023-01-15T21:58:42.859Z"
   },
   {
    "duration": 4,
    "start_time": "2023-01-15T21:58:48.048Z"
   },
   {
    "duration": 8,
    "start_time": "2023-01-15T21:58:52.623Z"
   },
   {
    "duration": 77,
    "start_time": "2023-01-15T21:59:12.443Z"
   },
   {
    "duration": 2,
    "start_time": "2023-01-15T21:59:15.161Z"
   },
   {
    "duration": 62,
    "start_time": "2023-01-15T21:59:15.449Z"
   },
   {
    "duration": 18,
    "start_time": "2023-01-15T21:59:15.700Z"
   },
   {
    "duration": 66,
    "start_time": "2023-01-15T21:59:16.048Z"
   },
   {
    "duration": 7,
    "start_time": "2023-01-15T21:59:21.749Z"
   },
   {
    "duration": 8,
    "start_time": "2023-01-15T21:59:30.517Z"
   },
   {
    "duration": 9,
    "start_time": "2023-01-15T21:59:35.614Z"
   },
   {
    "duration": 6,
    "start_time": "2023-01-15T21:59:39.750Z"
   },
   {
    "duration": 5,
    "start_time": "2023-01-15T21:59:47.798Z"
   },
   {
    "duration": 5,
    "start_time": "2023-01-15T22:00:03.519Z"
   },
   {
    "duration": 897,
    "start_time": "2023-01-15T22:00:10.279Z"
   },
   {
    "duration": 815,
    "start_time": "2023-01-15T22:00:25.636Z"
   },
   {
    "duration": 7,
    "start_time": "2023-01-15T22:01:36.025Z"
   },
   {
    "duration": 7,
    "start_time": "2023-01-15T22:01:46.465Z"
   },
   {
    "duration": 873,
    "start_time": "2023-01-15T22:02:18.101Z"
   },
   {
    "duration": 796,
    "start_time": "2023-01-15T22:02:24.241Z"
   },
   {
    "duration": 860,
    "start_time": "2023-01-15T22:02:38.866Z"
   },
   {
    "duration": 3,
    "start_time": "2023-01-15T22:02:49.306Z"
   },
   {
    "duration": 59,
    "start_time": "2023-01-15T22:02:49.713Z"
   },
   {
    "duration": 15,
    "start_time": "2023-01-15T22:02:50.031Z"
   },
   {
    "duration": 7,
    "start_time": "2023-01-15T22:02:50.398Z"
   },
   {
    "duration": 4,
    "start_time": "2023-01-15T22:03:13.161Z"
   },
   {
    "duration": 3,
    "start_time": "2023-01-15T22:03:18.978Z"
   },
   {
    "duration": 838,
    "start_time": "2023-01-15T22:03:20.582Z"
   },
   {
    "duration": 886,
    "start_time": "2023-01-15T22:03:30.801Z"
   },
   {
    "duration": 831,
    "start_time": "2023-01-15T22:03:38.864Z"
   },
   {
    "duration": 2,
    "start_time": "2023-01-15T22:03:57.592Z"
   },
   {
    "duration": 66,
    "start_time": "2023-01-15T22:03:57.875Z"
   },
   {
    "duration": 17,
    "start_time": "2023-01-15T22:03:58.533Z"
   },
   {
    "duration": 8,
    "start_time": "2023-01-15T22:04:00.158Z"
   },
   {
    "duration": 794,
    "start_time": "2023-01-15T22:04:03.606Z"
   },
   {
    "duration": 396,
    "start_time": "2023-01-15T22:04:25.444Z"
   },
   {
    "duration": 61,
    "start_time": "2023-01-15T22:04:26.026Z"
   },
   {
    "duration": 21,
    "start_time": "2023-01-15T22:04:26.723Z"
   },
   {
    "duration": 61,
    "start_time": "2023-01-15T22:04:36.747Z"
   },
   {
    "duration": 2,
    "start_time": "2023-01-15T22:04:47.514Z"
   },
   {
    "duration": 66,
    "start_time": "2023-01-15T22:04:47.814Z"
   },
   {
    "duration": 17,
    "start_time": "2023-01-15T22:04:48.863Z"
   },
   {
    "duration": 15,
    "start_time": "2023-01-15T22:04:53.002Z"
   },
   {
    "duration": 18,
    "start_time": "2023-01-15T22:05:35.024Z"
   },
   {
    "duration": 30,
    "start_time": "2023-01-15T22:05:39.965Z"
   },
   {
    "duration": 24,
    "start_time": "2023-01-15T22:05:44.755Z"
   },
   {
    "duration": 6,
    "start_time": "2023-01-15T22:05:59.658Z"
   },
   {
    "duration": 5,
    "start_time": "2023-01-15T22:06:11.898Z"
   },
   {
    "duration": 7,
    "start_time": "2023-01-15T22:06:33.082Z"
   },
   {
    "duration": 14,
    "start_time": "2023-01-15T22:06:42.900Z"
   },
   {
    "duration": 5,
    "start_time": "2023-01-15T22:07:03.804Z"
   },
   {
    "duration": 5,
    "start_time": "2023-01-15T22:07:24.138Z"
   },
   {
    "duration": 4,
    "start_time": "2023-01-15T22:07:30.297Z"
   },
   {
    "duration": 67,
    "start_time": "2023-01-15T22:07:37.886Z"
   },
   {
    "duration": 15,
    "start_time": "2023-01-15T22:07:40.104Z"
   },
   {
    "duration": 3,
    "start_time": "2023-01-15T22:07:55.854Z"
   },
   {
    "duration": 4,
    "start_time": "2023-01-15T22:08:01.190Z"
   },
   {
    "duration": 75,
    "start_time": "2023-01-15T22:08:06.023Z"
   },
   {
    "duration": 3,
    "start_time": "2023-01-15T22:08:14.575Z"
   },
   {
    "duration": 4,
    "start_time": "2023-01-15T22:08:19.925Z"
   },
   {
    "duration": 2,
    "start_time": "2023-01-15T22:08:25.786Z"
   },
   {
    "duration": 59,
    "start_time": "2023-01-15T22:08:26.154Z"
   },
   {
    "duration": 15,
    "start_time": "2023-01-15T22:08:26.970Z"
   },
   {
    "duration": 4,
    "start_time": "2023-01-15T22:08:30.587Z"
   },
   {
    "duration": 24,
    "start_time": "2023-01-15T22:12:56.228Z"
   },
   {
    "duration": 5,
    "start_time": "2023-01-15T22:14:09.759Z"
   },
   {
    "duration": 75,
    "start_time": "2023-01-15T22:14:17.986Z"
   },
   {
    "duration": 8,
    "start_time": "2023-01-15T22:14:22.348Z"
   },
   {
    "duration": 6,
    "start_time": "2023-01-15T22:14:35.714Z"
   },
   {
    "duration": 17,
    "start_time": "2023-01-15T22:14:44.992Z"
   },
   {
    "duration": 9,
    "start_time": "2023-01-15T22:14:49.769Z"
   },
   {
    "duration": 26,
    "start_time": "2023-01-15T22:15:08.411Z"
   },
   {
    "duration": 6,
    "start_time": "2023-01-15T22:15:19.568Z"
   },
   {
    "duration": 17,
    "start_time": "2023-01-15T22:15:32.433Z"
   },
   {
    "duration": 10,
    "start_time": "2023-01-15T22:15:44.196Z"
   },
   {
    "duration": 8,
    "start_time": "2023-01-15T22:16:21.409Z"
   },
   {
    "duration": 8,
    "start_time": "2023-01-15T22:16:28.430Z"
   },
   {
    "duration": 10,
    "start_time": "2023-01-15T22:17:37.472Z"
   },
   {
    "duration": 11,
    "start_time": "2023-01-15T22:19:32.116Z"
   },
   {
    "duration": 14,
    "start_time": "2023-01-15T22:19:44.558Z"
   },
   {
    "duration": 297,
    "start_time": "2023-01-15T22:20:35.859Z"
   },
   {
    "duration": 2,
    "start_time": "2023-01-15T22:21:03.047Z"
   },
   {
    "duration": 61,
    "start_time": "2023-01-15T22:21:03.368Z"
   },
   {
    "duration": 17,
    "start_time": "2023-01-15T22:21:03.845Z"
   },
   {
    "duration": 4,
    "start_time": "2023-01-15T22:21:04.467Z"
   },
   {
    "duration": 12,
    "start_time": "2023-01-15T22:21:07.864Z"
   },
   {
    "duration": 4,
    "start_time": "2023-01-15T22:21:17.887Z"
   },
   {
    "duration": 8,
    "start_time": "2023-01-15T22:21:19.400Z"
   },
   {
    "duration": 4,
    "start_time": "2023-01-15T22:22:12.137Z"
   },
   {
    "duration": 15,
    "start_time": "2023-01-15T22:22:16.589Z"
   },
   {
    "duration": 3,
    "start_time": "2023-01-15T22:27:26.790Z"
   },
   {
    "duration": 403,
    "start_time": "2023-01-15T22:27:32.201Z"
   },
   {
    "duration": 67,
    "start_time": "2023-01-15T22:27:32.606Z"
   },
   {
    "duration": 23,
    "start_time": "2023-01-15T22:27:34.887Z"
   },
   {
    "duration": 66,
    "start_time": "2023-01-15T22:28:47.112Z"
   },
   {
    "duration": 37,
    "start_time": "2023-01-15T22:29:11.182Z"
   },
   {
    "duration": 432,
    "start_time": "2023-01-15T22:29:32.367Z"
   },
   {
    "duration": 66,
    "start_time": "2023-01-15T22:29:32.815Z"
   },
   {
    "duration": 23,
    "start_time": "2023-01-15T22:29:33.453Z"
   },
   {
    "duration": 5,
    "start_time": "2023-01-15T22:29:34.021Z"
   },
   {
    "duration": 8,
    "start_time": "2023-01-15T22:29:49.453Z"
   },
   {
    "duration": 10,
    "start_time": "2023-01-15T22:29:56.881Z"
   },
   {
    "duration": 8,
    "start_time": "2023-01-15T22:31:02.403Z"
   },
   {
    "duration": 4,
    "start_time": "2023-01-15T22:35:10.229Z"
   },
   {
    "duration": 60,
    "start_time": "2023-01-15T22:35:26.526Z"
   },
   {
    "duration": 58,
    "start_time": "2023-01-15T22:35:42.479Z"
   },
   {
    "duration": 10,
    "start_time": "2023-01-15T22:36:10.436Z"
   },
   {
    "duration": 339,
    "start_time": "2023-01-15T22:36:16.532Z"
   },
   {
    "duration": 65,
    "start_time": "2023-01-15T22:36:16.974Z"
   },
   {
    "duration": 23,
    "start_time": "2023-01-15T22:36:17.658Z"
   },
   {
    "duration": 4,
    "start_time": "2023-01-15T22:36:18.416Z"
   },
   {
    "duration": 8,
    "start_time": "2023-01-15T22:36:22.265Z"
   },
   {
    "duration": 9,
    "start_time": "2023-01-15T22:36:25.459Z"
   },
   {
    "duration": 15,
    "start_time": "2023-01-15T22:36:41.347Z"
   },
   {
    "duration": 8,
    "start_time": "2023-01-15T22:36:52.279Z"
   },
   {
    "duration": 13,
    "start_time": "2023-01-15T22:37:24.479Z"
   },
   {
    "duration": 3,
    "start_time": "2023-01-15T22:39:06.451Z"
   },
   {
    "duration": 3,
    "start_time": "2023-01-15T22:39:09.409Z"
   },
   {
    "duration": 13,
    "start_time": "2023-01-15T22:39:10.969Z"
   },
   {
    "duration": 68,
    "start_time": "2023-01-15T22:39:21.466Z"
   },
   {
    "duration": 11,
    "start_time": "2023-01-15T22:40:03.513Z"
   },
   {
    "duration": 8,
    "start_time": "2023-01-15T22:43:10.101Z"
   },
   {
    "duration": 12,
    "start_time": "2023-01-15T22:43:12.732Z"
   },
   {
    "duration": 8,
    "start_time": "2023-01-15T22:45:46.129Z"
   },
   {
    "duration": 4,
    "start_time": "2023-01-15T22:45:48.510Z"
   },
   {
    "duration": 3,
    "start_time": "2023-01-15T22:45:53.558Z"
   },
   {
    "duration": 4,
    "start_time": "2023-01-15T22:46:12.344Z"
   },
   {
    "duration": 12,
    "start_time": "2023-01-15T22:46:16.995Z"
   },
   {
    "duration": 11,
    "start_time": "2023-01-15T22:50:01.125Z"
   },
   {
    "duration": 7,
    "start_time": "2023-01-15T22:52:07.326Z"
   },
   {
    "duration": 7,
    "start_time": "2023-01-15T22:52:15.340Z"
   },
   {
    "duration": 3,
    "start_time": "2023-01-15T22:52:46.354Z"
   },
   {
    "duration": 6,
    "start_time": "2023-01-15T22:52:49.166Z"
   },
   {
    "duration": 14,
    "start_time": "2023-01-15T22:52:51.896Z"
   },
   {
    "duration": 6,
    "start_time": "2023-01-15T22:53:08.157Z"
   },
   {
    "duration": 3,
    "start_time": "2023-01-15T22:53:14.889Z"
   },
   {
    "duration": 15,
    "start_time": "2023-01-15T22:53:58.759Z"
   },
   {
    "duration": 6,
    "start_time": "2023-01-15T22:54:25.710Z"
   },
   {
    "duration": 1229,
    "start_time": "2023-01-15T23:00:48.457Z"
   },
   {
    "duration": 88,
    "start_time": "2023-01-15T23:01:05.584Z"
   },
   {
    "duration": 4,
    "start_time": "2023-01-15T23:01:08.659Z"
   },
   {
    "duration": 19,
    "start_time": "2023-01-15T23:01:17.641Z"
   },
   {
    "duration": 14,
    "start_time": "2023-01-15T23:01:34.838Z"
   },
   {
    "duration": 20,
    "start_time": "2023-01-15T23:04:03.901Z"
   },
   {
    "duration": 13,
    "start_time": "2023-01-15T23:04:17.328Z"
   },
   {
    "duration": 14,
    "start_time": "2023-01-15T23:04:27.514Z"
   },
   {
    "duration": 75,
    "start_time": "2023-01-15T23:04:33.841Z"
   },
   {
    "duration": 12,
    "start_time": "2023-01-15T23:04:36.894Z"
   },
   {
    "duration": 17,
    "start_time": "2023-01-15T23:07:35.858Z"
   },
   {
    "duration": 13,
    "start_time": "2023-01-15T23:07:45.434Z"
   },
   {
    "duration": 299,
    "start_time": "2023-01-15T23:07:52.238Z"
   },
   {
    "duration": 290,
    "start_time": "2023-01-15T23:08:03.739Z"
   },
   {
    "duration": 359,
    "start_time": "2023-01-15T23:08:13.668Z"
   },
   {
    "duration": 13,
    "start_time": "2023-01-15T23:08:16.268Z"
   },
   {
    "duration": 360,
    "start_time": "2023-01-15T23:08:25.910Z"
   },
   {
    "duration": 60,
    "start_time": "2023-01-15T23:08:26.292Z"
   },
   {
    "duration": 23,
    "start_time": "2023-01-15T23:08:26.935Z"
   },
   {
    "duration": 8,
    "start_time": "2023-01-15T23:08:27.524Z"
   },
   {
    "duration": 9,
    "start_time": "2023-01-15T23:08:27.761Z"
   },
   {
    "duration": 8,
    "start_time": "2023-01-15T23:08:27.973Z"
   },
   {
    "duration": 4,
    "start_time": "2023-01-15T23:08:28.185Z"
   },
   {
    "duration": 5,
    "start_time": "2023-01-15T23:08:28.617Z"
   },
   {
    "duration": 13,
    "start_time": "2023-01-15T23:08:28.787Z"
   },
   {
    "duration": 5,
    "start_time": "2023-01-15T23:08:29.677Z"
   },
   {
    "duration": 6,
    "start_time": "2023-01-15T23:08:30.155Z"
   },
   {
    "duration": 13,
    "start_time": "2023-01-15T23:08:30.554Z"
   },
   {
    "duration": 15,
    "start_time": "2023-01-15T23:08:33.396Z"
   },
   {
    "duration": 18,
    "start_time": "2023-01-15T23:08:34.979Z"
   },
   {
    "duration": 13,
    "start_time": "2023-01-15T23:08:36.108Z"
   },
   {
    "duration": 373,
    "start_time": "2023-01-15T23:08:46.603Z"
   },
   {
    "duration": 60,
    "start_time": "2023-01-15T23:08:46.978Z"
   },
   {
    "duration": 22,
    "start_time": "2023-01-15T23:08:47.113Z"
   },
   {
    "duration": 11,
    "start_time": "2023-01-15T23:08:47.465Z"
   },
   {
    "duration": 8,
    "start_time": "2023-01-15T23:08:47.621Z"
   },
   {
    "duration": 8,
    "start_time": "2023-01-15T23:08:47.786Z"
   },
   {
    "duration": 4,
    "start_time": "2023-01-15T23:08:47.963Z"
   },
   {
    "duration": 4,
    "start_time": "2023-01-15T23:08:48.297Z"
   },
   {
    "duration": 13,
    "start_time": "2023-01-15T23:08:48.487Z"
   },
   {
    "duration": 5,
    "start_time": "2023-01-15T23:08:49.631Z"
   },
   {
    "duration": 6,
    "start_time": "2023-01-15T23:08:50.106Z"
   },
   {
    "duration": 13,
    "start_time": "2023-01-15T23:08:50.637Z"
   },
   {
    "duration": 16,
    "start_time": "2023-01-15T23:08:55.755Z"
   },
   {
    "duration": 18,
    "start_time": "2023-01-15T23:16:35.312Z"
   },
   {
    "duration": 13,
    "start_time": "2023-01-15T23:16:37.239Z"
   },
   {
    "duration": 414,
    "start_time": "2023-01-15T23:17:02.701Z"
   },
   {
    "duration": 13,
    "start_time": "2023-01-15T23:17:10.199Z"
   },
   {
    "duration": 290,
    "start_time": "2023-01-15T23:17:19.823Z"
   },
   {
    "duration": 354,
    "start_time": "2023-01-15T23:17:31.432Z"
   },
   {
    "duration": 68,
    "start_time": "2023-01-15T23:17:31.788Z"
   },
   {
    "duration": 27,
    "start_time": "2023-01-15T23:17:32.500Z"
   },
   {
    "duration": 9,
    "start_time": "2023-01-15T23:17:33.531Z"
   },
   {
    "duration": 12,
    "start_time": "2023-01-15T23:17:33.923Z"
   },
   {
    "duration": 9,
    "start_time": "2023-01-15T23:17:34.183Z"
   },
   {
    "duration": 4,
    "start_time": "2023-01-15T23:17:34.804Z"
   },
   {
    "duration": 5,
    "start_time": "2023-01-15T23:17:35.411Z"
   },
   {
    "duration": 13,
    "start_time": "2023-01-15T23:17:35.683Z"
   },
   {
    "duration": 5,
    "start_time": "2023-01-15T23:17:37.185Z"
   },
   {
    "duration": 6,
    "start_time": "2023-01-15T23:17:37.712Z"
   },
   {
    "duration": 14,
    "start_time": "2023-01-15T23:17:38.261Z"
   },
   {
    "duration": 14,
    "start_time": "2023-01-15T23:17:42.831Z"
   },
   {
    "duration": 75,
    "start_time": "2023-01-15T23:21:35.917Z"
   },
   {
    "duration": 72,
    "start_time": "2023-01-15T23:21:45.705Z"
   },
   {
    "duration": 15,
    "start_time": "2023-01-15T23:21:48.691Z"
   },
   {
    "duration": 5,
    "start_time": "2023-01-15T23:23:48.216Z"
   },
   {
    "duration": 12,
    "start_time": "2023-01-15T23:23:50.328Z"
   },
   {
    "duration": 24,
    "start_time": "2023-01-15T23:24:11.262Z"
   },
   {
    "duration": 3,
    "start_time": "2023-01-15T23:24:29.396Z"
   },
   {
    "duration": 17,
    "start_time": "2023-01-15T23:29:22.312Z"
   },
   {
    "duration": 14,
    "start_time": "2023-01-15T23:30:02.195Z"
   },
   {
    "duration": 20,
    "start_time": "2023-01-15T23:30:24.029Z"
   },
   {
    "duration": 14,
    "start_time": "2023-01-15T23:30:50.195Z"
   },
   {
    "duration": 11,
    "start_time": "2023-01-15T23:31:49.676Z"
   },
   {
    "duration": 12,
    "start_time": "2023-01-15T23:31:56.671Z"
   },
   {
    "duration": 14,
    "start_time": "2023-01-15T23:32:00.756Z"
   },
   {
    "duration": 12,
    "start_time": "2023-01-15T23:32:22.867Z"
   },
   {
    "duration": 13,
    "start_time": "2023-01-15T23:32:25.084Z"
   },
   {
    "duration": 12,
    "start_time": "2023-01-15T23:32:30.755Z"
   },
   {
    "duration": 10,
    "start_time": "2023-01-15T23:33:22.463Z"
   },
   {
    "duration": 14,
    "start_time": "2023-01-15T23:33:34.664Z"
   },
   {
    "duration": 9,
    "start_time": "2023-01-15T23:38:27.073Z"
   },
   {
    "duration": 9,
    "start_time": "2023-01-15T23:38:33.243Z"
   },
   {
    "duration": 9,
    "start_time": "2023-01-15T23:38:42.310Z"
   },
   {
    "duration": 243,
    "start_time": "2023-01-15T23:39:09.329Z"
   },
   {
    "duration": 1524,
    "start_time": "2023-01-15T23:39:17.027Z"
   },
   {
    "duration": 1539,
    "start_time": "2023-01-15T23:39:42.780Z"
   },
   {
    "duration": 3128,
    "start_time": "2023-01-15T23:45:14.933Z"
   },
   {
    "duration": 1595,
    "start_time": "2023-01-15T23:47:10.260Z"
   },
   {
    "duration": 1526,
    "start_time": "2023-01-15T23:48:44.763Z"
   },
   {
    "duration": 1551,
    "start_time": "2023-01-15T23:49:19.460Z"
   },
   {
    "duration": 744,
    "start_time": "2023-01-16T13:28:21.420Z"
   },
   {
    "duration": 105,
    "start_time": "2023-01-16T13:28:22.603Z"
   },
   {
    "duration": 19,
    "start_time": "2023-01-16T13:28:23.597Z"
   },
   {
    "duration": 10,
    "start_time": "2023-01-16T13:28:24.330Z"
   },
   {
    "duration": 10,
    "start_time": "2023-01-16T13:28:24.796Z"
   },
   {
    "duration": 9,
    "start_time": "2023-01-16T13:28:25.260Z"
   },
   {
    "duration": 4,
    "start_time": "2023-01-16T13:28:25.997Z"
   },
   {
    "duration": 5,
    "start_time": "2023-01-16T13:28:26.909Z"
   },
   {
    "duration": 13,
    "start_time": "2023-01-16T13:28:27.335Z"
   },
   {
    "duration": 6,
    "start_time": "2023-01-16T13:28:28.397Z"
   },
   {
    "duration": 6,
    "start_time": "2023-01-16T13:28:29.128Z"
   },
   {
    "duration": 13,
    "start_time": "2023-01-16T13:28:29.547Z"
   },
   {
    "duration": 15,
    "start_time": "2023-01-16T13:28:30.986Z"
   },
   {
    "duration": 6,
    "start_time": "2023-01-16T13:28:31.607Z"
   },
   {
    "duration": 12,
    "start_time": "2023-01-16T13:28:32.051Z"
   },
   {
    "duration": 13,
    "start_time": "2023-01-16T13:28:33.016Z"
   },
   {
    "duration": 1741,
    "start_time": "2023-01-16T13:28:33.552Z"
   },
   {
    "duration": 1702,
    "start_time": "2023-01-16T13:47:15.315Z"
   },
   {
    "duration": 1773,
    "start_time": "2023-01-16T13:49:01.202Z"
   },
   {
    "duration": 1587,
    "start_time": "2023-01-16T13:49:31.294Z"
   },
   {
    "duration": 1600,
    "start_time": "2023-01-16T13:50:27.479Z"
   },
   {
    "duration": 23,
    "start_time": "2023-01-16T13:54:41.198Z"
   },
   {
    "duration": 89,
    "start_time": "2023-01-16T13:56:36.855Z"
   },
   {
    "duration": 34,
    "start_time": "2023-01-16T13:56:50.996Z"
   },
   {
    "duration": 26,
    "start_time": "2023-01-16T13:56:57.642Z"
   },
   {
    "duration": 29,
    "start_time": "2023-01-16T13:57:26.054Z"
   },
   {
    "duration": 30,
    "start_time": "2023-01-16T13:58:04.950Z"
   },
   {
    "duration": 13,
    "start_time": "2023-01-16T13:58:07.558Z"
   },
   {
    "duration": 19,
    "start_time": "2023-01-16T13:58:20.543Z"
   },
   {
    "duration": 1673,
    "start_time": "2023-01-16T14:11:58.494Z"
   },
   {
    "duration": 98,
    "start_time": "2023-01-16T14:40:48.415Z"
   },
   {
    "duration": 27,
    "start_time": "2023-01-16T14:41:03.930Z"
   },
   {
    "duration": 25,
    "start_time": "2023-01-16T14:41:24.186Z"
   },
   {
    "duration": 9,
    "start_time": "2023-01-16T14:47:01.762Z"
   },
   {
    "duration": 30,
    "start_time": "2023-01-16T14:48:13.298Z"
   },
   {
    "duration": 156,
    "start_time": "2023-01-16T14:48:55.599Z"
   },
   {
    "duration": 1733,
    "start_time": "2023-01-16T14:49:36.245Z"
   },
   {
    "duration": 21,
    "start_time": "2023-01-16T14:59:18.673Z"
   },
   {
    "duration": 2328,
    "start_time": "2023-01-16T14:59:31.185Z"
   },
   {
    "duration": 2305,
    "start_time": "2023-01-16T14:59:50.250Z"
   },
   {
    "duration": 460,
    "start_time": "2023-01-16T15:05:19.713Z"
   },
   {
    "duration": 39,
    "start_time": "2023-01-16T15:07:09.593Z"
   },
   {
    "duration": 5,
    "start_time": "2023-01-16T15:08:03.769Z"
   },
   {
    "duration": 45,
    "start_time": "2023-01-16T15:10:12.370Z"
   },
   {
    "duration": 15,
    "start_time": "2023-01-16T15:10:26.983Z"
   },
   {
    "duration": 5,
    "start_time": "2023-01-16T15:10:31.832Z"
   },
   {
    "duration": 40,
    "start_time": "2023-01-16T15:10:32.867Z"
   },
   {
    "duration": 29,
    "start_time": "2023-01-16T15:10:46.526Z"
   },
   {
    "duration": 29,
    "start_time": "2023-01-16T15:10:57.586Z"
   },
   {
    "duration": 27,
    "start_time": "2023-01-16T15:11:09.668Z"
   },
   {
    "duration": 581,
    "start_time": "2023-01-16T15:11:41.950Z"
   },
   {
    "duration": 1578,
    "start_time": "2023-01-16T15:12:00.746Z"
   },
   {
    "duration": 6,
    "start_time": "2023-01-16T15:13:23.595Z"
   },
   {
    "duration": 8,
    "start_time": "2023-01-16T15:13:27.680Z"
   },
   {
    "duration": 13,
    "start_time": "2023-01-16T15:13:29.955Z"
   },
   {
    "duration": 19,
    "start_time": "2023-01-16T15:14:25.930Z"
   },
   {
    "duration": 19,
    "start_time": "2023-01-16T15:14:35.173Z"
   },
   {
    "duration": 4,
    "start_time": "2023-01-16T15:14:58.568Z"
   },
   {
    "duration": 36,
    "start_time": "2023-01-16T15:15:15.906Z"
   },
   {
    "duration": 3,
    "start_time": "2023-01-16T15:15:25.387Z"
   },
   {
    "duration": 4,
    "start_time": "2023-01-16T15:15:32.683Z"
   },
   {
    "duration": 3,
    "start_time": "2023-01-16T15:16:25.047Z"
   },
   {
    "duration": 31,
    "start_time": "2023-01-16T15:16:27.518Z"
   },
   {
    "duration": 44,
    "start_time": "2023-01-16T15:16:34.093Z"
   },
   {
    "duration": 28,
    "start_time": "2023-01-16T15:17:25.815Z"
   },
   {
    "duration": 1752,
    "start_time": "2023-01-16T15:19:19.690Z"
   },
   {
    "duration": 1597,
    "start_time": "2023-01-16T15:19:40.912Z"
   },
   {
    "duration": 283,
    "start_time": "2023-01-16T15:20:20.709Z"
   },
   {
    "duration": 271,
    "start_time": "2023-01-16T15:20:41.011Z"
   },
   {
    "duration": 232,
    "start_time": "2023-01-16T22:16:08.861Z"
   },
   {
    "duration": 225,
    "start_time": "2023-01-16T22:16:30.524Z"
   },
   {
    "duration": 388,
    "start_time": "2023-01-16T22:17:17.905Z"
   },
   {
    "duration": 11,
    "start_time": "2023-01-16T22:22:41.233Z"
   },
   {
    "duration": 13,
    "start_time": "2023-01-16T22:23:12.496Z"
   },
   {
    "duration": 6,
    "start_time": "2023-01-16T22:29:49.570Z"
   },
   {
    "duration": 24,
    "start_time": "2023-01-16T22:29:55.261Z"
   },
   {
    "duration": 23,
    "start_time": "2023-01-16T22:30:03.714Z"
   },
   {
    "duration": 16,
    "start_time": "2023-01-16T22:30:08.557Z"
   },
   {
    "duration": 4,
    "start_time": "2023-01-16T22:30:55.543Z"
   },
   {
    "duration": 7,
    "start_time": "2023-01-16T22:31:05.300Z"
   },
   {
    "duration": 7,
    "start_time": "2023-01-16T22:31:15.693Z"
   },
   {
    "duration": 25,
    "start_time": "2023-01-16T22:33:38.534Z"
   },
   {
    "duration": 4,
    "start_time": "2023-01-16T22:34:16.809Z"
   },
   {
    "duration": 26,
    "start_time": "2023-01-16T22:34:19.119Z"
   },
   {
    "duration": 6,
    "start_time": "2023-01-16T22:34:32.622Z"
   },
   {
    "duration": 31,
    "start_time": "2023-01-16T22:34:37.429Z"
   },
   {
    "duration": 23,
    "start_time": "2023-01-16T22:35:30.850Z"
   },
   {
    "duration": 13,
    "start_time": "2023-01-16T22:35:41.455Z"
   },
   {
    "duration": 15,
    "start_time": "2023-01-16T22:36:07.454Z"
   },
   {
    "duration": 12,
    "start_time": "2023-01-16T22:36:27.886Z"
   },
   {
    "duration": 5,
    "start_time": "2023-01-16T22:36:39.017Z"
   },
   {
    "duration": 8,
    "start_time": "2023-01-16T22:36:42.992Z"
   },
   {
    "duration": 6,
    "start_time": "2023-01-16T22:36:47.510Z"
   },
   {
    "duration": 23,
    "start_time": "2023-01-16T22:36:51.456Z"
   },
   {
    "duration": 6,
    "start_time": "2023-01-16T22:36:56.049Z"
   },
   {
    "duration": 25,
    "start_time": "2023-01-16T22:37:02.257Z"
   },
   {
    "duration": 5,
    "start_time": "2023-01-16T22:38:36.559Z"
   },
   {
    "duration": 6,
    "start_time": "2023-01-16T22:38:40.835Z"
   },
   {
    "duration": 303,
    "start_time": "2023-01-16T22:38:51.104Z"
   },
   {
    "duration": 9,
    "start_time": "2023-01-16T22:39:19.356Z"
   },
   {
    "duration": 6,
    "start_time": "2023-01-16T22:39:24.726Z"
   },
   {
    "duration": 6,
    "start_time": "2023-01-16T22:39:26.600Z"
   },
   {
    "duration": 313,
    "start_time": "2023-01-16T22:39:38.050Z"
   },
   {
    "duration": 301,
    "start_time": "2023-01-16T22:39:51.034Z"
   },
   {
    "duration": 295,
    "start_time": "2023-01-16T22:40:44.223Z"
   },
   {
    "duration": 281,
    "start_time": "2023-01-16T22:41:15.722Z"
   },
   {
    "duration": 271,
    "start_time": "2023-01-16T22:41:23.184Z"
   },
   {
    "duration": 268,
    "start_time": "2023-01-16T22:55:52.715Z"
   },
   {
    "duration": 10,
    "start_time": "2023-01-16T22:56:57.842Z"
   },
   {
    "duration": 5,
    "start_time": "2023-01-16T22:57:02.777Z"
   },
   {
    "duration": 5,
    "start_time": "2023-01-16T22:57:04.093Z"
   },
   {
    "duration": 344,
    "start_time": "2023-01-16T22:57:05.250Z"
   },
   {
    "duration": 11,
    "start_time": "2023-01-16T23:04:49.848Z"
   },
   {
    "duration": 15,
    "start_time": "2023-01-16T23:05:01.498Z"
   },
   {
    "duration": 6,
    "start_time": "2023-01-16T23:05:16.691Z"
   },
   {
    "duration": 20,
    "start_time": "2023-01-16T23:05:29.830Z"
   },
   {
    "duration": 4,
    "start_time": "2023-01-16T23:05:43.742Z"
   },
   {
    "duration": 4,
    "start_time": "2023-01-16T23:06:27.121Z"
   },
   {
    "duration": 17,
    "start_time": "2023-01-16T23:06:36.422Z"
   },
   {
    "duration": 16,
    "start_time": "2023-01-16T23:08:14.385Z"
   },
   {
    "duration": 8,
    "start_time": "2023-01-16T23:08:24.383Z"
   },
   {
    "duration": 12,
    "start_time": "2023-01-16T23:08:28.886Z"
   },
   {
    "duration": 15,
    "start_time": "2023-01-16T23:09:43.451Z"
   },
   {
    "duration": 15,
    "start_time": "2023-01-16T23:09:51.824Z"
   },
   {
    "duration": 14,
    "start_time": "2023-01-16T23:09:59.755Z"
   },
   {
    "duration": 11,
    "start_time": "2023-01-16T23:16:35.509Z"
   },
   {
    "duration": 12,
    "start_time": "2023-01-16T23:16:40.102Z"
   },
   {
    "duration": 12,
    "start_time": "2023-01-16T23:16:44.586Z"
   },
   {
    "duration": 16,
    "start_time": "2023-01-16T23:19:39.348Z"
   },
   {
    "duration": 312,
    "start_time": "2023-01-16T23:19:50.332Z"
   },
   {
    "duration": 71,
    "start_time": "2023-01-16T23:19:58.487Z"
   },
   {
    "duration": 12,
    "start_time": "2023-01-16T23:20:01.732Z"
   },
   {
    "duration": 13,
    "start_time": "2023-01-16T23:20:06.571Z"
   },
   {
    "duration": 14,
    "start_time": "2023-01-16T23:20:12.129Z"
   },
   {
    "duration": 17,
    "start_time": "2023-01-16T23:23:31.673Z"
   },
   {
    "duration": 14,
    "start_time": "2023-01-16T23:23:56.856Z"
   },
   {
    "duration": 18,
    "start_time": "2023-01-16T23:24:53.936Z"
   },
   {
    "duration": 6,
    "start_time": "2023-01-16T23:25:57.291Z"
   },
   {
    "duration": 10,
    "start_time": "2023-01-16T23:26:01.796Z"
   },
   {
    "duration": 8,
    "start_time": "2023-01-16T23:26:19.922Z"
   },
   {
    "duration": 14,
    "start_time": "2023-01-16T23:26:55.128Z"
   },
   {
    "duration": 1135,
    "start_time": "2023-01-16T23:28:10.651Z"
   },
   {
    "duration": 13,
    "start_time": "2023-01-16T23:28:25.338Z"
   },
   {
    "duration": 8,
    "start_time": "2023-01-16T23:29:01.537Z"
   },
   {
    "duration": 20,
    "start_time": "2023-01-16T23:29:09.940Z"
   },
   {
    "duration": 132,
    "start_time": "2023-01-16T23:29:24.175Z"
   },
   {
    "duration": 9,
    "start_time": "2023-01-16T23:29:46.887Z"
   },
   {
    "duration": 22,
    "start_time": "2023-01-16T23:29:48.897Z"
   },
   {
    "duration": 264,
    "start_time": "2023-01-16T23:29:50.824Z"
   },
   {
    "duration": 191,
    "start_time": "2023-01-16T23:30:32.075Z"
   },
   {
    "duration": 7,
    "start_time": "2023-01-16T23:30:56.881Z"
   },
   {
    "duration": 14,
    "start_time": "2023-01-16T23:31:15.937Z"
   },
   {
    "duration": 9,
    "start_time": "2023-01-16T23:31:32.516Z"
   },
   {
    "duration": 8,
    "start_time": "2023-01-16T23:31:34.883Z"
   },
   {
    "duration": 10,
    "start_time": "2023-01-16T23:31:40.263Z"
   },
   {
    "duration": 7,
    "start_time": "2023-01-16T23:31:42.873Z"
   },
   {
    "duration": 11,
    "start_time": "2023-01-16T23:32:06.093Z"
   },
   {
    "duration": 197,
    "start_time": "2023-01-16T23:32:08.961Z"
   },
   {
    "duration": 25,
    "start_time": "2023-01-16T23:32:15.513Z"
   },
   {
    "duration": 208,
    "start_time": "2023-01-16T23:32:20.432Z"
   },
   {
    "duration": 187,
    "start_time": "2023-01-16T23:33:16.807Z"
   },
   {
    "duration": 190,
    "start_time": "2023-01-16T23:33:22.691Z"
   },
   {
    "duration": 204,
    "start_time": "2023-01-16T23:33:26.044Z"
   },
   {
    "duration": 1333,
    "start_time": "2023-01-17T08:58:43.672Z"
   },
   {
    "duration": 113,
    "start_time": "2023-01-17T08:58:45.007Z"
   },
   {
    "duration": 21,
    "start_time": "2023-01-17T08:58:46.220Z"
   },
   {
    "duration": 9,
    "start_time": "2023-01-17T08:58:47.223Z"
   },
   {
    "duration": 9,
    "start_time": "2023-01-17T08:58:47.631Z"
   },
   {
    "duration": 9,
    "start_time": "2023-01-17T08:58:48.086Z"
   },
   {
    "duration": 5,
    "start_time": "2023-01-17T08:58:48.481Z"
   },
   {
    "duration": 5,
    "start_time": "2023-01-17T08:58:49.133Z"
   },
   {
    "duration": 14,
    "start_time": "2023-01-17T08:58:49.452Z"
   },
   {
    "duration": 6,
    "start_time": "2023-01-17T08:58:50.151Z"
   },
   {
    "duration": 6,
    "start_time": "2023-01-17T08:58:50.670Z"
   },
   {
    "duration": 14,
    "start_time": "2023-01-17T08:58:50.922Z"
   },
   {
    "duration": 13,
    "start_time": "2023-01-17T08:58:51.826Z"
   },
   {
    "duration": 6,
    "start_time": "2023-01-17T08:58:52.392Z"
   },
   {
    "duration": 13,
    "start_time": "2023-01-17T08:58:52.890Z"
   },
   {
    "duration": 12,
    "start_time": "2023-01-17T08:58:53.446Z"
   },
   {
    "duration": 4,
    "start_time": "2023-01-17T08:58:53.743Z"
   },
   {
    "duration": 3,
    "start_time": "2023-01-17T08:58:53.979Z"
   },
   {
    "duration": 288,
    "start_time": "2023-01-17T08:58:54.401Z"
   },
   {
    "duration": 6,
    "start_time": "2023-01-17T08:58:54.934Z"
   },
   {
    "duration": 6,
    "start_time": "2023-01-17T08:58:55.186Z"
   },
   {
    "duration": 288,
    "start_time": "2023-01-17T08:58:55.738Z"
   },
   {
    "duration": 11,
    "start_time": "2023-01-17T08:58:56.423Z"
   },
   {
    "duration": 22,
    "start_time": "2023-01-17T08:58:56.960Z"
   },
   {
    "duration": 6,
    "start_time": "2023-01-17T09:39:21.303Z"
   },
   {
    "duration": 161,
    "start_time": "2023-01-17T09:49:07.998Z"
   },
   {
    "duration": 237,
    "start_time": "2023-01-17T09:49:30.974Z"
   },
   {
    "duration": 167,
    "start_time": "2023-01-17T09:50:01.147Z"
   },
   {
    "duration": 4,
    "start_time": "2023-01-17T10:36:17.693Z"
   },
   {
    "duration": 4,
    "start_time": "2023-01-17T10:37:24.985Z"
   },
   {
    "duration": 4,
    "start_time": "2023-01-17T10:37:33.850Z"
   },
   {
    "duration": 16,
    "start_time": "2023-01-17T10:42:08.140Z"
   },
   {
    "duration": 147,
    "start_time": "2023-01-17T10:42:23.224Z"
   },
   {
    "duration": 10,
    "start_time": "2023-01-17T11:11:12.586Z"
   },
   {
    "duration": 127,
    "start_time": "2023-01-17T11:11:21.321Z"
   },
   {
    "duration": 175,
    "start_time": "2023-01-17T11:12:07.252Z"
   },
   {
    "duration": 226,
    "start_time": "2023-01-17T11:12:29.983Z"
   },
   {
    "duration": 4,
    "start_time": "2023-01-17T15:07:13.777Z"
   },
   {
    "duration": 3,
    "start_time": "2023-01-17T15:07:19.704Z"
   },
   {
    "duration": 4,
    "start_time": "2023-01-17T15:07:23.362Z"
   },
   {
    "duration": 10,
    "start_time": "2023-01-17T15:07:26.075Z"
   },
   {
    "duration": 4,
    "start_time": "2023-01-17T15:07:36.758Z"
   },
   {
    "duration": 14,
    "start_time": "2023-01-17T15:10:00.398Z"
   },
   {
    "duration": 18,
    "start_time": "2023-01-17T15:10:05.158Z"
   },
   {
    "duration": 10,
    "start_time": "2023-01-17T15:10:22.560Z"
   },
   {
    "duration": 271,
    "start_time": "2023-01-17T15:10:29.168Z"
   },
   {
    "duration": 249,
    "start_time": "2023-01-17T15:10:58.681Z"
   },
   {
    "duration": 279,
    "start_time": "2023-01-17T15:23:01.395Z"
   },
   {
    "duration": 1398,
    "start_time": "2023-01-17T21:12:31.025Z"
   },
   {
    "duration": 232,
    "start_time": "2023-01-17T21:12:32.425Z"
   },
   {
    "duration": 19,
    "start_time": "2023-01-17T21:12:33.157Z"
   },
   {
    "duration": 9,
    "start_time": "2023-01-17T21:12:33.777Z"
   },
   {
    "duration": 11,
    "start_time": "2023-01-17T21:12:33.990Z"
   },
   {
    "duration": 15,
    "start_time": "2023-01-17T21:12:34.176Z"
   },
   {
    "duration": 4,
    "start_time": "2023-01-17T21:12:34.361Z"
   },
   {
    "duration": 4,
    "start_time": "2023-01-17T21:12:34.746Z"
   },
   {
    "duration": 13,
    "start_time": "2023-01-17T21:12:34.929Z"
   },
   {
    "duration": 8,
    "start_time": "2023-01-17T21:12:35.291Z"
   },
   {
    "duration": 5,
    "start_time": "2023-01-17T21:12:35.656Z"
   },
   {
    "duration": 14,
    "start_time": "2023-01-17T21:12:35.834Z"
   },
   {
    "duration": 15,
    "start_time": "2023-01-17T21:12:36.419Z"
   },
   {
    "duration": 5,
    "start_time": "2023-01-17T21:12:36.620Z"
   },
   {
    "duration": 13,
    "start_time": "2023-01-17T21:12:36.798Z"
   },
   {
    "duration": 12,
    "start_time": "2023-01-17T21:12:37.209Z"
   },
   {
    "duration": 6,
    "start_time": "2023-01-17T21:12:37.380Z"
   },
   {
    "duration": 4,
    "start_time": "2023-01-17T21:12:37.579Z"
   },
   {
    "duration": 287,
    "start_time": "2023-01-17T21:12:37.945Z"
   },
   {
    "duration": 10,
    "start_time": "2023-01-17T21:12:38.377Z"
   },
   {
    "duration": 7,
    "start_time": "2023-01-17T21:12:38.490Z"
   },
   {
    "duration": 285,
    "start_time": "2023-01-17T21:12:38.877Z"
   },
   {
    "duration": 26,
    "start_time": "2023-01-17T21:12:39.164Z"
   },
   {
    "duration": 38,
    "start_time": "2023-01-17T21:12:39.258Z"
   },
   {
    "duration": 224,
    "start_time": "2023-01-17T21:12:39.650Z"
   },
   {
    "duration": 140,
    "start_time": "2023-01-17T21:12:40.022Z"
   },
   {
    "duration": 153,
    "start_time": "2023-01-17T21:12:40.666Z"
   },
   {
    "duration": 123,
    "start_time": "2023-01-17T21:12:41.104Z"
   },
   {
    "duration": 141,
    "start_time": "2023-01-17T21:12:41.513Z"
   },
   {
    "duration": 263,
    "start_time": "2023-01-17T21:12:42.491Z"
   },
   {
    "duration": 326,
    "start_time": "2023-01-17T21:12:43.017Z"
   },
   {
    "duration": 281,
    "start_time": "2023-01-17T21:12:43.393Z"
   },
   {
    "duration": 55,
    "start_time": "2023-01-17T21:31:57.391Z"
   },
   {
    "duration": 364,
    "start_time": "2023-01-17T21:32:25.346Z"
   },
   {
    "duration": 285,
    "start_time": "2023-01-17T21:32:36.065Z"
   },
   {
    "duration": 285,
    "start_time": "2023-01-17T21:32:43.451Z"
   },
   {
    "duration": 319,
    "start_time": "2023-01-17T21:33:16.306Z"
   },
   {
    "duration": 297,
    "start_time": "2023-01-17T21:35:26.315Z"
   },
   {
    "duration": 356,
    "start_time": "2023-01-17T21:36:02.384Z"
   },
   {
    "duration": 407,
    "start_time": "2023-01-17T21:36:17.632Z"
   },
   {
    "duration": 16,
    "start_time": "2023-01-17T22:07:31.715Z"
   },
   {
    "duration": 27,
    "start_time": "2023-01-17T22:07:58.297Z"
   },
   {
    "duration": 361,
    "start_time": "2023-01-17T22:08:59.635Z"
   },
   {
    "duration": 381,
    "start_time": "2023-01-17T22:13:17.079Z"
   },
   {
    "duration": 400,
    "start_time": "2023-01-17T22:13:34.654Z"
   },
   {
    "duration": 367,
    "start_time": "2023-01-17T22:14:00.149Z"
   },
   {
    "duration": 442,
    "start_time": "2023-01-17T22:14:06.637Z"
   },
   {
    "duration": 385,
    "start_time": "2023-01-17T22:14:10.951Z"
   },
   {
    "duration": 386,
    "start_time": "2023-01-17T22:14:20.938Z"
   },
   {
    "duration": 358,
    "start_time": "2023-01-17T22:15:15.706Z"
   },
   {
    "duration": 357,
    "start_time": "2023-01-17T22:17:01.531Z"
   },
   {
    "duration": 533,
    "start_time": "2023-01-17T22:23:22.681Z"
   },
   {
    "duration": 351,
    "start_time": "2023-01-17T22:23:34.082Z"
   },
   {
    "duration": 374,
    "start_time": "2023-01-17T22:23:50.213Z"
   },
   {
    "duration": 503,
    "start_time": "2023-01-17T22:23:56.412Z"
   },
   {
    "duration": 415,
    "start_time": "2023-01-17T22:26:42.859Z"
   },
   {
    "duration": 421,
    "start_time": "2023-01-17T22:27:36.740Z"
   },
   {
    "duration": 613,
    "start_time": "2023-01-17T22:27:55.833Z"
   },
   {
    "duration": 11,
    "start_time": "2023-01-17T22:28:59.905Z"
   },
   {
    "duration": 26,
    "start_time": "2023-01-17T22:29:04.972Z"
   },
   {
    "duration": 12,
    "start_time": "2023-01-17T22:29:42.829Z"
   },
   {
    "duration": 463,
    "start_time": "2023-01-17T22:29:58.439Z"
   },
   {
    "duration": 15,
    "start_time": "2023-01-17T22:33:40.209Z"
   },
   {
    "duration": 434,
    "start_time": "2023-01-17T22:35:43.829Z"
   },
   {
    "duration": 11,
    "start_time": "2023-01-17T22:37:09.244Z"
   },
   {
    "duration": 19,
    "start_time": "2023-01-17T22:37:14.601Z"
   },
   {
    "duration": 11,
    "start_time": "2023-01-17T22:37:26.307Z"
   },
   {
    "duration": 744,
    "start_time": "2023-01-17T22:37:33.364Z"
   },
   {
    "duration": 17,
    "start_time": "2023-01-17T22:39:46.334Z"
   },
   {
    "duration": 198,
    "start_time": "2023-01-17T22:40:19.379Z"
   },
   {
    "duration": 174,
    "start_time": "2023-01-17T22:41:10.786Z"
   },
   {
    "duration": 22,
    "start_time": "2023-01-17T22:41:17.377Z"
   },
   {
    "duration": 16,
    "start_time": "2023-01-17T22:41:20.609Z"
   },
   {
    "duration": 781,
    "start_time": "2023-01-17T22:48:38.689Z"
   },
   {
    "duration": 835,
    "start_time": "2023-01-17T22:48:50.878Z"
   },
   {
    "duration": 788,
    "start_time": "2023-01-17T22:49:00.053Z"
   },
   {
    "duration": 3,
    "start_time": "2023-01-17T22:49:31.833Z"
   },
   {
    "duration": 5,
    "start_time": "2023-01-17T22:49:34.069Z"
   },
   {
    "duration": 9,
    "start_time": "2023-01-17T22:49:41.532Z"
   },
   {
    "duration": 7,
    "start_time": "2023-01-17T22:50:26.617Z"
   },
   {
    "duration": 3,
    "start_time": "2023-01-17T22:51:27.902Z"
   },
   {
    "duration": 15,
    "start_time": "2023-01-17T22:55:05.528Z"
   },
   {
    "duration": 9,
    "start_time": "2023-01-17T22:55:14.509Z"
   },
   {
    "duration": 10,
    "start_time": "2023-01-17T22:55:34.014Z"
   },
   {
    "duration": 11,
    "start_time": "2023-01-17T22:58:08.663Z"
   },
   {
    "duration": 20,
    "start_time": "2023-01-17T23:04:29.980Z"
   },
   {
    "duration": 12,
    "start_time": "2023-01-17T23:05:19.709Z"
   },
   {
    "duration": 18,
    "start_time": "2023-01-17T23:05:28.710Z"
   },
   {
    "duration": 22,
    "start_time": "2023-01-17T23:05:41.876Z"
   },
   {
    "duration": 408,
    "start_time": "2023-01-17T23:18:34.269Z"
   },
   {
    "duration": 1147,
    "start_time": "2023-01-18T00:09:53.564Z"
   },
   {
    "duration": 66,
    "start_time": "2023-01-18T00:09:54.713Z"
   },
   {
    "duration": 24,
    "start_time": "2023-01-18T00:09:54.780Z"
   },
   {
    "duration": 15,
    "start_time": "2023-01-18T00:09:54.806Z"
   },
   {
    "duration": 11,
    "start_time": "2023-01-18T00:09:54.823Z"
   },
   {
    "duration": 11,
    "start_time": "2023-01-18T00:09:54.836Z"
   },
   {
    "duration": 8,
    "start_time": "2023-01-18T00:09:54.848Z"
   },
   {
    "duration": 6,
    "start_time": "2023-01-18T00:09:54.858Z"
   },
   {
    "duration": 28,
    "start_time": "2023-01-18T00:09:54.865Z"
   },
   {
    "duration": 14,
    "start_time": "2023-01-18T00:09:54.895Z"
   },
   {
    "duration": 7,
    "start_time": "2023-01-18T00:09:54.911Z"
   },
   {
    "duration": 19,
    "start_time": "2023-01-18T00:09:54.920Z"
   },
   {
    "duration": 16,
    "start_time": "2023-01-18T00:09:54.941Z"
   },
   {
    "duration": 5,
    "start_time": "2023-01-18T00:09:54.960Z"
   },
   {
    "duration": 31,
    "start_time": "2023-01-18T00:09:54.966Z"
   },
   {
    "duration": 21,
    "start_time": "2023-01-18T00:09:54.999Z"
   },
   {
    "duration": 4,
    "start_time": "2023-01-18T00:09:55.022Z"
   },
   {
    "duration": 10,
    "start_time": "2023-01-18T00:09:55.027Z"
   },
   {
    "duration": 279,
    "start_time": "2023-01-18T00:09:55.038Z"
   },
   {
    "duration": 6,
    "start_time": "2023-01-18T00:09:55.319Z"
   },
   {
    "duration": 13,
    "start_time": "2023-01-18T00:09:55.327Z"
   },
   {
    "duration": 316,
    "start_time": "2023-01-18T00:09:55.343Z"
   },
   {
    "duration": 28,
    "start_time": "2023-01-18T00:09:55.661Z"
   },
   {
    "duration": 41,
    "start_time": "2023-01-18T00:09:55.691Z"
   },
   {
    "duration": 226,
    "start_time": "2023-01-18T00:09:55.733Z"
   },
   {
    "duration": 156,
    "start_time": "2023-01-18T00:09:55.961Z"
   },
   {
    "duration": 156,
    "start_time": "2023-01-18T00:09:56.119Z"
   },
   {
    "duration": 175,
    "start_time": "2023-01-18T00:09:56.281Z"
   },
   {
    "duration": 143,
    "start_time": "2023-01-18T00:09:56.458Z"
   },
   {
    "duration": 256,
    "start_time": "2023-01-18T00:09:56.602Z"
   },
   {
    "duration": 346,
    "start_time": "2023-01-18T00:09:56.860Z"
   },
   {
    "duration": 305,
    "start_time": "2023-01-18T00:09:57.208Z"
   },
   {
    "duration": 426,
    "start_time": "2023-01-18T00:09:57.514Z"
   },
   {
    "duration": 521,
    "start_time": "2023-01-18T00:09:57.941Z"
   },
   {
    "duration": 0,
    "start_time": "2023-01-18T00:09:58.464Z"
   },
   {
    "duration": 0,
    "start_time": "2023-01-18T00:09:58.465Z"
   },
   {
    "duration": 0,
    "start_time": "2023-01-18T00:09:58.466Z"
   },
   {
    "duration": 0,
    "start_time": "2023-01-18T00:09:58.467Z"
   },
   {
    "duration": 0,
    "start_time": "2023-01-18T00:09:58.468Z"
   },
   {
    "duration": 1137,
    "start_time": "2023-01-18T13:09:45.457Z"
   },
   {
    "duration": 57,
    "start_time": "2023-01-18T13:09:46.596Z"
   },
   {
    "duration": 17,
    "start_time": "2023-01-18T13:09:46.655Z"
   },
   {
    "duration": 7,
    "start_time": "2023-01-18T13:09:46.674Z"
   },
   {
    "duration": 9,
    "start_time": "2023-01-18T13:09:46.683Z"
   },
   {
    "duration": 8,
    "start_time": "2023-01-18T13:09:46.693Z"
   },
   {
    "duration": 7,
    "start_time": "2023-01-18T13:09:46.703Z"
   },
   {
    "duration": 8,
    "start_time": "2023-01-18T13:09:46.711Z"
   },
   {
    "duration": 15,
    "start_time": "2023-01-18T13:09:46.720Z"
   },
   {
    "duration": 5,
    "start_time": "2023-01-18T13:09:46.737Z"
   },
   {
    "duration": 9,
    "start_time": "2023-01-18T13:09:46.744Z"
   },
   {
    "duration": 35,
    "start_time": "2023-01-18T13:09:46.754Z"
   },
   {
    "duration": 15,
    "start_time": "2023-01-18T13:09:46.790Z"
   },
   {
    "duration": 4,
    "start_time": "2023-01-18T13:09:46.807Z"
   },
   {
    "duration": 14,
    "start_time": "2023-01-18T13:09:46.813Z"
   },
   {
    "duration": 12,
    "start_time": "2023-01-18T13:09:46.828Z"
   },
   {
    "duration": 4,
    "start_time": "2023-01-18T13:09:46.841Z"
   },
   {
    "duration": 32,
    "start_time": "2023-01-18T13:09:46.846Z"
   },
   {
    "duration": 282,
    "start_time": "2023-01-18T13:09:46.879Z"
   },
   {
    "duration": 6,
    "start_time": "2023-01-18T13:09:47.163Z"
   },
   {
    "duration": 9,
    "start_time": "2023-01-18T13:09:47.170Z"
   },
   {
    "duration": 276,
    "start_time": "2023-01-18T13:09:47.180Z"
   },
   {
    "duration": 9,
    "start_time": "2023-01-18T13:09:47.458Z"
   },
   {
    "duration": 28,
    "start_time": "2023-01-18T13:09:47.468Z"
   },
   {
    "duration": 228,
    "start_time": "2023-01-18T13:09:47.498Z"
   },
   {
    "duration": 136,
    "start_time": "2023-01-18T13:09:47.727Z"
   },
   {
    "duration": 147,
    "start_time": "2023-01-18T13:09:47.864Z"
   },
   {
    "duration": 122,
    "start_time": "2023-01-18T13:09:48.015Z"
   },
   {
    "duration": 125,
    "start_time": "2023-01-18T13:09:48.139Z"
   },
   {
    "duration": 273,
    "start_time": "2023-01-18T13:09:48.266Z"
   },
   {
    "duration": 353,
    "start_time": "2023-01-18T13:09:48.541Z"
   },
   {
    "duration": 315,
    "start_time": "2023-01-18T13:09:48.896Z"
   },
   {
    "duration": 419,
    "start_time": "2023-01-18T13:09:49.213Z"
   },
   {
    "duration": 490,
    "start_time": "2023-01-18T13:09:49.634Z"
   },
   {
    "duration": 0,
    "start_time": "2023-01-18T13:09:50.125Z"
   },
   {
    "duration": 0,
    "start_time": "2023-01-18T13:09:50.126Z"
   },
   {
    "duration": 0,
    "start_time": "2023-01-18T13:09:50.127Z"
   },
   {
    "duration": 0,
    "start_time": "2023-01-18T13:09:50.129Z"
   },
   {
    "duration": 0,
    "start_time": "2023-01-18T13:09:50.130Z"
   },
   {
    "duration": 95,
    "start_time": "2023-01-18T13:39:00.690Z"
   },
   {
    "duration": 1064,
    "start_time": "2023-01-18T13:39:27.729Z"
   },
   {
    "duration": 55,
    "start_time": "2023-01-18T13:39:28.795Z"
   },
   {
    "duration": 18,
    "start_time": "2023-01-18T13:39:28.852Z"
   },
   {
    "duration": 6,
    "start_time": "2023-01-18T13:39:28.872Z"
   },
   {
    "duration": 16,
    "start_time": "2023-01-18T13:39:28.880Z"
   },
   {
    "duration": 8,
    "start_time": "2023-01-18T13:39:28.897Z"
   },
   {
    "duration": 6,
    "start_time": "2023-01-18T13:39:28.906Z"
   },
   {
    "duration": 5,
    "start_time": "2023-01-18T13:39:28.914Z"
   },
   {
    "duration": 14,
    "start_time": "2023-01-18T13:39:28.920Z"
   },
   {
    "duration": 5,
    "start_time": "2023-01-18T13:39:28.937Z"
   },
   {
    "duration": 6,
    "start_time": "2023-01-18T13:39:28.943Z"
   },
   {
    "duration": 13,
    "start_time": "2023-01-18T13:39:28.951Z"
   },
   {
    "duration": 130,
    "start_time": "2023-01-18T13:39:28.966Z"
   },
   {
    "duration": 14,
    "start_time": "2023-01-18T13:39:29.097Z"
   },
   {
    "duration": 5,
    "start_time": "2023-01-18T13:39:29.112Z"
   },
   {
    "duration": 14,
    "start_time": "2023-01-18T13:39:29.118Z"
   },
   {
    "duration": 19,
    "start_time": "2023-01-18T13:39:29.133Z"
   },
   {
    "duration": 4,
    "start_time": "2023-01-18T13:39:29.154Z"
   },
   {
    "duration": 5,
    "start_time": "2023-01-18T13:39:29.160Z"
   },
   {
    "duration": 299,
    "start_time": "2023-01-18T13:39:29.166Z"
   },
   {
    "duration": 5,
    "start_time": "2023-01-18T13:39:29.467Z"
   },
   {
    "duration": 23,
    "start_time": "2023-01-18T13:39:29.474Z"
   },
   {
    "duration": 311,
    "start_time": "2023-01-18T13:39:29.498Z"
   },
   {
    "duration": 10,
    "start_time": "2023-01-18T13:39:29.810Z"
   },
   {
    "duration": 43,
    "start_time": "2023-01-18T13:39:29.821Z"
   },
   {
    "duration": 224,
    "start_time": "2023-01-18T13:39:29.865Z"
   },
   {
    "duration": 147,
    "start_time": "2023-01-18T13:39:30.091Z"
   },
   {
    "duration": 163,
    "start_time": "2023-01-18T13:39:30.241Z"
   },
   {
    "duration": 121,
    "start_time": "2023-01-18T13:39:30.406Z"
   },
   {
    "duration": 141,
    "start_time": "2023-01-18T13:39:30.528Z"
   },
   {
    "duration": 273,
    "start_time": "2023-01-18T13:39:30.670Z"
   },
   {
    "duration": 337,
    "start_time": "2023-01-18T13:39:30.945Z"
   },
   {
    "duration": 278,
    "start_time": "2023-01-18T13:39:31.283Z"
   },
   {
    "duration": 372,
    "start_time": "2023-01-18T13:39:31.562Z"
   },
   {
    "duration": 467,
    "start_time": "2023-01-18T13:39:31.936Z"
   },
   {
    "duration": 0,
    "start_time": "2023-01-18T13:39:32.405Z"
   },
   {
    "duration": 0,
    "start_time": "2023-01-18T13:39:32.406Z"
   },
   {
    "duration": 0,
    "start_time": "2023-01-18T13:39:32.407Z"
   },
   {
    "duration": 0,
    "start_time": "2023-01-18T13:39:32.408Z"
   },
   {
    "duration": 0,
    "start_time": "2023-01-18T13:39:32.409Z"
   },
   {
    "duration": 5,
    "start_time": "2023-01-18T13:41:07.534Z"
   },
   {
    "duration": 1097,
    "start_time": "2023-01-18T13:41:25.398Z"
   },
   {
    "duration": 59,
    "start_time": "2023-01-18T13:41:26.497Z"
   },
   {
    "duration": 19,
    "start_time": "2023-01-18T13:41:26.558Z"
   },
   {
    "duration": 16,
    "start_time": "2023-01-18T13:41:26.580Z"
   },
   {
    "duration": 27,
    "start_time": "2023-01-18T13:41:26.598Z"
   },
   {
    "duration": 19,
    "start_time": "2023-01-18T13:41:26.627Z"
   },
   {
    "duration": 23,
    "start_time": "2023-01-18T13:41:26.647Z"
   },
   {
    "duration": 15,
    "start_time": "2023-01-18T13:41:26.672Z"
   },
   {
    "duration": 21,
    "start_time": "2023-01-18T13:41:26.688Z"
   },
   {
    "duration": 31,
    "start_time": "2023-01-18T13:41:26.712Z"
   },
   {
    "duration": 34,
    "start_time": "2023-01-18T13:41:26.746Z"
   },
   {
    "duration": 27,
    "start_time": "2023-01-18T13:41:26.782Z"
   },
   {
    "duration": 26,
    "start_time": "2023-01-18T13:41:26.810Z"
   },
   {
    "duration": 37,
    "start_time": "2023-01-18T13:41:26.838Z"
   },
   {
    "duration": 118,
    "start_time": "2023-01-18T13:41:26.877Z"
   },
   {
    "duration": 14,
    "start_time": "2023-01-18T13:41:26.997Z"
   },
   {
    "duration": 26,
    "start_time": "2023-01-18T13:41:27.013Z"
   },
   {
    "duration": 48,
    "start_time": "2023-01-18T13:41:27.041Z"
   },
   {
    "duration": 27,
    "start_time": "2023-01-18T13:41:27.091Z"
   },
   {
    "duration": 26,
    "start_time": "2023-01-18T13:41:27.120Z"
   },
   {
    "duration": 25,
    "start_time": "2023-01-18T13:41:27.147Z"
   },
   {
    "duration": 295,
    "start_time": "2023-01-18T13:41:27.174Z"
   },
   {
    "duration": 5,
    "start_time": "2023-01-18T13:41:27.471Z"
   },
   {
    "duration": 32,
    "start_time": "2023-01-18T13:41:27.478Z"
   },
   {
    "duration": 302,
    "start_time": "2023-01-18T13:41:27.512Z"
   },
   {
    "duration": 10,
    "start_time": "2023-01-18T13:41:27.816Z"
   },
   {
    "duration": 42,
    "start_time": "2023-01-18T13:41:27.827Z"
   },
   {
    "duration": 225,
    "start_time": "2023-01-18T13:41:27.872Z"
   },
   {
    "duration": 142,
    "start_time": "2023-01-18T13:41:28.098Z"
   },
   {
    "duration": 151,
    "start_time": "2023-01-18T13:41:28.242Z"
   },
   {
    "duration": 121,
    "start_time": "2023-01-18T13:41:28.395Z"
   },
   {
    "duration": 140,
    "start_time": "2023-01-18T13:41:28.518Z"
   },
   {
    "duration": 316,
    "start_time": "2023-01-18T13:41:28.659Z"
   },
   {
    "duration": 257,
    "start_time": "2023-01-18T13:41:28.977Z"
   },
   {
    "duration": 281,
    "start_time": "2023-01-18T13:41:29.235Z"
   },
   {
    "duration": 393,
    "start_time": "2023-01-18T13:41:29.518Z"
   },
   {
    "duration": 504,
    "start_time": "2023-01-18T13:41:29.912Z"
   },
   {
    "duration": 0,
    "start_time": "2023-01-18T13:41:30.418Z"
   },
   {
    "duration": 0,
    "start_time": "2023-01-18T13:41:30.420Z"
   },
   {
    "duration": 0,
    "start_time": "2023-01-18T13:41:30.422Z"
   },
   {
    "duration": 0,
    "start_time": "2023-01-18T13:41:30.423Z"
   },
   {
    "duration": 0,
    "start_time": "2023-01-18T13:41:30.425Z"
   },
   {
    "duration": 59,
    "start_time": "2023-01-18T20:10:42.580Z"
   },
   {
    "duration": 1398,
    "start_time": "2023-01-18T20:10:49.233Z"
   },
   {
    "duration": 219,
    "start_time": "2023-01-18T20:10:50.633Z"
   },
   {
    "duration": 18,
    "start_time": "2023-01-18T20:11:24.685Z"
   },
   {
    "duration": 8,
    "start_time": "2023-01-18T20:11:28.328Z"
   },
   {
    "duration": 7,
    "start_time": "2023-01-18T20:12:55.688Z"
   },
   {
    "duration": 6,
    "start_time": "2023-01-18T20:13:08.799Z"
   },
   {
    "duration": 6,
    "start_time": "2023-01-18T20:13:56.199Z"
   },
   {
    "duration": 6,
    "start_time": "2023-01-18T20:17:07.965Z"
   },
   {
    "duration": 11,
    "start_time": "2023-01-18T20:17:22.711Z"
   },
   {
    "duration": 6,
    "start_time": "2023-01-18T20:19:41.675Z"
   },
   {
    "duration": 1165,
    "start_time": "2023-01-18T20:19:51.389Z"
   },
   {
    "duration": 74,
    "start_time": "2023-01-18T20:19:52.557Z"
   },
   {
    "duration": 22,
    "start_time": "2023-01-18T20:19:53.142Z"
   },
   {
    "duration": 10,
    "start_time": "2023-01-18T20:19:53.772Z"
   },
   {
    "duration": 11,
    "start_time": "2023-01-18T20:19:54.147Z"
   },
   {
    "duration": 6,
    "start_time": "2023-01-18T20:19:54.328Z"
   },
   {
    "duration": 11,
    "start_time": "2023-01-18T20:19:54.469Z"
   },
   {
    "duration": 5,
    "start_time": "2023-01-18T20:19:54.693Z"
   },
   {
    "duration": 8,
    "start_time": "2023-01-18T20:19:54.882Z"
   },
   {
    "duration": 5,
    "start_time": "2023-01-18T20:19:55.231Z"
   },
   {
    "duration": 5,
    "start_time": "2023-01-18T20:19:55.409Z"
   },
   {
    "duration": 5,
    "start_time": "2023-01-18T20:19:55.779Z"
   },
   {
    "duration": 16,
    "start_time": "2023-01-18T20:19:56.324Z"
   },
   {
    "duration": 6,
    "start_time": "2023-01-18T20:19:56.681Z"
   },
   {
    "duration": 6,
    "start_time": "2023-01-18T20:19:57.813Z"
   },
   {
    "duration": 15,
    "start_time": "2023-01-18T20:19:58.750Z"
   },
   {
    "duration": 97,
    "start_time": "2023-01-18T20:20:01.295Z"
   },
   {
    "duration": 154,
    "start_time": "2023-01-18T20:21:24.726Z"
   },
   {
    "duration": 164,
    "start_time": "2023-01-18T20:21:33.636Z"
   },
   {
    "duration": 158,
    "start_time": "2023-01-18T20:22:00.534Z"
   },
   {
    "duration": 141,
    "start_time": "2023-01-18T20:22:06.090Z"
   },
   {
    "duration": 136,
    "start_time": "2023-01-18T20:22:19.281Z"
   },
   {
    "duration": 121,
    "start_time": "2023-01-18T20:22:50.484Z"
   },
   {
    "duration": 3,
    "start_time": "2023-01-18T20:22:57.686Z"
   },
   {
    "duration": 60,
    "start_time": "2023-01-18T20:22:57.913Z"
   },
   {
    "duration": 16,
    "start_time": "2023-01-18T20:22:58.485Z"
   },
   {
    "duration": 8,
    "start_time": "2023-01-18T20:22:58.986Z"
   },
   {
    "duration": 10,
    "start_time": "2023-01-18T20:22:59.343Z"
   },
   {
    "duration": 6,
    "start_time": "2023-01-18T20:22:59.524Z"
   },
   {
    "duration": 11,
    "start_time": "2023-01-18T20:22:59.706Z"
   },
   {
    "duration": 5,
    "start_time": "2023-01-18T20:22:59.884Z"
   },
   {
    "duration": 9,
    "start_time": "2023-01-18T20:23:00.031Z"
   },
   {
    "duration": 5,
    "start_time": "2023-01-18T20:23:00.347Z"
   },
   {
    "duration": 4,
    "start_time": "2023-01-18T20:23:00.541Z"
   },
   {
    "duration": 5,
    "start_time": "2023-01-18T20:23:00.883Z"
   },
   {
    "duration": 14,
    "start_time": "2023-01-18T20:23:01.377Z"
   },
   {
    "duration": 6,
    "start_time": "2023-01-18T20:23:01.714Z"
   },
   {
    "duration": 5,
    "start_time": "2023-01-18T20:23:02.248Z"
   },
   {
    "duration": 17,
    "start_time": "2023-01-18T20:23:02.589Z"
   },
   {
    "duration": 94,
    "start_time": "2023-01-18T20:23:02.787Z"
   },
   {
    "duration": 152,
    "start_time": "2023-01-18T20:23:03.484Z"
   },
   {
    "duration": 5,
    "start_time": "2023-01-18T20:23:03.880Z"
   },
   {
    "duration": 14,
    "start_time": "2023-01-18T20:23:04.074Z"
   },
   {
    "duration": 141,
    "start_time": "2023-01-18T20:23:04.420Z"
   },
   {
    "duration": 4,
    "start_time": "2023-01-18T20:23:04.808Z"
   },
   {
    "duration": 4,
    "start_time": "2023-01-18T20:23:04.986Z"
   },
   {
    "duration": 280,
    "start_time": "2023-01-18T20:23:05.364Z"
   },
   {
    "duration": 6,
    "start_time": "2023-01-18T20:23:06.110Z"
   },
   {
    "duration": 6,
    "start_time": "2023-01-18T20:23:06.324Z"
   },
   {
    "duration": 378,
    "start_time": "2023-01-18T20:23:06.682Z"
   },
   {
    "duration": 10,
    "start_time": "2023-01-18T20:23:07.062Z"
   },
   {
    "duration": 38,
    "start_time": "2023-01-18T20:23:07.074Z"
   },
   {
    "duration": 318,
    "start_time": "2023-01-18T20:23:07.586Z"
   },
   {
    "duration": 158,
    "start_time": "2023-01-18T20:23:08.146Z"
   },
   {
    "duration": 156,
    "start_time": "2023-01-18T20:23:08.749Z"
   },
   {
    "duration": 130,
    "start_time": "2023-01-18T20:23:08.927Z"
   },
   {
    "duration": 140,
    "start_time": "2023-01-18T20:23:09.122Z"
   },
   {
    "duration": 271,
    "start_time": "2023-01-18T20:23:09.498Z"
   },
   {
    "duration": 295,
    "start_time": "2023-01-18T20:23:09.771Z"
   },
   {
    "duration": 265,
    "start_time": "2023-01-18T20:23:10.068Z"
   },
   {
    "duration": 508,
    "start_time": "2023-01-18T20:23:10.806Z"
   },
   {
    "duration": 438,
    "start_time": "2023-01-18T20:23:11.683Z"
   },
   {
    "duration": 19,
    "start_time": "2023-01-18T20:23:12.123Z"
   },
   {
    "duration": 470,
    "start_time": "2023-01-18T20:23:12.481Z"
   },
   {
    "duration": 0,
    "start_time": "2023-01-18T20:23:12.953Z"
   },
   {
    "duration": 11,
    "start_time": "2023-01-18T20:23:13.450Z"
   },
   {
    "duration": 11,
    "start_time": "2023-01-18T20:23:13.680Z"
   },
   {
    "duration": 397,
    "start_time": "2023-01-18T20:23:41.610Z"
   },
   {
    "duration": 7,
    "start_time": "2023-01-18T20:25:37.525Z"
   },
   {
    "duration": 8,
    "start_time": "2023-01-18T20:33:15.411Z"
   },
   {
    "duration": 6,
    "start_time": "2023-01-18T20:33:49.504Z"
   },
   {
    "duration": 10,
    "start_time": "2023-01-18T20:33:58.278Z"
   },
   {
    "duration": 11,
    "start_time": "2023-01-18T20:34:06.515Z"
   },
   {
    "duration": 6,
    "start_time": "2023-01-18T20:34:42.021Z"
   },
   {
    "duration": 6,
    "start_time": "2023-01-18T20:34:43.815Z"
   },
   {
    "duration": 7,
    "start_time": "2023-01-18T20:34:45.339Z"
   },
   {
    "duration": 4,
    "start_time": "2023-01-18T20:34:46.026Z"
   },
   {
    "duration": 5,
    "start_time": "2023-01-18T20:34:46.997Z"
   },
   {
    "duration": 18,
    "start_time": "2023-01-18T20:34:48.152Z"
   },
   {
    "duration": 6,
    "start_time": "2023-01-18T20:34:49.818Z"
   },
   {
    "duration": 6,
    "start_time": "2023-01-18T20:34:51.878Z"
   },
   {
    "duration": 16,
    "start_time": "2023-01-18T20:34:58.207Z"
   },
   {
    "duration": 97,
    "start_time": "2023-01-18T20:35:08.104Z"
   },
   {
    "duration": 353,
    "start_time": "2023-01-18T20:51:12.216Z"
   },
   {
    "duration": 353,
    "start_time": "2023-01-18T20:51:20.420Z"
   },
   {
    "duration": 426,
    "start_time": "2023-01-18T20:51:33.620Z"
   },
   {
    "duration": 306,
    "start_time": "2023-01-18T20:55:01.594Z"
   },
   {
    "duration": 129,
    "start_time": "2023-01-18T20:57:40.708Z"
   },
   {
    "duration": 155,
    "start_time": "2023-01-18T20:59:51.558Z"
   },
   {
    "duration": 163,
    "start_time": "2023-01-18T21:00:34.845Z"
   },
   {
    "duration": 3,
    "start_time": "2023-01-18T21:00:42.093Z"
   },
   {
    "duration": 159,
    "start_time": "2023-01-18T21:00:52.222Z"
   },
   {
    "duration": 134,
    "start_time": "2023-01-18T21:03:05.794Z"
   },
   {
    "duration": 162,
    "start_time": "2023-01-18T21:03:10.843Z"
   },
   {
    "duration": 173,
    "start_time": "2023-01-18T21:04:09.874Z"
   },
   {
    "duration": 48,
    "start_time": "2023-01-18T21:04:45.477Z"
   },
   {
    "duration": 14,
    "start_time": "2023-01-18T21:05:17.906Z"
   },
   {
    "duration": 147,
    "start_time": "2023-01-18T21:05:26.107Z"
   },
   {
    "duration": 160,
    "start_time": "2023-01-18T21:07:04.623Z"
   },
   {
    "duration": 297,
    "start_time": "2023-01-18T21:07:54.420Z"
   },
   {
    "duration": 411,
    "start_time": "2023-01-18T21:08:20.078Z"
   },
   {
    "duration": 268,
    "start_time": "2023-01-18T21:08:23.092Z"
   },
   {
    "duration": 331,
    "start_time": "2023-01-18T21:09:12.817Z"
   },
   {
    "duration": 129,
    "start_time": "2023-01-18T21:09:26.061Z"
   },
   {
    "duration": 319,
    "start_time": "2023-01-18T21:09:30.812Z"
   },
   {
    "duration": 273,
    "start_time": "2023-01-18T21:10:23.932Z"
   },
   {
    "duration": 18,
    "start_time": "2023-01-18T21:11:07.559Z"
   },
   {
    "duration": 19,
    "start_time": "2023-01-18T21:11:31.383Z"
   },
   {
    "duration": 22,
    "start_time": "2023-01-18T21:11:36.572Z"
   },
   {
    "duration": 20,
    "start_time": "2023-01-18T21:12:32.022Z"
   },
   {
    "duration": 197,
    "start_time": "2023-01-18T21:12:39.586Z"
   },
   {
    "duration": 289,
    "start_time": "2023-01-18T21:13:13.153Z"
   },
   {
    "duration": 352,
    "start_time": "2023-01-18T21:13:35.029Z"
   },
   {
    "duration": 433,
    "start_time": "2023-01-18T21:13:43.943Z"
   },
   {
    "duration": 470,
    "start_time": "2023-01-18T21:13:49.940Z"
   },
   {
    "duration": 600,
    "start_time": "2023-01-18T21:14:24.992Z"
   },
   {
    "duration": 465,
    "start_time": "2023-01-18T21:15:58.944Z"
   },
   {
    "duration": 671,
    "start_time": "2023-01-18T21:16:11.562Z"
   },
   {
    "duration": 789,
    "start_time": "2023-01-18T21:16:37.902Z"
   },
   {
    "duration": 1172,
    "start_time": "2023-01-18T21:16:43.337Z"
   },
   {
    "duration": 680,
    "start_time": "2023-01-18T21:16:53.235Z"
   },
   {
    "duration": 10,
    "start_time": "2023-01-18T21:18:01.863Z"
   },
   {
    "duration": 10,
    "start_time": "2023-01-18T21:18:03.689Z"
   },
   {
    "duration": 10,
    "start_time": "2023-01-18T21:19:35.943Z"
   },
   {
    "duration": 9,
    "start_time": "2023-01-18T21:19:37.862Z"
   },
   {
    "duration": 5,
    "start_time": "2023-01-18T21:21:25.919Z"
   },
   {
    "duration": 4,
    "start_time": "2023-01-18T21:21:27.800Z"
   },
   {
    "duration": 13,
    "start_time": "2023-01-18T21:27:28.842Z"
   },
   {
    "duration": 162,
    "start_time": "2023-01-18T21:27:47.198Z"
   },
   {
    "duration": 186,
    "start_time": "2023-01-18T21:27:56.631Z"
   },
   {
    "duration": 212,
    "start_time": "2023-01-18T21:28:12.740Z"
   },
   {
    "duration": 212,
    "start_time": "2023-01-18T21:28:19.642Z"
   },
   {
    "duration": 178,
    "start_time": "2023-01-18T21:28:27.235Z"
   },
   {
    "duration": 641,
    "start_time": "2023-01-18T21:31:41.750Z"
   },
   {
    "duration": 523,
    "start_time": "2023-01-18T21:31:47.245Z"
   },
   {
    "duration": 324,
    "start_time": "2023-01-18T21:37:12.736Z"
   },
   {
    "duration": 8,
    "start_time": "2023-01-18T21:46:09.537Z"
   },
   {
    "duration": 48,
    "start_time": "2023-01-18T21:47:23.507Z"
   },
   {
    "duration": 131,
    "start_time": "2023-01-18T21:47:31.750Z"
   },
   {
    "duration": 162,
    "start_time": "2023-01-18T21:53:34.401Z"
   },
   {
    "duration": 198,
    "start_time": "2023-01-18T21:53:43.288Z"
   },
   {
    "duration": 194,
    "start_time": "2023-01-18T21:53:46.321Z"
   },
   {
    "duration": 185,
    "start_time": "2023-01-18T21:53:57.305Z"
   },
   {
    "duration": 167,
    "start_time": "2023-01-18T21:56:04.246Z"
   },
   {
    "duration": 361,
    "start_time": "2023-01-18T21:56:19.199Z"
   },
   {
    "duration": 364,
    "start_time": "2023-01-18T21:57:57.911Z"
   },
   {
    "duration": 1215,
    "start_time": "2023-01-19T18:18:14.535Z"
   },
   {
    "duration": 67,
    "start_time": "2023-01-19T18:18:15.752Z"
   },
   {
    "duration": 20,
    "start_time": "2023-01-19T18:18:15.821Z"
   },
   {
    "duration": 26,
    "start_time": "2023-01-19T18:18:15.843Z"
   },
   {
    "duration": 15,
    "start_time": "2023-01-19T18:18:15.872Z"
   },
   {
    "duration": 24,
    "start_time": "2023-01-19T18:18:15.889Z"
   },
   {
    "duration": 13,
    "start_time": "2023-01-19T18:18:15.915Z"
   },
   {
    "duration": 25,
    "start_time": "2023-01-19T18:18:15.929Z"
   },
   {
    "duration": 29,
    "start_time": "2023-01-19T18:18:15.956Z"
   },
   {
    "duration": 26,
    "start_time": "2023-01-19T18:18:15.987Z"
   },
   {
    "duration": 32,
    "start_time": "2023-01-19T18:18:16.015Z"
   },
   {
    "duration": 33,
    "start_time": "2023-01-19T18:18:16.049Z"
   },
   {
    "duration": 19,
    "start_time": "2023-01-19T18:18:16.084Z"
   },
   {
    "duration": 14,
    "start_time": "2023-01-19T18:18:16.106Z"
   },
   {
    "duration": 29,
    "start_time": "2023-01-19T18:18:16.121Z"
   },
   {
    "duration": 99,
    "start_time": "2023-01-19T18:18:16.152Z"
   },
   {
    "duration": 188,
    "start_time": "2023-01-19T18:18:16.253Z"
   },
   {
    "duration": 5,
    "start_time": "2023-01-19T18:18:16.442Z"
   },
   {
    "duration": 37,
    "start_time": "2023-01-19T18:18:16.449Z"
   },
   {
    "duration": 155,
    "start_time": "2023-01-19T18:18:16.487Z"
   },
   {
    "duration": 4,
    "start_time": "2023-01-19T18:18:16.644Z"
   },
   {
    "duration": 26,
    "start_time": "2023-01-19T18:18:16.650Z"
   },
   {
    "duration": 276,
    "start_time": "2023-01-19T18:18:16.677Z"
   },
   {
    "duration": 6,
    "start_time": "2023-01-19T18:18:16.955Z"
   },
   {
    "duration": 12,
    "start_time": "2023-01-19T18:18:16.963Z"
   },
   {
    "duration": 340,
    "start_time": "2023-01-19T18:18:16.977Z"
   },
   {
    "duration": 10,
    "start_time": "2023-01-19T18:18:17.319Z"
   },
   {
    "duration": 40,
    "start_time": "2023-01-19T18:18:17.338Z"
   },
   {
    "duration": 310,
    "start_time": "2023-01-19T18:18:17.379Z"
   },
   {
    "duration": 338,
    "start_time": "2023-01-19T18:18:17.691Z"
   },
   {
    "duration": 286,
    "start_time": "2023-01-19T18:18:18.030Z"
   },
   {
    "duration": 191,
    "start_time": "2023-01-19T18:18:18.318Z"
   },
   {
    "duration": 172,
    "start_time": "2023-01-19T18:18:18.511Z"
   },
   {
    "duration": 177,
    "start_time": "2023-01-19T18:18:18.684Z"
   },
   {
    "duration": 375,
    "start_time": "2023-01-19T18:18:18.863Z"
   },
   {
    "duration": 392,
    "start_time": "2023-01-19T18:18:19.240Z"
   },
   {
    "duration": 321,
    "start_time": "2023-01-19T18:18:19.637Z"
   },
   {
    "duration": 198,
    "start_time": "2023-01-19T18:18:19.960Z"
   },
   {
    "duration": 619,
    "start_time": "2023-01-19T18:18:20.159Z"
   },
   {
    "duration": 540,
    "start_time": "2023-01-19T18:18:20.780Z"
   },
   {
    "duration": 18,
    "start_time": "2023-01-19T18:18:21.324Z"
   },
   {
    "duration": 459,
    "start_time": "2023-01-19T18:18:21.343Z"
   },
   {
    "duration": 208,
    "start_time": "2023-01-19T18:18:21.804Z"
   },
   {
    "duration": 10,
    "start_time": "2023-01-19T18:18:22.014Z"
   },
   {
    "duration": 11,
    "start_time": "2023-01-19T18:18:22.037Z"
   },
   {
    "duration": 3,
    "start_time": "2023-01-19T18:21:44.779Z"
   },
   {
    "duration": 1158,
    "start_time": "2023-01-19T18:22:22.269Z"
   },
   {
    "duration": 74,
    "start_time": "2023-01-19T18:22:23.429Z"
   },
   {
    "duration": 22,
    "start_time": "2023-01-19T18:22:23.505Z"
   },
   {
    "duration": 14,
    "start_time": "2023-01-19T18:22:23.528Z"
   },
   {
    "duration": 12,
    "start_time": "2023-01-19T18:22:23.545Z"
   },
   {
    "duration": 5,
    "start_time": "2023-01-19T18:22:23.559Z"
   },
   {
    "duration": 16,
    "start_time": "2023-01-19T18:22:23.565Z"
   },
   {
    "duration": 5,
    "start_time": "2023-01-19T18:22:23.583Z"
   },
   {
    "duration": 41,
    "start_time": "2023-01-19T18:22:23.589Z"
   },
   {
    "duration": 24,
    "start_time": "2023-01-19T18:22:23.631Z"
   },
   {
    "duration": 13,
    "start_time": "2023-01-19T18:22:23.656Z"
   },
   {
    "duration": 8,
    "start_time": "2023-01-19T18:22:23.671Z"
   },
   {
    "duration": 18,
    "start_time": "2023-01-19T18:22:23.681Z"
   },
   {
    "duration": 24,
    "start_time": "2023-01-19T18:22:23.702Z"
   },
   {
    "duration": 16,
    "start_time": "2023-01-19T18:22:23.728Z"
   },
   {
    "duration": 10,
    "start_time": "2023-01-19T18:22:23.745Z"
   },
   {
    "duration": 51,
    "start_time": "2023-01-19T18:22:23.756Z"
   },
   {
    "duration": 99,
    "start_time": "2023-01-19T18:22:23.809Z"
   },
   {
    "duration": 185,
    "start_time": "2023-01-19T18:22:23.910Z"
   },
   {
    "duration": 5,
    "start_time": "2023-01-19T18:22:24.097Z"
   },
   {
    "duration": 30,
    "start_time": "2023-01-19T18:22:24.104Z"
   },
   {
    "duration": 148,
    "start_time": "2023-01-19T18:22:24.138Z"
   },
   {
    "duration": 4,
    "start_time": "2023-01-19T18:22:24.288Z"
   },
   {
    "duration": 16,
    "start_time": "2023-01-19T18:22:24.294Z"
   },
   {
    "duration": 283,
    "start_time": "2023-01-19T18:22:24.311Z"
   },
   {
    "duration": 6,
    "start_time": "2023-01-19T18:22:24.596Z"
   },
   {
    "duration": 39,
    "start_time": "2023-01-19T18:22:24.604Z"
   },
   {
    "duration": 321,
    "start_time": "2023-01-19T18:22:24.645Z"
   },
   {
    "duration": 10,
    "start_time": "2023-01-19T18:22:24.968Z"
   },
   {
    "duration": 50,
    "start_time": "2023-01-19T18:22:24.979Z"
   },
   {
    "duration": 308,
    "start_time": "2023-01-19T18:22:25.031Z"
   },
   {
    "duration": 309,
    "start_time": "2023-01-19T18:22:25.341Z"
   },
   {
    "duration": 257,
    "start_time": "2023-01-19T18:22:25.651Z"
   },
   {
    "duration": 191,
    "start_time": "2023-01-19T18:22:25.910Z"
   },
   {
    "duration": 178,
    "start_time": "2023-01-19T18:22:26.103Z"
   },
   {
    "duration": 177,
    "start_time": "2023-01-19T18:22:26.283Z"
   },
   {
    "duration": 318,
    "start_time": "2023-01-19T18:22:26.462Z"
   },
   {
    "duration": 342,
    "start_time": "2023-01-19T18:22:26.782Z"
   },
   {
    "duration": 309,
    "start_time": "2023-01-19T18:22:27.125Z"
   },
   {
    "duration": 191,
    "start_time": "2023-01-19T18:22:27.439Z"
   },
   {
    "duration": 556,
    "start_time": "2023-01-19T18:22:27.637Z"
   },
   {
    "duration": 508,
    "start_time": "2023-01-19T18:22:28.195Z"
   },
   {
    "duration": 11,
    "start_time": "2023-01-19T18:22:28.704Z"
   },
   {
    "duration": 428,
    "start_time": "2023-01-19T18:22:28.716Z"
   },
   {
    "duration": 200,
    "start_time": "2023-01-19T18:22:29.146Z"
   },
   {
    "duration": 9,
    "start_time": "2023-01-19T18:22:29.348Z"
   },
   {
    "duration": 13,
    "start_time": "2023-01-19T18:22:29.358Z"
   },
   {
    "duration": 44,
    "start_time": "2023-01-19T20:30:47.156Z"
   },
   {
    "duration": 6,
    "start_time": "2023-01-19T20:30:50.597Z"
   },
   {
    "duration": 1329,
    "start_time": "2023-01-19T20:30:59.275Z"
   },
   {
    "duration": 196,
    "start_time": "2023-01-19T20:31:00.606Z"
   },
   {
    "duration": 19,
    "start_time": "2023-01-19T20:31:04.967Z"
   },
   {
    "duration": 9,
    "start_time": "2023-01-19T20:31:07.557Z"
   },
   {
    "duration": 11,
    "start_time": "2023-01-19T20:31:08.212Z"
   },
   {
    "duration": 3,
    "start_time": "2023-01-19T20:31:08.454Z"
   },
   {
    "duration": 10,
    "start_time": "2023-01-19T20:31:09.175Z"
   },
   {
    "duration": 8,
    "start_time": "2023-01-19T20:31:24.628Z"
   },
   {
    "duration": 9,
    "start_time": "2023-01-19T20:31:44.664Z"
   },
   {
    "duration": 3,
    "start_time": "2023-01-19T20:31:48.798Z"
   },
   {
    "duration": 3,
    "start_time": "2023-01-19T20:31:50.141Z"
   },
   {
    "duration": 3,
    "start_time": "2023-01-19T20:34:51.750Z"
   },
   {
    "duration": 60,
    "start_time": "2023-01-19T20:34:51.979Z"
   },
   {
    "duration": 23,
    "start_time": "2023-01-19T20:34:53.087Z"
   },
   {
    "duration": 7,
    "start_time": "2023-01-19T20:34:53.960Z"
   },
   {
    "duration": 9,
    "start_time": "2023-01-19T20:34:54.342Z"
   },
   {
    "duration": 4,
    "start_time": "2023-01-19T20:34:54.555Z"
   },
   {
    "duration": 10,
    "start_time": "2023-01-19T20:34:54.762Z"
   },
   {
    "duration": 11,
    "start_time": "2023-01-19T20:34:54.977Z"
   },
   {
    "duration": 4,
    "start_time": "2023-01-19T20:34:55.178Z"
   },
   {
    "duration": 5,
    "start_time": "2023-01-19T20:35:29.911Z"
   },
   {
    "duration": 9,
    "start_time": "2023-01-19T20:35:30.463Z"
   },
   {
    "duration": 6,
    "start_time": "2023-01-19T20:35:31.160Z"
   },
   {
    "duration": 5,
    "start_time": "2023-01-19T20:35:31.407Z"
   },
   {
    "duration": 6,
    "start_time": "2023-01-19T20:35:31.801Z"
   },
   {
    "duration": 13,
    "start_time": "2023-01-19T20:35:32.619Z"
   },
   {
    "duration": 7,
    "start_time": "2023-01-19T20:35:33.059Z"
   },
   {
    "duration": 6,
    "start_time": "2023-01-19T20:35:33.657Z"
   },
   {
    "duration": 14,
    "start_time": "2023-01-19T20:35:34.099Z"
   },
   {
    "duration": 100,
    "start_time": "2023-01-19T20:35:34.292Z"
   },
   {
    "duration": 172,
    "start_time": "2023-01-19T20:35:41.287Z"
   },
   {
    "duration": 6,
    "start_time": "2023-01-19T20:35:41.885Z"
   },
   {
    "duration": 12,
    "start_time": "2023-01-19T20:35:42.134Z"
   },
   {
    "duration": 134,
    "start_time": "2023-01-19T20:35:42.637Z"
   },
   {
    "duration": 5,
    "start_time": "2023-01-19T20:35:43.074Z"
   },
   {
    "duration": 3,
    "start_time": "2023-01-19T20:35:43.297Z"
   },
   {
    "duration": 273,
    "start_time": "2023-01-19T20:35:43.764Z"
   },
   {
    "duration": 5,
    "start_time": "2023-01-19T20:35:44.612Z"
   },
   {
    "duration": 6,
    "start_time": "2023-01-19T20:35:44.820Z"
   },
   {
    "duration": 312,
    "start_time": "2023-01-19T20:35:45.432Z"
   },
   {
    "duration": 13,
    "start_time": "2023-01-19T20:35:46.094Z"
   },
   {
    "duration": 25,
    "start_time": "2023-01-19T20:35:46.683Z"
   },
   {
    "duration": 284,
    "start_time": "2023-01-19T20:35:47.857Z"
   },
   {
    "duration": 292,
    "start_time": "2023-01-19T20:35:48.143Z"
   },
   {
    "duration": 265,
    "start_time": "2023-01-19T20:35:52.445Z"
   },
   {
    "duration": 180,
    "start_time": "2023-01-19T20:35:53.238Z"
   },
   {
    "duration": 149,
    "start_time": "2023-01-19T20:35:53.467Z"
   },
   {
    "duration": 176,
    "start_time": "2023-01-19T20:35:53.830Z"
   },
   {
    "duration": 357,
    "start_time": "2023-01-19T20:35:54.357Z"
   },
   {
    "duration": 350,
    "start_time": "2023-01-19T20:35:54.717Z"
   },
   {
    "duration": 345,
    "start_time": "2023-01-19T20:35:55.069Z"
   },
   {
    "duration": 206,
    "start_time": "2023-01-19T20:35:56.370Z"
   },
   {
    "duration": 547,
    "start_time": "2023-01-19T20:35:57.414Z"
   },
   {
    "duration": 554,
    "start_time": "2023-01-19T20:35:58.756Z"
   },
   {
    "duration": 12,
    "start_time": "2023-01-19T20:35:59.489Z"
   },
   {
    "duration": 456,
    "start_time": "2023-01-19T20:36:00.011Z"
   },
   {
    "duration": 236,
    "start_time": "2023-01-19T20:36:00.469Z"
   },
   {
    "duration": 12,
    "start_time": "2023-01-19T20:36:01.056Z"
   },
   {
    "duration": 11,
    "start_time": "2023-01-19T20:36:01.255Z"
   },
   {
    "duration": 1292,
    "start_time": "2023-01-20T19:24:02.684Z"
   },
   {
    "duration": 75,
    "start_time": "2023-01-20T19:24:03.978Z"
   },
   {
    "duration": 22,
    "start_time": "2023-01-20T19:24:04.057Z"
   },
   {
    "duration": 9,
    "start_time": "2023-01-20T19:24:04.081Z"
   },
   {
    "duration": 15,
    "start_time": "2023-01-20T19:24:04.092Z"
   },
   {
    "duration": 29,
    "start_time": "2023-01-20T19:24:04.109Z"
   },
   {
    "duration": 10,
    "start_time": "2023-01-20T19:24:04.140Z"
   },
   {
    "duration": 17,
    "start_time": "2023-01-20T19:24:04.151Z"
   },
   {
    "duration": 4,
    "start_time": "2023-01-20T19:24:04.169Z"
   },
   {
    "duration": 9,
    "start_time": "2023-01-20T19:24:04.174Z"
   },
   {
    "duration": 14,
    "start_time": "2023-01-20T19:24:04.185Z"
   },
   {
    "duration": 8,
    "start_time": "2023-01-20T19:24:04.202Z"
   },
   {
    "duration": 6,
    "start_time": "2023-01-20T19:24:04.237Z"
   },
   {
    "duration": 11,
    "start_time": "2023-01-20T19:24:04.245Z"
   },
   {
    "duration": 19,
    "start_time": "2023-01-20T19:24:04.257Z"
   },
   {
    "duration": 5,
    "start_time": "2023-01-20T19:24:04.278Z"
   },
   {
    "duration": 8,
    "start_time": "2023-01-20T19:24:04.284Z"
   },
   {
    "duration": 16,
    "start_time": "2023-01-20T19:24:04.293Z"
   },
   {
    "duration": 112,
    "start_time": "2023-01-20T19:24:04.310Z"
   },
   {
    "duration": 302,
    "start_time": "2023-01-20T19:24:04.438Z"
   },
   {
    "duration": 6,
    "start_time": "2023-01-20T19:24:04.741Z"
   },
   {
    "duration": 18,
    "start_time": "2023-01-20T19:24:04.748Z"
   },
   {
    "duration": 257,
    "start_time": "2023-01-20T19:24:04.768Z"
   },
   {
    "duration": 13,
    "start_time": "2023-01-20T19:24:05.027Z"
   },
   {
    "duration": 15,
    "start_time": "2023-01-20T19:24:05.042Z"
   },
   {
    "duration": 334,
    "start_time": "2023-01-20T19:24:05.058Z"
   },
   {
    "duration": 7,
    "start_time": "2023-01-20T19:24:05.394Z"
   },
   {
    "duration": 11,
    "start_time": "2023-01-20T19:24:05.402Z"
   },
   {
    "duration": 425,
    "start_time": "2023-01-20T19:24:05.415Z"
   },
   {
    "duration": 11,
    "start_time": "2023-01-20T19:24:05.841Z"
   },
   {
    "duration": 36,
    "start_time": "2023-01-20T19:24:05.853Z"
   },
   {
    "duration": 448,
    "start_time": "2023-01-20T19:24:05.891Z"
   },
   {
    "duration": 543,
    "start_time": "2023-01-20T19:24:06.341Z"
   },
   {
    "duration": 334,
    "start_time": "2023-01-20T19:24:06.886Z"
   },
   {
    "duration": 363,
    "start_time": "2023-01-20T19:24:07.222Z"
   },
   {
    "duration": 272,
    "start_time": "2023-01-20T19:24:07.587Z"
   },
   {
    "duration": 337,
    "start_time": "2023-01-20T19:24:07.861Z"
   },
   {
    "duration": 546,
    "start_time": "2023-01-20T19:24:08.200Z"
   },
   {
    "duration": 603,
    "start_time": "2023-01-20T19:24:08.749Z"
   },
   {
    "duration": 563,
    "start_time": "2023-01-20T19:24:09.356Z"
   },
   {
    "duration": 352,
    "start_time": "2023-01-20T19:24:09.921Z"
   },
   {
    "duration": 834,
    "start_time": "2023-01-20T19:24:10.275Z"
   },
   {
    "duration": 771,
    "start_time": "2023-01-20T19:24:11.111Z"
   },
   {
    "duration": 10,
    "start_time": "2023-01-20T19:24:11.884Z"
   },
   {
    "duration": 641,
    "start_time": "2023-01-20T19:24:11.895Z"
   },
   {
    "duration": 325,
    "start_time": "2023-01-20T19:24:12.537Z"
   },
   {
    "duration": 10,
    "start_time": "2023-01-20T19:24:12.864Z"
   },
   {
    "duration": 11,
    "start_time": "2023-01-20T19:24:12.875Z"
   },
   {
    "duration": 8,
    "start_time": "2023-01-20T19:53:41.848Z"
   },
   {
    "duration": 8,
    "start_time": "2023-01-20T19:55:19.055Z"
   },
   {
    "duration": 45,
    "start_time": "2023-01-21T16:50:40.720Z"
   },
   {
    "duration": 1172,
    "start_time": "2023-01-21T16:50:45.584Z"
   },
   {
    "duration": 521,
    "start_time": "2023-01-21T16:50:46.758Z"
   },
   {
    "duration": 20,
    "start_time": "2023-01-21T16:50:49.918Z"
   },
   {
    "duration": 10,
    "start_time": "2023-01-21T16:50:52.419Z"
   },
   {
    "duration": 14,
    "start_time": "2023-01-21T16:50:56.331Z"
   },
   {
    "duration": 4,
    "start_time": "2023-01-21T16:50:57.110Z"
   },
   {
    "duration": 22,
    "start_time": "2023-01-21T16:50:58.023Z"
   },
   {
    "duration": 21,
    "start_time": "2023-01-21T16:51:07.249Z"
   },
   {
    "duration": 10,
    "start_time": "2023-01-21T16:53:37.865Z"
   },
   {
    "duration": 8,
    "start_time": "2023-01-21T16:53:41.988Z"
   },
   {
    "duration": 8,
    "start_time": "2023-01-21T16:54:11.950Z"
   },
   {
    "duration": 9,
    "start_time": "2023-01-21T16:54:12.264Z"
   },
   {
    "duration": 4,
    "start_time": "2023-01-21T16:54:12.877Z"
   },
   {
    "duration": 6,
    "start_time": "2023-01-21T16:54:20.387Z"
   },
   {
    "duration": 8,
    "start_time": "2023-01-21T16:54:20.866Z"
   },
   {
    "duration": 4,
    "start_time": "2023-01-21T16:54:22.228Z"
   },
   {
    "duration": 4,
    "start_time": "2023-01-21T16:54:22.572Z"
   },
   {
    "duration": 5,
    "start_time": "2023-01-21T16:54:23.606Z"
   },
   {
    "duration": 13,
    "start_time": "2023-01-21T16:54:29.186Z"
   },
   {
    "duration": 6,
    "start_time": "2023-01-21T16:54:32.010Z"
   },
   {
    "duration": 5,
    "start_time": "2023-01-21T16:54:34.139Z"
   },
   {
    "duration": 12,
    "start_time": "2023-01-21T16:54:45.147Z"
   },
   {
    "duration": 93,
    "start_time": "2023-01-21T16:54:45.734Z"
   },
   {
    "duration": 188,
    "start_time": "2023-01-21T16:54:54.694Z"
   },
   {
    "duration": 6,
    "start_time": "2023-01-21T16:54:57.984Z"
   },
   {
    "duration": 17,
    "start_time": "2023-01-21T16:54:58.335Z"
   },
   {
    "duration": 128,
    "start_time": "2023-01-21T16:55:01.224Z"
   },
   {
    "duration": 4,
    "start_time": "2023-01-21T16:55:04.184Z"
   },
   {
    "duration": 3,
    "start_time": "2023-01-21T16:55:04.587Z"
   },
   {
    "duration": 247,
    "start_time": "2023-01-21T16:55:05.602Z"
   },
   {
    "duration": 6,
    "start_time": "2023-01-21T16:55:10.142Z"
   },
   {
    "duration": 7,
    "start_time": "2023-01-21T16:55:10.481Z"
   },
   {
    "duration": 304,
    "start_time": "2023-01-21T16:55:11.330Z"
   },
   {
    "duration": 9,
    "start_time": "2023-01-21T16:55:11.821Z"
   },
   {
    "duration": 23,
    "start_time": "2023-01-21T16:55:12.182Z"
   },
   {
    "duration": 299,
    "start_time": "2023-01-21T16:55:16.617Z"
   },
   {
    "duration": 185,
    "start_time": "2023-01-21T16:55:52.400Z"
   },
   {
    "duration": 180,
    "start_time": "2023-01-21T16:56:05.364Z"
   },
   {
    "duration": 235,
    "start_time": "2023-01-21T16:56:05.586Z"
   },
   {
    "duration": 179,
    "start_time": "2023-01-21T16:56:06.267Z"
   },
   {
    "duration": 368,
    "start_time": "2023-01-21T16:56:07.042Z"
   },
   {
    "duration": 370,
    "start_time": "2023-01-21T16:56:07.412Z"
   },
   {
    "duration": 323,
    "start_time": "2023-01-21T16:56:07.785Z"
   },
   {
    "duration": 178,
    "start_time": "2023-01-21T17:01:08.504Z"
   },
   {
    "duration": 476,
    "start_time": "2023-01-21T17:01:08.862Z"
   },
   {
    "duration": 403,
    "start_time": "2023-01-21T17:01:09.734Z"
   },
   {
    "duration": 10,
    "start_time": "2023-01-21T17:01:10.563Z"
   },
   {
    "duration": 470,
    "start_time": "2023-01-21T17:01:10.931Z"
   },
   {
    "duration": 177,
    "start_time": "2023-01-21T17:01:11.446Z"
   },
   {
    "duration": 8,
    "start_time": "2023-01-21T17:01:11.818Z"
   },
   {
    "duration": 10,
    "start_time": "2023-01-21T17:01:12.699Z"
   },
   {
    "duration": 11,
    "start_time": "2023-01-21T17:01:13.177Z"
   },
   {
    "duration": 8,
    "start_time": "2023-01-21T17:02:05.214Z"
   },
   {
    "duration": 10,
    "start_time": "2023-01-21T17:02:24.178Z"
   },
   {
    "duration": 1291,
    "start_time": "2023-01-23T21:22:27.113Z"
   },
   {
    "duration": 217,
    "start_time": "2023-01-23T21:22:28.406Z"
   },
   {
    "duration": 18,
    "start_time": "2023-01-23T21:22:32.658Z"
   },
   {
    "duration": 9,
    "start_time": "2023-01-23T21:22:34.821Z"
   },
   {
    "duration": 10,
    "start_time": "2023-01-23T21:22:35.212Z"
   },
   {
    "duration": 3,
    "start_time": "2023-01-23T21:22:35.445Z"
   },
   {
    "duration": 17,
    "start_time": "2023-01-23T21:22:35.836Z"
   },
   {
    "duration": 9,
    "start_time": "2023-01-23T21:22:36.970Z"
   },
   {
    "duration": 9,
    "start_time": "2023-01-23T21:22:37.289Z"
   },
   {
    "duration": 3,
    "start_time": "2023-01-23T21:22:37.852Z"
   },
   {
    "duration": 5,
    "start_time": "2023-01-23T21:22:39.992Z"
   },
   {
    "duration": 8,
    "start_time": "2023-01-23T21:22:40.691Z"
   },
   {
    "duration": 6,
    "start_time": "2023-01-23T21:22:48.387Z"
   },
   {
    "duration": 5,
    "start_time": "2023-01-23T21:22:48.920Z"
   },
   {
    "duration": 5,
    "start_time": "2023-01-23T21:22:50.268Z"
   },
   {
    "duration": 15,
    "start_time": "2023-01-23T21:22:51.267Z"
   },
   {
    "duration": 6,
    "start_time": "2023-01-23T21:22:51.732Z"
   },
   {
    "duration": 6,
    "start_time": "2023-01-23T21:22:55.116Z"
   },
   {
    "duration": 14,
    "start_time": "2023-01-23T21:23:55.086Z"
   },
   {
    "duration": 98,
    "start_time": "2023-01-23T21:23:55.280Z"
   },
   {
    "duration": 178,
    "start_time": "2023-01-23T21:23:56.242Z"
   },
   {
    "duration": 5,
    "start_time": "2023-01-23T21:23:56.684Z"
   },
   {
    "duration": 12,
    "start_time": "2023-01-23T21:23:56.896Z"
   },
   {
    "duration": 131,
    "start_time": "2023-01-23T21:23:57.358Z"
   },
   {
    "duration": 5,
    "start_time": "2023-01-23T21:23:57.774Z"
   },
   {
    "duration": 6,
    "start_time": "2023-01-23T21:23:57.981Z"
   },
   {
    "duration": 253,
    "start_time": "2023-01-23T21:23:58.371Z"
   },
   {
    "duration": 5,
    "start_time": "2023-01-23T21:23:59.221Z"
   },
   {
    "duration": 5,
    "start_time": "2023-01-23T21:23:59.395Z"
   },
   {
    "duration": 311,
    "start_time": "2023-01-23T21:23:59.757Z"
   },
   {
    "duration": 11,
    "start_time": "2023-01-23T21:24:00.070Z"
   },
   {
    "duration": 21,
    "start_time": "2023-01-23T21:24:00.185Z"
   },
   {
    "duration": 332,
    "start_time": "2023-01-23T21:24:00.793Z"
   },
   {
    "duration": 405,
    "start_time": "2023-01-23T21:24:01.419Z"
   },
   {
    "duration": 180,
    "start_time": "2023-01-23T21:24:22.459Z"
   },
   {
    "duration": 189,
    "start_time": "2023-01-23T21:24:25.674Z"
   },
   {
    "duration": 157,
    "start_time": "2023-01-23T21:24:26.005Z"
   },
   {
    "duration": 194,
    "start_time": "2023-01-23T21:24:27.119Z"
   },
   {
    "duration": 321,
    "start_time": "2023-01-23T21:24:27.993Z"
   },
   {
    "duration": 326,
    "start_time": "2023-01-23T21:24:28.480Z"
   },
   {
    "duration": 350,
    "start_time": "2023-01-23T21:24:28.812Z"
   },
   {
    "duration": 191,
    "start_time": "2023-01-23T21:24:30.133Z"
   },
   {
    "duration": 621,
    "start_time": "2023-01-23T21:30:03.989Z"
   },
   {
    "duration": 415,
    "start_time": "2023-01-23T21:30:10.143Z"
   },
   {
    "duration": 433,
    "start_time": "2023-01-23T21:30:38.687Z"
   },
   {
    "duration": 10,
    "start_time": "2023-01-23T21:32:14.023Z"
   },
   {
    "duration": 15,
    "start_time": "2023-01-23T21:32:19.718Z"
   },
   {
    "duration": 452,
    "start_time": "2023-01-23T21:33:52.773Z"
   },
   {
    "duration": 521,
    "start_time": "2023-01-23T21:34:45.281Z"
   },
   {
    "duration": 449,
    "start_time": "2023-01-23T22:03:48.689Z"
   },
   {
    "duration": 513,
    "start_time": "2023-01-23T22:03:58.397Z"
   },
   {
    "duration": 716,
    "start_time": "2023-01-23T22:05:08.358Z"
   },
   {
    "duration": 816,
    "start_time": "2023-01-23T22:05:57.819Z"
   },
   {
    "duration": 679,
    "start_time": "2023-01-23T22:06:15.206Z"
   },
   {
    "duration": 826,
    "start_time": "2023-01-23T22:11:11.712Z"
   },
   {
    "duration": 764,
    "start_time": "2023-01-23T22:11:22.863Z"
   },
   {
    "duration": 634,
    "start_time": "2023-01-23T22:12:22.285Z"
   },
   {
    "duration": 828,
    "start_time": "2023-01-23T22:12:41.508Z"
   },
   {
    "duration": 1315,
    "start_time": "2023-01-23T22:16:23.715Z"
   },
   {
    "duration": 22,
    "start_time": "2023-01-23T22:18:20.370Z"
   },
   {
    "duration": 3,
    "start_time": "2023-01-23T22:18:41.758Z"
   },
   {
    "duration": 56,
    "start_time": "2023-01-23T22:18:42.061Z"
   },
   {
    "duration": 20,
    "start_time": "2023-01-23T22:18:45.129Z"
   },
   {
    "duration": 9,
    "start_time": "2023-01-23T22:18:47.356Z"
   },
   {
    "duration": 10,
    "start_time": "2023-01-23T22:18:48.634Z"
   },
   {
    "duration": 22,
    "start_time": "2023-01-23T22:18:54.581Z"
   },
   {
    "duration": 5,
    "start_time": "2023-01-23T22:19:36.918Z"
   },
   {
    "duration": 8,
    "start_time": "2023-01-23T22:19:37.482Z"
   },
   {
    "duration": 5,
    "start_time": "2023-01-23T22:19:38.609Z"
   },
   {
    "duration": 4,
    "start_time": "2023-01-23T22:19:39.117Z"
   },
   {
    "duration": 5,
    "start_time": "2023-01-23T22:19:40.303Z"
   },
   {
    "duration": 12,
    "start_time": "2023-01-23T22:19:42.158Z"
   },
   {
    "duration": 5,
    "start_time": "2023-01-23T22:19:43.682Z"
   },
   {
    "duration": 5,
    "start_time": "2023-01-23T22:19:45.021Z"
   },
   {
    "duration": 13,
    "start_time": "2023-01-23T22:19:46.881Z"
   },
   {
    "duration": 94,
    "start_time": "2023-01-23T22:19:47.311Z"
   },
   {
    "duration": 7,
    "start_time": "2023-01-23T22:20:07.866Z"
   },
   {
    "duration": 5,
    "start_time": "2023-01-23T22:20:10.950Z"
   },
   {
    "duration": 10,
    "start_time": "2023-01-23T22:20:28.945Z"
   },
   {
    "duration": 11,
    "start_time": "2023-01-23T22:20:30.879Z"
   },
   {
    "duration": 5,
    "start_time": "2023-01-23T22:20:31.423Z"
   },
   {
    "duration": 5,
    "start_time": "2023-01-23T22:20:32.494Z"
   },
   {
    "duration": 14,
    "start_time": "2023-01-23T22:20:33.981Z"
   },
   {
    "duration": 93,
    "start_time": "2023-01-23T22:20:34.358Z"
   },
   {
    "duration": 144,
    "start_time": "2023-01-23T22:20:36.188Z"
   },
   {
    "duration": 6,
    "start_time": "2023-01-23T22:20:37.046Z"
   },
   {
    "duration": 20,
    "start_time": "2023-01-23T22:20:37.343Z"
   },
   {
    "duration": 160,
    "start_time": "2023-01-23T22:20:38.315Z"
   },
   {
    "duration": 5,
    "start_time": "2023-01-23T22:20:39.408Z"
   },
   {
    "duration": 3,
    "start_time": "2023-01-23T22:20:39.819Z"
   },
   {
    "duration": 229,
    "start_time": "2023-01-23T22:20:40.982Z"
   },
   {
    "duration": 7,
    "start_time": "2023-01-23T22:20:42.752Z"
   },
   {
    "duration": 6,
    "start_time": "2023-01-23T22:20:42.956Z"
   },
   {
    "duration": 289,
    "start_time": "2023-01-23T22:20:43.971Z"
   },
   {
    "duration": 9,
    "start_time": "2023-01-23T22:20:44.556Z"
   },
   {
    "duration": 33,
    "start_time": "2023-01-23T22:20:45.134Z"
   },
   {
    "duration": 409,
    "start_time": "2023-01-23T22:20:46.657Z"
   },
   {
    "duration": 302,
    "start_time": "2023-01-23T22:20:47.217Z"
   },
   {
    "duration": 184,
    "start_time": "2023-01-23T22:20:55.726Z"
   },
   {
    "duration": 183,
    "start_time": "2023-01-23T22:20:57.216Z"
   },
   {
    "duration": 161,
    "start_time": "2023-01-23T22:20:57.981Z"
   },
   {
    "duration": 166,
    "start_time": "2023-01-23T22:20:59.357Z"
   },
   {
    "duration": 308,
    "start_time": "2023-01-23T22:21:02.457Z"
   },
   {
    "duration": 335,
    "start_time": "2023-01-23T22:21:02.936Z"
   },
   {
    "duration": 342,
    "start_time": "2023-01-23T22:21:05.125Z"
   },
   {
    "duration": 185,
    "start_time": "2023-01-23T22:21:12.231Z"
   },
   {
    "duration": 509,
    "start_time": "2023-01-23T22:21:16.383Z"
   },
   {
    "duration": 16,
    "start_time": "2023-01-23T22:21:20.718Z"
   },
   {
    "duration": 689,
    "start_time": "2023-01-23T22:21:21.363Z"
   },
   {
    "duration": 22,
    "start_time": "2023-01-23T22:21:40.297Z"
   },
   {
    "duration": 33,
    "start_time": "2023-01-23T22:23:13.329Z"
   },
   {
    "duration": 4,
    "start_time": "2023-01-23T22:23:43.456Z"
   },
   {
    "duration": 11,
    "start_time": "2023-01-23T22:23:51.364Z"
   },
   {
    "duration": 22,
    "start_time": "2023-01-23T22:24:12.164Z"
   },
   {
    "duration": 30,
    "start_time": "2023-01-23T22:24:25.434Z"
   },
   {
    "duration": 24,
    "start_time": "2023-01-23T22:25:06.896Z"
   },
   {
    "duration": 5,
    "start_time": "2023-01-23T22:25:31.217Z"
   },
   {
    "duration": 21,
    "start_time": "2023-01-23T22:25:37.090Z"
   },
   {
    "duration": 174,
    "start_time": "2023-01-23T22:25:46.056Z"
   },
   {
    "duration": 24,
    "start_time": "2023-01-23T22:26:24.638Z"
   },
   {
    "duration": 8,
    "start_time": "2023-01-23T22:26:34.001Z"
   },
   {
    "duration": 18,
    "start_time": "2023-01-23T22:26:47.306Z"
   },
   {
    "duration": 15,
    "start_time": "2023-01-23T22:27:29.405Z"
   },
   {
    "duration": 3,
    "start_time": "2023-01-23T22:27:40.521Z"
   },
   {
    "duration": 60,
    "start_time": "2023-01-23T22:27:40.689Z"
   },
   {
    "duration": 20,
    "start_time": "2023-01-23T22:27:41.840Z"
   },
   {
    "duration": 6,
    "start_time": "2023-01-23T22:27:42.605Z"
   },
   {
    "duration": 9,
    "start_time": "2023-01-23T22:27:42.998Z"
   },
   {
    "duration": 7,
    "start_time": "2023-01-23T22:27:43.206Z"
   },
   {
    "duration": 4,
    "start_time": "2023-01-23T22:27:43.406Z"
   },
   {
    "duration": 22,
    "start_time": "2023-01-23T22:27:43.787Z"
   },
   {
    "duration": 9,
    "start_time": "2023-01-23T22:27:44.169Z"
   },
   {
    "duration": 4,
    "start_time": "2023-01-23T22:27:44.364Z"
   },
   {
    "duration": 12,
    "start_time": "2023-01-23T22:27:44.560Z"
   },
   {
    "duration": 5,
    "start_time": "2023-01-23T22:27:45.134Z"
   },
   {
    "duration": 8,
    "start_time": "2023-01-23T22:27:45.329Z"
   },
   {
    "duration": 5,
    "start_time": "2023-01-23T22:27:45.719Z"
   },
   {
    "duration": 5,
    "start_time": "2023-01-23T22:27:45.901Z"
   },
   {
    "duration": 5,
    "start_time": "2023-01-23T22:27:46.274Z"
   },
   {
    "duration": 13,
    "start_time": "2023-01-23T22:27:46.865Z"
   },
   {
    "duration": 5,
    "start_time": "2023-01-23T22:27:47.232Z"
   },
   {
    "duration": 6,
    "start_time": "2023-01-23T22:27:47.956Z"
   },
   {
    "duration": 15,
    "start_time": "2023-01-23T22:27:48.430Z"
   },
   {
    "duration": 99,
    "start_time": "2023-01-23T22:27:48.583Z"
   },
   {
    "duration": 147,
    "start_time": "2023-01-23T22:27:49.575Z"
   },
   {
    "duration": 4,
    "start_time": "2023-01-23T22:27:49.937Z"
   },
   {
    "duration": 14,
    "start_time": "2023-01-23T22:27:50.125Z"
   },
   {
    "duration": 314,
    "start_time": "2023-01-23T22:27:50.511Z"
   },
   {
    "duration": 3,
    "start_time": "2023-01-23T22:27:50.904Z"
   },
   {
    "duration": 3,
    "start_time": "2023-01-23T22:27:51.110Z"
   },
   {
    "duration": 241,
    "start_time": "2023-01-23T22:27:51.483Z"
   },
   {
    "duration": 6,
    "start_time": "2023-01-23T22:27:52.295Z"
   },
   {
    "duration": 6,
    "start_time": "2023-01-23T22:27:52.488Z"
   },
   {
    "duration": 290,
    "start_time": "2023-01-23T22:27:52.857Z"
   },
   {
    "duration": 13,
    "start_time": "2023-01-23T22:27:53.149Z"
   },
   {
    "duration": 22,
    "start_time": "2023-01-23T22:27:53.284Z"
   },
   {
    "duration": 297,
    "start_time": "2023-01-23T22:27:53.915Z"
   },
   {
    "duration": 304,
    "start_time": "2023-01-23T22:27:54.214Z"
   },
   {
    "duration": 183,
    "start_time": "2023-01-23T22:27:55.578Z"
   },
   {
    "duration": 177,
    "start_time": "2023-01-23T22:27:56.099Z"
   },
   {
    "duration": 144,
    "start_time": "2023-01-23T22:27:56.298Z"
   },
   {
    "duration": 177,
    "start_time": "2023-01-23T22:27:56.710Z"
   },
   {
    "duration": 329,
    "start_time": "2023-01-23T22:27:57.108Z"
   },
   {
    "duration": 340,
    "start_time": "2023-01-23T22:27:57.439Z"
   },
   {
    "duration": 312,
    "start_time": "2023-01-23T22:27:57.781Z"
   },
   {
    "duration": 208,
    "start_time": "2023-01-23T22:27:59.916Z"
   },
   {
    "duration": 517,
    "start_time": "2023-01-23T22:28:02.278Z"
   },
   {
    "duration": 14,
    "start_time": "2023-01-23T22:28:05.001Z"
   },
   {
    "duration": 911,
    "start_time": "2023-01-23T22:28:05.220Z"
   },
   {
    "duration": 10,
    "start_time": "2023-01-23T22:28:08.860Z"
   },
   {
    "duration": 923,
    "start_time": "2023-01-23T22:28:09.321Z"
   },
   {
    "duration": 1111,
    "start_time": "2023-01-23T22:28:25.778Z"
   },
   {
    "duration": 72,
    "start_time": "2023-01-23T22:28:26.890Z"
   },
   {
    "duration": 18,
    "start_time": "2023-01-23T22:28:27.217Z"
   },
   {
    "duration": 8,
    "start_time": "2023-01-23T22:28:28.033Z"
   },
   {
    "duration": 10,
    "start_time": "2023-01-23T22:28:28.458Z"
   },
   {
    "duration": 8,
    "start_time": "2023-01-23T22:28:28.662Z"
   },
   {
    "duration": 3,
    "start_time": "2023-01-23T22:28:28.876Z"
   },
   {
    "duration": 16,
    "start_time": "2023-01-23T22:28:29.298Z"
   },
   {
    "duration": 10,
    "start_time": "2023-01-23T22:28:29.704Z"
   },
   {
    "duration": 4,
    "start_time": "2023-01-23T22:28:29.940Z"
   },
   {
    "duration": 10,
    "start_time": "2023-01-23T22:28:30.162Z"
   },
   {
    "duration": 5,
    "start_time": "2023-01-23T22:28:30.766Z"
   },
   {
    "duration": 8,
    "start_time": "2023-01-23T22:28:30.969Z"
   },
   {
    "duration": 5,
    "start_time": "2023-01-23T22:28:31.409Z"
   },
   {
    "duration": 4,
    "start_time": "2023-01-23T22:28:31.606Z"
   },
   {
    "duration": 5,
    "start_time": "2023-01-23T22:28:32.013Z"
   },
   {
    "duration": 16,
    "start_time": "2023-01-23T22:28:32.636Z"
   },
   {
    "duration": 6,
    "start_time": "2023-01-23T22:28:33.055Z"
   },
   {
    "duration": 6,
    "start_time": "2023-01-23T22:28:33.656Z"
   },
   {
    "duration": 13,
    "start_time": "2023-01-23T22:28:34.279Z"
   },
   {
    "duration": 113,
    "start_time": "2023-01-23T22:28:34.515Z"
   },
   {
    "duration": 158,
    "start_time": "2023-01-23T22:28:35.585Z"
   },
   {
    "duration": 5,
    "start_time": "2023-01-23T22:28:35.986Z"
   },
   {
    "duration": 13,
    "start_time": "2023-01-23T22:28:36.205Z"
   },
   {
    "duration": 128,
    "start_time": "2023-01-23T22:28:36.625Z"
   },
   {
    "duration": 4,
    "start_time": "2023-01-23T22:28:37.081Z"
   },
   {
    "duration": 4,
    "start_time": "2023-01-23T22:28:37.315Z"
   },
   {
    "duration": 247,
    "start_time": "2023-01-23T22:28:37.730Z"
   },
   {
    "duration": 5,
    "start_time": "2023-01-23T22:28:38.608Z"
   },
   {
    "duration": 6,
    "start_time": "2023-01-23T22:28:38.838Z"
   },
   {
    "duration": 271,
    "start_time": "2023-01-23T22:28:39.256Z"
   },
   {
    "duration": 19,
    "start_time": "2023-01-23T22:28:39.529Z"
   },
   {
    "duration": 22,
    "start_time": "2023-01-23T22:28:41.360Z"
   },
   {
    "duration": 294,
    "start_time": "2023-01-23T22:28:41.957Z"
   },
   {
    "duration": 283,
    "start_time": "2023-01-23T22:28:42.332Z"
   },
   {
    "duration": 252,
    "start_time": "2023-01-23T22:28:44.039Z"
   },
   {
    "duration": 178,
    "start_time": "2023-01-23T22:28:44.897Z"
   },
   {
    "duration": 142,
    "start_time": "2023-01-23T22:28:45.161Z"
   },
   {
    "duration": 178,
    "start_time": "2023-01-23T22:28:45.737Z"
   },
   {
    "duration": 305,
    "start_time": "2023-01-23T22:28:48.109Z"
   },
   {
    "duration": 320,
    "start_time": "2023-01-23T22:28:48.416Z"
   },
   {
    "duration": 316,
    "start_time": "2023-01-23T22:28:48.738Z"
   },
   {
    "duration": 175,
    "start_time": "2023-01-23T22:28:51.213Z"
   },
   {
    "duration": 492,
    "start_time": "2023-01-23T22:28:52.699Z"
   },
   {
    "duration": 22,
    "start_time": "2023-01-23T22:28:58.039Z"
   },
   {
    "duration": 769,
    "start_time": "2023-01-23T22:28:58.245Z"
   },
   {
    "duration": 12,
    "start_time": "2023-01-23T22:29:06.736Z"
   },
   {
    "duration": 842,
    "start_time": "2023-01-23T22:29:07.925Z"
   },
   {
    "duration": 5,
    "start_time": "2023-01-23T22:29:26.908Z"
   },
   {
    "duration": 5,
    "start_time": "2023-01-23T22:29:30.924Z"
   },
   {
    "duration": 27,
    "start_time": "2023-01-23T22:29:35.444Z"
   },
   {
    "duration": 26,
    "start_time": "2023-01-23T22:29:47.229Z"
   },
   {
    "duration": 3,
    "start_time": "2023-01-23T22:31:42.857Z"
   },
   {
    "duration": 59,
    "start_time": "2023-01-23T22:31:43.055Z"
   },
   {
    "duration": 14,
    "start_time": "2023-01-23T22:31:44.262Z"
   },
   {
    "duration": 8,
    "start_time": "2023-01-23T22:31:45.061Z"
   },
   {
    "duration": 11,
    "start_time": "2023-01-23T22:31:45.456Z"
   },
   {
    "duration": 8,
    "start_time": "2023-01-23T22:31:45.656Z"
   },
   {
    "duration": 4,
    "start_time": "2023-01-23T22:31:45.842Z"
   },
   {
    "duration": 14,
    "start_time": "2023-01-23T22:31:46.216Z"
   },
   {
    "duration": 9,
    "start_time": "2023-01-23T22:31:46.603Z"
   },
   {
    "duration": 5,
    "start_time": "2023-01-23T22:31:53.093Z"
   },
   {
    "duration": 9,
    "start_time": "2023-01-23T22:31:56.657Z"
   },
   {
    "duration": 5,
    "start_time": "2023-01-23T22:31:57.125Z"
   },
   {
    "duration": 5,
    "start_time": "2023-01-23T22:31:57.360Z"
   },
   {
    "duration": 4,
    "start_time": "2023-01-23T22:31:57.777Z"
   },
   {
    "duration": 14,
    "start_time": "2023-01-23T22:31:58.360Z"
   },
   {
    "duration": 5,
    "start_time": "2023-01-23T22:31:58.762Z"
   },
   {
    "duration": 6,
    "start_time": "2023-01-23T22:31:59.404Z"
   },
   {
    "duration": 18,
    "start_time": "2023-01-23T22:32:00.035Z"
   },
   {
    "duration": 103,
    "start_time": "2023-01-23T22:32:00.280Z"
   },
   {
    "duration": 154,
    "start_time": "2023-01-23T22:32:02.346Z"
   },
   {
    "duration": 4,
    "start_time": "2023-01-23T22:32:02.761Z"
   },
   {
    "duration": 12,
    "start_time": "2023-01-23T22:32:02.961Z"
   },
   {
    "duration": 133,
    "start_time": "2023-01-23T22:32:03.365Z"
   },
   {
    "duration": 4,
    "start_time": "2023-01-23T22:32:03.823Z"
   },
   {
    "duration": 5,
    "start_time": "2023-01-23T22:32:04.543Z"
   },
   {
    "duration": 228,
    "start_time": "2023-01-23T22:32:05.010Z"
   },
   {
    "duration": 5,
    "start_time": "2023-01-23T22:32:05.925Z"
   },
   {
    "duration": 7,
    "start_time": "2023-01-23T22:32:06.121Z"
   },
   {
    "duration": 283,
    "start_time": "2023-01-23T22:32:06.521Z"
   },
   {
    "duration": 9,
    "start_time": "2023-01-23T22:32:06.806Z"
   },
   {
    "duration": 22,
    "start_time": "2023-01-23T22:32:06.922Z"
   },
   {
    "duration": 283,
    "start_time": "2023-01-23T22:32:07.841Z"
   },
   {
    "duration": 382,
    "start_time": "2023-01-23T22:32:08.126Z"
   },
   {
    "duration": 179,
    "start_time": "2023-01-23T22:32:10.710Z"
   },
   {
    "duration": 168,
    "start_time": "2023-01-23T22:32:11.459Z"
   },
   {
    "duration": 149,
    "start_time": "2023-01-23T22:32:11.657Z"
   },
   {
    "duration": 160,
    "start_time": "2023-01-23T22:32:12.073Z"
   },
   {
    "duration": 313,
    "start_time": "2023-01-23T22:32:12.531Z"
   },
   {
    "duration": 353,
    "start_time": "2023-01-23T22:32:12.846Z"
   },
   {
    "duration": 352,
    "start_time": "2023-01-23T22:32:13.202Z"
   },
   {
    "duration": 179,
    "start_time": "2023-01-23T22:32:15.790Z"
   },
   {
    "duration": 509,
    "start_time": "2023-01-23T22:32:18.357Z"
   },
   {
    "duration": 15,
    "start_time": "2023-01-23T22:32:19.398Z"
   },
   {
    "duration": 802,
    "start_time": "2023-01-23T22:32:19.625Z"
   },
   {
    "duration": 13,
    "start_time": "2023-01-23T22:32:21.836Z"
   },
   {
    "duration": 824,
    "start_time": "2023-01-23T22:32:22.580Z"
   },
   {
    "duration": 22,
    "start_time": "2023-01-23T22:32:23.805Z"
   },
   {
    "duration": 99,
    "start_time": "2023-01-23T22:32:24.214Z"
   },
   {
    "duration": 5,
    "start_time": "2023-01-23T22:33:20.990Z"
   },
   {
    "duration": 6,
    "start_time": "2023-01-23T22:33:24.499Z"
   },
   {
    "duration": 27,
    "start_time": "2023-01-23T22:33:36.720Z"
   },
   {
    "duration": 4,
    "start_time": "2023-01-23T22:34:12.394Z"
   },
   {
    "duration": 15,
    "start_time": "2023-01-23T22:34:15.495Z"
   },
   {
    "duration": 1033,
    "start_time": "2023-01-23T22:34:45.611Z"
   },
   {
    "duration": 75,
    "start_time": "2023-01-23T22:34:46.646Z"
   },
   {
    "duration": 18,
    "start_time": "2023-01-23T22:34:46.956Z"
   },
   {
    "duration": 11,
    "start_time": "2023-01-23T22:34:47.640Z"
   },
   {
    "duration": 9,
    "start_time": "2023-01-23T22:34:48.015Z"
   },
   {
    "duration": 7,
    "start_time": "2023-01-23T22:34:48.198Z"
   },
   {
    "duration": 3,
    "start_time": "2023-01-23T22:34:48.412Z"
   },
   {
    "duration": 14,
    "start_time": "2023-01-23T22:34:48.812Z"
   },
   {
    "duration": 8,
    "start_time": "2023-01-23T22:34:49.223Z"
   },
   {
    "duration": 5,
    "start_time": "2023-01-23T22:34:49.365Z"
   },
   {
    "duration": 9,
    "start_time": "2023-01-23T22:34:49.571Z"
   },
   {
    "duration": 9,
    "start_time": "2023-01-23T22:34:50.158Z"
   },
   {
    "duration": 7,
    "start_time": "2023-01-23T22:34:50.688Z"
   },
   {
    "duration": 5,
    "start_time": "2023-01-23T22:34:51.465Z"
   },
   {
    "duration": 6,
    "start_time": "2023-01-23T22:34:51.645Z"
   },
   {
    "duration": 5,
    "start_time": "2023-01-23T22:34:52.164Z"
   },
   {
    "duration": 12,
    "start_time": "2023-01-23T22:34:52.892Z"
   },
   {
    "duration": 6,
    "start_time": "2023-01-23T22:34:53.324Z"
   },
   {
    "duration": 6,
    "start_time": "2023-01-23T22:34:53.969Z"
   },
   {
    "duration": 12,
    "start_time": "2023-01-23T22:34:58.279Z"
   },
   {
    "duration": 93,
    "start_time": "2023-01-23T22:34:58.518Z"
   },
   {
    "duration": 174,
    "start_time": "2023-01-23T22:35:01.610Z"
   },
   {
    "duration": 6,
    "start_time": "2023-01-23T22:35:01.985Z"
   },
   {
    "duration": 13,
    "start_time": "2023-01-23T22:35:02.174Z"
   },
   {
    "duration": 132,
    "start_time": "2023-01-23T22:35:02.587Z"
   },
   {
    "duration": 4,
    "start_time": "2023-01-23T22:35:03.262Z"
   },
   {
    "duration": 3,
    "start_time": "2023-01-23T22:35:03.475Z"
   },
   {
    "duration": 260,
    "start_time": "2023-01-23T22:35:05.015Z"
   },
   {
    "duration": 7,
    "start_time": "2023-01-23T22:35:05.857Z"
   },
   {
    "duration": 7,
    "start_time": "2023-01-23T22:35:06.055Z"
   },
   {
    "duration": 278,
    "start_time": "2023-01-23T22:35:06.460Z"
   },
   {
    "duration": 14,
    "start_time": "2023-01-23T22:35:06.745Z"
   },
   {
    "duration": 24,
    "start_time": "2023-01-23T22:35:07.121Z"
   },
   {
    "duration": 285,
    "start_time": "2023-01-23T22:35:07.839Z"
   },
   {
    "duration": 296,
    "start_time": "2023-01-23T22:35:08.388Z"
   },
   {
    "duration": 255,
    "start_time": "2023-01-23T22:35:11.085Z"
   },
   {
    "duration": 166,
    "start_time": "2023-01-23T22:35:11.956Z"
   },
   {
    "duration": 153,
    "start_time": "2023-01-23T22:35:12.531Z"
   },
   {
    "duration": 179,
    "start_time": "2023-01-23T22:35:13.256Z"
   },
   {
    "duration": 314,
    "start_time": "2023-01-23T22:35:13.979Z"
   },
   {
    "duration": 375,
    "start_time": "2023-01-23T22:35:14.295Z"
   },
   {
    "duration": 329,
    "start_time": "2023-01-23T22:35:14.673Z"
   },
   {
    "duration": 185,
    "start_time": "2023-01-23T22:35:16.201Z"
   },
   {
    "duration": 520,
    "start_time": "2023-01-23T22:35:16.744Z"
   },
   {
    "duration": 16,
    "start_time": "2023-01-23T22:35:18.456Z"
   },
   {
    "duration": 819,
    "start_time": "2023-01-23T22:35:20.739Z"
   },
   {
    "duration": 859,
    "start_time": "2023-01-23T22:35:26.185Z"
   },
   {
    "duration": 6,
    "start_time": "2023-01-23T22:35:48.928Z"
   },
   {
    "duration": 7,
    "start_time": "2023-01-23T22:36:02.847Z"
   },
   {
    "duration": 74,
    "start_time": "2023-01-23T22:39:06.460Z"
   },
   {
    "duration": 77,
    "start_time": "2023-01-23T22:39:09.917Z"
   },
   {
    "duration": 5,
    "start_time": "2023-01-23T22:39:20.716Z"
   },
   {
    "duration": 5,
    "start_time": "2023-01-23T22:39:23.788Z"
   },
   {
    "duration": 15,
    "start_time": "2023-01-23T22:39:57.014Z"
   },
   {
    "duration": 1123,
    "start_time": "2023-01-23T22:40:32.815Z"
   },
   {
    "duration": 67,
    "start_time": "2023-01-23T22:40:33.943Z"
   },
   {
    "duration": 17,
    "start_time": "2023-01-23T22:40:34.322Z"
   },
   {
    "duration": 10,
    "start_time": "2023-01-23T22:40:35.077Z"
   },
   {
    "duration": 10,
    "start_time": "2023-01-23T22:40:35.435Z"
   },
   {
    "duration": 7,
    "start_time": "2023-01-23T22:40:35.616Z"
   },
   {
    "duration": 4,
    "start_time": "2023-01-23T22:40:35.804Z"
   },
   {
    "duration": 15,
    "start_time": "2023-01-23T22:40:36.178Z"
   },
   {
    "duration": 3,
    "start_time": "2023-01-23T22:40:36.556Z"
   },
   {
    "duration": 9,
    "start_time": "2023-01-23T22:40:36.728Z"
   },
   {
    "duration": 7,
    "start_time": "2023-01-23T22:40:37.270Z"
   },
   {
    "duration": 8,
    "start_time": "2023-01-23T22:40:37.474Z"
   },
   {
    "duration": 5,
    "start_time": "2023-01-23T22:40:37.821Z"
   },
   {
    "duration": 5,
    "start_time": "2023-01-23T22:40:38.005Z"
   },
   {
    "duration": 4,
    "start_time": "2023-01-23T22:40:38.368Z"
   },
   {
    "duration": 12,
    "start_time": "2023-01-23T22:40:39.511Z"
   },
   {
    "duration": 5,
    "start_time": "2023-01-23T22:40:40.034Z"
   },
   {
    "duration": 5,
    "start_time": "2023-01-23T22:40:41.887Z"
   },
   {
    "duration": 12,
    "start_time": "2023-01-23T22:40:43.384Z"
   },
   {
    "duration": 97,
    "start_time": "2023-01-23T22:40:43.882Z"
   },
   {
    "duration": 167,
    "start_time": "2023-01-23T22:40:45.707Z"
   },
   {
    "duration": 5,
    "start_time": "2023-01-23T22:40:46.170Z"
   },
   {
    "duration": 13,
    "start_time": "2023-01-23T22:40:46.356Z"
   },
   {
    "duration": 141,
    "start_time": "2023-01-23T22:40:46.741Z"
   },
   {
    "duration": 4,
    "start_time": "2023-01-23T22:40:47.107Z"
   },
   {
    "duration": 4,
    "start_time": "2023-01-23T22:40:47.300Z"
   },
   {
    "duration": 252,
    "start_time": "2023-01-23T22:40:47.664Z"
   },
   {
    "duration": 6,
    "start_time": "2023-01-23T22:40:48.436Z"
   },
   {
    "duration": 8,
    "start_time": "2023-01-23T22:40:48.639Z"
   },
   {
    "duration": 288,
    "start_time": "2023-01-23T22:40:49.056Z"
   },
   {
    "duration": 14,
    "start_time": "2023-01-23T22:40:49.346Z"
   },
   {
    "duration": 21,
    "start_time": "2023-01-23T22:40:49.458Z"
   },
   {
    "duration": 271,
    "start_time": "2023-01-23T22:40:50.057Z"
   },
   {
    "duration": 323,
    "start_time": "2023-01-23T22:40:50.330Z"
   },
   {
    "duration": 264,
    "start_time": "2023-01-23T22:40:51.441Z"
   },
   {
    "duration": 167,
    "start_time": "2023-01-23T22:40:51.855Z"
   },
   {
    "duration": 143,
    "start_time": "2023-01-23T22:40:52.061Z"
   },
   {
    "duration": 165,
    "start_time": "2023-01-23T22:40:52.438Z"
   },
   {
    "duration": 295,
    "start_time": "2023-01-23T22:40:52.811Z"
   },
   {
    "duration": 313,
    "start_time": "2023-01-23T22:40:53.108Z"
   },
   {
    "duration": 329,
    "start_time": "2023-01-23T22:40:53.422Z"
   },
   {
    "duration": 179,
    "start_time": "2023-01-23T22:40:54.201Z"
   },
   {
    "duration": 508,
    "start_time": "2023-01-23T22:40:54.610Z"
   },
   {
    "duration": 14,
    "start_time": "2023-01-23T22:40:55.914Z"
   },
   {
    "duration": 740,
    "start_time": "2023-01-23T22:40:56.128Z"
   },
   {
    "duration": 10,
    "start_time": "2023-01-23T22:40:58.633Z"
   },
   {
    "duration": 829,
    "start_time": "2023-01-23T22:40:59.056Z"
   },
   {
    "duration": 9,
    "start_time": "2023-01-23T22:44:30.286Z"
   },
   {
    "duration": 14,
    "start_time": "2023-01-23T22:44:36.766Z"
   },
   {
    "duration": 14,
    "start_time": "2023-01-23T22:45:31.967Z"
   },
   {
    "duration": 16,
    "start_time": "2023-01-23T22:46:06.132Z"
   },
   {
    "duration": 1063,
    "start_time": "2023-01-24T21:32:39.445Z"
   },
   {
    "duration": 56,
    "start_time": "2023-01-24T21:32:40.511Z"
   },
   {
    "duration": 19,
    "start_time": "2023-01-24T21:32:40.569Z"
   },
   {
    "duration": 9,
    "start_time": "2023-01-24T21:32:40.589Z"
   },
   {
    "duration": 11,
    "start_time": "2023-01-24T21:32:40.600Z"
   },
   {
    "duration": 12,
    "start_time": "2023-01-24T21:32:40.612Z"
   },
   {
    "duration": 7,
    "start_time": "2023-01-24T21:32:40.626Z"
   },
   {
    "duration": 22,
    "start_time": "2023-01-24T21:32:40.635Z"
   },
   {
    "duration": 3,
    "start_time": "2023-01-24T21:32:40.659Z"
   },
   {
    "duration": 13,
    "start_time": "2023-01-24T21:32:40.665Z"
   },
   {
    "duration": 21,
    "start_time": "2023-01-24T21:32:40.679Z"
   },
   {
    "duration": 10,
    "start_time": "2023-01-24T21:32:40.702Z"
   },
   {
    "duration": 8,
    "start_time": "2023-01-24T21:32:40.713Z"
   },
   {
    "duration": 6,
    "start_time": "2023-01-24T21:32:40.723Z"
   },
   {
    "duration": 8,
    "start_time": "2023-01-24T21:32:40.731Z"
   },
   {
    "duration": 21,
    "start_time": "2023-01-24T21:32:40.741Z"
   },
   {
    "duration": 36,
    "start_time": "2023-01-24T21:32:40.764Z"
   },
   {
    "duration": 7,
    "start_time": "2023-01-24T21:32:40.802Z"
   },
   {
    "duration": 17,
    "start_time": "2023-01-24T21:32:40.811Z"
   },
   {
    "duration": 100,
    "start_time": "2023-01-24T21:32:40.830Z"
   },
   {
    "duration": 192,
    "start_time": "2023-01-24T21:32:40.932Z"
   },
   {
    "duration": 6,
    "start_time": "2023-01-24T21:32:41.126Z"
   },
   {
    "duration": 16,
    "start_time": "2023-01-24T21:32:41.133Z"
   },
   {
    "duration": 150,
    "start_time": "2023-01-24T21:32:41.150Z"
   },
   {
    "duration": 4,
    "start_time": "2023-01-24T21:32:41.302Z"
   },
   {
    "duration": 15,
    "start_time": "2023-01-24T21:32:41.307Z"
   },
   {
    "duration": 242,
    "start_time": "2023-01-24T21:32:41.324Z"
   },
   {
    "duration": 5,
    "start_time": "2023-01-24T21:32:41.569Z"
   },
   {
    "duration": 12,
    "start_time": "2023-01-24T21:32:41.576Z"
   },
   {
    "duration": 300,
    "start_time": "2023-01-24T21:32:41.590Z"
   },
   {
    "duration": 13,
    "start_time": "2023-01-24T21:32:41.891Z"
   },
   {
    "duration": 24,
    "start_time": "2023-01-24T21:32:41.905Z"
   },
   {
    "duration": 318,
    "start_time": "2023-01-24T21:32:41.931Z"
   },
   {
    "duration": 307,
    "start_time": "2023-01-24T21:32:42.251Z"
   },
   {
    "duration": 272,
    "start_time": "2023-01-24T21:32:42.560Z"
   },
   {
    "duration": 186,
    "start_time": "2023-01-24T21:32:42.833Z"
   },
   {
    "duration": 154,
    "start_time": "2023-01-24T21:32:43.020Z"
   },
   {
    "duration": 183,
    "start_time": "2023-01-24T21:32:43.175Z"
   },
   {
    "duration": 331,
    "start_time": "2023-01-24T21:32:43.360Z"
   },
   {
    "duration": 379,
    "start_time": "2023-01-24T21:32:43.693Z"
   },
   {
    "duration": 344,
    "start_time": "2023-01-24T21:32:44.075Z"
   },
   {
    "duration": 202,
    "start_time": "2023-01-24T21:32:44.421Z"
   },
   {
    "duration": 514,
    "start_time": "2023-01-24T21:32:44.625Z"
   },
   {
    "duration": 20,
    "start_time": "2023-01-24T21:32:45.141Z"
   },
   {
    "duration": 782,
    "start_time": "2023-01-24T21:32:45.163Z"
   },
   {
    "duration": 15,
    "start_time": "2023-01-24T21:32:45.947Z"
   },
   {
    "duration": 36,
    "start_time": "2023-01-24T21:32:45.964Z"
   },
   {
    "duration": 21,
    "start_time": "2023-01-24T21:32:46.002Z"
   },
   {
    "duration": 17,
    "start_time": "2023-01-24T21:32:46.025Z"
   },
   {
    "duration": 129,
    "start_time": "2023-01-24T21:32:46.044Z"
   },
   {
    "duration": 0,
    "start_time": "2023-01-24T21:32:46.175Z"
   },
   {
    "duration": 0,
    "start_time": "2023-01-24T21:32:46.177Z"
   },
   {
    "duration": 0,
    "start_time": "2023-01-24T21:32:46.178Z"
   },
   {
    "duration": 0,
    "start_time": "2023-01-24T21:32:46.179Z"
   },
   {
    "duration": 1198,
    "start_time": "2023-01-24T22:38:17.937Z"
   },
   {
    "duration": 211,
    "start_time": "2023-01-24T22:38:19.136Z"
   },
   {
    "duration": 19,
    "start_time": "2023-01-24T22:38:22.630Z"
   },
   {
    "duration": 9,
    "start_time": "2023-01-24T22:38:26.687Z"
   },
   {
    "duration": 8,
    "start_time": "2023-01-24T22:38:27.622Z"
   },
   {
    "duration": 8,
    "start_time": "2023-01-24T22:38:28.075Z"
   },
   {
    "duration": 4,
    "start_time": "2023-01-24T22:38:28.626Z"
   },
   {
    "duration": 16,
    "start_time": "2023-01-24T22:38:29.706Z"
   },
   {
    "duration": 5,
    "start_time": "2023-01-24T22:38:43.825Z"
   },
   {
    "duration": 13,
    "start_time": "2023-01-24T22:38:44.647Z"
   },
   {
    "duration": 7,
    "start_time": "2023-01-24T22:38:51.711Z"
   },
   {
    "duration": 4,
    "start_time": "2023-01-24T22:38:52.052Z"
   },
   {
    "duration": 4,
    "start_time": "2023-01-24T22:38:54.509Z"
   },
   {
    "duration": 13,
    "start_time": "2023-01-24T22:38:55.787Z"
   },
   {
    "duration": 6,
    "start_time": "2023-01-24T22:39:29.746Z"
   },
   {
    "duration": 7,
    "start_time": "2023-01-24T22:39:30.214Z"
   },
   {
    "duration": 5,
    "start_time": "2023-01-24T22:39:32.614Z"
   },
   {
    "duration": 5,
    "start_time": "2023-01-24T22:39:35.721Z"
   },
   {
    "duration": 4,
    "start_time": "2023-01-24T22:39:39.076Z"
   },
   {
    "duration": 3,
    "start_time": "2023-01-24T22:39:39.885Z"
   },
   {
    "duration": 13,
    "start_time": "2023-01-24T22:39:42.336Z"
   },
   {
    "duration": 9,
    "start_time": "2023-01-24T22:39:46.926Z"
   },
   {
    "duration": 14,
    "start_time": "2023-01-24T22:39:48.329Z"
   },
   {
    "duration": 96,
    "start_time": "2023-01-24T22:39:49.811Z"
   },
   {
    "duration": 170,
    "start_time": "2023-01-24T22:39:59.582Z"
   },
   {
    "duration": 8,
    "start_time": "2023-01-24T22:40:15.506Z"
   },
   {
    "duration": 5,
    "start_time": "2023-01-24T22:40:27.965Z"
   },
   {
    "duration": 13,
    "start_time": "2023-01-24T22:40:28.537Z"
   },
   {
    "duration": 163,
    "start_time": "2023-01-24T22:40:31.402Z"
   },
   {
    "duration": 4,
    "start_time": "2023-01-24T22:40:32.467Z"
   },
   {
    "duration": 3,
    "start_time": "2023-01-24T22:40:32.794Z"
   },
   {
    "duration": 244,
    "start_time": "2023-01-24T22:40:33.945Z"
   },
   {
    "duration": 7,
    "start_time": "2023-01-24T22:40:36.229Z"
   },
   {
    "duration": 6,
    "start_time": "2023-01-24T22:40:36.765Z"
   },
   {
    "duration": 285,
    "start_time": "2023-01-24T22:40:37.853Z"
   },
   {
    "duration": 10,
    "start_time": "2023-01-24T22:40:38.304Z"
   },
   {
    "duration": 23,
    "start_time": "2023-01-24T22:40:38.765Z"
   },
   {
    "duration": 304,
    "start_time": "2023-01-24T22:40:40.049Z"
   },
   {
    "duration": 325,
    "start_time": "2023-01-24T22:40:40.596Z"
   },
   {
    "duration": 265,
    "start_time": "2023-01-24T22:40:47.678Z"
   },
   {
    "duration": 171,
    "start_time": "2023-01-24T22:40:59.590Z"
   },
   {
    "duration": 153,
    "start_time": "2023-01-24T22:41:01.780Z"
   },
   {
    "duration": 177,
    "start_time": "2023-01-24T22:41:02.370Z"
   },
   {
    "duration": 400,
    "start_time": "2023-01-24T22:41:06.242Z"
   },
   {
    "duration": 345,
    "start_time": "2023-01-24T22:41:06.945Z"
   },
   {
    "duration": 326,
    "start_time": "2023-01-24T22:41:07.509Z"
   },
   {
    "duration": 184,
    "start_time": "2023-01-24T22:41:11.936Z"
   },
   {
    "duration": 525,
    "start_time": "2023-01-24T22:41:13.224Z"
   },
   {
    "duration": 16,
    "start_time": "2023-01-24T22:41:21.032Z"
   },
   {
    "duration": 773,
    "start_time": "2023-01-24T22:41:22.137Z"
   },
   {
    "duration": 869,
    "start_time": "2023-01-24T22:41:44.630Z"
   },
   {
    "duration": 5,
    "start_time": "2023-01-24T22:42:17.373Z"
   },
   {
    "duration": 8,
    "start_time": "2023-01-24T22:42:22.611Z"
   },
   {
    "duration": 352,
    "start_time": "2023-01-24T22:44:23.491Z"
   },
   {
    "duration": 339,
    "start_time": "2023-01-24T22:45:03.274Z"
   },
   {
    "duration": 8,
    "start_time": "2023-01-24T22:52:54.333Z"
   },
   {
    "duration": 9,
    "start_time": "2023-01-24T22:52:56.364Z"
   },
   {
    "duration": 10,
    "start_time": "2023-01-24T22:54:11.651Z"
   },
   {
    "duration": 13,
    "start_time": "2023-01-24T22:54:16.956Z"
   },
   {
    "duration": 13,
    "start_time": "2023-01-24T22:58:57.508Z"
   },
   {
    "duration": 1144,
    "start_time": "2023-01-24T23:12:45.729Z"
   },
   {
    "duration": 71,
    "start_time": "2023-01-24T23:12:46.875Z"
   },
   {
    "duration": 20,
    "start_time": "2023-01-24T23:12:47.091Z"
   },
   {
    "duration": 10,
    "start_time": "2023-01-24T23:12:47.866Z"
   },
   {
    "duration": 12,
    "start_time": "2023-01-24T23:12:48.230Z"
   },
   {
    "duration": 7,
    "start_time": "2023-01-24T23:12:48.415Z"
   },
   {
    "duration": 3,
    "start_time": "2023-01-24T23:12:48.612Z"
   },
   {
    "duration": 16,
    "start_time": "2023-01-24T23:12:48.991Z"
   },
   {
    "duration": 4,
    "start_time": "2023-01-24T23:12:49.384Z"
   },
   {
    "duration": 5,
    "start_time": "2023-01-24T23:12:49.994Z"
   },
   {
    "duration": 7,
    "start_time": "2023-01-24T23:12:50.176Z"
   },
   {
    "duration": 7,
    "start_time": "2023-01-24T23:12:50.352Z"
   },
   {
    "duration": 6,
    "start_time": "2023-01-24T23:12:50.744Z"
   },
   {
    "duration": 5,
    "start_time": "2023-01-24T23:12:50.958Z"
   },
   {
    "duration": 5,
    "start_time": "2023-01-24T23:12:51.327Z"
   },
   {
    "duration": 12,
    "start_time": "2023-01-24T23:12:51.892Z"
   },
   {
    "duration": 6,
    "start_time": "2023-01-24T23:12:52.652Z"
   },
   {
    "duration": 23,
    "start_time": "2023-01-24T23:12:53.251Z"
   },
   {
    "duration": 90,
    "start_time": "2023-01-24T23:12:53.491Z"
   },
   {
    "duration": 155,
    "start_time": "2023-01-24T23:12:54.492Z"
   },
   {
    "duration": 5,
    "start_time": "2023-01-24T23:12:54.876Z"
   },
   {
    "duration": 12,
    "start_time": "2023-01-24T23:12:55.073Z"
   },
   {
    "duration": 132,
    "start_time": "2023-01-24T23:12:55.507Z"
   },
   {
    "duration": 4,
    "start_time": "2023-01-24T23:12:55.853Z"
   },
   {
    "duration": 4,
    "start_time": "2023-01-24T23:12:56.030Z"
   },
   {
    "duration": 297,
    "start_time": "2023-01-24T23:12:56.408Z"
   },
   {
    "duration": 7,
    "start_time": "2023-01-24T23:12:57.144Z"
   },
   {
    "duration": 7,
    "start_time": "2023-01-24T23:12:57.348Z"
   },
   {
    "duration": 312,
    "start_time": "2023-01-24T23:12:57.736Z"
   },
   {
    "duration": 10,
    "start_time": "2023-01-24T23:12:58.050Z"
   },
   {
    "duration": 24,
    "start_time": "2023-01-24T23:12:58.129Z"
   },
   {
    "duration": 279,
    "start_time": "2023-01-24T23:12:58.729Z"
   },
   {
    "duration": 288,
    "start_time": "2023-01-24T23:12:59.010Z"
   },
   {
    "duration": 260,
    "start_time": "2023-01-24T23:13:00.106Z"
   },
   {
    "duration": 172,
    "start_time": "2023-01-24T23:13:00.505Z"
   },
   {
    "duration": 162,
    "start_time": "2023-01-24T23:13:00.700Z"
   },
   {
    "duration": 168,
    "start_time": "2023-01-24T23:13:01.098Z"
   },
   {
    "duration": 318,
    "start_time": "2023-01-24T23:13:01.505Z"
   },
   {
    "duration": 326,
    "start_time": "2023-01-24T23:13:01.825Z"
   },
   {
    "duration": 310,
    "start_time": "2023-01-24T23:13:02.153Z"
   },
   {
    "duration": 169,
    "start_time": "2023-01-24T23:13:02.865Z"
   },
   {
    "duration": 497,
    "start_time": "2023-01-24T23:13:03.258Z"
   },
   {
    "duration": 14,
    "start_time": "2023-01-24T23:13:04.041Z"
   },
   {
    "duration": 760,
    "start_time": "2023-01-24T23:13:04.246Z"
   },
   {
    "duration": 15,
    "start_time": "2023-01-24T23:13:05.447Z"
   },
   {
    "duration": 15,
    "start_time": "2023-01-24T23:13:05.647Z"
   },
   {
    "duration": 14,
    "start_time": "2023-01-24T23:13:05.862Z"
   },
   {
    "duration": 956,
    "start_time": "2023-01-24T23:13:06.088Z"
   },
   {
    "duration": 364,
    "start_time": "2023-01-24T23:13:07.046Z"
   },
   {
    "duration": 11,
    "start_time": "2023-01-24T23:13:07.510Z"
   },
   {
    "duration": 9,
    "start_time": "2023-01-24T23:13:08.537Z"
   },
   {
    "duration": 9,
    "start_time": "2023-01-24T23:13:08.968Z"
   },
   {
    "duration": 19,
    "start_time": "2023-01-24T23:13:09.600Z"
   },
   {
    "duration": 14,
    "start_time": "2023-01-24T23:13:09.822Z"
   },
   {
    "duration": 1111,
    "start_time": "2023-01-25T20:16:01.666Z"
   },
   {
    "duration": 61,
    "start_time": "2023-01-25T20:16:02.779Z"
   },
   {
    "duration": 21,
    "start_time": "2023-01-25T20:16:02.842Z"
   },
   {
    "duration": 8,
    "start_time": "2023-01-25T20:16:02.864Z"
   },
   {
    "duration": 30,
    "start_time": "2023-01-25T20:16:02.874Z"
   },
   {
    "duration": 18,
    "start_time": "2023-01-25T20:16:02.905Z"
   },
   {
    "duration": 15,
    "start_time": "2023-01-25T20:16:02.925Z"
   },
   {
    "duration": 39,
    "start_time": "2023-01-25T20:16:02.942Z"
   },
   {
    "duration": 31,
    "start_time": "2023-01-25T20:16:02.983Z"
   },
   {
    "duration": 35,
    "start_time": "2023-01-25T20:16:03.016Z"
   },
   {
    "duration": 24,
    "start_time": "2023-01-25T20:16:03.053Z"
   },
   {
    "duration": 17,
    "start_time": "2023-01-25T20:16:03.078Z"
   },
   {
    "duration": 20,
    "start_time": "2023-01-25T20:16:03.097Z"
   },
   {
    "duration": 15,
    "start_time": "2023-01-25T20:16:03.121Z"
   },
   {
    "duration": 10,
    "start_time": "2023-01-25T20:16:03.138Z"
   },
   {
    "duration": 25,
    "start_time": "2023-01-25T20:16:03.149Z"
   },
   {
    "duration": 7,
    "start_time": "2023-01-25T20:16:03.176Z"
   },
   {
    "duration": 42,
    "start_time": "2023-01-25T20:16:03.185Z"
   },
   {
    "duration": 107,
    "start_time": "2023-01-25T20:16:03.229Z"
   },
   {
    "duration": 169,
    "start_time": "2023-01-25T20:16:03.338Z"
   },
   {
    "duration": 5,
    "start_time": "2023-01-25T20:16:03.508Z"
   },
   {
    "duration": 30,
    "start_time": "2023-01-25T20:16:03.515Z"
   },
   {
    "duration": 163,
    "start_time": "2023-01-25T20:16:03.547Z"
   },
   {
    "duration": 4,
    "start_time": "2023-01-25T20:16:03.711Z"
   },
   {
    "duration": 22,
    "start_time": "2023-01-25T20:16:03.717Z"
   },
   {
    "duration": 255,
    "start_time": "2023-01-25T20:16:03.741Z"
   },
   {
    "duration": 11,
    "start_time": "2023-01-25T20:16:03.997Z"
   },
   {
    "duration": 34,
    "start_time": "2023-01-25T20:16:04.010Z"
   },
   {
    "duration": 368,
    "start_time": "2023-01-25T20:16:04.046Z"
   },
   {
    "duration": 10,
    "start_time": "2023-01-25T20:16:04.416Z"
   },
   {
    "duration": 37,
    "start_time": "2023-01-25T20:16:04.428Z"
   },
   {
    "duration": 297,
    "start_time": "2023-01-25T20:16:04.467Z"
   },
   {
    "duration": 302,
    "start_time": "2023-01-25T20:16:04.765Z"
   },
   {
    "duration": 282,
    "start_time": "2023-01-25T20:16:05.069Z"
   },
   {
    "duration": 193,
    "start_time": "2023-01-25T20:16:05.352Z"
   },
   {
    "duration": 161,
    "start_time": "2023-01-25T20:16:05.546Z"
   },
   {
    "duration": 172,
    "start_time": "2023-01-25T20:16:05.709Z"
   },
   {
    "duration": 331,
    "start_time": "2023-01-25T20:16:05.883Z"
   },
   {
    "duration": 348,
    "start_time": "2023-01-25T20:16:06.216Z"
   },
   {
    "duration": 321,
    "start_time": "2023-01-25T20:16:06.566Z"
   },
   {
    "duration": 202,
    "start_time": "2023-01-25T20:16:06.892Z"
   },
   {
    "duration": 529,
    "start_time": "2023-01-25T20:16:07.096Z"
   },
   {
    "duration": 17,
    "start_time": "2023-01-25T20:16:07.627Z"
   },
   {
    "duration": 789,
    "start_time": "2023-01-25T20:16:07.646Z"
   },
   {
    "duration": 15,
    "start_time": "2023-01-25T20:16:08.437Z"
   },
   {
    "duration": 19,
    "start_time": "2023-01-25T20:16:08.454Z"
   },
   {
    "duration": 35,
    "start_time": "2023-01-25T20:16:08.475Z"
   },
   {
    "duration": 840,
    "start_time": "2023-01-25T20:16:08.511Z"
   },
   {
    "duration": 348,
    "start_time": "2023-01-25T20:16:09.353Z"
   },
   {
    "duration": 8,
    "start_time": "2023-01-25T20:16:09.703Z"
   },
   {
    "duration": 23,
    "start_time": "2023-01-25T20:16:09.713Z"
   },
   {
    "duration": 11,
    "start_time": "2023-01-25T20:16:09.737Z"
   },
   {
    "duration": 25,
    "start_time": "2023-01-25T20:16:09.749Z"
   },
   {
    "duration": 41,
    "start_time": "2023-01-25T20:16:09.777Z"
   },
   {
    "duration": 1531,
    "start_time": "2023-01-25T20:47:06.736Z"
   },
   {
    "duration": 221,
    "start_time": "2023-01-25T20:47:08.269Z"
   },
   {
    "duration": 24,
    "start_time": "2023-01-25T20:47:08.492Z"
   },
   {
    "duration": 14,
    "start_time": "2023-01-25T20:47:09.031Z"
   },
   {
    "duration": 11,
    "start_time": "2023-01-25T20:47:09.412Z"
   },
   {
    "duration": 8,
    "start_time": "2023-01-25T20:47:09.628Z"
   },
   {
    "duration": 4,
    "start_time": "2023-01-25T20:47:09.804Z"
   },
   {
    "duration": 36,
    "start_time": "2023-01-25T20:47:10.219Z"
   },
   {
    "duration": 4,
    "start_time": "2023-01-25T20:47:10.604Z"
   },
   {
    "duration": 6,
    "start_time": "2023-01-25T20:47:11.227Z"
   },
   {
    "duration": 11,
    "start_time": "2023-01-25T20:47:11.394Z"
   },
   {
    "duration": 8,
    "start_time": "2023-01-25T20:47:11.620Z"
   },
   {
    "duration": 6,
    "start_time": "2023-01-25T20:47:12.018Z"
   },
   {
    "duration": 6,
    "start_time": "2023-01-25T20:47:12.224Z"
   },
   {
    "duration": 13,
    "start_time": "2023-01-25T20:47:12.650Z"
   },
   {
    "duration": 20,
    "start_time": "2023-01-25T20:47:13.283Z"
   },
   {
    "duration": 10,
    "start_time": "2023-01-25T20:47:14.161Z"
   },
   {
    "duration": 29,
    "start_time": "2023-01-25T20:47:14.858Z"
   },
   {
    "duration": 141,
    "start_time": "2023-01-25T20:47:15.055Z"
   },
   {
    "duration": 235,
    "start_time": "2023-01-25T20:47:18.153Z"
   },
   {
    "duration": 7,
    "start_time": "2023-01-25T20:47:18.550Z"
   },
   {
    "duration": 15,
    "start_time": "2023-01-25T20:47:18.757Z"
   },
   {
    "duration": 173,
    "start_time": "2023-01-25T20:47:19.096Z"
   },
   {
    "duration": 5,
    "start_time": "2023-01-25T20:47:19.507Z"
   },
   {
    "duration": 4,
    "start_time": "2023-01-25T20:47:19.700Z"
   },
   {
    "duration": 321,
    "start_time": "2023-01-25T20:47:20.095Z"
   },
   {
    "duration": 7,
    "start_time": "2023-01-25T20:47:20.894Z"
   },
   {
    "duration": 7,
    "start_time": "2023-01-25T20:47:21.088Z"
   },
   {
    "duration": 10,
    "start_time": "2023-01-25T20:47:51.534Z"
   },
   {
    "duration": 6,
    "start_time": "2023-01-25T20:47:59.883Z"
   },
   {
    "duration": 14,
    "start_time": "2023-01-25T20:48:00.515Z"
   },
   {
    "duration": 6,
    "start_time": "2023-01-25T20:48:01.281Z"
   },
   {
    "duration": 18,
    "start_time": "2023-01-25T20:48:01.855Z"
   },
   {
    "duration": 219,
    "start_time": "2023-01-25T20:48:02.054Z"
   },
   {
    "duration": 150,
    "start_time": "2023-01-25T20:48:03.052Z"
   },
   {
    "duration": 6,
    "start_time": "2023-01-25T20:48:03.456Z"
   },
   {
    "duration": 14,
    "start_time": "2023-01-25T20:48:03.681Z"
   },
   {
    "duration": 165,
    "start_time": "2023-01-25T20:48:04.099Z"
   },
   {
    "duration": 5,
    "start_time": "2023-01-25T20:48:04.451Z"
   },
   {
    "duration": 15,
    "start_time": "2023-01-25T20:48:04.634Z"
   },
   {
    "duration": 276,
    "start_time": "2023-01-25T20:48:05.007Z"
   },
   {
    "duration": 7,
    "start_time": "2023-01-25T20:48:08.711Z"
   },
   {
    "duration": 8,
    "start_time": "2023-01-25T20:48:08.911Z"
   },
   {
    "duration": 351,
    "start_time": "2023-01-25T20:48:09.308Z"
   },
   {
    "duration": 14,
    "start_time": "2023-01-25T20:48:09.661Z"
   },
   {
    "duration": 26,
    "start_time": "2023-01-25T20:48:09.707Z"
   },
   {
    "duration": 433,
    "start_time": "2023-01-25T20:48:10.280Z"
   },
   {
    "duration": 381,
    "start_time": "2023-01-25T20:48:10.715Z"
   },
   {
    "duration": 204,
    "start_time": "2023-01-25T20:48:11.799Z"
   },
   {
    "duration": 236,
    "start_time": "2023-01-25T20:48:12.410Z"
   },
   {
    "duration": 200,
    "start_time": "2023-01-25T20:48:12.658Z"
   },
   {
    "duration": 202,
    "start_time": "2023-01-25T20:48:13.048Z"
   },
   {
    "duration": 357,
    "start_time": "2023-01-25T20:48:13.452Z"
   },
   {
    "duration": 389,
    "start_time": "2023-01-25T20:48:13.811Z"
   },
   {
    "duration": 374,
    "start_time": "2023-01-25T20:48:14.203Z"
   },
   {
    "duration": 211,
    "start_time": "2023-01-25T20:48:15.372Z"
   },
   {
    "duration": 690,
    "start_time": "2023-01-25T20:48:16.567Z"
   },
   {
    "duration": 16,
    "start_time": "2023-01-25T20:48:26.968Z"
   },
   {
    "duration": 852,
    "start_time": "2023-01-25T20:48:27.866Z"
   },
   {
    "duration": 21,
    "start_time": "2023-01-25T20:48:29.615Z"
   },
   {
    "duration": 30,
    "start_time": "2023-01-25T20:48:29.819Z"
   },
   {
    "duration": 20,
    "start_time": "2023-01-25T20:48:30.048Z"
   },
   {
    "duration": 1037,
    "start_time": "2023-01-25T20:48:30.233Z"
   },
   {
    "duration": 435,
    "start_time": "2023-01-25T20:48:31.817Z"
   },
   {
    "duration": 5,
    "start_time": "2023-01-25T20:50:16.296Z"
   },
   {
    "duration": 41,
    "start_time": "2023-01-25T20:50:23.815Z"
   },
   {
    "duration": 426,
    "start_time": "2023-01-25T20:50:38.107Z"
   },
   {
    "duration": 40,
    "start_time": "2023-01-25T20:51:14.981Z"
   },
   {
    "duration": 29,
    "start_time": "2023-01-25T20:51:23.007Z"
   },
   {
    "duration": 501,
    "start_time": "2023-01-25T20:51:28.513Z"
   },
   {
    "duration": 6,
    "start_time": "2023-01-25T20:51:48.688Z"
   },
   {
    "duration": 450,
    "start_time": "2023-01-25T20:51:52.577Z"
   },
   {
    "duration": 371,
    "start_time": "2023-01-25T20:52:35.459Z"
   },
   {
    "duration": 415,
    "start_time": "2023-01-25T20:52:48.403Z"
   },
   {
    "duration": 347,
    "start_time": "2023-01-25T22:37:06.236Z"
   },
   {
    "duration": 16,
    "start_time": "2023-01-25T22:38:39.015Z"
   },
   {
    "duration": 469,
    "start_time": "2023-01-25T22:38:51.920Z"
   },
   {
    "duration": 9,
    "start_time": "2023-01-25T22:42:16.163Z"
   },
   {
    "duration": 8,
    "start_time": "2023-01-25T22:44:23.824Z"
   },
   {
    "duration": 16,
    "start_time": "2023-01-25T22:45:37.484Z"
   },
   {
    "duration": 7,
    "start_time": "2023-01-25T22:45:41.866Z"
   },
   {
    "duration": 8,
    "start_time": "2023-01-25T22:45:59.783Z"
   },
   {
    "duration": 8,
    "start_time": "2023-01-25T22:48:14.809Z"
   },
   {
    "duration": 12,
    "start_time": "2023-01-25T22:48:18.114Z"
   },
   {
    "duration": 1456,
    "start_time": "2023-01-27T22:03:06.309Z"
   },
   {
    "duration": 252,
    "start_time": "2023-01-27T22:03:07.768Z"
   },
   {
    "duration": 20,
    "start_time": "2023-01-27T22:03:08.022Z"
   },
   {
    "duration": 9,
    "start_time": "2023-01-27T22:03:08.421Z"
   },
   {
    "duration": 11,
    "start_time": "2023-01-27T22:03:08.817Z"
   },
   {
    "duration": 11,
    "start_time": "2023-01-27T22:03:08.986Z"
   },
   {
    "duration": 5,
    "start_time": "2023-01-27T22:03:09.181Z"
   },
   {
    "duration": 26,
    "start_time": "2023-01-27T22:03:09.577Z"
   },
   {
    "duration": 4,
    "start_time": "2023-01-27T22:03:09.986Z"
   },
   {
    "duration": 6,
    "start_time": "2023-01-27T22:03:11.066Z"
   },
   {
    "duration": 8,
    "start_time": "2023-01-27T22:03:11.270Z"
   },
   {
    "duration": 8,
    "start_time": "2023-01-27T22:03:11.487Z"
   },
   {
    "duration": 7,
    "start_time": "2023-01-27T22:03:12.223Z"
   },
   {
    "duration": 6,
    "start_time": "2023-01-27T22:03:12.347Z"
   },
   {
    "duration": 9,
    "start_time": "2023-01-27T22:03:12.749Z"
   },
   {
    "duration": 17,
    "start_time": "2023-01-27T22:03:13.415Z"
   },
   {
    "duration": 6,
    "start_time": "2023-01-27T22:03:14.255Z"
   },
   {
    "duration": 15,
    "start_time": "2023-01-27T22:03:14.850Z"
   },
   {
    "duration": 219,
    "start_time": "2023-01-27T22:03:15.040Z"
   },
   {
    "duration": 187,
    "start_time": "2023-01-27T22:03:16.076Z"
   },
   {
    "duration": 6,
    "start_time": "2023-01-27T22:03:16.465Z"
   },
   {
    "duration": 15,
    "start_time": "2023-01-27T22:03:16.672Z"
   },
   {
    "duration": 155,
    "start_time": "2023-01-27T22:03:17.124Z"
   },
   {
    "duration": 5,
    "start_time": "2023-01-27T22:03:17.622Z"
   },
   {
    "duration": 4,
    "start_time": "2023-01-27T22:03:17.889Z"
   },
   {
    "duration": 279,
    "start_time": "2023-01-27T22:03:18.321Z"
   },
   {
    "duration": 6,
    "start_time": "2023-01-27T22:03:19.210Z"
   },
   {
    "duration": 8,
    "start_time": "2023-01-27T22:03:19.390Z"
   },
   {
    "duration": 333,
    "start_time": "2023-01-27T22:03:19.831Z"
   },
   {
    "duration": 12,
    "start_time": "2023-01-27T22:03:20.167Z"
   },
   {
    "duration": 32,
    "start_time": "2023-01-27T22:03:20.237Z"
   },
   {
    "duration": 334,
    "start_time": "2023-01-27T22:03:20.937Z"
   },
   {
    "duration": 375,
    "start_time": "2023-01-27T22:03:21.273Z"
   },
   {
    "duration": 275,
    "start_time": "2023-01-27T22:03:23.235Z"
   },
   {
    "duration": 189,
    "start_time": "2023-01-27T22:03:23.932Z"
   },
   {
    "duration": 144,
    "start_time": "2023-01-27T22:03:24.175Z"
   },
   {
    "duration": 167,
    "start_time": "2023-01-27T22:03:24.643Z"
   },
   {
    "duration": 322,
    "start_time": "2023-01-27T22:03:25.117Z"
   },
   {
    "duration": 334,
    "start_time": "2023-01-27T22:03:25.441Z"
   },
   {
    "duration": 324,
    "start_time": "2023-01-27T22:03:25.777Z"
   },
   {
    "duration": 176,
    "start_time": "2023-01-27T22:03:26.817Z"
   },
   {
    "duration": 552,
    "start_time": "2023-01-27T22:03:27.619Z"
   },
   {
    "duration": 16,
    "start_time": "2023-01-27T22:03:28.881Z"
   },
   {
    "duration": 837,
    "start_time": "2023-01-27T22:03:29.119Z"
   },
   {
    "duration": 16,
    "start_time": "2023-01-27T22:03:31.460Z"
   },
   {
    "duration": 20,
    "start_time": "2023-01-27T22:03:31.717Z"
   },
   {
    "duration": 20,
    "start_time": "2023-01-27T22:03:31.935Z"
   },
   {
    "duration": 1020,
    "start_time": "2023-01-27T22:03:32.184Z"
   },
   {
    "duration": 25,
    "start_time": "2023-01-27T22:03:33.250Z"
   },
   {
    "duration": 5,
    "start_time": "2023-01-27T22:03:33.479Z"
   },
   {
    "duration": 16,
    "start_time": "2023-01-27T22:03:33.724Z"
   },
   {
    "duration": 354,
    "start_time": "2023-01-27T22:03:34.013Z"
   },
   {
    "duration": 9,
    "start_time": "2023-01-27T22:03:35.028Z"
   },
   {
    "duration": 8,
    "start_time": "2023-01-27T22:03:36.436Z"
   },
   {
    "duration": 12,
    "start_time": "2023-01-27T22:03:37.116Z"
   },
   {
    "duration": 18,
    "start_time": "2023-01-27T22:03:38.013Z"
   },
   {
    "duration": 15,
    "start_time": "2023-01-27T22:03:38.221Z"
   },
   {
    "duration": 10,
    "start_time": "2023-01-27T22:05:11.312Z"
   },
   {
    "duration": 21,
    "start_time": "2023-01-27T22:06:56.336Z"
   },
   {
    "duration": 15,
    "start_time": "2023-01-27T22:07:43.712Z"
   },
   {
    "duration": 15,
    "start_time": "2023-01-27T22:07:51.450Z"
   },
   {
    "duration": 1105,
    "start_time": "2023-01-28T19:06:49.845Z"
   },
   {
    "duration": 62,
    "start_time": "2023-01-28T19:06:50.951Z"
   },
   {
    "duration": 18,
    "start_time": "2023-01-28T19:06:51.015Z"
   },
   {
    "duration": 9,
    "start_time": "2023-01-28T19:06:51.035Z"
   },
   {
    "duration": 8,
    "start_time": "2023-01-28T19:06:51.045Z"
   },
   {
    "duration": 15,
    "start_time": "2023-01-28T19:06:51.055Z"
   },
   {
    "duration": 6,
    "start_time": "2023-01-28T19:06:51.071Z"
   },
   {
    "duration": 16,
    "start_time": "2023-01-28T19:06:51.078Z"
   },
   {
    "duration": 2,
    "start_time": "2023-01-28T19:06:51.096Z"
   },
   {
    "duration": 13,
    "start_time": "2023-01-28T19:06:51.100Z"
   },
   {
    "duration": 10,
    "start_time": "2023-01-28T19:06:51.114Z"
   },
   {
    "duration": 6,
    "start_time": "2023-01-28T19:06:51.126Z"
   },
   {
    "duration": 9,
    "start_time": "2023-01-28T19:06:51.133Z"
   },
   {
    "duration": 9,
    "start_time": "2023-01-28T19:06:51.143Z"
   },
   {
    "duration": 17,
    "start_time": "2023-01-28T19:06:51.153Z"
   },
   {
    "duration": 12,
    "start_time": "2023-01-28T19:06:51.172Z"
   },
   {
    "duration": 5,
    "start_time": "2023-01-28T19:06:51.186Z"
   },
   {
    "duration": 14,
    "start_time": "2023-01-28T19:06:51.192Z"
   },
   {
    "duration": 195,
    "start_time": "2023-01-28T19:06:51.207Z"
   },
   {
    "duration": 0,
    "start_time": "2023-01-28T19:06:51.404Z"
   },
   {
    "duration": 0,
    "start_time": "2023-01-28T19:06:51.405Z"
   },
   {
    "duration": 1,
    "start_time": "2023-01-28T19:06:51.405Z"
   },
   {
    "duration": 0,
    "start_time": "2023-01-28T19:06:51.406Z"
   },
   {
    "duration": 0,
    "start_time": "2023-01-28T19:06:51.408Z"
   },
   {
    "duration": 0,
    "start_time": "2023-01-28T19:06:51.409Z"
   },
   {
    "duration": 0,
    "start_time": "2023-01-28T19:06:51.409Z"
   },
   {
    "duration": 0,
    "start_time": "2023-01-28T19:06:51.410Z"
   },
   {
    "duration": 0,
    "start_time": "2023-01-28T19:06:51.411Z"
   },
   {
    "duration": 0,
    "start_time": "2023-01-28T19:06:51.413Z"
   },
   {
    "duration": 0,
    "start_time": "2023-01-28T19:06:51.413Z"
   },
   {
    "duration": 0,
    "start_time": "2023-01-28T19:06:51.414Z"
   },
   {
    "duration": 0,
    "start_time": "2023-01-28T19:06:51.415Z"
   },
   {
    "duration": 0,
    "start_time": "2023-01-28T19:06:51.416Z"
   },
   {
    "duration": 0,
    "start_time": "2023-01-28T19:06:51.416Z"
   },
   {
    "duration": 0,
    "start_time": "2023-01-28T19:06:51.417Z"
   },
   {
    "duration": 0,
    "start_time": "2023-01-28T19:06:51.418Z"
   },
   {
    "duration": 0,
    "start_time": "2023-01-28T19:06:51.419Z"
   },
   {
    "duration": 0,
    "start_time": "2023-01-28T19:06:51.420Z"
   },
   {
    "duration": 0,
    "start_time": "2023-01-28T19:06:51.420Z"
   },
   {
    "duration": 0,
    "start_time": "2023-01-28T19:06:51.421Z"
   },
   {
    "duration": 0,
    "start_time": "2023-01-28T19:06:51.422Z"
   },
   {
    "duration": 0,
    "start_time": "2023-01-28T19:06:51.423Z"
   },
   {
    "duration": 1,
    "start_time": "2023-01-28T19:06:51.423Z"
   },
   {
    "duration": 0,
    "start_time": "2023-01-28T19:06:51.424Z"
   },
   {
    "duration": 0,
    "start_time": "2023-01-28T19:06:51.425Z"
   },
   {
    "duration": 0,
    "start_time": "2023-01-28T19:06:51.467Z"
   },
   {
    "duration": 0,
    "start_time": "2023-01-28T19:06:51.468Z"
   },
   {
    "duration": 0,
    "start_time": "2023-01-28T19:06:51.469Z"
   },
   {
    "duration": 0,
    "start_time": "2023-01-28T19:06:51.470Z"
   },
   {
    "duration": 0,
    "start_time": "2023-01-28T19:06:51.471Z"
   },
   {
    "duration": 0,
    "start_time": "2023-01-28T19:06:51.472Z"
   },
   {
    "duration": 0,
    "start_time": "2023-01-28T19:06:51.473Z"
   },
   {
    "duration": 0,
    "start_time": "2023-01-28T19:06:51.474Z"
   },
   {
    "duration": 0,
    "start_time": "2023-01-28T19:06:51.474Z"
   },
   {
    "duration": 0,
    "start_time": "2023-01-28T19:06:51.475Z"
   },
   {
    "duration": 0,
    "start_time": "2023-01-28T19:06:51.476Z"
   },
   {
    "duration": 0,
    "start_time": "2023-01-28T19:06:51.477Z"
   },
   {
    "duration": 52,
    "start_time": "2023-01-28T19:07:48.095Z"
   },
   {
    "duration": 1063,
    "start_time": "2023-01-28T19:07:57.690Z"
   },
   {
    "duration": 61,
    "start_time": "2023-01-28T19:07:58.755Z"
   },
   {
    "duration": 16,
    "start_time": "2023-01-28T19:07:58.818Z"
   },
   {
    "duration": 7,
    "start_time": "2023-01-28T19:07:58.835Z"
   },
   {
    "duration": 13,
    "start_time": "2023-01-28T19:07:58.844Z"
   },
   {
    "duration": 8,
    "start_time": "2023-01-28T19:07:58.859Z"
   },
   {
    "duration": 3,
    "start_time": "2023-01-28T19:07:58.869Z"
   },
   {
    "duration": 19,
    "start_time": "2023-01-28T19:07:58.874Z"
   },
   {
    "duration": 4,
    "start_time": "2023-01-28T19:07:58.896Z"
   },
   {
    "duration": 7,
    "start_time": "2023-01-28T19:07:58.902Z"
   },
   {
    "duration": 10,
    "start_time": "2023-01-28T19:07:58.910Z"
   },
   {
    "duration": 7,
    "start_time": "2023-01-28T19:07:58.922Z"
   },
   {
    "duration": 11,
    "start_time": "2023-01-28T19:07:58.931Z"
   },
   {
    "duration": 4,
    "start_time": "2023-01-28T19:07:58.970Z"
   },
   {
    "duration": 8,
    "start_time": "2023-01-28T19:07:58.975Z"
   },
   {
    "duration": 16,
    "start_time": "2023-01-28T19:07:58.985Z"
   },
   {
    "duration": 5,
    "start_time": "2023-01-28T19:07:59.003Z"
   },
   {
    "duration": 16,
    "start_time": "2023-01-28T19:07:59.009Z"
   },
   {
    "duration": 70,
    "start_time": "2023-01-28T19:07:59.026Z"
   },
   {
    "duration": 165,
    "start_time": "2023-01-28T19:07:59.098Z"
   },
   {
    "duration": 6,
    "start_time": "2023-01-28T19:07:59.266Z"
   },
   {
    "duration": 19,
    "start_time": "2023-01-28T19:07:59.274Z"
   },
   {
    "duration": 153,
    "start_time": "2023-01-28T19:07:59.295Z"
   },
   {
    "duration": 4,
    "start_time": "2023-01-28T19:07:59.450Z"
   },
   {
    "duration": 12,
    "start_time": "2023-01-28T19:07:59.456Z"
   },
   {
    "duration": 229,
    "start_time": "2023-01-28T19:07:59.469Z"
   },
   {
    "duration": 5,
    "start_time": "2023-01-28T19:07:59.700Z"
   },
   {
    "duration": 21,
    "start_time": "2023-01-28T19:07:59.707Z"
   },
   {
    "duration": 310,
    "start_time": "2023-01-28T19:07:59.730Z"
   },
   {
    "duration": 9,
    "start_time": "2023-01-28T19:08:00.042Z"
   },
   {
    "duration": 37,
    "start_time": "2023-01-28T19:08:00.053Z"
   },
   {
    "duration": 278,
    "start_time": "2023-01-28T19:08:00.091Z"
   },
   {
    "duration": 299,
    "start_time": "2023-01-28T19:08:00.371Z"
   },
   {
    "duration": 257,
    "start_time": "2023-01-28T19:08:00.672Z"
   },
   {
    "duration": 176,
    "start_time": "2023-01-28T19:08:00.931Z"
   },
   {
    "duration": 153,
    "start_time": "2023-01-28T19:08:01.109Z"
   },
   {
    "duration": 164,
    "start_time": "2023-01-28T19:08:01.266Z"
   },
   {
    "duration": 319,
    "start_time": "2023-01-28T19:08:01.432Z"
   },
   {
    "duration": 305,
    "start_time": "2023-01-28T19:08:01.752Z"
   },
   {
    "duration": 287,
    "start_time": "2023-01-28T19:08:02.059Z"
   },
   {
    "duration": 177,
    "start_time": "2023-01-28T19:08:02.350Z"
   },
   {
    "duration": 520,
    "start_time": "2023-01-28T19:08:02.528Z"
   },
   {
    "duration": 18,
    "start_time": "2023-01-28T19:08:03.050Z"
   },
   {
    "duration": 805,
    "start_time": "2023-01-28T19:08:03.070Z"
   },
   {
    "duration": 14,
    "start_time": "2023-01-28T19:08:03.877Z"
   },
   {
    "duration": 15,
    "start_time": "2023-01-28T19:08:03.892Z"
   },
   {
    "duration": 37,
    "start_time": "2023-01-28T19:08:03.909Z"
   },
   {
    "duration": 785,
    "start_time": "2023-01-28T19:08:03.947Z"
   },
   {
    "duration": 35,
    "start_time": "2023-01-28T19:08:04.733Z"
   },
   {
    "duration": 4,
    "start_time": "2023-01-28T19:08:04.769Z"
   },
   {
    "duration": 17,
    "start_time": "2023-01-28T19:08:04.774Z"
   },
   {
    "duration": 378,
    "start_time": "2023-01-28T19:08:04.792Z"
   },
   {
    "duration": 8,
    "start_time": "2023-01-28T19:08:05.171Z"
   },
   {
    "duration": 11,
    "start_time": "2023-01-28T19:08:05.181Z"
   },
   {
    "duration": 9,
    "start_time": "2023-01-28T19:08:05.194Z"
   },
   {
    "duration": 16,
    "start_time": "2023-01-28T19:08:05.205Z"
   },
   {
    "duration": 49,
    "start_time": "2023-01-28T19:08:05.222Z"
   },
   {
    "duration": 1265,
    "start_time": "2023-01-30T13:06:55.383Z"
   },
   {
    "duration": 204,
    "start_time": "2023-01-30T13:06:56.650Z"
   },
   {
    "duration": 18,
    "start_time": "2023-01-30T13:06:56.856Z"
   },
   {
    "duration": 9,
    "start_time": "2023-01-30T13:06:57.725Z"
   },
   {
    "duration": 13,
    "start_time": "2023-01-30T13:06:58.156Z"
   },
   {
    "duration": 9,
    "start_time": "2023-01-30T13:06:58.341Z"
   },
   {
    "duration": 4,
    "start_time": "2023-01-30T13:06:58.545Z"
   },
   {
    "duration": 23,
    "start_time": "2023-01-30T13:06:58.955Z"
   },
   {
    "duration": 4,
    "start_time": "2023-01-30T13:06:59.374Z"
   },
   {
    "duration": 6,
    "start_time": "2023-01-30T13:06:59.952Z"
   },
   {
    "duration": 9,
    "start_time": "2023-01-30T13:07:00.161Z"
   },
   {
    "duration": 10,
    "start_time": "2023-01-30T13:07:00.356Z"
   },
   {
    "duration": 6,
    "start_time": "2023-01-30T13:07:00.784Z"
   },
   {
    "duration": 5,
    "start_time": "2023-01-30T13:07:00.977Z"
   },
   {
    "duration": 7,
    "start_time": "2023-01-30T13:07:01.371Z"
   },
   {
    "duration": 14,
    "start_time": "2023-01-30T13:07:02.171Z"
   },
   {
    "duration": 6,
    "start_time": "2023-01-30T13:07:02.984Z"
   },
   {
    "duration": 13,
    "start_time": "2023-01-30T13:07:03.557Z"
   },
   {
    "duration": 59,
    "start_time": "2023-01-30T13:07:03.775Z"
   },
   {
    "duration": 263,
    "start_time": "2023-01-30T13:07:04.760Z"
   },
   {
    "duration": 7,
    "start_time": "2023-01-30T13:07:05.162Z"
   },
   {
    "duration": 18,
    "start_time": "2023-01-30T13:07:05.359Z"
   },
   {
    "duration": 157,
    "start_time": "2023-01-30T13:07:05.759Z"
   },
   {
    "duration": 4,
    "start_time": "2023-01-30T13:07:06.149Z"
   },
   {
    "duration": 4,
    "start_time": "2023-01-30T13:07:06.334Z"
   },
   {
    "duration": 316,
    "start_time": "2023-01-30T13:07:06.744Z"
   },
   {
    "duration": 8,
    "start_time": "2023-01-30T13:07:07.555Z"
   },
   {
    "duration": 7,
    "start_time": "2023-01-30T13:07:07.758Z"
   },
   {
    "duration": 338,
    "start_time": "2023-01-30T13:07:08.172Z"
   },
   {
    "duration": 14,
    "start_time": "2023-01-30T13:07:08.513Z"
   },
   {
    "duration": 23,
    "start_time": "2023-01-30T13:07:08.589Z"
   },
   {
    "duration": 315,
    "start_time": "2023-01-30T13:07:09.220Z"
   },
   {
    "duration": 393,
    "start_time": "2023-01-30T13:07:09.537Z"
   },
   {
    "duration": 208,
    "start_time": "2023-01-30T13:07:10.961Z"
   },
   {
    "duration": 170,
    "start_time": "2023-01-30T13:07:11.529Z"
   },
   {
    "duration": 150,
    "start_time": "2023-01-30T13:07:11.738Z"
   },
   {
    "duration": 189,
    "start_time": "2023-01-30T13:07:12.178Z"
   },
   {
    "duration": 312,
    "start_time": "2023-01-30T13:07:12.548Z"
   },
   {
    "duration": 335,
    "start_time": "2023-01-30T13:07:12.867Z"
   },
   {
    "duration": 341,
    "start_time": "2023-01-30T13:07:13.204Z"
   },
   {
    "duration": 182,
    "start_time": "2023-01-30T13:07:14.040Z"
   },
   {
    "duration": 643,
    "start_time": "2023-01-30T13:07:14.433Z"
   },
   {
    "duration": 21,
    "start_time": "2023-01-30T13:07:15.576Z"
   },
   {
    "duration": 705,
    "start_time": "2023-01-30T13:07:15.779Z"
   },
   {
    "duration": 15,
    "start_time": "2023-01-30T13:07:17.385Z"
   },
   {
    "duration": 15,
    "start_time": "2023-01-30T13:07:17.841Z"
   },
   {
    "duration": 15,
    "start_time": "2023-01-30T13:07:18.112Z"
   },
   {
    "duration": 907,
    "start_time": "2023-01-30T13:07:18.512Z"
   },
   {
    "duration": 25,
    "start_time": "2023-01-30T13:07:20.118Z"
   },
   {
    "duration": 5,
    "start_time": "2023-01-30T13:07:20.354Z"
   },
   {
    "duration": 13,
    "start_time": "2023-01-30T13:07:20.653Z"
   },
   {
    "duration": 324,
    "start_time": "2023-01-30T13:07:21.352Z"
   },
   {
    "duration": 14,
    "start_time": "2023-01-30T13:07:33.644Z"
   },
   {
    "duration": 6,
    "start_time": "2023-01-30T13:08:13.033Z"
   },
   {
    "duration": 17,
    "start_time": "2023-01-30T13:08:25.058Z"
   },
   {
    "duration": 5,
    "start_time": "2023-01-30T13:08:32.368Z"
   },
   {
    "duration": 5,
    "start_time": "2023-01-30T13:08:45.630Z"
   },
   {
    "duration": 5,
    "start_time": "2023-01-30T13:08:47.817Z"
   },
   {
    "duration": 3,
    "start_time": "2023-01-30T13:08:57.943Z"
   },
   {
    "duration": 60,
    "start_time": "2023-01-30T13:08:58.137Z"
   },
   {
    "duration": 18,
    "start_time": "2023-01-30T13:08:59.318Z"
   },
   {
    "duration": 9,
    "start_time": "2023-01-30T13:09:00.062Z"
   },
   {
    "duration": 15,
    "start_time": "2023-01-30T13:09:00.453Z"
   },
   {
    "duration": 9,
    "start_time": "2023-01-30T13:09:00.640Z"
   },
   {
    "duration": 4,
    "start_time": "2023-01-30T13:09:00.822Z"
   },
   {
    "duration": 25,
    "start_time": "2023-01-30T13:09:01.204Z"
   },
   {
    "duration": 4,
    "start_time": "2023-01-30T13:09:01.591Z"
   },
   {
    "duration": 5,
    "start_time": "2023-01-30T13:09:02.156Z"
   },
   {
    "duration": 9,
    "start_time": "2023-01-30T13:09:02.313Z"
   },
   {
    "duration": 10,
    "start_time": "2023-01-30T13:09:02.516Z"
   },
   {
    "duration": 6,
    "start_time": "2023-01-30T13:09:02.904Z"
   },
   {
    "duration": 6,
    "start_time": "2023-01-30T13:09:03.081Z"
   },
   {
    "duration": 7,
    "start_time": "2023-01-30T13:09:03.444Z"
   },
   {
    "duration": 18,
    "start_time": "2023-01-30T13:09:04.173Z"
   },
   {
    "duration": 7,
    "start_time": "2023-01-30T13:09:04.965Z"
   },
   {
    "duration": 21,
    "start_time": "2023-01-30T13:09:05.540Z"
   },
   {
    "duration": 66,
    "start_time": "2023-01-30T13:09:05.731Z"
   },
   {
    "duration": 178,
    "start_time": "2023-01-30T13:09:06.722Z"
   },
   {
    "duration": 5,
    "start_time": "2023-01-30T13:09:07.048Z"
   },
   {
    "duration": 14,
    "start_time": "2023-01-30T13:09:07.262Z"
   },
   {
    "duration": 143,
    "start_time": "2023-01-30T13:09:07.653Z"
   },
   {
    "duration": 4,
    "start_time": "2023-01-30T13:09:08.034Z"
   },
   {
    "duration": 4,
    "start_time": "2023-01-30T13:09:08.242Z"
   },
   {
    "duration": 352,
    "start_time": "2023-01-30T13:09:08.711Z"
   },
   {
    "duration": 7,
    "start_time": "2023-01-30T13:09:09.542Z"
   },
   {
    "duration": 7,
    "start_time": "2023-01-30T13:09:09.741Z"
   },
   {
    "duration": 293,
    "start_time": "2023-01-30T13:09:10.167Z"
   },
   {
    "duration": 10,
    "start_time": "2023-01-30T13:09:10.463Z"
   },
   {
    "duration": 24,
    "start_time": "2023-01-30T13:09:10.576Z"
   },
   {
    "duration": 302,
    "start_time": "2023-01-30T13:09:12.497Z"
   },
   {
    "duration": 351,
    "start_time": "2023-01-30T13:09:12.801Z"
   },
   {
    "duration": 173,
    "start_time": "2023-01-30T13:09:14.520Z"
   },
   {
    "duration": 199,
    "start_time": "2023-01-30T13:09:15.109Z"
   },
   {
    "duration": 203,
    "start_time": "2023-01-30T13:09:15.321Z"
   },
   {
    "duration": 185,
    "start_time": "2023-01-30T13:09:15.971Z"
   },
   {
    "duration": 362,
    "start_time": "2023-01-30T13:09:16.556Z"
   },
   {
    "duration": 381,
    "start_time": "2023-01-30T13:09:16.921Z"
   },
   {
    "duration": 354,
    "start_time": "2023-01-30T13:09:17.304Z"
   },
   {
    "duration": 183,
    "start_time": "2023-01-30T13:09:19.197Z"
   },
   {
    "duration": 630,
    "start_time": "2023-01-30T13:09:19.939Z"
   },
   {
    "duration": 18,
    "start_time": "2023-01-30T13:09:21.110Z"
   },
   {
    "duration": 688,
    "start_time": "2023-01-30T13:09:21.512Z"
   },
   {
    "duration": 19,
    "start_time": "2023-01-30T13:09:23.462Z"
   },
   {
    "duration": 20,
    "start_time": "2023-01-30T13:09:23.969Z"
   },
   {
    "duration": 15,
    "start_time": "2023-01-30T13:09:24.453Z"
   },
   {
    "duration": 930,
    "start_time": "2023-01-30T13:09:24.957Z"
   },
   {
    "duration": 4,
    "start_time": "2023-01-30T13:09:27.507Z"
   },
   {
    "duration": 5,
    "start_time": "2023-01-30T13:09:29.711Z"
   },
   {
    "duration": 14,
    "start_time": "2023-01-30T13:09:31.843Z"
   },
   {
    "duration": 335,
    "start_time": "2023-01-30T13:09:33.977Z"
   },
   {
    "duration": 5,
    "start_time": "2023-01-30T13:09:39.511Z"
   },
   {
    "duration": 8,
    "start_time": "2023-01-30T13:09:58.184Z"
   },
   {
    "duration": 14,
    "start_time": "2023-01-30T13:10:29.915Z"
   },
   {
    "duration": 517,
    "start_time": "2023-01-30T13:10:36.042Z"
   },
   {
    "duration": 356,
    "start_time": "2023-01-30T13:10:49.762Z"
   },
   {
    "duration": 15,
    "start_time": "2023-01-30T13:11:03.098Z"
   },
   {
    "duration": 384,
    "start_time": "2023-01-30T13:11:08.241Z"
   },
   {
    "duration": 1089,
    "start_time": "2023-01-30T19:45:39.470Z"
   },
   {
    "duration": 63,
    "start_time": "2023-01-30T19:45:40.561Z"
   },
   {
    "duration": 31,
    "start_time": "2023-01-30T19:45:40.628Z"
   },
   {
    "duration": 9,
    "start_time": "2023-01-30T19:45:40.663Z"
   },
   {
    "duration": 16,
    "start_time": "2023-01-30T19:45:40.673Z"
   },
   {
    "duration": 17,
    "start_time": "2023-01-30T19:45:40.690Z"
   },
   {
    "duration": 19,
    "start_time": "2023-01-30T19:45:40.709Z"
   },
   {
    "duration": 35,
    "start_time": "2023-01-30T19:45:40.729Z"
   },
   {
    "duration": 11,
    "start_time": "2023-01-30T19:45:40.766Z"
   },
   {
    "duration": 8,
    "start_time": "2023-01-30T19:45:40.778Z"
   },
   {
    "duration": 13,
    "start_time": "2023-01-30T19:45:40.787Z"
   },
   {
    "duration": 11,
    "start_time": "2023-01-30T19:45:40.801Z"
   },
   {
    "duration": 27,
    "start_time": "2023-01-30T19:45:40.815Z"
   },
   {
    "duration": 26,
    "start_time": "2023-01-30T19:45:40.843Z"
   },
   {
    "duration": 16,
    "start_time": "2023-01-30T19:45:40.871Z"
   },
   {
    "duration": 28,
    "start_time": "2023-01-30T19:45:40.888Z"
   },
   {
    "duration": 17,
    "start_time": "2023-01-30T19:45:40.918Z"
   },
   {
    "duration": 41,
    "start_time": "2023-01-30T19:45:40.937Z"
   },
   {
    "duration": 68,
    "start_time": "2023-01-30T19:45:40.979Z"
   },
   {
    "duration": 171,
    "start_time": "2023-01-30T19:45:41.052Z"
   },
   {
    "duration": 5,
    "start_time": "2023-01-30T19:45:41.224Z"
   },
   {
    "duration": 28,
    "start_time": "2023-01-30T19:45:41.232Z"
   },
   {
    "duration": 138,
    "start_time": "2023-01-30T19:45:41.261Z"
   },
   {
    "duration": 3,
    "start_time": "2023-01-30T19:45:41.401Z"
   },
   {
    "duration": 8,
    "start_time": "2023-01-30T19:45:41.406Z"
   },
   {
    "duration": 263,
    "start_time": "2023-01-30T19:45:41.415Z"
   },
   {
    "duration": 7,
    "start_time": "2023-01-30T19:45:41.680Z"
   },
   {
    "duration": 18,
    "start_time": "2023-01-30T19:45:41.688Z"
   },
   {
    "duration": 318,
    "start_time": "2023-01-30T19:45:41.708Z"
   },
   {
    "duration": 21,
    "start_time": "2023-01-30T19:45:42.028Z"
   },
   {
    "duration": 24,
    "start_time": "2023-01-30T19:45:42.051Z"
   },
   {
    "duration": 306,
    "start_time": "2023-01-30T19:45:42.077Z"
   },
   {
    "duration": 306,
    "start_time": "2023-01-30T19:45:42.384Z"
   },
   {
    "duration": 248,
    "start_time": "2023-01-30T19:45:42.692Z"
   },
   {
    "duration": 173,
    "start_time": "2023-01-30T19:45:42.945Z"
   },
   {
    "duration": 168,
    "start_time": "2023-01-30T19:45:43.121Z"
   },
   {
    "duration": 191,
    "start_time": "2023-01-30T19:45:43.291Z"
   },
   {
    "duration": 355,
    "start_time": "2023-01-30T19:45:43.484Z"
   },
   {
    "duration": 368,
    "start_time": "2023-01-30T19:45:43.844Z"
   },
   {
    "duration": 337,
    "start_time": "2023-01-30T19:45:44.216Z"
   },
   {
    "duration": 226,
    "start_time": "2023-01-30T19:45:44.555Z"
   },
   {
    "duration": 549,
    "start_time": "2023-01-30T19:45:44.784Z"
   },
   {
    "duration": 20,
    "start_time": "2023-01-30T19:45:45.335Z"
   },
   {
    "duration": 779,
    "start_time": "2023-01-30T19:45:45.357Z"
   },
   {
    "duration": 26,
    "start_time": "2023-01-30T19:45:46.137Z"
   },
   {
    "duration": 28,
    "start_time": "2023-01-30T19:45:46.164Z"
   },
   {
    "duration": 16,
    "start_time": "2023-01-30T19:45:46.193Z"
   },
   {
    "duration": 810,
    "start_time": "2023-01-30T19:45:46.210Z"
   },
   {
    "duration": 6,
    "start_time": "2023-01-30T19:45:47.022Z"
   },
   {
    "duration": 32,
    "start_time": "2023-01-30T19:45:47.030Z"
   },
   {
    "duration": 366,
    "start_time": "2023-01-30T19:45:47.063Z"
   },
   {
    "duration": 16,
    "start_time": "2023-01-30T19:45:47.431Z"
   },
   {
    "duration": 21,
    "start_time": "2023-01-30T19:45:47.448Z"
   },
   {
    "duration": 12,
    "start_time": "2023-01-30T19:45:47.471Z"
   },
   {
    "duration": 14,
    "start_time": "2023-01-30T19:45:47.484Z"
   },
   {
    "duration": 13,
    "start_time": "2023-01-30T19:45:47.500Z"
   }
  ],
  "kernelspec": {
   "display_name": "Python 3 (ipykernel)",
   "language": "python",
   "name": "python3"
  },
  "language_info": {
   "codemirror_mode": {
    "name": "ipython",
    "version": 3
   },
   "file_extension": ".py",
   "mimetype": "text/x-python",
   "name": "python",
   "nbconvert_exporter": "python",
   "pygments_lexer": "ipython3",
   "version": "3.9.13"
  },
  "toc": {
   "base_numbering": 1,
   "nav_menu": {},
   "number_sections": true,
   "sideBar": true,
   "skip_h1_title": true,
   "title_cell": "Table of Contents",
   "title_sidebar": "Contents",
   "toc_cell": false,
   "toc_position": {},
   "toc_section_display": true,
   "toc_window_display": false
  }
 },
 "nbformat": 4,
 "nbformat_minor": 2
}
