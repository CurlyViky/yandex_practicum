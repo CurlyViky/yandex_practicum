{
 "cells": [
  {
   "cell_type": "markdown",
   "id": "2e472b1c",
   "metadata": {},
   "source": [
    "# RUS: Проект SQL \n",
    "\n",
    "RUS:Нам необходимо проанализировать данные сервиса по чтению книг по подписке для понимания дальнейшего развития сервиса, какие книги стоит предлагать. У нас имеются данные о пользователях и их отзывах на книги, книгах, авторах этих книг, издательствах. \n",
    "\n",
    "Сначала необходимо изучить данные, проверить на наличие дубликатов и пропусков. Далее необходимо проанализировать данные, посмотреть, какое кол-во книг является относительно новыми по дате выпуска, какие являются особенно востребованными среди пользователей, какие авторы имеют особую популярность среди читателей, выделить самых активных читателей.\n",
    "На основании проделанного анализа сделать вывод.\n",
    "ENG: Project SQL. We need to analyze the data of the subscription book reading service in order to understand the further development of the service, which books should be offered. We have data on users and their reviews of books, books, the authors of these books, and publishing houses. \n",
    "First you need to examine the data, check for duplicates and omissions. Next, it is necessary to analyze the data, see which number of books are relatively new by release date, which are especially in demand among users, which authors are particularly popular among readers, and identify the most active readers.\n",
    "Based on the analysis done, draw a conclusion. \n"
    ]
  },
  {
   "cell_type": "code",
   "execution_count": 1,
   "id": "8ff88c2e",
   "metadata": {},
   "outputs": [
    {
     "data": {
      "text/html": [
       "<div>\n",
       "<style scoped>\n",
       "    .dataframe tbody tr th:only-of-type {\n",
       "        vertical-align: middle;\n",
       "    }\n",
       "\n",
       "    .dataframe tbody tr th {\n",
       "        vertical-align: top;\n",
       "    }\n",
       "\n",
       "    .dataframe thead th {\n",
       "        text-align: right;\n",
       "    }\n",
       "</style>\n",
       "<table border=\"1\" class=\"dataframe\">\n",
       "  <thead>\n",
       "    <tr style=\"text-align: right;\">\n",
       "      <th></th>\n",
       "      <th>book_id</th>\n",
       "      <th>author_id</th>\n",
       "      <th>title</th>\n",
       "      <th>num_pages</th>\n",
       "      <th>publication_date</th>\n",
       "      <th>publisher_id</th>\n",
       "    </tr>\n",
       "  </thead>\n",
       "  <tbody>\n",
       "    <tr>\n",
       "      <th>0</th>\n",
       "      <td>1</td>\n",
       "      <td>546</td>\n",
       "      <td>'Salem's Lot</td>\n",
       "      <td>594</td>\n",
       "      <td>2005-11-01</td>\n",
       "      <td>93</td>\n",
       "    </tr>\n",
       "    <tr>\n",
       "      <th>1</th>\n",
       "      <td>2</td>\n",
       "      <td>465</td>\n",
       "      <td>1 000 Places to See Before You Die</td>\n",
       "      <td>992</td>\n",
       "      <td>2003-05-22</td>\n",
       "      <td>336</td>\n",
       "    </tr>\n",
       "    <tr>\n",
       "      <th>2</th>\n",
       "      <td>3</td>\n",
       "      <td>407</td>\n",
       "      <td>13 Little Blue Envelopes (Little Blue Envelope...</td>\n",
       "      <td>322</td>\n",
       "      <td>2010-12-21</td>\n",
       "      <td>135</td>\n",
       "    </tr>\n",
       "    <tr>\n",
       "      <th>3</th>\n",
       "      <td>4</td>\n",
       "      <td>82</td>\n",
       "      <td>1491: New Revelations of the Americas Before C...</td>\n",
       "      <td>541</td>\n",
       "      <td>2006-10-10</td>\n",
       "      <td>309</td>\n",
       "    </tr>\n",
       "    <tr>\n",
       "      <th>4</th>\n",
       "      <td>5</td>\n",
       "      <td>125</td>\n",
       "      <td>1776</td>\n",
       "      <td>386</td>\n",
       "      <td>2006-07-04</td>\n",
       "      <td>268</td>\n",
       "    </tr>\n",
       "  </tbody>\n",
       "</table>\n",
       "</div>"
      ],
      "text/plain": [
       "   book_id  author_id                                              title  \\\n",
       "0        1        546                                       'Salem's Lot   \n",
       "1        2        465                 1 000 Places to See Before You Die   \n",
       "2        3        407  13 Little Blue Envelopes (Little Blue Envelope...   \n",
       "3        4         82  1491: New Revelations of the Americas Before C...   \n",
       "4        5        125                                               1776   \n",
       "\n",
       "   num_pages publication_date  publisher_id  \n",
       "0        594       2005-11-01            93  \n",
       "1        992       2003-05-22           336  \n",
       "2        322       2010-12-21           135  \n",
       "3        541       2006-10-10           309  \n",
       "4        386       2006-07-04           268  "
      ]
     },
     "execution_count": 1,
     "metadata": {},
     "output_type": "execute_result"
    }
   ],
   "source": [
    "#RUS: импортируем библиотеки\n",
    "#ENG: libraries import\n",
    "import pandas as pd\n",
    "from sqlalchemy import text, create_engine\n",
    "\n",
    "# RUS: устанавливаем параметры\n",
    "# ENG: setting the parameters\n",
    "db_config = {'user': 'praktikum_student', # имя пользователя (user name)\n",
    "'pwd': 'Sdf4$2;d-d30pp', # пароль (password)\n",
    "'host': 'rc1b-wcoijxj3yxfsf3fs.mdb.yandexcloud.net',\n",
    "'port': 6432, # порт подключения\n",
    "'db': 'data-analyst-final-project-db'} # название базы данных (data base name)\n",
    "connection_string = 'postgresql://{user}:{pwd}@{host}:{port}/{db}'.format(**db_config)\n",
    "\n",
    "# сохраняем коннектор (save connectors)\n",
    "engine = create_engine(connection_string, connect_args={'sslmode':'require'})\n",
    "\n",
    "# чтобы выполнить SQL-запрос, используем Pandas (to complete SQL request will use Pandas)\n",
    "query = '''SELECT * FROM books LIMIT 5'''\n",
    "\n",
    "con=engine.connect()\n",
    "\n",
    "pd.io.sql.read_sql(sql=text(query), con = con)"
   ]
  },
  {
   "cell_type": "markdown",
   "id": "6c075288",
   "metadata": {},
   "source": []
  },
  {
   "cell_type": "markdown",
   "id": "ea67be26",
   "metadata": {},
   "source": [
    "# RUS: Изучение данных.\n",
    "# ENG: Examining the data.\n",
   ]
  },
  {
   "cell_type": "markdown",
   "id": "2b341a86",
   "metadata": {},
   "source": [
    "## RUS: Книги.\n",
    "## ENG: Books.\n"
   ]
  },
  {
   "cell_type": "code",
   "execution_count": 2,
   "id": "5dd53416",
   "metadata": {},
   "outputs": [],
   "source": [
    "#вывод запросов\n",
    "def read_sql(query):\n",
    "    result = pd.io.sql.read_sql(query, con = engine)\n",
    "    return result"
   ]
  },
  {
   "cell_type": "code",
   "execution_count": 3,
   "id": "2e9e760e",
   "metadata": {
    "scrolled": true
   },
   "outputs": [
    {
     "data": {
      "text/html": [
       "<div>\n",
       "<style scoped>\n",
       "    .dataframe tbody tr th:only-of-type {\n",
       "        vertical-align: middle;\n",
       "    }\n",
       "\n",
       "    .dataframe tbody tr th {\n",
       "        vertical-align: top;\n",
       "    }\n",
       "\n",
       "    .dataframe thead th {\n",
       "        text-align: right;\n",
       "    }\n",
       "</style>\n",
       "<table border=\"1\" class=\"dataframe\">\n",
       "  <thead>\n",
       "    <tr style=\"text-align: right;\">\n",
       "      <th></th>\n",
       "      <th>book_id</th>\n",
       "      <th>author_id</th>\n",
       "      <th>title</th>\n",
       "      <th>num_pages</th>\n",
       "      <th>publication_date</th>\n",
       "      <th>publisher_id</th>\n",
       "    </tr>\n",
       "  </thead>\n",
       "  <tbody>\n",
       "    <tr>\n",
       "      <th>0</th>\n",
       "      <td>1</td>\n",
       "      <td>546</td>\n",
       "      <td>'Salem's Lot</td>\n",
       "      <td>594</td>\n",
       "      <td>2005-11-01</td>\n",
       "      <td>93</td>\n",
       "    </tr>\n",
       "    <tr>\n",
       "      <th>1</th>\n",
       "      <td>2</td>\n",
       "      <td>465</td>\n",
       "      <td>1 000 Places to See Before You Die</td>\n",
       "      <td>992</td>\n",
       "      <td>2003-05-22</td>\n",
       "      <td>336</td>\n",
       "    </tr>\n",
       "    <tr>\n",
       "      <th>2</th>\n",
       "      <td>3</td>\n",
       "      <td>407</td>\n",
       "      <td>13 Little Blue Envelopes (Little Blue Envelope...</td>\n",
       "      <td>322</td>\n",
       "      <td>2010-12-21</td>\n",
       "      <td>135</td>\n",
       "    </tr>\n",
       "    <tr>\n",
       "      <th>3</th>\n",
       "      <td>4</td>\n",
       "      <td>82</td>\n",
       "      <td>1491: New Revelations of the Americas Before C...</td>\n",
       "      <td>541</td>\n",
       "      <td>2006-10-10</td>\n",
       "      <td>309</td>\n",
       "    </tr>\n",
       "    <tr>\n",
       "      <th>4</th>\n",
       "      <td>5</td>\n",
       "      <td>125</td>\n",
       "      <td>1776</td>\n",
       "      <td>386</td>\n",
       "      <td>2006-07-04</td>\n",
       "      <td>268</td>\n",
       "    </tr>\n",
       "    <tr>\n",
       "      <th>...</th>\n",
       "      <td>...</td>\n",
       "      <td>...</td>\n",
       "      <td>...</td>\n",
       "      <td>...</td>\n",
       "      <td>...</td>\n",
       "      <td>...</td>\n",
       "    </tr>\n",
       "    <tr>\n",
       "      <th>995</th>\n",
       "      <td>996</td>\n",
       "      <td>571</td>\n",
       "      <td>Wyrd Sisters (Discworld  #6; Witches #2)</td>\n",
       "      <td>265</td>\n",
       "      <td>2001-02-06</td>\n",
       "      <td>147</td>\n",
       "    </tr>\n",
       "    <tr>\n",
       "      <th>996</th>\n",
       "      <td>997</td>\n",
       "      <td>454</td>\n",
       "      <td>Xenocide (Ender's Saga  #3)</td>\n",
       "      <td>592</td>\n",
       "      <td>1996-07-15</td>\n",
       "      <td>297</td>\n",
       "    </tr>\n",
       "    <tr>\n",
       "      <th>997</th>\n",
       "      <td>998</td>\n",
       "      <td>201</td>\n",
       "      <td>Year of Wonders</td>\n",
       "      <td>358</td>\n",
       "      <td>2002-04-30</td>\n",
       "      <td>212</td>\n",
       "    </tr>\n",
       "    <tr>\n",
       "      <th>998</th>\n",
       "      <td>999</td>\n",
       "      <td>94</td>\n",
       "      <td>You Suck (A Love Story  #2)</td>\n",
       "      <td>328</td>\n",
       "      <td>2007-01-16</td>\n",
       "      <td>331</td>\n",
       "    </tr>\n",
       "    <tr>\n",
       "      <th>999</th>\n",
       "      <td>1000</td>\n",
       "      <td>509</td>\n",
       "      <td>Zen and the Art of Motorcycle Maintenance: An ...</td>\n",
       "      <td>540</td>\n",
       "      <td>2006-04-25</td>\n",
       "      <td>143</td>\n",
       "    </tr>\n",
       "  </tbody>\n",
       "</table>\n",
       "<p>1000 rows × 6 columns</p>\n",
       "</div>"
      ],
      "text/plain": [
       "     book_id  author_id                                              title  \\\n",
       "0          1        546                                       'Salem's Lot   \n",
       "1          2        465                 1 000 Places to See Before You Die   \n",
       "2          3        407  13 Little Blue Envelopes (Little Blue Envelope...   \n",
       "3          4         82  1491: New Revelations of the Americas Before C...   \n",
       "4          5        125                                               1776   \n",
       "..       ...        ...                                                ...   \n",
       "995      996        571           Wyrd Sisters (Discworld  #6; Witches #2)   \n",
       "996      997        454                        Xenocide (Ender's Saga  #3)   \n",
       "997      998        201                                    Year of Wonders   \n",
       "998      999         94                        You Suck (A Love Story  #2)   \n",
       "999     1000        509  Zen and the Art of Motorcycle Maintenance: An ...   \n",
       "\n",
       "     num_pages publication_date  publisher_id  \n",
       "0          594       2005-11-01            93  \n",
       "1          992       2003-05-22           336  \n",
       "2          322       2010-12-21           135  \n",
       "3          541       2006-10-10           309  \n",
       "4          386       2006-07-04           268  \n",
       "..         ...              ...           ...  \n",
       "995        265       2001-02-06           147  \n",
       "996        592       1996-07-15           297  \n",
       "997        358       2002-04-30           212  \n",
       "998        328       2007-01-16           331  \n",
       "999        540       2006-04-25           143  \n",
       "\n",
       "[1000 rows x 6 columns]"
      ]
     },
     "execution_count": 3,
     "metadata": {},
     "output_type": "execute_result"
    }
   ],
   "source": [
    "books = '''\n",
    "            SELECT *\n",
    "            FROM books\n",
    "        '''\n",
    "read_sql(books)"
   ]
  },
  {
   "cell_type": "code",
   "execution_count": 4,
   "id": "20cdd39a",
   "metadata": {},
   "outputs": [
    {
     "data": {
      "text/html": [
       "<div>\n",
       "<style scoped>\n",
       "    .dataframe tbody tr th:only-of-type {\n",
       "        vertical-align: middle;\n",
       "    }\n",
       "\n",
       "    .dataframe tbody tr th {\n",
       "        vertical-align: top;\n",
       "    }\n",
       "\n",
       "    .dataframe thead th {\n",
       "        text-align: right;\n",
       "    }\n",
       "</style>\n",
       "<table border=\"1\" class=\"dataframe\">\n",
       "  <thead>\n",
       "    <tr style=\"text-align: right;\">\n",
       "      <th></th>\n",
       "      <th>book_id_unique</th>\n",
       "      <th>author_id_unique</th>\n",
       "      <th>title_unique</th>\n",
       "      <th>min</th>\n",
       "      <th>max</th>\n",
       "      <th>min</th>\n",
       "      <th>max</th>\n",
       "      <th>publisher_id_unique</th>\n",
       "    </tr>\n",
       "  </thead>\n",
       "  <tbody>\n",
       "    <tr>\n",
       "      <th>0</th>\n",
       "      <td>1000</td>\n",
       "      <td>636</td>\n",
       "      <td>999</td>\n",
       "      <td>14</td>\n",
       "      <td>2690</td>\n",
       "      <td>1952-12-01</td>\n",
       "      <td>2020-03-31</td>\n",
       "      <td>340</td>\n",
       "    </tr>\n",
       "  </tbody>\n",
       "</table>\n",
       "</div>"
      ],
      "text/plain": [
       "   book_id_unique  author_id_unique  title_unique min   max         min  \\\n",
       "0            1000               636           999  14  2690  1952-12-01   \n",
       "\n",
       "          max  publisher_id_unique  \n",
       "0  2020-03-31                  340  "
      ]
     },
     "execution_count": 4,
     "metadata": {},
     "output_type": "execute_result"
    }
   ],
   "source": [
    "books_info = '''\n",
    "            SELECT COUNT (DISTINCT book_id) AS book_id_unique, COUNT (DISTINCT author_id) AS author_id_unique,\n",
    "                COUNT (DISTINCT title) AS title_unique,\n",
    "                MIN (num_pages),\n",
    "                MAX (num_pages),\n",
    "                MIN (publication_date),\n",
    "                MAX (publication_date),\n",
    "                COUNT (DISTINCT publisher_id) AS publisher_id_unique\n",
    "            FROM books;\n",
    "            '''\n",
    "read_sql(books_info)"
   ]
  },
  {
   "cell_type": "markdown",
   "id": "9b4612a3",
   "metadata": {},
   "source": [
    "RUS: У нас есть данные по тысяче книг, из которых 999 являются уникальными по названию. 636 авторов, которые опубликованы 340 издательствами. Самая старая книга выпущена в 1952 году, самая новая в 2020.\n",
    "ENG: We have data on a thousand books, of which 999 are unique in name. 636 authors who have been published by 340 publishers. The oldest book was released in 1952, the newest in 2020.\n"
]
  },
  {
   "cell_type": "markdown",
   "id": "6f0ae39b",
   "metadata": {},
   "source": [
    "RUS: Посмотрим на дубликат.\n",
    "ENG: Let's look at the duplicate.\n"
    
   ]
  },
  {
   "cell_type": "code",
   "execution_count": 5,
   "id": "36deac78",
   "metadata": {},
   "outputs": [
    {
     "data": {
      "text/html": [
       "<div>\n",
       "<style scoped>\n",
       "    .dataframe tbody tr th:only-of-type {\n",
       "        vertical-align: middle;\n",
       "    }\n",
       "\n",
       "    .dataframe tbody tr th {\n",
       "        vertical-align: top;\n",
       "    }\n",
       "\n",
       "    .dataframe thead th {\n",
       "        text-align: right;\n",
       "    }\n",
       "</style>\n",
       "<table border=\"1\" class=\"dataframe\">\n",
       "  <thead>\n",
       "    <tr style=\"text-align: right;\">\n",
       "      <th></th>\n",
       "      <th>book_id</th>\n",
       "      <th>author_id</th>\n",
       "      <th>title</th>\n",
       "      <th>num_pages</th>\n",
       "      <th>publication_date</th>\n",
       "      <th>publisher_id</th>\n",
       "    </tr>\n",
       "  </thead>\n",
       "  <tbody>\n",
       "    <tr>\n",
       "      <th>0</th>\n",
       "      <td>426</td>\n",
       "      <td>39</td>\n",
       "      <td>Memoirs of a Geisha</td>\n",
       "      <td>434</td>\n",
       "      <td>2005-11-15</td>\n",
       "      <td>241</td>\n",
       "    </tr>\n",
       "    <tr>\n",
       "      <th>1</th>\n",
       "      <td>427</td>\n",
       "      <td>39</td>\n",
       "      <td>Memoirs of a Geisha</td>\n",
       "      <td>503</td>\n",
       "      <td>2005-11-22</td>\n",
       "      <td>311</td>\n",
       "    </tr>\n",
       "  </tbody>\n",
       "</table>\n",
       "</div>"
      ],
      "text/plain": [
       "   book_id  author_id                title  num_pages publication_date  \\\n",
       "0      426         39  Memoirs of a Geisha        434       2005-11-15   \n",
       "1      427         39  Memoirs of a Geisha        503       2005-11-22   \n",
       "\n",
       "   publisher_id  \n",
       "0           241  \n",
       "1           311  "
      ]
     },
     "execution_count": 5,
     "metadata": {},
     "output_type": "execute_result"
    }
   ],
   "source": [
    "books_title_duplicated = '''\n",
    "                        SELECT *\n",
    "                        FROM books\n",
    "                        WHERE title = (SELECT Sub.title\n",
    "                                       FROM (SELECT\n",
    "                                            title,\n",
    "                                            COUNT(*) AS title_count\n",
    "                                            FROM books\n",
    "                                            GROUP BY title\n",
    "                                            HAVING COUNT(*)>1) AS Sub);\n",
    "                        '''\n",
    "read_sql(books_title_duplicated)"
   ]
  },
  {
   "cell_type": "markdown",
   "id": "67cf60c9",
   "metadata": {},
   "source": [
    "RUS: Дубликатом по названию является книга \"Мемуары Гейши\", она была выпущена в разные даты 2005 года и имеет разный объем.\n",
    "ENG: A duplicate of the title is the book \"Memoirs of a Geisha\", it was released on different dates in 2005 and has different size.\n"
  ]
  },
  {
   "cell_type": "code",
   "execution_count": 6,
   "id": "70279571",
   "metadata": {},
   "outputs": [
    {
     "data": {
      "text/html": [
       "<div>\n",
       "<style scoped>\n",
       "    .dataframe tbody tr th:only-of-type {\n",
       "        vertical-align: middle;\n",
       "    }\n",
       "\n",
       "    .dataframe tbody tr th {\n",
       "        vertical-align: top;\n",
       "    }\n",
       "\n",
       "    .dataframe thead th {\n",
       "        text-align: right;\n",
       "    }\n",
       "</style>\n",
       "<table border=\"1\" class=\"dataframe\">\n",
       "  <thead>\n",
       "    <tr style=\"text-align: right;\">\n",
       "      <th></th>\n",
       "      <th>book_id</th>\n",
       "      <th>author_id</th>\n",
       "      <th>title</th>\n",
       "      <th>num_pages</th>\n",
       "      <th>publication_date</th>\n",
       "      <th>publisher_id</th>\n",
       "    </tr>\n",
       "  </thead>\n",
       "  <tbody>\n",
       "  </tbody>\n",
       "</table>\n",
       "</div>"
      ],
      "text/plain": [
       "Empty DataFrame\n",
       "Columns: [book_id, author_id, title, num_pages, publication_date, publisher_id]\n",
       "Index: []"
      ]
     },
     "execution_count": 6,
     "metadata": {},
     "output_type": "execute_result"
    }
   ],
   "source": [
    "books_null = '''\n",
    "            SELECT *\n",
    "            FROM books \n",
    "            WHERE (author_id IS NULL) OR (num_pages IS NULL) OR (publication_date IS NULL) OR (publisher_id IS NULL);\n",
    "            '''\n",
    "read_sql(books_null)"
   ]
  },
  {
   "cell_type": "markdown",
   "id": "faaabb32",
   "metadata": {},
   "source": [
    "RUS: Пропусков в данных нет. \n",
    "ENG: There are no gaps in the data. \n"
   ]
  },
  {
   "cell_type": "markdown",
   "id": "c1d65421",
   "metadata": {},
   "source": [
    "## RUS: Авторы.\n",
    "## ENG: Authors.\n"
   ]
  },
  {
   "cell_type": "code",
   "execution_count": 7,
   "id": "0b04d109",
   "metadata": {},
   "outputs": [
    {
     "data": {
      "text/html": [
       "<div>\n",
       "<style scoped>\n",
       "    .dataframe tbody tr th:only-of-type {\n",
       "        vertical-align: middle;\n",
       "    }\n",
       "\n",
       "    .dataframe tbody tr th {\n",
       "        vertical-align: top;\n",
       "    }\n",
       "\n",
       "    .dataframe thead th {\n",
       "        text-align: right;\n",
       "    }\n",
       "</style>\n",
       "<table border=\"1\" class=\"dataframe\">\n",
       "  <thead>\n",
       "    <tr style=\"text-align: right;\">\n",
       "      <th></th>\n",
       "      <th>author_id</th>\n",
       "      <th>author</th>\n",
       "    </tr>\n",
       "  </thead>\n",
       "  <tbody>\n",
       "    <tr>\n",
       "      <th>0</th>\n",
       "      <td>1</td>\n",
       "      <td>A.S. Byatt</td>\n",
       "    </tr>\n",
       "    <tr>\n",
       "      <th>1</th>\n",
       "      <td>2</td>\n",
       "      <td>Aesop/Laura Harris/Laura Gibbs</td>\n",
       "    </tr>\n",
       "    <tr>\n",
       "      <th>2</th>\n",
       "      <td>3</td>\n",
       "      <td>Agatha Christie</td>\n",
       "    </tr>\n",
       "    <tr>\n",
       "      <th>3</th>\n",
       "      <td>4</td>\n",
       "      <td>Alan Brennert</td>\n",
       "    </tr>\n",
       "    <tr>\n",
       "      <th>4</th>\n",
       "      <td>5</td>\n",
       "      <td>Alan Moore/David   Lloyd</td>\n",
       "    </tr>\n",
       "    <tr>\n",
       "      <th>...</th>\n",
       "      <td>...</td>\n",
       "      <td>...</td>\n",
       "    </tr>\n",
       "    <tr>\n",
       "      <th>631</th>\n",
       "      <td>632</td>\n",
       "      <td>William Strunk Jr./E.B. White</td>\n",
       "    </tr>\n",
       "    <tr>\n",
       "      <th>632</th>\n",
       "      <td>633</td>\n",
       "      <td>Zadie Smith</td>\n",
       "    </tr>\n",
       "    <tr>\n",
       "      <th>633</th>\n",
       "      <td>634</td>\n",
       "      <td>Zilpha Keatley Snyder</td>\n",
       "    </tr>\n",
       "    <tr>\n",
       "      <th>634</th>\n",
       "      <td>635</td>\n",
       "      <td>Zora Neale Hurston</td>\n",
       "    </tr>\n",
       "    <tr>\n",
       "      <th>635</th>\n",
       "      <td>636</td>\n",
       "      <td>Åsne Seierstad/Ingrid Christopherson</td>\n",
       "    </tr>\n",
       "  </tbody>\n",
       "</table>\n",
       "<p>636 rows × 2 columns</p>\n",
       "</div>"
      ],
      "text/plain": [
       "     author_id                                author\n",
       "0            1                            A.S. Byatt\n",
       "1            2        Aesop/Laura Harris/Laura Gibbs\n",
       "2            3                       Agatha Christie\n",
       "3            4                         Alan Brennert\n",
       "4            5              Alan Moore/David   Lloyd\n",
       "..         ...                                   ...\n",
       "631        632         William Strunk Jr./E.B. White\n",
       "632        633                           Zadie Smith\n",
       "633        634                 Zilpha Keatley Snyder\n",
       "634        635                    Zora Neale Hurston\n",
       "635        636  Åsne Seierstad/Ingrid Christopherson\n",
       "\n",
       "[636 rows x 2 columns]"
      ]
     },
     "execution_count": 7,
     "metadata": {},
     "output_type": "execute_result"
    }
   ],
   "source": [
    "authors = '''\n",
    "            SELECT *\n",
    "            FROM authors\n",
    "            '''\n",
    "read_sql(authors)"
   ]
  },
  {
   "cell_type": "code",
   "execution_count": 8,
   "id": "23da2543",
   "metadata": {},
   "outputs": [
    {
     "data": {
      "text/html": [
       "<div>\n",
       "<style scoped>\n",
       "    .dataframe tbody tr th:only-of-type {\n",
       "        vertical-align: middle;\n",
       "    }\n",
       "\n",
       "    .dataframe tbody tr th {\n",
       "        vertical-align: top;\n",
       "    }\n",
       "\n",
       "    .dataframe thead th {\n",
       "        text-align: right;\n",
       "    }\n",
       "</style>\n",
       "<table border=\"1\" class=\"dataframe\">\n",
       "  <thead>\n",
       "    <tr style=\"text-align: right;\">\n",
       "      <th></th>\n",
       "      <th>author_id_dist</th>\n",
       "      <th>author_dist</th>\n",
       "    </tr>\n",
       "  </thead>\n",
       "  <tbody>\n",
       "    <tr>\n",
       "      <th>0</th>\n",
       "      <td>636</td>\n",
       "      <td>636</td>\n",
       "    </tr>\n",
       "  </tbody>\n",
       "</table>\n",
       "</div>"
      ],
      "text/plain": [
       "   author_id_dist  author_dist\n",
       "0             636          636"
      ]
     },
     "execution_count": 8,
     "metadata": {},
     "output_type": "execute_result"
    }
   ],
   "source": [
    "authors_distinct = '''\n",
    "                        SELECT COUNT (DISTINCT author_id) AS author_id_dist, \n",
    "                        COUNT (DISTINCT author) AS author_dist\n",
    "                        FROM authors\n",
    "                        '''\n",
    "read_sql(authors_distinct)"
   ]
  },
  {
   "cell_type": "markdown",
   "id": "6b4509d8",
   "metadata": {},
   "source": [
    "## RUS: Издательство.\n",
    "## ENG: Publishing House.\n"
   ]
  },
  {
   "cell_type": "code",
   "execution_count": 9,
   "id": "0fccf117",
   "metadata": {},
   "outputs": [
    {
     "data": {
      "text/html": [
       "<div>\n",
       "<style scoped>\n",
       "    .dataframe tbody tr th:only-of-type {\n",
       "        vertical-align: middle;\n",
       "    }\n",
       "\n",
       "    .dataframe tbody tr th {\n",
       "        vertical-align: top;\n",
       "    }\n",
       "\n",
       "    .dataframe thead th {\n",
       "        text-align: right;\n",
       "    }\n",
       "</style>\n",
       "<table border=\"1\" class=\"dataframe\">\n",
       "  <thead>\n",
       "    <tr style=\"text-align: right;\">\n",
       "      <th></th>\n",
       "      <th>publisher_id</th>\n",
       "      <th>publisher</th>\n",
       "    </tr>\n",
       "  </thead>\n",
       "  <tbody>\n",
       "    <tr>\n",
       "      <th>0</th>\n",
       "      <td>1</td>\n",
       "      <td>Ace</td>\n",
       "    </tr>\n",
       "    <tr>\n",
       "      <th>1</th>\n",
       "      <td>2</td>\n",
       "      <td>Ace Book</td>\n",
       "    </tr>\n",
       "    <tr>\n",
       "      <th>2</th>\n",
       "      <td>3</td>\n",
       "      <td>Ace Books</td>\n",
       "    </tr>\n",
       "    <tr>\n",
       "      <th>3</th>\n",
       "      <td>4</td>\n",
       "      <td>Ace Hardcover</td>\n",
       "    </tr>\n",
       "    <tr>\n",
       "      <th>4</th>\n",
       "      <td>5</td>\n",
       "      <td>Addison Wesley Publishing Company</td>\n",
       "    </tr>\n",
       "    <tr>\n",
       "      <th>...</th>\n",
       "      <td>...</td>\n",
       "      <td>...</td>\n",
       "    </tr>\n",
       "    <tr>\n",
       "      <th>335</th>\n",
       "      <td>336</td>\n",
       "      <td>Workman Publishing Company</td>\n",
       "    </tr>\n",
       "    <tr>\n",
       "      <th>336</th>\n",
       "      <td>337</td>\n",
       "      <td>Wyatt Book</td>\n",
       "    </tr>\n",
       "    <tr>\n",
       "      <th>337</th>\n",
       "      <td>338</td>\n",
       "      <td>Yale University Press</td>\n",
       "    </tr>\n",
       "    <tr>\n",
       "      <th>338</th>\n",
       "      <td>339</td>\n",
       "      <td>Yearling</td>\n",
       "    </tr>\n",
       "    <tr>\n",
       "      <th>339</th>\n",
       "      <td>340</td>\n",
       "      <td>Yearling Books</td>\n",
       "    </tr>\n",
       "  </tbody>\n",
       "</table>\n",
       "<p>340 rows × 2 columns</p>\n",
       "</div>"
      ],
      "text/plain": [
       "     publisher_id                          publisher\n",
       "0               1                                Ace\n",
       "1               2                           Ace Book\n",
       "2               3                          Ace Books\n",
       "3               4                      Ace Hardcover\n",
       "4               5  Addison Wesley Publishing Company\n",
       "..            ...                                ...\n",
       "335           336         Workman Publishing Company\n",
       "336           337                         Wyatt Book\n",
       "337           338              Yale University Press\n",
       "338           339                           Yearling\n",
       "339           340                     Yearling Books\n",
       "\n",
       "[340 rows x 2 columns]"
      ]
     },
     "execution_count": 9,
     "metadata": {},
     "output_type": "execute_result"
    }
   ],
   "source": [
    "publishers = '''\n",
    "            SELECT *\n",
    "            FROM publishers\n",
    "            '''\n",
    "read_sql(publishers)"
   ]
  },
  {
   "cell_type": "code",
   "execution_count": 10,
   "id": "e73cb715",
   "metadata": {},
   "outputs": [
    {
     "data": {
      "text/html": [
       "<div>\n",
       "<style scoped>\n",
       "    .dataframe tbody tr th:only-of-type {\n",
       "        vertical-align: middle;\n",
       "    }\n",
       "\n",
       "    .dataframe tbody tr th {\n",
       "        vertical-align: top;\n",
       "    }\n",
       "\n",
       "    .dataframe thead th {\n",
       "        text-align: right;\n",
       "    }\n",
       "</style>\n",
       "<table border=\"1\" class=\"dataframe\">\n",
       "  <thead>\n",
       "    <tr style=\"text-align: right;\">\n",
       "      <th></th>\n",
       "      <th>publisher_id_dist</th>\n",
       "      <th>publisher_dist</th>\n",
       "    </tr>\n",
       "  </thead>\n",
       "  <tbody>\n",
       "    <tr>\n",
       "      <th>0</th>\n",
       "      <td>340</td>\n",
       "      <td>340</td>\n",
       "    </tr>\n",
       "  </tbody>\n",
       "</table>\n",
       "</div>"
      ],
      "text/plain": [
       "   publisher_id_dist  publisher_dist\n",
       "0                340             340"
      ]
     },
     "execution_count": 10,
     "metadata": {},
     "output_type": "execute_result"
    }
   ],
   "source": [
    "publishers_dist= '''\n",
    "                    SELECT COUNT (DISTINCT publisher_id) AS publisher_id_dist, \n",
    "                    COUNT (DISTINCT publisher) AS publisher_dist\n",
    "                    FROM publishers;\n",
    "                    '''\n",
    "read_sql(publishers_dist)"
   ]
  },
  {
   "cell_type": "markdown",
   "id": "ee528e9e",
   "metadata": {},
   "source": [
    "RUS: Всего 340 издательств.\n",
    "ENG: Total 340 publishing houses.\n"
   ]
  },
  {
   "cell_type": "markdown",
   "id": "4edde467",
   "metadata": {},
   "source": [
    "## RUS: Рейтинг пользователей \n",
    "## ENG: User rating \n",
   ]
  },
  {
   "cell_type": "code",
   "execution_count": 11,
   "id": "9b5f6118",
   "metadata": {},
   "outputs": [
    {
     "data": {
      "text/html": [
       "<div>\n",
       "<style scoped>\n",
       "    .dataframe tbody tr th:only-of-type {\n",
       "        vertical-align: middle;\n",
       "    }\n",
       "\n",
       "    .dataframe tbody tr th {\n",
       "        vertical-align: top;\n",
       "    }\n",
       "\n",
       "    .dataframe thead th {\n",
       "        text-align: right;\n",
       "    }\n",
       "</style>\n",
       "<table border=\"1\" class=\"dataframe\">\n",
       "  <thead>\n",
       "    <tr style=\"text-align: right;\">\n",
       "      <th></th>\n",
       "      <th>rating_id</th>\n",
       "      <th>book_id</th>\n",
       "      <th>username</th>\n",
       "      <th>rating</th>\n",
       "    </tr>\n",
       "  </thead>\n",
       "  <tbody>\n",
       "    <tr>\n",
       "      <th>0</th>\n",
       "      <td>1</td>\n",
       "      <td>1</td>\n",
       "      <td>ryanfranco</td>\n",
       "      <td>4</td>\n",
       "    </tr>\n",
       "    <tr>\n",
       "      <th>1</th>\n",
       "      <td>2</td>\n",
       "      <td>1</td>\n",
       "      <td>grantpatricia</td>\n",
       "      <td>2</td>\n",
       "    </tr>\n",
       "    <tr>\n",
       "      <th>2</th>\n",
       "      <td>3</td>\n",
       "      <td>1</td>\n",
       "      <td>brandtandrea</td>\n",
       "      <td>5</td>\n",
       "    </tr>\n",
       "    <tr>\n",
       "      <th>3</th>\n",
       "      <td>4</td>\n",
       "      <td>2</td>\n",
       "      <td>lorichen</td>\n",
       "      <td>3</td>\n",
       "    </tr>\n",
       "    <tr>\n",
       "      <th>4</th>\n",
       "      <td>5</td>\n",
       "      <td>2</td>\n",
       "      <td>mariokeller</td>\n",
       "      <td>2</td>\n",
       "    </tr>\n",
       "    <tr>\n",
       "      <th>...</th>\n",
       "      <td>...</td>\n",
       "      <td>...</td>\n",
       "      <td>...</td>\n",
       "      <td>...</td>\n",
       "    </tr>\n",
       "    <tr>\n",
       "      <th>6451</th>\n",
       "      <td>6452</td>\n",
       "      <td>1000</td>\n",
       "      <td>carolrodriguez</td>\n",
       "      <td>4</td>\n",
       "    </tr>\n",
       "    <tr>\n",
       "      <th>6452</th>\n",
       "      <td>6453</td>\n",
       "      <td>1000</td>\n",
       "      <td>wendy18</td>\n",
       "      <td>4</td>\n",
       "    </tr>\n",
       "    <tr>\n",
       "      <th>6453</th>\n",
       "      <td>6454</td>\n",
       "      <td>1000</td>\n",
       "      <td>jarvispaul</td>\n",
       "      <td>5</td>\n",
       "    </tr>\n",
       "    <tr>\n",
       "      <th>6454</th>\n",
       "      <td>6455</td>\n",
       "      <td>1000</td>\n",
       "      <td>zross</td>\n",
       "      <td>2</td>\n",
       "    </tr>\n",
       "    <tr>\n",
       "      <th>6455</th>\n",
       "      <td>6456</td>\n",
       "      <td>1000</td>\n",
       "      <td>fharris</td>\n",
       "      <td>5</td>\n",
       "    </tr>\n",
       "  </tbody>\n",
       "</table>\n",
       "<p>6456 rows × 4 columns</p>\n",
       "</div>"
      ],
      "text/plain": [
       "      rating_id  book_id        username  rating\n",
       "0             1        1      ryanfranco       4\n",
       "1             2        1   grantpatricia       2\n",
       "2             3        1    brandtandrea       5\n",
       "3             4        2        lorichen       3\n",
       "4             5        2     mariokeller       2\n",
       "...         ...      ...             ...     ...\n",
       "6451       6452     1000  carolrodriguez       4\n",
       "6452       6453     1000         wendy18       4\n",
       "6453       6454     1000      jarvispaul       5\n",
       "6454       6455     1000           zross       2\n",
       "6455       6456     1000         fharris       5\n",
       "\n",
       "[6456 rows x 4 columns]"
      ]
     },
     "execution_count": 11,
     "metadata": {},
     "output_type": "execute_result"
    }
   ],
   "source": [
    "ratings = '''\n",
    "            SELECT *\n",
    "            FROM ratings\n",
    "            '''\n",
    "read_sql(ratings)"
   ]
  },
  {
   "cell_type": "code",
   "execution_count": 12,
   "id": "5dcdf8c5",
   "metadata": {},
   "outputs": [
    {
     "data": {
      "text/html": [
       "<div>\n",
       "<style scoped>\n",
       "    .dataframe tbody tr th:only-of-type {\n",
       "        vertical-align: middle;\n",
       "    }\n",
       "\n",
       "    .dataframe tbody tr th {\n",
       "        vertical-align: top;\n",
       "    }\n",
       "\n",
       "    .dataframe thead th {\n",
       "        text-align: right;\n",
       "    }\n",
       "</style>\n",
       "<table border=\"1\" class=\"dataframe\">\n",
       "  <thead>\n",
       "    <tr style=\"text-align: right;\">\n",
       "      <th></th>\n",
       "      <th>rating_id_unique</th>\n",
       "      <th>book_id_unique</th>\n",
       "      <th>username_unique</th>\n",
       "      <th>min</th>\n",
       "      <th>max</th>\n",
       "    </tr>\n",
       "  </thead>\n",
       "  <tbody>\n",
       "    <tr>\n",
       "      <th>0</th>\n",
       "      <td>6456</td>\n",
       "      <td>1000</td>\n",
       "      <td>160</td>\n",
       "      <td>1</td>\n",
       "      <td>5</td>\n",
       "    </tr>\n",
       "  </tbody>\n",
       "</table>\n",
       "</div>"
      ],
      "text/plain": [
       "   rating_id_unique  book_id_unique  username_unique  min  max\n",
       "0              6456            1000              160    1    5"
      ]
     },
     "execution_count": 12,
     "metadata": {},
     "output_type": "execute_result"
    }
   ],
   "source": [
    "ratings_dist = ''' \n",
    "                SELECT COUNT (DISTINCT rating_id) AS rating_id_unique, COUNT (DISTINCT book_id) AS book_id_unique, \n",
    "                COUNT (DISTINCT username) AS username_unique, \n",
    "                MIN (rating),\n",
    "                MAX (rating)\n",
    "                FROM ratings;\n",
    "                '''\n",
    "read_sql(ratings_dist)"
   ]
  },
  {
   "cell_type": "markdown",
   "id": "d55f185d",
   "metadata": {},
   "source": [
    "RUS: Всего оставлено 6456 оценок от пользователей на 1000 книг. Уникальных пользователей 160. \n",
    "ENG: A total of 6,456 user ratings per 1,000 books were left. There are 160 unique users. \n"
   ]
  },
  {
   "cell_type": "code",
   "execution_count": 13,
   "id": "ab7b071e",
   "metadata": {},
   "outputs": [
    {
     "data": {
      "text/html": [
       "<div>\n",
       "<style scoped>\n",
       "    .dataframe tbody tr th:only-of-type {\n",
       "        vertical-align: middle;\n",
       "    }\n",
       "\n",
       "    .dataframe tbody tr th {\n",
       "        vertical-align: top;\n",
       "    }\n",
       "\n",
       "    .dataframe thead th {\n",
       "        text-align: right;\n",
       "    }\n",
       "</style>\n",
       "<table border=\"1\" class=\"dataframe\">\n",
       "  <thead>\n",
       "    <tr style=\"text-align: right;\">\n",
       "      <th></th>\n",
       "      <th>rating_id</th>\n",
       "      <th>book_id</th>\n",
       "      <th>username</th>\n",
       "      <th>rating</th>\n",
       "    </tr>\n",
       "  </thead>\n",
       "  <tbody>\n",
       "  </tbody>\n",
       "</table>\n",
       "</div>"
      ],
      "text/plain": [
       "Empty DataFrame\n",
       "Columns: [rating_id, book_id, username, rating]\n",
       "Index: []"
      ]
     },
     "execution_count": 13,
     "metadata": {},
     "output_type": "execute_result"
    }
   ],
   "source": [
    "ratings_null = '''\n",
    "                SELECT *\n",
    "                FROM ratings\n",
    "                WHERE (book_id IS NULL) OR (username IS NULL) OR (rating IS NULL);\n",
    "                '''\n",
    "read_sql(ratings_null)"
   ]
  },
  {
   "cell_type": "markdown",
   "id": "fc46eec0",
   "metadata": {},
   "source": [
    "Пропусков в данных нет"
   ]
  },
  {
   "cell_type": "markdown",
   "id": "69d6bf76",
   "metadata": {},
   "source": [
    "## Рецензии "
   ]
  },
  {
   "cell_type": "code",
   "execution_count": 14,
   "id": "cffd2b88",
   "metadata": {
    "scrolled": true
   },
   "outputs": [
    {
     "data": {
      "text/html": [
       "<div>\n",
       "<style scoped>\n",
       "    .dataframe tbody tr th:only-of-type {\n",
       "        vertical-align: middle;\n",
       "    }\n",
       "\n",
       "    .dataframe tbody tr th {\n",
       "        vertical-align: top;\n",
       "    }\n",
       "\n",
       "    .dataframe thead th {\n",
       "        text-align: right;\n",
       "    }\n",
       "</style>\n",
       "<table border=\"1\" class=\"dataframe\">\n",
       "  <thead>\n",
       "    <tr style=\"text-align: right;\">\n",
       "      <th></th>\n",
       "      <th>review_id</th>\n",
       "      <th>book_id</th>\n",
       "      <th>username</th>\n",
       "      <th>text</th>\n",
       "    </tr>\n",
       "  </thead>\n",
       "  <tbody>\n",
       "    <tr>\n",
       "      <th>0</th>\n",
       "      <td>1</td>\n",
       "      <td>1</td>\n",
       "      <td>brandtandrea</td>\n",
       "      <td>Mention society tell send professor analysis. ...</td>\n",
       "    </tr>\n",
       "    <tr>\n",
       "      <th>1</th>\n",
       "      <td>2</td>\n",
       "      <td>1</td>\n",
       "      <td>ryanfranco</td>\n",
       "      <td>Foot glass pretty audience hit themselves. Amo...</td>\n",
       "    </tr>\n",
       "    <tr>\n",
       "      <th>2</th>\n",
       "      <td>3</td>\n",
       "      <td>2</td>\n",
       "      <td>lorichen</td>\n",
       "      <td>Listen treat keep worry. Miss husband tax but ...</td>\n",
       "    </tr>\n",
       "    <tr>\n",
       "      <th>3</th>\n",
       "      <td>4</td>\n",
       "      <td>3</td>\n",
       "      <td>johnsonamanda</td>\n",
       "      <td>Finally month interesting blue could nature cu...</td>\n",
       "    </tr>\n",
       "    <tr>\n",
       "      <th>4</th>\n",
       "      <td>5</td>\n",
       "      <td>3</td>\n",
       "      <td>scotttamara</td>\n",
       "      <td>Nation purpose heavy give wait song will. List...</td>\n",
       "    </tr>\n",
       "    <tr>\n",
       "      <th>...</th>\n",
       "      <td>...</td>\n",
       "      <td>...</td>\n",
       "      <td>...</td>\n",
       "      <td>...</td>\n",
       "    </tr>\n",
       "    <tr>\n",
       "      <th>2788</th>\n",
       "      <td>2789</td>\n",
       "      <td>999</td>\n",
       "      <td>martinadam</td>\n",
       "      <td>Later hospital turn easy community. Fact same ...</td>\n",
       "    </tr>\n",
       "    <tr>\n",
       "      <th>2789</th>\n",
       "      <td>2790</td>\n",
       "      <td>1000</td>\n",
       "      <td>wknight</td>\n",
       "      <td>Change lose answer close pressure. Spend so now.</td>\n",
       "    </tr>\n",
       "    <tr>\n",
       "      <th>2790</th>\n",
       "      <td>2791</td>\n",
       "      <td>1000</td>\n",
       "      <td>carolrodriguez</td>\n",
       "      <td>Authority go who television entire hair guy po...</td>\n",
       "    </tr>\n",
       "    <tr>\n",
       "      <th>2791</th>\n",
       "      <td>2792</td>\n",
       "      <td>1000</td>\n",
       "      <td>wendy18</td>\n",
       "      <td>Or western offer wonder ask. More hear phone f...</td>\n",
       "    </tr>\n",
       "    <tr>\n",
       "      <th>2792</th>\n",
       "      <td>2793</td>\n",
       "      <td>1000</td>\n",
       "      <td>jarvispaul</td>\n",
       "      <td>Republican staff bit eat material measure plan...</td>\n",
       "    </tr>\n",
       "  </tbody>\n",
       "</table>\n",
       "<p>2793 rows × 4 columns</p>\n",
       "</div>"
      ],
      "text/plain": [
       "      review_id  book_id        username  \\\n",
       "0             1        1    brandtandrea   \n",
       "1             2        1      ryanfranco   \n",
       "2             3        2        lorichen   \n",
       "3             4        3   johnsonamanda   \n",
       "4             5        3     scotttamara   \n",
       "...         ...      ...             ...   \n",
       "2788       2789      999      martinadam   \n",
       "2789       2790     1000         wknight   \n",
       "2790       2791     1000  carolrodriguez   \n",
       "2791       2792     1000         wendy18   \n",
       "2792       2793     1000      jarvispaul   \n",
       "\n",
       "                                                   text  \n",
       "0     Mention society tell send professor analysis. ...  \n",
       "1     Foot glass pretty audience hit themselves. Amo...  \n",
       "2     Listen treat keep worry. Miss husband tax but ...  \n",
       "3     Finally month interesting blue could nature cu...  \n",
       "4     Nation purpose heavy give wait song will. List...  \n",
       "...                                                 ...  \n",
       "2788  Later hospital turn easy community. Fact same ...  \n",
       "2789   Change lose answer close pressure. Spend so now.  \n",
       "2790  Authority go who television entire hair guy po...  \n",
       "2791  Or western offer wonder ask. More hear phone f...  \n",
       "2792  Republican staff bit eat material measure plan...  \n",
       "\n",
       "[2793 rows x 4 columns]"
      ]
     },
     "execution_count": 14,
     "metadata": {},
     "output_type": "execute_result"
    }
   ],
   "source": [
    "reviews = '''\n",
    "            SELECT *\n",
    "            FROM reviews\n",
    "            '''\n",
    "read_sql(reviews)"
   ]
  },
  {
   "cell_type": "code",
   "execution_count": 15,
   "id": "f71a4432",
   "metadata": {
    "scrolled": false
   },
   "outputs": [
    {
     "data": {
      "text/html": [
       "<div>\n",
       "<style scoped>\n",
       "    .dataframe tbody tr th:only-of-type {\n",
       "        vertical-align: middle;\n",
       "    }\n",
       "\n",
       "    .dataframe tbody tr th {\n",
       "        vertical-align: top;\n",
       "    }\n",
       "\n",
       "    .dataframe thead th {\n",
       "        text-align: right;\n",
       "    }\n",
       "</style>\n",
       "<table border=\"1\" class=\"dataframe\">\n",
       "  <thead>\n",
       "    <tr style=\"text-align: right;\">\n",
       "      <th></th>\n",
       "      <th>review_id_unique</th>\n",
       "      <th>book_id_unique</th>\n",
       "      <th>username_unique</th>\n",
       "    </tr>\n",
       "  </thead>\n",
       "  <tbody>\n",
       "    <tr>\n",
       "      <th>0</th>\n",
       "      <td>2793</td>\n",
       "      <td>994</td>\n",
       "      <td>160</td>\n",
       "    </tr>\n",
       "  </tbody>\n",
       "</table>\n",
       "</div>"
      ],
      "text/plain": [
       "   review_id_unique  book_id_unique  username_unique\n",
       "0              2793             994              160"
      ]
     },
     "execution_count": 15,
     "metadata": {},
     "output_type": "execute_result"
    }
   ],
   "source": [
    "reviews_dist = '''\n",
    "                SELECT COUNT (DISTINCT review_id) AS review_id_unique, \n",
    "                COUNT (DISTINCT book_id) AS book_id_unique,\n",
    "                COUNT (DISTINCT username) AS username_unique\n",
    "                FROM reviews;\n",
    "                '''\n",
    "read_sql(reviews_dist)"
   ]
  },
  {
   "cell_type": "markdown",
   "id": "dfa05f47",
   "metadata": {},
   "source": [
    "RUS: Несколько рецензий было оставлено на 6 книг. \n",
    "ENG: There're 6 books for which several reviews were writen. \n"
   ]
  },
  {
   "cell_type": "markdown",
   "id": "541deffc",
   "metadata": {},
   "source": [
    "# Анализ данных"
   ]
  },
  {
   "cell_type": "code",
   "execution_count": 16,
   "id": "8d4e5471",
   "metadata": {},
   "outputs": [
    {
     "data": {
      "text/html": [
       "<div>\n",
       "<style scoped>\n",
       "    .dataframe tbody tr th:only-of-type {\n",
       "        vertical-align: middle;\n",
       "    }\n",
       "\n",
       "    .dataframe tbody tr th {\n",
       "        vertical-align: top;\n",
       "    }\n",
       "\n",
       "    .dataframe thead th {\n",
       "        text-align: right;\n",
       "    }\n",
       "</style>\n",
       "<table border=\"1\" class=\"dataframe\">\n",
       "  <thead>\n",
       "    <tr style=\"text-align: right;\">\n",
       "      <th></th>\n",
       "      <th>books_since_2000</th>\n",
       "    </tr>\n",
       "  </thead>\n",
       "  <tbody>\n",
       "    <tr>\n",
       "      <th>0</th>\n",
       "      <td>821</td>\n",
       "    </tr>\n",
       "  </tbody>\n",
       "</table>\n",
       "</div>"
      ],
      "text/plain": [
       "   books_since_2000\n",
       "0               821"
      ]
     },
     "execution_count": 16,
     "metadata": {},
     "output_type": "execute_result"
    }
   ],
   "source": [
    "#RUS: сколько книг вышло после 1 января 2000 года\n",
    "#ENG: how many books were published after January 1, 2000\n",
    "\n",
    "books_since_2000 = '''\n",
    "                    SELECT COUNT (*) AS books_since_2000\n",
    "                    FROM books AS b\n",
    "                    WHERE b.publication_date >= '2000-01-01';\n",
    "                    '''\n",
    "read_sql(books_since_2000)"
   ]
  },
  {
   "cell_type": "markdown",
   "id": "193a509e",
   "metadata": {},
   "source": [
    "RUS: 821 выпущена с начала 2000 года. \n",
    "ENG: 821 has been released since the beginning of 2000. \n" 
]
  },
  {
   "cell_type": "code",
   "execution_count": 17,
   "id": "36b9b9d6",
   "metadata": {},
   "outputs": [
    {
     "data": {
      "text/html": [
       "<div>\n",
       "<style scoped>\n",
       "    .dataframe tbody tr th:only-of-type {\n",
       "        vertical-align: middle;\n",
       "    }\n",
       "\n",
       "    .dataframe tbody tr th {\n",
       "        vertical-align: top;\n",
       "    }\n",
       "\n",
       "    .dataframe thead th {\n",
       "        text-align: right;\n",
       "    }\n",
       "</style>\n",
       "<table border=\"1\" class=\"dataframe\">\n",
       "  <thead>\n",
       "    <tr style=\"text-align: right;\">\n",
       "      <th></th>\n",
       "      <th>book_id</th>\n",
       "      <th>book_title</th>\n",
       "      <th>reviews_cnt</th>\n",
       "      <th>rating_cnt</th>\n",
       "      <th>rating_avg</th>\n",
       "    </tr>\n",
       "  </thead>\n",
       "  <tbody>\n",
       "    <tr>\n",
       "      <th>0</th>\n",
       "      <td>948</td>\n",
       "      <td>Twilight (Twilight  #1)</td>\n",
       "      <td>7.0</td>\n",
       "      <td>160</td>\n",
       "      <td>3.66</td>\n",
       "    </tr>\n",
       "    <tr>\n",
       "      <th>1</th>\n",
       "      <td>750</td>\n",
       "      <td>The Hobbit  or There and Back Again</td>\n",
       "      <td>6.0</td>\n",
       "      <td>88</td>\n",
       "      <td>4.13</td>\n",
       "    </tr>\n",
       "    <tr>\n",
       "      <th>2</th>\n",
       "      <td>673</td>\n",
       "      <td>The Catcher in the Rye</td>\n",
       "      <td>6.0</td>\n",
       "      <td>86</td>\n",
       "      <td>3.83</td>\n",
       "    </tr>\n",
       "    <tr>\n",
       "      <th>3</th>\n",
       "      <td>75</td>\n",
       "      <td>Angels &amp; Demons (Robert Langdon  #1)</td>\n",
       "      <td>5.0</td>\n",
       "      <td>84</td>\n",
       "      <td>3.68</td>\n",
       "    </tr>\n",
       "    <tr>\n",
       "      <th>4</th>\n",
       "      <td>302</td>\n",
       "      <td>Harry Potter and the Prisoner of Azkaban (Harr...</td>\n",
       "      <td>6.0</td>\n",
       "      <td>82</td>\n",
       "      <td>4.41</td>\n",
       "    </tr>\n",
       "    <tr>\n",
       "      <th>...</th>\n",
       "      <td>...</td>\n",
       "      <td>...</td>\n",
       "      <td>...</td>\n",
       "      <td>...</td>\n",
       "      <td>...</td>\n",
       "    </tr>\n",
       "    <tr>\n",
       "      <th>995</th>\n",
       "      <td>930</td>\n",
       "      <td>To Green Angel Tower (Memory  Sorrow  and Thor...</td>\n",
       "      <td>1.0</td>\n",
       "      <td>2</td>\n",
       "      <td>4.50</td>\n",
       "    </tr>\n",
       "    <tr>\n",
       "      <th>996</th>\n",
       "      <td>943</td>\n",
       "      <td>Tsubasa: RESERVoir CHRoNiCLE  Vol. 1</td>\n",
       "      <td>1.0</td>\n",
       "      <td>2</td>\n",
       "      <td>2.50</td>\n",
       "    </tr>\n",
       "    <tr>\n",
       "      <th>997</th>\n",
       "      <td>980</td>\n",
       "      <td>Wicked: The Grimmerie</td>\n",
       "      <td>1.0</td>\n",
       "      <td>2</td>\n",
       "      <td>3.50</td>\n",
       "    </tr>\n",
       "    <tr>\n",
       "      <th>998</th>\n",
       "      <td>984</td>\n",
       "      <td>Winter Prey (Lucas Davenport  #5)</td>\n",
       "      <td>1.0</td>\n",
       "      <td>2</td>\n",
       "      <td>4.50</td>\n",
       "    </tr>\n",
       "    <tr>\n",
       "      <th>999</th>\n",
       "      <td>191</td>\n",
       "      <td>Disney's Beauty and the Beast (A Little Golden...</td>\n",
       "      <td>NaN</td>\n",
       "      <td>1</td>\n",
       "      <td>4.00</td>\n",
       "    </tr>\n",
       "  </tbody>\n",
       "</table>\n",
       "<p>1000 rows × 5 columns</p>\n",
       "</div>"
      ],
      "text/plain": [
       "     book_id                                         book_title  reviews_cnt  \\\n",
       "0        948                            Twilight (Twilight  #1)          7.0   \n",
       "1        750                The Hobbit  or There and Back Again          6.0   \n",
       "2        673                             The Catcher in the Rye          6.0   \n",
       "3         75               Angels & Demons (Robert Langdon  #1)          5.0   \n",
       "4        302  Harry Potter and the Prisoner of Azkaban (Harr...          6.0   \n",
       "..       ...                                                ...          ...   \n",
       "995      930  To Green Angel Tower (Memory  Sorrow  and Thor...          1.0   \n",
       "996      943               Tsubasa: RESERVoir CHRoNiCLE  Vol. 1          1.0   \n",
       "997      980                              Wicked: The Grimmerie          1.0   \n",
       "998      984                  Winter Prey (Lucas Davenport  #5)          1.0   \n",
       "999      191  Disney's Beauty and the Beast (A Little Golden...          NaN   \n",
       "\n",
       "     rating_cnt  rating_avg  \n",
       "0           160        3.66  \n",
       "1            88        4.13  \n",
       "2            86        3.83  \n",
       "3            84        3.68  \n",
       "4            82        4.41  \n",
       "..          ...         ...  \n",
       "995           2        4.50  \n",
       "996           2        2.50  \n",
       "997           2        3.50  \n",
       "998           2        4.50  \n",
       "999           1        4.00  \n",
       "\n",
       "[1000 rows x 5 columns]"
      ]
     },
     "execution_count": 17,
     "metadata": {},
     "output_type": "execute_result"
    }
   ],
   "source": [
    "#RUS: количество обзоров и средняя оценка\n",
    "#ENG: number of reviews and average rating\n",
    "\n",
    "books_reviews_and_avg_rating = '''\n",
    "                                SELECT b.book_id AS book_id, b.title AS book_title,\n",
    "                                Sub_rv.reviews_cnt AS reviews_cnt, Sub_rt.rating_cnt AS rating_cnt, \n",
    "                                Sub_rt.rating_avg AS rating_avg\n",
    "                                FROM books AS b\n",
    "                                LEFT JOIN (SELECT rv.book_id, COUNT(rv.review_id) AS reviews_cnt\n",
    "                                           FROM reviews AS rv\n",
    "                                           GROUP BY rv.book_id) AS Sub_rv ON Sub_rv.book_id = b.book_id\n",
    "                                LEFT JOIN \n",
    "                                        (SELECT r.book_id, COUNT(r.rating) AS rating_cnt, \n",
    "                                         ROUND(AVG(r.rating),2) AS rating_avg\n",
    "                                         FROM ratings AS r\n",
    "                                         GROUP BY r.book_id) AS Sub_rt ON Sub_rt.book_id = b.book_id\n",
    "                                GROUP BY b.book_id, Sub_rv.reviews_cnt, Sub_rt.rating_avg, Sub_rt.rating_cnt\n",
    "                                ORDER BY rating_cnt DESC, reviews_cnt DESC;\n",
    "                                '''\n",
    "read_sql(books_reviews_and_avg_rating)"
   ]
  },
  {
   "cell_type": "markdown",
   "id": "1f34f470",
   "metadata": {},
   "source": [
    "Мы отсортировали полученные данные сначала по кол-ву рецензий и оценок. Лидирует книга \"Сумерки\", но в то же время оценка у нее достаточно низкая всего 3.66, на второму месте по кол-ву одна из книг о Хоббите, на которую написано 6 рецензий и оставлено 88 оценок, далее располагается \"Над пропастью во ржи\" с 86 оценками и 6 отзывами, далее идут книги о Гарри Поттере (это мы помним из вывода данных при исключенных книгах, для которых нет рецензий).\n",
    "We sorted the obtained data first by the number of reviews and ratings. The book \"Twilight\" is in the lead, but at the same time its score is quite low, only 3.66, in second place in terms of number of reviews and ratings is one of the books about the Hobbit, for which 6 reviews have been written and 88 ratings have been left, then it is located \"The Catcher in the Rye\" with 86 ratings and 6 reviews, followed by books about Harry Potter (we remember this from the output of data for excluded books for which there are no reviews).\n" 
]
  },
  {
   "cell_type": "code",
   "execution_count": 18,
   "id": "e04e1402",
   "metadata": {},
   "outputs": [
    {
     "data": {
      "text/html": [
       "<div>\n",
       "<style scoped>\n",
       "    .dataframe tbody tr th:only-of-type {\n",
       "        vertical-align: middle;\n",
       "    }\n",
       "\n",
       "    .dataframe tbody tr th {\n",
       "        vertical-align: top;\n",
       "    }\n",
       "\n",
       "    .dataframe thead th {\n",
       "        text-align: right;\n",
       "    }\n",
       "</style>\n",
       "<table border=\"1\" class=\"dataframe\">\n",
       "  <thead>\n",
       "    <tr style=\"text-align: right;\">\n",
       "      <th></th>\n",
       "      <th>book_id</th>\n",
       "      <th>book_title</th>\n",
       "      <th>reviews_cnt</th>\n",
       "      <th>rating_avg</th>\n",
       "    </tr>\n",
       "  </thead>\n",
       "  <tbody>\n",
       "    <tr>\n",
       "      <th>0</th>\n",
       "      <td>17</td>\n",
       "      <td>A Dirty Job (Grim Reaper  #1)</td>\n",
       "      <td>4.0</td>\n",
       "      <td>5.00</td>\n",
       "    </tr>\n",
       "    <tr>\n",
       "      <th>1</th>\n",
       "      <td>20</td>\n",
       "      <td>A Fistful of Charms (The Hollows  #4)</td>\n",
       "      <td>2.0</td>\n",
       "      <td>5.00</td>\n",
       "    </tr>\n",
       "    <tr>\n",
       "      <th>2</th>\n",
       "      <td>55</td>\n",
       "      <td>A Woman of Substance (Emma Harte Saga #1)</td>\n",
       "      <td>2.0</td>\n",
       "      <td>5.00</td>\n",
       "    </tr>\n",
       "    <tr>\n",
       "      <th>3</th>\n",
       "      <td>57</td>\n",
       "      <td>Act of Treason (Mitch Rapp  #9)</td>\n",
       "      <td>2.0</td>\n",
       "      <td>5.00</td>\n",
       "    </tr>\n",
       "    <tr>\n",
       "      <th>4</th>\n",
       "      <td>62</td>\n",
       "      <td>Alas  Babylon</td>\n",
       "      <td>2.0</td>\n",
       "      <td>5.00</td>\n",
       "    </tr>\n",
       "    <tr>\n",
       "      <th>...</th>\n",
       "      <td>...</td>\n",
       "      <td>...</td>\n",
       "      <td>...</td>\n",
       "      <td>...</td>\n",
       "    </tr>\n",
       "    <tr>\n",
       "      <th>995</th>\n",
       "      <td>915</td>\n",
       "      <td>The World Is Flat: A Brief History of the Twen...</td>\n",
       "      <td>3.0</td>\n",
       "      <td>2.25</td>\n",
       "    </tr>\n",
       "    <tr>\n",
       "      <th>996</th>\n",
       "      <td>202</td>\n",
       "      <td>Drowning Ruth</td>\n",
       "      <td>3.0</td>\n",
       "      <td>2.00</td>\n",
       "    </tr>\n",
       "    <tr>\n",
       "      <th>997</th>\n",
       "      <td>316</td>\n",
       "      <td>His Excellency: George Washington</td>\n",
       "      <td>2.0</td>\n",
       "      <td>2.00</td>\n",
       "    </tr>\n",
       "    <tr>\n",
       "      <th>998</th>\n",
       "      <td>371</td>\n",
       "      <td>Junky</td>\n",
       "      <td>2.0</td>\n",
       "      <td>2.00</td>\n",
       "    </tr>\n",
       "    <tr>\n",
       "      <th>999</th>\n",
       "      <td>303</td>\n",
       "      <td>Harvesting the Heart</td>\n",
       "      <td>2.0</td>\n",
       "      <td>1.50</td>\n",
       "    </tr>\n",
       "  </tbody>\n",
       "</table>\n",
       "<p>1000 rows × 4 columns</p>\n",
       "</div>"
      ],
      "text/plain": [
       "     book_id                                         book_title  reviews_cnt  \\\n",
       "0         17                      A Dirty Job (Grim Reaper  #1)          4.0   \n",
       "1         20              A Fistful of Charms (The Hollows  #4)          2.0   \n",
       "2         55          A Woman of Substance (Emma Harte Saga #1)          2.0   \n",
       "3         57                    Act of Treason (Mitch Rapp  #9)          2.0   \n",
       "4         62                                      Alas  Babylon          2.0   \n",
       "..       ...                                                ...          ...   \n",
       "995      915  The World Is Flat: A Brief History of the Twen...          3.0   \n",
       "996      202                                      Drowning Ruth          3.0   \n",
       "997      316                  His Excellency: George Washington          2.0   \n",
       "998      371                                              Junky          2.0   \n",
       "999      303                               Harvesting the Heart          2.0   \n",
       "\n",
       "     rating_avg  \n",
       "0          5.00  \n",
       "1          5.00  \n",
       "2          5.00  \n",
       "3          5.00  \n",
       "4          5.00  \n",
       "..          ...  \n",
       "995        2.25  \n",
       "996        2.00  \n",
       "997        2.00  \n",
       "998        2.00  \n",
       "999        1.50  \n",
       "\n",
       "[1000 rows x 4 columns]"
      ]
     },
     "execution_count": 18,
     "metadata": {},
     "output_type": "execute_result"
    }
   ],
   "source": [
    "books_reviews_and_avg_rating = '''\n",
    "                                SELECT b.book_id AS book_id, b.title AS book_title,\n",
    "                                Sub_rv.reviews_cnt AS reviews_cnt, Sub_rt.rating_avg AS rating_avg\n",
    "                                FROM books AS b\n",
    "                                LEFT JOIN (SELECT rv.book_id, COUNT(rv.review_id) AS reviews_cnt\n",
    "                                           FROM reviews AS rv\n",
    "                                           GROUP BY rv.book_id) AS Sub_rv ON Sub_rv.book_id = b.book_id\n",
    "                                LEFT JOIN \n",
    "                                        (SELECT r.book_id, ROUND(AVG(r.rating),2) AS rating_avg\n",
    "                                        FROM ratings AS r\n",
    "                                        GROUP BY r.book_id) AS Sub_rt ON Sub_rt.book_id = b.book_id\n",
    "                                GROUP BY b.book_id, Sub_rv.reviews_cnt, Sub_rt.rating_avg\n",
    "                                ORDER BY Sub_rt.rating_avg DESC;\n",
    "                                '''\n",
    "read_sql(books_reviews_and_avg_rating)"
   ]
  },
  {
   "cell_type": "markdown",
   "id": "5cfb91c5",
   "metadata": {},
   "source": [
    "RUS: Теперь посмотрим на распределение книг по рейтингу, так в топ-5 входят: \n",
    "ENG: Now let's look at the distribution of books by rating, so the top 5 includes: \n",
    "A Dirty Job (Grim Reaper #1), \n",
    "A Fistful of Charms (The Hollows #4), \n",
    "A Woman of Substance (Emma Harte Saga #1), \n",
    "Act of Treason (Mitch Rapp #9), \n",
    "Alas Babylon\t"
   ]
  },
  {
   "cell_type": "code",
   "execution_count": 19,
   "id": "b93027e9",
   "metadata": {},
   "outputs": [
    {
     "data": {
      "text/html": [
       "<div>\n",
       "<style scoped>\n",
       "    .dataframe tbody tr th:only-of-type {\n",
       "        vertical-align: middle;\n",
       "    }\n",
       "\n",
       "    .dataframe tbody tr th {\n",
       "        vertical-align: top;\n",
       "    }\n",
       "\n",
       "    .dataframe thead th {\n",
       "        text-align: right;\n",
       "    }\n",
       "</style>\n",
       "<table border=\"1\" class=\"dataframe\">\n",
       "  <thead>\n",
       "    <tr style=\"text-align: right;\">\n",
       "      <th></th>\n",
       "      <th>publisher</th>\n",
       "      <th>books_cnt</th>\n",
       "    </tr>\n",
       "  </thead>\n",
       "  <tbody>\n",
       "    <tr>\n",
       "      <th>0</th>\n",
       "      <td>Penguin Books</td>\n",
       "      <td>42</td>\n",
       "    </tr>\n",
       "    <tr>\n",
       "      <th>1</th>\n",
       "      <td>Vintage</td>\n",
       "      <td>31</td>\n",
       "    </tr>\n",
       "    <tr>\n",
       "      <th>2</th>\n",
       "      <td>Grand Central Publishing</td>\n",
       "      <td>25</td>\n",
       "    </tr>\n",
       "    <tr>\n",
       "      <th>3</th>\n",
       "      <td>Penguin Classics</td>\n",
       "      <td>24</td>\n",
       "    </tr>\n",
       "    <tr>\n",
       "      <th>4</th>\n",
       "      <td>Bantam</td>\n",
       "      <td>19</td>\n",
       "    </tr>\n",
       "    <tr>\n",
       "      <th>...</th>\n",
       "      <td>...</td>\n",
       "      <td>...</td>\n",
       "    </tr>\n",
       "    <tr>\n",
       "      <th>335</th>\n",
       "      <td>Simon &amp; Schuster Childrens Books</td>\n",
       "      <td>0</td>\n",
       "    </tr>\n",
       "    <tr>\n",
       "      <th>336</th>\n",
       "      <td>Atheneum Books for Young Readers</td>\n",
       "      <td>0</td>\n",
       "    </tr>\n",
       "    <tr>\n",
       "      <th>337</th>\n",
       "      <td>Tanglewood</td>\n",
       "      <td>0</td>\n",
       "    </tr>\n",
       "    <tr>\n",
       "      <th>338</th>\n",
       "      <td>Golden Books</td>\n",
       "      <td>0</td>\n",
       "    </tr>\n",
       "    <tr>\n",
       "      <th>339</th>\n",
       "      <td>Golden/Disney</td>\n",
       "      <td>0</td>\n",
       "    </tr>\n",
       "  </tbody>\n",
       "</table>\n",
       "<p>340 rows × 2 columns</p>\n",
       "</div>"
      ],
      "text/plain": [
       "                            publisher  books_cnt\n",
       "0                       Penguin Books         42\n",
       "1                             Vintage         31\n",
       "2            Grand Central Publishing         25\n",
       "3                    Penguin Classics         24\n",
       "4                              Bantam         19\n",
       "..                                ...        ...\n",
       "335  Simon & Schuster Childrens Books          0\n",
       "336  Atheneum Books for Young Readers          0\n",
       "337                        Tanglewood          0\n",
       "338                      Golden Books          0\n",
       "339                     Golden/Disney          0\n",
       "\n",
       "[340 rows x 2 columns]"
      ]
     },
     "execution_count": 19,
     "metadata": {},
     "output_type": "execute_result"
    }
   ],
   "source": [
    "#RUS: издательства, которое выпустило наибольшее число книг толще 50 страниц\n",
    "#ENG: the publishing house that has released the largest number of books thicker than 50 pages\n",
    "\n",
    "top_publishers = '''\n",
    "                 SELECT p.publisher, COUNT(Sub_b.book_id) AS books_cnt\n",
    "                 FROM publishers AS p\n",
    "                 LEFT JOIN (SELECT *\n",
    "                            FROM books AS b\n",
    "                            WHERE b.num_pages > 50) AS Sub_b ON Sub_b.publisher_id = p.publisher_id\n",
    "                 GROUP BY p.publisher\n",
    "                 ORDER BY COUNT(Sub_b.book_id) DESC\n",
    "                 '''\n",
    "read_sql(top_publishers)"
   ]
  },
  {
   "cell_type": "markdown",
   "id": "a4af24fb",
   "metadata": {},
   "source": [
    "RUS: Топ-5 издательств по кол-ву книг с толщиной больше 50 страниц:\n",
    "ENG: Top 5 publishers by number of books with a thickness of more than 50 pages:\n",
    "    \n",
    "Penguin Books 42\n",
    "\n",
    "Vintage\t31\n",
    "\n",
    "Grand Central Publishing 25\n",
    "\n",
    "Penguin Classics 24\n",
    "\n",
    "Bantam 19"
   ]
  },
  {
   "cell_type": "code",
   "execution_count": 20,
   "id": "cdd378e5",
   "metadata": {},
   "outputs": [],
   "source": [
    "# RUS: авторы с самой высокой средней оценкой книг (книги с 50 и более оценками).\n",
    "# ENG: authors with the highest average book rating (books with 50 or more ratings).\n"
   ]
  },
  {
   "cell_type": "code",
   "execution_count": 21,
   "id": "2d937dd9",
   "metadata": {},
   "outputs": [
    {
     "data": {
      "text/html": [
       "<div>\n",
       "<style scoped>\n",
       "    .dataframe tbody tr th:only-of-type {\n",
       "        vertical-align: middle;\n",
       "    }\n",
       "\n",
       "    .dataframe tbody tr th {\n",
       "        vertical-align: top;\n",
       "    }\n",
       "\n",
       "    .dataframe thead th {\n",
       "        text-align: right;\n",
       "    }\n",
       "</style>\n",
       "<table border=\"1\" class=\"dataframe\">\n",
       "  <thead>\n",
       "    <tr style=\"text-align: right;\">\n",
       "      <th></th>\n",
       "      <th>author</th>\n",
       "      <th>rating_avg</th>\n",
       "    </tr>\n",
       "  </thead>\n",
       "  <tbody>\n",
       "    <tr>\n",
       "      <th>0</th>\n",
       "      <td>J.K. Rowling/Mary GrandPré</td>\n",
       "      <td>4.28</td>\n",
       "    </tr>\n",
       "    <tr>\n",
       "      <th>1</th>\n",
       "      <td>Markus Zusak/Cao Xuân Việt Khương</td>\n",
       "      <td>4.26</td>\n",
       "    </tr>\n",
       "    <tr>\n",
       "      <th>2</th>\n",
       "      <td>J.R.R. Tolkien</td>\n",
       "      <td>4.26</td>\n",
       "    </tr>\n",
       "    <tr>\n",
       "      <th>3</th>\n",
       "      <td>Louisa May Alcott</td>\n",
       "      <td>4.19</td>\n",
       "    </tr>\n",
       "    <tr>\n",
       "      <th>4</th>\n",
       "      <td>Rick Riordan</td>\n",
       "      <td>4.08</td>\n",
       "    </tr>\n",
       "    <tr>\n",
       "      <th>5</th>\n",
       "      <td>William Golding</td>\n",
       "      <td>3.90</td>\n",
       "    </tr>\n",
       "    <tr>\n",
       "      <th>6</th>\n",
       "      <td>J.D. Salinger</td>\n",
       "      <td>3.83</td>\n",
       "    </tr>\n",
       "    <tr>\n",
       "      <th>7</th>\n",
       "      <td>Paulo Coelho/Alan R. Clarke/Özdemir İnce</td>\n",
       "      <td>3.79</td>\n",
       "    </tr>\n",
       "    <tr>\n",
       "      <th>8</th>\n",
       "      <td>William Shakespeare/Paul Werstine/Barbara A. M...</td>\n",
       "      <td>3.79</td>\n",
       "    </tr>\n",
       "    <tr>\n",
       "      <th>9</th>\n",
       "      <td>Dan Brown</td>\n",
       "      <td>3.75</td>\n",
       "    </tr>\n",
       "    <tr>\n",
       "      <th>10</th>\n",
       "      <td>Lois Lowry</td>\n",
       "      <td>3.75</td>\n",
       "    </tr>\n",
       "    <tr>\n",
       "      <th>11</th>\n",
       "      <td>George Orwell/Boris Grabnar/Peter Škerl</td>\n",
       "      <td>3.73</td>\n",
       "    </tr>\n",
       "    <tr>\n",
       "      <th>12</th>\n",
       "      <td>Stephenie Meyer</td>\n",
       "      <td>3.66</td>\n",
       "    </tr>\n",
       "    <tr>\n",
       "      <th>13</th>\n",
       "      <td>John Steinbeck</td>\n",
       "      <td>3.62</td>\n",
       "    </tr>\n",
       "  </tbody>\n",
       "</table>\n",
       "</div>"
      ],
      "text/plain": [
       "                                               author  rating_avg\n",
       "0                          J.K. Rowling/Mary GrandPré        4.28\n",
       "1                   Markus Zusak/Cao Xuân Việt Khương        4.26\n",
       "2                                      J.R.R. Tolkien        4.26\n",
       "3                                   Louisa May Alcott        4.19\n",
       "4                                        Rick Riordan        4.08\n",
       "5                                     William Golding        3.90\n",
       "6                                       J.D. Salinger        3.83\n",
       "7            Paulo Coelho/Alan R. Clarke/Özdemir İnce        3.79\n",
       "8   William Shakespeare/Paul Werstine/Barbara A. M...        3.79\n",
       "9                                           Dan Brown        3.75\n",
       "10                                         Lois Lowry        3.75\n",
       "11            George Orwell/Boris Grabnar/Peter Škerl        3.73\n",
       "12                                    Stephenie Meyer        3.66\n",
       "13                                     John Steinbeck        3.62"
      ]
     },
     "execution_count": 21,
     "metadata": {},
     "output_type": "execute_result"
    }
   ],
   "source": [
    "authors_top_rating = '''\n",
    "                            SELECT a.author AS author, ROUND(AVG(Sub_rt.rating_avg),2) AS rating_avg                                \n",
    "                            FROM authors AS a\n",
    "                            RIGHT JOIN (SELECT rt.book_id AS book_id, b.author_id AS author_id,\n",
    "                                        COUNT(rt.rating_id) AS ratings, AVG(rt.rating) AS rating_avg\n",
    "                                    FROM ratings AS rt\n",
    "                                    LEFT JOIN books AS b ON b.book_id = rt.book_id\n",
    "                                    GROUP BY rt.book_id, b.author_id\n",
    "                                    HAVING COUNT(rt.rating_id) >= 50) AS Sub_rt ON a.author_id = Sub_rt.author_id\n",
    "                            GROUP BY a.author\n",
    "                            ORDER BY AVG(Sub_rt.rating_avg) DESC\n",
    "                            '''\n",
    "read_sql(authors_top_rating)"
   ]
  },
  {
   "cell_type": "markdown",
   "id": "c5c5ab0b",
   "metadata": {},
   "source": [
    "RUS: Среди авторов лидируют J.K. Rowling/Mary GrandPré, далее идут Markus Zusak/Cao Xuân Việt Khương и J.R.R. Tolkien.\n",
    "ENG: J.K. Rowling/Mary GrandPré is in the lead among the authors, followed by Markus Zusak/Cao Xuân Viet Huong and J.R.R. Tolkien.\n"
   ]
  },
  {
   "cell_type": "code",
   "execution_count": 22,
   "id": "513c168d",
   "metadata": {},
   "outputs": [
    {
     "data": {
      "text/html": [
       "<div>\n",
       "<style scoped>\n",
       "    .dataframe tbody tr th:only-of-type {\n",
       "        vertical-align: middle;\n",
       "    }\n",
       "\n",
       "    .dataframe tbody tr th {\n",
       "        vertical-align: top;\n",
       "    }\n",
       "\n",
       "    .dataframe thead th {\n",
       "        text-align: right;\n",
       "    }\n",
       "</style>\n",
       "<table border=\"1\" class=\"dataframe\">\n",
       "  <thead>\n",
       "    <tr style=\"text-align: right;\">\n",
       "      <th></th>\n",
       "      <th>username</th>\n",
       "      <th>reviews_avg</th>\n",
       "    </tr>\n",
       "  </thead>\n",
       "  <tbody>\n",
       "    <tr>\n",
       "      <th>0</th>\n",
       "      <td>susan85</td>\n",
       "      <td>29</td>\n",
       "    </tr>\n",
       "    <tr>\n",
       "      <th>1</th>\n",
       "      <td>sfitzgerald</td>\n",
       "      <td>28</td>\n",
       "    </tr>\n",
       "    <tr>\n",
       "      <th>2</th>\n",
       "      <td>martinadam</td>\n",
       "      <td>27</td>\n",
       "    </tr>\n",
       "    <tr>\n",
       "      <th>3</th>\n",
       "      <td>richard89</td>\n",
       "      <td>26</td>\n",
       "    </tr>\n",
       "    <tr>\n",
       "      <th>4</th>\n",
       "      <td>lesliegibbs</td>\n",
       "      <td>26</td>\n",
       "    </tr>\n",
       "    <tr>\n",
       "      <th>5</th>\n",
       "      <td>jennifermiller</td>\n",
       "      <td>25</td>\n",
       "    </tr>\n",
       "    <tr>\n",
       "      <th>6</th>\n",
       "      <td>johnsonamanda</td>\n",
       "      <td>24</td>\n",
       "    </tr>\n",
       "    <tr>\n",
       "      <th>7</th>\n",
       "      <td>shermannatalie</td>\n",
       "      <td>24</td>\n",
       "    </tr>\n",
       "    <tr>\n",
       "      <th>8</th>\n",
       "      <td>walter49</td>\n",
       "      <td>23</td>\n",
       "    </tr>\n",
       "    <tr>\n",
       "      <th>9</th>\n",
       "      <td>andreaeaton</td>\n",
       "      <td>22</td>\n",
       "    </tr>\n",
       "    <tr>\n",
       "      <th>10</th>\n",
       "      <td>vanessagardner</td>\n",
       "      <td>22</td>\n",
       "    </tr>\n",
       "    <tr>\n",
       "      <th>11</th>\n",
       "      <td>paul88</td>\n",
       "      <td>22</td>\n",
       "    </tr>\n",
       "    <tr>\n",
       "      <th>12</th>\n",
       "      <td>nolanalexander</td>\n",
       "      <td>21</td>\n",
       "    </tr>\n",
       "    <tr>\n",
       "      <th>13</th>\n",
       "      <td>vcarter</td>\n",
       "      <td>20</td>\n",
       "    </tr>\n",
       "    <tr>\n",
       "      <th>14</th>\n",
       "      <td>xdavis</td>\n",
       "      <td>18</td>\n",
       "    </tr>\n",
       "    <tr>\n",
       "      <th>15</th>\n",
       "      <td>ulowe</td>\n",
       "      <td>16</td>\n",
       "    </tr>\n",
       "    <tr>\n",
       "      <th>16</th>\n",
       "      <td>colin90</td>\n",
       "      <td>16</td>\n",
       "    </tr>\n",
       "  </tbody>\n",
       "</table>\n",
       "</div>"
      ],
      "text/plain": [
       "          username  reviews_avg\n",
       "0          susan85           29\n",
       "1      sfitzgerald           28\n",
       "2       martinadam           27\n",
       "3        richard89           26\n",
       "4      lesliegibbs           26\n",
       "5   jennifermiller           25\n",
       "6    johnsonamanda           24\n",
       "7   shermannatalie           24\n",
       "8         walter49           23\n",
       "9      andreaeaton           22\n",
       "10  vanessagardner           22\n",
       "11          paul88           22\n",
       "12  nolanalexander           21\n",
       "13         vcarter           20\n",
       "14          xdavis           18\n",
       "15           ulowe           16\n",
       "16         colin90           16"
      ]
     },
     "execution_count": 22,
     "metadata": {},
     "output_type": "execute_result"
    }
   ],
   "source": [
    "#RUS: среднее количество обзоров от пользователей, которые поставили больше 48 оценок\n",
    "#ENG: the average number of reviews from users who gave more than 48 ratings\n",
    "\n",
    "users_avg_reviews = '''\n",
    "                    SELECT rv.username AS username, COUNT(rv.review_id) AS reviews_avg\n",
    "                    FROM reviews AS rv\n",
    "                    WHERE rv.username IN (SELECT Sub_rt.username\n",
    "                                          FROM (SELECT rt.username AS username, COUNT(rt.rating_id) AS ratings\n",
    "                                                FROM ratings AS rt\n",
    "                                                GROUP BY rt.username\n",
    "                                                HAVING COUNT(rt.rating_id) >= 48) AS Sub_rt)\n",
    "                    GROUP BY rv.username\n",
    "                    ORDER BY COUNT(rv.review_id) DESC;\n",
    "                    '''\n",
    "read_sql(users_avg_reviews)"
   ]
  },
  {
   "cell_type": "code",
   "execution_count": 23,
   "id": "dcd4daa2",
   "metadata": {},
   "outputs": [
    {
     "data": {
      "text/html": [
       "<div>\n",
       "<style scoped>\n",
       "    .dataframe tbody tr th:only-of-type {\n",
       "        vertical-align: middle;\n",
       "    }\n",
       "\n",
       "    .dataframe tbody tr th {\n",
       "        vertical-align: top;\n",
       "    }\n",
       "\n",
       "    .dataframe thead th {\n",
       "        text-align: right;\n",
       "    }\n",
       "</style>\n",
       "<table border=\"1\" class=\"dataframe\">\n",
       "  <thead>\n",
       "    <tr style=\"text-align: right;\">\n",
       "      <th></th>\n",
       "      <th>number_of_avg_reviews</th>\n",
       "    </tr>\n",
       "  </thead>\n",
       "  <tbody>\n",
       "    <tr>\n",
       "      <th>0</th>\n",
       "      <td>24.0</td>\n",
       "    </tr>\n",
       "  </tbody>\n",
       "</table>\n",
       "</div>"
      ],
      "text/plain": [
       "   number_of_avg_reviews\n",
       "0                   24.0"
      ]
     },
     "execution_count": 23,
     "metadata": {},
     "output_type": "execute_result"
    }
   ],
   "source": [
    "avg_number_of_top_reviewers = '''\n",
    "                    SELECT ROUND(AVG(Sub_rv.reviews_avg),2) AS number_of_avg_reviews\n",
    "                    FROM (SELECT rv.username AS username, COUNT(rv.review_id) AS reviews_avg\n",
    "                          FROM reviews AS rv\n",
    "                          WHERE rv.username IN (SELECT Sub_rt.username \n",
    "                                                FROM (SELECT rt.username AS username, \n",
    "                                                      COUNT(rt.rating_id) AS number_of_ratings\n",
    "                                                      FROM ratings AS rt\n",
    "                                                      GROUP BY rt.username \n",
    "                                                      HAVING COUNT(rt.rating_id) > 48) AS Sub_rt)\n",
    "                    GROUP BY rv.username) AS Sub_rv;\n",
    "                    '''\n",
    "read_sql(avg_number_of_top_reviewers)"
   ]
  },
  {
   "cell_type": "markdown",
   "id": "1eded706",
   "metadata": {},
   "source": [
    "RUS: В среднем выделенный топ пользователей, которые оставляли отзывы, оставлял по 24 рецензии.\n",
    "ENG: On average, the selected top users who left reviews left 24 reviews each.\n"
   ]
  },
  {
   "cell_type": "markdown",
   "id": "12108543",
   "metadata": {},
   "source": [
    "# Вывод"
   ]
  },
  {
   "cell_type": "markdown",
   "id": "648f619e",
   "metadata": {},
   "source": [
    "RUS: Были исследованы данные по 1 000 уникальных книг от 636 авторов. При этом есть один дубликат по названию - \"Мемуары Гейши, но эти книги были выпущены в разные даты и имеют разный объем. По объему все книгу крайне различны и разбросаны от 14 до 2690 страниц. Самая старая книга выпущена в 1952 году, а самая новая в 2020. Книги были выпущены 340 издательствами. 160 пользователей поставило книгам оценки и написало более 6 тысяч рецензий. \n",
    "\n",
    "С начала 2000 года было выпущена 821 книга. Самой популярной по кол-ву рецензий можно назвать \"Сумерки\", а в топ-5 самых высокооцененных входят: A Dirty Job (Grim Reaper #1), A Fistful of Charms (The Hollows #4), A Woman of Substance (Emma Harte Saga #1), Act of Treason (Mitch Rapp #9), Alas Babylon. Но средняя оценка все-таки напрямую зависит от кол-ва пользователей, которые поставили оценку, поэтому крайне сложно что-то говорить о рейтинге книг.\n",
    "\n",
    "Самыми активными издательсвами являются Penguin Books - 42 книги, Vintage - 31 книги, Grand Central Publishing - 25 книг, Penguin Classics - 24 книги и Bantam - 19 книг.\n",
    "Среди авторов лидируют J.K. Rowling/Mary GrandPré со средней оценкой книг в 4.28, далее идут Markus Zusak/Cao Xuân Việt Khương\t4.26 и J.R.R. Tolkien 4.258. \n",
    "\n",
    "13 пользователей являются самыми активными и оставили больше 20 рецензий, оставив больше 48 оценок, из них топ-5:\n",
    "\n",
    "susan85 - 29\n",
    "\n",
    "sfitzgerald\t- 28\n",
    "\n",
    "martinadam - 27\n",
    "\n",
    "richard89 - 26\n",
    "\n",
    "lesliegibbs - 26\n",
    "\n",
    "В среднем самые активные в плане отзывов пользователи оставляли по 24 рецензии.\n",
    "\n",
    "Что касается дальнейших действий сервисв, то стоит уделить больше внимания книгам, написанным в 90-х - 00-х годах, но и забывать про классику не стоит, так как, например, \"Над пропастью во ржи\" все еще является одной из самых популярных, это можно заметить по кол-ву оценок на данную книгу. Стоит также посмотреть, какие книги имеют высокие оценки, но небольшое их кол-во, и, возможно, провести какую-либо кампанию по продвижению их продаж.\n",
    "Одним из ходовых авторов все также является Дж. К. Роулинг с илюстратором Mary GrandPré, поэтому о книгах не стоит забывать Гарри Поттере.\n",
    "\n",
    "RUS: Data on 1,000 unique books from 636 authors were examined. At the same time, there is one duplicate by name - "Memoirs of a Geisha, but these books were released on different dates and have different volumes. In terms of volume, all the books are extremely different and are scattered from 14 to 2690 pages. The oldest book was released in 1952, and the newest in 2020. The books have been published by 340 publishers. 160 users rated the books and wrote more than 6 thousand reviews. \n",
    "\n",
    "ENG: Since the beginning of 2000, 821 books have been published. The most popular by number of reviews can be called \"Twilight\", and the top 5 most highly rated include: A Dirty Job (Grim Reaper #1), A Fistful of Charms (The Hollows #4), A Woman of Substance (Emma Harte Saga #1), Act of Treason (Mitch Rapp #9), Alas Babylon. But the average score still depends directly on the number of users who have rated, so it is extremely difficult to say anything about the rating of books.\n",
    "\n",
    "The most active publishers are Penguin Books - 42 books, Vintage - 31 books, Grand Central Publishing - 25 books, Penguin Classics - 24 books and Bantam - 19 books.\n",
    "J.K. Rowling/Mary GrandPré is the leader among the authors with an average book rating of 4.28, followed by Markus Zusak/Cao Xuân ViệT KhươNg\t4.26 and J.R.R. Tolkien 4.258. \n",
    "\n",
    "13 users are the most active and have left more than 20 reviews, leaving more than 48 ratings, of which the top 5:\n",
    "\n",
    "susan85 - 29\n",
    "\n",
    "sfitzgerald\t- 28\n",
    "\n",
    "martinadam - 27\n",
    "\n",
    "richard89 - 26\n",
    "\n",
    "lesliegibbs - 26\n",
    "\n",
    "On average, the most active users in terms of reviews left 24 reviews.\n",
    "\n",
    "As for the further actions of the service, it is worth paying more attention to books written in the 90s - 00s, but you should not forget about the classics, since, for example, \"The Catcher in the Rye\" is still one of the most popular, this can be seen by the number ofthe list of ratings for this book. It is also worth looking at which books have high ratings, but a small number of them, and perhaps conduct some kind of campaign to promote their sales.\n",
    "One of the current authors is still J. K. Rowling with illustrator Mary GrandPré, so do not forget about Harry Potter books."
   ]
  }
 ],
 "metadata": {
  "ExecuteTimeLog": [
   {
    "duration": 17162,
    "start_time": "2023-06-17T10:36:25.824Z"
   },
   {
    "duration": 3,
    "start_time": "2023-06-17T10:36:42.988Z"
   },
   {
    "duration": 284,
    "start_time": "2023-06-17T10:36:42.992Z"
   },
   {
    "duration": 103,
    "start_time": "2023-06-17T10:36:43.278Z"
   },
   {
    "duration": 99,
    "start_time": "2023-06-17T10:36:43.382Z"
   },
   {
    "duration": 85,
    "start_time": "2023-06-17T10:36:43.483Z"
   },
   {
    "duration": 109,
    "start_time": "2023-06-17T10:36:43.569Z"
   },
   {
    "duration": 93,
    "start_time": "2023-06-17T10:36:43.680Z"
   },
   {
    "duration": 104,
    "start_time": "2023-06-17T10:36:43.774Z"
   },
   {
    "duration": 95,
    "start_time": "2023-06-17T10:36:43.880Z"
   },
   {
    "duration": 145,
    "start_time": "2023-06-17T10:36:43.976Z"
   },
   {
    "duration": 104,
    "start_time": "2023-06-17T10:36:44.124Z"
   },
   {
    "duration": 102,
    "start_time": "2023-06-17T10:36:44.230Z"
   },
   {
    "duration": 122,
    "start_time": "2023-06-17T10:36:44.333Z"
   },
   {
    "duration": 98,
    "start_time": "2023-06-17T10:36:44.457Z"
   },
   {
    "duration": 95,
    "start_time": "2023-06-17T10:36:44.557Z"
   },
   {
    "duration": 110,
    "start_time": "2023-06-17T10:36:44.654Z"
   },
   {
    "duration": 113,
    "start_time": "2023-06-17T10:36:44.765Z"
   },
   {
    "duration": 99,
    "start_time": "2023-06-17T10:36:44.879Z"
   },
   {
    "duration": 2,
    "start_time": "2023-06-17T10:36:44.980Z"
   },
   {
    "duration": 147,
    "start_time": "2023-06-17T10:36:44.984Z"
   },
   {
    "duration": 99,
    "start_time": "2023-06-17T10:36:45.132Z"
   },
   {
    "duration": 8793,
    "start_time": "2023-06-17T10:44:38.731Z"
   },
   {
    "duration": 4,
    "start_time": "2023-06-17T10:44:47.527Z"
   },
   {
    "duration": 56,
    "start_time": "2023-06-17T10:45:22.469Z"
   },
   {
    "duration": 15,
    "start_time": "2023-06-17T10:45:22.857Z"
   },
   {
    "duration": 21,
    "start_time": "2023-06-17T10:45:24.257Z"
   },
   {
    "duration": 12,
    "start_time": "2023-06-17T10:45:25.031Z"
   },
   {
    "duration": 14,
    "start_time": "2023-06-17T10:45:26.075Z"
   },
   {
    "duration": 10,
    "start_time": "2023-06-17T10:45:26.395Z"
   },
   {
    "duration": 14,
    "start_time": "2023-06-17T10:45:27.205Z"
   },
   {
    "duration": 12,
    "start_time": "2023-06-17T10:45:27.875Z"
   },
   {
    "duration": 47,
    "start_time": "2023-06-17T10:45:29.225Z"
   },
   {
    "duration": 14,
    "start_time": "2023-06-17T10:45:29.542Z"
   },
   {
    "duration": 13,
    "start_time": "2023-06-17T10:45:30.375Z"
   },
   {
    "duration": 20,
    "start_time": "2023-06-17T10:45:31.774Z"
   },
   {
    "duration": 28,
    "start_time": "2023-06-17T10:45:32.202Z"
   },
   {
    "duration": 11,
    "start_time": "2023-06-17T10:45:34.433Z"
   },
   {
    "duration": 24,
    "start_time": "2023-06-17T10:45:40.576Z"
   },
   {
    "duration": 171,
    "start_time": "2023-06-17T10:46:34.603Z"
   },
   {
    "duration": 133,
    "start_time": "2023-06-17T10:47:09.234Z"
   },
   {
    "duration": 114,
    "start_time": "2023-06-17T10:48:40.312Z"
   },
   {
    "duration": 29,
    "start_time": "2023-06-17T10:49:34.411Z"
   },
   {
    "duration": 35,
    "start_time": "2023-06-17T10:49:56.495Z"
   },
   {
    "duration": 24,
    "start_time": "2023-06-17T10:51:52.114Z"
   },
   {
    "duration": 17,
    "start_time": "2023-06-17T10:56:48.106Z"
   },
   {
    "duration": 15,
    "start_time": "2023-06-17T10:57:20.799Z"
   },
   {
    "duration": 93,
    "start_time": "2023-06-17T10:57:55.178Z"
   },
   {
    "duration": 14,
    "start_time": "2023-06-17T10:58:17.001Z"
   },
   {
    "duration": 86,
    "start_time": "2023-06-17T11:02:09.306Z"
   },
   {
    "duration": 90,
    "start_time": "2023-06-17T11:02:24.902Z"
   },
   {
    "duration": 89,
    "start_time": "2023-06-17T11:02:46.995Z"
   },
   {
    "duration": 17,
    "start_time": "2023-06-17T11:03:35.022Z"
   },
   {
    "duration": 25,
    "start_time": "2023-06-17T11:06:51.255Z"
   },
   {
    "duration": 69,
    "start_time": "2023-06-17T11:09:21.649Z"
   },
   {
    "duration": 16,
    "start_time": "2023-06-17T11:09:33.815Z"
   },
   {
    "duration": 139,
    "start_time": "2023-06-17T11:09:44.018Z"
   },
   {
    "duration": 102,
    "start_time": "2023-06-17T11:10:40.167Z"
   },
   {
    "duration": 17,
    "start_time": "2023-06-17T11:11:06.618Z"
   },
   {
    "duration": 16,
    "start_time": "2023-06-17T11:11:17.245Z"
   },
   {
    "duration": 73,
    "start_time": "2023-06-17T11:12:10.411Z"
   },
   {
    "duration": 53,
    "start_time": "2023-06-17T19:04:06.863Z"
   },
   {
    "duration": 9991,
    "start_time": "2023-06-17T19:04:12.176Z"
   },
   {
    "duration": 3,
    "start_time": "2023-06-17T19:04:22.169Z"
   },
   {
    "duration": 208,
    "start_time": "2023-06-17T19:04:22.173Z"
   },
   {
    "duration": 81,
    "start_time": "2023-06-17T19:04:22.383Z"
   },
   {
    "duration": 87,
    "start_time": "2023-06-17T19:04:22.465Z"
   },
   {
    "duration": 89,
    "start_time": "2023-06-17T19:04:22.554Z"
   },
   {
    "duration": 91,
    "start_time": "2023-06-17T19:04:22.644Z"
   },
   {
    "duration": 78,
    "start_time": "2023-06-17T19:04:22.736Z"
   },
   {
    "duration": 75,
    "start_time": "2023-06-17T19:04:22.816Z"
   },
   {
    "duration": 80,
    "start_time": "2023-06-17T19:04:22.893Z"
   },
   {
    "duration": 107,
    "start_time": "2023-06-17T19:04:22.974Z"
   },
   {
    "duration": 84,
    "start_time": "2023-06-17T19:04:23.082Z"
   },
   {
    "duration": 81,
    "start_time": "2023-06-17T19:04:23.168Z"
   },
   {
    "duration": 95,
    "start_time": "2023-06-17T19:04:23.251Z"
   },
   {
    "duration": 84,
    "start_time": "2023-06-17T19:04:23.348Z"
   },
   {
    "duration": 86,
    "start_time": "2023-06-17T19:04:23.433Z"
   },
   {
    "duration": 95,
    "start_time": "2023-06-17T19:04:23.521Z"
   },
   {
    "duration": 118,
    "start_time": "2023-06-17T19:04:37.623Z"
   },
   {
    "duration": 109,
    "start_time": "2023-06-17T19:04:56.446Z"
   },
   {
    "duration": 109,
    "start_time": "2023-06-17T19:05:05.860Z"
   },
   {
    "duration": 115,
    "start_time": "2023-06-17T19:05:16.431Z"
   },
   {
    "duration": 112,
    "start_time": "2023-06-17T19:05:35.710Z"
   },
   {
    "duration": 115,
    "start_time": "2023-06-17T19:05:42.839Z"
   },
   {
    "duration": 83,
    "start_time": "2023-06-17T19:07:14.156Z"
   },
   {
    "duration": 9944,
    "start_time": "2023-06-17T22:22:38.625Z"
   },
   {
    "duration": 4,
    "start_time": "2023-06-17T22:22:48.572Z"
   },
   {
    "duration": 196,
    "start_time": "2023-06-17T22:22:48.578Z"
   },
   {
    "duration": 80,
    "start_time": "2023-06-17T22:22:48.776Z"
   },
   {
    "duration": 78,
    "start_time": "2023-06-17T22:22:48.858Z"
   },
   {
    "duration": 75,
    "start_time": "2023-06-17T22:22:48.938Z"
   },
   {
    "duration": 80,
    "start_time": "2023-06-17T22:22:49.014Z"
   },
   {
    "duration": 77,
    "start_time": "2023-06-17T22:22:49.096Z"
   },
   {
    "duration": 83,
    "start_time": "2023-06-17T22:22:49.174Z"
   },
   {
    "duration": 76,
    "start_time": "2023-06-17T22:22:49.265Z"
   },
   {
    "duration": 109,
    "start_time": "2023-06-17T22:22:49.342Z"
   },
   {
    "duration": 80,
    "start_time": "2023-06-17T22:22:49.457Z"
   },
   {
    "duration": 74,
    "start_time": "2023-06-17T22:22:49.539Z"
   },
   {
    "duration": 93,
    "start_time": "2023-06-17T22:22:49.614Z"
   },
   {
    "duration": 75,
    "start_time": "2023-06-17T22:22:49.709Z"
   },
   {
    "duration": 77,
    "start_time": "2023-06-17T22:22:49.786Z"
   },
   {
    "duration": 89,
    "start_time": "2023-06-17T22:22:49.864Z"
   },
   {
    "duration": 86,
    "start_time": "2023-06-17T22:22:49.955Z"
   },
   {
    "duration": 76,
    "start_time": "2023-06-17T22:22:50.042Z"
   },
   {
    "duration": 2,
    "start_time": "2023-06-17T22:22:50.120Z"
   },
   {
    "duration": 105,
    "start_time": "2023-06-17T22:22:50.124Z"
   },
   {
    "duration": 79,
    "start_time": "2023-06-17T22:22:50.231Z"
   },
   {
    "duration": 77,
    "start_time": "2023-06-17T22:22:50.312Z"
   }
  ],
  "kernelspec": {
   "display_name": "Python 3 (ipykernel)",
   "language": "python",
   "name": "python3"
  },
  "language_info": {
   "codemirror_mode": {
    "name": "ipython",
    "version": 3
   },
   "file_extension": ".py",
   "mimetype": "text/x-python",
   "name": "python",
   "nbconvert_exporter": "python",
   "pygments_lexer": "ipython3",
   "version": "3.9.13"
  },
  "toc": {
   "base_numbering": 1,
   "nav_menu": {},
   "number_sections": true,
   "sideBar": true,
   "skip_h1_title": false,
   "title_cell": "Table of Contents",
   "title_sidebar": "Contents",
   "toc_cell": false,
   "toc_position": {},
   "toc_section_display": true,
   "toc_window_display": true
  }
 },
 "nbformat": 4,
 "nbformat_minor": 5
}
