{
 "cells": [
  {
   "cell_type": "markdown",
   "id": "3670f41a",
   "metadata": {},
   "source": [
    "***Предисловие***"
   ]
  },
  {
   "cell_type": "markdown",
   "id": "3bc04732",
   "metadata": {},
   "source": [
    "Данный проект состоит из двух частей: приоритизации гиоптез и анализа A/B теста. \n",
    "\n",
    "В первой части необходимо будет проверить, какие из имеющихся гипотез являются наиболее приоритетными с помощью двух методов ICE и RICE. Для этого у нас имеются все данные, к которым нужно будет применить формулы для подсчета коэффициентов ICE и RICE\n",
    "\n",
    "Во второй части будет проведен анализ A/B теста. Для данного анализа будут использованы две таблицы с данными по заказам и по посетителям. "
   ]
  },
  {
   "cell_type": "markdown",
   "id": "a9075468",
   "metadata": {},
   "source": [
    "Перед началом анализа импортируем все необходимые библиотеки"
   ]
  },
  {
   "cell_type": "code",
   "execution_count": 13,
   "id": "8375615d",
   "metadata": {},
   "outputs": [],
   "source": [
    "import matplotlib.pyplot as plt\n",
    "import pandas as pd\n",
    "from scipy import stats as st\n",
    "import datetime as dt\n",
    "import numpy as np"
   ]
  },
  {
   "cell_type": "markdown",
   "id": "dccd6f48",
   "metadata": {},
   "source": [
    "# Приоритизация гипотез"
   ]
  },
  {
   "cell_type": "markdown",
   "id": "d983c168",
   "metadata": {},
   "source": [
    "## ICE"
   ]
  },
  {
   "cell_type": "raw",
   "id": "5b018302",
   "metadata": {},
   "source": [
    "hypotheses = pd.read_csv('/datasets/hypothesis.csv')\n",
    "\n",
    "hypotheses"
   ]
  },
  {
   "cell_type": "code",
   "execution_count": 15,
   "id": "94c0ac0f",
   "metadata": {
    "scrolled": true
   },
   "outputs": [
    {
     "data": {
      "text/html": [
       "<div>\n",
       "<style scoped>\n",
       "    .dataframe tbody tr th:only-of-type {\n",
       "        vertical-align: middle;\n",
       "    }\n",
       "\n",
       "    .dataframe tbody tr th {\n",
       "        vertical-align: top;\n",
       "    }\n",
       "\n",
       "    .dataframe thead th {\n",
       "        text-align: right;\n",
       "    }\n",
       "</style>\n",
       "<table border=\"1\" class=\"dataframe\">\n",
       "  <thead>\n",
       "    <tr style=\"text-align: right;\">\n",
       "      <th></th>\n",
       "      <th>Hypothesis</th>\n",
       "      <th>Reach</th>\n",
       "      <th>Impact</th>\n",
       "      <th>Confidence</th>\n",
       "      <th>Efforts</th>\n",
       "      <th>ICE</th>\n",
       "    </tr>\n",
       "  </thead>\n",
       "  <tbody>\n",
       "    <tr>\n",
       "      <th>8</th>\n",
       "      <td>Запустить акцию, дающую скидку на товар в день...</td>\n",
       "      <td>1</td>\n",
       "      <td>9</td>\n",
       "      <td>9</td>\n",
       "      <td>5</td>\n",
       "      <td>16.20</td>\n",
       "    </tr>\n",
       "    <tr>\n",
       "      <th>0</th>\n",
       "      <td>Добавить два новых канала привлечения трафика,...</td>\n",
       "      <td>3</td>\n",
       "      <td>10</td>\n",
       "      <td>8</td>\n",
       "      <td>6</td>\n",
       "      <td>13.33</td>\n",
       "    </tr>\n",
       "    <tr>\n",
       "      <th>7</th>\n",
       "      <td>Добавить форму подписки на все основные страни...</td>\n",
       "      <td>10</td>\n",
       "      <td>7</td>\n",
       "      <td>8</td>\n",
       "      <td>5</td>\n",
       "      <td>11.20</td>\n",
       "    </tr>\n",
       "    <tr>\n",
       "      <th>6</th>\n",
       "      <td>Показать на главной странице баннеры с актуаль...</td>\n",
       "      <td>5</td>\n",
       "      <td>3</td>\n",
       "      <td>8</td>\n",
       "      <td>3</td>\n",
       "      <td>8.00</td>\n",
       "    </tr>\n",
       "    <tr>\n",
       "      <th>2</th>\n",
       "      <td>Добавить блоки рекомендаций товаров на сайт ин...</td>\n",
       "      <td>8</td>\n",
       "      <td>3</td>\n",
       "      <td>7</td>\n",
       "      <td>3</td>\n",
       "      <td>7.00</td>\n",
       "    </tr>\n",
       "    <tr>\n",
       "      <th>1</th>\n",
       "      <td>Запустить собственную службу доставки, что сок...</td>\n",
       "      <td>2</td>\n",
       "      <td>5</td>\n",
       "      <td>4</td>\n",
       "      <td>10</td>\n",
       "      <td>2.00</td>\n",
       "    </tr>\n",
       "    <tr>\n",
       "      <th>5</th>\n",
       "      <td>Добавить страницу отзывов клиентов о магазине,...</td>\n",
       "      <td>3</td>\n",
       "      <td>2</td>\n",
       "      <td>2</td>\n",
       "      <td>3</td>\n",
       "      <td>1.33</td>\n",
       "    </tr>\n",
       "    <tr>\n",
       "      <th>3</th>\n",
       "      <td>Изменить структура категорий, что увеличит кон...</td>\n",
       "      <td>8</td>\n",
       "      <td>3</td>\n",
       "      <td>3</td>\n",
       "      <td>8</td>\n",
       "      <td>1.12</td>\n",
       "    </tr>\n",
       "    <tr>\n",
       "      <th>4</th>\n",
       "      <td>Изменить цвет фона главной страницы, чтобы уве...</td>\n",
       "      <td>3</td>\n",
       "      <td>1</td>\n",
       "      <td>1</td>\n",
       "      <td>1</td>\n",
       "      <td>1.00</td>\n",
       "    </tr>\n",
       "  </tbody>\n",
       "</table>\n",
       "</div>"
      ],
      "text/plain": [
       "                                          Hypothesis  Reach  Impact  \\\n",
       "8  Запустить акцию, дающую скидку на товар в день...      1       9   \n",
       "0  Добавить два новых канала привлечения трафика,...      3      10   \n",
       "7  Добавить форму подписки на все основные страни...     10       7   \n",
       "6  Показать на главной странице баннеры с актуаль...      5       3   \n",
       "2  Добавить блоки рекомендаций товаров на сайт ин...      8       3   \n",
       "1  Запустить собственную службу доставки, что сок...      2       5   \n",
       "5  Добавить страницу отзывов клиентов о магазине,...      3       2   \n",
       "3  Изменить структура категорий, что увеличит кон...      8       3   \n",
       "4  Изменить цвет фона главной страницы, чтобы уве...      3       1   \n",
       "\n",
       "   Confidence  Efforts    ICE  \n",
       "8           9        5  16.20  \n",
       "0           8        6  13.33  \n",
       "7           8        5  11.20  \n",
       "6           8        3   8.00  \n",
       "2           7        3   7.00  \n",
       "1           4       10   2.00  \n",
       "5           2        3   1.33  \n",
       "3           3        8   1.12  \n",
       "4           1        1   1.00  "
      ]
     },
     "metadata": {},
     "output_type": "display_data"
    }
   ],
   "source": [
    "hypotheses['ICE']= round(hypotheses['Impact'] * hypotheses['Confidence'] / hypotheses['Efforts'], 2)\n",
    "\n",
    "display(hypotheses.sort_values(by='ICE', ascending=False))\n",
    "pd.options.display.max_colwidth = 130"
   ]
  },
  {
   "cell_type": "markdown",
   "id": "df7967cd",
   "metadata": {},
   "source": [
    "При использовании ICE, приоритезация гипотез изменилась. На первое место встала гипотеза под номером 8 (Запустить акцию, дающую скидку на товар в день рождения), на втором месте гипотеза под номером 0 (Добавить два новых канала привлечения трафика, что позволит привлекать на 30% больше пользователей), а на третьем - под 7 номером (Добавить форму подписки на все основные страницы, чтобы собрать базу клиентов для email-рассылок). "
   ]
  },
  {
   "cell_type": "markdown",
   "id": "7f01e245",
   "metadata": {},
   "source": [
    "## RICE\n"
   ]
  },
  {
   "cell_type": "code",
   "execution_count": 16,
   "id": "c76a3461",
   "metadata": {},
   "outputs": [
    {
     "data": {
      "text/html": [
       "<div>\n",
       "<style scoped>\n",
       "    .dataframe tbody tr th:only-of-type {\n",
       "        vertical-align: middle;\n",
       "    }\n",
       "\n",
       "    .dataframe tbody tr th {\n",
       "        vertical-align: top;\n",
       "    }\n",
       "\n",
       "    .dataframe thead th {\n",
       "        text-align: right;\n",
       "    }\n",
       "</style>\n",
       "<table border=\"1\" class=\"dataframe\">\n",
       "  <thead>\n",
       "    <tr style=\"text-align: right;\">\n",
       "      <th></th>\n",
       "      <th>Hypothesis</th>\n",
       "      <th>Reach</th>\n",
       "      <th>Impact</th>\n",
       "      <th>Confidence</th>\n",
       "      <th>Efforts</th>\n",
       "      <th>ICE</th>\n",
       "      <th>RICE</th>\n",
       "    </tr>\n",
       "  </thead>\n",
       "  <tbody>\n",
       "    <tr>\n",
       "      <th>7</th>\n",
       "      <td>Добавить форму подписки на все основные страницы, чтобы собрать базу клиентов для email-рассылок</td>\n",
       "      <td>10</td>\n",
       "      <td>7</td>\n",
       "      <td>8</td>\n",
       "      <td>5</td>\n",
       "      <td>11.20</td>\n",
       "      <td>112.0</td>\n",
       "    </tr>\n",
       "    <tr>\n",
       "      <th>2</th>\n",
       "      <td>Добавить блоки рекомендаций товаров на сайт интернет магазина, чтобы повысить конверсию и средний чек заказа</td>\n",
       "      <td>8</td>\n",
       "      <td>3</td>\n",
       "      <td>7</td>\n",
       "      <td>3</td>\n",
       "      <td>7.00</td>\n",
       "      <td>56.0</td>\n",
       "    </tr>\n",
       "    <tr>\n",
       "      <th>0</th>\n",
       "      <td>Добавить два новых канала привлечения трафика, что позволит привлекать на 30% больше пользователей</td>\n",
       "      <td>3</td>\n",
       "      <td>10</td>\n",
       "      <td>8</td>\n",
       "      <td>6</td>\n",
       "      <td>13.33</td>\n",
       "      <td>40.0</td>\n",
       "    </tr>\n",
       "    <tr>\n",
       "      <th>6</th>\n",
       "      <td>Показать на главной странице баннеры с актуальными акциями и распродажами, чтобы увеличить конверсию</td>\n",
       "      <td>5</td>\n",
       "      <td>3</td>\n",
       "      <td>8</td>\n",
       "      <td>3</td>\n",
       "      <td>8.00</td>\n",
       "      <td>40.0</td>\n",
       "    </tr>\n",
       "    <tr>\n",
       "      <th>8</th>\n",
       "      <td>Запустить акцию, дающую скидку на товар в день рождения</td>\n",
       "      <td>1</td>\n",
       "      <td>9</td>\n",
       "      <td>9</td>\n",
       "      <td>5</td>\n",
       "      <td>16.20</td>\n",
       "      <td>16.2</td>\n",
       "    </tr>\n",
       "    <tr>\n",
       "      <th>3</th>\n",
       "      <td>Изменить структура категорий, что увеличит конверсию, т.к. пользователи быстрее найдут нужный товар</td>\n",
       "      <td>8</td>\n",
       "      <td>3</td>\n",
       "      <td>3</td>\n",
       "      <td>8</td>\n",
       "      <td>1.12</td>\n",
       "      <td>9.0</td>\n",
       "    </tr>\n",
       "    <tr>\n",
       "      <th>1</th>\n",
       "      <td>Запустить собственную службу доставки, что сократит срок доставки заказов</td>\n",
       "      <td>2</td>\n",
       "      <td>5</td>\n",
       "      <td>4</td>\n",
       "      <td>10</td>\n",
       "      <td>2.00</td>\n",
       "      <td>4.0</td>\n",
       "    </tr>\n",
       "    <tr>\n",
       "      <th>5</th>\n",
       "      <td>Добавить страницу отзывов клиентов о магазине, что позволит увеличить количество заказов</td>\n",
       "      <td>3</td>\n",
       "      <td>2</td>\n",
       "      <td>2</td>\n",
       "      <td>3</td>\n",
       "      <td>1.33</td>\n",
       "      <td>4.0</td>\n",
       "    </tr>\n",
       "    <tr>\n",
       "      <th>4</th>\n",
       "      <td>Изменить цвет фона главной страницы, чтобы увеличить вовлеченность пользователей</td>\n",
       "      <td>3</td>\n",
       "      <td>1</td>\n",
       "      <td>1</td>\n",
       "      <td>1</td>\n",
       "      <td>1.00</td>\n",
       "      <td>3.0</td>\n",
       "    </tr>\n",
       "  </tbody>\n",
       "</table>\n",
       "</div>"
      ],
      "text/plain": [
       "                                                                                                     Hypothesis  \\\n",
       "7              Добавить форму подписки на все основные страницы, чтобы собрать базу клиентов для email-рассылок   \n",
       "2  Добавить блоки рекомендаций товаров на сайт интернет магазина, чтобы повысить конверсию и средний чек заказа   \n",
       "0            Добавить два новых канала привлечения трафика, что позволит привлекать на 30% больше пользователей   \n",
       "6          Показать на главной странице баннеры с актуальными акциями и распродажами, чтобы увеличить конверсию   \n",
       "8                                                       Запустить акцию, дающую скидку на товар в день рождения   \n",
       "3           Изменить структура категорий, что увеличит конверсию, т.к. пользователи быстрее найдут нужный товар   \n",
       "1                                     Запустить собственную службу доставки, что сократит срок доставки заказов   \n",
       "5                      Добавить страницу отзывов клиентов о магазине, что позволит увеличить количество заказов   \n",
       "4                              Изменить цвет фона главной страницы, чтобы увеличить вовлеченность пользователей   \n",
       "\n",
       "   Reach  Impact  Confidence  Efforts    ICE   RICE  \n",
       "7     10       7           8        5  11.20  112.0  \n",
       "2      8       3           7        3   7.00   56.0  \n",
       "0      3      10           8        6  13.33   40.0  \n",
       "6      5       3           8        3   8.00   40.0  \n",
       "8      1       9           9        5  16.20   16.2  \n",
       "3      8       3           3        8   1.12    9.0  \n",
       "1      2       5           4       10   2.00    4.0  \n",
       "5      3       2           2        3   1.33    4.0  \n",
       "4      3       1           1        1   1.00    3.0  "
      ]
     },
     "metadata": {},
     "output_type": "display_data"
    }
   ],
   "source": [
    "hypotheses['RICE']= round(hypotheses['Reach'] * hypotheses['Impact'] * hypotheses['Confidence'] / hypotheses['Efforts'], 2)\n",
    "\n",
    "display(hypotheses.sort_values(by='RICE', ascending=False))\n",
    "pd.options.display.max_colwidth = 130"
   ]
  },
  {
   "cell_type": "markdown",
   "id": "a1d619fa",
   "metadata": {},
   "source": [
    "При использовании RICE, распределение гипотез немного сменилось, на втором месте теперь находится гипотеза под номером 7 (Добавить форму подписки на все основные страницы, чтобы собрать базу клиентов для email-рассылок), на второе место поднялась гипотеза под номером 2 (Добавить блоки рекомендаций товаров на сайт интернет магазина, чтобы повысить конверсию и средний чек заказа). Это произошло благодаря принятию во внимание еще одного показателя - охвата. А на третьем месте оказалась гипотеза под номером 0 (Добавить два новых канала привлечения трафика, что позволит привлекать на 30% больше пользователей\t)."
   ]
  },
  {
   "cell_type": "markdown",
   "id": "109f66ba",
   "metadata": {},
   "source": [
    "# Часть два"
   ]
  },
  {
   "cell_type": "markdown",
   "id": "41435bab",
   "metadata": {},
   "source": [
    "## Выгрузка данных"
   ]
  },
  {
   "cell_type": "code",
   "execution_count": 17,
   "id": "f651c68b",
   "metadata": {
    "scrolled": false
   },
   "outputs": [
    {
     "name": "stdout",
     "output_type": "stream",
     "text": [
      "   transactionId   visitorId       date  revenue group\n",
      "0     3667963787  3312258926 2019-08-15     1650     B\n",
      "1     2804400009  3642806036 2019-08-15      730     B\n",
      "2     2961555356  4069496402 2019-08-15      400     A\n",
      "3     3797467345  1196621759 2019-08-15     9759     B\n",
      "4     2282983706  2322279887 2019-08-15     2308     B\n",
      "        date group  visitors\n",
      "0 2019-08-01     A       719\n",
      "1 2019-08-02     A       619\n",
      "2 2019-08-03     A       507\n",
      "3 2019-08-04     A       717\n",
      "4 2019-08-05     A       756\n"
     ]
    }
   ],
   "source": [
    "orders = pd.read_csv('/datasets/orders.csv')\n",
    "\n",
    "orders['date'] = orders['date'].map(lambda x: dt.datetime.strptime(x, '%Y-%m-%d'))\n",
    "\n",
    "visitors = pd.read_csv('/datasets/visitors.csv')\n",
    "\n",
    "visitors['date'] = visitors['date'].map(lambda x: dt.datetime.strptime(x, '%Y-%m-%d'))\n",
    "\n",
    "\n",
    "print(orders.head())\n",
    "\n",
    "print(visitors.head()) "
   ]
  },
  {
   "cell_type": "code",
   "execution_count": 18,
   "id": "10608f2f",
   "metadata": {},
   "outputs": [
    {
     "name": "stdout",
     "output_type": "stream",
     "text": [
      "False    1197\n",
      "dtype: int64\n",
      "False    62\n",
      "dtype: int64\n"
     ]
    }
   ],
   "source": [
    "print(orders.duplicated().value_counts())\n",
    "\n",
    "print(visitors.duplicated().value_counts())"
   ]
  },
  {
   "cell_type": "code",
   "execution_count": 19,
   "id": "63422235",
   "metadata": {},
   "outputs": [
    {
     "name": "stdout",
     "output_type": "stream",
     "text": [
      "<class 'pandas.core.frame.DataFrame'>\n",
      "RangeIndex: 1197 entries, 0 to 1196\n",
      "Data columns (total 5 columns):\n",
      " #   Column         Non-Null Count  Dtype         \n",
      "---  ------         --------------  -----         \n",
      " 0   transactionId  1197 non-null   int64         \n",
      " 1   visitorId      1197 non-null   int64         \n",
      " 2   date           1197 non-null   datetime64[ns]\n",
      " 3   revenue        1197 non-null   int64         \n",
      " 4   group          1197 non-null   object        \n",
      "dtypes: datetime64[ns](1), int64(3), object(1)\n",
      "memory usage: 46.9+ KB\n"
     ]
    }
   ],
   "source": [
    "orders.info()"
   ]
  },
  {
   "cell_type": "code",
   "execution_count": 20,
   "id": "9314901b",
   "metadata": {},
   "outputs": [
    {
     "name": "stdout",
     "output_type": "stream",
     "text": [
      "<class 'pandas.core.frame.DataFrame'>\n",
      "RangeIndex: 62 entries, 0 to 61\n",
      "Data columns (total 3 columns):\n",
      " #   Column    Non-Null Count  Dtype         \n",
      "---  ------    --------------  -----         \n",
      " 0   date      62 non-null     datetime64[ns]\n",
      " 1   group     62 non-null     object        \n",
      " 2   visitors  62 non-null     int64         \n",
      "dtypes: datetime64[ns](1), int64(1), object(1)\n",
      "memory usage: 1.6+ KB\n"
     ]
    }
   ],
   "source": [
    "visitors.info()"
   ]
  },
  {
   "cell_type": "markdown",
   "id": "26ac1e74",
   "metadata": {},
   "source": [
    "Дубликатов не обнаружено. По информации о таблицах с данными, пропусков в данных нет."
   ]
  },
  {
   "cell_type": "code",
   "execution_count": 21,
   "id": "61ef48da",
   "metadata": {},
   "outputs": [
    {
     "name": "stdout",
     "output_type": "stream",
     "text": [
      "Начало интервала для исследования: 2019-08-01 00:00:00\n",
      "Конец интервала для исследования: 2019-08-31 00:00:00\n"
     ]
    }
   ],
   "source": [
    "print('Начало интервала для исследования:',orders['date'].min())\n",
    "print('Конец интервала для исследования:',orders['date'].max())"
   ]
  },
  {
   "cell_type": "code",
   "execution_count": 22,
   "id": "345c37ec",
   "metadata": {},
   "outputs": [
    {
     "data": {
      "text/html": [
       "<div>\n",
       "<style scoped>\n",
       "    .dataframe tbody tr th:only-of-type {\n",
       "        vertical-align: middle;\n",
       "    }\n",
       "\n",
       "    .dataframe tbody tr th {\n",
       "        vertical-align: top;\n",
       "    }\n",
       "\n",
       "    .dataframe thead th {\n",
       "        text-align: right;\n",
       "    }\n",
       "</style>\n",
       "<table border=\"1\" class=\"dataframe\">\n",
       "  <thead>\n",
       "    <tr style=\"text-align: right;\">\n",
       "      <th></th>\n",
       "      <th>visitorId</th>\n",
       "    </tr>\n",
       "    <tr>\n",
       "      <th>group</th>\n",
       "      <th></th>\n",
       "    </tr>\n",
       "  </thead>\n",
       "  <tbody>\n",
       "    <tr>\n",
       "      <th>A</th>\n",
       "      <td>557</td>\n",
       "    </tr>\n",
       "    <tr>\n",
       "      <th>B</th>\n",
       "      <td>640</td>\n",
       "    </tr>\n",
       "  </tbody>\n",
       "</table>\n",
       "</div>"
      ],
      "text/plain": [
       "       visitorId\n",
       "group           \n",
       "A            557\n",
       "B            640"
      ]
     },
     "execution_count": 22,
     "metadata": {},
     "output_type": "execute_result"
    }
   ],
   "source": [
    "cnt_visitors_by_group = orders.pivot_table(index='group', values='visitorId', aggfunc='count')\n",
    "cnt_visitors_by_group"
   ]
  },
  {
   "cell_type": "markdown",
   "id": "98bbf9db",
   "metadata": {},
   "source": [
    "В тесте у нас две группы. И в группе B у нас 640 посетителей, а в группе А 557"
   ]
  },
  {
   "cell_type": "markdown",
   "id": "c7095974",
   "metadata": {},
   "source": [
    "## Кумулятивная выручка по группам "
   ]
  },
  {
   "cell_type": "code",
   "execution_count": 23,
   "id": "acd6eea5",
   "metadata": {},
   "outputs": [],
   "source": [
    "data = orders[['date','group']].drop_duplicates().sort_values(by=['date', 'group'])\n",
    "\n",
    "ordersAggr = data.apply(lambda x: orders[np.logical_and(x['date'] >= orders['date'], x['group']==orders['group'])]\\\n",
    ".agg({'date':'max', 'group':'max', 'transactionId':'nunique', 'visitorId':'nunique', 'revenue':'sum'}), axis = 1).\\\n",
    "sort_values(by=['date','group'])\n",
    "\n",
    "ordersAggr.columns = ['date', 'group', 'orders', 'buyers', 'revenue']\n",
    "\n",
    "visitorsAggr = data.apply(lambda x: visitors[np.logical_and(x['date'] >= visitors['date'], x['group']==visitors['group'])]\\\n",
    ".agg({'date':'max', 'group':'max', 'visitors':'sum'}), axis = 1).sort_values(by=['date','group'])\n",
    "\n",
    "cummulativeData = ordersAggr.merge(visitorsAggr, left_on=['date', 'group'], right_on=['date', 'group'])"
   ]
  },
  {
   "cell_type": "code",
   "execution_count": 24,
   "id": "40e9d035",
   "metadata": {},
   "outputs": [
    {
     "data": {
      "text/html": [
       "<div>\n",
       "<style scoped>\n",
       "    .dataframe tbody tr th:only-of-type {\n",
       "        vertical-align: middle;\n",
       "    }\n",
       "\n",
       "    .dataframe tbody tr th {\n",
       "        vertical-align: top;\n",
       "    }\n",
       "\n",
       "    .dataframe thead th {\n",
       "        text-align: right;\n",
       "    }\n",
       "</style>\n",
       "<table border=\"1\" class=\"dataframe\">\n",
       "  <thead>\n",
       "    <tr style=\"text-align: right;\">\n",
       "      <th></th>\n",
       "      <th>date</th>\n",
       "      <th>group</th>\n",
       "      <th>orders</th>\n",
       "      <th>buyers</th>\n",
       "      <th>revenue</th>\n",
       "      <th>visitors</th>\n",
       "    </tr>\n",
       "  </thead>\n",
       "  <tbody>\n",
       "    <tr>\n",
       "      <th>0</th>\n",
       "      <td>2019-08-01</td>\n",
       "      <td>A</td>\n",
       "      <td>24</td>\n",
       "      <td>20</td>\n",
       "      <td>148579</td>\n",
       "      <td>719</td>\n",
       "    </tr>\n",
       "    <tr>\n",
       "      <th>1</th>\n",
       "      <td>2019-08-01</td>\n",
       "      <td>B</td>\n",
       "      <td>21</td>\n",
       "      <td>20</td>\n",
       "      <td>101217</td>\n",
       "      <td>713</td>\n",
       "    </tr>\n",
       "    <tr>\n",
       "      <th>2</th>\n",
       "      <td>2019-08-02</td>\n",
       "      <td>A</td>\n",
       "      <td>44</td>\n",
       "      <td>38</td>\n",
       "      <td>242401</td>\n",
       "      <td>1338</td>\n",
       "    </tr>\n",
       "    <tr>\n",
       "      <th>3</th>\n",
       "      <td>2019-08-02</td>\n",
       "      <td>B</td>\n",
       "      <td>45</td>\n",
       "      <td>43</td>\n",
       "      <td>266748</td>\n",
       "      <td>1294</td>\n",
       "    </tr>\n",
       "    <tr>\n",
       "      <th>4</th>\n",
       "      <td>2019-08-03</td>\n",
       "      <td>A</td>\n",
       "      <td>68</td>\n",
       "      <td>62</td>\n",
       "      <td>354874</td>\n",
       "      <td>1845</td>\n",
       "    </tr>\n",
       "  </tbody>\n",
       "</table>\n",
       "</div>"
      ],
      "text/plain": [
       "        date group  orders  buyers  revenue  visitors\n",
       "0 2019-08-01     A      24      20   148579       719\n",
       "1 2019-08-01     B      21      20   101217       713\n",
       "2 2019-08-02     A      44      38   242401      1338\n",
       "3 2019-08-02     B      45      43   266748      1294\n",
       "4 2019-08-03     A      68      62   354874      1845"
      ]
     },
     "execution_count": 24,
     "metadata": {},
     "output_type": "execute_result"
    }
   ],
   "source": [
    "cummulativeData.head()"
   ]
  },
  {
   "cell_type": "markdown",
   "id": "92f621d5",
   "metadata": {},
   "source": [
    "Подготовили кумулятивную таблицу, соединив данные из orders и visitors, в которую вошли дата, группа (А/В), кол-во покупателей, выручка, кол-во заказов и кол-во посетителей. Далее посторим график кумулятивной выручки по группам."
   ]
  },
  {
   "cell_type": "code",
   "execution_count": 25,
   "id": "5c55b83e",
   "metadata": {},
   "outputs": [
    {
     "data": {
      "image/png": "[encoded data removed]",
      "text/plain": [
       "<Figure size 1080x720 with 1 Axes>"
      ]
     },
     "metadata": {
      "needs_background": "light"
     },
     "output_type": "display_data"
    }
   ],
   "source": [
    "cummulativeDataA = cummulativeData[cummulativeData['group']=='A']\n",
    "\n",
    "cummulativeDataB = cummulativeData[cummulativeData['group']=='B']\n",
    "\n",
    "plt.figure(figsize=(15,10))\n",
    "\n",
    "plt.plot(cummulativeDataA['date'], cummulativeDataA['revenue'], label = 'A')\n",
    "\n",
    "plt.plot(cummulativeDataB['date'], cummulativeDataB['revenue'], label = 'B')\n",
    "\n",
    "plt.title('Кумулятивная выручка по группам A/B')\n",
    "plt.ylabel('Выручка')\n",
    "plt.xlabel('Дата')\n",
    "plt.legend() \n",
    "plt.show();"
   ]
  },
  {
   "cell_type": "markdown",
   "id": "9645fd78",
   "metadata": {},
   "source": [
    "Большую часть выручки приносит группа B, и с течением времени именно по группе B выручка имеет наибольший рост. К концу периода разрыв между выручкой групп становится только больше. Но для обеих групп выручка растет на протяжении всего периода. В выручку группы B есть один резкий скачок, мог произойти всплеск числа заказов, или производились более дорогостоющие заказы"
   ]
  },
  {
   "cell_type": "markdown",
   "id": "8afeba23",
   "metadata": {},
   "source": [
    "## Кумулятивный средний чек по группам"
   ]
  },
  {
   "cell_type": "code",
   "execution_count": 26,
   "id": "76b78c06",
   "metadata": {},
   "outputs": [
    {
     "data": {
      "image/png": "[encoded data removed]",
      "text/plain": [
       "<Figure size 720x504 with 1 Axes>"
      ]
     },
     "metadata": {
      "needs_background": "light"
     },
     "output_type": "display_data"
    }
   ],
   "source": [
    "plt.figure(figsize=(10,7))\n",
    "\n",
    "plt.plot(cummulativeDataA['date'], cummulativeDataA['revenue']/cummulativeDataA['orders'], label = 'A')\n",
    "\n",
    "plt.plot(cummulativeDataB['date'], cummulativeDataB['revenue']/cummulativeDataB['orders'], label = 'B')\n",
    "\n",
    "plt.title('Кумулятивный средний чек по группам A/B')\n",
    "plt.ylabel('Средний чек')\n",
    "plt.xlabel('Дата')\n",
    "plt.legend()\n",
    "plt.show();"
   ]
  },
  {
   "cell_type": "markdown",
   "id": "34dc81f2",
   "metadata": {},
   "source": [
    "Разрыв в среднем чеке к концу периода также увеличивается, что как раз может свидетельствовать о том, что в определенный момент в группе B стали появляться более дорогие заказы, так как на графики со средним чеком также виден скачок в размере чека группы B"
   ]
  },
  {
   "cell_type": "markdown",
   "id": "5fe8b5eb",
   "metadata": {},
   "source": [
    "## Относительное изменение кумулятивного среднего чека группы B к группе A "
   ]
  },
  {
   "cell_type": "code",
   "execution_count": 27,
   "id": "3d0a6890",
   "metadata": {},
   "outputs": [
    {
     "data": {
      "image/png": "[encoded data removed]",
      "text/plain": [
       "<Figure size 720x504 with 1 Axes>"
      ]
     },
     "metadata": {
      "needs_background": "light"
     },
     "output_type": "display_data"
    }
   ],
   "source": [
    "mergedCummulativeData = cummulativeDataA.merge(cummulativeDataB, left_on='date', right_on='date', suffixes=['A', 'B'])\n",
    "\n",
    "plt.figure(figsize=(10,7))\n",
    "\n",
    "plt.plot(mergedCummulativeData['date'], ((mergedCummulativeData['revenueB']/mergedCummulativeData['ordersB'])/(mergedCummulativeData['revenueA']/mergedCummulativeData['ordersA'])-1))\n",
    "\n",
    "plt.title('Относительное изменение кумулятивного среднего чека группы B к группе A')\n",
    "plt.xlabel('Дата')\n",
    "plt.axhline(y=0, color='black', linestyle = '--')\n",
    "plt.show();"
   ]
  },
  {
   "cell_type": "markdown",
   "id": "2bbbab9d",
   "metadata": {},
   "source": [
    "В нескольких точках график различия между сегментами резко изменяется, то есть предположение об аномальных стоимостях заказов верно."
   ]
  },
  {
   "cell_type": "markdown",
   "id": "1089454c",
   "metadata": {},
   "source": [
    "## Кумулятивное среднее количество заказов на посетителя по группам"
   ]
  },
  {
   "cell_type": "code",
   "execution_count": 28,
   "id": "7a824c76",
   "metadata": {},
   "outputs": [
    {
     "data": {
      "image/png": "[encoded data removed]",
      "text/plain": [
       "<Figure size 720x504 with 1 Axes>"
      ]
     },
     "metadata": {
      "needs_background": "light"
     },
     "output_type": "display_data"
    }
   ],
   "source": [
    "mergedCummulativeData['orders_to_usersA'] =  mergedCummulativeData['ordersA'] / mergedCummulativeData['visitorsA'] \n",
    "\n",
    "mergedCummulativeData['orders_to_usersB'] =  mergedCummulativeData['ordersB'] / mergedCummulativeData['visitorsB']\n",
    "\n",
    "plt.figure(figsize=(10,7))\n",
    "\n",
    "plt.plot(mergedCummulativeData['date'], mergedCummulativeData['orders_to_usersA'], label='A')\n",
    "\n",
    "plt.plot(mergedCummulativeData['date'], mergedCummulativeData['orders_to_usersB'], label='B')\n",
    "\n",
    "plt.title('Кумулятивное среднее количество заказов на посетителя по группам')\n",
    "plt.xlabel('Дата')\n",
    "plt.legend()\n",
    "plt.show();"
   ]
  },
  {
   "cell_type": "markdown",
   "id": "8ac833bf",
   "metadata": {},
   "source": [
    "Среднее кол-во заказов из группы А в начале имеет резкое падение,а группа B на протяжении всего периода демонстрирует рост в кол-ве средних заказов."
   ]
  },
  {
   "cell_type": "markdown",
   "id": "3425eda9",
   "metadata": {},
   "source": [
    "## Относительное изменение кумулятивного среднего количества заказов на посетителя группы B к группе A"
   ]
  },
  {
   "cell_type": "code",
   "execution_count": 29,
   "id": "f21e52c1",
   "metadata": {},
   "outputs": [
    {
     "data": {
      "image/png": "[encoded data removed]",
      "text/plain": [
       "<Figure size 720x360 with 1 Axes>"
      ]
     },
     "metadata": {
      "needs_background": "light"
     },
     "output_type": "display_data"
    }
   ],
   "source": [
    "plt.figure(figsize=(10,5))\n",
    "\n",
    "plt.plot(mergedCummulativeData['date'], ((mergedCummulativeData['orders_to_usersB']/mergedCummulativeData['orders_to_usersA'])-1))\n",
    "\n",
    "plt.axhline(y=0, color='black', linestyle='--')\n",
    "plt.axhline(y=0.1, color='grey', linestyle='--')\n",
    "plt.title('Относительное изменение кумулятивного среднего количества заказов на посетителя группы B к группе A')\n",
    "plt.xlabel('Дата')\n",
    "plt.show();"
   ]
  },
  {
   "cell_type": "markdown",
   "id": "d01d0697",
   "metadata": {},
   "source": [
    "Кумулятивное среднее число заказов в группе B стабильно больше на 10%, чем в группе А"
   ]
  },
  {
   "cell_type": "markdown",
   "id": "78c8aa5c",
   "metadata": {},
   "source": [
    "## Точечный график количества заказов по пользователям"
   ]
  },
  {
   "cell_type": "code",
   "execution_count": 30,
   "id": "31edcb5a",
   "metadata": {},
   "outputs": [
    {
     "data": {
      "image/png": "[encoded data removed]",
      "text/plain": [
       "<Figure size 432x288 with 1 Axes>"
      ]
     },
     "metadata": {
      "needs_background": "light"
     },
     "output_type": "display_data"
    }
   ],
   "source": [
    "ordersByUsers = orders.groupby('visitorId', as_index = False).agg({'transactionId':'nunique'})\n",
    "\n",
    "ordersByUsers.columns = ['visitorId', 'orders']\n",
    "\n",
    "x_values = pd.Series(range(0,len(ordersByUsers)))\n",
    "\n",
    "plt.title('Количество заказов по пользователям')\n",
    "plt.scatter(x_values, ordersByUsers['orders']) \n",
    "plt.show();"
   ]
  },
  {
   "cell_type": "markdown",
   "id": "3dbb1786",
   "metadata": {},
   "source": [
    "Из графика выше можно сделать вывод, что посетители сайта чаще всего совершают всего один заказ, данные по посетителям с кол-ом заказов больше одного - выбросы. "
   ]
  },
  {
   "cell_type": "markdown",
   "id": "c2176cc8",
   "metadata": {},
   "source": [
    "## Посчитаем 95-й и 99-й перцентили количества заказов на пользователя"
   ]
  },
  {
   "cell_type": "code",
   "execution_count": 31,
   "id": "8352a3b3",
   "metadata": {},
   "outputs": [
    {
     "name": "stdout",
     "output_type": "stream",
     "text": [
      "[2. 4.]\n"
     ]
    }
   ],
   "source": [
    "percentiles = np.percentile(ordersByUsers['orders'], [95, 99])\n",
    "print(percentiles)"
   ]
  },
  {
   "cell_type": "markdown",
   "id": "8f4e6ab7",
   "metadata": {},
   "source": [
    "***Больше 2 заказов совершают только 5% пользователей.*** То есть разумно выбрать 2 заказа на посетителя за верхнюю границу числа заказов, далее чистить данные по ней"
   ]
  },
  {
   "cell_type": "markdown",
   "id": "ad16a655",
   "metadata": {},
   "source": [
    "## Точечный график стоимости заказов "
   ]
  },
  {
   "cell_type": "code",
   "execution_count": 32,
   "id": "f06bd239",
   "metadata": {},
   "outputs": [
    {
     "data": {
      "text/plain": [
       "<matplotlib.collections.PathCollection at 0x7f3ee3ad0eb0>"
      ]
     },
     "execution_count": 32,
     "metadata": {},
     "output_type": "execute_result"
    },
    {
     "data": {
      "image/png": "[encoded data removed]",
      "text/plain": [
       "<Figure size 720x360 with 1 Axes>"
      ]
     },
     "metadata": {
      "needs_background": "light"
     },
     "output_type": "display_data"
    }
   ],
   "source": [
    "x_values = pd.Series(range(0, len(orders)))\n",
    "\n",
    "plt.figure(figsize=(10,5))\n",
    "\n",
    "plt.scatter(x_values, orders['revenue'])\n"
   ]
  },
  {
   "cell_type": "markdown",
   "id": "23161d7a",
   "metadata": {},
   "source": [
    "По графику без ограничений по стоимости заказа видно, что все заказы, у которых стоимость выше примерно 40 тысяч, являются аномальными в для данного исследования."
   ]
  },
  {
   "cell_type": "code",
   "execution_count": 33,
   "id": "dfc99958",
   "metadata": {
    "scrolled": true
   },
   "outputs": [
    {
     "data": {
      "image/png": "[encoded data removed]",
      "text/plain": [
       "<Figure size 720x360 with 1 Axes>"
      ]
     },
     "metadata": {
      "needs_background": "light"
     },
     "output_type": "display_data"
    }
   ],
   "source": [
    "x_values = pd.Series(range(0, len(orders)))\n",
    "\n",
    "plt.figure(figsize=(10,5))\n",
    "\n",
    "plt.scatter(x_values, orders['revenue'])\n",
    "\n",
    "plt.title('График стоимости заказов')\n",
    "plt.axis([0, 1200, 0, 200000])\n",
    "plt.show();"
   ]
  },
  {
   "cell_type": "markdown",
   "id": "d9539ed1",
   "metadata": {},
   "source": [
    "Как и предполагалось, большая часть заказов по стоимости находится в пределах примерно 25000"
   ]
  },
  {
   "cell_type": "markdown",
   "id": "55c93cce",
   "metadata": {},
   "source": [
    "## Посчитаем 95-й и 99-й перцентили стоимости заказов"
   ]
  },
  {
   "cell_type": "code",
   "execution_count": 34,
   "id": "38fd2623",
   "metadata": {},
   "outputs": [
    {
     "name": "stdout",
     "output_type": "stream",
     "text": [
      "[28000.  58233.2]\n"
     ]
    }
   ],
   "source": [
    "percentiles = np.percentile(orders['revenue'], [95, 99])\n",
    "\n",
    "print(percentiles)"
   ]
  },
  {
   "cell_type": "markdown",
   "id": "de80ff27",
   "metadata": {},
   "source": [
    "***5% заказов дороже 28000 р***"
   ]
  },
  {
   "cell_type": "markdown",
   "id": "5013658e",
   "metadata": {},
   "source": [
    "## Статистическая значимость различий в среднем количестве заказов на посетителя"
   ]
  },
  {
   "cell_type": "markdown",
   "id": "cdc32d00",
   "metadata": {},
   "source": [
    "Подготовим \"сырые\" данные "
   ]
  },
  {
   "cell_type": "code",
   "execution_count": 35,
   "id": "9dadd556",
   "metadata": {},
   "outputs": [
    {
     "name": "stdout",
     "output_type": "stream",
     "text": [
      "        date  ordersPerDateA  revenuePerDateA  ordersPerDateB  \\\n",
      "0 2019-08-01              24           148579              21   \n",
      "1 2019-08-02              20            93822              24   \n",
      "2 2019-08-03              24           112473              16   \n",
      "3 2019-08-04              16            70825              17   \n",
      "4 2019-08-05              25           124218              23   \n",
      "\n",
      "   revenuePerDateB  ordersCummulativeA  revenueCummulativeA  \\\n",
      "0           101217                  24               148579   \n",
      "1           165531                  44               242401   \n",
      "2           114248                  68               354874   \n",
      "3           108571                  84               425699   \n",
      "4            92428                 109               549917   \n",
      "\n",
      "   ordersCummulativeB  revenueCummulativeB  visitorsPerDateA  \\\n",
      "0                  21               101217               719   \n",
      "1                  45               266748               619   \n",
      "2                  61               380996               507   \n",
      "3                  78               489567               717   \n",
      "4                 101               581995               756   \n",
      "\n",
      "   visitorsPerDateB  visitorsCummulativeA  visitorsCummulativeB  \n",
      "0               713                   719                   713  \n",
      "1               581                  1338                  1294  \n",
      "2               509                  1845                  1803  \n",
      "3               770                  2562                  2573  \n",
      "4               707                  3318                  3280  \n"
     ]
    }
   ],
   "source": [
    "visitorsADaily = visitors[visitors['group'] == 'A'][['date', 'visitors']]\n",
    "visitorsADaily.columns = ['date', 'visitorsPerDateA']\n",
    "\n",
    "visitorsACummulative = visitorsADaily.apply(\n",
    "    lambda x: visitorsADaily[visitorsADaily['date'] <= x['date']].agg(\n",
    "        {'date': 'max', 'visitorsPerDateA': 'sum'}\n",
    "    ),\n",
    "    axis=1,\n",
    ")\n",
    "visitorsACummulative.columns = ['date', 'visitorsCummulativeA']\n",
    "\n",
    "visitorsBDaily = visitors[visitors['group'] == 'B'][['date', 'visitors']]\n",
    "visitorsBDaily.columns = ['date', 'visitorsPerDateB']\n",
    "\n",
    "visitorsBCummulative = visitorsBDaily.apply(\n",
    "    lambda x: visitorsBDaily[visitorsBDaily['date'] <= x['date']].agg(\n",
    "        {'date': 'max', 'visitorsPerDateB': 'sum'}\n",
    "    ),\n",
    "    axis=1,\n",
    ")\n",
    "visitorsBCummulative.columns = ['date', 'visitorsCummulativeB']\n",
    "\n",
    "ordersADaily = (\n",
    "    orders[orders['group'] == 'A'][['date', 'transactionId', 'visitorId', 'revenue']]\n",
    "    .groupby('date', as_index=False)\n",
    "    .agg({'transactionId': pd.Series.nunique, 'revenue': 'sum'})\n",
    ")\n",
    "ordersADaily.columns = ['date', 'ordersPerDateA', 'revenuePerDateA']\n",
    "\n",
    "ordersACummulative = ordersADaily.apply(\n",
    "    lambda x: ordersADaily[ordersADaily['date'] <= x['date']].agg(\n",
    "        {'date': 'max', 'ordersPerDateA': 'sum', 'revenuePerDateA': 'sum'}\n",
    "    ),\n",
    "    axis=1,\n",
    ").sort_values(by=['date'])\n",
    "ordersACummulative.columns = [\n",
    "    'date',\n",
    "    'ordersCummulativeA',\n",
    "    'revenueCummulativeA',\n",
    "]\n",
    "\n",
    "ordersBDaily = (\n",
    "    orders[orders['group'] == 'B'][['date', 'transactionId', 'visitorId', 'revenue']]\n",
    "    .groupby('date', as_index=False)\n",
    "    .agg({'transactionId': pd.Series.nunique, 'revenue': 'sum'})\n",
    ")\n",
    "ordersBDaily.columns = ['date', 'ordersPerDateB', 'revenuePerDateB']\n",
    "\n",
    "ordersBCummulative = ordersBDaily.apply(\n",
    "    lambda x: ordersBDaily[ordersBDaily['date'] <= x['date']].agg(\n",
    "        {'date': 'max', 'ordersPerDateB': 'sum', 'revenuePerDateB': 'sum'}\n",
    "    ),\n",
    "    axis=1,\n",
    ").sort_values(by=['date'])\n",
    "ordersBCummulative.columns = [\n",
    "    'date',\n",
    "    'ordersCummulativeB',\n",
    "    'revenueCummulativeB',\n",
    "]\n",
    "\n",
    "data = (\n",
    "    ordersADaily.merge(\n",
    "        ordersBDaily, left_on='date', right_on='date', how='left'\n",
    "    )\n",
    "    .merge(ordersACummulative, left_on='date', right_on='date', how='left')\n",
    "    .merge(ordersBCummulative, left_on='date', right_on='date', how='left')\n",
    "    .merge(visitorsADaily, left_on='date', right_on='date', how='left')\n",
    "    .merge(visitorsBDaily, left_on='date', right_on='date', how='left')\n",
    "    .merge(visitorsACummulative, left_on='date', right_on='date', how='left')\n",
    "    .merge(visitorsBCummulative, left_on='date', right_on='date', how='left')\n",
    ")\n",
    "\n",
    "print(data.head(5))"
   ]
  },
  {
   "cell_type": "code",
   "execution_count": 36,
   "id": "d5219574",
   "metadata": {},
   "outputs": [
    {
     "data": {
      "text/html": [
       "<div>\n",
       "<style scoped>\n",
       "    .dataframe tbody tr th:only-of-type {\n",
       "        vertical-align: middle;\n",
       "    }\n",
       "\n",
       "    .dataframe tbody tr th {\n",
       "        vertical-align: top;\n",
       "    }\n",
       "\n",
       "    .dataframe thead th {\n",
       "        text-align: right;\n",
       "    }\n",
       "</style>\n",
       "<table border=\"1\" class=\"dataframe\">\n",
       "  <thead>\n",
       "    <tr style=\"text-align: right;\">\n",
       "      <th></th>\n",
       "      <th>visitorId</th>\n",
       "      <th>orders</th>\n",
       "    </tr>\n",
       "  </thead>\n",
       "  <tbody>\n",
       "    <tr>\n",
       "      <th>0</th>\n",
       "      <td>5114589</td>\n",
       "      <td>1</td>\n",
       "    </tr>\n",
       "    <tr>\n",
       "      <th>1</th>\n",
       "      <td>6958315</td>\n",
       "      <td>1</td>\n",
       "    </tr>\n",
       "    <tr>\n",
       "      <th>2</th>\n",
       "      <td>8300375</td>\n",
       "      <td>1</td>\n",
       "    </tr>\n",
       "    <tr>\n",
       "      <th>3</th>\n",
       "      <td>39475350</td>\n",
       "      <td>1</td>\n",
       "    </tr>\n",
       "    <tr>\n",
       "      <th>4</th>\n",
       "      <td>47206413</td>\n",
       "      <td>1</td>\n",
       "    </tr>\n",
       "    <tr>\n",
       "      <th>...</th>\n",
       "      <td>...</td>\n",
       "      <td>...</td>\n",
       "    </tr>\n",
       "    <tr>\n",
       "      <th>581</th>\n",
       "      <td>4258103007</td>\n",
       "      <td>1</td>\n",
       "    </tr>\n",
       "    <tr>\n",
       "      <th>582</th>\n",
       "      <td>4266935830</td>\n",
       "      <td>1</td>\n",
       "    </tr>\n",
       "    <tr>\n",
       "      <th>583</th>\n",
       "      <td>4279090005</td>\n",
       "      <td>1</td>\n",
       "    </tr>\n",
       "    <tr>\n",
       "      <th>584</th>\n",
       "      <td>4281247801</td>\n",
       "      <td>1</td>\n",
       "    </tr>\n",
       "    <tr>\n",
       "      <th>585</th>\n",
       "      <td>4283872382</td>\n",
       "      <td>1</td>\n",
       "    </tr>\n",
       "  </tbody>\n",
       "</table>\n",
       "<p>586 rows × 2 columns</p>\n",
       "</div>"
      ],
      "text/plain": [
       "      visitorId  orders\n",
       "0       5114589       1\n",
       "1       6958315       1\n",
       "2       8300375       1\n",
       "3      39475350       1\n",
       "4      47206413       1\n",
       "..          ...     ...\n",
       "581  4258103007       1\n",
       "582  4266935830       1\n",
       "583  4279090005       1\n",
       "584  4281247801       1\n",
       "585  4283872382       1\n",
       "\n",
       "[586 rows x 2 columns]"
      ]
     },
     "execution_count": 36,
     "metadata": {},
     "output_type": "execute_result"
    }
   ],
   "source": [
    "ordersByUsersA = (\n",
    "    orders[orders['group'] == 'A']\n",
    "    .groupby('visitorId', as_index=False)\n",
    "    .agg({'transactionId': pd.Series.nunique})\n",
    ")\n",
    "ordersByUsersA.columns = ['visitorId', 'orders']\n",
    "\n",
    "ordersByUsersB = (\n",
    "    orders[orders['group'] == 'B']\n",
    "    .groupby('visitorId', as_index=False)\n",
    "    .agg({'transactionId': pd.Series.nunique})\n",
    ")\n",
    "ordersByUsersB.columns = ['visitorId', 'orders'] \n",
    "ordersByUsersB"
   ]
  },
  {
   "cell_type": "code",
   "execution_count": 37,
   "id": "ef1983ff",
   "metadata": {},
   "outputs": [],
   "source": [
    "sampleA = pd.concat([ordersByUsersA['orders'],pd.Series(0, index=np.arange(data['visitorsPerDateA'].sum() - len(ordersByUsersA['orders'])), name='orders')],axis=0)\n",
    "\n",
    "sampleB = pd.concat([ordersByUsersB['orders'],pd.Series(0, index=np.arange(data['visitorsPerDateB'].sum() - len(ordersByUsersB['orders'])), name='orders')],axis=0)"
   ]
  },
  {
   "cell_type": "code",
   "execution_count": 38,
   "id": "72bfc931",
   "metadata": {},
   "outputs": [],
   "source": [
    "alpha = 0.05"
   ]
  },
  {
   "cell_type": "markdown",
   "id": "67096266",
   "metadata": {},
   "source": [
    "## Статистическая значимость различий в среднем количестве заказов на посетителя между группами между группами по «сырым» данным"
   ]
  },
  {
   "cell_type": "markdown",
   "id": "225a7b90",
   "metadata": {},
   "source": [
    "Выдвигается гипотеза \n",
    "\n",
    "***H0***: различий в среднем количестве заказов на посетителя между группами A и B по \"сырым\" данным нет.\n",
    "\n",
    "***H1***: различия в среднем количестве заказов на посетителя между группами по \"сырым\" данным есть."
   ]
  },
  {
   "cell_type": "code",
   "execution_count": 39,
   "id": "3a8adc36",
   "metadata": {},
   "outputs": [
    {
     "name": "stdout",
     "output_type": "stream",
     "text": [
      "P-value:0.017\n",
      "Относительное изменение среднего кол-ва заказов в группе B по отношению группы A:0.138\n",
      "Различия в среднем количестве заказов на посетителя между \"сырыми\" группами статистически значимы\n"
     ]
    }
   ],
   "source": [
    "#Посчитаем статистическую значимость различий в среднем количестве заказов на посетителя \n",
    "#между группами между группами по «сырым» данным\n",
    "\n",
    "results = st.mannwhitneyu(sampleA, sampleB)\n",
    "\n",
    "print('P-value:{0:.3f}'.format(st.mannwhitneyu(sampleA, sampleB)[1]))\n",
    "\n",
    "print('Относительное изменение среднего кол-ва заказов в группе B по отношению группы A:{0:.3f}'.format(sampleB.mean() / sampleA.mean() - 1))\n",
    "\n",
    "if results.pvalue < alpha:\n",
    "    print('Различия в среднем количестве заказов на посетителя между \"сырыми\" группами статистически значимы')\n",
    "else:\n",
    "    print('Различий в среднем количестве заказов на посетителя между \"сырыми\" группами нет')"
   ]
  },
  {
   "cell_type": "markdown",
   "id": "3db0e127",
   "metadata": {},
   "source": [
    "Так как p-value меньше альфа, нулевую гипотезу мы отвергаем. Однако изменение среднего кол-ва заказов в группе B по отношению группы A равно 13.8%"
   ]
  },
  {
   "cell_type": "markdown",
   "id": "cef54681",
   "metadata": {},
   "source": [
    "## Статистическая значимость различий в среднем чеке заказа между группами по «сырым» данным"
   ]
  },
  {
   "cell_type": "markdown",
   "id": "84b01c34",
   "metadata": {},
   "source": [
    "Выдвигается гипотеза \n",
    "\n",
    "***H0***: различий в среднем чеке между группами A и B по \"сырым\" данным нет.\n",
    "\n",
    "***H1***: различия в среднем чеке между группами по \"сырым\" данным есть."
   ]
  },
  {
   "cell_type": "code",
   "execution_count": 40,
   "id": "d6112ea9",
   "metadata": {},
   "outputs": [
    {
     "name": "stdout",
     "output_type": "stream",
     "text": [
      "P-value:0.729\n",
      "Относительное изменение среднего чека в группе B по отношению группы A: 0.259\n",
      "По \"сырым\" данным различий в средних чеках в группах A и B нет\n"
     ]
    }
   ],
   "source": [
    "#посчитаем относительные различия в среднем чеке между группами\n",
    "\n",
    "results_1 = st.mannwhitneyu(orders[orders['group']=='A']['revenue'], orders[orders['group']=='B']['revenue'])\n",
    "\n",
    "print('P-value:{0:.3f}'.format(st.mannwhitneyu(orders[orders['group']=='A']['revenue'], orders[orders['group']=='B']['revenue'])[1]))\n",
    "\n",
    "print('Относительное изменение среднего чека в группе B по отношению группы A:','{0:.3f}'.format(orders[orders['group']=='B']['revenue'].mean()/orders[orders['group']=='A']['revenue'].mean()-1))\n",
    "\n",
    "if results_1.pvalue < alpha:\n",
    "    print('По \"сырым\" данным различия в средних чеках в группах A и B статистически значимы')\n",
    "else:\n",
    "    print('По \"сырым\" данным различий в средних чеках в группах A и B нет')"
   ]
  },
  {
   "cell_type": "markdown",
   "id": "0d19408c",
   "metadata": {},
   "source": [
    "P-value больше альфа, следовательно мы принимаем нулевую гипотезу об отсутсвии различий в среднем чеке между группами по \"сырым\" данным"
   ]
  },
  {
   "cell_type": "markdown",
   "id": "59821744",
   "metadata": {},
   "source": [
    "## Статистическая значимость различий в среднем количестве заказов на посетителя между группами между группами по «очищенным» данным"
   ]
  },
  {
   "cell_type": "code",
   "execution_count": 41,
   "id": "ec477664",
   "metadata": {},
   "outputs": [],
   "source": [
    "usersWithManyOrders = pd.concat([ordersByUsersA[ordersByUsersA['orders'] > 2]['visitorId'],\\\n",
    "                                 ordersByUsersB[ordersByUsersB['orders'] > 2]['visitorId'],],axis=0,)\n",
    "\n",
    "usersWithExpensiveOrders = orders[orders['revenue'] > 28000]['visitorId']\n",
    "\n",
    "abnormalUsers = (pd.concat([usersWithManyOrders, usersWithExpensiveOrders], axis=0).drop_duplicates().sort_values())"
   ]
  },
  {
   "cell_type": "code",
   "execution_count": 42,
   "id": "8fdce266",
   "metadata": {},
   "outputs": [],
   "source": [
    "sampleAFiltered = pd.concat(\n",
    "    [ordersByUsersA[np.logical_not(ordersByUsersA['visitorId'].isin(abnormalUsers))]['orders'],\\\n",
    "     pd.Series(0, index=np.arange(data['visitorsPerDateA'].sum() - len(ordersByUsersA['orders'])),\\\n",
    "               name='orders',),],axis=0,)\n",
    "\n",
    "sampleBFiltered = pd.concat([ordersByUsersB[np.logical_not(ordersByUsersB['visitorId'].isin(abnormalUsers))]['orders'],\\\n",
    "     pd.Series(0,index=np.arange(data['visitorsPerDateB'].sum() - len(ordersByUsersB['orders'])),name='orders',),],axis=0,)"
   ]
  },
  {
   "cell_type": "code",
   "execution_count": 43,
   "id": "ad7516fe",
   "metadata": {},
   "outputs": [],
   "source": [
    "results_2 = st.mannwhitneyu(sampleAFiltered, sampleBFiltered)"
   ]
  },
  {
   "cell_type": "markdown",
   "id": "285292eb",
   "metadata": {},
   "source": [
    "Выдвигается гипотеза \n",
    "\n",
    "***H0***: различий в среднем количестве заказов на посетителя между группами A и B по очищенным данным нет.\n",
    "\n",
    "***H1***: различия в среднем количестве заказов на посетителя между группами по очищенным данным есть."
   ]
  },
  {
   "cell_type": "code",
   "execution_count": 44,
   "id": "6c715e65",
   "metadata": {},
   "outputs": [
    {
     "name": "stdout",
     "output_type": "stream",
     "text": [
      "P-value:0.013\n",
      "Относительное изменение среднего кол-ва заказов в группе B по отношению группы A:0.173\n",
      "По очищенным данным различия в среднем кол-ве заказов на посетителя в группах A и B статистически значимы\n"
     ]
    }
   ],
   "source": [
    "print('P-value:{0:.3f}'.format(st.mannwhitneyu(sampleAFiltered, sampleBFiltered)[1]))\n",
    "\n",
    "print('Относительное изменение среднего кол-ва заказов в группе B по отношению группы A:{0:.3f}'.format(sampleBFiltered.mean()/sampleAFiltered.mean()-1)) \n",
    "\n",
    "if results_2.pvalue < alpha:\n",
    "    print('По очищенным данным различия в среднем кол-ве заказов на посетителя в группах A и B статистически значимы')\n",
    "else:\n",
    "    print('По очищенным данным различий в среднем кол-ве заказов на посетителя в группах A и B нет')"
   ]
  },
  {
   "cell_type": "markdown",
   "id": "b238095f",
   "metadata": {},
   "source": [
    "Так как p-value для очищенных данных немного уменьшилось в сравнении с этим показателем по сырым данным, нулевую гипотезу мы отвергаем. А изменение среднего кол-ва заказов в группе B по отношению группы A увеличилось до 17%"
   ]
  },
  {
   "cell_type": "markdown",
   "id": "211c32e2",
   "metadata": {},
   "source": [
    "## Статистическая значимость различий в среднем чеке заказа между группами по «очищенным» данным"
   ]
  },
  {
   "cell_type": "markdown",
   "id": "8892bf79",
   "metadata": {},
   "source": [
    "Выдвигается гипотеза \n",
    "\n",
    "***H0***: различия в среднем чеке между группами A и B по очищенным данным статистически значимо.\n",
    "\n",
    "***H1***: различия в среднем чеке между группами A и B по очищенным данным не является статистически значимым."
   ]
  },
  {
   "cell_type": "code",
   "execution_count": 45,
   "id": "b05a05fd",
   "metadata": {},
   "outputs": [
    {
     "name": "stdout",
     "output_type": "stream",
     "text": [
      "P-value:0.738\n",
      "Относительное изменение среднего чека в группе B по отношению группы A: -0.020\n",
      "По очищенным данным различия в среднем чеке заказа в группах A и B статистически значимы\n"
     ]
    }
   ],
   "source": [
    "print('P-value:{0:.3f}'.format(st.mannwhitneyu(orders[np.logical_and(orders['group'] == 'A',\\\n",
    "               np.logical_not(orders['visitorId'].isin(abnormalUsers)),)]['revenue'],\\\n",
    "               orders[np.logical_and(orders['group'] == 'B',np.logical_not(orders['visitorId'].\\\n",
    "               isin(abnormalUsers)),)]['revenue'],)[1]))\n",
    "\n",
    "print('Относительное изменение среднего чека в группе B по отношению группы A:','{0:.3f}'.format(orders[np.logical_and(orders['group'] == 'B',\\\n",
    "                np.logical_not(orders['visitorId'].isin(abnormalUsers)),)]['revenue'].mean()/\\\n",
    "                orders[np.logical_and(orders['group'] == 'A', np.logical_not(orders['visitorId'].\\\n",
    "                isin(abnormalUsers)),)]['revenue'].mean()- 1)) \n",
    "\n",
    "if results_2.pvalue < alpha:\n",
    "    print('По очищенным данным различия в среднем чеке заказа в группах A и B статистически значимы')\n",
    "else:\n",
    "    print('По очищенным данным различий в среднем чеке заказа на посетителя в группах A и B нет')"
   ]
  },
  {
   "cell_type": "markdown",
   "id": "d32dba02",
   "metadata": {},
   "source": [
    "P-value немного увеличилось, следовательно мы принимаем нулевую гипотезу об отсутсвии различий в среднем чеке между группами по уже очищенным данным. \n",
    "После очистки данных разница в среднем чеке между группами стала минимальной"
   ]
  },
  {
   "cell_type": "markdown",
   "id": "a3aeaf7b",
   "metadata": {},
   "source": [
    "# Вывод"
   ]
  },
  {
   "cell_type": "markdown",
   "id": "a2f87cbb",
   "metadata": {},
   "source": [
    "По первой части: \n",
    "\n",
    "В ходе приоритизации гипотез был сделан вывод, что наиболее важными являются гипотезы под номерами 7, 0 и 2, такой вывод был получен благодаря использованию RICE. Он немного отличается от вывода после использования ICE, но мы опираемся на итог по RICE, так как он учитывает еще и охват.\n",
    "\n",
    "По второй части: \n",
    "\n",
    "Кумулятивные данные по выручке, среднему чеку и кол-ве заказов на посетителя почти все время лидировали в группе B. Изучая графики были заметны резких колебаний в кумулятивном среднем чеке в группе B, после чего было выдвинуто предположение о присутствии аномальных значений. Данные были очищены, после этого разница между средними чеками сократилась, что видно из вывода в пункте 2.15. \n",
    "До и после очистки данных, показатель отношения кол-ва заказов к посетителям в группе B больше данного показателя в группе A, он увеличился с 13.8 до 17.3. Такое изменение показателей пользволяет прийти к выводу, что тест можно остановить и зафиксировать победу группы B."
   ]
  }
 ],
 "metadata": {
  "ExecuteTimeLog": [
   {
    "duration": 1268,
    "start_time": "2023-04-26T07:23:13.911Z"
   },
   {
    "duration": 104,
    "start_time": "2023-04-26T07:23:15.182Z"
   },
   {
    "duration": 0,
    "start_time": "2023-04-26T07:23:15.288Z"
   },
   {
    "duration": 0,
    "start_time": "2023-04-26T07:23:15.289Z"
   },
   {
    "duration": 0,
    "start_time": "2023-04-26T07:23:15.290Z"
   },
   {
    "duration": 0,
    "start_time": "2023-04-26T07:23:15.292Z"
   },
   {
    "duration": 0,
    "start_time": "2023-04-26T07:23:15.293Z"
   },
   {
    "duration": 0,
    "start_time": "2023-04-26T07:23:15.294Z"
   },
   {
    "duration": 0,
    "start_time": "2023-04-26T07:23:15.295Z"
   },
   {
    "duration": 0,
    "start_time": "2023-04-26T07:23:15.296Z"
   },
   {
    "duration": 0,
    "start_time": "2023-04-26T07:23:15.297Z"
   },
   {
    "duration": 0,
    "start_time": "2023-04-26T07:23:15.298Z"
   },
   {
    "duration": 0,
    "start_time": "2023-04-26T07:23:15.299Z"
   },
   {
    "duration": 0,
    "start_time": "2023-04-26T07:23:15.300Z"
   },
   {
    "duration": 0,
    "start_time": "2023-04-26T07:23:15.302Z"
   },
   {
    "duration": 0,
    "start_time": "2023-04-26T07:23:15.303Z"
   },
   {
    "duration": 0,
    "start_time": "2023-04-26T07:23:15.304Z"
   },
   {
    "duration": 0,
    "start_time": "2023-04-26T07:23:15.305Z"
   },
   {
    "duration": 0,
    "start_time": "2023-04-26T07:23:15.306Z"
   },
   {
    "duration": 0,
    "start_time": "2023-04-26T07:23:15.307Z"
   },
   {
    "duration": 0,
    "start_time": "2023-04-26T07:23:15.308Z"
   },
   {
    "duration": 0,
    "start_time": "2023-04-26T07:23:15.309Z"
   },
   {
    "duration": 0,
    "start_time": "2023-04-26T07:23:15.310Z"
   },
   {
    "duration": 0,
    "start_time": "2023-04-26T07:23:15.311Z"
   },
   {
    "duration": 0,
    "start_time": "2023-04-26T07:23:15.312Z"
   },
   {
    "duration": 0,
    "start_time": "2023-04-26T07:23:15.313Z"
   },
   {
    "duration": 11,
    "start_time": "2023-04-26T07:23:30.819Z"
   },
   {
    "duration": 216,
    "start_time": "2023-04-26T07:38:36.111Z"
   },
   {
    "duration": 233,
    "start_time": "2023-04-26T07:38:42.177Z"
   },
   {
    "duration": 18,
    "start_time": "2023-04-26T07:39:08.299Z"
   },
   {
    "duration": 17,
    "start_time": "2023-04-26T07:40:52.776Z"
   },
   {
    "duration": 18,
    "start_time": "2023-04-26T07:42:03.026Z"
   },
   {
    "duration": 271,
    "start_time": "2023-04-26T07:44:57.496Z"
   },
   {
    "duration": 10,
    "start_time": "2023-04-26T07:44:58.443Z"
   },
   {
    "duration": 295,
    "start_time": "2023-04-26T07:45:12.812Z"
   },
   {
    "duration": 235,
    "start_time": "2023-04-26T07:45:51.993Z"
   },
   {
    "duration": 393,
    "start_time": "2023-04-26T07:46:26.953Z"
   },
   {
    "duration": 243,
    "start_time": "2023-04-26T07:46:30.371Z"
   },
   {
    "duration": 335,
    "start_time": "2023-04-26T07:46:32.575Z"
   },
   {
    "duration": 127,
    "start_time": "2023-04-26T07:47:04.628Z"
   },
   {
    "duration": 6,
    "start_time": "2023-04-26T07:47:10.044Z"
   },
   {
    "duration": 160,
    "start_time": "2023-04-26T07:47:28.458Z"
   },
   {
    "duration": 4,
    "start_time": "2023-04-26T07:49:01.246Z"
   },
   {
    "duration": 230,
    "start_time": "2023-04-26T07:50:01.526Z"
   },
   {
    "duration": 298,
    "start_time": "2023-04-26T07:50:05.109Z"
   },
   {
    "duration": 7,
    "start_time": "2023-04-26T07:50:05.672Z"
   },
   {
    "duration": 3,
    "start_time": "2023-04-26T07:50:06.466Z"
   },
   {
    "duration": 76,
    "start_time": "2023-04-26T07:50:09.750Z"
   },
   {
    "duration": 14,
    "start_time": "2023-04-26T07:51:52.843Z"
   },
   {
    "duration": 9,
    "start_time": "2023-04-26T07:51:57.415Z"
   },
   {
    "duration": 9,
    "start_time": "2023-04-26T07:52:32.165Z"
   },
   {
    "duration": 8,
    "start_time": "2023-04-26T07:52:44.267Z"
   },
   {
    "duration": 25,
    "start_time": "2023-04-26T07:52:45.324Z"
   },
   {
    "duration": 16,
    "start_time": "2023-04-26T07:52:48.898Z"
   },
   {
    "duration": 55,
    "start_time": "2023-04-26T08:01:03.324Z"
   },
   {
    "duration": 1275,
    "start_time": "2023-04-26T08:01:17.900Z"
   },
   {
    "duration": 247,
    "start_time": "2023-04-26T08:01:31.440Z"
   },
   {
    "duration": 16,
    "start_time": "2023-04-26T08:01:33.433Z"
   },
   {
    "duration": 14,
    "start_time": "2023-04-26T08:01:39.049Z"
   },
   {
    "duration": 12,
    "start_time": "2023-04-26T08:02:02.326Z"
   },
   {
    "duration": 8,
    "start_time": "2023-04-26T08:03:57.878Z"
   },
   {
    "duration": 5,
    "start_time": "2023-04-26T08:04:04.609Z"
   },
   {
    "duration": 7,
    "start_time": "2023-04-26T08:04:09.318Z"
   },
   {
    "duration": 6,
    "start_time": "2023-04-26T08:04:34.751Z"
   },
   {
    "duration": 63,
    "start_time": "2023-04-26T08:04:52.520Z"
   },
   {
    "duration": 8,
    "start_time": "2023-04-26T08:04:58.969Z"
   },
   {
    "duration": 7,
    "start_time": "2023-04-26T08:05:06.007Z"
   },
   {
    "duration": 7,
    "start_time": "2023-04-26T08:05:40.413Z"
   },
   {
    "duration": 9,
    "start_time": "2023-04-26T08:05:58.806Z"
   },
   {
    "duration": 11,
    "start_time": "2023-04-26T08:06:30.277Z"
   },
   {
    "duration": 11,
    "start_time": "2023-04-26T08:06:39.331Z"
   },
   {
    "duration": 4,
    "start_time": "2023-04-26T08:08:52.100Z"
   },
   {
    "duration": 9,
    "start_time": "2023-04-26T08:10:09.441Z"
   },
   {
    "duration": 14,
    "start_time": "2023-04-26T08:10:13.320Z"
   },
   {
    "duration": 11,
    "start_time": "2023-04-26T08:10:21.260Z"
   },
   {
    "duration": 11,
    "start_time": "2023-04-26T08:12:13.258Z"
   },
   {
    "duration": 272,
    "start_time": "2023-04-26T08:12:19.904Z"
   },
   {
    "duration": 8,
    "start_time": "2023-04-26T08:12:20.814Z"
   },
   {
    "duration": 312,
    "start_time": "2023-04-26T08:12:22.248Z"
   },
   {
    "duration": 338,
    "start_time": "2023-04-26T08:12:35.016Z"
   },
   {
    "duration": 319,
    "start_time": "2023-04-26T08:12:46.252Z"
   },
   {
    "duration": 477,
    "start_time": "2023-04-26T08:12:52.378Z"
   },
   {
    "duration": 320,
    "start_time": "2023-04-26T08:13:00.421Z"
   },
   {
    "duration": 383,
    "start_time": "2023-04-26T08:13:04.979Z"
   },
   {
    "duration": 120,
    "start_time": "2023-04-26T08:13:11.360Z"
   },
   {
    "duration": 185,
    "start_time": "2023-04-26T08:13:28.580Z"
   },
   {
    "duration": 143,
    "start_time": "2023-04-26T08:14:19.301Z"
   },
   {
    "duration": 1184,
    "start_time": "2023-04-26T08:44:14.502Z"
   },
   {
    "duration": 79,
    "start_time": "2023-04-26T08:44:15.689Z"
   },
   {
    "duration": 18,
    "start_time": "2023-04-26T08:44:15.959Z"
   },
   {
    "duration": 14,
    "start_time": "2023-04-26T08:44:16.668Z"
   },
   {
    "duration": 20,
    "start_time": "2023-04-26T08:44:17.952Z"
   },
   {
    "duration": 9,
    "start_time": "2023-04-26T08:44:18.137Z"
   },
   {
    "duration": 13,
    "start_time": "2023-04-26T08:44:18.340Z"
   },
   {
    "duration": 10,
    "start_time": "2023-04-26T08:44:18.541Z"
   },
   {
    "duration": 6,
    "start_time": "2023-04-26T08:44:18.918Z"
   },
   {
    "duration": 17,
    "start_time": "2023-04-26T08:44:19.492Z"
   },
   {
    "duration": 330,
    "start_time": "2023-04-26T08:44:21.737Z"
   },
   {
    "duration": 9,
    "start_time": "2023-04-26T08:44:22.069Z"
   },
   {
    "duration": 349,
    "start_time": "2023-04-26T08:44:23.098Z"
   },
   {
    "duration": 214,
    "start_time": "2023-04-26T08:44:27.985Z"
   },
   {
    "duration": 374,
    "start_time": "2023-04-26T08:44:28.703Z"
   },
   {
    "duration": 220,
    "start_time": "2023-04-26T08:44:29.481Z"
   },
   {
    "duration": 391,
    "start_time": "2023-04-26T08:44:30.090Z"
   },
   {
    "duration": 162,
    "start_time": "2023-04-26T08:44:31.301Z"
   },
   {
    "duration": 5,
    "start_time": "2023-04-26T08:44:31.949Z"
   },
   {
    "duration": 152,
    "start_time": "2023-04-26T08:44:32.911Z"
   },
   {
    "duration": 152,
    "start_time": "2023-04-26T08:44:33.291Z"
   },
   {
    "duration": 5,
    "start_time": "2023-04-26T08:44:34.751Z"
   },
   {
    "duration": 228,
    "start_time": "2023-04-26T08:44:36.055Z"
   },
   {
    "duration": 154,
    "start_time": "2023-04-26T08:44:36.701Z"
   },
   {
    "duration": 8,
    "start_time": "2023-04-26T08:44:37.433Z"
   },
   {
    "duration": 4,
    "start_time": "2023-04-26T08:44:38.252Z"
   },
   {
    "duration": 45,
    "start_time": "2023-04-26T08:44:39.722Z"
   },
   {
    "duration": 17,
    "start_time": "2023-04-26T08:44:43.507Z"
   },
   {
    "duration": 9,
    "start_time": "2023-04-26T08:44:44.342Z"
   },
   {
    "duration": 24,
    "start_time": "2023-04-26T08:45:25.831Z"
   },
   {
    "duration": 21,
    "start_time": "2023-04-26T08:45:47.226Z"
   },
   {
    "duration": 5,
    "start_time": "2023-04-26T08:47:57.966Z"
   },
   {
    "duration": 10,
    "start_time": "2023-04-26T08:53:22.560Z"
   },
   {
    "duration": 27,
    "start_time": "2023-04-26T08:53:23.252Z"
   },
   {
    "duration": 6,
    "start_time": "2023-04-26T08:55:49.349Z"
   },
   {
    "duration": 101,
    "start_time": "2023-04-26T08:58:06.699Z"
   },
   {
    "duration": 10,
    "start_time": "2023-04-26T08:58:11.261Z"
   },
   {
    "duration": 9,
    "start_time": "2023-04-26T08:58:14.043Z"
   },
   {
    "duration": 7,
    "start_time": "2023-04-26T08:58:16.197Z"
   },
   {
    "duration": 6,
    "start_time": "2023-04-26T08:58:35.673Z"
   },
   {
    "duration": 26,
    "start_time": "2023-04-26T09:00:29.011Z"
   },
   {
    "duration": 46,
    "start_time": "2023-04-26T09:01:03.270Z"
   },
   {
    "duration": 23,
    "start_time": "2023-04-26T09:04:02.433Z"
   },
   {
    "duration": 26,
    "start_time": "2023-04-26T09:04:05.414Z"
   },
   {
    "duration": 14,
    "start_time": "2023-04-26T09:12:02.318Z"
   },
   {
    "duration": 1239,
    "start_time": "2023-04-26T10:52:35.124Z"
   },
   {
    "duration": 211,
    "start_time": "2023-04-26T10:52:36.365Z"
   },
   {
    "duration": 20,
    "start_time": "2023-04-26T10:52:36.943Z"
   },
   {
    "duration": 12,
    "start_time": "2023-04-26T10:52:38.263Z"
   },
   {
    "duration": 18,
    "start_time": "2023-04-26T10:52:51.868Z"
   },
   {
    "duration": 9,
    "start_time": "2023-04-26T10:52:52.082Z"
   },
   {
    "duration": 11,
    "start_time": "2023-04-26T10:52:52.257Z"
   },
   {
    "duration": 13,
    "start_time": "2023-04-26T10:52:52.452Z"
   },
   {
    "duration": 5,
    "start_time": "2023-04-26T10:52:53.153Z"
   },
   {
    "duration": 14,
    "start_time": "2023-04-26T10:52:53.385Z"
   },
   {
    "duration": 294,
    "start_time": "2023-04-26T10:52:56.206Z"
   },
   {
    "duration": 9,
    "start_time": "2023-04-26T10:52:56.574Z"
   },
   {
    "duration": 328,
    "start_time": "2023-04-26T10:52:57.610Z"
   },
   {
    "duration": 209,
    "start_time": "2023-04-26T10:52:59.046Z"
   },
   {
    "duration": 322,
    "start_time": "2023-04-26T10:52:59.627Z"
   },
   {
    "duration": 216,
    "start_time": "2023-04-26T10:53:00.160Z"
   },
   {
    "duration": 304,
    "start_time": "2023-04-26T10:53:00.714Z"
   },
   {
    "duration": 119,
    "start_time": "2023-04-26T10:53:01.441Z"
   },
   {
    "duration": 5,
    "start_time": "2023-04-26T10:53:02.004Z"
   },
   {
    "duration": 143,
    "start_time": "2023-04-26T10:53:03.227Z"
   },
   {
    "duration": 151,
    "start_time": "2023-04-26T10:53:03.725Z"
   },
   {
    "duration": 4,
    "start_time": "2023-04-26T10:53:05.259Z"
   },
   {
    "duration": 319,
    "start_time": "2023-04-26T10:53:06.168Z"
   },
   {
    "duration": 158,
    "start_time": "2023-04-26T10:53:06.490Z"
   },
   {
    "duration": 8,
    "start_time": "2023-04-26T10:53:06.650Z"
   },
   {
    "duration": 3,
    "start_time": "2023-04-26T10:53:06.699Z"
   },
   {
    "duration": 47,
    "start_time": "2023-04-26T10:53:07.210Z"
   },
   {
    "duration": 1347,
    "start_time": "2023-04-26T14:04:47.760Z"
   },
   {
    "duration": 269,
    "start_time": "2023-04-26T14:04:49.109Z"
   },
   {
    "duration": 20,
    "start_time": "2023-04-26T14:04:49.496Z"
   },
   {
    "duration": 10,
    "start_time": "2023-04-26T14:04:50.206Z"
   },
   {
    "duration": 19,
    "start_time": "2023-04-26T14:04:51.662Z"
   },
   {
    "duration": 8,
    "start_time": "2023-04-26T14:04:51.865Z"
   },
   {
    "duration": 12,
    "start_time": "2023-04-26T14:04:52.059Z"
   },
   {
    "duration": 10,
    "start_time": "2023-04-26T14:04:52.230Z"
   },
   {
    "duration": 5,
    "start_time": "2023-04-26T14:04:52.613Z"
   },
   {
    "duration": 15,
    "start_time": "2023-04-26T14:04:52.811Z"
   },
   {
    "duration": 336,
    "start_time": "2023-04-26T14:04:54.120Z"
   },
   {
    "duration": 10,
    "start_time": "2023-04-26T14:04:54.458Z"
   },
   {
    "duration": 342,
    "start_time": "2023-04-26T14:04:54.850Z"
   },
   {
    "duration": 229,
    "start_time": "2023-04-26T14:04:55.797Z"
   },
   {
    "duration": 386,
    "start_time": "2023-04-26T14:04:56.376Z"
   },
   {
    "duration": 244,
    "start_time": "2023-04-26T14:04:56.914Z"
   },
   {
    "duration": 300,
    "start_time": "2023-04-26T14:04:57.520Z"
   },
   {
    "duration": 166,
    "start_time": "2023-04-26T14:04:58.270Z"
   },
   {
    "duration": 5,
    "start_time": "2023-04-26T14:04:58.836Z"
   },
   {
    "duration": 178,
    "start_time": "2023-04-26T14:04:59.881Z"
   },
   {
    "duration": 230,
    "start_time": "2023-04-26T14:05:00.350Z"
   },
   {
    "duration": 5,
    "start_time": "2023-04-26T14:05:02.710Z"
   },
   {
    "duration": 348,
    "start_time": "2023-04-26T14:05:03.773Z"
   },
   {
    "duration": 237,
    "start_time": "2023-04-26T14:05:04.123Z"
   },
   {
    "duration": 7,
    "start_time": "2023-04-26T14:05:04.362Z"
   },
   {
    "duration": 13,
    "start_time": "2023-04-26T14:05:04.370Z"
   },
   {
    "duration": 58,
    "start_time": "2023-04-26T14:05:04.982Z"
   },
   {
    "duration": 16,
    "start_time": "2023-04-26T14:05:06.809Z"
   },
   {
    "duration": 9,
    "start_time": "2023-04-26T14:05:08.172Z"
   },
   {
    "duration": 9,
    "start_time": "2023-04-26T14:05:08.609Z"
   },
   {
    "duration": 19,
    "start_time": "2023-04-26T14:05:08.868Z"
   },
   {
    "duration": 27,
    "start_time": "2023-04-26T14:05:09.985Z"
   },
   {
    "duration": 16,
    "start_time": "2023-04-26T14:05:13.578Z"
   },
   {
    "duration": 83,
    "start_time": "2023-04-26T14:09:44.745Z"
   },
   {
    "duration": 16,
    "start_time": "2023-04-26T14:09:46.204Z"
   },
   {
    "duration": 16,
    "start_time": "2023-04-26T14:09:49.883Z"
   },
   {
    "duration": 9,
    "start_time": "2023-04-26T14:10:03.857Z"
   },
   {
    "duration": 15,
    "start_time": "2023-04-26T14:10:10.787Z"
   },
   {
    "duration": 12,
    "start_time": "2023-04-26T14:10:22.940Z"
   },
   {
    "duration": 13,
    "start_time": "2023-04-26T14:10:37.128Z"
   },
   {
    "duration": 19,
    "start_time": "2023-04-26T14:11:08.961Z"
   },
   {
    "duration": 12,
    "start_time": "2023-04-26T14:11:09.497Z"
   },
   {
    "duration": 13,
    "start_time": "2023-04-26T14:11:09.776Z"
   },
   {
    "duration": 15,
    "start_time": "2023-04-26T14:11:10.207Z"
   },
   {
    "duration": 5,
    "start_time": "2023-04-26T14:11:11.226Z"
   },
   {
    "duration": 14,
    "start_time": "2023-04-26T14:11:11.818Z"
   },
   {
    "duration": 334,
    "start_time": "2023-04-26T14:11:14.950Z"
   },
   {
    "duration": 10,
    "start_time": "2023-04-26T14:11:15.679Z"
   },
   {
    "duration": 257,
    "start_time": "2023-04-26T14:11:17.083Z"
   },
   {
    "duration": 247,
    "start_time": "2023-04-26T14:11:30.629Z"
   },
   {
    "duration": 337,
    "start_time": "2023-04-26T14:11:32.396Z"
   },
   {
    "duration": 244,
    "start_time": "2023-04-26T14:11:33.677Z"
   },
   {
    "duration": 335,
    "start_time": "2023-04-26T14:11:34.580Z"
   },
   {
    "duration": 120,
    "start_time": "2023-04-26T14:11:36.135Z"
   },
   {
    "duration": 6,
    "start_time": "2023-04-26T14:11:37.650Z"
   },
   {
    "duration": 158,
    "start_time": "2023-04-26T14:11:52.314Z"
   },
   {
    "duration": 169,
    "start_time": "2023-04-26T14:11:53.350Z"
   },
   {
    "duration": 5,
    "start_time": "2023-04-26T14:11:57.047Z"
   },
   {
    "duration": 244,
    "start_time": "2023-04-26T14:11:58.938Z"
   },
   {
    "duration": 209,
    "start_time": "2023-04-26T14:11:59.418Z"
   },
   {
    "duration": 7,
    "start_time": "2023-04-26T14:11:59.743Z"
   },
   {
    "duration": 3,
    "start_time": "2023-04-26T14:12:00.185Z"
   },
   {
    "duration": 43,
    "start_time": "2023-04-26T14:12:01.001Z"
   },
   {
    "duration": 17,
    "start_time": "2023-04-26T14:15:41.442Z"
   },
   {
    "duration": 81,
    "start_time": "2023-04-26T19:31:17.837Z"
   },
   {
    "duration": 0,
    "start_time": "2023-04-26T19:31:17.920Z"
   },
   {
    "duration": 11,
    "start_time": "2023-04-26T19:31:18.378Z"
   },
   {
    "duration": 8,
    "start_time": "2023-04-26T19:31:19.252Z"
   },
   {
    "duration": 23,
    "start_time": "2023-04-26T19:31:20.182Z"
   },
   {
    "duration": 8,
    "start_time": "2023-04-26T19:31:21.237Z"
   },
   {
    "duration": 7,
    "start_time": "2023-04-26T19:31:22.369Z"
   },
   {
    "duration": 9,
    "start_time": "2023-04-26T19:31:22.787Z"
   },
   {
    "duration": 8,
    "start_time": "2023-04-26T19:31:24.244Z"
   },
   {
    "duration": 23,
    "start_time": "2023-04-26T19:31:25.397Z"
   },
   {
    "duration": 10,
    "start_time": "2023-04-26T19:31:25.628Z"
   },
   {
    "duration": 11,
    "start_time": "2023-04-26T19:31:25.868Z"
   },
   {
    "duration": 7,
    "start_time": "2023-04-26T19:31:26.094Z"
   },
   {
    "duration": 1377,
    "start_time": "2023-04-26T19:31:41.096Z"
   },
   {
    "duration": 239,
    "start_time": "2023-04-26T19:31:46.159Z"
   },
   {
    "duration": 20,
    "start_time": "2023-04-26T19:31:46.512Z"
   },
   {
    "duration": 19,
    "start_time": "2023-04-26T19:31:47.292Z"
   },
   {
    "duration": 32,
    "start_time": "2023-04-26T19:31:49.064Z"
   },
   {
    "duration": 11,
    "start_time": "2023-04-26T19:31:49.260Z"
   },
   {
    "duration": 13,
    "start_time": "2023-04-26T19:31:49.444Z"
   },
   {
    "duration": 12,
    "start_time": "2023-04-26T19:31:49.859Z"
   },
   {
    "duration": 5,
    "start_time": "2023-04-26T19:31:50.246Z"
   },
   {
    "duration": 16,
    "start_time": "2023-04-26T19:31:50.441Z"
   },
   {
    "duration": 331,
    "start_time": "2023-04-26T19:31:51.833Z"
   },
   {
    "duration": 9,
    "start_time": "2023-04-26T19:31:52.165Z"
   },
   {
    "duration": 377,
    "start_time": "2023-04-26T19:31:52.980Z"
   },
   {
    "duration": 237,
    "start_time": "2023-04-26T19:31:54.609Z"
   },
   {
    "duration": 386,
    "start_time": "2023-04-26T19:31:55.168Z"
   },
   {
    "duration": 246,
    "start_time": "2023-04-26T19:32:05.853Z"
   },
   {
    "duration": 292,
    "start_time": "2023-04-26T19:32:07.242Z"
   },
   {
    "duration": 144,
    "start_time": "2023-04-26T19:32:08.019Z"
   },
   {
    "duration": 10,
    "start_time": "2023-04-26T19:32:08.597Z"
   },
   {
    "duration": 168,
    "start_time": "2023-04-26T19:32:09.647Z"
   },
   {
    "duration": 223,
    "start_time": "2023-04-26T19:32:10.058Z"
   },
   {
    "duration": 6,
    "start_time": "2023-04-26T19:32:11.243Z"
   },
   {
    "duration": 310,
    "start_time": "2023-04-26T19:32:12.379Z"
   },
   {
    "duration": 212,
    "start_time": "2023-04-26T19:32:12.697Z"
   },
   {
    "duration": 11,
    "start_time": "2023-04-26T19:32:12.912Z"
   },
   {
    "duration": 6,
    "start_time": "2023-04-26T19:32:13.807Z"
   },
   {
    "duration": 53,
    "start_time": "2023-04-26T19:32:15.066Z"
   },
   {
    "duration": 19,
    "start_time": "2023-04-26T19:32:18.868Z"
   },
   {
    "duration": 9,
    "start_time": "2023-04-26T19:32:20.778Z"
   },
   {
    "duration": 9,
    "start_time": "2023-04-26T19:32:21.857Z"
   },
   {
    "duration": 37,
    "start_time": "2023-04-26T19:32:22.353Z"
   },
   {
    "duration": 32,
    "start_time": "2023-04-26T19:32:23.524Z"
   },
   {
    "duration": 17,
    "start_time": "2023-04-26T19:32:25.477Z"
   },
   {
    "duration": 83,
    "start_time": "2023-04-26T19:32:25.854Z"
   },
   {
    "duration": 22,
    "start_time": "2023-04-26T19:32:34.003Z"
   }
  ],
  "kernelspec": {
   "display_name": "Python 3 (ipykernel)",
   "language": "python",
   "name": "python3"
  },
  "language_info": {
   "codemirror_mode": {
    "name": "ipython",
    "version": 3
   },
   "file_extension": ".py",
   "mimetype": "text/x-python",
   "name": "python",
   "nbconvert_exporter": "python",
   "pygments_lexer": "ipython3",
   "version": "3.9.13"
  },
  "toc": {
   "base_numbering": 1,
   "nav_menu": {},
   "number_sections": true,
   "sideBar": true,
   "skip_h1_title": false,
   "title_cell": "Table of Contents",
   "title_sidebar": "Contents",
   "toc_cell": false,
   "toc_position": {},
   "toc_section_display": true,
   "toc_window_display": false
  }
 },
 "nbformat": 4,
 "nbformat_minor": 5
}
