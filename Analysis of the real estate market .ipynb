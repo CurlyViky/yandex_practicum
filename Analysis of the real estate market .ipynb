{
 "cells": [
  {
   "cell_type": "markdown",
   "metadata": {},
   "source": [
    "# Исследование объявлений о продаже квартир\n",
    "\n",
    "В вашем распоряжении данные сервиса Яндекс.Недвижимость — архив объявлений о продаже квартир в Санкт-Петербурге и соседних населённых пунктов за несколько лет. Нужно научиться определять рыночную стоимость объектов недвижимости. Ваша задача — установить параметры. Это позволит построить автоматизированную систему: она отследит аномалии и мошенническую деятельность. \n",
    "\n",
    "По каждой квартире на продажу доступны два вида данных. Первые вписаны пользователем, вторые — получены автоматически на основе картографических данных. Например, расстояние до центра, аэропорта, ближайшего парка и водоёма. "
   ]
  },
  {
   "cell_type": "markdown",
   "metadata": {},
   "source": [
    "### Анализ данных"
   ]
  },
  {
   "cell_type": "code",
   "execution_count": 1,
   "metadata": {},
   "outputs": [],
   "source": [
    "import pandas as pd"
   ]
  },
  {
   "cell_type": "code",
   "execution_count": 2,
   "metadata": {},
   "outputs": [
    {
     "name": "stdout",
     "output_type": "stream",
     "text": [
      "   total_images  last_price  total_area first_day_exposition  rooms  \\\n",
      "0            20  13000000.0       108.0  2019-03-07T00:00:00      3   \n",
      "1             7   3350000.0        40.4  2018-12-04T00:00:00      1   \n",
      "2            10   5196000.0        56.0  2015-08-20T00:00:00      2   \n",
      "3             0  64900000.0       159.0  2015-07-24T00:00:00      3   \n",
      "4             2  10000000.0       100.0  2018-06-19T00:00:00      2   \n",
      "\n",
      "   ceiling_height  floors_total  living_area  floor is_apartment  ...  \\\n",
      "0            2.70          16.0         51.0      8          NaN  ...   \n",
      "1             NaN          11.0         18.6      1          NaN  ...   \n",
      "2             NaN           5.0         34.3      4          NaN  ...   \n",
      "3             NaN          14.0          NaN      9          NaN  ...   \n",
      "4            3.03          14.0         32.0     13          NaN  ...   \n",
      "\n",
      "   kitchen_area  balcony    locality_name  airports_nearest  \\\n",
      "0          25.0      NaN  Санкт-Петербург           18863.0   \n",
      "1          11.0      2.0   посёлок Шушары           12817.0   \n",
      "2           8.3      0.0  Санкт-Петербург           21741.0   \n",
      "3           NaN      0.0  Санкт-Петербург           28098.0   \n",
      "4          41.0      NaN  Санкт-Петербург           31856.0   \n",
      "\n",
      "  cityCenters_nearest  parks_around3000  parks_nearest  ponds_around3000  \\\n",
      "0             16028.0               1.0          482.0               2.0   \n",
      "1             18603.0               0.0            NaN               0.0   \n",
      "2             13933.0               1.0           90.0               2.0   \n",
      "3              6800.0               2.0           84.0               3.0   \n",
      "4              8098.0               2.0          112.0               1.0   \n",
      "\n",
      "   ponds_nearest  days_exposition  \n",
      "0          755.0              NaN  \n",
      "1            NaN             81.0  \n",
      "2          574.0            558.0  \n",
      "3          234.0            424.0  \n",
      "4           48.0            121.0  \n",
      "\n",
      "[5 rows x 22 columns]\n"
     ]
    }
   ],
   "source": [
    "data = pd.read_csv('/datasets/real_estate_data.csv', sep='\\t')\n",
    "print(data.head())"
   ]
  },
  {
   "cell_type": "code",
   "execution_count": 3,
   "metadata": {},
   "outputs": [
    {
     "name": "stdout",
     "output_type": "stream",
     "text": [
      "<class 'pandas.core.frame.DataFrame'>\n",
      "RangeIndex: 23699 entries, 0 to 23698\n",
      "Data columns (total 22 columns):\n",
      " #   Column                Non-Null Count  Dtype  \n",
      "---  ------                --------------  -----  \n",
      " 0   total_images          23699 non-null  int64  \n",
      " 1   last_price            23699 non-null  float64\n",
      " 2   total_area            23699 non-null  float64\n",
      " 3   first_day_exposition  23699 non-null  object \n",
      " 4   rooms                 23699 non-null  int64  \n",
      " 5   ceiling_height        14504 non-null  float64\n",
      " 6   floors_total          23613 non-null  float64\n",
      " 7   living_area           21796 non-null  float64\n",
      " 8   floor                 23699 non-null  int64  \n",
      " 9   is_apartment          2775 non-null   object \n",
      " 10  studio                23699 non-null  bool   \n",
      " 11  open_plan             23699 non-null  bool   \n",
      " 12  kitchen_area          21421 non-null  float64\n",
      " 13  balcony               12180 non-null  float64\n",
      " 14  locality_name         23650 non-null  object \n",
      " 15  airports_nearest      18157 non-null  float64\n",
      " 16  cityCenters_nearest   18180 non-null  float64\n",
      " 17  parks_around3000      18181 non-null  float64\n",
      " 18  parks_nearest         8079 non-null   float64\n",
      " 19  ponds_around3000      18181 non-null  float64\n",
      " 20  ponds_nearest         9110 non-null   float64\n",
      " 21  days_exposition       20518 non-null  float64\n",
      "dtypes: bool(2), float64(14), int64(3), object(3)\n",
      "memory usage: 3.7+ MB\n"
     ]
    }
   ],
   "source": [
    "data.info()"
   ]
  },
  {
   "cell_type": "code",
   "execution_count": 4,
   "metadata": {},
   "outputs": [
    {
     "data": {
      "text/html": [
       "<div>\n",
       "<style scoped>\n",
       "    .dataframe tbody tr th:only-of-type {\n",
       "        vertical-align: middle;\n",
       "    }\n",
       "\n",
       "    .dataframe tbody tr th {\n",
       "        vertical-align: top;\n",
       "    }\n",
       "\n",
       "    .dataframe thead th {\n",
       "        text-align: right;\n",
       "    }\n",
       "</style>\n",
       "<table border=\"1\" class=\"dataframe\">\n",
       "  <thead>\n",
       "    <tr style=\"text-align: right;\">\n",
       "      <th></th>\n",
       "      <th>total_images</th>\n",
       "      <th>last_price</th>\n",
       "      <th>total_area</th>\n",
       "      <th>rooms</th>\n",
       "      <th>ceiling_height</th>\n",
       "      <th>floors_total</th>\n",
       "      <th>living_area</th>\n",
       "      <th>floor</th>\n",
       "      <th>kitchen_area</th>\n",
       "      <th>balcony</th>\n",
       "      <th>airports_nearest</th>\n",
       "      <th>cityCenters_nearest</th>\n",
       "      <th>parks_around3000</th>\n",
       "      <th>parks_nearest</th>\n",
       "      <th>ponds_around3000</th>\n",
       "      <th>ponds_nearest</th>\n",
       "      <th>days_exposition</th>\n",
       "    </tr>\n",
       "  </thead>\n",
       "  <tbody>\n",
       "    <tr>\n",
       "      <th>count</th>\n",
       "      <td>23699.000000</td>\n",
       "      <td>2.369900e+04</td>\n",
       "      <td>23699.000000</td>\n",
       "      <td>23699.000000</td>\n",
       "      <td>14504.000000</td>\n",
       "      <td>23613.000000</td>\n",
       "      <td>21796.000000</td>\n",
       "      <td>23699.000000</td>\n",
       "      <td>21421.000000</td>\n",
       "      <td>12180.000000</td>\n",
       "      <td>18157.000000</td>\n",
       "      <td>18180.000000</td>\n",
       "      <td>18181.000000</td>\n",
       "      <td>8079.000000</td>\n",
       "      <td>18181.000000</td>\n",
       "      <td>9110.000000</td>\n",
       "      <td>20518.000000</td>\n",
       "    </tr>\n",
       "    <tr>\n",
       "      <th>mean</th>\n",
       "      <td>9.858475</td>\n",
       "      <td>6.541549e+06</td>\n",
       "      <td>60.348651</td>\n",
       "      <td>2.070636</td>\n",
       "      <td>2.771499</td>\n",
       "      <td>10.673824</td>\n",
       "      <td>34.457852</td>\n",
       "      <td>5.892358</td>\n",
       "      <td>10.569807</td>\n",
       "      <td>1.150082</td>\n",
       "      <td>28793.672193</td>\n",
       "      <td>14191.277833</td>\n",
       "      <td>0.611408</td>\n",
       "      <td>490.804555</td>\n",
       "      <td>0.770255</td>\n",
       "      <td>517.980900</td>\n",
       "      <td>180.888634</td>\n",
       "    </tr>\n",
       "    <tr>\n",
       "      <th>std</th>\n",
       "      <td>5.682529</td>\n",
       "      <td>1.088701e+07</td>\n",
       "      <td>35.654083</td>\n",
       "      <td>1.078405</td>\n",
       "      <td>1.261056</td>\n",
       "      <td>6.597173</td>\n",
       "      <td>22.030445</td>\n",
       "      <td>4.885249</td>\n",
       "      <td>5.905438</td>\n",
       "      <td>1.071300</td>\n",
       "      <td>12630.880622</td>\n",
       "      <td>8608.386210</td>\n",
       "      <td>0.802074</td>\n",
       "      <td>342.317995</td>\n",
       "      <td>0.938346</td>\n",
       "      <td>277.720643</td>\n",
       "      <td>219.727988</td>\n",
       "    </tr>\n",
       "    <tr>\n",
       "      <th>min</th>\n",
       "      <td>0.000000</td>\n",
       "      <td>1.219000e+04</td>\n",
       "      <td>12.000000</td>\n",
       "      <td>0.000000</td>\n",
       "      <td>1.000000</td>\n",
       "      <td>1.000000</td>\n",
       "      <td>2.000000</td>\n",
       "      <td>1.000000</td>\n",
       "      <td>1.300000</td>\n",
       "      <td>0.000000</td>\n",
       "      <td>0.000000</td>\n",
       "      <td>181.000000</td>\n",
       "      <td>0.000000</td>\n",
       "      <td>1.000000</td>\n",
       "      <td>0.000000</td>\n",
       "      <td>13.000000</td>\n",
       "      <td>1.000000</td>\n",
       "    </tr>\n",
       "    <tr>\n",
       "      <th>25%</th>\n",
       "      <td>6.000000</td>\n",
       "      <td>3.400000e+06</td>\n",
       "      <td>40.000000</td>\n",
       "      <td>1.000000</td>\n",
       "      <td>2.520000</td>\n",
       "      <td>5.000000</td>\n",
       "      <td>18.600000</td>\n",
       "      <td>2.000000</td>\n",
       "      <td>7.000000</td>\n",
       "      <td>0.000000</td>\n",
       "      <td>18585.000000</td>\n",
       "      <td>9238.000000</td>\n",
       "      <td>0.000000</td>\n",
       "      <td>288.000000</td>\n",
       "      <td>0.000000</td>\n",
       "      <td>294.000000</td>\n",
       "      <td>45.000000</td>\n",
       "    </tr>\n",
       "    <tr>\n",
       "      <th>50%</th>\n",
       "      <td>9.000000</td>\n",
       "      <td>4.650000e+06</td>\n",
       "      <td>52.000000</td>\n",
       "      <td>2.000000</td>\n",
       "      <td>2.650000</td>\n",
       "      <td>9.000000</td>\n",
       "      <td>30.000000</td>\n",
       "      <td>4.000000</td>\n",
       "      <td>9.100000</td>\n",
       "      <td>1.000000</td>\n",
       "      <td>26726.000000</td>\n",
       "      <td>13098.500000</td>\n",
       "      <td>0.000000</td>\n",
       "      <td>455.000000</td>\n",
       "      <td>1.000000</td>\n",
       "      <td>502.000000</td>\n",
       "      <td>95.000000</td>\n",
       "    </tr>\n",
       "    <tr>\n",
       "      <th>75%</th>\n",
       "      <td>14.000000</td>\n",
       "      <td>6.800000e+06</td>\n",
       "      <td>69.900000</td>\n",
       "      <td>3.000000</td>\n",
       "      <td>2.800000</td>\n",
       "      <td>16.000000</td>\n",
       "      <td>42.300000</td>\n",
       "      <td>8.000000</td>\n",
       "      <td>12.000000</td>\n",
       "      <td>2.000000</td>\n",
       "      <td>37273.000000</td>\n",
       "      <td>16293.000000</td>\n",
       "      <td>1.000000</td>\n",
       "      <td>612.000000</td>\n",
       "      <td>1.000000</td>\n",
       "      <td>729.000000</td>\n",
       "      <td>232.000000</td>\n",
       "    </tr>\n",
       "    <tr>\n",
       "      <th>max</th>\n",
       "      <td>50.000000</td>\n",
       "      <td>7.630000e+08</td>\n",
       "      <td>900.000000</td>\n",
       "      <td>19.000000</td>\n",
       "      <td>100.000000</td>\n",
       "      <td>60.000000</td>\n",
       "      <td>409.700000</td>\n",
       "      <td>33.000000</td>\n",
       "      <td>112.000000</td>\n",
       "      <td>5.000000</td>\n",
       "      <td>84869.000000</td>\n",
       "      <td>65968.000000</td>\n",
       "      <td>3.000000</td>\n",
       "      <td>3190.000000</td>\n",
       "      <td>3.000000</td>\n",
       "      <td>1344.000000</td>\n",
       "      <td>1580.000000</td>\n",
       "    </tr>\n",
       "  </tbody>\n",
       "</table>\n",
       "</div>"
      ],
      "text/plain": [
       "       total_images    last_price    total_area         rooms  ceiling_height  \\\n",
       "count  23699.000000  2.369900e+04  23699.000000  23699.000000    14504.000000   \n",
       "mean       9.858475  6.541549e+06     60.348651      2.070636        2.771499   \n",
       "std        5.682529  1.088701e+07     35.654083      1.078405        1.261056   \n",
       "min        0.000000  1.219000e+04     12.000000      0.000000        1.000000   \n",
       "25%        6.000000  3.400000e+06     40.000000      1.000000        2.520000   \n",
       "50%        9.000000  4.650000e+06     52.000000      2.000000        2.650000   \n",
       "75%       14.000000  6.800000e+06     69.900000      3.000000        2.800000   \n",
       "max       50.000000  7.630000e+08    900.000000     19.000000      100.000000   \n",
       "\n",
       "       floors_total   living_area         floor  kitchen_area       balcony  \\\n",
       "count  23613.000000  21796.000000  23699.000000  21421.000000  12180.000000   \n",
       "mean      10.673824     34.457852      5.892358     10.569807      1.150082   \n",
       "std        6.597173     22.030445      4.885249      5.905438      1.071300   \n",
       "min        1.000000      2.000000      1.000000      1.300000      0.000000   \n",
       "25%        5.000000     18.600000      2.000000      7.000000      0.000000   \n",
       "50%        9.000000     30.000000      4.000000      9.100000      1.000000   \n",
       "75%       16.000000     42.300000      8.000000     12.000000      2.000000   \n",
       "max       60.000000    409.700000     33.000000    112.000000      5.000000   \n",
       "\n",
       "       airports_nearest  cityCenters_nearest  parks_around3000  parks_nearest  \\\n",
       "count      18157.000000         18180.000000      18181.000000    8079.000000   \n",
       "mean       28793.672193         14191.277833          0.611408     490.804555   \n",
       "std        12630.880622          8608.386210          0.802074     342.317995   \n",
       "min            0.000000           181.000000          0.000000       1.000000   \n",
       "25%        18585.000000          9238.000000          0.000000     288.000000   \n",
       "50%        26726.000000         13098.500000          0.000000     455.000000   \n",
       "75%        37273.000000         16293.000000          1.000000     612.000000   \n",
       "max        84869.000000         65968.000000          3.000000    3190.000000   \n",
       "\n",
       "       ponds_around3000  ponds_nearest  days_exposition  \n",
       "count      18181.000000    9110.000000     20518.000000  \n",
       "mean           0.770255     517.980900       180.888634  \n",
       "std            0.938346     277.720643       219.727988  \n",
       "min            0.000000      13.000000         1.000000  \n",
       "25%            0.000000     294.000000        45.000000  \n",
       "50%            1.000000     502.000000        95.000000  \n",
       "75%            1.000000     729.000000       232.000000  \n",
       "max            3.000000    1344.000000      1580.000000  "
      ]
     },
     "execution_count": 4,
     "metadata": {},
     "output_type": "execute_result"
    }
   ],
   "source": [
    "data.describe()"
   ]
  },
  {
   "cell_type": "markdown",
   "metadata": {},
   "source": []
  },
  {
   "cell_type": "code",
   "execution_count": 5,
   "metadata": {},
   "outputs": [
    {
     "data": {
      "text/plain": [
       "array([[<AxesSubplot:title={'center':'total_images'}>,\n",
       "        <AxesSubplot:title={'center':'last_price'}>,\n",
       "        <AxesSubplot:title={'center':'total_area'}>,\n",
       "        <AxesSubplot:title={'center':'rooms'}>],\n",
       "       [<AxesSubplot:title={'center':'ceiling_height'}>,\n",
       "        <AxesSubplot:title={'center':'floors_total'}>,\n",
       "        <AxesSubplot:title={'center':'living_area'}>,\n",
       "        <AxesSubplot:title={'center':'floor'}>],\n",
       "       [<AxesSubplot:title={'center':'kitchen_area'}>,\n",
       "        <AxesSubplot:title={'center':'balcony'}>,\n",
       "        <AxesSubplot:title={'center':'airports_nearest'}>,\n",
       "        <AxesSubplot:title={'center':'cityCenters_nearest'}>],\n",
       "       [<AxesSubplot:title={'center':'parks_around3000'}>,\n",
       "        <AxesSubplot:title={'center':'parks_nearest'}>,\n",
       "        <AxesSubplot:title={'center':'ponds_around3000'}>,\n",
       "        <AxesSubplot:title={'center':'ponds_nearest'}>],\n",
       "       [<AxesSubplot:title={'center':'days_exposition'}>, <AxesSubplot:>,\n",
       "        <AxesSubplot:>, <AxesSubplot:>]], dtype=object)"
      ]
     },
     "execution_count": 5,
     "metadata": {},
     "output_type": "execute_result"
    },
    {
     "data": {
      "image/png": "[encoded data removed]",
      "text/plain": [
       "<Figure size 1080x1440 with 20 Axes>"
      ]
     },
     "metadata": {
      "needs_background": "light"
     },
     "output_type": "display_data"
    }
   ],
   "source": [
    "data.hist(figsize=(15, 20))"
   ]
  },
  {
   "cell_type": "markdown",
   "metadata": {},
   "source": [
    "Чаще всего люди прикрепляют от 5 до 15 фотографий в объявлениях\n",
    "Больше всего объявлений с квартирами, находящимися с 1 по 10 этаж, с 2-3 комнатами. Чаще всего в квартирах либо 1-2 балкона, либо 0. Жилая площадь в большинстве случаев составаляет от 0 до 40 кв.м., а кухонная от 0 до 12.5 кв.м. Чаще всего парков и прудов поблизости нет."
   ]
  },
  {
   "cell_type": "code",
   "execution_count": 6,
   "metadata": {},
   "outputs": [
    {
     "data": {
      "text/plain": [
       "total_images                0\n",
       "last_price                  0\n",
       "total_area                  0\n",
       "first_day_exposition        0\n",
       "rooms                       0\n",
       "ceiling_height           9195\n",
       "floors_total               86\n",
       "living_area              1903\n",
       "floor                       0\n",
       "is_apartment            20924\n",
       "studio                      0\n",
       "open_plan                   0\n",
       "kitchen_area             2278\n",
       "balcony                 11519\n",
       "locality_name              49\n",
       "airports_nearest         5542\n",
       "cityCenters_nearest      5519\n",
       "parks_around3000         5518\n",
       "parks_nearest           15620\n",
       "ponds_around3000         5518\n",
       "ponds_nearest           14589\n",
       "days_exposition          3181\n",
       "dtype: int64"
      ]
     },
     "execution_count": 6,
     "metadata": {},
     "output_type": "execute_result"
    }
   ],
   "source": [
    "data.isna().sum()"
   ]
  },
  {
   "cell_type": "markdown",
   "metadata": {},
   "source": [
    "В данных досточное кол-во пробелов, которые сложно заменить медианным или средним значениями, такие пропуски встречаются в столбцах с площадью (общей, жилой и кухонной), но заполнение данных пропусков может только испортить исследование. \n",
    "Кроме того пропуски встречаются в названиях населенных пунктов, которые также сложно заполнить, это может повлиять на дальнейший расчет стоимости одного километра.\n",
    "Пропуски в кол-ве близлежащих парков или прудов могут возникать из-за их отсутствия рядом с объектами недвижимости. \n"
   ]
  },
  {
   "cell_type": "markdown",
   "metadata": {},
   "source": [
    "### Предобработка данных"
   ]
  },
  {
   "cell_type": "markdown",
   "metadata": {},
   "source": [
    "В данных достаточно много пропущенных значений, есть столбцы с некорректным типом данных. Пропуски есть во всех столбцах, кроме total_images, last_price, total_area, first_day_exposition, rooms, floor, studio, open_plan.            "
   ]
  },
  {
   "cell_type": "code",
   "execution_count": 7,
   "metadata": {},
   "outputs": [],
   "source": [
    "data = data.rename(columns={'balcony' : 'balcony', 'cityCenters_nearest' : 'city_centers_nearest'})"
   ]
  },
  {
   "cell_type": "code",
   "execution_count": 8,
   "metadata": {},
   "outputs": [
    {
     "name": "stdout",
     "output_type": "stream",
     "text": [
      "[  2.7     nan   3.03   2.5    2.67   2.56   3.05   2.75   2.6    2.9\n",
      "   2.8    2.55   3.     2.65   3.2    2.61   3.25   3.45   2.77   2.85\n",
      "   2.64   2.57   4.15   3.5    3.3    2.71   4.     2.47   2.73   2.84\n",
      "   3.1    2.34   3.4    3.06   2.72   2.54   2.51   2.78   2.76  25.\n",
      "   2.58   3.7    2.52   5.2    2.87   2.66   2.59   2.     2.45   3.6\n",
      "   2.92   3.11   3.13   3.8    3.15   3.55   3.16   3.62   3.12   2.53\n",
      "   2.74   2.96   2.46   5.3    5.     2.79   2.95   4.06   2.94   3.82\n",
      "   3.54   3.53   2.83   4.7    2.4    3.38   3.01   5.6    3.65   3.9\n",
      "   3.18   3.35   2.3    3.57   2.48   2.62   2.82   3.98   2.63   3.83\n",
      "   3.52   3.95   3.75   2.88   3.67   3.87   3.66   3.85   3.86   4.19\n",
      "   3.24   4.8    4.5    4.2    3.36  32.     3.08   3.68   3.07   3.37\n",
      "   3.09   8.     3.26   3.34   2.81   3.44   2.97   3.14   4.37   2.68\n",
      "   3.22   3.27  27.     4.1    2.93   3.46  24.     3.47   3.33   3.63\n",
      "   3.32  26.     1.2    8.3    2.98   2.86   3.17   4.4    3.28   3.04\n",
      "   4.45   5.5    3.84   3.23   3.02   3.21   3.43   3.78   4.3    3.39\n",
      "   2.69   3.31   4.65   3.56   2.2    3.51   3.93   3.42   2.99   3.49\n",
      "  14.     4.14   2.91   3.88   1.75   4.25   3.29  20.     2.25   3.76\n",
      "   3.69   6.    22.6    2.89   3.58   5.8   27.5    2.49   4.9    3.48\n",
      "  10.3    1.   100.     3.59]\n"
     ]
    }
   ],
   "source": [
    "print(data['ceiling_height'].unique())"
   ]
  },
  {
   "cell_type": "code",
   "execution_count": 9,
   "metadata": {},
   "outputs": [],
   "source": [
    "data.loc[(data['ceiling_height'] > 20) & (data['ceiling_height'] < 50), 'ceiling_height'] = \\\n",
    "data['ceiling_height'] / 10"
   ]
  },
  {
   "cell_type": "code",
   "execution_count": 10,
   "metadata": {},
   "outputs": [
    {
     "name": "stdout",
     "output_type": "stream",
     "text": [
      "[2.7   nan 3.03 2.67 2.56 3.05 2.75 2.6  2.9  2.8  2.55 3.   2.65 3.2\n",
      " 2.61 3.25 3.45 2.77 2.85 2.64 2.57 4.15 3.5  3.3  2.71 4.   2.73 2.84\n",
      " 3.1  3.4  3.06 2.72 2.54 2.51 2.78 2.76 2.58 3.7  2.52 5.2  2.87 2.66\n",
      " 2.59 3.6  2.92 3.11 3.13 3.8  3.15 3.55 3.16 3.62 3.12 2.53 2.74 2.96\n",
      " 5.3  5.   2.79 2.95 4.06 2.94 3.82 3.54 3.53 2.83 4.7  3.38 3.01 5.6\n",
      " 3.65 3.9  3.18 3.35 3.57 2.62 2.82 3.98 2.63 3.83 3.52 3.95 3.75 2.88\n",
      " 3.67 3.87 3.66 3.85 3.86 4.19 3.24 4.8  4.5  4.2  3.36 3.08 3.68 3.07\n",
      " 3.37 3.09 8.   3.26 3.34 2.81 3.44 2.97 3.14 4.37 2.68 3.22 3.27 4.1\n",
      " 2.93 3.46 3.47 3.33 3.63 3.32 8.3  2.98 2.86 3.17 4.4  3.28 3.04 4.45\n",
      " 5.5  3.84 3.23 3.02 3.21 3.43 3.78 4.3  3.39 2.69 3.31 4.65 3.56 3.51\n",
      " 3.93 3.42 2.99 3.49 4.14 2.91 3.88 4.25 3.29 3.76 3.69 6.   2.89 3.58\n",
      " 5.8  4.9  3.48 3.59]\n"
     ]
    }
   ],
   "source": [
    "#убираем квартиры с потолкам ниже 2.5 м, т.к. по СНИП минимальная высота 2.5 метров, \n",
    "#и больше 10 метров, так как такие объекты скорее являются аномальными.\n",
    "data['ceiling_height'] = data.loc[(data['ceiling_height'] > 2.5) & (data['ceiling_height'] < 10), 'ceiling_height']\n",
    "print(data['ceiling_height'].unique())"
   ]
  },
  {
   "cell_type": "code",
   "execution_count": 11,
   "metadata": {},
   "outputs": [
    {
     "name": "stdout",
     "output_type": "stream",
     "text": [
      "[2.7  3.03 2.67 2.56 3.05 2.75 2.6  2.9  2.8  2.55 3.   2.65 3.2  2.61\n",
      " 3.25 3.45 2.77 2.85 2.64 2.57 4.15 3.5  3.3  2.71 4.   2.73 2.84 3.1\n",
      " 3.4  3.06 2.72 2.54 2.51 2.78 2.76 2.58 3.7  2.52 5.2  2.87 2.66 2.59\n",
      " 3.6  2.92 3.11 3.13 3.8  3.15 3.55 3.16 3.62 3.12 2.53 2.74 2.96 5.3\n",
      " 5.   2.79 2.95 4.06 2.94 3.82 3.54 3.53 2.83 4.7  3.38 3.01 5.6  3.65\n",
      " 3.9  3.18 3.35 3.57 2.62 2.82 3.98 2.63 3.83 3.52 3.95 3.75 2.88 3.67\n",
      " 3.87 3.66 3.85 3.86 4.19 3.24 4.8  4.5  4.2  3.36 3.08 3.68 3.07 3.37\n",
      " 3.09 8.   3.26 3.34 2.81 3.44 2.97 3.14 4.37 2.68 3.22 3.27 4.1  2.93\n",
      " 3.46 3.47 3.33 3.63 3.32 8.3  2.98 2.86 3.17 4.4  3.28 3.04 4.45 5.5\n",
      " 3.84 3.23 3.02 3.21 3.43 3.78 4.3  3.39 2.69 3.31 4.65 3.56 3.51 3.93\n",
      " 3.42 2.99 3.49 4.14 2.91 3.88 4.25 3.29 3.76 3.69 6.   2.89 3.58 5.8\n",
      " 4.9  3.48 3.59]\n"
     ]
    }
   ],
   "source": [
    "#заполняем пропуски в столбце ceiling_height медианным значением, т.к. среднее будет некорректным\n",
    "data['ceiling_height'] = data['ceiling_height'].fillna(data['ceiling_height'].median())\n",
    "print(data['ceiling_height'].unique())"
   ]
  },
  {
   "cell_type": "code",
   "execution_count": 12,
   "metadata": {
    "scrolled": true
   },
   "outputs": [
    {
     "name": "stdout",
     "output_type": "stream",
     "text": [
      "0    15277\n",
      "1     4195\n",
      "2     3659\n",
      "5      304\n",
      "4      183\n",
      "3       81\n",
      "Name: balcony, dtype: int64\n"
     ]
    }
   ],
   "source": [
    "#заполнили пропуски в столбце balcony, заменили их на 0, \n",
    "#т.к. предполагаем, что если информация о балконе отсутсвует, то это значит, что балкона в квартире нет. \n",
    "#И изменим тип столбца на целочисленный\n",
    "data['balcony'] = data['balcony'].fillna('0')\n",
    "data['balcony'] = data['balcony'].astype('int')\n",
    "print(data['balcony'].value_counts())"
   ]
  },
  {
   "cell_type": "code",
   "execution_count": 13,
   "metadata": {},
   "outputs": [
    {
     "name": "stdout",
     "output_type": "stream",
     "text": [
      "[0.         2.07063589 1.         2.         3.         4.\n",
      " 5.        ]\n"
     ]
    }
   ],
   "source": [
    "data.loc[data['balcony'] > data['rooms'], 'balcony'] = data['rooms'].mean()\n",
    "print(data['balcony'].unique())"
   ]
  },
  {
   "cell_type": "code",
   "execution_count": 14,
   "metadata": {},
   "outputs": [
    {
     "name": "stdout",
     "output_type": "stream",
     "text": [
      "9.0\n",
      "5     5788\n",
      "9     3880\n",
      "16    1376\n",
      "12    1362\n",
      "4     1200\n",
      "10    1174\n",
      "25    1075\n",
      "6      914\n",
      "17     833\n",
      "3      668\n",
      "7      592\n",
      "14     553\n",
      "18     505\n",
      "24     469\n",
      "8      390\n",
      "2      383\n",
      "15     365\n",
      "23     352\n",
      "19     339\n",
      "22     286\n",
      "20     271\n",
      "13     229\n",
      "11     203\n",
      "27     164\n",
      "21     158\n",
      "26     124\n",
      "1       25\n",
      "28      21\n",
      "Name: floors_total, dtype: int64\n"
     ]
    }
   ],
   "source": [
    "#убираем выбросы в столбце floors_total\n",
    "data['floors_total'] = data.loc[data['floors_total'] <29, 'floors_total']\n",
    "print(data['floors_total'].median())\n",
    "data.isna().sum()\n",
    "data['floors_total'] = data['floors_total'].fillna(data['floors_total'].median())\n",
    "data['floors_total'] = data['floors_total'].astype('int')\n",
    "print(data['floors_total'].value_counts())"
   ]
  },
  {
   "cell_type": "markdown",
   "metadata": {},
   "source": [
    "Удаляем квартиры с жилой площадью и площадью кухни меньше 8 кв. м., такое подобные противоречат нормам снип, также избавляемся от объектов, где жилая площадь больше 250 кв.м. и площадь кухни больше 60 кв.м., т.к. при изучении гистограмм можно заметить, что объекты с подобной квадратурой скорее являются аномалиями и могут исказить исследование \n"
   ]
  },
  {
   "cell_type": "code",
   "execution_count": 15,
   "metadata": {},
   "outputs": [],
   "source": [
    "data['total_area'] = data.loc[data['total_area'] <= 400, 'total_area']\n",
    "data['living_area'] = data.loc[(data['living_area'] > 8) & (data['living_area'] <= 250), 'living_area']\n",
    "data['kitchen_area'] = data.loc[(data['kitchen_area'] > 8) & (data['kitchen_area'] <= 60), 'kitchen_area']\n"
   ]
  },
  {
   "cell_type": "code",
   "execution_count": 16,
   "metadata": {},
   "outputs": [
    {
     "name": "stdout",
     "output_type": "stream",
     "text": [
      "19904    12.0\n",
      "19807    13.0\n",
      "17961    13.0\n",
      "19546    13.0\n",
      "19558    13.2\n",
      "         ... \n",
      "19540     NaN\n",
      "20273     NaN\n",
      "21955     NaN\n",
      "22131     NaN\n",
      "22494     NaN\n",
      "Name: total_area, Length: 23699, dtype: float64\n"
     ]
    }
   ],
   "source": [
    "print(data['total_area'].sort_values())"
   ]
  },
  {
   "cell_type": "markdown",
   "metadata": {},
   "source": [
    "Убираем квартиры с количеством комнат больше 9, так как, если посмотреть на данные, то это скорее аномальные данные, которые могут испортить исследование, а пропуски и 0 меняем на 1, т.к. в любом случае в квартире есть хотя бы одна комната"
   ]
  },
  {
   "cell_type": "code",
   "execution_count": 17,
   "metadata": {},
   "outputs": [],
   "source": [
    "#data['rooms'] = data.loc[data['rooms'] <= 5, 'rooms']\n",
    "#data.loc[data['rooms'] == 0, 'rooms'] = 1\n",
    "#data['rooms'] = data['rooms'].fillna(1)\n",
    "#print(data['rooms'].unique())"
   ]
  },
  {
   "cell_type": "code",
   "execution_count": 18,
   "metadata": {},
   "outputs": [
    {
     "data": {
      "text/plain": [
       "<AxesSubplot:>"
      ]
     },
     "execution_count": 18,
     "metadata": {},
     "output_type": "execute_result"
    },
    {
     "data": {
      "image/png": "[encoded data removed]",
      "text/plain": [
       "<Figure size 432x288 with 1 Axes>"
      ]
     },
     "metadata": {
      "needs_background": "light"
     },
     "output_type": "display_data"
    }
   ],
   "source": [
    "data['rooms'].hist()"
   ]
  },
  {
   "cell_type": "markdown",
   "metadata": {},
   "source": [
    "Убираем выброс - квартиру с ценой в 12 тысяч"
   ]
  },
  {
   "cell_type": "code",
   "execution_count": 19,
   "metadata": {},
   "outputs": [],
   "source": [
    "data['last_price'] = data.loc[data['last_price'] > 13000, 'last_price']"
   ]
  },
  {
   "cell_type": "code",
   "execution_count": 20,
   "metadata": {},
   "outputs": [
    {
     "name": "stdout",
     "output_type": "stream",
     "text": [
      "0        True\n",
      "1        True\n",
      "2        True\n",
      "3        True\n",
      "4        True\n",
      "         ... \n",
      "23694    True\n",
      "23695    True\n",
      "23696    True\n",
      "23697    True\n",
      "23698    True\n",
      "Name: is_apartment, Length: 23699, dtype: bool\n",
      "[ True False]\n"
     ]
    }
   ],
   "source": [
    "#изменяем тип данных столбца is_apartment, сразу исчезают пропуски\n",
    "data['is_apartment'] = data['is_apartment'].astype('bool')\n",
    "print(data['is_apartment'])\n",
    "print(data['is_apartment'].unique())"
   ]
  },
  {
   "cell_type": "code",
   "execution_count": 21,
   "metadata": {
    "scrolled": true
   },
   "outputs": [
    {
     "name": "stdout",
     "output_type": "stream",
     "text": [
      "['санкт-петербург' 'поселок шушары' 'поселок янино-1' 'поселок парголово'\n",
      " 'мурино' 'ломоносов' 'сертолово' 'петергоф' 'пушкин' 'деревня кудрово'\n",
      " 'коммунар' 'колпино' 'поселок красный бор' 'гатчина'\n",
      " 'деревня федоровское' 'выборг' 'кронштадт' 'кировск'\n",
      " 'деревня новое девяткино' 'поселок металлострой' 'поселок лебяжье'\n",
      " 'поселок сиверский' 'поселок молодцово' 'поселок кузьмоловский'\n",
      " 'садовое товарищество новая ропша' 'павловск' 'деревня пикколово'\n",
      " 'всеволожск' 'волхов' 'кингисепп' 'приозерск' 'сестрорецк'\n",
      " 'деревня куттузи' 'поселок аннино' 'поселок ефимовский'\n",
      " 'поселок плодовое' 'деревня заклинье' 'поселок торковичи'\n",
      " 'поселок первомайское' 'красное село' 'поселок понтонный' 'сясьстрой'\n",
      " 'деревня старая' 'деревня лесколово' 'поселок новый свет' 'сланцы'\n",
      " 'село путилово' 'ивангород' 'шлиссельбург' 'никольское' 'зеленогорск'\n",
      " 'сосновый бор' 'деревня оржицы' 'деревня кальтино' 'кудрово'\n",
      " 'поселок романовка' 'поселок бугры' 'поселок рощино' 'кириши' 'луга'\n",
      " 'волосово' 'отрадное' 'село павлово' 'поселок оредеж' 'село копорье'\n",
      " 'поселок молодежное' 'тихвин' 'поселок победа' 'деревня нурма'\n",
      " 'поселок синявино' 'тосно' 'поселок стрельна' 'бокситогорск'\n",
      " 'поселок александровская' 'деревня лопухинка' 'пикалево'\n",
      " 'поселок терволово' 'поселок советский' 'подпорожье' 'поселок петровское'\n",
      " 'поселок токсово' 'поселок сельцо' 'поселок вырица' 'деревня кипень'\n",
      " 'деревня келози' 'деревня вартемяги' 'поселок тельмана'\n",
      " 'поселок севастьяново' 'поселок большая ижора' nan 'деревня павлово'\n",
      " 'деревня агалатово' 'поселок новогорелово' 'поселок лесогорский'\n",
      " 'деревня лаголово' 'поселок цвелодубово' 'поселок рахья'\n",
      " 'деревня белогорка' 'поселок заводской' 'поселок новоселье'\n",
      " 'деревня большие колпаны' 'деревня горбунки' 'деревня батово'\n",
      " 'деревня заневка' 'деревня иссад' 'приморск' 'деревня мистолово'\n",
      " 'новая ладога' 'деревня зимитицы' 'поселок барышево'\n",
      " 'деревня разметелево' 'поселок имени свердлова' 'деревня пеники'\n",
      " 'поселок рябово' 'деревня пудомяги' 'поселок станции корнево'\n",
      " 'деревня низино' 'деревня бегуницы' 'поселок поляны' 'поселок мга'\n",
      " 'поселок елизаветино' 'поселок кузнечное' 'деревня колтуши'\n",
      " 'поселок запорожское' 'деревня гостилицы' 'деревня малое карлино'\n",
      " 'поселок мичуринское' 'поселок имени морозова' 'поселок песочный'\n",
      " 'поселок сосново' 'деревня аро' 'поселок ильичево' 'поселок тайцы'\n",
      " 'деревня малое верево' 'деревня извара' 'поселок станции вещево'\n",
      " 'село паша' 'деревня калитино' 'поселок ульяновка' 'деревня чудской бор'\n",
      " 'поселок дубровка' 'деревня мины' 'поселок войсковицы' 'деревня коркино'\n",
      " 'поселок ропша' 'поселок приладожский' 'поселок щеглово'\n",
      " 'поселок гаврилово' 'лодейное поле' 'деревня рабитицы'\n",
      " 'поселок никольский' 'деревня малые колпаны' 'поселок петро-славянка'\n",
      " 'поселок назия' 'поселок репино' 'поселок углово'\n",
      " 'поселок старая малукса' 'садовое товарищество рахья' 'деревня меньково'\n",
      " 'деревня старые бегуницы' 'поселок саперный' 'поселок семрино'\n",
      " 'поселок глажево' 'поселок кобринское' 'деревня гарболово' 'деревня юкки'\n",
      " 'поселок станции приветнинское' 'деревня мануйлово' 'деревня пчева'\n",
      " 'поселок цвылево' 'поселок мельниково' 'поселок пудость'\n",
      " 'поселок усть-луга' 'светогорск' 'любань' 'поселок селезнево'\n",
      " 'каменногорск' 'деревня кривко' 'поселок глебычево' 'деревня парицы'\n",
      " 'поселок жилпоселок' 'поселок войскорово' 'село никольское'\n",
      " 'поселок стеклянный' 'поселок важины' 'поселок мыза-ивановка'\n",
      " 'село русско-высоцкое' 'поселок форносово' 'село старая ладога'\n",
      " 'поселок житково' 'поселок виллози' 'деревня лампово' 'деревня шпаньково'\n",
      " 'деревня лаврики' 'поселок сумино' 'поселок возрождение'\n",
      " 'деревня старосиверская' 'поселок кикерино' 'деревня старое хинколово'\n",
      " 'поселок пригородный' 'поселок торфяное' 'поселок будогощь'\n",
      " 'поселок суходолье' 'поселок красная долина' 'деревня хапо-ое'\n",
      " 'поселок дружная горка' 'поселок лисий нос' 'деревня яльгелево'\n",
      " 'село рождествено' 'деревня старополье' 'поселок левашово'\n",
      " 'деревня сяськелево' 'деревня камышовка'\n",
      " 'садоводческое некоммерческое товарищество лесная поляна'\n",
      " 'деревня хязельки' 'поселок жилгородок' 'деревня ялгино'\n",
      " 'поселок новый учхоз' 'поселок гончарово' 'поселок почап'\n",
      " 'поселок саперное' 'поселок платформа 69-й километр' 'поселок каложицы'\n",
      " 'деревня фалилеево' 'деревня пельгора' 'деревня торошковичи'\n",
      " 'поселок белоостров' 'поселок алексеевка' 'поселок серебрянский'\n",
      " 'поселок лукаши' 'деревня щеглово' 'деревня тарасово'\n",
      " 'поселок кингисеппский' 'поселок ушаки' 'деревня котлы' 'деревня сижно'\n",
      " 'деревня торосово' 'поселок форт красная горка' 'деревня новолисино'\n",
      " 'поселок станции громово' 'деревня глинка' 'деревня старая пустошь'\n",
      " 'поселок коммунары' 'поселок починок' 'поселок вознесенье'\n",
      " 'деревня разбегаево' 'поселок гладкое' 'поселок тесово-4' 'деревня бор'\n",
      " 'поселок коробицыно' 'деревня большая вруда' 'деревня курковицы'\n",
      " 'поселок кобралово' 'деревня суоранда' 'поселок кондратьево'\n",
      " 'коттеджный поселок счастье' 'поселок любань' 'деревня реброво'\n",
      " 'деревня тойворово' 'поселок семиозерье' 'поселок лесное'\n",
      " 'поселок совхозный' 'поселок ленинское' 'поселок суйда'\n",
      " 'деревня нижние осельки' 'поселок станции свирь' 'поселок перово'\n",
      " 'высоцк' 'село шум' 'поселок котельский' 'поселок станции лужайка'\n",
      " 'деревня большая пустомержа' 'поселок красносельское'\n",
      " 'деревня вахнова кара' 'деревня пижма'\n",
      " 'коттеджный поселок кивеннапа север' 'поселок ромашки' 'деревня каськово'\n",
      " 'деревня куровицы' 'поселок плоское' 'поселок кирпичное'\n",
      " 'деревня ям-тесово' 'деревня раздолье' 'деревня терпилицы'\n",
      " 'поселок шугозеро' 'деревня ваганово' 'поселок пушное'\n",
      " 'садовое товарищество садко' 'поселок усть-ижора' 'деревня выскатка'\n",
      " 'поселок свирьстрой' 'поселок громово' 'деревня кисельня'\n",
      " 'деревня трубников бор' 'поселок высокоключевой'\n",
      " 'садовое товарищество приладожский' 'поселок пансионат зеленый бор'\n",
      " 'деревня ненимяки' 'деревня снегиревка' 'деревня рапполово'\n",
      " 'деревня пустынка' 'деревня большой сабск' 'деревня русско'\n",
      " 'деревня лупполово' 'деревня большое рейзино' 'деревня малая романовка'\n",
      " 'поселок дружноселье' 'поселок пчевжа' 'поселок володарское'\n",
      " 'деревня нижняя' 'коттеджный поселок лесное' 'деревня тихковицы'\n",
      " 'деревня борисова грива' 'поселок дзержинского']\n"
     ]
    }
   ],
   "source": [
    "#Заменены все дубликаты\n",
    "data['locality_name'] = data['locality_name'].str.lower().str.replace('ё', 'е')\n",
    "data['locality_name'] = data['locality_name'].str.replace('поселок городского типа', 'городской поселок')\n",
    "data['locality_name'] = data['locality_name'].str.replace('городской поселок', 'поселок')\n",
    "data['locality_name'] = data['locality_name'].str.replace('поселок мурино', 'мурино')\n",
    "data['locality_name'] = data['locality_name'].str.replace('село рахья', 'рахья')\n",
    "data['locality_name'] = data['locality_name'].str.replace('поселок гарболово', 'деревня гарболово')\n",
    "data['locality_name'] = data['locality_name'].str.replace('поселок зимитицы', 'деревня зимитицы')\n",
    "data['locality_name'] = data['locality_name'].str.replace('поселок калитино', 'деревня калитино')\n",
    "data['locality_name'] = data['locality_name'].str.replace('деревня кузьмолово', 'поселок кузьмоловский')\n",
    "data['locality_name'] = data['locality_name'].str.replace('поселок павлово', 'деревня павлово')\n",
    "data['locality_name'] = data['locality_name'].str.replace('поселок рабитицы', 'деревня рабитицы')\n",
    "data['locality_name'] = data['locality_name'].str.replace('поселок при железнодорожной станции вещево', 'поселок станции вещево')\n",
    "data['locality_name'] = data['locality_name'].str.replace('поселок при железнодорожной станции приветнинское', 'поселок станции приветнинское')\n",
    "data['locality_name'] = data['locality_name'].str.replace('поселок федоровское', 'деревня федоровское')\n",
    "print(data['locality_name'].unique())"
   ]
  },
  {
   "cell_type": "markdown",
   "metadata": {},
   "source": [
    "!НОВЫЙ ВЫВОД!\n",
    "\n",
    "Были проанализированы данные и найдены аномалии в них. Так, была исключена недвижимость с исключительно низкой стоимостью (в примерно 12 тысяч). Были исключены квартиры с потолками с высотой меньше 2.5 метров и больше 10 метров, пропуски были заполнены медианным значением. Объекты, в которых этажей больше 29 также были исключены, во-первых, Санкт-Петербург не является городом с огромным кол-ом многоэтажных домов и некоторые из находящихся в наборе данных объектов просто не были правдоподобными, а другие исключенные просто являлись аномальными и могли навредить результатам исследования. Были проанализированы названия населенных пунктов и удалены дубликаты. Также были удалены объекты, площадь которых противоречила нормам снипа. "
   ]
  },
  {
   "cell_type": "markdown",
   "metadata": {},
   "source": [
    "### Посчитайте и добавьте в таблицу новые столбцы"
   ]
  },
  {
   "cell_type": "code",
   "execution_count": 22,
   "metadata": {},
   "outputs": [
    {
     "name": "stdout",
     "output_type": "stream",
     "text": [
      "0        120370.370370\n",
      "1         82920.792079\n",
      "2         92785.714286\n",
      "3        408176.100629\n",
      "4        100000.000000\n",
      "             ...      \n",
      "23694     72490.845228\n",
      "23695     52542.372881\n",
      "23696     44091.710758\n",
      "23697    149511.400651\n",
      "23698     41795.665635\n",
      "Name: metr_price, Length: 23699, dtype: float64\n"
     ]
    }
   ],
   "source": [
    "#добавляем столбец с ценой одного квадратного метра \n",
    "data['metr_price'] = data['last_price']/data['total_area']\n",
    "print(data['metr_price'])"
   ]
  },
  {
   "cell_type": "code",
   "execution_count": 23,
   "metadata": {},
   "outputs": [],
   "source": [
    "data['first_day_exposition'] = pd.to_datetime(data['first_day_exposition'])"
   ]
  },
  {
   "cell_type": "code",
   "execution_count": 24,
   "metadata": {},
   "outputs": [
    {
     "name": "stdout",
     "output_type": "stream",
     "text": [
      "   total_images  last_price  total_area first_day_exposition  rooms  \\\n",
      "0            20  13000000.0       108.0           2019-03-07      3   \n",
      "1             7   3350000.0        40.4           2018-12-04      1   \n",
      "2            10   5196000.0        56.0           2015-08-20      2   \n",
      "3             0  64900000.0       159.0           2015-07-24      3   \n",
      "4             2  10000000.0       100.0           2018-06-19      2   \n",
      "\n",
      "   ceiling_height  floors_total  living_area  floor  is_apartment  ...  \\\n",
      "0            2.70            16         51.0      8          True  ...   \n",
      "1            2.70            11         18.6      1          True  ...   \n",
      "2            2.70             5         34.3      4          True  ...   \n",
      "3            2.70            14          NaN      9          True  ...   \n",
      "4            3.03            14         32.0     13          True  ...   \n",
      "\n",
      "   city_centers_nearest  parks_around3000  parks_nearest  ponds_around3000  \\\n",
      "0               16028.0               1.0          482.0               2.0   \n",
      "1               18603.0               0.0            NaN               0.0   \n",
      "2               13933.0               1.0           90.0               2.0   \n",
      "3                6800.0               2.0           84.0               3.0   \n",
      "4                8098.0               2.0          112.0               1.0   \n",
      "\n",
      "  ponds_nearest  days_exposition     metr_price  weekday  month  year  \n",
      "0         755.0              NaN  120370.370370        3      3  2019  \n",
      "1           NaN             81.0   82920.792079        1     12  2018  \n",
      "2         574.0            558.0   92785.714286        3      8  2015  \n",
      "3         234.0            424.0  408176.100629        4      7  2015  \n",
      "4          48.0            121.0  100000.000000        1      6  2018  \n",
      "\n",
      "[5 rows x 26 columns]\n"
     ]
    }
   ],
   "source": [
    "data['weekday'] = data['first_day_exposition'].dt.weekday\n",
    "data['month'] = data['first_day_exposition'].dt.month\n",
    "data['year'] = data['first_day_exposition'].dt.year\n",
    "print(data.head())"
   ]
  },
  {
   "cell_type": "code",
   "execution_count": 25,
   "metadata": {},
   "outputs": [],
   "source": [
    "def floor_type(row):\n",
    "    try:\n",
    "        if row['floor'] == 1:\n",
    "            return 'первый'\n",
    "        elif row['floor'] == row['floors_total']:\n",
    "            return 'последний'\n",
    "        elif row['floor'] == row['floor'] & row['floor'] != 1 & row['floor'] != row['floors_total']: \n",
    "            return 'другой'\n",
    "    except:\n",
    "        pass"
   ]
  },
  {
   "cell_type": "code",
   "execution_count": 26,
   "metadata": {},
   "outputs": [
    {
     "name": "stdout",
     "output_type": "stream",
     "text": [
      "['другой' 'первый' 'последний']\n"
     ]
    }
   ],
   "source": [
    "data['floor_type'] = data.apply(floor_type, axis=1)\n",
    "print(data['floor_type'].unique())"
   ]
  },
  {
   "cell_type": "code",
   "execution_count": 27,
   "metadata": {},
   "outputs": [
    {
     "name": "stdout",
     "output_type": "stream",
     "text": [
      "0        16.0\n",
      "1        18.0\n",
      "2        13.0\n",
      "3         6.0\n",
      "4         8.0\n",
      "         ... \n",
      "23694     4.0\n",
      "23695     NaN\n",
      "23696     NaN\n",
      "23697    10.0\n",
      "23698     NaN\n",
      "Name: city_centers_nearest_km, Length: 23699, dtype: float64\n"
     ]
    }
   ],
   "source": [
    "data['city_centers_nearest_km'] = data['city_centers_nearest']//1000\n",
    "print(data['city_centers_nearest_km'])"
   ]
  },
  {
   "cell_type": "markdown",
   "metadata": {},
   "source": [
    "### Проведите исследовательский анализ данных"
   ]
  },
  {
   "cell_type": "markdown",
   "metadata": {},
   "source": [
    "Большинство квартир имеют площадь от 25 кв.м. до 75 кв.м., больших квартир (с площадью больше 100 кв.м.) достаточно мало."
   ]
  },
  {
   "cell_type": "code",
   "execution_count": 28,
   "metadata": {},
   "outputs": [
    {
     "data": {
      "text/plain": [
       "<AxesSubplot:>"
      ]
     },
     "execution_count": 28,
     "metadata": {},
     "output_type": "execute_result"
    },
    {
     "data": {
      "image/png": "[encoded data removed]",
      "text/plain": [
       "<Figure size 432x288 with 1 Axes>"
      ]
     },
     "metadata": {
      "needs_background": "light"
     },
     "output_type": "display_data"
    }
   ],
   "source": [
    "data['total_area'].hist(range=(0, 250))"
   ]
  },
  {
   "cell_type": "markdown",
   "metadata": {},
   "source": [
    "Жилая площадь в квартирах чаще всего занимает примерно от 8 кв.м. до 25 кв.м., "
   ]
  },
  {
   "cell_type": "code",
   "execution_count": 29,
   "metadata": {},
   "outputs": [
    {
     "data": {
      "text/plain": [
       "<AxesSubplot:>"
      ]
     },
     "execution_count": 29,
     "metadata": {},
     "output_type": "execute_result"
    },
    {
     "data": {
      "image/png": "[encoded data removed]",
      "text/plain": [
       "<Figure size 432x288 with 1 Axes>"
      ]
     },
     "metadata": {
      "needs_background": "light"
     },
     "output_type": "display_data"
    }
   ],
   "source": [
    "data['living_area'].hist(range=(8,250))"
   ]
  },
  {
   "cell_type": "markdown",
   "metadata": {},
   "source": [
    "Чаще всего площадь кухни равна от 8 до примерно 13 кв.м."
   ]
  },
  {
   "cell_type": "code",
   "execution_count": 30,
   "metadata": {},
   "outputs": [
    {
     "data": {
      "text/plain": [
       "<AxesSubplot:>"
      ]
     },
     "execution_count": 30,
     "metadata": {},
     "output_type": "execute_result"
    },
    {
     "data": {
      "image/png": "[encoded data removed]",
      "text/plain": [
       "<Figure size 432x288 with 1 Axes>"
      ]
     },
     "metadata": {
      "needs_background": "light"
     },
     "output_type": "display_data"
    }
   ],
   "source": [
    "data['kitchen_area'].hist()"
   ]
  },
  {
   "cell_type": "markdown",
   "metadata": {},
   "source": [
    "!ПЕРЕДЕЛАННАЯ ГИСТОГРАММА!\n",
    "\n",
    "Больше всего квартир с ценой от 3 до 5 млн. Крайне редко встречаются квартиры, которые стоят до 1 млн. Примерно с равной частотой встречаются квартиры, цена которых колеблется от 1.5 до примерно 3 млн и от 6.5 до 8 млн. "
   ]
  },
  {
   "cell_type": "code",
   "execution_count": 40,
   "metadata": {},
   "outputs": [
    {
     "data": {
      "text/plain": [
       "<AxesSubplot:>"
      ]
     },
     "execution_count": 40,
     "metadata": {},
     "output_type": "execute_result"
    },
    {
     "data": {
      "image/png": "[encoded data removed]",
      "text/plain": [
       "<Figure size 432x288 with 1 Axes>"
      ]
     },
     "metadata": {
      "needs_background": "light"
     },
     "output_type": "display_data"
    }
   ],
   "source": [
    "data['last_price'].hist(range=(40000,8000000),bins=6)"
   ]
  },
  {
   "cell_type": "markdown",
   "metadata": {},
   "source": [
    "В исследовании преобладают квартиры, в которых одна, две или три комнаты, а также те, в которых их 0, то есть квартиры-студии или квартиры со свободной планировкой"
   ]
  },
  {
   "cell_type": "code",
   "execution_count": 38,
   "metadata": {},
   "outputs": [
    {
     "data": {
      "text/plain": [
       "<AxesSubplot:>"
      ]
     },
     "execution_count": 38,
     "metadata": {},
     "output_type": "execute_result"
    },
    {
     "data": {
      "image/png": "[encoded data removed]",
      "text/plain": [
       "<Figure size 432x288 with 1 Axes>"
      ]
     },
     "metadata": {
      "needs_background": "light"
     },
     "output_type": "display_data"
    }
   ],
   "source": [
    "data['rooms'].hist(range=(0,9), bins=5)"
   ]
  },
  {
   "cell_type": "markdown",
   "metadata": {},
   "source": [
    "Чаще всего в домах высота потолков колеблется от 2.5 м до примерно 2.7, потолки с большей высотой скорее являются исключениями"
   ]
  },
  {
   "cell_type": "code",
   "execution_count": 33,
   "metadata": {},
   "outputs": [
    {
     "data": {
      "text/plain": [
       "<AxesSubplot:>"
      ]
     },
     "execution_count": 33,
     "metadata": {},
     "output_type": "execute_result"
    },
    {
     "data": {
      "image/png": "[encoded data removed]",
      "text/plain": [
       "<Figure size 432x288 with 1 Axes>"
      ]
     },
     "metadata": {
      "needs_background": "light"
     },
     "output_type": "display_data"
    }
   ],
   "source": [
    "data['ceiling_height'].hist(range=(2, 4.5))"
   ]
  },
  {
   "cell_type": "markdown",
   "metadata": {},
   "source": [
    "Большинство квартир из представленных в исследовании, находятся на 1-4 этажах, относительно небольшое в совокупности кол-во квартир находится с 10 по 26 этаж"
   ]
  },
  {
   "cell_type": "code",
   "execution_count": 35,
   "metadata": {},
   "outputs": [
    {
     "data": {
      "text/plain": [
       "<AxesSubplot:>"
      ]
     },
     "execution_count": 35,
     "metadata": {},
     "output_type": "execute_result"
    },
    {
     "data": {
      "image/png": "[encoded data removed]",
      "text/plain": [
       "<Figure size 432x288 with 1 Axes>"
      ]
     },
     "metadata": {
      "needs_background": "light"
     },
     "output_type": "display_data"
    }
   ],
   "source": [
    "data['floor'].hist()"
   ]
  },
  {
   "cell_type": "markdown",
   "metadata": {},
   "source": [
    "Очень мало квартир находятся на первом или последнем этаже, большинство все-таки находится на промежуточных. "
   ]
  },
  {
   "cell_type": "code",
   "execution_count": 42,
   "metadata": {},
   "outputs": [
    {
     "data": {
      "text/plain": [
       "<AxesSubplot:>"
      ]
     },
     "execution_count": 42,
     "metadata": {},
     "output_type": "execute_result"
    },
    {
     "data": {
      "image/png": "[encoded data removed]",
      "text/plain": [
       "<Figure size 432x288 with 1 Axes>"
      ]
     },
     "metadata": {
      "needs_background": "light"
     },
     "output_type": "display_data"
    }
   ],
   "source": [
    "data['floor_type'].hist(bins=5)"
   ]
  },
  {
   "cell_type": "markdown",
   "metadata": {},
   "source": [
    "Чаще всего встречаются квартиры в домах с 4-7 этажами, что характерно для СПб, так как многоэтажки здесь начали появляться относительно недавно."
   ]
  },
  {
   "cell_type": "code",
   "execution_count": 23,
   "metadata": {},
   "outputs": [
    {
     "data": {
      "text/plain": [
       "<AxesSubplot:>"
      ]
     },
     "execution_count": 23,
     "metadata": {},
     "output_type": "execute_result"
    },
    {
     "data": {
      "image/png": "[encoded data removed]",
      "text/plain": [
       "<Figure size 432x288 with 1 Axes>"
      ]
     },
     "metadata": {
      "needs_background": "light"
     },
     "output_type": "display_data"
    }
   ],
   "source": [
    "data['floors_total'].hist(range=(1,29), bins=10)"
   ]
  },
  {
   "cell_type": "markdown",
   "metadata": {},
   "source": [
    "Большая часть квартир находится в пределах 20 км от центра"
   ]
  },
  {
   "cell_type": "code",
   "execution_count": 40,
   "metadata": {},
   "outputs": [
    {
     "data": {
      "text/plain": [
       "<AxesSubplot:>"
      ]
     },
     "execution_count": 40,
     "metadata": {},
     "output_type": "execute_result"
    },
    {
     "data": {
      "image/png": "[encoded data removed]",
      "text/plain": [
       "<Figure size 432x288 with 1 Axes>"
      ]
     },
     "metadata": {
      "needs_background": "light"
     },
     "output_type": "display_data"
    }
   ],
   "source": [
    "data['city_centers_nearest'].hist()"
   ]
  },
  {
   "cell_type": "markdown",
   "metadata": {},
   "source": [
    "Ближайший аэропорт у большинства квартир находится в 18-25 км,крайне мало квартир, у которых аэропорт в 60-80 км от них, скорее всего такие квартиры находится не в самом СПб, а за пределами"
   ]
  },
  {
   "cell_type": "code",
   "execution_count": 41,
   "metadata": {},
   "outputs": [
    {
     "data": {
      "text/plain": [
       "<AxesSubplot:>"
      ]
     },
     "execution_count": 41,
     "metadata": {},
     "output_type": "execute_result"
    },
    {
     "data": {
      "image/png": "[encoded data removed]",
      "text/plain": [
       "<Figure size 432x288 with 1 Axes>"
      ]
     },
     "metadata": {
      "needs_background": "light"
     },
     "output_type": "display_data"
    }
   ],
   "source": [
    "data['airports_nearest'].hist()"
   ]
  },
  {
   "cell_type": "markdown",
   "metadata": {},
   "source": [
    "Чаще всего парки находятся в радиусе от 0 до 600 метров от квартиры, что является достаточно небольшим расстоянием"
   ]
  },
  {
   "cell_type": "code",
   "execution_count": 43,
   "metadata": {},
   "outputs": [
    {
     "data": {
      "text/plain": [
       "<AxesSubplot:>"
      ]
     },
     "execution_count": 43,
     "metadata": {},
     "output_type": "execute_result"
    },
    {
     "data": {
      "image/png": "[encoded data removed]",
      "text/plain": [
       "<Figure size 432x288 with 1 Axes>"
      ]
     },
     "metadata": {
      "needs_background": "light"
     },
     "output_type": "display_data"
    }
   ],
   "source": [
    "data['parks_nearest'].hist()"
   ]
  },
  {
   "cell_type": "markdown",
   "metadata": {},
   "source": [
    "Чаще всего объявления размещаются в будние дни"
   ]
  },
  {
   "cell_type": "code",
   "execution_count": 44,
   "metadata": {},
   "outputs": [
    {
     "data": {
      "text/plain": [
       "<AxesSubplot:>"
      ]
     },
     "execution_count": 44,
     "metadata": {},
     "output_type": "execute_result"
    },
    {
     "data": {
      "image/png": "[encoded data removed]",
      "text/plain": [
       "<Figure size 432x288 with 1 Axes>"
      ]
     },
     "metadata": {
      "needs_background": "light"
     },
     "output_type": "display_data"
    }
   ],
   "source": [
    "data['weekday'].hist()"
   ]
  },
  {
   "cell_type": "markdown",
   "metadata": {},
   "source": [
    "С 2014 года кол-во объявлений значительно выросло, особенно с 2017 по 2019 года"
   ]
  },
  {
   "cell_type": "code",
   "execution_count": 45,
   "metadata": {},
   "outputs": [
    {
     "data": {
      "text/plain": [
       "<AxesSubplot:>"
      ]
     },
     "execution_count": 45,
     "metadata": {},
     "output_type": "execute_result"
    },
    {
     "data": {
      "image/png": "[encoded data removed]",
      "text/plain": [
       "<Figure size 432x288 with 1 Axes>"
      ]
     },
     "metadata": {
      "needs_background": "light"
     },
     "output_type": "display_data"
    }
   ],
   "source": [
    "data['year'].hist()"
   ]
  },
  {
   "cell_type": "markdown",
   "metadata": {},
   "source": [
    "В среднем продажа занимает порядка 180 дней, то есть где-то 6 месяцев\n",
    "Если смотреть на гистограму, то можно сказать, что большинство квартир продается как раз в переиод до ~180 дней, такой срок продажи можно назвать быстрым\n",
    "А все квартиры, которые продаются дольше 400 дней, то есть дольше года можно отнести к необычно долгим.\n",
    "В то же время скорость продажи может различаться для квартир с разным количеством комнат или квадратурой, можно предположить, что все-таки быстрее продаются квартиры с одной комнатой. \n"
   ]
  },
  {
   "cell_type": "code",
   "execution_count": 46,
   "metadata": {},
   "outputs": [
    {
     "data": {
      "text/plain": [
       "<AxesSubplot:>"
      ]
     },
     "execution_count": 46,
     "metadata": {},
     "output_type": "execute_result"
    },
    {
     "data": {
      "image/png": "[encoded data removed]",
      "text/plain": [
       "<Figure size 432x288 with 1 Axes>"
      ]
     },
     "metadata": {
      "needs_background": "light"
     },
     "output_type": "display_data"
    }
   ],
   "source": [
    "data['days_exposition'].hist()"
   ]
  },
  {
   "cell_type": "code",
   "execution_count": 47,
   "metadata": {},
   "outputs": [
    {
     "name": "stdout",
     "output_type": "stream",
     "text": [
      "95.0\n",
      "180.88863436982163\n"
     ]
    }
   ],
   "source": [
    "print(data['days_exposition'].median())\n",
    "print(data['days_exposition'].mean())"
   ]
  },
  {
   "cell_type": "markdown",
   "metadata": {},
   "source": [
    "По графику, несмотря на достаточно скачкообразный характер, можно заметить, что чем больше квадратура, тем выше цены.\n",
    "Коэффициент корреляция показывает, что связть между показателями есть, и она относительно сильная"
   ]
  },
  {
   "cell_type": "code",
   "execution_count": 48,
   "metadata": {},
   "outputs": [
    {
     "name": "stdout",
     "output_type": "stream",
     "text": [
      "0.6250109643230578\n"
     ]
    },
    {
     "data": {
      "image/png": "[encoded data removed]",
      "text/plain": [
       "<Figure size 432x288 with 1 Axes>"
      ]
     },
     "metadata": {
      "needs_background": "light"
     },
     "output_type": "display_data"
    }
   ],
   "source": [
    "data.pivot_table(index='total_area', values='last_price').plot()\n",
    "print(data['last_price'].corr(data['total_area']))"
   ]
  },
  {
   "cell_type": "markdown",
   "metadata": {},
   "source": [
    "Между ценой и жилой площадью некоторая взаимосвязь прослеживается, так как скачок в цене происходит у квартир с жилой площадью больше 200 кв.м., и небольшой скачок у объектов, площадь которых примерно 180 кв.м. То есть, чем больше жилая площадь, тем выше цена. Подтверждает это и коэффициент корреляция, он равен 0.545, то есть связь есть, но все-таки не очень сильная. "
   ]
  },
  {
   "cell_type": "code",
   "execution_count": 49,
   "metadata": {},
   "outputs": [
    {
     "name": "stdout",
     "output_type": "stream",
     "text": [
      "0.5454865225248119\n"
     ]
    },
    {
     "data": {
      "image/png": "[encoded data removed]",
      "text/plain": [
       "<Figure size 432x288 with 1 Axes>"
      ]
     },
     "metadata": {
      "needs_background": "light"
     },
     "output_type": "display_data"
    }
   ],
   "source": [
    "data.pivot_table(index='living_area', values='last_price').plot()\n",
    "print(data['last_price'].corr(data['living_area']))"
   ]
  },
  {
   "cell_type": "markdown",
   "metadata": {},
   "source": [
    "Скачки в цене присутствуют при разной кухонной квадратуре, сложно говорить о присутсвии какой-либо взаимосвязи между площадью кухни и ценой.\n",
    "Коэффициент корреляции в то же время указывает на то, что слабая связь все же присутсвует."
   ]
  },
  {
   "cell_type": "code",
   "execution_count": 50,
   "metadata": {},
   "outputs": [
    {
     "name": "stdout",
     "output_type": "stream",
     "text": [
      "0.45528927060324187\n"
     ]
    },
    {
     "data": {
      "image/png": "[encoded data removed]",
      "text/plain": [
       "<Figure size 432x288 with 1 Axes>"
      ]
     },
     "metadata": {
      "needs_background": "light"
     },
     "output_type": "display_data"
    }
   ],
   "source": [
    "data.pivot_table(index='kitchen_area', values='last_price').plot()\n",
    "print(data['last_price'].corr(data['kitchen_area']))"
   ]
  },
  {
   "cell_type": "markdown",
   "metadata": {},
   "source": [
    "Если посмотреть на график, то можно смело говорить, что чем больше комнат, тем выше цена на объект\n",
    "Однако, корреляция достаточно слабая."
   ]
  },
  {
   "cell_type": "code",
   "execution_count": 51,
   "metadata": {},
   "outputs": [
    {
     "name": "stdout",
     "output_type": "stream",
     "text": [
      "0.23520797759264175\n"
     ]
    },
    {
     "data": {
      "image/png": "[encoded data removed]",
      "text/plain": [
       "<Figure size 432x288 with 1 Axes>"
      ]
     },
     "metadata": {
      "needs_background": "light"
     },
     "output_type": "display_data"
    }
   ],
   "source": [
    "data.pivot_table(index='rooms', values='last_price').plot()\n",
    "print(data['last_price'].corr(data['rooms']))"
   ]
  },
  {
   "cell_type": "markdown",
   "metadata": {},
   "source": [
    "Цена ниже всего на квартиры, которые находятся на первом этаже"
   ]
  },
  {
   "cell_type": "code",
   "execution_count": 52,
   "metadata": {},
   "outputs": [
    {
     "data": {
      "text/plain": [
       "<AxesSubplot:xlabel='floor_type'>"
      ]
     },
     "execution_count": 52,
     "metadata": {},
     "output_type": "execute_result"
    },
    {
     "data": {
      "image/png": "[encoded data removed]",
      "text/plain": [
       "<Figure size 432x288 with 1 Axes>"
      ]
     },
     "metadata": {
      "needs_background": "light"
     },
     "output_type": "display_data"
    }
   ],
   "source": [
    "data.pivot_table(index='floor_type', values='last_price').plot()"
   ]
  },
  {
   "cell_type": "markdown",
   "metadata": {},
   "source": [
    "Самые \"дорогие\" объеявления размещаются в субботу, а самые \"дешевые\" в воскресенье."
   ]
  },
  {
   "cell_type": "code",
   "execution_count": 53,
   "metadata": {},
   "outputs": [
    {
     "data": {
      "text/plain": [
       "<AxesSubplot:xlabel='weekday'>"
      ]
     },
     "execution_count": 53,
     "metadata": {},
     "output_type": "execute_result"
    },
    {
     "data": {
      "image/png": "[encoded data removed]",
      "text/plain": [
       "<Figure size 432x288 with 1 Axes>"
      ]
     },
     "metadata": {
      "needs_background": "light"
     },
     "output_type": "display_data"
    }
   ],
   "source": [
    "data.pivot_table(index='weekday', values='last_price').plot()"
   ]
  },
  {
   "cell_type": "markdown",
   "metadata": {},
   "source": [
    "Квартиры, которые размещаются в декабре, имеют самую высокую цену, а те, которые размещаются в ноябре, самую низкую. Но о как таковой взаимосвязи говорить сложно."
   ]
  },
  {
   "cell_type": "code",
   "execution_count": 54,
   "metadata": {},
   "outputs": [
    {
     "data": {
      "text/plain": [
       "<AxesSubplot:xlabel='month'>"
      ]
     },
     "execution_count": 54,
     "metadata": {},
     "output_type": "execute_result"
    },
    {
     "data": {
      "image/png": "[encoded data removed]",
      "text/plain": [
       "<Figure size 432x288 with 1 Axes>"
      ]
     },
     "metadata": {
      "needs_background": "light"
     },
     "output_type": "display_data"
    }
   ],
   "source": [
    "data.pivot_table(index='month', values='last_price').plot()"
   ]
  },
  {
   "cell_type": "markdown",
   "metadata": {},
   "source": [
    "С 2014 года квартиры заметно упали в цене."
   ]
  },
  {
   "cell_type": "code",
   "execution_count": 55,
   "metadata": {},
   "outputs": [
    {
     "data": {
      "text/plain": [
       "<AxesSubplot:xlabel='year'>"
      ]
     },
     "execution_count": 55,
     "metadata": {},
     "output_type": "execute_result"
    },
    {
     "data": {
      "image/png": "[encoded data removed]",
      "text/plain": [
       "<Figure size 432x288 with 1 Axes>"
      ]
     },
     "metadata": {
      "needs_background": "light"
     },
     "output_type": "display_data"
    }
   ],
   "source": [
    "data.pivot_table(index='year', values='last_price').plot()"
   ]
  },
  {
   "cell_type": "code",
   "execution_count": 65,
   "metadata": {},
   "outputs": [
    {
     "data": {
      "text/plain": [
       "<AxesSubplot:xlabel='locality_name'>"
      ]
     },
     "execution_count": 65,
     "metadata": {},
     "output_type": "execute_result"
    },
    {
     "data": {
      "image/png": "[encoded data removed]",
      "text/plain": [
       "<Figure size 432x288 with 1 Axes>"
      ]
     },
     "metadata": {
      "needs_background": "light"
     },
     "output_type": "display_data"
    }
   ],
   "source": [
    "data.pivot_table(index='locality_name', values='last_price', aggfunc='mean').plot()"
   ]
  },
  {
   "cell_type": "code",
   "execution_count": 64,
   "metadata": {},
   "outputs": [
    {
     "data": {
      "text/html": [
       "<div>\n",
       "<style scoped>\n",
       "    .dataframe tbody tr th:only-of-type {\n",
       "        vertical-align: middle;\n",
       "    }\n",
       "\n",
       "    .dataframe tbody tr th {\n",
       "        vertical-align: top;\n",
       "    }\n",
       "\n",
       "    .dataframe thead th {\n",
       "        text-align: right;\n",
       "    }\n",
       "</style>\n",
       "<table border=\"1\" class=\"dataframe\">\n",
       "  <thead>\n",
       "    <tr style=\"text-align: right;\">\n",
       "      <th></th>\n",
       "      <th>count_values</th>\n",
       "      <th>mean_price_m</th>\n",
       "    </tr>\n",
       "    <tr>\n",
       "      <th>locality_name</th>\n",
       "      <th></th>\n",
       "      <th></th>\n",
       "    </tr>\n",
       "  </thead>\n",
       "  <tbody>\n",
       "    <tr>\n",
       "      <th>санкт-петербург</th>\n",
       "      <td>15697</td>\n",
       "      <td>114663.997787</td>\n",
       "    </tr>\n",
       "    <tr>\n",
       "      <th>мурино</th>\n",
       "      <td>590</td>\n",
       "      <td>86087.512050</td>\n",
       "    </tr>\n",
       "    <tr>\n",
       "      <th>поселок шушары</th>\n",
       "      <td>440</td>\n",
       "      <td>78677.364217</td>\n",
       "    </tr>\n",
       "    <tr>\n",
       "      <th>всеволожск</th>\n",
       "      <td>398</td>\n",
       "      <td>68654.473986</td>\n",
       "    </tr>\n",
       "    <tr>\n",
       "      <th>пушкин</th>\n",
       "      <td>369</td>\n",
       "      <td>103125.819291</td>\n",
       "    </tr>\n",
       "    <tr>\n",
       "      <th>колпино</th>\n",
       "      <td>338</td>\n",
       "      <td>75424.579098</td>\n",
       "    </tr>\n",
       "    <tr>\n",
       "      <th>поселок парголово</th>\n",
       "      <td>327</td>\n",
       "      <td>90175.913458</td>\n",
       "    </tr>\n",
       "    <tr>\n",
       "      <th>гатчина</th>\n",
       "      <td>307</td>\n",
       "      <td>68746.146763</td>\n",
       "    </tr>\n",
       "    <tr>\n",
       "      <th>деревня кудрово</th>\n",
       "      <td>299</td>\n",
       "      <td>92473.547576</td>\n",
       "    </tr>\n",
       "    <tr>\n",
       "      <th>выборг</th>\n",
       "      <td>237</td>\n",
       "      <td>58141.909153</td>\n",
       "    </tr>\n",
       "  </tbody>\n",
       "</table>\n",
       "</div>"
      ],
      "text/plain": [
       "                   count_values   mean_price_m\n",
       "locality_name                                 \n",
       "санкт-петербург           15697  114663.997787\n",
       "мурино                      590   86087.512050\n",
       "поселок шушары              440   78677.364217\n",
       "всеволожск                  398   68654.473986\n",
       "пушкин                      369  103125.819291\n",
       "колпино                     338   75424.579098\n",
       "поселок парголово           327   90175.913458\n",
       "гатчина                     307   68746.146763\n",
       "деревня кудрово             299   92473.547576\n",
       "выборг                      237   58141.909153"
      ]
     },
     "execution_count": 64,
     "metadata": {},
     "output_type": "execute_result"
    }
   ],
   "source": [
    "top_10_localities = data['locality_name'].value_counts().head(10)\n",
    "\n",
    "locality_m_price = data.pivot_table(index='locality_name', values='metr_price', aggfunc=['count', 'mean'])\n",
    "locality_m_price.columns  =['count_values', 'mean_price_m']\n",
    "locality_m_price = locality_m_price.sort_values(by='count_values', ascending=False).head(10)\n",
    "locality_m_price\n",
    "#locality_m_price.join(top_10_localities, on='locality_name')"
   ]
  },
  {
   "cell_type": "markdown",
   "metadata": {},
   "source": [
    "Чем ближе к центру находится объект недвижимости, тем выше его цена\n",
    "Замечен небольшой скачок в цене у объектов, находящихся в 25-30 км от центра, тем не менее, он незначителен, и цена не превышает 1 млн. "
   ]
  },
  {
   "cell_type": "code",
   "execution_count": 56,
   "metadata": {},
   "outputs": [
    {
     "data": {
      "text/plain": [
       "<AxesSubplot:xlabel='city_centers_nearest_km'>"
      ]
     },
     "execution_count": 56,
     "metadata": {},
     "output_type": "execute_result"
    },
    {
     "data": {
      "image/png": "[encoded data removed]",
      "text/plain": [
       "<Figure size 432x288 with 1 Axes>"
      ]
     },
     "metadata": {
      "needs_background": "light"
     },
     "output_type": "display_data"
    }
   ],
   "source": [
    "data.query('locality_name == \"санкт-петербург\"').\\\n",
    "pivot_table(index='city_centers_nearest_km', values='last_price', aggfunc='mean').plot()"
   ]
  },
  {
   "cell_type": "markdown",
   "metadata": {},
   "source": [
    "### Общий вывод"
   ]
  },
  {
   "cell_type": "markdown",
   "metadata": {},
   "source": [
    "В процессе исследования было выявлено, что большинство квартир имеют площадь от 25 до 75 кв.м., жилая площадь от 8 до 25 кв.м., кухни - 8-13 кв.м. с потолками от 2.5 до 2.7 м. Большинство квартир расположено на промежуточных между первым и последним этажами.\n",
    "Квартиры чаще всего продаются за 6 месяцев.\n",
    "Что касается, взаимосвязи между показателями и ценой квартиры, было получены дальнейшие выводы:\n",
    "- связь между ценой и общей площадью явно присутсвует, коэффициент корреляции равен 0.625\n",
    "- несмотря на коэффициент корреляция, по графику видно, что чем больше в квартире комнат, тем выше на квартиру цена\n",
    "- при изучении графика о распределении цены на квартиры по годам, можно заметить, что с 2014 года цены значительно упали\n",
    "- чем дальше от центра находится квартира, тем дешевле ее цена\n",
    "- "
   ]
  }
 ],
 "metadata": {
  "ExecuteTimeLog": [
   {
    "duration": 425,
    "start_time": "2022-12-24T22:50:24.691Z"
   },
   {
    "duration": 320,
    "start_time": "2022-12-24T22:50:42.748Z"
   },
   {
    "duration": 87,
    "start_time": "2022-12-24T22:50:49.267Z"
   },
   {
    "duration": 85,
    "start_time": "2022-12-24T22:51:09.164Z"
   },
   {
    "duration": 82,
    "start_time": "2022-12-24T22:51:12.587Z"
   },
   {
    "duration": 80,
    "start_time": "2022-12-24T22:52:31.049Z"
   },
   {
    "duration": 107,
    "start_time": "2022-12-24T22:52:35.318Z"
   },
   {
    "duration": 41,
    "start_time": "2022-12-24T22:52:38.513Z"
   },
   {
    "duration": 86,
    "start_time": "2022-12-24T22:53:14.326Z"
   },
   {
    "duration": 85,
    "start_time": "2022-12-24T22:53:46.250Z"
   },
   {
    "duration": 81,
    "start_time": "2022-12-24T22:53:51.267Z"
   },
   {
    "duration": 47,
    "start_time": "2022-12-24T22:53:56.300Z"
   },
   {
    "duration": 92,
    "start_time": "2022-12-24T22:53:58.525Z"
   },
   {
    "duration": 136,
    "start_time": "2022-12-24T22:54:19.271Z"
   },
   {
    "duration": 89,
    "start_time": "2022-12-24T22:54:23.645Z"
   },
   {
    "duration": 79,
    "start_time": "2022-12-24T22:54:38.627Z"
   },
   {
    "duration": 85,
    "start_time": "2022-12-24T22:54:46.074Z"
   },
   {
    "duration": 116,
    "start_time": "2022-12-24T22:55:45.661Z"
   },
   {
    "duration": 126,
    "start_time": "2022-12-24T22:56:06.923Z"
   },
   {
    "duration": 97,
    "start_time": "2022-12-24T22:56:09.630Z"
   },
   {
    "duration": 569,
    "start_time": "2022-12-24T22:58:03.017Z"
   },
   {
    "duration": 209,
    "start_time": "2022-12-24T22:58:14.445Z"
   },
   {
    "duration": 133,
    "start_time": "2022-12-24T22:58:17.708Z"
   },
   {
    "duration": 250,
    "start_time": "2022-12-24T22:58:41.055Z"
   },
   {
    "duration": 229,
    "start_time": "2022-12-24T22:59:41.509Z"
   },
   {
    "duration": 72,
    "start_time": "2022-12-24T23:01:08.117Z"
   },
   {
    "duration": 239,
    "start_time": "2022-12-24T23:01:13.928Z"
   },
   {
    "duration": 43,
    "start_time": "2022-12-25T17:35:15.761Z"
   },
   {
    "duration": 385,
    "start_time": "2022-12-25T17:35:18.707Z"
   },
   {
    "duration": 637,
    "start_time": "2022-12-25T17:35:20.252Z"
   },
   {
    "duration": 24,
    "start_time": "2022-12-25T17:37:05.973Z"
   },
   {
    "duration": 2080,
    "start_time": "2022-12-25T17:37:09.438Z"
   },
   {
    "duration": 109,
    "start_time": "2022-12-25T17:48:24.103Z"
   },
   {
    "duration": 102,
    "start_time": "2022-12-25T17:48:34.329Z"
   },
   {
    "duration": 13,
    "start_time": "2022-12-25T17:48:38.294Z"
   },
   {
    "duration": 4,
    "start_time": "2022-12-25T18:05:38.979Z"
   },
   {
    "duration": 5,
    "start_time": "2022-12-25T18:15:05.749Z"
   },
   {
    "duration": 9,
    "start_time": "2022-12-25T18:15:42.979Z"
   },
   {
    "duration": 17,
    "start_time": "2022-12-25T18:15:57.513Z"
   },
   {
    "duration": 9,
    "start_time": "2022-12-25T18:16:17.673Z"
   },
   {
    "duration": 8,
    "start_time": "2022-12-25T18:16:21.629Z"
   },
   {
    "duration": 8,
    "start_time": "2022-12-25T18:17:11.380Z"
   },
   {
    "duration": 6,
    "start_time": "2022-12-25T18:17:33.328Z"
   },
   {
    "duration": 45,
    "start_time": "2022-12-25T18:54:18.317Z"
   },
   {
    "duration": 42,
    "start_time": "2022-12-25T18:54:23.131Z"
   },
   {
    "duration": 48,
    "start_time": "2022-12-25T18:55:44.900Z"
   },
   {
    "duration": 420,
    "start_time": "2022-12-25T18:55:49.829Z"
   },
   {
    "duration": 350,
    "start_time": "2022-12-25T18:55:51.918Z"
   },
   {
    "duration": 14,
    "start_time": "2022-12-25T18:55:55.834Z"
   },
   {
    "duration": 2415,
    "start_time": "2022-12-25T18:55:58.450Z"
   },
   {
    "duration": 7,
    "start_time": "2022-12-25T18:56:04.762Z"
   },
   {
    "duration": 9,
    "start_time": "2022-12-25T18:56:28.920Z"
   },
   {
    "duration": 7,
    "start_time": "2022-12-25T18:56:38.530Z"
   },
   {
    "duration": 6,
    "start_time": "2022-12-25T18:58:00.381Z"
   },
   {
    "duration": 9,
    "start_time": "2022-12-25T18:58:27.345Z"
   },
   {
    "duration": 6,
    "start_time": "2022-12-25T18:58:59.742Z"
   },
   {
    "duration": 5,
    "start_time": "2022-12-25T18:59:12.374Z"
   },
   {
    "duration": 5,
    "start_time": "2022-12-25T18:59:21.044Z"
   },
   {
    "duration": 6,
    "start_time": "2022-12-25T18:59:41.453Z"
   },
   {
    "duration": 39,
    "start_time": "2022-12-25T19:09:48.428Z"
   },
   {
    "duration": 4,
    "start_time": "2022-12-25T19:09:56.319Z"
   },
   {
    "duration": 5,
    "start_time": "2022-12-25T19:10:06.278Z"
   },
   {
    "duration": 62,
    "start_time": "2022-12-25T19:10:11.535Z"
   },
   {
    "duration": 11,
    "start_time": "2022-12-25T19:10:14.956Z"
   },
   {
    "duration": 5,
    "start_time": "2022-12-25T19:12:37.462Z"
   },
   {
    "duration": 751,
    "start_time": "2022-12-25T19:14:06.504Z"
   },
   {
    "duration": 5,
    "start_time": "2022-12-25T19:14:22.170Z"
   },
   {
    "duration": 82,
    "start_time": "2022-12-25T19:17:13.858Z"
   },
   {
    "duration": 6,
    "start_time": "2022-12-25T19:20:08.739Z"
   },
   {
    "duration": 10,
    "start_time": "2022-12-25T19:26:53.110Z"
   },
   {
    "duration": 11,
    "start_time": "2022-12-25T19:27:05.035Z"
   },
   {
    "duration": 12,
    "start_time": "2022-12-25T19:27:09.441Z"
   },
   {
    "duration": 9,
    "start_time": "2022-12-25T19:27:27.439Z"
   },
   {
    "duration": 11,
    "start_time": "2022-12-25T19:27:32.632Z"
   },
   {
    "duration": 11,
    "start_time": "2022-12-25T19:27:38.266Z"
   },
   {
    "duration": 11,
    "start_time": "2022-12-25T19:27:43.302Z"
   },
   {
    "duration": 4,
    "start_time": "2022-12-25T19:29:31.839Z"
   },
   {
    "duration": 4,
    "start_time": "2022-12-25T19:29:42.187Z"
   },
   {
    "duration": 48,
    "start_time": "2022-12-25T19:31:06.870Z"
   },
   {
    "duration": 9,
    "start_time": "2022-12-25T19:31:17.165Z"
   },
   {
    "duration": 393,
    "start_time": "2022-12-25T19:31:22.749Z"
   },
   {
    "duration": 437,
    "start_time": "2022-12-25T19:32:38.525Z"
   },
   {
    "duration": 373,
    "start_time": "2022-12-25T19:32:48.091Z"
   },
   {
    "duration": 349,
    "start_time": "2022-12-25T19:33:00.553Z"
   },
   {
    "duration": 733,
    "start_time": "2022-12-25T19:44:24.702Z"
   },
   {
    "duration": 822,
    "start_time": "2022-12-25T19:44:40.921Z"
   },
   {
    "duration": 951,
    "start_time": "2022-12-25T19:45:17.365Z"
   },
   {
    "duration": 741,
    "start_time": "2022-12-25T19:56:08.345Z"
   },
   {
    "duration": 761,
    "start_time": "2022-12-25T19:56:24.125Z"
   },
   {
    "duration": 9,
    "start_time": "2022-12-25T19:57:31.121Z"
   },
   {
    "duration": 3,
    "start_time": "2022-12-25T19:57:38.152Z"
   },
   {
    "duration": 107,
    "start_time": "2022-12-25T19:57:39.382Z"
   },
   {
    "duration": 16,
    "start_time": "2022-12-25T19:57:42.446Z"
   },
   {
    "duration": 74,
    "start_time": "2022-12-25T19:57:45.372Z"
   },
   {
    "duration": 2130,
    "start_time": "2022-12-25T19:57:48.620Z"
   },
   {
    "duration": 5,
    "start_time": "2022-12-25T19:57:50.751Z"
   },
   {
    "duration": 24,
    "start_time": "2022-12-25T19:57:50.758Z"
   },
   {
    "duration": 5,
    "start_time": "2022-12-25T19:57:51.042Z"
   },
   {
    "duration": 8,
    "start_time": "2022-12-25T19:57:51.403Z"
   },
   {
    "duration": 16,
    "start_time": "2022-12-25T19:57:51.749Z"
   },
   {
    "duration": 12,
    "start_time": "2022-12-25T19:57:52.221Z"
   },
   {
    "duration": 10,
    "start_time": "2022-12-25T19:57:59.733Z"
   },
   {
    "duration": 8,
    "start_time": "2022-12-25T19:58:17.821Z"
   },
   {
    "duration": 782,
    "start_time": "2022-12-25T19:58:30.204Z"
   },
   {
    "duration": 708,
    "start_time": "2022-12-25T19:59:11.257Z"
   },
   {
    "duration": 682,
    "start_time": "2022-12-25T19:59:22.887Z"
   },
   {
    "duration": 778,
    "start_time": "2022-12-25T20:00:48.116Z"
   },
   {
    "duration": 763,
    "start_time": "2022-12-25T20:02:05.063Z"
   },
   {
    "duration": 10,
    "start_time": "2022-12-25T20:07:47.109Z"
   },
   {
    "duration": 3,
    "start_time": "2022-12-25T20:08:09.921Z"
   },
   {
    "duration": 10,
    "start_time": "2022-12-25T20:08:37.208Z"
   },
   {
    "duration": 821,
    "start_time": "2022-12-25T20:09:29.080Z"
   },
   {
    "duration": 375,
    "start_time": "2022-12-25T20:11:21.444Z"
   },
   {
    "duration": 716,
    "start_time": "2022-12-25T20:13:50.172Z"
   },
   {
    "duration": 780,
    "start_time": "2022-12-25T20:13:59.774Z"
   },
   {
    "duration": 5,
    "start_time": "2022-12-25T20:15:00.159Z"
   },
   {
    "duration": 7,
    "start_time": "2022-12-25T20:15:15.630Z"
   },
   {
    "duration": 6,
    "start_time": "2022-12-25T20:15:25.312Z"
   },
   {
    "duration": 6,
    "start_time": "2022-12-25T20:16:13.171Z"
   },
   {
    "duration": 10,
    "start_time": "2022-12-25T20:16:26.312Z"
   },
   {
    "duration": 7,
    "start_time": "2022-12-25T20:16:28.403Z"
   },
   {
    "duration": 3,
    "start_time": "2022-12-25T20:16:39.263Z"
   },
   {
    "duration": 101,
    "start_time": "2022-12-25T20:16:40.024Z"
   },
   {
    "duration": 14,
    "start_time": "2022-12-25T20:16:40.613Z"
   },
   {
    "duration": 74,
    "start_time": "2022-12-25T20:16:41.209Z"
   },
   {
    "duration": 2269,
    "start_time": "2022-12-25T20:16:42.272Z"
   },
   {
    "duration": 4,
    "start_time": "2022-12-25T20:16:44.543Z"
   },
   {
    "duration": 11,
    "start_time": "2022-12-25T20:16:44.669Z"
   },
   {
    "duration": 5,
    "start_time": "2022-12-25T20:16:47.036Z"
   },
   {
    "duration": 5,
    "start_time": "2022-12-25T20:16:48.465Z"
   },
   {
    "duration": 12,
    "start_time": "2022-12-25T20:16:52.244Z"
   },
   {
    "duration": 810,
    "start_time": "2022-12-25T20:25:43.781Z"
   },
   {
    "duration": 14,
    "start_time": "2022-12-25T20:27:10.526Z"
   },
   {
    "duration": 14,
    "start_time": "2022-12-25T20:27:32.146Z"
   },
   {
    "duration": 5,
    "start_time": "2022-12-25T20:28:02.247Z"
   },
   {
    "duration": 17,
    "start_time": "2022-12-25T20:28:11.577Z"
   },
   {
    "duration": 4,
    "start_time": "2022-12-25T20:29:33.715Z"
   },
   {
    "duration": 8,
    "start_time": "2022-12-25T20:30:43.250Z"
   },
   {
    "duration": 9,
    "start_time": "2022-12-25T20:30:48.362Z"
   },
   {
    "duration": 24,
    "start_time": "2022-12-25T20:31:03.606Z"
   },
   {
    "duration": 14,
    "start_time": "2022-12-25T20:37:44.729Z"
   },
   {
    "duration": 11,
    "start_time": "2022-12-25T20:37:56.084Z"
   },
   {
    "duration": 8,
    "start_time": "2022-12-25T20:38:22.472Z"
   },
   {
    "duration": 5,
    "start_time": "2022-12-25T20:38:50.991Z"
   },
   {
    "duration": 7,
    "start_time": "2022-12-25T20:38:52.663Z"
   },
   {
    "duration": 5,
    "start_time": "2022-12-25T20:38:55.300Z"
   },
   {
    "duration": 7,
    "start_time": "2022-12-25T20:38:57.099Z"
   },
   {
    "duration": 12,
    "start_time": "2022-12-25T20:40:37.142Z"
   },
   {
    "duration": 14,
    "start_time": "2022-12-25T20:44:52.118Z"
   },
   {
    "duration": 8,
    "start_time": "2022-12-25T20:46:02.472Z"
   },
   {
    "duration": 4,
    "start_time": "2022-12-25T20:46:26.177Z"
   },
   {
    "duration": 6,
    "start_time": "2022-12-25T20:46:36.759Z"
   },
   {
    "duration": 5,
    "start_time": "2022-12-25T20:46:42.916Z"
   },
   {
    "duration": 5,
    "start_time": "2022-12-25T20:46:47.873Z"
   },
   {
    "duration": 5,
    "start_time": "2022-12-25T20:47:32.774Z"
   },
   {
    "duration": 7,
    "start_time": "2022-12-25T20:49:06.185Z"
   },
   {
    "duration": 66,
    "start_time": "2022-12-25T21:06:51.499Z"
   },
   {
    "duration": 8,
    "start_time": "2022-12-25T21:06:54.073Z"
   },
   {
    "duration": 18,
    "start_time": "2022-12-25T21:07:13.210Z"
   },
   {
    "duration": 53,
    "start_time": "2022-12-25T21:07:17.022Z"
   },
   {
    "duration": 23,
    "start_time": "2022-12-25T21:07:20.002Z"
   },
   {
    "duration": 9,
    "start_time": "2022-12-25T21:07:35.365Z"
   },
   {
    "duration": 9,
    "start_time": "2022-12-25T21:07:40.253Z"
   },
   {
    "duration": 64,
    "start_time": "2022-12-25T21:07:44.108Z"
   },
   {
    "duration": 5,
    "start_time": "2022-12-25T21:07:47.282Z"
   },
   {
    "duration": 29,
    "start_time": "2022-12-25T21:09:50.550Z"
   },
   {
    "duration": 42,
    "start_time": "2022-12-25T21:10:06.559Z"
   },
   {
    "duration": 44,
    "start_time": "2022-12-25T21:10:08.959Z"
   },
   {
    "duration": 32,
    "start_time": "2022-12-25T21:10:37.956Z"
   },
   {
    "duration": 30,
    "start_time": "2022-12-25T21:10:42.112Z"
   },
   {
    "duration": 40,
    "start_time": "2022-12-25T21:12:42.232Z"
   },
   {
    "duration": 45,
    "start_time": "2022-12-25T21:12:45.861Z"
   },
   {
    "duration": 28,
    "start_time": "2022-12-25T21:12:49.672Z"
   },
   {
    "duration": 28,
    "start_time": "2022-12-25T21:12:58.848Z"
   },
   {
    "duration": 33,
    "start_time": "2022-12-25T21:13:06.022Z"
   },
   {
    "duration": 31,
    "start_time": "2022-12-25T21:13:11.953Z"
   },
   {
    "duration": 27,
    "start_time": "2022-12-25T21:13:51.908Z"
   },
   {
    "duration": 47,
    "start_time": "2022-12-25T21:14:32.421Z"
   },
   {
    "duration": 37,
    "start_time": "2022-12-25T21:15:13.353Z"
   },
   {
    "duration": 49,
    "start_time": "2022-12-25T21:15:15.249Z"
   },
   {
    "duration": 34,
    "start_time": "2022-12-25T21:15:19.009Z"
   },
   {
    "duration": 43,
    "start_time": "2022-12-25T21:15:29.823Z"
   },
   {
    "duration": 43,
    "start_time": "2022-12-25T21:24:51.268Z"
   },
   {
    "duration": 77,
    "start_time": "2022-12-25T21:26:06.731Z"
   },
   {
    "duration": 68,
    "start_time": "2022-12-25T21:26:41.730Z"
   },
   {
    "duration": 65,
    "start_time": "2022-12-25T21:26:51.116Z"
   },
   {
    "duration": 50,
    "start_time": "2022-12-25T21:27:06.009Z"
   },
   {
    "duration": 67,
    "start_time": "2022-12-25T21:30:51.387Z"
   },
   {
    "duration": 80,
    "start_time": "2022-12-25T21:32:40.209Z"
   },
   {
    "duration": 8,
    "start_time": "2022-12-25T22:26:06.449Z"
   },
   {
    "duration": 7,
    "start_time": "2022-12-25T22:36:55.647Z"
   },
   {
    "duration": 7,
    "start_time": "2022-12-25T22:37:03.627Z"
   },
   {
    "duration": 7,
    "start_time": "2022-12-25T22:37:05.079Z"
   },
   {
    "duration": 7,
    "start_time": "2022-12-25T22:37:08.700Z"
   },
   {
    "duration": 428,
    "start_time": "2022-12-25T22:37:21.433Z"
   },
   {
    "duration": 107,
    "start_time": "2022-12-25T22:37:22.689Z"
   },
   {
    "duration": 14,
    "start_time": "2022-12-25T22:37:25.286Z"
   },
   {
    "duration": 82,
    "start_time": "2022-12-25T22:37:26.014Z"
   },
   {
    "duration": 2170,
    "start_time": "2022-12-25T22:37:27.739Z"
   },
   {
    "duration": 10,
    "start_time": "2022-12-25T22:37:30.911Z"
   },
   {
    "duration": 7,
    "start_time": "2022-12-25T22:37:47.885Z"
   },
   {
    "duration": 13,
    "start_time": "2022-12-25T22:37:50.604Z"
   },
   {
    "duration": 77,
    "start_time": "2022-12-25T22:37:51.800Z"
   },
   {
    "duration": 8,
    "start_time": "2022-12-25T22:38:29.086Z"
   },
   {
    "duration": 7,
    "start_time": "2022-12-25T22:38:32.987Z"
   },
   {
    "duration": 8,
    "start_time": "2022-12-25T22:38:36.280Z"
   },
   {
    "duration": 8,
    "start_time": "2022-12-25T22:38:43.315Z"
   },
   {
    "duration": 8,
    "start_time": "2022-12-25T22:39:27.205Z"
   },
   {
    "duration": 396,
    "start_time": "2022-12-25T22:39:41.664Z"
   },
   {
    "duration": 109,
    "start_time": "2022-12-25T22:39:42.240Z"
   },
   {
    "duration": 19,
    "start_time": "2022-12-25T22:39:42.527Z"
   },
   {
    "duration": 78,
    "start_time": "2022-12-25T22:39:42.775Z"
   },
   {
    "duration": 2157,
    "start_time": "2022-12-25T22:39:43.332Z"
   },
   {
    "duration": 10,
    "start_time": "2022-12-25T22:39:45.491Z"
   },
   {
    "duration": 7,
    "start_time": "2022-12-25T22:39:45.503Z"
   },
   {
    "duration": 12,
    "start_time": "2022-12-25T22:39:45.734Z"
   },
   {
    "duration": 6,
    "start_time": "2022-12-25T22:40:08.564Z"
   },
   {
    "duration": 7,
    "start_time": "2022-12-25T22:40:26.162Z"
   },
   {
    "duration": 86,
    "start_time": "2022-12-25T22:41:08.003Z"
   },
   {
    "duration": 4,
    "start_time": "2022-12-25T22:42:09.577Z"
   },
   {
    "duration": 5,
    "start_time": "2022-12-25T22:42:27.638Z"
   },
   {
    "duration": 6,
    "start_time": "2022-12-25T22:42:35.539Z"
   },
   {
    "duration": 11,
    "start_time": "2022-12-25T22:42:36.141Z"
   },
   {
    "duration": 79,
    "start_time": "2022-12-25T22:42:37.803Z"
   },
   {
    "duration": 92,
    "start_time": "2022-12-25T22:51:35.053Z"
   },
   {
    "duration": 125,
    "start_time": "2022-12-25T22:52:12.475Z"
   },
   {
    "duration": 115,
    "start_time": "2022-12-25T22:52:58.583Z"
   },
   {
    "duration": 128,
    "start_time": "2022-12-25T22:53:59.943Z"
   },
   {
    "duration": 176,
    "start_time": "2022-12-25T22:56:24.747Z"
   },
   {
    "duration": 182,
    "start_time": "2022-12-25T22:57:17.222Z"
   },
   {
    "duration": 190,
    "start_time": "2022-12-25T22:58:24.010Z"
   },
   {
    "duration": 9,
    "start_time": "2022-12-25T22:58:34.435Z"
   },
   {
    "duration": 5,
    "start_time": "2022-12-25T23:01:51.967Z"
   },
   {
    "duration": 4,
    "start_time": "2022-12-25T23:02:25.435Z"
   },
   {
    "duration": 5,
    "start_time": "2022-12-25T23:02:33.231Z"
   },
   {
    "duration": 769,
    "start_time": "2022-12-25T23:09:31.150Z"
   },
   {
    "duration": 179,
    "start_time": "2022-12-25T23:09:49.049Z"
   },
   {
    "duration": 5,
    "start_time": "2022-12-25T23:19:22.125Z"
   },
   {
    "duration": 8,
    "start_time": "2022-12-25T23:19:37.143Z"
   },
   {
    "duration": 10,
    "start_time": "2022-12-25T23:20:33.043Z"
   },
   {
    "duration": 7,
    "start_time": "2022-12-25T23:20:44.765Z"
   },
   {
    "duration": 6,
    "start_time": "2022-12-25T23:20:56.609Z"
   },
   {
    "duration": 44,
    "start_time": "2022-12-25T23:21:22.257Z"
   },
   {
    "duration": 7,
    "start_time": "2022-12-25T23:21:25.698Z"
   },
   {
    "duration": 7,
    "start_time": "2022-12-25T23:21:45.914Z"
   },
   {
    "duration": 10,
    "start_time": "2022-12-25T23:21:51.557Z"
   },
   {
    "duration": 51,
    "start_time": "2022-12-25T23:22:01.026Z"
   },
   {
    "duration": 7,
    "start_time": "2022-12-25T23:22:02.930Z"
   },
   {
    "duration": 7,
    "start_time": "2022-12-25T23:22:09.744Z"
   },
   {
    "duration": 7,
    "start_time": "2022-12-25T23:22:26.020Z"
   },
   {
    "duration": 7,
    "start_time": "2022-12-25T23:22:41.307Z"
   },
   {
    "duration": 6,
    "start_time": "2022-12-25T23:22:53.701Z"
   },
   {
    "duration": 7,
    "start_time": "2022-12-25T23:23:41.016Z"
   },
   {
    "duration": 9,
    "start_time": "2022-12-25T23:23:47.995Z"
   },
   {
    "duration": 8,
    "start_time": "2022-12-25T23:24:10.592Z"
   },
   {
    "duration": 8,
    "start_time": "2022-12-25T23:24:15.969Z"
   },
   {
    "duration": 64,
    "start_time": "2022-12-25T23:24:23.372Z"
   },
   {
    "duration": 8,
    "start_time": "2022-12-25T23:24:27.975Z"
   },
   {
    "duration": 8,
    "start_time": "2022-12-25T23:24:31.136Z"
   },
   {
    "duration": 8,
    "start_time": "2022-12-25T23:24:40.596Z"
   },
   {
    "duration": 8,
    "start_time": "2022-12-25T23:24:51.380Z"
   },
   {
    "duration": 8,
    "start_time": "2022-12-25T23:24:57.443Z"
   },
   {
    "duration": 8,
    "start_time": "2022-12-25T23:25:26.147Z"
   },
   {
    "duration": 7,
    "start_time": "2022-12-25T23:25:36.767Z"
   },
   {
    "duration": 8,
    "start_time": "2022-12-25T23:25:46.979Z"
   },
   {
    "duration": 367,
    "start_time": "2022-12-25T23:25:57.154Z"
   },
   {
    "duration": 100,
    "start_time": "2022-12-25T23:25:57.764Z"
   },
   {
    "duration": 15,
    "start_time": "2022-12-25T23:25:58.280Z"
   },
   {
    "duration": 73,
    "start_time": "2022-12-25T23:25:58.898Z"
   },
   {
    "duration": 2160,
    "start_time": "2022-12-25T23:26:00.073Z"
   },
   {
    "duration": 10,
    "start_time": "2022-12-25T23:26:02.235Z"
   },
   {
    "duration": 21,
    "start_time": "2022-12-25T23:26:02.246Z"
   },
   {
    "duration": 13,
    "start_time": "2022-12-25T23:26:02.580Z"
   },
   {
    "duration": 6,
    "start_time": "2022-12-25T23:26:03.353Z"
   },
   {
    "duration": 2,
    "start_time": "2022-12-25T23:26:03.974Z"
   },
   {
    "duration": 3,
    "start_time": "2022-12-25T23:26:05.693Z"
   },
   {
    "duration": 6,
    "start_time": "2022-12-25T23:26:06.922Z"
   },
   {
    "duration": 5,
    "start_time": "2022-12-25T23:26:27.273Z"
   },
   {
    "duration": 9,
    "start_time": "2022-12-25T23:26:28.117Z"
   },
   {
    "duration": 381,
    "start_time": "2022-12-25T23:26:47.342Z"
   },
   {
    "duration": 104,
    "start_time": "2022-12-25T23:26:47.725Z"
   },
   {
    "duration": 14,
    "start_time": "2022-12-25T23:26:47.931Z"
   },
   {
    "duration": 72,
    "start_time": "2022-12-25T23:26:48.136Z"
   },
   {
    "duration": 2145,
    "start_time": "2022-12-25T23:26:48.728Z"
   },
   {
    "duration": 9,
    "start_time": "2022-12-25T23:26:50.875Z"
   },
   {
    "duration": 9,
    "start_time": "2022-12-25T23:26:50.886Z"
   },
   {
    "duration": 12,
    "start_time": "2022-12-25T23:26:50.897Z"
   },
   {
    "duration": 6,
    "start_time": "2022-12-25T23:26:50.911Z"
   },
   {
    "duration": 18,
    "start_time": "2022-12-25T23:26:50.918Z"
   },
   {
    "duration": 3,
    "start_time": "2022-12-25T23:26:51.175Z"
   },
   {
    "duration": 5,
    "start_time": "2022-12-25T23:26:53.992Z"
   },
   {
    "duration": 8,
    "start_time": "2022-12-25T23:27:30.966Z"
   },
   {
    "duration": 8,
    "start_time": "2022-12-25T23:28:50.982Z"
   },
   {
    "duration": 8,
    "start_time": "2022-12-25T23:28:54.892Z"
   },
   {
    "duration": 10,
    "start_time": "2022-12-25T23:29:02.103Z"
   },
   {
    "duration": 7,
    "start_time": "2022-12-25T23:29:37.094Z"
   },
   {
    "duration": 8,
    "start_time": "2022-12-25T23:29:44.323Z"
   },
   {
    "duration": 7,
    "start_time": "2022-12-25T23:29:50.174Z"
   },
   {
    "duration": 9,
    "start_time": "2022-12-25T23:30:00.762Z"
   },
   {
    "duration": 8,
    "start_time": "2022-12-25T23:30:04.072Z"
   },
   {
    "duration": 8,
    "start_time": "2022-12-25T23:30:12.524Z"
   },
   {
    "duration": 8,
    "start_time": "2022-12-25T23:30:22.258Z"
   },
   {
    "duration": 8,
    "start_time": "2022-12-25T23:32:05.467Z"
   },
   {
    "duration": 8,
    "start_time": "2022-12-25T23:32:27.261Z"
   },
   {
    "duration": 8,
    "start_time": "2022-12-25T23:32:32.929Z"
   },
   {
    "duration": 6,
    "start_time": "2022-12-25T23:32:37.032Z"
   },
   {
    "duration": 580,
    "start_time": "2022-12-25T23:32:54.275Z"
   },
   {
    "duration": 630,
    "start_time": "2022-12-25T23:33:08.486Z"
   },
   {
    "duration": 545,
    "start_time": "2022-12-25T23:33:19.327Z"
   },
   {
    "duration": 402,
    "start_time": "2022-12-25T23:33:28.139Z"
   },
   {
    "duration": 107,
    "start_time": "2022-12-25T23:33:28.746Z"
   },
   {
    "duration": 15,
    "start_time": "2022-12-25T23:33:29.239Z"
   },
   {
    "duration": 81,
    "start_time": "2022-12-25T23:33:29.782Z"
   },
   {
    "duration": 2261,
    "start_time": "2022-12-25T23:33:30.616Z"
   },
   {
    "duration": 10,
    "start_time": "2022-12-25T23:33:32.880Z"
   },
   {
    "duration": 8,
    "start_time": "2022-12-25T23:33:32.892Z"
   },
   {
    "duration": 19,
    "start_time": "2022-12-25T23:33:32.902Z"
   },
   {
    "duration": 7,
    "start_time": "2022-12-25T23:33:32.922Z"
   },
   {
    "duration": 2,
    "start_time": "2022-12-25T23:33:34.188Z"
   },
   {
    "duration": 2,
    "start_time": "2022-12-25T23:33:35.093Z"
   },
   {
    "duration": 7,
    "start_time": "2022-12-25T23:33:35.983Z"
   },
   {
    "duration": 9,
    "start_time": "2022-12-25T23:33:51.674Z"
   },
   {
    "duration": 8,
    "start_time": "2022-12-25T23:34:00.667Z"
   },
   {
    "duration": 5,
    "start_time": "2022-12-25T23:34:22.436Z"
   },
   {
    "duration": 6,
    "start_time": "2022-12-25T23:35:25.639Z"
   },
   {
    "duration": 8,
    "start_time": "2022-12-25T23:35:37.765Z"
   },
   {
    "duration": 71,
    "start_time": "2022-12-25T23:36:00.987Z"
   },
   {
    "duration": 5,
    "start_time": "2022-12-25T23:36:08.180Z"
   },
   {
    "duration": 10,
    "start_time": "2022-12-25T23:36:17.994Z"
   },
   {
    "duration": 6,
    "start_time": "2022-12-25T23:36:31.242Z"
   },
   {
    "duration": 6,
    "start_time": "2022-12-25T23:36:33.562Z"
   },
   {
    "duration": 6,
    "start_time": "2022-12-25T23:36:41.494Z"
   },
   {
    "duration": 7,
    "start_time": "2022-12-25T23:36:43.368Z"
   },
   {
    "duration": 365,
    "start_time": "2022-12-25T23:36:53.274Z"
   },
   {
    "duration": 106,
    "start_time": "2022-12-25T23:36:53.740Z"
   },
   {
    "duration": 15,
    "start_time": "2022-12-25T23:36:54.193Z"
   },
   {
    "duration": 80,
    "start_time": "2022-12-25T23:36:54.607Z"
   },
   {
    "duration": 2274,
    "start_time": "2022-12-25T23:36:55.495Z"
   },
   {
    "duration": 10,
    "start_time": "2022-12-25T23:36:57.772Z"
   },
   {
    "duration": 7,
    "start_time": "2022-12-25T23:36:57.783Z"
   },
   {
    "duration": 18,
    "start_time": "2022-12-25T23:36:57.792Z"
   },
   {
    "duration": 6,
    "start_time": "2022-12-25T23:36:57.811Z"
   },
   {
    "duration": 3,
    "start_time": "2022-12-25T23:36:57.911Z"
   },
   {
    "duration": 2,
    "start_time": "2022-12-25T23:36:59.042Z"
   },
   {
    "duration": 5,
    "start_time": "2022-12-25T23:36:59.723Z"
   },
   {
    "duration": 5,
    "start_time": "2022-12-25T23:37:00.513Z"
   },
   {
    "duration": 9,
    "start_time": "2022-12-25T23:37:02.489Z"
   },
   {
    "duration": 384,
    "start_time": "2022-12-26T09:54:45.827Z"
   },
   {
    "duration": 146,
    "start_time": "2022-12-26T09:54:47.439Z"
   },
   {
    "duration": 13,
    "start_time": "2022-12-26T09:54:49.449Z"
   },
   {
    "duration": 74,
    "start_time": "2022-12-26T09:54:50.511Z"
   },
   {
    "duration": 2211,
    "start_time": "2022-12-26T09:54:52.130Z"
   },
   {
    "duration": 13,
    "start_time": "2022-12-26T09:54:55.044Z"
   },
   {
    "duration": 6,
    "start_time": "2022-12-26T09:54:56.044Z"
   },
   {
    "duration": 13,
    "start_time": "2022-12-26T09:54:57.068Z"
   },
   {
    "duration": 6,
    "start_time": "2022-12-26T09:54:57.564Z"
   },
   {
    "duration": 2,
    "start_time": "2022-12-26T09:55:00.448Z"
   },
   {
    "duration": 6,
    "start_time": "2022-12-26T09:55:24.823Z"
   },
   {
    "duration": 7,
    "start_time": "2022-12-26T09:55:33.612Z"
   },
   {
    "duration": 6,
    "start_time": "2022-12-26T09:55:54.511Z"
   },
   {
    "duration": 5,
    "start_time": "2022-12-26T09:55:59.811Z"
   },
   {
    "duration": 2,
    "start_time": "2022-12-26T09:56:01.231Z"
   },
   {
    "duration": 2,
    "start_time": "2022-12-26T09:56:02.137Z"
   },
   {
    "duration": 5,
    "start_time": "2022-12-26T09:56:02.864Z"
   },
   {
    "duration": 5,
    "start_time": "2022-12-26T09:56:03.561Z"
   },
   {
    "duration": 7,
    "start_time": "2022-12-26T09:56:04.820Z"
   },
   {
    "duration": 14,
    "start_time": "2022-12-26T09:56:34.677Z"
   },
   {
    "duration": 167,
    "start_time": "2022-12-26T09:56:37.366Z"
   },
   {
    "duration": 7,
    "start_time": "2022-12-26T09:56:38.342Z"
   },
   {
    "duration": 66,
    "start_time": "2022-12-26T09:58:46.020Z"
   },
   {
    "duration": 92,
    "start_time": "2022-12-26T09:59:41.607Z"
   },
   {
    "duration": 99,
    "start_time": "2022-12-26T09:59:53.281Z"
   },
   {
    "duration": 5,
    "start_time": "2022-12-26T09:59:57.909Z"
   },
   {
    "duration": 401,
    "start_time": "2022-12-26T10:00:09.503Z"
   },
   {
    "duration": 98,
    "start_time": "2022-12-26T10:00:10.071Z"
   },
   {
    "duration": 14,
    "start_time": "2022-12-26T10:00:10.663Z"
   },
   {
    "duration": 77,
    "start_time": "2022-12-26T10:00:11.215Z"
   },
   {
    "duration": 2124,
    "start_time": "2022-12-26T10:00:12.309Z"
   },
   {
    "duration": 9,
    "start_time": "2022-12-26T10:00:14.435Z"
   },
   {
    "duration": 6,
    "start_time": "2022-12-26T10:00:14.723Z"
   },
   {
    "duration": 17,
    "start_time": "2022-12-26T10:00:15.349Z"
   },
   {
    "duration": 8,
    "start_time": "2022-12-26T10:00:15.915Z"
   },
   {
    "duration": 2,
    "start_time": "2022-12-26T10:00:16.773Z"
   },
   {
    "duration": 2,
    "start_time": "2022-12-26T10:00:17.331Z"
   },
   {
    "duration": 5,
    "start_time": "2022-12-26T10:00:17.904Z"
   },
   {
    "duration": 5,
    "start_time": "2022-12-26T10:00:22.944Z"
   },
   {
    "duration": 6,
    "start_time": "2022-12-26T10:00:35.010Z"
   },
   {
    "duration": 7,
    "start_time": "2022-12-26T10:00:40.938Z"
   },
   {
    "duration": 5,
    "start_time": "2022-12-26T10:00:52.897Z"
   },
   {
    "duration": 11,
    "start_time": "2022-12-26T15:40:14.417Z"
   },
   {
    "duration": 5,
    "start_time": "2022-12-26T15:40:30.471Z"
   },
   {
    "duration": 5,
    "start_time": "2022-12-26T15:40:33.888Z"
   },
   {
    "duration": 25,
    "start_time": "2022-12-26T15:40:40.313Z"
   },
   {
    "duration": 22,
    "start_time": "2022-12-26T15:40:57.923Z"
   },
   {
    "duration": 396,
    "start_time": "2022-12-26T15:41:18.398Z"
   },
   {
    "duration": 123,
    "start_time": "2022-12-26T15:41:19.134Z"
   },
   {
    "duration": 14,
    "start_time": "2022-12-26T15:41:19.626Z"
   },
   {
    "duration": 81,
    "start_time": "2022-12-26T15:41:19.901Z"
   },
   {
    "duration": 2061,
    "start_time": "2022-12-26T15:41:20.232Z"
   },
   {
    "duration": 9,
    "start_time": "2022-12-26T15:41:22.295Z"
   },
   {
    "duration": 15,
    "start_time": "2022-12-26T15:41:22.305Z"
   },
   {
    "duration": 14,
    "start_time": "2022-12-26T15:41:22.322Z"
   },
   {
    "duration": 6,
    "start_time": "2022-12-26T15:41:22.337Z"
   },
   {
    "duration": 5,
    "start_time": "2022-12-26T15:41:22.345Z"
   },
   {
    "duration": 2,
    "start_time": "2022-12-26T15:41:22.605Z"
   },
   {
    "duration": 7,
    "start_time": "2022-12-26T15:41:23.911Z"
   },
   {
    "duration": 7,
    "start_time": "2022-12-26T15:41:25.629Z"
   },
   {
    "duration": 8,
    "start_time": "2022-12-26T15:41:26.950Z"
   },
   {
    "duration": 25,
    "start_time": "2022-12-26T15:41:46.242Z"
   },
   {
    "duration": 6,
    "start_time": "2022-12-26T15:42:06.959Z"
   },
   {
    "duration": 8,
    "start_time": "2022-12-26T15:45:19.144Z"
   },
   {
    "duration": 6,
    "start_time": "2022-12-26T15:45:23.400Z"
   },
   {
    "duration": 7,
    "start_time": "2022-12-26T15:45:34.499Z"
   },
   {
    "duration": 173,
    "start_time": "2022-12-26T15:46:25.122Z"
   },
   {
    "duration": 7,
    "start_time": "2022-12-26T15:46:27.372Z"
   },
   {
    "duration": 11,
    "start_time": "2022-12-26T15:49:01.466Z"
   },
   {
    "duration": 1271,
    "start_time": "2022-12-26T15:49:52.331Z"
   },
   {
    "duration": 8,
    "start_time": "2022-12-26T15:51:26.273Z"
   },
   {
    "duration": 8,
    "start_time": "2022-12-26T15:51:51.482Z"
   },
   {
    "duration": 7,
    "start_time": "2022-12-26T15:52:04.909Z"
   },
   {
    "duration": 8,
    "start_time": "2022-12-26T15:52:17.994Z"
   },
   {
    "duration": 8,
    "start_time": "2022-12-26T15:52:32.435Z"
   },
   {
    "duration": 398,
    "start_time": "2022-12-26T15:52:46.397Z"
   },
   {
    "duration": 100,
    "start_time": "2022-12-26T15:52:46.796Z"
   },
   {
    "duration": 13,
    "start_time": "2022-12-26T15:52:47.079Z"
   },
   {
    "duration": 70,
    "start_time": "2022-12-26T15:52:47.367Z"
   },
   {
    "duration": 2008,
    "start_time": "2022-12-26T15:52:48.201Z"
   },
   {
    "duration": 8,
    "start_time": "2022-12-26T15:52:50.211Z"
   },
   {
    "duration": 15,
    "start_time": "2022-12-26T15:52:50.221Z"
   },
   {
    "duration": 13,
    "start_time": "2022-12-26T15:52:50.387Z"
   },
   {
    "duration": 5,
    "start_time": "2022-12-26T15:52:50.937Z"
   },
   {
    "duration": 3,
    "start_time": "2022-12-26T15:52:51.530Z"
   },
   {
    "duration": 2,
    "start_time": "2022-12-26T15:52:52.000Z"
   },
   {
    "duration": 4,
    "start_time": "2022-12-26T15:52:52.596Z"
   },
   {
    "duration": 6,
    "start_time": "2022-12-26T15:52:53.047Z"
   },
   {
    "duration": 9,
    "start_time": "2022-12-26T15:52:53.649Z"
   },
   {
    "duration": 7,
    "start_time": "2022-12-26T15:52:54.010Z"
   },
   {
    "duration": 8,
    "start_time": "2022-12-26T15:52:54.613Z"
   },
   {
    "duration": 7,
    "start_time": "2022-12-26T15:52:59.286Z"
   },
   {
    "duration": 6,
    "start_time": "2022-12-26T15:53:31.154Z"
   },
   {
    "duration": 8,
    "start_time": "2022-12-26T15:53:55.601Z"
   },
   {
    "duration": 6,
    "start_time": "2022-12-26T15:54:40.497Z"
   },
   {
    "duration": 3,
    "start_time": "2022-12-26T16:07:10.996Z"
   },
   {
    "duration": 4,
    "start_time": "2022-12-26T23:37:03.564Z"
   },
   {
    "duration": 7,
    "start_time": "2022-12-26T23:37:21.196Z"
   },
   {
    "duration": 8,
    "start_time": "2022-12-26T23:39:43.312Z"
   },
   {
    "duration": 97,
    "start_time": "2022-12-26T23:40:33.134Z"
   },
   {
    "duration": 6,
    "start_time": "2022-12-26T23:40:49.900Z"
   },
   {
    "duration": 10,
    "start_time": "2022-12-26T23:41:05.049Z"
   },
   {
    "duration": 7,
    "start_time": "2022-12-26T23:41:11.845Z"
   },
   {
    "duration": 5,
    "start_time": "2022-12-26T23:43:14.746Z"
   },
   {
    "duration": 6,
    "start_time": "2022-12-26T23:44:13.796Z"
   },
   {
    "duration": 5,
    "start_time": "2022-12-26T23:44:18.610Z"
   },
   {
    "duration": 28,
    "start_time": "2022-12-26T23:44:23.256Z"
   },
   {
    "duration": 372,
    "start_time": "2022-12-26T23:44:32.697Z"
   },
   {
    "duration": 111,
    "start_time": "2022-12-26T23:44:33.342Z"
   },
   {
    "duration": 15,
    "start_time": "2022-12-26T23:44:33.873Z"
   },
   {
    "duration": 77,
    "start_time": "2022-12-26T23:44:34.506Z"
   },
   {
    "duration": 2268,
    "start_time": "2022-12-26T23:44:35.885Z"
   },
   {
    "duration": 10,
    "start_time": "2022-12-26T23:44:38.360Z"
   },
   {
    "duration": 8,
    "start_time": "2022-12-26T23:44:38.979Z"
   },
   {
    "duration": 21,
    "start_time": "2022-12-26T23:44:39.819Z"
   },
   {
    "duration": 7,
    "start_time": "2022-12-26T23:44:40.507Z"
   },
   {
    "duration": 2,
    "start_time": "2022-12-26T23:44:41.097Z"
   },
   {
    "duration": 2,
    "start_time": "2022-12-26T23:44:41.959Z"
   },
   {
    "duration": 5,
    "start_time": "2022-12-26T23:44:42.947Z"
   },
   {
    "duration": 34,
    "start_time": "2022-12-26T23:44:43.820Z"
   },
   {
    "duration": 5,
    "start_time": "2022-12-26T23:44:44.740Z"
   },
   {
    "duration": 6,
    "start_time": "2022-12-26T23:44:49.362Z"
   },
   {
    "duration": 8,
    "start_time": "2022-12-26T23:44:52.184Z"
   },
   {
    "duration": 12,
    "start_time": "2022-12-26T23:45:01.751Z"
   },
   {
    "duration": 8,
    "start_time": "2022-12-26T23:45:03.449Z"
   },
   {
    "duration": 17,
    "start_time": "2022-12-26T23:45:09.829Z"
   },
   {
    "duration": 207,
    "start_time": "2022-12-26T23:45:11.444Z"
   },
   {
    "duration": 7,
    "start_time": "2022-12-26T23:45:12.792Z"
   },
   {
    "duration": 6,
    "start_time": "2022-12-26T23:45:36.453Z"
   },
   {
    "duration": 388,
    "start_time": "2022-12-26T23:46:15.377Z"
   },
   {
    "duration": 118,
    "start_time": "2022-12-26T23:46:15.978Z"
   },
   {
    "duration": 21,
    "start_time": "2022-12-26T23:46:16.463Z"
   },
   {
    "duration": 95,
    "start_time": "2022-12-26T23:46:16.948Z"
   },
   {
    "duration": 2266,
    "start_time": "2022-12-26T23:46:17.843Z"
   },
   {
    "duration": 10,
    "start_time": "2022-12-26T23:46:20.112Z"
   },
   {
    "duration": 8,
    "start_time": "2022-12-26T23:46:21.176Z"
   },
   {
    "duration": 15,
    "start_time": "2022-12-26T23:46:22.176Z"
   },
   {
    "duration": 8,
    "start_time": "2022-12-26T23:46:23.421Z"
   },
   {
    "duration": 3,
    "start_time": "2022-12-26T23:46:25.021Z"
   },
   {
    "duration": 2,
    "start_time": "2022-12-26T23:46:26.114Z"
   },
   {
    "duration": 5,
    "start_time": "2022-12-26T23:46:33.951Z"
   },
   {
    "duration": 52,
    "start_time": "2022-12-26T23:46:35.022Z"
   },
   {
    "duration": 5,
    "start_time": "2022-12-26T23:46:39.476Z"
   },
   {
    "duration": 9,
    "start_time": "2022-12-26T23:46:41.328Z"
   },
   {
    "duration": 8,
    "start_time": "2022-12-26T23:46:42.374Z"
   },
   {
    "duration": 7,
    "start_time": "2022-12-26T23:46:44.264Z"
   },
   {
    "duration": 8,
    "start_time": "2022-12-26T23:46:45.458Z"
   },
   {
    "duration": 21,
    "start_time": "2022-12-26T23:46:48.026Z"
   },
   {
    "duration": 7,
    "start_time": "2022-12-26T23:47:37.154Z"
   },
   {
    "duration": 5,
    "start_time": "2022-12-26T23:47:52.356Z"
   },
   {
    "duration": 394,
    "start_time": "2022-12-26T23:48:02.604Z"
   },
   {
    "duration": 109,
    "start_time": "2022-12-26T23:48:03.142Z"
   },
   {
    "duration": 15,
    "start_time": "2022-12-26T23:48:03.610Z"
   },
   {
    "duration": 87,
    "start_time": "2022-12-26T23:48:04.165Z"
   },
   {
    "duration": 2312,
    "start_time": "2022-12-26T23:48:05.269Z"
   },
   {
    "duration": 8,
    "start_time": "2022-12-26T23:48:07.583Z"
   },
   {
    "duration": 6,
    "start_time": "2022-12-26T23:48:07.741Z"
   },
   {
    "duration": 13,
    "start_time": "2022-12-26T23:48:08.401Z"
   },
   {
    "duration": 7,
    "start_time": "2022-12-26T23:48:09.317Z"
   },
   {
    "duration": 5,
    "start_time": "2022-12-26T23:48:10.944Z"
   },
   {
    "duration": 45,
    "start_time": "2022-12-26T23:48:13.341Z"
   },
   {
    "duration": 6,
    "start_time": "2022-12-26T23:48:19.683Z"
   },
   {
    "duration": 9,
    "start_time": "2022-12-26T23:48:20.193Z"
   },
   {
    "duration": 7,
    "start_time": "2022-12-26T23:48:20.992Z"
   },
   {
    "duration": 7,
    "start_time": "2022-12-26T23:48:22.255Z"
   },
   {
    "duration": 22,
    "start_time": "2022-12-26T23:48:25.112Z"
   },
   {
    "duration": 185,
    "start_time": "2022-12-26T23:48:28.271Z"
   },
   {
    "duration": 8,
    "start_time": "2022-12-26T23:48:29.439Z"
   },
   {
    "duration": 48,
    "start_time": "2022-12-26T23:48:52.846Z"
   },
   {
    "duration": 7,
    "start_time": "2022-12-27T00:44:12.194Z"
   },
   {
    "duration": 6,
    "start_time": "2022-12-27T00:48:47.438Z"
   },
   {
    "duration": 71,
    "start_time": "2022-12-27T00:48:53.829Z"
   },
   {
    "duration": 8,
    "start_time": "2022-12-27T00:49:00.627Z"
   },
   {
    "duration": 9,
    "start_time": "2022-12-27T00:49:19.994Z"
   },
   {
    "duration": 46,
    "start_time": "2022-12-27T00:49:32.973Z"
   },
   {
    "duration": 5,
    "start_time": "2022-12-27T00:49:53.666Z"
   },
   {
    "duration": 5,
    "start_time": "2022-12-27T00:50:07.270Z"
   },
   {
    "duration": 8,
    "start_time": "2022-12-27T00:50:10.978Z"
   },
   {
    "duration": 10,
    "start_time": "2022-12-27T00:50:33.315Z"
   },
   {
    "duration": 918,
    "start_time": "2022-12-27T00:50:42.828Z"
   },
   {
    "duration": 69,
    "start_time": "2022-12-27T00:50:53.129Z"
   },
   {
    "duration": 944,
    "start_time": "2022-12-27T00:50:55.591Z"
   },
   {
    "duration": 360,
    "start_time": "2022-12-27T00:54:14.159Z"
   },
   {
    "duration": 99,
    "start_time": "2022-12-27T00:54:14.803Z"
   },
   {
    "duration": 16,
    "start_time": "2022-12-27T00:54:15.339Z"
   },
   {
    "duration": 74,
    "start_time": "2022-12-27T00:54:15.877Z"
   },
   {
    "duration": 2003,
    "start_time": "2022-12-27T00:54:18.290Z"
   },
   {
    "duration": 8,
    "start_time": "2022-12-27T00:54:20.295Z"
   },
   {
    "duration": 6,
    "start_time": "2022-12-27T00:54:20.558Z"
   },
   {
    "duration": 13,
    "start_time": "2022-12-27T00:54:21.246Z"
   },
   {
    "duration": 7,
    "start_time": "2022-12-27T00:54:21.812Z"
   },
   {
    "duration": 5,
    "start_time": "2022-12-27T00:54:22.455Z"
   },
   {
    "duration": 46,
    "start_time": "2022-12-27T00:54:23.203Z"
   },
   {
    "duration": 402,
    "start_time": "2022-12-27T00:54:47.706Z"
   },
   {
    "duration": 98,
    "start_time": "2022-12-27T00:54:48.134Z"
   },
   {
    "duration": 14,
    "start_time": "2022-12-27T00:54:48.378Z"
   },
   {
    "duration": 78,
    "start_time": "2022-12-27T00:54:49.108Z"
   },
   {
    "duration": 1957,
    "start_time": "2022-12-27T00:54:50.828Z"
   },
   {
    "duration": 7,
    "start_time": "2022-12-27T00:55:03.288Z"
   },
   {
    "duration": 13,
    "start_time": "2022-12-27T00:55:04.015Z"
   },
   {
    "duration": 6,
    "start_time": "2022-12-27T00:55:04.660Z"
   },
   {
    "duration": 5,
    "start_time": "2022-12-27T00:55:05.323Z"
   },
   {
    "duration": 44,
    "start_time": "2022-12-27T00:55:05.868Z"
   },
   {
    "duration": 11,
    "start_time": "2022-12-27T00:55:06.492Z"
   },
   {
    "duration": 7,
    "start_time": "2022-12-27T00:55:30.709Z"
   },
   {
    "duration": 7,
    "start_time": "2022-12-27T00:55:31.494Z"
   },
   {
    "duration": 13,
    "start_time": "2022-12-27T00:55:55.523Z"
   },
   {
    "duration": 13,
    "start_time": "2022-12-27T00:56:10.562Z"
   },
   {
    "duration": 14,
    "start_time": "2022-12-27T00:56:17.451Z"
   },
   {
    "duration": 405,
    "start_time": "2022-12-27T00:56:40.609Z"
   },
   {
    "duration": 99,
    "start_time": "2022-12-27T00:56:41.199Z"
   },
   {
    "duration": 14,
    "start_time": "2022-12-27T00:56:41.737Z"
   },
   {
    "duration": 74,
    "start_time": "2022-12-27T00:56:42.303Z"
   },
   {
    "duration": 2075,
    "start_time": "2022-12-27T00:56:43.110Z"
   },
   {
    "duration": 9,
    "start_time": "2022-12-27T00:56:45.187Z"
   },
   {
    "duration": 6,
    "start_time": "2022-12-27T00:56:47.836Z"
   },
   {
    "duration": 15,
    "start_time": "2022-12-27T00:56:49.800Z"
   },
   {
    "duration": 7,
    "start_time": "2022-12-27T00:56:50.706Z"
   },
   {
    "duration": 5,
    "start_time": "2022-12-27T00:56:54.276Z"
   },
   {
    "duration": 45,
    "start_time": "2022-12-27T00:56:58.004Z"
   },
   {
    "duration": 8,
    "start_time": "2022-12-27T00:57:03.517Z"
   },
   {
    "duration": 5,
    "start_time": "2022-12-27T00:57:31.054Z"
   },
   {
    "duration": 8,
    "start_time": "2022-12-27T00:57:32.262Z"
   },
   {
    "duration": 6,
    "start_time": "2022-12-27T00:57:33.104Z"
   },
   {
    "duration": 421,
    "start_time": "2022-12-27T12:54:54.864Z"
   },
   {
    "duration": 171,
    "start_time": "2022-12-27T12:54:56.238Z"
   },
   {
    "duration": 17,
    "start_time": "2022-12-27T12:54:56.767Z"
   },
   {
    "duration": 90,
    "start_time": "2022-12-27T12:54:57.526Z"
   },
   {
    "duration": 2700,
    "start_time": "2022-12-27T12:54:58.784Z"
   },
   {
    "duration": 14,
    "start_time": "2022-12-27T12:55:01.487Z"
   },
   {
    "duration": 9,
    "start_time": "2022-12-27T12:55:58.247Z"
   },
   {
    "duration": 11,
    "start_time": "2022-12-27T12:56:35.893Z"
   },
   {
    "duration": 12,
    "start_time": "2022-12-27T12:56:37.138Z"
   },
   {
    "duration": 10,
    "start_time": "2022-12-27T12:56:54.901Z"
   },
   {
    "duration": 22,
    "start_time": "2022-12-27T12:57:05.636Z"
   },
   {
    "duration": 12,
    "start_time": "2022-12-27T12:57:16.277Z"
   },
   {
    "duration": 8,
    "start_time": "2022-12-27T13:00:21.250Z"
   },
   {
    "duration": 7,
    "start_time": "2022-12-27T13:00:25.840Z"
   },
   {
    "duration": 4,
    "start_time": "2022-12-27T13:00:37.989Z"
   },
   {
    "duration": 5,
    "start_time": "2022-12-27T13:00:54.816Z"
   },
   {
    "duration": 1119,
    "start_time": "2022-12-27T13:01:01.396Z"
   },
   {
    "duration": 868,
    "start_time": "2022-12-27T13:01:10.173Z"
   },
   {
    "duration": 446,
    "start_time": "2022-12-27T13:01:24.035Z"
   },
   {
    "duration": 120,
    "start_time": "2022-12-27T13:01:24.483Z"
   },
   {
    "duration": 18,
    "start_time": "2022-12-27T13:01:24.983Z"
   },
   {
    "duration": 80,
    "start_time": "2022-12-27T13:01:25.439Z"
   },
   {
    "duration": 2290,
    "start_time": "2022-12-27T13:01:26.094Z"
   },
   {
    "duration": 16,
    "start_time": "2022-12-27T13:03:10.251Z"
   },
   {
    "duration": 7,
    "start_time": "2022-12-27T13:03:13.979Z"
   },
   {
    "duration": 5,
    "start_time": "2022-12-27T13:03:14.403Z"
   },
   {
    "duration": 8,
    "start_time": "2022-12-27T13:03:15.946Z"
   },
   {
    "duration": 9,
    "start_time": "2022-12-27T13:03:17.771Z"
   },
   {
    "duration": 8,
    "start_time": "2022-12-27T13:03:18.375Z"
   },
   {
    "duration": 24,
    "start_time": "2022-12-27T13:03:22.082Z"
   },
   {
    "duration": 6,
    "start_time": "2022-12-27T13:03:24.901Z"
   },
   {
    "duration": 60,
    "start_time": "2022-12-27T13:03:40.870Z"
   },
   {
    "duration": 61,
    "start_time": "2022-12-27T13:03:43.861Z"
   },
   {
    "duration": 10,
    "start_time": "2022-12-27T13:04:02.674Z"
   },
   {
    "duration": 15,
    "start_time": "2022-12-27T13:04:21.107Z"
   },
   {
    "duration": 5,
    "start_time": "2022-12-27T13:04:29.078Z"
   },
   {
    "duration": 10,
    "start_time": "2022-12-27T13:04:40.636Z"
   },
   {
    "duration": 10,
    "start_time": "2022-12-27T13:08:23.922Z"
   },
   {
    "duration": 13,
    "start_time": "2022-12-27T13:09:10.289Z"
   },
   {
    "duration": 10,
    "start_time": "2022-12-27T13:09:21.921Z"
   },
   {
    "duration": 21,
    "start_time": "2022-12-27T13:10:25.792Z"
   },
   {
    "duration": 13,
    "start_time": "2022-12-27T13:11:00.934Z"
   },
   {
    "duration": 414,
    "start_time": "2022-12-27T13:11:13.280Z"
   },
   {
    "duration": 124,
    "start_time": "2022-12-27T13:11:13.849Z"
   },
   {
    "duration": 20,
    "start_time": "2022-12-27T13:11:14.363Z"
   },
   {
    "duration": 88,
    "start_time": "2022-12-27T13:11:14.901Z"
   },
   {
    "duration": 2542,
    "start_time": "2022-12-27T13:11:15.799Z"
   },
   {
    "duration": 12,
    "start_time": "2022-12-27T13:11:18.343Z"
   },
   {
    "duration": 6,
    "start_time": "2022-12-27T13:11:21.618Z"
   },
   {
    "duration": 8,
    "start_time": "2022-12-27T13:11:22.169Z"
   },
   {
    "duration": 7,
    "start_time": "2022-12-27T13:11:22.802Z"
   },
   {
    "duration": 9,
    "start_time": "2022-12-27T13:11:23.468Z"
   },
   {
    "duration": 9,
    "start_time": "2022-12-27T13:11:24.100Z"
   },
   {
    "duration": 17,
    "start_time": "2022-12-27T13:11:24.864Z"
   },
   {
    "duration": 6,
    "start_time": "2022-12-27T13:11:25.951Z"
   },
   {
    "duration": 77,
    "start_time": "2022-12-27T13:11:26.945Z"
   },
   {
    "duration": 20,
    "start_time": "2022-12-27T13:11:27.867Z"
   },
   {
    "duration": 446,
    "start_time": "2022-12-27T13:13:57.651Z"
   },
   {
    "duration": 117,
    "start_time": "2022-12-27T13:13:58.242Z"
   },
   {
    "duration": 19,
    "start_time": "2022-12-27T13:13:58.600Z"
   },
   {
    "duration": 127,
    "start_time": "2022-12-27T13:13:59.109Z"
   },
   {
    "duration": 2726,
    "start_time": "2022-12-27T13:14:00.287Z"
   },
   {
    "duration": 11,
    "start_time": "2022-12-27T13:14:03.015Z"
   },
   {
    "duration": 10,
    "start_time": "2022-12-27T13:14:03.028Z"
   },
   {
    "duration": 6,
    "start_time": "2022-12-27T13:14:03.296Z"
   },
   {
    "duration": 7,
    "start_time": "2022-12-27T13:14:05.843Z"
   },
   {
    "duration": 11,
    "start_time": "2022-12-27T13:14:08.513Z"
   },
   {
    "duration": 9,
    "start_time": "2022-12-27T13:14:11.084Z"
   },
   {
    "duration": 14,
    "start_time": "2022-12-27T13:14:47.044Z"
   },
   {
    "duration": 8,
    "start_time": "2022-12-27T13:14:55.578Z"
   },
   {
    "duration": 11,
    "start_time": "2022-12-27T13:15:03.385Z"
   },
   {
    "duration": 89,
    "start_time": "2022-12-27T13:15:13.837Z"
   },
   {
    "duration": 14,
    "start_time": "2022-12-27T13:15:24.671Z"
   },
   {
    "duration": 11,
    "start_time": "2022-12-27T13:15:46.369Z"
   },
   {
    "duration": 52,
    "start_time": "2022-12-27T13:16:03.720Z"
   },
   {
    "duration": 21,
    "start_time": "2022-12-27T13:16:20.535Z"
   },
   {
    "duration": 90,
    "start_time": "2022-12-27T13:16:24.294Z"
   },
   {
    "duration": 461,
    "start_time": "2022-12-27T13:16:36.717Z"
   },
   {
    "duration": 117,
    "start_time": "2022-12-27T13:16:37.180Z"
   },
   {
    "duration": 18,
    "start_time": "2022-12-27T13:16:37.720Z"
   },
   {
    "duration": 111,
    "start_time": "2022-12-27T13:16:38.156Z"
   },
   {
    "duration": 2626,
    "start_time": "2022-12-27T13:16:39.158Z"
   },
   {
    "duration": 10,
    "start_time": "2022-12-27T13:16:41.787Z"
   },
   {
    "duration": 7,
    "start_time": "2022-12-27T13:16:42.328Z"
   },
   {
    "duration": 6,
    "start_time": "2022-12-27T13:16:43.368Z"
   },
   {
    "duration": 12,
    "start_time": "2022-12-27T13:16:44.220Z"
   },
   {
    "duration": 11,
    "start_time": "2022-12-27T13:16:45.556Z"
   },
   {
    "duration": 11,
    "start_time": "2022-12-27T13:16:46.340Z"
   },
   {
    "duration": 16,
    "start_time": "2022-12-27T13:16:49.539Z"
   },
   {
    "duration": 8,
    "start_time": "2022-12-27T13:16:49.915Z"
   },
   {
    "duration": 11,
    "start_time": "2022-12-27T13:16:52.897Z"
   },
   {
    "duration": 58,
    "start_time": "2022-12-27T13:17:10.603Z"
   },
   {
    "duration": 413,
    "start_time": "2022-12-27T13:18:13.156Z"
   },
   {
    "duration": 126,
    "start_time": "2022-12-27T13:18:13.762Z"
   },
   {
    "duration": 16,
    "start_time": "2022-12-27T13:18:14.286Z"
   },
   {
    "duration": 83,
    "start_time": "2022-12-27T13:18:14.761Z"
   },
   {
    "duration": 2450,
    "start_time": "2022-12-27T13:18:15.767Z"
   },
   {
    "duration": 11,
    "start_time": "2022-12-27T13:18:18.219Z"
   },
   {
    "duration": 8,
    "start_time": "2022-12-27T13:18:19.045Z"
   },
   {
    "duration": 7,
    "start_time": "2022-12-27T13:18:20.168Z"
   },
   {
    "duration": 9,
    "start_time": "2022-12-27T13:18:20.645Z"
   },
   {
    "duration": 11,
    "start_time": "2022-12-27T13:18:21.286Z"
   },
   {
    "duration": 9,
    "start_time": "2022-12-27T13:18:21.899Z"
   },
   {
    "duration": 19,
    "start_time": "2022-12-27T13:18:22.285Z"
   },
   {
    "duration": 8,
    "start_time": "2022-12-27T13:18:24.179Z"
   },
   {
    "duration": 9,
    "start_time": "2022-12-27T13:18:43.759Z"
   },
   {
    "duration": 13,
    "start_time": "2022-12-27T13:19:12.683Z"
   },
   {
    "duration": 446,
    "start_time": "2022-12-27T13:25:34.640Z"
   },
   {
    "duration": 117,
    "start_time": "2022-12-27T13:25:35.540Z"
   },
   {
    "duration": 17,
    "start_time": "2022-12-27T13:25:36.544Z"
   },
   {
    "duration": 83,
    "start_time": "2022-12-27T13:25:37.147Z"
   },
   {
    "duration": 2583,
    "start_time": "2022-12-27T13:25:38.337Z"
   },
   {
    "duration": 15,
    "start_time": "2022-12-27T13:25:40.923Z"
   },
   {
    "duration": 6,
    "start_time": "2022-12-27T13:25:41.408Z"
   },
   {
    "duration": 7,
    "start_time": "2022-12-27T13:25:41.978Z"
   },
   {
    "duration": 7,
    "start_time": "2022-12-27T13:25:42.640Z"
   },
   {
    "duration": 9,
    "start_time": "2022-12-27T13:25:43.387Z"
   },
   {
    "duration": 11,
    "start_time": "2022-12-27T13:25:46.220Z"
   },
   {
    "duration": 14,
    "start_time": "2022-12-27T13:25:48.651Z"
   },
   {
    "duration": 7,
    "start_time": "2022-12-27T13:25:52.980Z"
   },
   {
    "duration": 8,
    "start_time": "2022-12-27T13:26:41.105Z"
   },
   {
    "duration": 16,
    "start_time": "2022-12-27T13:27:02.882Z"
   },
   {
    "duration": 6,
    "start_time": "2022-12-27T13:27:35.961Z"
   },
   {
    "duration": 5,
    "start_time": "2022-12-27T13:29:36.385Z"
   },
   {
    "duration": 8,
    "start_time": "2022-12-27T13:29:47.593Z"
   },
   {
    "duration": 16,
    "start_time": "2022-12-27T13:30:05.380Z"
   },
   {
    "duration": 16,
    "start_time": "2022-12-27T13:30:27.078Z"
   },
   {
    "duration": 18,
    "start_time": "2022-12-27T13:30:47.595Z"
   },
   {
    "duration": 92,
    "start_time": "2022-12-27T13:31:06.360Z"
   },
   {
    "duration": 65,
    "start_time": "2022-12-27T13:31:16.256Z"
   },
   {
    "duration": 87,
    "start_time": "2022-12-27T13:31:36.411Z"
   },
   {
    "duration": 423,
    "start_time": "2022-12-27T13:32:04.602Z"
   },
   {
    "duration": 116,
    "start_time": "2022-12-27T13:32:05.027Z"
   },
   {
    "duration": 25,
    "start_time": "2022-12-27T13:32:05.145Z"
   },
   {
    "duration": 102,
    "start_time": "2022-12-27T13:32:05.172Z"
   },
   {
    "duration": 2512,
    "start_time": "2022-12-27T13:32:05.277Z"
   },
   {
    "duration": 12,
    "start_time": "2022-12-27T13:32:07.791Z"
   },
   {
    "duration": 9,
    "start_time": "2022-12-27T13:32:07.805Z"
   },
   {
    "duration": 6,
    "start_time": "2022-12-27T13:32:07.816Z"
   },
   {
    "duration": 7,
    "start_time": "2022-12-27T13:32:07.824Z"
   },
   {
    "duration": 10,
    "start_time": "2022-12-27T13:32:07.833Z"
   },
   {
    "duration": 10,
    "start_time": "2022-12-27T13:32:07.851Z"
   },
   {
    "duration": 14,
    "start_time": "2022-12-27T13:32:07.863Z"
   },
   {
    "duration": 6,
    "start_time": "2022-12-27T13:32:07.878Z"
   },
   {
    "duration": 6,
    "start_time": "2022-12-27T13:32:28.282Z"
   },
   {
    "duration": 8,
    "start_time": "2022-12-27T13:32:56.848Z"
   },
   {
    "duration": 11,
    "start_time": "2022-12-27T13:40:22.245Z"
   },
   {
    "duration": 67,
    "start_time": "2022-12-27T13:40:40.962Z"
   },
   {
    "duration": 390,
    "start_time": "2022-12-27T13:41:09.105Z"
   },
   {
    "duration": 117,
    "start_time": "2022-12-27T13:41:13.761Z"
   },
   {
    "duration": 18,
    "start_time": "2022-12-27T13:41:14.438Z"
   },
   {
    "duration": 91,
    "start_time": "2022-12-27T13:41:15.069Z"
   },
   {
    "duration": 2624,
    "start_time": "2022-12-27T13:41:16.177Z"
   },
   {
    "duration": 15,
    "start_time": "2022-12-27T13:41:18.803Z"
   },
   {
    "duration": 8,
    "start_time": "2022-12-27T13:41:19.077Z"
   },
   {
    "duration": 8,
    "start_time": "2022-12-27T13:41:19.372Z"
   },
   {
    "duration": 9,
    "start_time": "2022-12-27T13:41:19.793Z"
   },
   {
    "duration": 11,
    "start_time": "2022-12-27T13:41:20.483Z"
   },
   {
    "duration": 9,
    "start_time": "2022-12-27T13:41:20.965Z"
   },
   {
    "duration": 19,
    "start_time": "2022-12-27T13:41:21.926Z"
   },
   {
    "duration": 7,
    "start_time": "2022-12-27T13:41:23.094Z"
   },
   {
    "duration": 9,
    "start_time": "2022-12-27T13:41:35.448Z"
   },
   {
    "duration": 10,
    "start_time": "2022-12-27T13:42:46.762Z"
   },
   {
    "duration": 466,
    "start_time": "2022-12-27T13:43:15.158Z"
   },
   {
    "duration": 153,
    "start_time": "2022-12-27T13:43:15.644Z"
   },
   {
    "duration": 24,
    "start_time": "2022-12-27T13:43:16.204Z"
   },
   {
    "duration": 93,
    "start_time": "2022-12-27T13:43:16.449Z"
   },
   {
    "duration": 2617,
    "start_time": "2022-12-27T13:43:16.807Z"
   },
   {
    "duration": 14,
    "start_time": "2022-12-27T13:43:19.428Z"
   },
   {
    "duration": 13,
    "start_time": "2022-12-27T13:43:19.444Z"
   },
   {
    "duration": 13,
    "start_time": "2022-12-27T13:43:19.459Z"
   },
   {
    "duration": 15,
    "start_time": "2022-12-27T13:43:19.474Z"
   },
   {
    "duration": 12,
    "start_time": "2022-12-27T13:43:19.738Z"
   },
   {
    "duration": 10,
    "start_time": "2022-12-27T13:43:20.477Z"
   },
   {
    "duration": 20,
    "start_time": "2022-12-27T13:43:21.568Z"
   },
   {
    "duration": 108,
    "start_time": "2022-12-27T13:43:27.300Z"
   },
   {
    "duration": 10,
    "start_time": "2022-12-27T13:43:37.199Z"
   },
   {
    "duration": 11,
    "start_time": "2022-12-27T13:43:44.776Z"
   },
   {
    "duration": 159,
    "start_time": "2022-12-27T13:43:51.159Z"
   },
   {
    "duration": 16,
    "start_time": "2022-12-27T13:44:53.299Z"
   },
   {
    "duration": 8,
    "start_time": "2022-12-27T13:45:00.243Z"
   },
   {
    "duration": 4,
    "start_time": "2022-12-27T13:45:51.550Z"
   },
   {
    "duration": 10,
    "start_time": "2022-12-27T13:45:56.648Z"
   },
   {
    "duration": 10,
    "start_time": "2022-12-27T13:46:16.942Z"
   },
   {
    "duration": 12,
    "start_time": "2022-12-27T13:46:32.901Z"
   },
   {
    "duration": 10,
    "start_time": "2022-12-27T13:46:42.477Z"
   },
   {
    "duration": 18,
    "start_time": "2022-12-27T13:47:52.720Z"
   },
   {
    "duration": 27,
    "start_time": "2022-12-27T22:54:47.979Z"
   },
   {
    "duration": 19,
    "start_time": "2022-12-27T22:55:02.228Z"
   },
   {
    "duration": 16,
    "start_time": "2022-12-27T22:55:18.704Z"
   },
   {
    "duration": 19,
    "start_time": "2022-12-27T22:55:57.565Z"
   },
   {
    "duration": 18,
    "start_time": "2022-12-27T22:56:07.647Z"
   },
   {
    "duration": 16,
    "start_time": "2022-12-27T22:56:21.940Z"
   },
   {
    "duration": 14,
    "start_time": "2022-12-27T22:56:33.531Z"
   },
   {
    "duration": 15,
    "start_time": "2022-12-27T22:57:00.390Z"
   },
   {
    "duration": 16,
    "start_time": "2022-12-27T22:57:16.304Z"
   },
   {
    "duration": 15,
    "start_time": "2022-12-27T22:57:32.873Z"
   },
   {
    "duration": 17,
    "start_time": "2022-12-27T22:57:42.448Z"
   },
   {
    "duration": 17,
    "start_time": "2022-12-27T22:58:19.235Z"
   },
   {
    "duration": 14,
    "start_time": "2022-12-27T22:59:02.523Z"
   },
   {
    "duration": 7,
    "start_time": "2022-12-27T22:59:32.551Z"
   },
   {
    "duration": 13,
    "start_time": "2022-12-27T23:06:45.377Z"
   },
   {
    "duration": 11,
    "start_time": "2022-12-27T23:07:00.001Z"
   },
   {
    "duration": 116,
    "start_time": "2022-12-27T23:07:07.256Z"
   },
   {
    "duration": 6,
    "start_time": "2022-12-27T23:07:11.932Z"
   },
   {
    "duration": 5,
    "start_time": "2022-12-27T23:07:12.382Z"
   },
   {
    "duration": 7,
    "start_time": "2022-12-27T23:07:12.897Z"
   },
   {
    "duration": 7,
    "start_time": "2022-12-27T23:07:13.579Z"
   },
   {
    "duration": 7,
    "start_time": "2022-12-27T23:07:14.143Z"
   },
   {
    "duration": 13,
    "start_time": "2022-12-27T23:07:14.730Z"
   },
   {
    "duration": 6,
    "start_time": "2022-12-27T23:07:15.843Z"
   },
   {
    "duration": 16,
    "start_time": "2022-12-27T23:07:19.676Z"
   },
   {
    "duration": 201,
    "start_time": "2022-12-27T23:08:15.965Z"
   },
   {
    "duration": 6,
    "start_time": "2022-12-27T23:08:16.781Z"
   },
   {
    "duration": 6,
    "start_time": "2022-12-27T23:08:51.174Z"
   },
   {
    "duration": 17,
    "start_time": "2022-12-27T23:09:46.056Z"
   },
   {
    "duration": 19,
    "start_time": "2022-12-27T23:10:14.319Z"
   },
   {
    "duration": 21,
    "start_time": "2022-12-27T23:10:37.244Z"
   },
   {
    "duration": 27,
    "start_time": "2022-12-27T23:10:46.303Z"
   },
   {
    "duration": 18,
    "start_time": "2022-12-27T23:11:08.682Z"
   },
   {
    "duration": 19,
    "start_time": "2022-12-27T23:11:14.899Z"
   },
   {
    "duration": 21,
    "start_time": "2022-12-27T23:11:33.876Z"
   },
   {
    "duration": 21,
    "start_time": "2022-12-27T23:11:58.568Z"
   },
   {
    "duration": 23,
    "start_time": "2022-12-27T23:12:06.406Z"
   },
   {
    "duration": 22,
    "start_time": "2022-12-27T23:12:17.304Z"
   },
   {
    "duration": 36,
    "start_time": "2022-12-27T23:12:35.537Z"
   },
   {
    "duration": 328,
    "start_time": "2022-12-27T23:12:40.914Z"
   },
   {
    "duration": 291,
    "start_time": "2022-12-27T23:12:51.641Z"
   },
   {
    "duration": 414,
    "start_time": "2022-12-27T23:38:45.054Z"
   },
   {
    "duration": 119,
    "start_time": "2022-12-27T23:38:45.576Z"
   },
   {
    "duration": 17,
    "start_time": "2022-12-27T23:38:46.260Z"
   },
   {
    "duration": 79,
    "start_time": "2022-12-27T23:38:46.746Z"
   },
   {
    "duration": 2403,
    "start_time": "2022-12-27T23:38:47.921Z"
   },
   {
    "duration": 10,
    "start_time": "2022-12-27T23:38:50.326Z"
   },
   {
    "duration": 12,
    "start_time": "2022-12-27T23:38:50.338Z"
   },
   {
    "duration": 6,
    "start_time": "2022-12-27T23:38:50.765Z"
   },
   {
    "duration": 6,
    "start_time": "2022-12-27T23:38:51.309Z"
   },
   {
    "duration": 9,
    "start_time": "2022-12-27T23:38:51.933Z"
   },
   {
    "duration": 8,
    "start_time": "2022-12-27T23:38:52.447Z"
   },
   {
    "duration": 14,
    "start_time": "2022-12-27T23:38:52.777Z"
   },
   {
    "duration": 6,
    "start_time": "2022-12-27T23:38:53.261Z"
   },
   {
    "duration": 17,
    "start_time": "2022-12-27T23:38:53.897Z"
   },
   {
    "duration": 12,
    "start_time": "2022-12-27T23:38:57.298Z"
   },
   {
    "duration": 30,
    "start_time": "2022-12-27T23:39:23.607Z"
   },
   {
    "duration": 19,
    "start_time": "2022-12-27T23:39:44.289Z"
   },
   {
    "duration": 17,
    "start_time": "2022-12-27T23:40:02.646Z"
   },
   {
    "duration": 19,
    "start_time": "2022-12-27T23:40:07.452Z"
   },
   {
    "duration": 9,
    "start_time": "2022-12-27T23:42:48.801Z"
   },
   {
    "duration": 11,
    "start_time": "2022-12-27T23:42:50.828Z"
   },
   {
    "duration": 9,
    "start_time": "2022-12-27T23:43:32.868Z"
   },
   {
    "duration": 13,
    "start_time": "2022-12-27T23:44:17.302Z"
   },
   {
    "duration": 6,
    "start_time": "2022-12-27T23:44:31.528Z"
   },
   {
    "duration": 72,
    "start_time": "2022-12-27T23:46:36.012Z"
   },
   {
    "duration": 68,
    "start_time": "2022-12-27T23:46:52.978Z"
   },
   {
    "duration": 3,
    "start_time": "2022-12-27T23:46:58.882Z"
   },
   {
    "duration": 75,
    "start_time": "2022-12-27T23:47:27.269Z"
   },
   {
    "duration": 1208,
    "start_time": "2022-12-27T23:47:31.530Z"
   },
   {
    "duration": 7,
    "start_time": "2022-12-27T23:49:07.308Z"
   },
   {
    "duration": 8,
    "start_time": "2022-12-27T23:49:21.554Z"
   },
   {
    "duration": 1134,
    "start_time": "2022-12-27T23:51:31.300Z"
   },
   {
    "duration": 1100,
    "start_time": "2022-12-27T23:51:45.099Z"
   },
   {
    "duration": 1108,
    "start_time": "2022-12-27T23:53:31.002Z"
   },
   {
    "duration": 136,
    "start_time": "2022-12-27T23:53:32.998Z"
   },
   {
    "duration": 137,
    "start_time": "2022-12-27T23:53:41.051Z"
   },
   {
    "duration": 8,
    "start_time": "2022-12-27T23:54:01.443Z"
   },
   {
    "duration": 10,
    "start_time": "2022-12-27T23:54:42.869Z"
   },
   {
    "duration": 10,
    "start_time": "2022-12-27T23:54:53.605Z"
   },
   {
    "duration": 13,
    "start_time": "2022-12-27T23:55:17.445Z"
   },
   {
    "duration": 11,
    "start_time": "2022-12-27T23:56:13.387Z"
   },
   {
    "duration": 12,
    "start_time": "2022-12-27T23:56:37.214Z"
   },
   {
    "duration": 12,
    "start_time": "2022-12-27T23:56:43.005Z"
   },
   {
    "duration": 11,
    "start_time": "2022-12-27T23:56:52.180Z"
   },
   {
    "duration": 7,
    "start_time": "2022-12-27T23:57:08.010Z"
   },
   {
    "duration": 12,
    "start_time": "2022-12-27T23:57:14.165Z"
   },
   {
    "duration": 7,
    "start_time": "2022-12-27T23:57:22.233Z"
   },
   {
    "duration": 9,
    "start_time": "2022-12-27T23:57:46.972Z"
   },
   {
    "duration": 10,
    "start_time": "2022-12-27T23:57:59.910Z"
   },
   {
    "duration": 8,
    "start_time": "2022-12-27T23:58:06.797Z"
   },
   {
    "duration": 6,
    "start_time": "2022-12-27T23:58:15.851Z"
   },
   {
    "duration": 13,
    "start_time": "2022-12-27T23:58:20.558Z"
   },
   {
    "duration": 422,
    "start_time": "2022-12-27T23:58:42.036Z"
   },
   {
    "duration": 112,
    "start_time": "2022-12-27T23:58:42.460Z"
   },
   {
    "duration": 16,
    "start_time": "2022-12-27T23:58:42.813Z"
   },
   {
    "duration": 81,
    "start_time": "2022-12-27T23:58:42.894Z"
   },
   {
    "duration": 2360,
    "start_time": "2022-12-27T23:58:43.268Z"
   },
   {
    "duration": 10,
    "start_time": "2022-12-27T23:58:45.631Z"
   },
   {
    "duration": 7,
    "start_time": "2022-12-27T23:58:46.331Z"
   },
   {
    "duration": 7,
    "start_time": "2022-12-27T23:58:47.097Z"
   },
   {
    "duration": 7,
    "start_time": "2022-12-27T23:58:50.473Z"
   },
   {
    "duration": 9,
    "start_time": "2022-12-27T23:58:52.394Z"
   },
   {
    "duration": 7,
    "start_time": "2022-12-27T23:58:53.875Z"
   },
   {
    "duration": 14,
    "start_time": "2022-12-27T23:58:54.802Z"
   },
   {
    "duration": 21,
    "start_time": "2022-12-27T23:58:55.645Z"
   },
   {
    "duration": 6,
    "start_time": "2022-12-27T23:58:56.469Z"
   },
   {
    "duration": 12,
    "start_time": "2022-12-27T23:58:59.295Z"
   },
   {
    "duration": 9,
    "start_time": "2022-12-27T23:59:05.739Z"
   },
   {
    "duration": 15,
    "start_time": "2022-12-27T23:59:09.019Z"
   },
   {
    "duration": 6,
    "start_time": "2022-12-27T23:59:14.708Z"
   },
   {
    "duration": 10,
    "start_time": "2022-12-27T23:59:28.444Z"
   },
   {
    "duration": 77,
    "start_time": "2022-12-28T00:02:38.054Z"
   },
   {
    "duration": 11,
    "start_time": "2022-12-28T00:02:50.794Z"
   },
   {
    "duration": 12,
    "start_time": "2022-12-28T00:03:15.697Z"
   },
   {
    "duration": 11,
    "start_time": "2022-12-28T00:03:29.882Z"
   },
   {
    "duration": 432,
    "start_time": "2022-12-28T00:03:46.067Z"
   },
   {
    "duration": 115,
    "start_time": "2022-12-28T00:03:46.501Z"
   },
   {
    "duration": 16,
    "start_time": "2022-12-28T00:03:46.767Z"
   },
   {
    "duration": 85,
    "start_time": "2022-12-28T00:03:47.028Z"
   },
   {
    "duration": 2345,
    "start_time": "2022-12-28T00:03:47.452Z"
   },
   {
    "duration": 10,
    "start_time": "2022-12-28T00:03:49.799Z"
   },
   {
    "duration": 7,
    "start_time": "2022-12-28T00:03:49.811Z"
   },
   {
    "duration": 8,
    "start_time": "2022-12-28T00:03:49.821Z"
   },
   {
    "duration": 6,
    "start_time": "2022-12-28T00:03:49.831Z"
   },
   {
    "duration": 19,
    "start_time": "2022-12-28T00:03:49.839Z"
   },
   {
    "duration": 7,
    "start_time": "2022-12-28T00:03:49.860Z"
   },
   {
    "duration": 13,
    "start_time": "2022-12-28T00:03:49.869Z"
   },
   {
    "duration": 16,
    "start_time": "2022-12-28T00:03:49.884Z"
   },
   {
    "duration": 4,
    "start_time": "2022-12-28T00:03:49.903Z"
   },
   {
    "duration": 11,
    "start_time": "2022-12-28T00:03:51.328Z"
   },
   {
    "duration": 15,
    "start_time": "2022-12-28T00:03:51.966Z"
   },
   {
    "duration": 9,
    "start_time": "2022-12-28T00:04:33.492Z"
   },
   {
    "duration": 6,
    "start_time": "2022-12-28T00:04:38.281Z"
   },
   {
    "duration": 184,
    "start_time": "2022-12-28T00:04:40.770Z"
   },
   {
    "duration": 10,
    "start_time": "2022-12-28T00:04:45.158Z"
   },
   {
    "duration": 7,
    "start_time": "2022-12-28T00:05:38.234Z"
   },
   {
    "duration": 11,
    "start_time": "2022-12-28T00:05:43.161Z"
   },
   {
    "duration": 10,
    "start_time": "2022-12-28T00:06:05.754Z"
   },
   {
    "duration": 4,
    "start_time": "2022-12-28T00:06:50.794Z"
   },
   {
    "duration": 6,
    "start_time": "2022-12-28T00:07:04.400Z"
   },
   {
    "duration": 13,
    "start_time": "2022-12-28T00:07:10.606Z"
   },
   {
    "duration": 8,
    "start_time": "2022-12-28T00:07:37.764Z"
   },
   {
    "duration": 9,
    "start_time": "2022-12-28T00:07:45.149Z"
   },
   {
    "duration": 8,
    "start_time": "2022-12-28T00:07:52.722Z"
   },
   {
    "duration": 11,
    "start_time": "2022-12-28T00:07:57.560Z"
   },
   {
    "duration": 11,
    "start_time": "2022-12-28T00:08:48.359Z"
   },
   {
    "duration": 13,
    "start_time": "2022-12-28T00:08:50.079Z"
   },
   {
    "duration": 5,
    "start_time": "2022-12-28T00:08:55.671Z"
   },
   {
    "duration": 209,
    "start_time": "2022-12-28T00:08:56.121Z"
   },
   {
    "duration": 4,
    "start_time": "2022-12-28T00:10:01.174Z"
   },
   {
    "duration": 7,
    "start_time": "2022-12-28T00:10:11.578Z"
   },
   {
    "duration": 5,
    "start_time": "2022-12-28T00:10:35.745Z"
   },
   {
    "duration": 78,
    "start_time": "2022-12-28T00:15:01.790Z"
   },
   {
    "duration": 10,
    "start_time": "2022-12-28T00:15:05.124Z"
   },
   {
    "duration": 886,
    "start_time": "2022-12-28T00:17:34.079Z"
   },
   {
    "duration": 834,
    "start_time": "2022-12-28T00:17:55.336Z"
   },
   {
    "duration": 574,
    "start_time": "2022-12-28T00:18:15.080Z"
   },
   {
    "duration": 10,
    "start_time": "2022-12-28T00:19:19.212Z"
   },
   {
    "duration": 19,
    "start_time": "2022-12-28T00:19:32.496Z"
   },
   {
    "duration": 6,
    "start_time": "2022-12-28T00:19:42.793Z"
   },
   {
    "duration": 8,
    "start_time": "2022-12-28T00:19:53.609Z"
   },
   {
    "duration": 11,
    "start_time": "2022-12-28T00:19:59.838Z"
   },
   {
    "duration": 10,
    "start_time": "2022-12-28T00:20:15.472Z"
   },
   {
    "duration": 15,
    "start_time": "2022-12-28T00:20:32.217Z"
   },
   {
    "duration": 22,
    "start_time": "2022-12-28T00:20:40.957Z"
   },
   {
    "duration": 3,
    "start_time": "2022-12-28T00:21:04.216Z"
   },
   {
    "duration": 8,
    "start_time": "2022-12-28T00:21:33.239Z"
   },
   {
    "duration": 8,
    "start_time": "2022-12-28T00:21:44.639Z"
   },
   {
    "duration": 355,
    "start_time": "2022-12-28T11:01:33.667Z"
   },
   {
    "duration": 59,
    "start_time": "2022-12-28T11:01:45.710Z"
   },
   {
    "duration": 359,
    "start_time": "2022-12-28T11:01:48.630Z"
   },
   {
    "duration": 15,
    "start_time": "2022-12-28T11:01:51.464Z"
   },
   {
    "duration": 79,
    "start_time": "2022-12-28T11:01:52.218Z"
   },
   {
    "duration": 2364,
    "start_time": "2022-12-28T11:01:54.636Z"
   },
   {
    "duration": 91,
    "start_time": "2022-12-28T11:02:03.241Z"
   },
   {
    "duration": 1887,
    "start_time": "2022-12-28T11:02:04.921Z"
   },
   {
    "duration": 10,
    "start_time": "2022-12-28T11:02:07.320Z"
   },
   {
    "duration": 5,
    "start_time": "2022-12-28T11:02:14.518Z"
   },
   {
    "duration": 6,
    "start_time": "2022-12-28T11:02:19.419Z"
   },
   {
    "duration": 6,
    "start_time": "2022-12-28T11:02:21.668Z"
   },
   {
    "duration": 8,
    "start_time": "2022-12-28T11:02:24.315Z"
   },
   {
    "duration": 7,
    "start_time": "2022-12-28T11:02:25.347Z"
   },
   {
    "duration": 16,
    "start_time": "2022-12-28T11:02:32.018Z"
   },
   {
    "duration": 7,
    "start_time": "2022-12-28T11:02:48.613Z"
   },
   {
    "duration": 10,
    "start_time": "2022-12-28T11:02:57.854Z"
   },
   {
    "duration": 200,
    "start_time": "2022-12-28T11:03:21.104Z"
   },
   {
    "duration": 145,
    "start_time": "2022-12-28T11:03:33.559Z"
   },
   {
    "duration": 9,
    "start_time": "2022-12-28T11:04:23.440Z"
   },
   {
    "duration": 168,
    "start_time": "2022-12-28T11:04:26.469Z"
   },
   {
    "duration": 15,
    "start_time": "2022-12-28T11:06:20.014Z"
   },
   {
    "duration": 12,
    "start_time": "2022-12-28T11:06:51.118Z"
   },
   {
    "duration": 5,
    "start_time": "2022-12-28T11:07:04.962Z"
   },
   {
    "duration": 7,
    "start_time": "2022-12-28T11:07:08.744Z"
   },
   {
    "duration": 6,
    "start_time": "2022-12-28T11:07:25.357Z"
   },
   {
    "duration": 225,
    "start_time": "2022-12-28T11:07:31.922Z"
   },
   {
    "duration": 196,
    "start_time": "2022-12-28T11:07:41.713Z"
   },
   {
    "duration": 5,
    "start_time": "2022-12-28T11:07:49.144Z"
   },
   {
    "duration": 8,
    "start_time": "2022-12-28T11:07:52.200Z"
   },
   {
    "duration": 23,
    "start_time": "2022-12-28T11:07:54.254Z"
   },
   {
    "duration": 10,
    "start_time": "2022-12-28T11:09:14.444Z"
   },
   {
    "duration": 4,
    "start_time": "2022-12-28T11:17:14.129Z"
   },
   {
    "duration": 17,
    "start_time": "2022-12-28T11:18:55.278Z"
   },
   {
    "duration": 2132,
    "start_time": "2022-12-28T11:22:33.324Z"
   },
   {
    "duration": 2109,
    "start_time": "2022-12-28T11:22:48.768Z"
   },
   {
    "duration": 3,
    "start_time": "2022-12-28T11:24:15.737Z"
   },
   {
    "duration": 1843,
    "start_time": "2022-12-28T11:24:17.401Z"
   },
   {
    "duration": 46,
    "start_time": "2022-12-28T11:25:21.809Z"
   },
   {
    "duration": 1811,
    "start_time": "2022-12-28T11:25:28.147Z"
   },
   {
    "duration": 39,
    "start_time": "2022-12-28T11:25:52.874Z"
   },
   {
    "duration": 46,
    "start_time": "2022-12-28T11:26:10.348Z"
   },
   {
    "duration": 3,
    "start_time": "2022-12-28T11:26:16.602Z"
   },
   {
    "duration": 86,
    "start_time": "2022-12-28T11:26:18.514Z"
   },
   {
    "duration": 2,
    "start_time": "2022-12-28T11:26:29.851Z"
   },
   {
    "duration": 178,
    "start_time": "2022-12-28T11:26:31.399Z"
   },
   {
    "duration": 86,
    "start_time": "2022-12-28T11:40:19.704Z"
   },
   {
    "duration": 13,
    "start_time": "2022-12-28T11:40:24.146Z"
   },
   {
    "duration": 3,
    "start_time": "2022-12-28T11:41:38.841Z"
   },
   {
    "duration": 14,
    "start_time": "2022-12-28T11:41:40.000Z"
   },
   {
    "duration": 8,
    "start_time": "2022-12-28T11:45:18.526Z"
   },
   {
    "duration": 413,
    "start_time": "2022-12-28T11:45:37.918Z"
   },
   {
    "duration": 107,
    "start_time": "2022-12-28T11:45:38.366Z"
   },
   {
    "duration": 14,
    "start_time": "2022-12-28T11:45:38.769Z"
   },
   {
    "duration": 76,
    "start_time": "2022-12-28T11:45:39.169Z"
   },
   {
    "duration": 2141,
    "start_time": "2022-12-28T11:45:40.218Z"
   },
   {
    "duration": 9,
    "start_time": "2022-12-28T11:45:42.361Z"
   },
   {
    "duration": 7,
    "start_time": "2022-12-28T11:45:42.555Z"
   },
   {
    "duration": 6,
    "start_time": "2022-12-28T11:45:42.897Z"
   },
   {
    "duration": 7,
    "start_time": "2022-12-28T11:45:43.533Z"
   },
   {
    "duration": 9,
    "start_time": "2022-12-28T11:45:44.116Z"
   },
   {
    "duration": 9,
    "start_time": "2022-12-28T11:45:44.543Z"
   },
   {
    "duration": 13,
    "start_time": "2022-12-28T11:45:45.135Z"
   },
   {
    "duration": 73,
    "start_time": "2022-12-28T11:45:46.501Z"
   },
   {
    "duration": 5,
    "start_time": "2022-12-28T11:48:11.601Z"
   },
   {
    "duration": 6,
    "start_time": "2022-12-28T11:48:27.799Z"
   },
   {
    "duration": 7,
    "start_time": "2022-12-28T11:48:37.401Z"
   },
   {
    "duration": 7,
    "start_time": "2022-12-28T11:48:41.142Z"
   },
   {
    "duration": 379,
    "start_time": "2022-12-28T11:48:51.145Z"
   },
   {
    "duration": 109,
    "start_time": "2022-12-28T11:48:51.617Z"
   },
   {
    "duration": 15,
    "start_time": "2022-12-28T11:48:52.101Z"
   },
   {
    "duration": 86,
    "start_time": "2022-12-28T11:48:52.627Z"
   },
   {
    "duration": 2100,
    "start_time": "2022-12-28T11:48:53.847Z"
   },
   {
    "duration": 10,
    "start_time": "2022-12-28T11:48:55.949Z"
   },
   {
    "duration": 6,
    "start_time": "2022-12-28T11:48:56.968Z"
   },
   {
    "duration": 7,
    "start_time": "2022-12-28T11:48:57.529Z"
   },
   {
    "duration": 7,
    "start_time": "2022-12-28T11:48:58.000Z"
   },
   {
    "duration": 9,
    "start_time": "2022-12-28T11:48:58.525Z"
   },
   {
    "duration": 8,
    "start_time": "2022-12-28T11:48:58.960Z"
   },
   {
    "duration": 12,
    "start_time": "2022-12-28T11:48:59.339Z"
   },
   {
    "duration": 7,
    "start_time": "2022-12-28T11:49:00.016Z"
   },
   {
    "duration": 7,
    "start_time": "2022-12-28T11:50:06.980Z"
   },
   {
    "duration": 50,
    "start_time": "2022-12-28T11:50:27.459Z"
   },
   {
    "duration": 6,
    "start_time": "2022-12-28T11:50:29.865Z"
   },
   {
    "duration": 6,
    "start_time": "2022-12-28T11:50:31.403Z"
   },
   {
    "duration": 32,
    "start_time": "2022-12-28T11:57:10.919Z"
   },
   {
    "duration": 14,
    "start_time": "2022-12-28T12:12:39.076Z"
   },
   {
    "duration": 8,
    "start_time": "2022-12-28T12:12:43.628Z"
   },
   {
    "duration": 8,
    "start_time": "2022-12-28T12:12:55.212Z"
   },
   {
    "duration": 159,
    "start_time": "2022-12-28T12:12:55.941Z"
   },
   {
    "duration": 6,
    "start_time": "2022-12-28T12:13:00.507Z"
   },
   {
    "duration": 7,
    "start_time": "2022-12-28T12:13:01.539Z"
   },
   {
    "duration": 183,
    "start_time": "2022-12-28T12:13:02.726Z"
   },
   {
    "duration": 7,
    "start_time": "2022-12-28T12:13:08.844Z"
   },
   {
    "duration": 9,
    "start_time": "2022-12-28T12:13:10.218Z"
   },
   {
    "duration": 23,
    "start_time": "2022-12-28T12:13:11.410Z"
   },
   {
    "duration": 3,
    "start_time": "2022-12-28T12:13:30.225Z"
   },
   {
    "duration": 3,
    "start_time": "2022-12-28T12:13:33.603Z"
   },
   {
    "duration": 81,
    "start_time": "2022-12-28T12:13:35.612Z"
   },
   {
    "duration": 95,
    "start_time": "2022-12-28T12:14:01.228Z"
   },
   {
    "duration": 3,
    "start_time": "2022-12-28T12:14:27.368Z"
   },
   {
    "duration": 165,
    "start_time": "2022-12-28T12:14:28.312Z"
   },
   {
    "duration": 3,
    "start_time": "2022-12-28T12:16:09.352Z"
   },
   {
    "duration": 830,
    "start_time": "2022-12-28T12:16:10.819Z"
   },
   {
    "duration": 3,
    "start_time": "2022-12-28T12:16:30.602Z"
   },
   {
    "duration": 4,
    "start_time": "2022-12-28T12:22:54.120Z"
   },
   {
    "duration": 224,
    "start_time": "2022-12-28T12:22:56.421Z"
   },
   {
    "duration": 221,
    "start_time": "2022-12-28T12:23:03.726Z"
   },
   {
    "duration": 3,
    "start_time": "2022-12-28T12:23:20.426Z"
   },
   {
    "duration": 323,
    "start_time": "2022-12-28T12:23:22.434Z"
   },
   {
    "duration": 215,
    "start_time": "2022-12-28T12:23:36.462Z"
   },
   {
    "duration": 3,
    "start_time": "2022-12-28T12:23:46.020Z"
   },
   {
    "duration": 217,
    "start_time": "2022-12-28T12:23:47.738Z"
   },
   {
    "duration": 3,
    "start_time": "2022-12-28T12:23:54.467Z"
   },
   {
    "duration": 4,
    "start_time": "2022-12-28T12:25:32.169Z"
   },
   {
    "duration": 222,
    "start_time": "2022-12-28T12:25:33.517Z"
   },
   {
    "duration": 4,
    "start_time": "2022-12-28T12:27:34.708Z"
   },
   {
    "duration": 389,
    "start_time": "2022-12-28T12:27:36.605Z"
   },
   {
    "duration": 3,
    "start_time": "2022-12-28T12:28:55.722Z"
   },
   {
    "duration": 522,
    "start_time": "2022-12-28T12:28:57.246Z"
   },
   {
    "duration": 530,
    "start_time": "2022-12-28T12:29:12.633Z"
   },
   {
    "duration": 513,
    "start_time": "2022-12-28T12:29:19.235Z"
   },
   {
    "duration": 5,
    "start_time": "2022-12-28T12:31:30.370Z"
   },
   {
    "duration": 4,
    "start_time": "2022-12-28T12:31:34.373Z"
   },
   {
    "duration": 4,
    "start_time": "2022-12-28T12:31:40.112Z"
   },
   {
    "duration": 4,
    "start_time": "2022-12-28T12:34:48.962Z"
   },
   {
    "duration": 6,
    "start_time": "2022-12-28T12:34:58.507Z"
   },
   {
    "duration": 129,
    "start_time": "2022-12-28T12:40:02.405Z"
   },
   {
    "duration": 157,
    "start_time": "2022-12-28T12:40:09.571Z"
   },
   {
    "duration": 187,
    "start_time": "2022-12-28T12:40:12.715Z"
   },
   {
    "duration": 121,
    "start_time": "2022-12-28T12:40:15.317Z"
   },
   {
    "duration": 124,
    "start_time": "2022-12-28T12:40:22.468Z"
   },
   {
    "duration": 119,
    "start_time": "2022-12-28T12:41:43.120Z"
   },
   {
    "duration": 141,
    "start_time": "2022-12-28T12:41:53.374Z"
   },
   {
    "duration": 147,
    "start_time": "2022-12-28T21:56:47.075Z"
   },
   {
    "duration": 116,
    "start_time": "2022-12-28T21:57:05.801Z"
   },
   {
    "duration": 134,
    "start_time": "2022-12-28T21:57:20.799Z"
   },
   {
    "duration": 134,
    "start_time": "2022-12-28T21:57:27.581Z"
   },
   {
    "duration": 8,
    "start_time": "2022-12-28T22:00:20.945Z"
   },
   {
    "duration": 8,
    "start_time": "2022-12-28T22:00:25.322Z"
   },
   {
    "duration": 15,
    "start_time": "2022-12-28T22:01:08.349Z"
   },
   {
    "duration": 143,
    "start_time": "2022-12-28T22:01:54.660Z"
   },
   {
    "duration": 139,
    "start_time": "2022-12-28T22:02:00.987Z"
   },
   {
    "duration": 8,
    "start_time": "2022-12-28T22:03:27.890Z"
   },
   {
    "duration": 8,
    "start_time": "2022-12-28T22:03:40.507Z"
   },
   {
    "duration": 145,
    "start_time": "2022-12-28T22:03:56.972Z"
   },
   {
    "duration": 149,
    "start_time": "2022-12-28T22:04:11.308Z"
   },
   {
    "duration": 8,
    "start_time": "2022-12-28T22:06:04.852Z"
   },
   {
    "duration": 111,
    "start_time": "2022-12-28T22:07:31.552Z"
   },
   {
    "duration": 9,
    "start_time": "2022-12-28T22:07:55.232Z"
   },
   {
    "duration": 7,
    "start_time": "2022-12-28T22:07:59.278Z"
   },
   {
    "duration": 9,
    "start_time": "2022-12-28T22:09:30.084Z"
   },
   {
    "duration": 2,
    "start_time": "2022-12-28T22:10:23.240Z"
   },
   {
    "duration": 106,
    "start_time": "2022-12-28T22:10:23.825Z"
   },
   {
    "duration": 14,
    "start_time": "2022-12-28T22:10:24.393Z"
   },
   {
    "duration": 70,
    "start_time": "2022-12-28T22:10:24.908Z"
   },
   {
    "duration": 1894,
    "start_time": "2022-12-28T22:10:25.765Z"
   },
   {
    "duration": 11,
    "start_time": "2022-12-28T22:10:27.662Z"
   },
   {
    "duration": 5,
    "start_time": "2022-12-28T22:10:27.846Z"
   },
   {
    "duration": 5,
    "start_time": "2022-12-28T22:10:28.371Z"
   },
   {
    "duration": 5,
    "start_time": "2022-12-28T22:10:29.028Z"
   },
   {
    "duration": 8,
    "start_time": "2022-12-28T22:10:29.549Z"
   },
   {
    "duration": 7,
    "start_time": "2022-12-28T22:10:30.014Z"
   },
   {
    "duration": 14,
    "start_time": "2022-12-28T22:10:30.695Z"
   },
   {
    "duration": 6,
    "start_time": "2022-12-28T22:10:31.466Z"
   },
   {
    "duration": 14,
    "start_time": "2022-12-28T22:10:32.317Z"
   },
   {
    "duration": 8,
    "start_time": "2022-12-28T22:10:34.699Z"
   },
   {
    "duration": 8,
    "start_time": "2022-12-28T22:10:35.808Z"
   },
   {
    "duration": 145,
    "start_time": "2022-12-28T22:10:36.585Z"
   },
   {
    "duration": 5,
    "start_time": "2022-12-28T22:10:38.861Z"
   },
   {
    "duration": 9,
    "start_time": "2022-12-28T22:10:39.626Z"
   },
   {
    "duration": 198,
    "start_time": "2022-12-28T22:10:40.579Z"
   },
   {
    "duration": 6,
    "start_time": "2022-12-28T22:10:43.123Z"
   },
   {
    "duration": 8,
    "start_time": "2022-12-28T22:10:43.859Z"
   },
   {
    "duration": 23,
    "start_time": "2022-12-28T22:10:44.593Z"
   },
   {
    "duration": 3,
    "start_time": "2022-12-28T22:10:45.560Z"
   },
   {
    "duration": 624,
    "start_time": "2022-12-28T22:10:46.582Z"
   },
   {
    "duration": 6,
    "start_time": "2022-12-28T22:10:47.984Z"
   },
   {
    "duration": 139,
    "start_time": "2022-12-28T22:10:53.385Z"
   },
   {
    "duration": 132,
    "start_time": "2022-12-28T22:10:54.657Z"
   },
   {
    "duration": 123,
    "start_time": "2022-12-28T22:11:02.246Z"
   },
   {
    "duration": 7,
    "start_time": "2022-12-28T22:12:10.721Z"
   },
   {
    "duration": 10,
    "start_time": "2022-12-28T22:13:40.672Z"
   },
   {
    "duration": 7,
    "start_time": "2022-12-28T22:13:47.211Z"
   },
   {
    "duration": 169,
    "start_time": "2022-12-28T22:14:02.021Z"
   },
   {
    "duration": 101,
    "start_time": "2022-12-28T22:14:13.490Z"
   },
   {
    "duration": 144,
    "start_time": "2022-12-28T22:14:17.976Z"
   },
   {
    "duration": 109,
    "start_time": "2022-12-28T22:14:33.765Z"
   },
   {
    "duration": 11,
    "start_time": "2022-12-28T22:14:49.047Z"
   },
   {
    "duration": 2,
    "start_time": "2022-12-28T22:14:54.972Z"
   },
   {
    "duration": 104,
    "start_time": "2022-12-28T22:14:55.492Z"
   },
   {
    "duration": 17,
    "start_time": "2022-12-28T22:14:55.902Z"
   },
   {
    "duration": 70,
    "start_time": "2022-12-28T22:14:56.136Z"
   },
   {
    "duration": 1942,
    "start_time": "2022-12-28T22:14:56.599Z"
   },
   {
    "duration": 9,
    "start_time": "2022-12-28T22:14:58.543Z"
   },
   {
    "duration": 13,
    "start_time": "2022-12-28T22:14:58.553Z"
   },
   {
    "duration": 8,
    "start_time": "2022-12-28T22:14:58.568Z"
   },
   {
    "duration": 7,
    "start_time": "2022-12-28T22:14:58.577Z"
   },
   {
    "duration": 15,
    "start_time": "2022-12-28T22:14:58.586Z"
   },
   {
    "duration": 8,
    "start_time": "2022-12-28T22:14:58.616Z"
   },
   {
    "duration": 18,
    "start_time": "2022-12-28T22:14:58.627Z"
   },
   {
    "duration": 5,
    "start_time": "2022-12-28T22:14:58.750Z"
   },
   {
    "duration": 15,
    "start_time": "2022-12-28T22:14:58.905Z"
   },
   {
    "duration": 9,
    "start_time": "2022-12-28T22:14:59.239Z"
   },
   {
    "duration": 8,
    "start_time": "2022-12-28T22:14:59.828Z"
   },
   {
    "duration": 158,
    "start_time": "2022-12-28T22:15:00.019Z"
   },
   {
    "duration": 6,
    "start_time": "2022-12-28T22:15:00.358Z"
   },
   {
    "duration": 7,
    "start_time": "2022-12-28T22:15:00.508Z"
   },
   {
    "duration": 189,
    "start_time": "2022-12-28T22:15:00.686Z"
   },
   {
    "duration": 6,
    "start_time": "2022-12-28T22:15:01.030Z"
   },
   {
    "duration": 8,
    "start_time": "2022-12-28T22:15:01.230Z"
   },
   {
    "duration": 23,
    "start_time": "2022-12-28T22:15:01.393Z"
   },
   {
    "duration": 3,
    "start_time": "2022-12-28T22:15:01.564Z"
   },
   {
    "duration": 525,
    "start_time": "2022-12-28T22:15:01.724Z"
   },
   {
    "duration": 6,
    "start_time": "2022-12-28T22:15:02.251Z"
   },
   {
    "duration": 144,
    "start_time": "2022-12-28T22:15:02.452Z"
   },
   {
    "duration": 147,
    "start_time": "2022-12-28T22:15:09.983Z"
   },
   {
    "duration": 117,
    "start_time": "2022-12-28T22:15:12.983Z"
   },
   {
    "duration": 120,
    "start_time": "2022-12-28T22:15:17.251Z"
   },
   {
    "duration": 116,
    "start_time": "2022-12-28T22:15:22.677Z"
   },
   {
    "duration": 120,
    "start_time": "2022-12-28T22:15:30.560Z"
   },
   {
    "duration": 119,
    "start_time": "2022-12-28T22:15:49.430Z"
   },
   {
    "duration": 193,
    "start_time": "2022-12-28T22:16:06.955Z"
   },
   {
    "duration": 136,
    "start_time": "2022-12-28T22:16:15.571Z"
   },
   {
    "duration": 46,
    "start_time": "2022-12-28T22:16:23.677Z"
   },
   {
    "duration": 130,
    "start_time": "2022-12-28T22:16:25.809Z"
   },
   {
    "duration": 129,
    "start_time": "2022-12-28T22:16:43.302Z"
   },
   {
    "duration": 145,
    "start_time": "2022-12-28T22:17:27.142Z"
   },
   {
    "duration": 123,
    "start_time": "2022-12-28T22:17:49.157Z"
   },
   {
    "duration": 128,
    "start_time": "2022-12-28T22:17:55.058Z"
   },
   {
    "duration": 121,
    "start_time": "2022-12-28T22:17:59.928Z"
   },
   {
    "duration": 119,
    "start_time": "2022-12-28T22:18:18.348Z"
   },
   {
    "duration": 125,
    "start_time": "2022-12-28T22:18:23.439Z"
   },
   {
    "duration": 198,
    "start_time": "2022-12-28T22:18:59.393Z"
   },
   {
    "duration": 7,
    "start_time": "2022-12-28T22:19:14.260Z"
   },
   {
    "duration": 219,
    "start_time": "2022-12-28T22:19:19.117Z"
   },
   {
    "duration": 291,
    "start_time": "2022-12-28T22:19:33.987Z"
   },
   {
    "duration": 118,
    "start_time": "2022-12-28T22:19:54.514Z"
   },
   {
    "duration": 103,
    "start_time": "2022-12-28T22:20:04.057Z"
   },
   {
    "duration": 109,
    "start_time": "2022-12-28T22:20:07.208Z"
   },
   {
    "duration": 129,
    "start_time": "2022-12-28T22:20:23.716Z"
   },
   {
    "duration": 123,
    "start_time": "2022-12-28T22:21:23.594Z"
   },
   {
    "duration": 113,
    "start_time": "2022-12-28T22:23:19.704Z"
   },
   {
    "duration": 134,
    "start_time": "2022-12-28T22:24:36.864Z"
   },
   {
    "duration": 124,
    "start_time": "2022-12-28T22:25:53.432Z"
   },
   {
    "duration": 130,
    "start_time": "2022-12-28T22:26:02.947Z"
   },
   {
    "duration": 128,
    "start_time": "2022-12-28T22:37:29.591Z"
   },
   {
    "duration": 5,
    "start_time": "2022-12-28T22:38:55.033Z"
   },
   {
    "duration": 6,
    "start_time": "2022-12-28T22:39:10.361Z"
   },
   {
    "duration": 5,
    "start_time": "2022-12-28T22:39:24.587Z"
   },
   {
    "duration": 396,
    "start_time": "2022-12-29T13:30:34.691Z"
   },
   {
    "duration": 356,
    "start_time": "2022-12-29T13:30:35.167Z"
   },
   {
    "duration": 13,
    "start_time": "2022-12-29T13:30:35.587Z"
   },
   {
    "duration": 78,
    "start_time": "2022-12-29T13:30:35.816Z"
   },
   {
    "duration": 2327,
    "start_time": "2022-12-29T13:30:36.205Z"
   },
   {
    "duration": 9,
    "start_time": "2022-12-29T13:30:38.534Z"
   },
   {
    "duration": 12,
    "start_time": "2022-12-29T13:30:38.544Z"
   },
   {
    "duration": 8,
    "start_time": "2022-12-29T13:30:38.558Z"
   },
   {
    "duration": 8,
    "start_time": "2022-12-29T13:30:38.568Z"
   },
   {
    "duration": 12,
    "start_time": "2022-12-29T13:30:38.577Z"
   },
   {
    "duration": 13,
    "start_time": "2022-12-29T13:30:38.591Z"
   },
   {
    "duration": 22,
    "start_time": "2022-12-29T13:30:38.606Z"
   },
   {
    "duration": 5,
    "start_time": "2022-12-29T13:30:38.629Z"
   },
   {
    "duration": 15,
    "start_time": "2022-12-29T13:30:38.759Z"
   },
   {
    "duration": 10,
    "start_time": "2022-12-29T13:30:39.125Z"
   },
   {
    "duration": 9,
    "start_time": "2022-12-29T13:30:39.485Z"
   },
   {
    "duration": 146,
    "start_time": "2022-12-29T13:30:39.678Z"
   },
   {
    "duration": 6,
    "start_time": "2022-12-29T13:30:40.199Z"
   },
   {
    "duration": 8,
    "start_time": "2022-12-29T13:30:40.392Z"
   },
   {
    "duration": 169,
    "start_time": "2022-12-29T13:30:40.547Z"
   },
   {
    "duration": 7,
    "start_time": "2022-12-29T13:30:40.882Z"
   },
   {
    "duration": 8,
    "start_time": "2022-12-29T13:30:41.065Z"
   },
   {
    "duration": 23,
    "start_time": "2022-12-29T13:30:41.278Z"
   },
   {
    "duration": 3,
    "start_time": "2022-12-29T13:30:41.444Z"
   },
   {
    "duration": 488,
    "start_time": "2022-12-29T13:30:41.608Z"
   },
   {
    "duration": 6,
    "start_time": "2022-12-29T13:30:42.098Z"
   },
   {
    "duration": 129,
    "start_time": "2022-12-29T13:30:42.149Z"
   },
   {
    "duration": 180,
    "start_time": "2022-12-29T13:30:42.334Z"
   },
   {
    "duration": 129,
    "start_time": "2022-12-29T13:30:42.521Z"
   },
   {
    "duration": 126,
    "start_time": "2022-12-29T13:30:42.708Z"
   },
   {
    "duration": 139,
    "start_time": "2022-12-29T13:30:42.900Z"
   },
   {
    "duration": 125,
    "start_time": "2022-12-29T13:30:43.063Z"
   },
   {
    "duration": 119,
    "start_time": "2022-12-29T13:30:43.265Z"
   },
   {
    "duration": 105,
    "start_time": "2022-12-29T13:30:43.453Z"
   },
   {
    "duration": 172,
    "start_time": "2022-12-29T13:30:43.617Z"
   },
   {
    "duration": 126,
    "start_time": "2022-12-29T13:30:43.796Z"
   },
   {
    "duration": 103,
    "start_time": "2022-12-29T13:30:44.462Z"
   },
   {
    "duration": 127,
    "start_time": "2022-12-29T13:30:44.636Z"
   },
   {
    "duration": 109,
    "start_time": "2022-12-29T13:30:44.862Z"
   },
   {
    "duration": 119,
    "start_time": "2022-12-29T13:30:45.069Z"
   },
   {
    "duration": 199,
    "start_time": "2022-12-29T13:30:45.247Z"
   },
   {
    "duration": 6,
    "start_time": "2022-12-29T13:30:45.473Z"
   },
   {
    "duration": 25,
    "start_time": "2022-12-29T13:30:52.688Z"
   },
   {
    "duration": 137,
    "start_time": "2022-12-29T13:31:29.051Z"
   },
   {
    "duration": 14,
    "start_time": "2022-12-29T13:35:37.617Z"
   },
   {
    "duration": 142,
    "start_time": "2022-12-29T13:35:44.312Z"
   },
   {
    "duration": 148,
    "start_time": "2022-12-29T13:35:56.099Z"
   },
   {
    "duration": 152,
    "start_time": "2022-12-29T13:36:01.880Z"
   },
   {
    "duration": 85,
    "start_time": "2022-12-29T13:36:10.271Z"
   },
   {
    "duration": 145,
    "start_time": "2022-12-29T13:36:17.092Z"
   },
   {
    "duration": 156,
    "start_time": "2022-12-29T13:36:44.092Z"
   },
   {
    "duration": 7,
    "start_time": "2022-12-29T13:36:53.305Z"
   },
   {
    "duration": 151,
    "start_time": "2022-12-29T13:36:56.500Z"
   },
   {
    "duration": 144,
    "start_time": "2022-12-29T13:37:04.350Z"
   },
   {
    "duration": 144,
    "start_time": "2022-12-29T13:37:08.647Z"
   },
   {
    "duration": 50,
    "start_time": "2022-12-29T13:39:53.326Z"
   },
   {
    "duration": 137,
    "start_time": "2022-12-29T13:44:03.258Z"
   },
   {
    "duration": 155,
    "start_time": "2022-12-29T13:44:16.434Z"
   },
   {
    "duration": 140,
    "start_time": "2022-12-29T13:44:34.111Z"
   },
   {
    "duration": 159,
    "start_time": "2022-12-29T13:46:58.455Z"
   },
   {
    "duration": 145,
    "start_time": "2022-12-29T13:48:24.724Z"
   },
   {
    "duration": 143,
    "start_time": "2022-12-29T13:49:51.478Z"
   },
   {
    "duration": 145,
    "start_time": "2022-12-29T13:52:19.503Z"
   },
   {
    "duration": 331,
    "start_time": "2022-12-29T13:52:44.668Z"
   },
   {
    "duration": 430,
    "start_time": "2022-12-29T13:54:43.326Z"
   },
   {
    "duration": 122,
    "start_time": "2022-12-29T13:55:10.085Z"
   },
   {
    "duration": 122,
    "start_time": "2022-12-29T13:55:15.694Z"
   },
   {
    "duration": 107,
    "start_time": "2022-12-29T13:57:43.789Z"
   },
   {
    "duration": 928,
    "start_time": "2022-12-29T13:57:49.055Z"
   },
   {
    "duration": 151,
    "start_time": "2022-12-29T13:57:53.082Z"
   },
   {
    "duration": 13,
    "start_time": "2022-12-29T13:58:41.232Z"
   },
   {
    "duration": 141,
    "start_time": "2022-12-29T13:58:47.587Z"
   },
   {
    "duration": 124,
    "start_time": "2022-12-29T13:58:54.130Z"
   },
   {
    "duration": 123,
    "start_time": "2022-12-29T13:59:04.818Z"
   },
   {
    "duration": 50,
    "start_time": "2022-12-29T13:59:46.544Z"
   },
   {
    "duration": 130,
    "start_time": "2022-12-29T14:00:15.549Z"
   },
   {
    "duration": 128,
    "start_time": "2022-12-29T14:00:19.903Z"
   },
   {
    "duration": 130,
    "start_time": "2022-12-29T14:00:28.047Z"
   },
   {
    "duration": 137,
    "start_time": "2022-12-29T14:00:52.268Z"
   },
   {
    "duration": 130,
    "start_time": "2022-12-29T14:01:03.716Z"
   },
   {
    "duration": 161,
    "start_time": "2022-12-29T14:02:25.512Z"
   },
   {
    "duration": 137,
    "start_time": "2022-12-29T14:02:34.587Z"
   },
   {
    "duration": 20,
    "start_time": "2022-12-29T14:05:46.913Z"
   },
   {
    "duration": 426,
    "start_time": "2022-12-30T22:03:51.496Z"
   },
   {
    "duration": 344,
    "start_time": "2022-12-30T22:03:52.002Z"
   },
   {
    "duration": 14,
    "start_time": "2022-12-30T22:03:52.381Z"
   },
   {
    "duration": 75,
    "start_time": "2022-12-30T22:03:52.585Z"
   },
   {
    "duration": 2144,
    "start_time": "2022-12-30T22:03:52.939Z"
   },
   {
    "duration": 9,
    "start_time": "2022-12-30T22:03:55.086Z"
   },
   {
    "duration": 8,
    "start_time": "2022-12-30T22:03:55.097Z"
   },
   {
    "duration": 10,
    "start_time": "2022-12-30T22:03:55.107Z"
   },
   {
    "duration": 6,
    "start_time": "2022-12-30T22:03:55.118Z"
   },
   {
    "duration": 7,
    "start_time": "2022-12-30T22:03:55.125Z"
   },
   {
    "duration": 6,
    "start_time": "2022-12-30T22:03:55.134Z"
   },
   {
    "duration": 13,
    "start_time": "2022-12-30T22:03:55.141Z"
   },
   {
    "duration": 5,
    "start_time": "2022-12-30T22:03:55.155Z"
   },
   {
    "duration": 13,
    "start_time": "2022-12-30T22:03:55.162Z"
   },
   {
    "duration": 9,
    "start_time": "2022-12-30T22:03:55.354Z"
   },
   {
    "duration": 8,
    "start_time": "2022-12-30T22:03:55.847Z"
   },
   {
    "duration": 144,
    "start_time": "2022-12-30T22:03:56.023Z"
   },
   {
    "duration": 6,
    "start_time": "2022-12-30T22:03:56.391Z"
   },
   {
    "duration": 6,
    "start_time": "2022-12-30T22:03:56.561Z"
   },
   {
    "duration": 177,
    "start_time": "2022-12-30T22:03:56.747Z"
   },
   {
    "duration": 6,
    "start_time": "2022-12-30T22:03:57.102Z"
   },
   {
    "duration": 8,
    "start_time": "2022-12-30T22:03:57.299Z"
   },
   {
    "duration": 21,
    "start_time": "2022-12-30T22:03:57.476Z"
   },
   {
    "duration": 4,
    "start_time": "2022-12-30T22:03:57.659Z"
   },
   {
    "duration": 514,
    "start_time": "2022-12-30T22:03:57.833Z"
   },
   {
    "duration": 6,
    "start_time": "2022-12-30T22:03:58.350Z"
   },
   {
    "duration": 140,
    "start_time": "2022-12-30T22:03:58.392Z"
   },
   {
    "duration": 167,
    "start_time": "2022-12-30T22:03:58.566Z"
   },
   {
    "duration": 106,
    "start_time": "2022-12-30T22:03:58.780Z"
   },
   {
    "duration": 118,
    "start_time": "2022-12-30T22:03:58.969Z"
   },
   {
    "duration": 153,
    "start_time": "2022-12-30T22:03:59.171Z"
   },
   {
    "duration": 125,
    "start_time": "2022-12-30T22:03:59.383Z"
   },
   {
    "duration": 115,
    "start_time": "2022-12-30T22:03:59.579Z"
   },
   {
    "duration": 103,
    "start_time": "2022-12-30T22:03:59.749Z"
   },
   {
    "duration": 119,
    "start_time": "2022-12-30T22:03:59.933Z"
   },
   {
    "duration": 115,
    "start_time": "2022-12-30T22:04:00.115Z"
   },
   {
    "duration": 108,
    "start_time": "2022-12-30T22:04:00.309Z"
   },
   {
    "duration": 129,
    "start_time": "2022-12-30T22:04:00.513Z"
   },
   {
    "duration": 113,
    "start_time": "2022-12-30T22:04:00.696Z"
   },
   {
    "duration": 129,
    "start_time": "2022-12-30T22:04:00.910Z"
   },
   {
    "duration": 201,
    "start_time": "2022-12-30T22:04:01.134Z"
   },
   {
    "duration": 5,
    "start_time": "2022-12-30T22:04:01.556Z"
   },
   {
    "duration": 162,
    "start_time": "2022-12-30T22:04:02.334Z"
   },
   {
    "duration": 132,
    "start_time": "2022-12-30T22:04:02.984Z"
   },
   {
    "duration": 127,
    "start_time": "2022-12-30T22:04:03.418Z"
   },
   {
    "duration": 137,
    "start_time": "2022-12-30T22:04:03.849Z"
   },
   {
    "duration": 115,
    "start_time": "2022-12-30T22:04:04.523Z"
   },
   {
    "duration": 128,
    "start_time": "2022-12-30T22:04:05.291Z"
   },
   {
    "duration": 159,
    "start_time": "2022-12-30T22:04:06.291Z"
   },
   {
    "duration": 130,
    "start_time": "2022-12-30T22:04:07.407Z"
   },
   {
    "duration": 133,
    "start_time": "2022-12-30T22:04:08.354Z"
   },
   {
    "duration": 104,
    "start_time": "2022-12-30T22:04:54.351Z"
   },
   {
    "duration": 8,
    "start_time": "2022-12-30T22:06:27.443Z"
   },
   {
    "duration": 6,
    "start_time": "2022-12-30T22:06:50.269Z"
   },
   {
    "duration": 7,
    "start_time": "2022-12-30T22:08:07.375Z"
   },
   {
    "duration": 11,
    "start_time": "2022-12-30T22:09:15.958Z"
   },
   {
    "duration": 4,
    "start_time": "2022-12-30T22:09:18.898Z"
   },
   {
    "duration": 4,
    "start_time": "2022-12-30T22:09:34.180Z"
   },
   {
    "duration": 9,
    "start_time": "2022-12-30T22:09:39.328Z"
   },
   {
    "duration": 4,
    "start_time": "2022-12-30T22:09:41.567Z"
   },
   {
    "duration": 3,
    "start_time": "2022-12-30T22:09:45.979Z"
   },
   {
    "duration": 112,
    "start_time": "2022-12-30T22:09:46.298Z"
   },
   {
    "duration": 14,
    "start_time": "2022-12-30T22:09:46.477Z"
   },
   {
    "duration": 65,
    "start_time": "2022-12-30T22:09:46.682Z"
   },
   {
    "duration": 1750,
    "start_time": "2022-12-30T22:09:47.182Z"
   },
   {
    "duration": 8,
    "start_time": "2022-12-30T22:09:48.934Z"
   },
   {
    "duration": 5,
    "start_time": "2022-12-30T22:09:48.944Z"
   },
   {
    "duration": 5,
    "start_time": "2022-12-30T22:09:49.158Z"
   },
   {
    "duration": 5,
    "start_time": "2022-12-30T22:09:50.022Z"
   },
   {
    "duration": 7,
    "start_time": "2022-12-30T22:09:50.895Z"
   },
   {
    "duration": 6,
    "start_time": "2022-12-30T22:09:51.232Z"
   },
   {
    "duration": 11,
    "start_time": "2022-12-30T22:09:51.990Z"
   },
   {
    "duration": 5,
    "start_time": "2022-12-30T22:09:53.274Z"
   },
   {
    "duration": 16,
    "start_time": "2022-12-30T22:09:55.301Z"
   },
   {
    "duration": 5,
    "start_time": "2022-12-30T22:09:58.811Z"
   },
   {
    "duration": 6,
    "start_time": "2022-12-30T22:10:06.859Z"
   },
   {
    "duration": 9,
    "start_time": "2022-12-30T22:10:14.382Z"
   },
   {
    "duration": 6,
    "start_time": "2022-12-30T22:10:15.853Z"
   },
   {
    "duration": 76,
    "start_time": "2022-12-30T22:12:23.833Z"
   },
   {
    "duration": 42,
    "start_time": "2022-12-30T22:13:08.149Z"
   },
   {
    "duration": 43,
    "start_time": "2022-12-30T22:13:20.916Z"
   },
   {
    "duration": 2,
    "start_time": "2022-12-30T22:13:33.643Z"
   },
   {
    "duration": 94,
    "start_time": "2022-12-30T22:13:33.902Z"
   },
   {
    "duration": 15,
    "start_time": "2022-12-30T22:13:34.121Z"
   },
   {
    "duration": 67,
    "start_time": "2022-12-30T22:13:34.320Z"
   },
   {
    "duration": 1780,
    "start_time": "2022-12-30T22:13:34.701Z"
   },
   {
    "duration": 10,
    "start_time": "2022-12-30T22:13:36.483Z"
   },
   {
    "duration": 5,
    "start_time": "2022-12-30T22:13:37.488Z"
   },
   {
    "duration": 6,
    "start_time": "2022-12-30T22:13:37.649Z"
   },
   {
    "duration": 6,
    "start_time": "2022-12-30T22:13:37.836Z"
   },
   {
    "duration": 8,
    "start_time": "2022-12-30T22:13:37.979Z"
   },
   {
    "duration": 6,
    "start_time": "2022-12-30T22:13:38.134Z"
   },
   {
    "duration": 11,
    "start_time": "2022-12-30T22:13:39.974Z"
   },
   {
    "duration": 6,
    "start_time": "2022-12-30T22:13:40.166Z"
   },
   {
    "duration": 14,
    "start_time": "2022-12-30T22:13:40.345Z"
   },
   {
    "duration": 8,
    "start_time": "2022-12-30T22:13:40.652Z"
   },
   {
    "duration": 10,
    "start_time": "2022-12-30T22:13:40.835Z"
   },
   {
    "duration": 8,
    "start_time": "2022-12-30T22:13:41.210Z"
   },
   {
    "duration": 130,
    "start_time": "2022-12-30T22:13:41.358Z"
   },
   {
    "duration": 5,
    "start_time": "2022-12-30T22:13:41.674Z"
   },
   {
    "duration": 7,
    "start_time": "2022-12-30T22:13:41.837Z"
   },
   {
    "duration": 186,
    "start_time": "2022-12-30T22:13:41.993Z"
   },
   {
    "duration": 5,
    "start_time": "2022-12-30T22:13:42.334Z"
   },
   {
    "duration": 7,
    "start_time": "2022-12-30T22:13:42.481Z"
   },
   {
    "duration": 21,
    "start_time": "2022-12-30T22:13:42.663Z"
   },
   {
    "duration": 4,
    "start_time": "2022-12-30T22:13:42.870Z"
   },
   {
    "duration": 481,
    "start_time": "2022-12-30T22:13:43.045Z"
   },
   {
    "duration": 5,
    "start_time": "2022-12-30T22:13:43.528Z"
   },
   {
    "duration": 109,
    "start_time": "2022-12-30T22:13:43.770Z"
   },
   {
    "duration": 117,
    "start_time": "2022-12-30T22:13:43.959Z"
   },
   {
    "duration": 104,
    "start_time": "2022-12-30T22:13:44.170Z"
   },
   {
    "duration": 108,
    "start_time": "2022-12-30T22:13:44.368Z"
   },
   {
    "duration": 128,
    "start_time": "2022-12-30T22:13:44.545Z"
   },
   {
    "duration": 118,
    "start_time": "2022-12-30T22:13:44.901Z"
   },
   {
    "duration": 113,
    "start_time": "2022-12-30T22:13:46.489Z"
   },
   {
    "duration": 99,
    "start_time": "2022-12-30T22:13:47.280Z"
   },
   {
    "duration": 117,
    "start_time": "2022-12-30T23:02:15.555Z"
   },
   {
    "duration": 120,
    "start_time": "2022-12-30T23:02:18.119Z"
   },
   {
    "duration": 390,
    "start_time": "2022-12-31T16:33:47.390Z"
   },
   {
    "duration": 179,
    "start_time": "2022-12-31T16:33:47.852Z"
   },
   {
    "duration": 16,
    "start_time": "2022-12-31T16:33:48.038Z"
   },
   {
    "duration": 87,
    "start_time": "2022-12-31T16:33:48.186Z"
   },
   {
    "duration": 2685,
    "start_time": "2022-12-31T16:33:48.499Z"
   },
   {
    "duration": 11,
    "start_time": "2022-12-31T16:33:51.187Z"
   },
   {
    "duration": 16,
    "start_time": "2022-12-31T16:33:51.200Z"
   },
   {
    "duration": 5,
    "start_time": "2022-12-31T16:33:51.219Z"
   },
   {
    "duration": 24,
    "start_time": "2022-12-31T16:33:51.226Z"
   },
   {
    "duration": 12,
    "start_time": "2022-12-31T16:33:51.252Z"
   },
   {
    "duration": 8,
    "start_time": "2022-12-31T16:33:51.266Z"
   },
   {
    "duration": 14,
    "start_time": "2022-12-31T16:33:51.276Z"
   },
   {
    "duration": 6,
    "start_time": "2022-12-31T16:33:51.292Z"
   },
   {
    "duration": 18,
    "start_time": "2022-12-31T16:33:51.300Z"
   },
   {
    "duration": 11,
    "start_time": "2022-12-31T16:33:51.350Z"
   },
   {
    "duration": 10,
    "start_time": "2022-12-31T16:33:51.363Z"
   },
   {
    "duration": 11,
    "start_time": "2022-12-31T16:33:51.375Z"
   },
   {
    "duration": 157,
    "start_time": "2022-12-31T16:33:51.520Z"
   },
   {
    "duration": 5,
    "start_time": "2022-12-31T16:33:52.063Z"
   },
   {
    "duration": 7,
    "start_time": "2022-12-31T16:33:52.224Z"
   },
   {
    "duration": 199,
    "start_time": "2022-12-31T16:33:52.409Z"
   },
   {
    "duration": 7,
    "start_time": "2022-12-31T16:33:53.014Z"
   },
   {
    "duration": 9,
    "start_time": "2022-12-31T16:33:53.158Z"
   },
   {
    "duration": 26,
    "start_time": "2022-12-31T16:33:53.452Z"
   },
   {
    "duration": 4,
    "start_time": "2022-12-31T16:34:09.727Z"
   },
   {
    "duration": 593,
    "start_time": "2022-12-31T16:34:09.909Z"
   },
   {
    "duration": 7,
    "start_time": "2022-12-31T16:34:10.504Z"
   },
   {
    "duration": 143,
    "start_time": "2022-12-31T16:34:10.562Z"
   },
   {
    "duration": 220,
    "start_time": "2022-12-31T16:34:10.909Z"
   },
   {
    "duration": 131,
    "start_time": "2022-12-31T16:34:11.262Z"
   },
   {
    "duration": 138,
    "start_time": "2022-12-31T16:34:11.623Z"
   },
   {
    "duration": 154,
    "start_time": "2022-12-31T16:34:11.991Z"
   },
   {
    "duration": 142,
    "start_time": "2022-12-31T16:34:12.330Z"
   },
   {
    "duration": 69,
    "start_time": "2022-12-31T16:34:12.516Z"
   },
   {
    "duration": 134,
    "start_time": "2022-12-31T16:34:12.702Z"
   },
   {
    "duration": 70,
    "start_time": "2022-12-31T16:34:12.906Z"
   },
   {
    "duration": 121,
    "start_time": "2022-12-31T16:34:13.076Z"
   },
   {
    "duration": 136,
    "start_time": "2022-12-31T16:34:22.620Z"
   },
   {
    "duration": 146,
    "start_time": "2022-12-31T16:34:25.259Z"
   },
   {
    "duration": 163,
    "start_time": "2022-12-31T16:34:26.144Z"
   },
   {
    "duration": 122,
    "start_time": "2022-12-31T16:34:26.959Z"
   },
   {
    "duration": 74,
    "start_time": "2022-12-31T16:34:27.610Z"
   },
   {
    "duration": 144,
    "start_time": "2022-12-31T16:34:32.373Z"
   },
   {
    "duration": 132,
    "start_time": "2022-12-31T16:34:32.906Z"
   },
   {
    "duration": 266,
    "start_time": "2022-12-31T16:34:33.946Z"
   },
   {
    "duration": 156,
    "start_time": "2022-12-31T16:34:34.878Z"
   },
   {
    "duration": 6,
    "start_time": "2022-12-31T16:34:36.065Z"
   },
   {
    "duration": 173,
    "start_time": "2022-12-31T16:34:37.329Z"
   },
   {
    "duration": 159,
    "start_time": "2022-12-31T16:34:38.499Z"
   },
   {
    "duration": 212,
    "start_time": "2022-12-31T16:34:39.588Z"
   },
   {
    "duration": 179,
    "start_time": "2022-12-31T16:34:40.139Z"
   },
   {
    "duration": 140,
    "start_time": "2022-12-31T16:34:40.763Z"
   },
   {
    "duration": 160,
    "start_time": "2022-12-31T16:34:41.205Z"
   },
   {
    "duration": 157,
    "start_time": "2022-12-31T16:34:41.833Z"
   },
   {
    "duration": 148,
    "start_time": "2022-12-31T16:34:42.764Z"
   },
   {
    "duration": 168,
    "start_time": "2022-12-31T16:34:43.312Z"
   },
   {
    "duration": 24,
    "start_time": "2022-12-31T16:34:43.544Z"
   },
   {
    "duration": 54,
    "start_time": "2023-01-05T15:05:25.114Z"
   },
   {
    "duration": 365,
    "start_time": "2023-01-05T15:05:32.267Z"
   },
   {
    "duration": 317,
    "start_time": "2023-01-05T15:05:32.634Z"
   },
   {
    "duration": 14,
    "start_time": "2023-01-05T15:05:32.953Z"
   },
   {
    "duration": 71,
    "start_time": "2023-01-05T15:05:32.969Z"
   },
   {
    "duration": 2122,
    "start_time": "2023-01-05T15:05:33.136Z"
   },
   {
    "duration": 10,
    "start_time": "2023-01-05T15:05:35.260Z"
   },
   {
    "duration": 7,
    "start_time": "2023-01-05T15:05:37.424Z"
   },
   {
    "duration": 5,
    "start_time": "2023-01-05T15:05:38.407Z"
   },
   {
    "duration": 6,
    "start_time": "2023-01-05T15:05:42.438Z"
   },
   {
    "duration": 9,
    "start_time": "2023-01-05T15:05:43.612Z"
   },
   {
    "duration": 8,
    "start_time": "2023-01-05T15:05:44.729Z"
   },
   {
    "duration": 11,
    "start_time": "2023-01-05T15:05:47.352Z"
   },
   {
    "duration": 6,
    "start_time": "2023-01-05T15:05:50.382Z"
   },
   {
    "duration": 15,
    "start_time": "2023-01-05T15:05:52.707Z"
   },
   {
    "duration": 9,
    "start_time": "2023-01-05T15:05:57.308Z"
   },
   {
    "duration": 7,
    "start_time": "2023-01-05T15:05:59.023Z"
   },
   {
    "duration": 140,
    "start_time": "2023-01-05T15:11:19.849Z"
   },
   {
    "duration": 4,
    "start_time": "2023-01-05T15:12:44.937Z"
   },
   {
    "duration": 4,
    "start_time": "2023-01-05T15:12:53.296Z"
   },
   {
    "duration": 6,
    "start_time": "2023-01-05T15:13:12.276Z"
   },
   {
    "duration": 6,
    "start_time": "2023-01-05T15:13:19.985Z"
   },
   {
    "duration": 14,
    "start_time": "2023-01-05T15:13:21.463Z"
   },
   {
    "duration": 10,
    "start_time": "2023-01-05T15:13:26.761Z"
   },
   {
    "duration": 7,
    "start_time": "2023-01-05T15:13:27.344Z"
   },
   {
    "duration": 6,
    "start_time": "2023-01-05T15:13:35.375Z"
   },
   {
    "duration": 5,
    "start_time": "2023-01-05T15:13:42.548Z"
   },
   {
    "duration": 115,
    "start_time": "2023-01-05T15:13:48.582Z"
   },
   {
    "duration": 113,
    "start_time": "2023-01-05T15:13:58.287Z"
   },
   {
    "duration": 117,
    "start_time": "2023-01-05T15:14:02.054Z"
   },
   {
    "duration": 4,
    "start_time": "2023-01-05T15:15:16.477Z"
   },
   {
    "duration": 407,
    "start_time": "2023-01-05T15:32:52.269Z"
   },
   {
    "duration": 315,
    "start_time": "2023-01-05T15:32:52.678Z"
   },
   {
    "duration": 15,
    "start_time": "2023-01-05T15:32:52.994Z"
   },
   {
    "duration": 70,
    "start_time": "2023-01-05T15:32:53.011Z"
   },
   {
    "duration": 1981,
    "start_time": "2023-01-05T15:32:53.349Z"
   },
   {
    "duration": 9,
    "start_time": "2023-01-05T15:32:55.333Z"
   },
   {
    "duration": 6,
    "start_time": "2023-01-05T15:32:57.922Z"
   },
   {
    "duration": 5,
    "start_time": "2023-01-05T15:32:58.153Z"
   },
   {
    "duration": 6,
    "start_time": "2023-01-05T15:33:15.380Z"
   },
   {
    "duration": 8,
    "start_time": "2023-01-05T15:33:16.132Z"
   },
   {
    "duration": 7,
    "start_time": "2023-01-05T15:33:17.610Z"
   },
   {
    "duration": 12,
    "start_time": "2023-01-05T15:33:18.493Z"
   },
   {
    "duration": 6,
    "start_time": "2023-01-05T15:33:20.604Z"
   },
   {
    "duration": 14,
    "start_time": "2023-01-05T15:33:21.323Z"
   },
   {
    "duration": 8,
    "start_time": "2023-01-05T15:33:26.052Z"
   },
   {
    "duration": 6,
    "start_time": "2023-01-05T15:33:28.496Z"
   },
   {
    "duration": 122,
    "start_time": "2023-01-05T15:33:30.890Z"
   },
   {
    "duration": 4,
    "start_time": "2023-01-05T15:33:33.222Z"
   },
   {
    "duration": 7,
    "start_time": "2023-01-05T15:33:33.877Z"
   },
   {
    "duration": 207,
    "start_time": "2023-01-05T15:33:34.680Z"
   },
   {
    "duration": 6,
    "start_time": "2023-01-05T15:33:39.236Z"
   },
   {
    "duration": 8,
    "start_time": "2023-01-05T15:33:39.808Z"
   },
   {
    "duration": 20,
    "start_time": "2023-01-05T15:33:40.330Z"
   },
   {
    "duration": 4,
    "start_time": "2023-01-05T15:33:40.553Z"
   },
   {
    "duration": 489,
    "start_time": "2023-01-05T15:33:40.724Z"
   },
   {
    "duration": 5,
    "start_time": "2023-01-05T15:33:41.215Z"
   },
   {
    "duration": 119,
    "start_time": "2023-01-05T15:33:41.902Z"
   },
   {
    "duration": 112,
    "start_time": "2023-01-05T15:33:42.492Z"
   },
   {
    "duration": 164,
    "start_time": "2023-01-05T15:33:43.078Z"
   },
   {
    "duration": 361,
    "start_time": "2023-01-05T15:38:41.041Z"
   },
   {
    "duration": 324,
    "start_time": "2023-01-05T15:38:41.404Z"
   },
   {
    "duration": 12,
    "start_time": "2023-01-05T15:38:41.730Z"
   },
   {
    "duration": 67,
    "start_time": "2023-01-05T15:38:41.744Z"
   },
   {
    "duration": 2025,
    "start_time": "2023-01-05T15:38:41.897Z"
   },
   {
    "duration": 10,
    "start_time": "2023-01-05T15:38:43.924Z"
   },
   {
    "duration": 23,
    "start_time": "2023-01-05T15:38:43.935Z"
   },
   {
    "duration": 8,
    "start_time": "2023-01-05T15:38:43.960Z"
   },
   {
    "duration": 11,
    "start_time": "2023-01-05T15:38:43.970Z"
   },
   {
    "duration": 10,
    "start_time": "2023-01-05T15:38:44.749Z"
   },
   {
    "duration": 7,
    "start_time": "2023-01-05T15:38:45.082Z"
   },
   {
    "duration": 12,
    "start_time": "2023-01-05T15:38:45.231Z"
   },
   {
    "duration": 5,
    "start_time": "2023-01-05T15:38:45.587Z"
   },
   {
    "duration": 15,
    "start_time": "2023-01-05T15:38:45.722Z"
   },
   {
    "duration": 8,
    "start_time": "2023-01-05T15:38:46.255Z"
   },
   {
    "duration": 7,
    "start_time": "2023-01-05T15:38:46.412Z"
   },
   {
    "duration": 8,
    "start_time": "2023-01-05T15:38:46.917Z"
   },
   {
    "duration": 136,
    "start_time": "2023-01-05T15:38:47.103Z"
   },
   {
    "duration": 5,
    "start_time": "2023-01-05T15:38:47.734Z"
   },
   {
    "duration": 8,
    "start_time": "2023-01-05T15:38:47.927Z"
   },
   {
    "duration": 170,
    "start_time": "2023-01-05T15:38:48.124Z"
   },
   {
    "duration": 6,
    "start_time": "2023-01-05T15:38:49.077Z"
   },
   {
    "duration": 8,
    "start_time": "2023-01-05T15:38:49.243Z"
   },
   {
    "duration": 22,
    "start_time": "2023-01-05T15:38:49.757Z"
   },
   {
    "duration": 3,
    "start_time": "2023-01-05T15:38:49.781Z"
   },
   {
    "duration": 532,
    "start_time": "2023-01-05T15:38:49.816Z"
   },
   {
    "duration": 6,
    "start_time": "2023-01-05T15:38:50.349Z"
   },
   {
    "duration": 105,
    "start_time": "2023-01-05T15:38:50.714Z"
   },
   {
    "duration": 113,
    "start_time": "2023-01-05T15:38:51.299Z"
   },
   {
    "duration": 167,
    "start_time": "2023-01-05T15:38:51.937Z"
   },
   {
    "duration": 388,
    "start_time": "2023-01-05T20:45:56.069Z"
   },
   {
    "duration": 313,
    "start_time": "2023-01-05T20:45:56.548Z"
   },
   {
    "duration": 14,
    "start_time": "2023-01-05T20:45:56.986Z"
   },
   {
    "duration": 77,
    "start_time": "2023-01-05T20:45:57.323Z"
   },
   {
    "duration": 2357,
    "start_time": "2023-01-05T20:45:58.368Z"
   },
   {
    "duration": 10,
    "start_time": "2023-01-05T20:46:00.728Z"
   },
   {
    "duration": 8,
    "start_time": "2023-01-05T20:46:02.554Z"
   },
   {
    "duration": 6,
    "start_time": "2023-01-05T20:46:02.993Z"
   },
   {
    "duration": 8,
    "start_time": "2023-01-05T20:46:03.612Z"
   },
   {
    "duration": 9,
    "start_time": "2023-01-05T20:46:05.305Z"
   },
   {
    "duration": 7,
    "start_time": "2023-01-05T20:46:06.829Z"
   },
   {
    "duration": 15,
    "start_time": "2023-01-05T20:46:07.357Z"
   },
   {
    "duration": 7,
    "start_time": "2023-01-05T20:46:08.955Z"
   },
   {
    "duration": 16,
    "start_time": "2023-01-05T20:46:09.481Z"
   },
   {
    "duration": 10,
    "start_time": "2023-01-05T20:46:11.621Z"
   },
   {
    "duration": 7,
    "start_time": "2023-01-05T20:46:12.106Z"
   },
   {
    "duration": 133,
    "start_time": "2023-01-05T20:46:30.624Z"
   },
   {
    "duration": 5,
    "start_time": "2023-01-05T20:46:34.601Z"
   },
   {
    "duration": 8,
    "start_time": "2023-01-05T20:46:35.145Z"
   },
   {
    "duration": 217,
    "start_time": "2023-01-05T20:46:35.919Z"
   },
   {
    "duration": 6,
    "start_time": "2023-01-05T20:46:43.209Z"
   },
   {
    "duration": 8,
    "start_time": "2023-01-05T20:46:44.056Z"
   },
   {
    "duration": 22,
    "start_time": "2023-01-05T20:46:44.679Z"
   },
   {
    "duration": 4,
    "start_time": "2023-01-05T20:46:45.634Z"
   },
   {
    "duration": 554,
    "start_time": "2023-01-05T20:46:47.260Z"
   },
   {
    "duration": 125,
    "start_time": "2023-01-05T20:47:05.269Z"
   },
   {
    "duration": 200,
    "start_time": "2023-01-05T20:47:15.354Z"
   },
   {
    "duration": 118,
    "start_time": "2023-01-05T20:47:25.298Z"
   },
   {
    "duration": 429,
    "start_time": "2023-01-05T20:48:41.806Z"
   },
   {
    "duration": 107,
    "start_time": "2023-01-05T20:48:42.237Z"
   },
   {
    "duration": 14,
    "start_time": "2023-01-05T20:48:42.346Z"
   },
   {
    "duration": 112,
    "start_time": "2023-01-05T20:48:42.365Z"
   },
   {
    "duration": 2208,
    "start_time": "2023-01-05T20:48:42.705Z"
   },
   {
    "duration": 10,
    "start_time": "2023-01-05T20:48:44.915Z"
   },
   {
    "duration": 12,
    "start_time": "2023-01-05T20:48:44.927Z"
   },
   {
    "duration": 24,
    "start_time": "2023-01-05T20:48:44.941Z"
   },
   {
    "duration": 25,
    "start_time": "2023-01-05T20:48:44.967Z"
   },
   {
    "duration": 13,
    "start_time": "2023-01-05T20:48:44.994Z"
   },
   {
    "duration": 28,
    "start_time": "2023-01-05T20:48:45.009Z"
   },
   {
    "duration": 17,
    "start_time": "2023-01-05T20:48:45.177Z"
   },
   {
    "duration": 6,
    "start_time": "2023-01-05T20:48:46.875Z"
   },
   {
    "duration": 15,
    "start_time": "2023-01-05T20:48:47.390Z"
   },
   {
    "duration": 10,
    "start_time": "2023-01-05T20:48:51.928Z"
   },
   {
    "duration": 9,
    "start_time": "2023-01-05T20:48:52.133Z"
   },
   {
    "duration": 145,
    "start_time": "2023-01-05T20:48:56.190Z"
   },
   {
    "duration": 6,
    "start_time": "2023-01-05T20:48:56.853Z"
   },
   {
    "duration": 8,
    "start_time": "2023-01-05T20:48:56.999Z"
   },
   {
    "duration": 193,
    "start_time": "2023-01-05T20:48:57.203Z"
   },
   {
    "duration": 6,
    "start_time": "2023-01-05T20:48:58.087Z"
   },
   {
    "duration": 9,
    "start_time": "2023-01-05T20:48:58.276Z"
   },
   {
    "duration": 23,
    "start_time": "2023-01-05T20:48:58.593Z"
   },
   {
    "duration": 4,
    "start_time": "2023-01-05T20:48:58.786Z"
   },
   {
    "duration": 558,
    "start_time": "2023-01-05T20:48:59.000Z"
   },
   {
    "duration": 6,
    "start_time": "2023-01-05T20:48:59.560Z"
   },
   {
    "duration": 137,
    "start_time": "2023-01-05T20:48:59.953Z"
   },
   {
    "duration": 131,
    "start_time": "2023-01-05T20:49:00.580Z"
   },
   {
    "duration": 207,
    "start_time": "2023-01-05T20:49:02.237Z"
   },
   {
    "duration": 136,
    "start_time": "2023-01-05T20:49:19.660Z"
   },
   {
    "duration": 140,
    "start_time": "2023-01-05T20:49:30.623Z"
   },
   {
    "duration": 139,
    "start_time": "2023-01-05T20:50:20.519Z"
   },
   {
    "duration": 139,
    "start_time": "2023-01-05T20:50:31.878Z"
   },
   {
    "duration": 123,
    "start_time": "2023-01-05T20:50:38.553Z"
   },
   {
    "duration": 132,
    "start_time": "2023-01-05T20:50:46.239Z"
   },
   {
    "duration": 135,
    "start_time": "2023-01-05T20:50:52.460Z"
   },
   {
    "duration": 150,
    "start_time": "2023-01-05T20:50:56.633Z"
   },
   {
    "duration": 137,
    "start_time": "2023-01-05T20:51:26.435Z"
   },
   {
    "duration": 392,
    "start_time": "2023-01-05T23:08:04.283Z"
   },
   {
    "duration": 346,
    "start_time": "2023-01-05T23:08:04.676Z"
   },
   {
    "duration": 13,
    "start_time": "2023-01-05T23:08:05.024Z"
   },
   {
    "duration": 82,
    "start_time": "2023-01-05T23:08:05.038Z"
   },
   {
    "duration": 2129,
    "start_time": "2023-01-05T23:08:05.270Z"
   },
   {
    "duration": 8,
    "start_time": "2023-01-05T23:08:07.402Z"
   },
   {
    "duration": 7,
    "start_time": "2023-01-05T23:08:07.412Z"
   },
   {
    "duration": 5,
    "start_time": "2023-01-05T23:08:07.573Z"
   },
   {
    "duration": 6,
    "start_time": "2023-01-05T23:08:07.768Z"
   },
   {
    "duration": 9,
    "start_time": "2023-01-05T23:08:08.634Z"
   },
   {
    "duration": 7,
    "start_time": "2023-01-05T23:08:09.478Z"
   },
   {
    "duration": 13,
    "start_time": "2023-01-05T23:08:10.019Z"
   },
   {
    "duration": 6,
    "start_time": "2023-01-05T23:08:12.534Z"
   },
   {
    "duration": 14,
    "start_time": "2023-01-05T23:08:13.191Z"
   },
   {
    "duration": 9,
    "start_time": "2023-01-05T23:08:14.987Z"
   },
   {
    "duration": 7,
    "start_time": "2023-01-05T23:08:15.423Z"
   },
   {
    "duration": 2,
    "start_time": "2023-01-05T23:08:24.868Z"
   },
   {
    "duration": 124,
    "start_time": "2023-01-05T23:08:25.372Z"
   },
   {
    "duration": 5,
    "start_time": "2023-01-05T23:08:27.248Z"
   },
   {
    "duration": 7,
    "start_time": "2023-01-05T23:08:28.013Z"
   },
   {
    "duration": 168,
    "start_time": "2023-01-05T23:08:28.954Z"
   },
   {
    "duration": 417,
    "start_time": "2023-01-05T23:29:14.395Z"
   },
   {
    "duration": 117,
    "start_time": "2023-01-05T23:29:14.816Z"
   },
   {
    "duration": 17,
    "start_time": "2023-01-05T23:29:14.935Z"
   },
   {
    "duration": 73,
    "start_time": "2023-01-05T23:29:15.018Z"
   },
   {
    "duration": 2035,
    "start_time": "2023-01-05T23:29:16.532Z"
   },
   {
    "duration": 13,
    "start_time": "2023-01-05T23:29:18.569Z"
   },
   {
    "duration": 10,
    "start_time": "2023-01-05T23:29:18.584Z"
   },
   {
    "duration": 6,
    "start_time": "2023-01-05T23:29:18.637Z"
   },
   {
    "duration": 8,
    "start_time": "2023-01-05T23:29:18.837Z"
   },
   {
    "duration": 9,
    "start_time": "2023-01-05T23:29:19.656Z"
   },
   {
    "duration": 9,
    "start_time": "2023-01-05T23:29:20.051Z"
   },
   {
    "duration": 13,
    "start_time": "2023-01-05T23:29:20.666Z"
   },
   {
    "duration": 6,
    "start_time": "2023-01-05T23:29:22.441Z"
   },
   {
    "duration": 16,
    "start_time": "2023-01-05T23:29:27.262Z"
   },
   {
    "duration": 9,
    "start_time": "2023-01-05T23:29:28.700Z"
   },
   {
    "duration": 7,
    "start_time": "2023-01-05T23:29:28.922Z"
   },
   {
    "duration": 3,
    "start_time": "2023-01-05T23:29:30.632Z"
   },
   {
    "duration": 164,
    "start_time": "2023-01-05T23:29:36.174Z"
   },
   {
    "duration": 118,
    "start_time": "2023-01-05T23:29:40.548Z"
   },
   {
    "duration": 128,
    "start_time": "2023-01-05T23:30:10.044Z"
   },
   {
    "duration": 127,
    "start_time": "2023-01-05T23:30:31.311Z"
   },
   {
    "duration": 118,
    "start_time": "2023-01-05T23:30:35.014Z"
   },
   {
    "duration": 149,
    "start_time": "2023-01-05T23:30:40.784Z"
   },
   {
    "duration": 377,
    "start_time": "2023-01-05T23:33:15.519Z"
   },
   {
    "duration": 101,
    "start_time": "2023-01-05T23:33:15.897Z"
   },
   {
    "duration": 14,
    "start_time": "2023-01-05T23:33:16.054Z"
   },
   {
    "duration": 69,
    "start_time": "2023-01-05T23:33:16.394Z"
   },
   {
    "duration": 1904,
    "start_time": "2023-01-05T23:33:17.198Z"
   },
   {
    "duration": 15,
    "start_time": "2023-01-05T23:33:19.104Z"
   },
   {
    "duration": 6,
    "start_time": "2023-01-05T23:33:20.156Z"
   },
   {
    "duration": 5,
    "start_time": "2023-01-05T23:33:20.433Z"
   },
   {
    "duration": 7,
    "start_time": "2023-01-05T23:33:20.665Z"
   },
   {
    "duration": 8,
    "start_time": "2023-01-05T23:33:21.178Z"
   },
   {
    "duration": 7,
    "start_time": "2023-01-05T23:33:21.674Z"
   },
   {
    "duration": 12,
    "start_time": "2023-01-05T23:33:21.900Z"
   },
   {
    "duration": 7,
    "start_time": "2023-01-05T23:33:22.458Z"
   },
   {
    "duration": 14,
    "start_time": "2023-01-05T23:33:22.733Z"
   },
   {
    "duration": 9,
    "start_time": "2023-01-05T23:33:23.536Z"
   },
   {
    "duration": 8,
    "start_time": "2023-01-05T23:33:23.776Z"
   },
   {
    "duration": 2,
    "start_time": "2023-01-05T23:33:24.492Z"
   },
   {
    "duration": 137,
    "start_time": "2023-01-05T23:33:24.716Z"
   },
   {
    "duration": 5,
    "start_time": "2023-01-05T23:33:26.016Z"
   },
   {
    "duration": 7,
    "start_time": "2023-01-05T23:33:26.176Z"
   },
   {
    "duration": 163,
    "start_time": "2023-01-05T23:33:26.386Z"
   },
   {
    "duration": 6,
    "start_time": "2023-01-05T23:33:27.763Z"
   },
   {
    "duration": 9,
    "start_time": "2023-01-05T23:33:28.264Z"
   },
   {
    "duration": 21,
    "start_time": "2023-01-05T23:33:28.549Z"
   },
   {
    "duration": 3,
    "start_time": "2023-01-05T23:33:28.836Z"
   },
   {
    "duration": 498,
    "start_time": "2023-01-05T23:33:29.106Z"
   },
   {
    "duration": 10,
    "start_time": "2023-01-05T23:33:29.606Z"
   },
   {
    "duration": 107,
    "start_time": "2023-01-05T23:33:30.475Z"
   },
   {
    "duration": 6,
    "start_time": "2023-01-05T23:35:49.362Z"
   },
   {
    "duration": 35,
    "start_time": "2023-01-05T23:36:09.360Z"
   },
   {
    "duration": 405,
    "start_time": "2023-01-05T23:38:10.767Z"
   },
   {
    "duration": 21,
    "start_time": "2023-01-05T23:38:49.128Z"
   },
   {
    "duration": 15,
    "start_time": "2023-01-05T23:39:16.570Z"
   },
   {
    "duration": 17,
    "start_time": "2023-01-05T23:39:29.532Z"
   },
   {
    "duration": 15,
    "start_time": "2023-01-05T23:39:32.887Z"
   },
   {
    "duration": 21,
    "start_time": "2023-01-05T23:39:46.251Z"
   },
   {
    "duration": 13,
    "start_time": "2023-01-05T23:39:53.761Z"
   },
   {
    "duration": 42,
    "start_time": "2023-01-05T23:40:07.743Z"
   },
   {
    "duration": 13,
    "start_time": "2023-01-05T23:40:20.668Z"
   },
   {
    "duration": 12,
    "start_time": "2023-01-05T23:40:32.336Z"
   },
   {
    "duration": 6,
    "start_time": "2023-01-05T23:47:26.034Z"
   },
   {
    "duration": 7,
    "start_time": "2023-01-05T23:47:35.364Z"
   },
   {
    "duration": 19,
    "start_time": "2023-01-05T23:50:34.805Z"
   },
   {
    "duration": 21,
    "start_time": "2023-01-05T23:50:42.488Z"
   },
   {
    "duration": 14,
    "start_time": "2023-01-05T23:50:50.121Z"
   },
   {
    "duration": 23,
    "start_time": "2023-01-05T23:55:17.010Z"
   },
   {
    "duration": 12,
    "start_time": "2023-01-05T23:55:33.971Z"
   },
   {
    "duration": 469,
    "start_time": "2023-01-06T09:36:55.747Z"
   },
   {
    "duration": 190,
    "start_time": "2023-01-06T09:36:56.219Z"
   },
   {
    "duration": 26,
    "start_time": "2023-01-06T09:36:56.539Z"
   },
   {
    "duration": 89,
    "start_time": "2023-01-06T09:36:57.280Z"
   },
   {
    "duration": 2801,
    "start_time": "2023-01-06T09:37:07.748Z"
   },
   {
    "duration": 21,
    "start_time": "2023-01-06T09:37:10.551Z"
   },
   {
    "duration": 14,
    "start_time": "2023-01-06T09:37:26.546Z"
   },
   {
    "duration": 7,
    "start_time": "2023-01-06T09:37:26.963Z"
   },
   {
    "duration": 7,
    "start_time": "2023-01-06T09:37:29.241Z"
   },
   {
    "duration": 10,
    "start_time": "2023-01-06T09:37:30.163Z"
   },
   {
    "duration": 8,
    "start_time": "2023-01-06T09:37:31.296Z"
   },
   {
    "duration": 15,
    "start_time": "2023-01-06T09:37:31.790Z"
   },
   {
    "duration": 7,
    "start_time": "2023-01-06T09:37:32.561Z"
   },
   {
    "duration": 17,
    "start_time": "2023-01-06T09:37:32.823Z"
   },
   {
    "duration": 10,
    "start_time": "2023-01-06T09:37:33.686Z"
   },
   {
    "duration": 8,
    "start_time": "2023-01-06T09:37:33.968Z"
   },
   {
    "duration": 3,
    "start_time": "2023-01-06T09:37:34.685Z"
   },
   {
    "duration": 160,
    "start_time": "2023-01-06T09:37:38.275Z"
   },
   {
    "duration": 11,
    "start_time": "2023-01-06T09:37:39.368Z"
   },
   {
    "duration": 9,
    "start_time": "2023-01-06T09:37:39.596Z"
   },
   {
    "duration": 254,
    "start_time": "2023-01-06T09:37:40.113Z"
   },
   {
    "duration": 6,
    "start_time": "2023-01-06T09:38:07.297Z"
   },
   {
    "duration": 8,
    "start_time": "2023-01-06T09:38:42.836Z"
   },
   {
    "duration": 25,
    "start_time": "2023-01-06T09:39:22.861Z"
   },
   {
    "duration": 3,
    "start_time": "2023-01-06T09:39:23.642Z"
   },
   {
    "duration": 604,
    "start_time": "2023-01-06T09:39:24.822Z"
   },
   {
    "duration": 6,
    "start_time": "2023-01-06T09:39:26.265Z"
   },
   {
    "duration": 174,
    "start_time": "2023-01-06T09:39:29.739Z"
   },
   {
    "duration": 220,
    "start_time": "2023-01-06T09:39:33.923Z"
   },
   {
    "duration": 152,
    "start_time": "2023-01-06T09:39:35.569Z"
   },
   {
    "duration": 199,
    "start_time": "2023-01-06T09:39:38.377Z"
   },
   {
    "duration": 151,
    "start_time": "2023-01-06T09:39:53.811Z"
   },
   {
    "duration": 161,
    "start_time": "2023-01-06T09:40:10.529Z"
   },
   {
    "duration": 144,
    "start_time": "2023-01-06T09:40:15.366Z"
   },
   {
    "duration": 160,
    "start_time": "2023-01-06T09:40:25.930Z"
   },
   {
    "duration": 160,
    "start_time": "2023-01-06T09:40:34.723Z"
   },
   {
    "duration": 137,
    "start_time": "2023-01-06T09:40:46.802Z"
   },
   {
    "duration": 155,
    "start_time": "2023-01-06T09:40:55.244Z"
   },
   {
    "duration": 148,
    "start_time": "2023-01-06T09:41:01.167Z"
   },
   {
    "duration": 156,
    "start_time": "2023-01-06T09:41:04.365Z"
   },
   {
    "duration": 131,
    "start_time": "2023-01-06T09:44:54.889Z"
   },
   {
    "duration": 251,
    "start_time": "2023-01-06T09:45:00.433Z"
   },
   {
    "duration": 28,
    "start_time": "2023-01-06T09:46:40.472Z"
   },
   {
    "duration": 26,
    "start_time": "2023-01-06T09:46:46.965Z"
   },
   {
    "duration": 130,
    "start_time": "2023-01-06T09:48:42.611Z"
   },
   {
    "duration": 56,
    "start_time": "2023-01-06T09:49:04.129Z"
   },
   {
    "duration": 20,
    "start_time": "2023-01-06T09:52:06.581Z"
   },
   {
    "duration": 27,
    "start_time": "2023-01-06T09:52:18.192Z"
   },
   {
    "duration": 36,
    "start_time": "2023-01-06T09:52:43.441Z"
   },
   {
    "duration": 36,
    "start_time": "2023-01-06T09:53:25.242Z"
   },
   {
    "duration": 43,
    "start_time": "2023-01-06T09:55:27.044Z"
   },
   {
    "duration": 30,
    "start_time": "2023-01-06T09:55:59.271Z"
   },
   {
    "duration": 21,
    "start_time": "2023-01-06T09:56:06.868Z"
   },
   {
    "duration": 19,
    "start_time": "2023-01-06T09:57:50.477Z"
   },
   {
    "duration": 28,
    "start_time": "2023-01-06T09:58:00.576Z"
   },
   {
    "duration": 30,
    "start_time": "2023-01-06T09:58:17.549Z"
   },
   {
    "duration": 18,
    "start_time": "2023-01-06T10:00:45.729Z"
   },
   {
    "duration": 23,
    "start_time": "2023-01-06T10:00:51.605Z"
   },
   {
    "duration": 30,
    "start_time": "2023-01-06T10:01:30.678Z"
   },
   {
    "duration": 22,
    "start_time": "2023-01-06T10:01:44.717Z"
   },
   {
    "duration": 36,
    "start_time": "2023-01-06T10:02:12.625Z"
   },
   {
    "duration": 33,
    "start_time": "2023-01-06T10:03:50.099Z"
   },
   {
    "duration": 30,
    "start_time": "2023-01-06T10:04:05.213Z"
   },
   {
    "duration": 36,
    "start_time": "2023-01-06T10:04:11.926Z"
   },
   {
    "duration": 177,
    "start_time": "2023-01-06T10:04:45.463Z"
   }
  ],
  "celltoolbar": "Необработанный формат ячейки",
  "kernelspec": {
   "display_name": "Python 3 (ipykernel)",
   "language": "python",
   "name": "python3"
  },
  "language_info": {
   "codemirror_mode": {
    "name": "ipython",
    "version": 3
   },
   "file_extension": ".py",
   "mimetype": "text/x-python",
   "name": "python",
   "nbconvert_exporter": "python",
   "pygments_lexer": "ipython3",
   "version": "3.9.13"
  },
  "toc": {
   "base_numbering": 1,
   "nav_menu": {},
   "number_sections": true,
   "sideBar": true,
   "skip_h1_title": true,
   "title_cell": "Table of Contents",
   "title_sidebar": "Contents",
   "toc_cell": false,
   "toc_position": {},
   "toc_section_display": true,
   "toc_window_display": false
  }
 },
 "nbformat": 4,
 "nbformat_minor": 2
}
