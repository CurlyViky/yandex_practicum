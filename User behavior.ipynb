{
 "cells": [
  {
   "cell_type": "markdown",
   "metadata": {},
   "source": [
    "# Сборный проект №2"
   ]
  },
  {
   "cell_type": "markdown",
   "metadata": {},
   "source": [
    "***Предисловие***"
   ]
  },
  {
   "cell_type": "markdown",
   "metadata": {},
   "source": [
    "В данном проекте нам необходимо изучить поведение пользователей приложения, какие страницы они посещают чаще всего, на каком этапе снижается их кол-во, сколько пользователей от общего числа по итогу доходит до покупки.\n",
    "У нас имеются данные за период с конца июля (25.07) по начало августа (07.08) за 2019 год. Необходимо проверить по всем ли датам есть данные о поведении пользователей. И имеется три группы - две контрольных и одна эксперементальная.\n",
    "По итогу нам нужно понять, как повлияет на поведение пользователей смена шрифта."
   ]
  },
  {
   "cell_type": "markdown",
   "metadata": {},
   "source": [
    "Перед началом анализа импортируем все необходимые библиотеки"
   ]
  },
  {
   "cell_type": "code",
   "execution_count": 1,
   "metadata": {},
   "outputs": [],
   "source": [
    "import matplotlib.pyplot as plt\n",
    "import pandas as pd\n",
    "from scipy import stats as st\n",
    "import datetime as dt\n",
    "import numpy as np\n",
    "import math as mth"
   ]
  },
  {
   "cell_type": "markdown",
   "metadata": {},
   "source": [
    "## Подготовка данных"
   ]
  },
  {
   "cell_type": "code",
   "execution_count": 11,
   "metadata": {},
   "outputs": [],
   "source": [
    "data = pd.read_csv('/datasets/logs_exp.csv', sep='\\t')"
   ]
  },
  {
   "cell_type": "code",
   "execution_count": 12,
   "metadata": {},
   "outputs": [
    {
     "data": {
      "text/html": [
       "<div>\n",
       "<style scoped>\n",
       "    .dataframe tbody tr th:only-of-type {\n",
       "        vertical-align: middle;\n",
       "    }\n",
       "\n",
       "    .dataframe tbody tr th {\n",
       "        vertical-align: top;\n",
       "    }\n",
       "\n",
       "    .dataframe thead th {\n",
       "        text-align: right;\n",
       "    }\n",
       "</style>\n",
       "<table border=\"1\" class=\"dataframe\">\n",
       "  <thead>\n",
       "    <tr style=\"text-align: right;\">\n",
       "      <th></th>\n",
       "      <th>EventName</th>\n",
       "      <th>DeviceIDHash</th>\n",
       "      <th>EventTimestamp</th>\n",
       "      <th>ExpId</th>\n",
       "    </tr>\n",
       "  </thead>\n",
       "  <tbody>\n",
       "    <tr>\n",
       "      <th>0</th>\n",
       "      <td>MainScreenAppear</td>\n",
       "      <td>4575588528974610257</td>\n",
       "      <td>1564029816</td>\n",
       "      <td>246</td>\n",
       "    </tr>\n",
       "    <tr>\n",
       "      <th>1</th>\n",
       "      <td>MainScreenAppear</td>\n",
       "      <td>7416695313311560658</td>\n",
       "      <td>1564053102</td>\n",
       "      <td>246</td>\n",
       "    </tr>\n",
       "    <tr>\n",
       "      <th>2</th>\n",
       "      <td>PaymentScreenSuccessful</td>\n",
       "      <td>3518123091307005509</td>\n",
       "      <td>1564054127</td>\n",
       "      <td>248</td>\n",
       "    </tr>\n",
       "    <tr>\n",
       "      <th>3</th>\n",
       "      <td>CartScreenAppear</td>\n",
       "      <td>3518123091307005509</td>\n",
       "      <td>1564054127</td>\n",
       "      <td>248</td>\n",
       "    </tr>\n",
       "    <tr>\n",
       "      <th>4</th>\n",
       "      <td>PaymentScreenSuccessful</td>\n",
       "      <td>6217807653094995999</td>\n",
       "      <td>1564055322</td>\n",
       "      <td>248</td>\n",
       "    </tr>\n",
       "  </tbody>\n",
       "</table>\n",
       "</div>"
      ],
      "text/plain": [
       "                 EventName         DeviceIDHash  EventTimestamp  ExpId\n",
       "0         MainScreenAppear  4575588528974610257      1564029816    246\n",
       "1         MainScreenAppear  7416695313311560658      1564053102    246\n",
       "2  PaymentScreenSuccessful  3518123091307005509      1564054127    248\n",
       "3         CartScreenAppear  3518123091307005509      1564054127    248\n",
       "4  PaymentScreenSuccessful  6217807653094995999      1564055322    248"
      ]
     },
     "execution_count": 12,
     "metadata": {},
     "output_type": "execute_result"
    }
   ],
   "source": [
    "data.head()"
   ]
  },
  {
   "cell_type": "code",
   "execution_count": 13,
   "metadata": {},
   "outputs": [
    {
     "name": "stdout",
     "output_type": "stream",
     "text": [
      "<class 'pandas.core.frame.DataFrame'>\n",
      "RangeIndex: 244126 entries, 0 to 244125\n",
      "Data columns (total 4 columns):\n",
      " #   Column          Non-Null Count   Dtype \n",
      "---  ------          --------------   ----- \n",
      " 0   EventName       244126 non-null  object\n",
      " 1   DeviceIDHash    244126 non-null  int64 \n",
      " 2   EventTimestamp  244126 non-null  int64 \n",
      " 3   ExpId           244126 non-null  int64 \n",
      "dtypes: int64(3), object(1)\n",
      "memory usage: 7.5+ MB\n"
     ]
    }
   ],
   "source": [
    "data.info()"
   ]
  },
  {
   "cell_type": "code",
   "execution_count": 14,
   "metadata": {},
   "outputs": [],
   "source": [
    "#изменяем названия столбцов\n",
    "data.columns = ['e_name', 'device_id', 'event_date', 'group']"
   ]
  },
  {
   "cell_type": "code",
   "execution_count": 15,
   "metadata": {},
   "outputs": [
    {
     "name": "stdout",
     "output_type": "stream",
     "text": [
      "\n",
      "Дубликатов в выгрузке: 413\n"
     ]
    }
   ],
   "source": [
    "#проверяем на явные дубликаты\n",
    "duplicated = data.duplicated()\n",
    "print('\\nДубликатов в выгрузке: {}'.format(data.duplicated().sum()))"
   ]
  },
  {
   "cell_type": "code",
   "execution_count": 16,
   "metadata": {},
   "outputs": [
    {
     "name": "stdout",
     "output_type": "stream",
     "text": [
      "Доля дубликатов в данных: 0.17\n"
     ]
    }
   ],
   "source": [
    "#посчитаем, какой процент дубликаты составляют от общего кол-ва данных\n",
    "print('Доля дубликатов в данных:', round(duplicated.sum()/len(data) *100, 2))"
   ]
  },
  {
   "cell_type": "code",
   "execution_count": 17,
   "metadata": {},
   "outputs": [
    {
     "name": "stdout",
     "output_type": "stream",
     "text": [
      "Дубликаты удалены, дубликатов осталось: 0\n"
     ]
    }
   ],
   "source": [
    "data = data.drop_duplicates().reset_index(drop = True)\n",
    "print('Дубликаты удалены, дубликатов осталось: {}'.format(data.duplicated().sum()))"
   ]
  },
  {
   "cell_type": "code",
   "execution_count": 18,
   "metadata": {},
   "outputs": [
    {
     "name": "stdout",
     "output_type": "stream",
     "text": [
      "<class 'pandas.core.frame.DataFrame'>\n",
      "Int64Index: 3 entries, 0 to 2\n",
      "Data columns (total 2 columns):\n",
      " #   Column     Non-Null Count  Dtype\n",
      "---  ------     --------------  -----\n",
      " 0   group      3 non-null      int64\n",
      " 1   device_id  3 non-null      int64\n",
      "dtypes: int64(2)\n",
      "memory usage: 72.0 bytes\n"
     ]
    }
   ],
   "source": [
    "repeated = (data[['device_id', 'group']].groupby('group', as_index=False).agg({'device_id':'nunique'}).query('group>1'))\n",
    "repeated.info()"
   ]
  },
  {
   "cell_type": "code",
   "execution_count": 19,
   "metadata": {},
   "outputs": [
    {
     "name": "stdout",
     "output_type": "stream",
     "text": [
      "<class 'pandas.core.frame.DataFrame'>\n",
      "Int64Index: 243713 entries, 0 to 243712\n",
      "Data columns (total 4 columns):\n",
      " #   Column      Non-Null Count   Dtype \n",
      "---  ------      --------------   ----- \n",
      " 0   e_name      243713 non-null  object\n",
      " 1   device_id   243713 non-null  int64 \n",
      " 2   event_date  243713 non-null  int64 \n",
      " 3   group       243713 non-null  int64 \n",
      "dtypes: int64(3), object(1)\n",
      "memory usage: 9.3+ MB\n"
     ]
    }
   ],
   "source": [
    "data_1 = data.query('device_id not in @repeated')\n",
    "data_1.info()"
   ]
  },
  {
   "cell_type": "code",
   "execution_count": 20,
   "metadata": {},
   "outputs": [
    {
     "name": "stdout",
     "output_type": "stream",
     "text": [
      "<class 'pandas.core.frame.DataFrame'>\n",
      "RangeIndex: 243713 entries, 0 to 243712\n",
      "Data columns (total 6 columns):\n",
      " #   Column      Non-Null Count   Dtype         \n",
      "---  ------      --------------   -----         \n",
      " 0   e_name      243713 non-null  object        \n",
      " 1   device_id   243713 non-null  int64         \n",
      " 2   event_date  243713 non-null  int64         \n",
      " 3   group       243713 non-null  int64         \n",
      " 4   dt          243713 non-null  datetime64[ns]\n",
      " 5   date        243713 non-null  datetime64[ns]\n",
      "dtypes: datetime64[ns](2), int64(3), object(1)\n",
      "memory usage: 11.2+ MB\n"
     ]
    }
   ],
   "source": [
    "#добавляем столбцы даты и времени и отдельно даты\n",
    "\n",
    "data['dt'] = pd.to_datetime(data['event_date'], unit='s')\n",
    "\n",
    "data['date'] = data['dt'].dt.floor('1D')\n",
    "\n",
    "data.info()"
   ]
  },
  {
   "cell_type": "markdown",
   "metadata": {},
   "source": [
    "В данных были дубликаты, но их процент был незначительным и мы от них избавились.\n",
    "Пропусков в данных не было обнаружено."
   ]
  },
  {
   "cell_type": "markdown",
   "metadata": {},
   "source": [
    "## Проверка данных"
   ]
  },
  {
   "cell_type": "code",
   "execution_count": 21,
   "metadata": {},
   "outputs": [
    {
     "name": "stdout",
     "output_type": "stream",
     "text": [
      "Начало периода: 2019-07-25 00:00:00\n",
      "Конец периода 2019-08-07 00:00:00\n"
     ]
    }
   ],
   "source": [
    "#узнаем период для анализа\n",
    "print('Начало периода:', data['date'].min())\n",
    "print('Конец периода', data['date'].max())"
   ]
  },
  {
   "cell_type": "code",
   "execution_count": 22,
   "metadata": {},
   "outputs": [
    {
     "data": {
      "image/png": "[encoded data removed]",
      "text/plain": [
       "<Figure size 1080x504 with 1 Axes>"
      ]
     },
     "metadata": {
      "needs_background": "light"
     },
     "output_type": "display_data"
    }
   ],
   "source": [
    "data.hist('dt', figsize=(15,7), bins=14*24)\n",
    "plt.show()"
   ]
  },
  {
   "cell_type": "markdown",
   "metadata": {},
   "source": [
    "Исходя из гистограммы, нельзя сказать, что у нас полные данные за весь период. Можно заметить, как в самом начале периоды, то есть 25.07.19г. по 01.08.19г. данные практически отсутсвуют."
   ]
  },
  {
   "cell_type": "code",
   "execution_count": 23,
   "metadata": {},
   "outputs": [
    {
     "name": "stdout",
     "output_type": "stream",
     "text": [
      "<class 'pandas.core.frame.DataFrame'>\n",
      "Int64Index: 240887 entries, 2826 to 243712\n",
      "Data columns (total 6 columns):\n",
      " #   Column      Non-Null Count   Dtype         \n",
      "---  ------      --------------   -----         \n",
      " 0   e_name      240887 non-null  object        \n",
      " 1   device_id   240887 non-null  int64         \n",
      " 2   event_date  240887 non-null  int64         \n",
      " 3   group       240887 non-null  int64         \n",
      " 4   dt          240887 non-null  datetime64[ns]\n",
      " 5   date        240887 non-null  datetime64[ns]\n",
      "dtypes: datetime64[ns](2), int64(3), object(1)\n",
      "memory usage: 12.9+ MB\n"
     ]
    }
   ],
   "source": [
    "data_fltrd = data[data['dt'] >= '2019-08-01 00:00:00']\n",
    "data_fltrd.info()"
   ]
  },
  {
   "cell_type": "code",
   "execution_count": 24,
   "metadata": {
    "scrolled": true
   },
   "outputs": [
    {
     "name": "stdout",
     "output_type": "stream",
     "text": [
      "Отбросив старые данные, было потеряно 2826 или 1.16 процента от данных\n"
     ]
    }
   ],
   "source": [
    "print('Отбросив старые данные, было потеряно', len(data)-len(data_fltrd), 'или', round((len(data)-len(data_fltrd))/len(data) *100,2),'процента от данных')"
   ]
  },
  {
   "cell_type": "code",
   "execution_count": 33,
   "metadata": {},
   "outputs": [
    {
     "name": "stdout",
     "output_type": "stream",
     "text": [
      "7551\n",
      "7534\n"
     ]
    }
   ],
   "source": [
    "print(len(data['device_id'].unique()))\n",
    "print(len(data_fltrd['device_id'].unique()))"
   ]
  },
  {
   "cell_type": "code",
   "execution_count": 34,
   "metadata": {},
   "outputs": [
    {
     "name": "stdout",
     "output_type": "stream",
     "text": [
      "Отбросив старые данные, было потеряно 2826 или 1.16 процента от данных\n"
     ]
    }
   ],
   "source": [
    "print('Отбросив старые данные, было потеряно', len(data)-len(data_fltrd), 'или', round((len(data)-len(data_fltrd))/len(data) *100,2),'процента от данных')"
   ]
  },
  {
   "cell_type": "code",
   "execution_count": 36,
   "metadata": {},
   "outputs": [
    {
     "name": "stdout",
     "output_type": "stream",
     "text": [
      "Отбросив старые данные, было потеряно 17  уникальных пользователей\n"
     ]
    }
   ],
   "source": [
    "print('Отбросив старые данные, было потеряно',len(data['device_id'].unique())-len(data_fltrd['device_id'].unique()),' уникальных пользователей')"
   ]
  },
  {
   "cell_type": "code",
   "execution_count": 37,
   "metadata": {},
   "outputs": [
    {
     "name": "stdout",
     "output_type": "stream",
     "text": [
      "По итогу мы имеем:\n",
      "Всего событий: 240887\n",
      "Всего пользователей: 7534\n",
      "В среднем событий на одного пользователя до фильтрации: 5\n",
      "В среднем событий на одного пользователя после фильтрации: 6\n",
      "Кол-во событий в группе 246: 79302\n",
      "Кол-во событий в группе 247: 77022\n",
      "Кол-во событий в группе 248: 84563\n"
     ]
    }
   ],
   "source": [
    "print('По итогу мы имеем:')\n",
    "\n",
    "print('Всего событий: {}'.format(len(data_fltrd)))\n",
    "print('Всего пользователей: {}'.format(len(data_fltrd['device_id'].unique())))\n",
    "print('В среднем событий на одного пользователя до фильтрации: {}'.format(data.groupby('device_id')['e_name'].count().mode()[0]))\n",
    "print('В среднем событий на одного пользователя после фильтрации: {}'.format(data_fltrd.groupby('device_id')['e_name'].count().mode()[0]))\n",
    "for group in data_fltrd['group'].unique():\n",
    "    print('Кол-во событий в группе {}: {}'.format(group , len(data_fltrd[data_fltrd['group']==group])))"
   ]
  },
  {
   "cell_type": "code",
   "execution_count": 38,
   "metadata": {},
   "outputs": [
    {
     "data": {
      "text/html": [
       "<div>\n",
       "<style scoped>\n",
       "    .dataframe tbody tr th:only-of-type {\n",
       "        vertical-align: middle;\n",
       "    }\n",
       "\n",
       "    .dataframe tbody tr th {\n",
       "        vertical-align: top;\n",
       "    }\n",
       "\n",
       "    .dataframe thead th {\n",
       "        text-align: right;\n",
       "    }\n",
       "</style>\n",
       "<table border=\"1\" class=\"dataframe\">\n",
       "  <thead>\n",
       "    <tr style=\"text-align: right;\">\n",
       "      <th></th>\n",
       "      <th>device_id</th>\n",
       "    </tr>\n",
       "    <tr>\n",
       "      <th>group</th>\n",
       "      <th></th>\n",
       "    </tr>\n",
       "  </thead>\n",
       "  <tbody>\n",
       "    <tr>\n",
       "      <th>246</th>\n",
       "      <td>2484</td>\n",
       "    </tr>\n",
       "    <tr>\n",
       "      <th>247</th>\n",
       "      <td>2513</td>\n",
       "    </tr>\n",
       "    <tr>\n",
       "      <th>248</th>\n",
       "      <td>2537</td>\n",
       "    </tr>\n",
       "  </tbody>\n",
       "</table>\n",
       "</div>"
      ],
      "text/plain": [
       "       device_id\n",
       "group           \n",
       "246         2484\n",
       "247         2513\n",
       "248         2537"
      ]
     },
     "execution_count": 38,
     "metadata": {},
     "output_type": "execute_result"
    }
   ],
   "source": [
    "#Также посчитаем уникальных пользователей в каждой группе\n",
    "data_fltrd.groupby('group').agg({'device_id': 'nunique'})"
   ]
  },
  {
   "cell_type": "markdown",
   "metadata": {},
   "source": [
    "## Воронка пользователей"
   ]
  },
  {
   "cell_type": "code",
   "execution_count": 39,
   "metadata": {
    "scrolled": true
   },
   "outputs": [
    {
     "data": {
      "text/html": [
       "<div>\n",
       "<style scoped>\n",
       "    .dataframe tbody tr th:only-of-type {\n",
       "        vertical-align: middle;\n",
       "    }\n",
       "\n",
       "    .dataframe tbody tr th {\n",
       "        vertical-align: top;\n",
       "    }\n",
       "\n",
       "    .dataframe thead th {\n",
       "        text-align: right;\n",
       "    }\n",
       "</style>\n",
       "<table border=\"1\" class=\"dataframe\">\n",
       "  <thead>\n",
       "    <tr style=\"text-align: right;\">\n",
       "      <th></th>\n",
       "      <th>events</th>\n",
       "      <th>users</th>\n",
       "    </tr>\n",
       "    <tr>\n",
       "      <th>e_name</th>\n",
       "      <th></th>\n",
       "      <th></th>\n",
       "    </tr>\n",
       "  </thead>\n",
       "  <tbody>\n",
       "    <tr>\n",
       "      <th>MainScreenAppear</th>\n",
       "      <td>117328</td>\n",
       "      <td>7419</td>\n",
       "    </tr>\n",
       "    <tr>\n",
       "      <th>OffersScreenAppear</th>\n",
       "      <td>46333</td>\n",
       "      <td>4593</td>\n",
       "    </tr>\n",
       "    <tr>\n",
       "      <th>CartScreenAppear</th>\n",
       "      <td>42303</td>\n",
       "      <td>3734</td>\n",
       "    </tr>\n",
       "    <tr>\n",
       "      <th>PaymentScreenSuccessful</th>\n",
       "      <td>33918</td>\n",
       "      <td>3539</td>\n",
       "    </tr>\n",
       "    <tr>\n",
       "      <th>Tutorial</th>\n",
       "      <td>1005</td>\n",
       "      <td>840</td>\n",
       "    </tr>\n",
       "  </tbody>\n",
       "</table>\n",
       "</div>"
      ],
      "text/plain": [
       "                         events  users\n",
       "e_name                                \n",
       "MainScreenAppear         117328   7419\n",
       "OffersScreenAppear        46333   4593\n",
       "CartScreenAppear          42303   3734\n",
       "PaymentScreenSuccessful   33918   3539\n",
       "Tutorial                   1005    840"
      ]
     },
     "execution_count": 39,
     "metadata": {},
     "output_type": "execute_result"
    }
   ],
   "source": [
    "#Посмотрим, какие события встречаются в данных, проанализируем их частоту\n",
    "events = data_fltrd.pivot_table(index='e_name', values={'device_id', 'date'}, aggfunc={'device_id':'nunique', 'date':'count'}).sort_values(by='device_id', ascending=False)\n",
    "events.columns = ['events','users']\n",
    "events"
   ]
  },
  {
   "cell_type": "markdown",
   "metadata": {},
   "source": [
    "Самым частым является посещение главной страницы, как в целом, так и если посмотреть на уникальное данное событие"
   ]
  },
  {
   "cell_type": "code",
   "execution_count": 40,
   "metadata": {},
   "outputs": [
    {
     "data": {
      "text/html": [
       "<div>\n",
       "<style scoped>\n",
       "    .dataframe tbody tr th:only-of-type {\n",
       "        vertical-align: middle;\n",
       "    }\n",
       "\n",
       "    .dataframe tbody tr th {\n",
       "        vertical-align: top;\n",
       "    }\n",
       "\n",
       "    .dataframe thead th {\n",
       "        text-align: right;\n",
       "    }\n",
       "</style>\n",
       "<table border=\"1\" class=\"dataframe\">\n",
       "  <thead>\n",
       "    <tr style=\"text-align: right;\">\n",
       "      <th></th>\n",
       "      <th>events</th>\n",
       "      <th>users</th>\n",
       "      <th>change_in_users</th>\n",
       "    </tr>\n",
       "    <tr>\n",
       "      <th>e_name</th>\n",
       "      <th></th>\n",
       "      <th></th>\n",
       "      <th></th>\n",
       "    </tr>\n",
       "  </thead>\n",
       "  <tbody>\n",
       "    <tr>\n",
       "      <th>MainScreenAppear</th>\n",
       "      <td>117328</td>\n",
       "      <td>7419</td>\n",
       "      <td>98.25</td>\n",
       "    </tr>\n",
       "    <tr>\n",
       "      <th>OffersScreenAppear</th>\n",
       "      <td>46333</td>\n",
       "      <td>4593</td>\n",
       "      <td>60.83</td>\n",
       "    </tr>\n",
       "    <tr>\n",
       "      <th>CartScreenAppear</th>\n",
       "      <td>42303</td>\n",
       "      <td>3734</td>\n",
       "      <td>49.45</td>\n",
       "    </tr>\n",
       "    <tr>\n",
       "      <th>PaymentScreenSuccessful</th>\n",
       "      <td>33918</td>\n",
       "      <td>3539</td>\n",
       "      <td>46.87</td>\n",
       "    </tr>\n",
       "    <tr>\n",
       "      <th>Tutorial</th>\n",
       "      <td>1005</td>\n",
       "      <td>840</td>\n",
       "      <td>11.12</td>\n",
       "    </tr>\n",
       "  </tbody>\n",
       "</table>\n",
       "</div>"
      ],
      "text/plain": [
       "                         events  users  change_in_users\n",
       "e_name                                                 \n",
       "MainScreenAppear         117328   7419            98.25\n",
       "OffersScreenAppear        46333   4593            60.83\n",
       "CartScreenAppear          42303   3734            49.45\n",
       "PaymentScreenSuccessful   33918   3539            46.87\n",
       "Tutorial                   1005    840            11.12"
      ]
     },
     "execution_count": 40,
     "metadata": {},
     "output_type": "execute_result"
    }
   ],
   "source": [
    "users_per_event = (\n",
    "    data_fltrd\n",
    "    .pivot_table(index='e_name', values='device_id', aggfunc=lambda x: x.nunique())\n",
    "    .sort_values('device_id', ascending=False)\n",
    ")\n",
    "events['change_in_users'] = round(users_per_event / len(data['device_id'].unique()) *100, 2)\n",
    "events"
   ]
  },
  {
   "cell_type": "markdown",
   "metadata": {},
   "source": [
    "Выше мы посчитали долю пользователей, которые совершали каждое событие.\n",
    "\n",
    "Предположим, что события идут как раз в порядке сортировки в таблице выше, то есть сначала покупатель смотрит главный экран, потом предложения, потом корзину и далее оплата. К этапу с обучением каждый пользователь может приходить в необходимый ему момент, к тому же крайне мало покупателей прибегают к нему, так что мы уберем данные по нему из дальнейшего анализа.  "
   ]
  },
  {
   "cell_type": "code",
   "execution_count": 41,
   "metadata": {},
   "outputs": [
    {
     "name": "stdout",
     "output_type": "stream",
     "text": [
      "<class 'pandas.core.frame.DataFrame'>\n",
      "Int64Index: 1005 entries, 2826 to 243129\n",
      "Data columns (total 6 columns):\n",
      " #   Column      Non-Null Count  Dtype         \n",
      "---  ------      --------------  -----         \n",
      " 0   e_name      1005 non-null   object        \n",
      " 1   device_id   1005 non-null   int64         \n",
      " 2   event_date  1005 non-null   int64         \n",
      " 3   group       1005 non-null   int64         \n",
      " 4   dt          1005 non-null   datetime64[ns]\n",
      " 5   date        1005 non-null   datetime64[ns]\n",
      "dtypes: datetime64[ns](2), int64(3), object(1)\n",
      "memory usage: 55.0+ KB\n"
     ]
    }
   ],
   "source": [
    "tutorial = data_fltrd.query('e_name == \"Tutorial\"')\n",
    "tutorial.info()"
   ]
  },
  {
   "cell_type": "code",
   "execution_count": 42,
   "metadata": {},
   "outputs": [
    {
     "name": "stdout",
     "output_type": "stream",
     "text": [
      "Данные по просмотру обучения составляют всего 0.42 ,что меньше даже 1%\n"
     ]
    }
   ],
   "source": [
    "print('Данные по просмотру обучения составляют всего', round(len(tutorial)/len(data_fltrd) *100,2), ',что меньше даже 1%')"
   ]
  },
  {
   "cell_type": "code",
   "execution_count": 43,
   "metadata": {},
   "outputs": [
    {
     "data": {
      "text/html": [
       "<div>\n",
       "<style scoped>\n",
       "    .dataframe tbody tr th:only-of-type {\n",
       "        vertical-align: middle;\n",
       "    }\n",
       "\n",
       "    .dataframe tbody tr th {\n",
       "        vertical-align: top;\n",
       "    }\n",
       "\n",
       "    .dataframe thead th {\n",
       "        text-align: right;\n",
       "    }\n",
       "</style>\n",
       "<table border=\"1\" class=\"dataframe\">\n",
       "  <thead>\n",
       "    <tr style=\"text-align: right;\">\n",
       "      <th></th>\n",
       "      <th>e_name</th>\n",
       "      <th>device_id</th>\n",
       "      <th>event_date</th>\n",
       "      <th>group</th>\n",
       "      <th>dt</th>\n",
       "      <th>date</th>\n",
       "    </tr>\n",
       "  </thead>\n",
       "  <tbody>\n",
       "    <tr>\n",
       "      <th>2827</th>\n",
       "      <td>MainScreenAppear</td>\n",
       "      <td>3737462046622621720</td>\n",
       "      <td>1564618080</td>\n",
       "      <td>246</td>\n",
       "      <td>2019-08-01 00:08:00</td>\n",
       "      <td>2019-08-01</td>\n",
       "    </tr>\n",
       "    <tr>\n",
       "      <th>2828</th>\n",
       "      <td>MainScreenAppear</td>\n",
       "      <td>3737462046622621720</td>\n",
       "      <td>1564618135</td>\n",
       "      <td>246</td>\n",
       "      <td>2019-08-01 00:08:55</td>\n",
       "      <td>2019-08-01</td>\n",
       "    </tr>\n",
       "    <tr>\n",
       "      <th>2829</th>\n",
       "      <td>OffersScreenAppear</td>\n",
       "      <td>3737462046622621720</td>\n",
       "      <td>1564618138</td>\n",
       "      <td>246</td>\n",
       "      <td>2019-08-01 00:08:58</td>\n",
       "      <td>2019-08-01</td>\n",
       "    </tr>\n",
       "    <tr>\n",
       "      <th>2830</th>\n",
       "      <td>MainScreenAppear</td>\n",
       "      <td>1433840883824088890</td>\n",
       "      <td>1564618139</td>\n",
       "      <td>247</td>\n",
       "      <td>2019-08-01 00:08:59</td>\n",
       "      <td>2019-08-01</td>\n",
       "    </tr>\n",
       "    <tr>\n",
       "      <th>2831</th>\n",
       "      <td>MainScreenAppear</td>\n",
       "      <td>4899590676214355127</td>\n",
       "      <td>1564618215</td>\n",
       "      <td>247</td>\n",
       "      <td>2019-08-01 00:10:15</td>\n",
       "      <td>2019-08-01</td>\n",
       "    </tr>\n",
       "    <tr>\n",
       "      <th>...</th>\n",
       "      <td>...</td>\n",
       "      <td>...</td>\n",
       "      <td>...</td>\n",
       "      <td>...</td>\n",
       "      <td>...</td>\n",
       "      <td>...</td>\n",
       "    </tr>\n",
       "    <tr>\n",
       "      <th>243708</th>\n",
       "      <td>MainScreenAppear</td>\n",
       "      <td>4599628364049201812</td>\n",
       "      <td>1565212345</td>\n",
       "      <td>247</td>\n",
       "      <td>2019-08-07 21:12:25</td>\n",
       "      <td>2019-08-07</td>\n",
       "    </tr>\n",
       "    <tr>\n",
       "      <th>243709</th>\n",
       "      <td>MainScreenAppear</td>\n",
       "      <td>5849806612437486590</td>\n",
       "      <td>1565212439</td>\n",
       "      <td>246</td>\n",
       "      <td>2019-08-07 21:13:59</td>\n",
       "      <td>2019-08-07</td>\n",
       "    </tr>\n",
       "    <tr>\n",
       "      <th>243710</th>\n",
       "      <td>MainScreenAppear</td>\n",
       "      <td>5746969938801999050</td>\n",
       "      <td>1565212483</td>\n",
       "      <td>246</td>\n",
       "      <td>2019-08-07 21:14:43</td>\n",
       "      <td>2019-08-07</td>\n",
       "    </tr>\n",
       "    <tr>\n",
       "      <th>243711</th>\n",
       "      <td>MainScreenAppear</td>\n",
       "      <td>5746969938801999050</td>\n",
       "      <td>1565212498</td>\n",
       "      <td>246</td>\n",
       "      <td>2019-08-07 21:14:58</td>\n",
       "      <td>2019-08-07</td>\n",
       "    </tr>\n",
       "    <tr>\n",
       "      <th>243712</th>\n",
       "      <td>OffersScreenAppear</td>\n",
       "      <td>5746969938801999050</td>\n",
       "      <td>1565212517</td>\n",
       "      <td>246</td>\n",
       "      <td>2019-08-07 21:15:17</td>\n",
       "      <td>2019-08-07</td>\n",
       "    </tr>\n",
       "  </tbody>\n",
       "</table>\n",
       "<p>239882 rows × 6 columns</p>\n",
       "</div>"
      ],
      "text/plain": [
       "                    e_name            device_id  event_date  group  \\\n",
       "2827      MainScreenAppear  3737462046622621720  1564618080    246   \n",
       "2828      MainScreenAppear  3737462046622621720  1564618135    246   \n",
       "2829    OffersScreenAppear  3737462046622621720  1564618138    246   \n",
       "2830      MainScreenAppear  1433840883824088890  1564618139    247   \n",
       "2831      MainScreenAppear  4899590676214355127  1564618215    247   \n",
       "...                    ...                  ...         ...    ...   \n",
       "243708    MainScreenAppear  4599628364049201812  1565212345    247   \n",
       "243709    MainScreenAppear  5849806612437486590  1565212439    246   \n",
       "243710    MainScreenAppear  5746969938801999050  1565212483    246   \n",
       "243711    MainScreenAppear  5746969938801999050  1565212498    246   \n",
       "243712  OffersScreenAppear  5746969938801999050  1565212517    246   \n",
       "\n",
       "                        dt       date  \n",
       "2827   2019-08-01 00:08:00 2019-08-01  \n",
       "2828   2019-08-01 00:08:55 2019-08-01  \n",
       "2829   2019-08-01 00:08:58 2019-08-01  \n",
       "2830   2019-08-01 00:08:59 2019-08-01  \n",
       "2831   2019-08-01 00:10:15 2019-08-01  \n",
       "...                    ...        ...  \n",
       "243708 2019-08-07 21:12:25 2019-08-07  \n",
       "243709 2019-08-07 21:13:59 2019-08-07  \n",
       "243710 2019-08-07 21:14:43 2019-08-07  \n",
       "243711 2019-08-07 21:14:58 2019-08-07  \n",
       "243712 2019-08-07 21:15:17 2019-08-07  \n",
       "\n",
       "[239882 rows x 6 columns]"
      ]
     },
     "execution_count": 43,
     "metadata": {},
     "output_type": "execute_result"
    }
   ],
   "source": [
    "#уберем данные по просмотру обучения\n",
    "data_fltrd = data_fltrd.query('e_name!=\"Tutorial\"')\n",
    "data_fltrd"
   ]
  },
  {
   "cell_type": "code",
   "execution_count": 44,
   "metadata": {},
   "outputs": [
    {
     "data": {
      "text/html": [
       "<div>\n",
       "<style scoped>\n",
       "    .dataframe tbody tr th:only-of-type {\n",
       "        vertical-align: middle;\n",
       "    }\n",
       "\n",
       "    .dataframe tbody tr th {\n",
       "        vertical-align: top;\n",
       "    }\n",
       "\n",
       "    .dataframe thead th {\n",
       "        text-align: right;\n",
       "    }\n",
       "</style>\n",
       "<table border=\"1\" class=\"dataframe\">\n",
       "  <thead>\n",
       "    <tr style=\"text-align: right;\">\n",
       "      <th></th>\n",
       "      <th>e_name</th>\n",
       "      <th>events</th>\n",
       "      <th>users</th>\n",
       "      <th>change_in_users</th>\n",
       "    </tr>\n",
       "  </thead>\n",
       "  <tbody>\n",
       "    <tr>\n",
       "      <th>0</th>\n",
       "      <td>MainScreenAppear</td>\n",
       "      <td>117328</td>\n",
       "      <td>7419</td>\n",
       "      <td>98.25</td>\n",
       "    </tr>\n",
       "    <tr>\n",
       "      <th>1</th>\n",
       "      <td>OffersScreenAppear</td>\n",
       "      <td>46333</td>\n",
       "      <td>4593</td>\n",
       "      <td>60.83</td>\n",
       "    </tr>\n",
       "    <tr>\n",
       "      <th>2</th>\n",
       "      <td>CartScreenAppear</td>\n",
       "      <td>42303</td>\n",
       "      <td>3734</td>\n",
       "      <td>49.45</td>\n",
       "    </tr>\n",
       "    <tr>\n",
       "      <th>3</th>\n",
       "      <td>PaymentScreenSuccessful</td>\n",
       "      <td>33918</td>\n",
       "      <td>3539</td>\n",
       "      <td>46.87</td>\n",
       "    </tr>\n",
       "    <tr>\n",
       "      <th>4</th>\n",
       "      <td>Tutorial</td>\n",
       "      <td>1005</td>\n",
       "      <td>840</td>\n",
       "      <td>11.12</td>\n",
       "    </tr>\n",
       "  </tbody>\n",
       "</table>\n",
       "</div>"
      ],
      "text/plain": [
       "                    e_name  events  users  change_in_users\n",
       "0         MainScreenAppear  117328   7419            98.25\n",
       "1       OffersScreenAppear   46333   4593            60.83\n",
       "2         CartScreenAppear   42303   3734            49.45\n",
       "3  PaymentScreenSuccessful   33918   3539            46.87\n",
       "4                 Tutorial    1005    840            11.12"
      ]
     },
     "execution_count": 44,
     "metadata": {},
     "output_type": "execute_result"
    }
   ],
   "source": [
    "events.reset_index()"
   ]
  },
  {
   "cell_type": "code",
   "execution_count": 45,
   "metadata": {},
   "outputs": [],
   "source": [
    "events['change'] = events['users'].pct_change() + 1\n",
    "events['change'] = round(events['change']*100,2)                    \n",
    "events = events.fillna(100)"
   ]
  },
  {
   "cell_type": "code",
   "execution_count": 46,
   "metadata": {},
   "outputs": [
    {
     "data": {
      "text/html": [
       "<div>\n",
       "<style scoped>\n",
       "    .dataframe tbody tr th:only-of-type {\n",
       "        vertical-align: middle;\n",
       "    }\n",
       "\n",
       "    .dataframe tbody tr th {\n",
       "        vertical-align: top;\n",
       "    }\n",
       "\n",
       "    .dataframe thead th {\n",
       "        text-align: right;\n",
       "    }\n",
       "</style>\n",
       "<table border=\"1\" class=\"dataframe\">\n",
       "  <thead>\n",
       "    <tr style=\"text-align: right;\">\n",
       "      <th></th>\n",
       "      <th>events</th>\n",
       "      <th>users</th>\n",
       "      <th>change_in_users</th>\n",
       "      <th>change</th>\n",
       "    </tr>\n",
       "    <tr>\n",
       "      <th>e_name</th>\n",
       "      <th></th>\n",
       "      <th></th>\n",
       "      <th></th>\n",
       "      <th></th>\n",
       "    </tr>\n",
       "  </thead>\n",
       "  <tbody>\n",
       "    <tr>\n",
       "      <th>MainScreenAppear</th>\n",
       "      <td>117328</td>\n",
       "      <td>7419</td>\n",
       "      <td>98.25</td>\n",
       "      <td>100.00</td>\n",
       "    </tr>\n",
       "    <tr>\n",
       "      <th>OffersScreenAppear</th>\n",
       "      <td>46333</td>\n",
       "      <td>4593</td>\n",
       "      <td>60.83</td>\n",
       "      <td>61.91</td>\n",
       "    </tr>\n",
       "    <tr>\n",
       "      <th>CartScreenAppear</th>\n",
       "      <td>42303</td>\n",
       "      <td>3734</td>\n",
       "      <td>49.45</td>\n",
       "      <td>81.30</td>\n",
       "    </tr>\n",
       "    <tr>\n",
       "      <th>PaymentScreenSuccessful</th>\n",
       "      <td>33918</td>\n",
       "      <td>3539</td>\n",
       "      <td>46.87</td>\n",
       "      <td>94.78</td>\n",
       "    </tr>\n",
       "    <tr>\n",
       "      <th>Tutorial</th>\n",
       "      <td>1005</td>\n",
       "      <td>840</td>\n",
       "      <td>11.12</td>\n",
       "      <td>23.74</td>\n",
       "    </tr>\n",
       "  </tbody>\n",
       "</table>\n",
       "</div>"
      ],
      "text/plain": [
       "                         events  users  change_in_users  change\n",
       "e_name                                                         \n",
       "MainScreenAppear         117328   7419            98.25  100.00\n",
       "OffersScreenAppear        46333   4593            60.83   61.91\n",
       "CartScreenAppear          42303   3734            49.45   81.30\n",
       "PaymentScreenSuccessful   33918   3539            46.87   94.78\n",
       "Tutorial                   1005    840            11.12   23.74"
      ]
     },
     "execution_count": 46,
     "metadata": {},
     "output_type": "execute_result"
    }
   ],
   "source": [
    "events"
   ]
  },
  {
   "cell_type": "markdown",
   "metadata": {},
   "source": [
    "Мы посчитали долю пользователей, которая переходит на следующий этап.\n",
    "\n",
    "На основании этих данных, можно сделать вывод, что больше всего пользователей теряется на первом этапе - переходе с главной страницы на страницу с предложениями."
   ]
  },
  {
   "cell_type": "code",
   "execution_count": 49,
   "metadata": {},
   "outputs": [],
   "source": [
    "MainScreen = events.query('e_name == \"MainScreenAppear\"')\n",
    "PaymentScreen = events.query('e_name == \"PaymentScreenSuccessful\"')"
   ]
  },
  {
   "cell_type": "code",
   "execution_count": 51,
   "metadata": {},
   "outputs": [
    {
     "name": "stdout",
     "output_type": "stream",
     "text": [
      "Доля пользователей, которая доходит с главного экрана до оплаты: 47.7\n"
     ]
    }
   ],
   "source": [
    "print('Доля пользователей, которая доходит с главного экрана до оплаты:', round(events.loc['PaymentScreenSuccessful', 'users']/events.loc['MainScreenAppear', 'users'] * 100, 2))"
   ]
  },
  {
   "cell_type": "markdown",
   "metadata": {},
   "source": [
    "## Изучение результатов эксперимента"
   ]
  },
  {
   "cell_type": "code",
   "execution_count": 52,
   "metadata": {},
   "outputs": [
    {
     "data": {
      "text/html": [
       "<div>\n",
       "<style scoped>\n",
       "    .dataframe tbody tr th:only-of-type {\n",
       "        vertical-align: middle;\n",
       "    }\n",
       "\n",
       "    .dataframe tbody tr th {\n",
       "        vertical-align: top;\n",
       "    }\n",
       "\n",
       "    .dataframe thead th {\n",
       "        text-align: right;\n",
       "    }\n",
       "</style>\n",
       "<table border=\"1\" class=\"dataframe\">\n",
       "  <thead>\n",
       "    <tr style=\"text-align: right;\">\n",
       "      <th></th>\n",
       "      <th>246</th>\n",
       "      <th>247</th>\n",
       "      <th>248</th>\n",
       "    </tr>\n",
       "  </thead>\n",
       "  <tbody>\n",
       "    <tr>\n",
       "      <th>device_id</th>\n",
       "      <td>2483</td>\n",
       "      <td>2512</td>\n",
       "      <td>2535</td>\n",
       "    </tr>\n",
       "  </tbody>\n",
       "</table>\n",
       "</div>"
      ],
      "text/plain": [
       "            246   247   248\n",
       "device_id  2483  2512  2535"
      ]
     },
     "execution_count": 52,
     "metadata": {},
     "output_type": "execute_result"
    }
   ],
   "source": [
    "#Кол-во уникальных пользователей в каждой группе после всех чисток\n",
    "event_group = data_fltrd.pivot_table(index='group', values='device_id', aggfunc='nunique')\n",
    "\n",
    "event_group = event_group.T\n",
    "event_group.columns = ['246', '247', '248']\n",
    "\n",
    "event_group"
   ]
  },
  {
   "cell_type": "code",
   "execution_count": 53,
   "metadata": {},
   "outputs": [],
   "source": [
    "event_parts_per_groups = data_fltrd.pivot_table(index='e_name', values='device_id', columns='group', aggfunc='nunique')"
   ]
  },
  {
   "cell_type": "code",
   "execution_count": 54,
   "metadata": {},
   "outputs": [],
   "source": [
    "event_parts_per_groups.columns = ['246', '247', '248']"
   ]
  },
  {
   "cell_type": "code",
   "execution_count": 55,
   "metadata": {},
   "outputs": [
    {
     "data": {
      "text/html": [
       "<div>\n",
       "<style scoped>\n",
       "    .dataframe tbody tr th:only-of-type {\n",
       "        vertical-align: middle;\n",
       "    }\n",
       "\n",
       "    .dataframe tbody tr th {\n",
       "        vertical-align: top;\n",
       "    }\n",
       "\n",
       "    .dataframe thead th {\n",
       "        text-align: right;\n",
       "    }\n",
       "</style>\n",
       "<table border=\"1\" class=\"dataframe\">\n",
       "  <thead>\n",
       "    <tr style=\"text-align: right;\">\n",
       "      <th></th>\n",
       "      <th>246</th>\n",
       "      <th>247</th>\n",
       "      <th>248</th>\n",
       "    </tr>\n",
       "    <tr>\n",
       "      <th>e_name</th>\n",
       "      <th></th>\n",
       "      <th></th>\n",
       "      <th></th>\n",
       "    </tr>\n",
       "  </thead>\n",
       "  <tbody>\n",
       "    <tr>\n",
       "      <th>MainScreenAppear</th>\n",
       "      <td>2450</td>\n",
       "      <td>2476</td>\n",
       "      <td>2493</td>\n",
       "    </tr>\n",
       "    <tr>\n",
       "      <th>OffersScreenAppear</th>\n",
       "      <td>1542</td>\n",
       "      <td>1520</td>\n",
       "      <td>1531</td>\n",
       "    </tr>\n",
       "    <tr>\n",
       "      <th>CartScreenAppear</th>\n",
       "      <td>1266</td>\n",
       "      <td>1238</td>\n",
       "      <td>1230</td>\n",
       "    </tr>\n",
       "    <tr>\n",
       "      <th>PaymentScreenSuccessful</th>\n",
       "      <td>1200</td>\n",
       "      <td>1158</td>\n",
       "      <td>1181</td>\n",
       "    </tr>\n",
       "  </tbody>\n",
       "</table>\n",
       "</div>"
      ],
      "text/plain": [
       "                          246   247   248\n",
       "e_name                                   \n",
       "MainScreenAppear         2450  2476  2493\n",
       "OffersScreenAppear       1542  1520  1531\n",
       "CartScreenAppear         1266  1238  1230\n",
       "PaymentScreenSuccessful  1200  1158  1181"
      ]
     },
     "execution_count": 55,
     "metadata": {},
     "output_type": "execute_result"
    }
   ],
   "source": [
    "#рассмотрим отдельно события для каждой группы \n",
    "event_parts_per_groups = event_parts_per_groups.sort_values(by='246', ascending=False)\n",
    "event_parts_per_groups"
   ]
  },
  {
   "cell_type": "code",
   "execution_count": 56,
   "metadata": {},
   "outputs": [],
   "source": [
    "event_parts_per_groups['246+247'] = event_parts_per_groups['246'] + event_parts_per_groups['247']"
   ]
  },
  {
   "cell_type": "code",
   "execution_count": 57,
   "metadata": {},
   "outputs": [],
   "source": [
    "event_parts_per_groups['e_name'] = event_parts_per_groups.index"
   ]
  },
  {
   "cell_type": "code",
   "execution_count": 58,
   "metadata": {},
   "outputs": [],
   "source": [
    "#создадим функцию для подсчета значимости статистических критериев разницы между выборками \n",
    "def hypothesis (success_1, success_2, trials_1, trials_2, alpha):\n",
    "    \n",
    "    p1 = success_1/trials_1\n",
    "    \n",
    "    p2 = success_2/trials_2\n",
    "    \n",
    "    p_comb = (success_1+success_2)/(trials_1+trials_2)\n",
    "    \n",
    "    diff = p1 - p2\n",
    "    \n",
    "    z_value = diff / mth.sqrt(p_comb * (1 - p_comb) * (1/trials_1 + 1/trials_2))\n",
    "    \n",
    "    distr = st.norm(0, 1) \n",
    "    \n",
    "    p_value = (1 - distr.cdf(abs(z_value))) * 2\n",
    "    \n",
    "    print('p-значение: ', p_value)\n",
    "    \n",
    "    if p_value < alpha: print('Отвергаем нулевую гипотезу: между долями есть значимая разница') \n",
    "    \n",
    "    else: print( 'Не получилось отвергнуть нулевую гипотезу, нет оснований считать доли разными' )\n",
    "\n",
    "for i in event_parts_per_groups['e_name']:\n",
    "    success_1 = event_parts_per_groups[event_parts_per_groups['e_name']==i]['246']\n",
    "    success_2 = event_parts_per_groups[event_parts_per_groups['e_name']==i]['247']\n",
    "    success_3 = event_parts_per_groups[event_parts_per_groups['e_name']==i]['248']\n",
    "    success_4 = event_parts_per_groups[event_parts_per_groups['e_name']==i]['246+247']\n",
    "\n",
    "trials_1 = event_group.loc['device_id', '246']\n",
    "trials_2 = event_group.loc['device_id', '247']\n",
    "trials_3 = event_group.loc['device_id', '248']\n",
    "trials_4 = trials_1 + trials_2\n",
    "alpha = 0.05"
   ]
  },
  {
   "cell_type": "code",
   "execution_count": 59,
   "metadata": {},
   "outputs": [
    {
     "data": {
      "text/html": [
       "<div>\n",
       "<style scoped>\n",
       "    .dataframe tbody tr th:only-of-type {\n",
       "        vertical-align: middle;\n",
       "    }\n",
       "\n",
       "    .dataframe tbody tr th {\n",
       "        vertical-align: top;\n",
       "    }\n",
       "\n",
       "    .dataframe thead th {\n",
       "        text-align: right;\n",
       "    }\n",
       "</style>\n",
       "<table border=\"1\" class=\"dataframe\">\n",
       "  <thead>\n",
       "    <tr style=\"text-align: right;\">\n",
       "      <th></th>\n",
       "      <th>246</th>\n",
       "      <th>247</th>\n",
       "      <th>248</th>\n",
       "      <th>246+247</th>\n",
       "      <th>e_name</th>\n",
       "      <th>total</th>\n",
       "    </tr>\n",
       "    <tr>\n",
       "      <th>e_name</th>\n",
       "      <th></th>\n",
       "      <th></th>\n",
       "      <th></th>\n",
       "      <th></th>\n",
       "      <th></th>\n",
       "      <th></th>\n",
       "    </tr>\n",
       "  </thead>\n",
       "  <tbody>\n",
       "    <tr>\n",
       "      <th>MainScreenAppear</th>\n",
       "      <td>2450</td>\n",
       "      <td>2476</td>\n",
       "      <td>2493</td>\n",
       "      <td>4926</td>\n",
       "      <td>MainScreenAppear</td>\n",
       "      <td>7419</td>\n",
       "    </tr>\n",
       "    <tr>\n",
       "      <th>OffersScreenAppear</th>\n",
       "      <td>1542</td>\n",
       "      <td>1520</td>\n",
       "      <td>1531</td>\n",
       "      <td>3062</td>\n",
       "      <td>OffersScreenAppear</td>\n",
       "      <td>4593</td>\n",
       "    </tr>\n",
       "    <tr>\n",
       "      <th>CartScreenAppear</th>\n",
       "      <td>1266</td>\n",
       "      <td>1238</td>\n",
       "      <td>1230</td>\n",
       "      <td>2504</td>\n",
       "      <td>CartScreenAppear</td>\n",
       "      <td>3734</td>\n",
       "    </tr>\n",
       "    <tr>\n",
       "      <th>PaymentScreenSuccessful</th>\n",
       "      <td>1200</td>\n",
       "      <td>1158</td>\n",
       "      <td>1181</td>\n",
       "      <td>2358</td>\n",
       "      <td>PaymentScreenSuccessful</td>\n",
       "      <td>3539</td>\n",
       "    </tr>\n",
       "  </tbody>\n",
       "</table>\n",
       "</div>"
      ],
      "text/plain": [
       "                          246   247   248  246+247                   e_name  \\\n",
       "e_name                                                                        \n",
       "MainScreenAppear         2450  2476  2493     4926         MainScreenAppear   \n",
       "OffersScreenAppear       1542  1520  1531     3062       OffersScreenAppear   \n",
       "CartScreenAppear         1266  1238  1230     2504         CartScreenAppear   \n",
       "PaymentScreenSuccessful  1200  1158  1181     2358  PaymentScreenSuccessful   \n",
       "\n",
       "                         total  \n",
       "e_name                          \n",
       "MainScreenAppear          7419  \n",
       "OffersScreenAppear        4593  \n",
       "CartScreenAppear          3734  \n",
       "PaymentScreenSuccessful   3539  "
      ]
     },
     "execution_count": 59,
     "metadata": {},
     "output_type": "execute_result"
    }
   ],
   "source": [
    "event_parts_per_groups['total'] = event_parts_per_groups['246+247']+event_parts_per_groups['248']\n",
    "event_parts_per_groups"
   ]
  },
  {
   "cell_type": "code",
   "execution_count": 60,
   "metadata": {},
   "outputs": [
    {
     "name": "stdout",
     "output_type": "stream",
     "text": [
      "2483\n"
     ]
    }
   ],
   "source": [
    "print(event_group.loc['device_id', '246'])"
   ]
  },
  {
   "cell_type": "markdown",
   "metadata": {},
   "source": [
    "Самым популярным событием является просмотр главной страницы.\n"
   ]
  },
  {
   "cell_type": "code",
   "execution_count": 61,
   "metadata": {},
   "outputs": [
    {
     "name": "stdout",
     "output_type": "stream",
     "text": [
      "Доля пользователей, посетивших главную страницу в 246 группе: 98.67\n",
      "Доля пользователей, посетивших главную страницу в 247 группе: 98.57\n",
      "Доля пользователей, посетивших главную страницу в 247 группе: 98.34\n"
     ]
    }
   ],
   "source": [
    "print('Доля пользователей, посетивших главную страницу в 246 группе:', round(event_parts_per_groups.loc['MainScreenAppear', '246']/event_group.loc['device_id', '246'] *100, 2))\n",
    "print('Доля пользователей, посетивших главную страницу в 247 группе:', round(event_parts_per_groups.loc['MainScreenAppear', '247']/event_group.loc['device_id', '247'] *100, 2))\n",
    "print('Доля пользователей, посетивших главную страницу в 247 группе:', round(event_parts_per_groups.loc['MainScreenAppear', '248']/event_group.loc['device_id', '248'] *100, 2))"
   ]
  },
  {
   "cell_type": "markdown",
   "metadata": {},
   "source": [
    "Для всех групп доля, посетивших главную страницу, больше 98%"
   ]
  },
  {
   "cell_type": "markdown",
   "metadata": {},
   "source": [
    "### Проверка гипотезы отдельно для события \"MainScreenAppear\""
   ]
  },
  {
   "cell_type": "code",
   "execution_count": 62,
   "metadata": {},
   "outputs": [
    {
     "name": "stdout",
     "output_type": "stream",
     "text": [
      "p-значение:  [0.75267034]\n",
      "Не получилось отвергнуть нулевую гипотезу, нет оснований считать доли разными\n"
     ]
    }
   ],
   "source": [
    "#проверка для групп 246 и 247\n",
    "success_1 = event_parts_per_groups[event_parts_per_groups['e_name']=='MainScreenAppear']['246']\n",
    "success_2 = event_parts_per_groups[event_parts_per_groups['e_name']=='MainScreenAppear']['247']\n",
    "hypothesis(success_1, success_2, trials_1, trials_2, 0.05)"
   ]
  },
  {
   "cell_type": "code",
   "execution_count": 63,
   "metadata": {},
   "outputs": [
    {
     "name": "stdout",
     "output_type": "stream",
     "text": [
      "p-значение:  [0.33871141]\n",
      "Не получилось отвергнуть нулевую гипотезу, нет оснований считать доли разными\n"
     ]
    }
   ],
   "source": [
    "#проверка для групп 246 и 248\n",
    "success_1 = event_parts_per_groups[event_parts_per_groups['e_name']=='MainScreenAppear']['246']\n",
    "success_3 = event_parts_per_groups[event_parts_per_groups['e_name']=='MainScreenAppear']['248']\n",
    "hypothesis(success_1, success_3, trials_1, trials_3, 0.05)"
   ]
  },
  {
   "cell_type": "code",
   "execution_count": 64,
   "metadata": {},
   "outputs": [
    {
     "name": "stdout",
     "output_type": "stream",
     "text": [
      "p-значение:  [0.51949644]\n",
      "Не получилось отвергнуть нулевую гипотезу, нет оснований считать доли разными\n"
     ]
    }
   ],
   "source": [
    "#проверка для групп 247 и 248\n",
    "success_2 = event_parts_per_groups[event_parts_per_groups['e_name']=='MainScreenAppear']['247']\n",
    "success_3 = event_parts_per_groups[event_parts_per_groups['e_name']=='MainScreenAppear']['248']\n",
    "hypothesis(success_2, success_3, trials_2, trials_3, 0.05)"
   ]
  },
  {
   "cell_type": "code",
   "execution_count": 65,
   "metadata": {},
   "outputs": [
    {
     "name": "stdout",
     "output_type": "stream",
     "text": [
      "p-значение:  [0.34866843]\n",
      "Не получилось отвергнуть нулевую гипотезу, нет оснований считать доли разными\n"
     ]
    }
   ],
   "source": [
    "#проверка для групп 246+247 и 248\n",
    "success_4 = event_parts_per_groups[event_parts_per_groups['e_name']=='MainScreenAppear']['246+247']\n",
    "success_3 = event_parts_per_groups[event_parts_per_groups['e_name']=='MainScreenAppear']['248']\n",
    "hypothesis(success_4, success_3, trials_4, trials_3, 0.05)"
   ]
  },
  {
   "cell_type": "markdown",
   "metadata": {},
   "source": [
    "### Проверка гипотезы отдельно для события \"OffersScreenAppear\""
   ]
  },
  {
   "cell_type": "code",
   "execution_count": 66,
   "metadata": {},
   "outputs": [
    {
     "name": "stdout",
     "output_type": "stream",
     "text": [
      "p-значение:  [0.24786097]\n",
      "Не получилось отвергнуть нулевую гипотезу, нет оснований считать доли разными\n"
     ]
    }
   ],
   "source": [
    "#проверка для групп 246 и 247\n",
    "success_1 = event_parts_per_groups[event_parts_per_groups['e_name']=='OffersScreenAppear']['246']\n",
    "success_2 = event_parts_per_groups[event_parts_per_groups['e_name']=='OffersScreenAppear']['247']\n",
    "hypothesis(success_1, success_2, trials_1, trials_2, 0.05)"
   ]
  },
  {
   "cell_type": "code",
   "execution_count": 67,
   "metadata": {},
   "outputs": [
    {
     "name": "stdout",
     "output_type": "stream",
     "text": [
      "p-значение:  [0.21442477]\n",
      "Не получилось отвергнуть нулевую гипотезу, нет оснований считать доли разными\n"
     ]
    }
   ],
   "source": [
    "#проверка для групп 246 и 248\n",
    "success_1 = event_parts_per_groups[event_parts_per_groups['e_name']=='OffersScreenAppear']['246']\n",
    "success_3 = event_parts_per_groups[event_parts_per_groups['e_name']=='OffersScreenAppear']['248']\n",
    "hypothesis(success_1, success_3, trials_1, trials_3, 0.05)"
   ]
  },
  {
   "cell_type": "code",
   "execution_count": 68,
   "metadata": {},
   "outputs": [
    {
     "name": "stdout",
     "output_type": "stream",
     "text": [
      "p-значение:  [0.93337513]\n",
      "Не получилось отвергнуть нулевую гипотезу, нет оснований считать доли разными\n"
     ]
    }
   ],
   "source": [
    "#проверка для групп 247 и 248\n",
    "success_2 = event_parts_per_groups[event_parts_per_groups['e_name']=='OffersScreenAppear']['247']\n",
    "success_3 = event_parts_per_groups[event_parts_per_groups['e_name']=='OffersScreenAppear']['248']\n",
    "hypothesis(success_2, success_3, trials_2, trials_3, 0.05)"
   ]
  },
  {
   "cell_type": "code",
   "execution_count": 69,
   "metadata": {},
   "outputs": [
    {
     "name": "stdout",
     "output_type": "stream",
     "text": [
      "p-значение:  [0.44582745]\n",
      "Не получилось отвергнуть нулевую гипотезу, нет оснований считать доли разными\n"
     ]
    }
   ],
   "source": [
    "#проверка для групп 246+247 и 248\n",
    "success_4 = event_parts_per_groups[event_parts_per_groups['e_name']=='OffersScreenAppear']['246+247']\n",
    "success_3 = event_parts_per_groups[event_parts_per_groups['e_name']=='OffersScreenAppear']['248']\n",
    "hypothesis(success_4, success_3, trials_4, trials_3, 0.05)"
   ]
  },
  {
   "cell_type": "markdown",
   "metadata": {},
   "source": [
    "### Проверка гипотезы отдельно для события \"CartScreenAppear\""
   ]
  },
  {
   "cell_type": "code",
   "execution_count": 70,
   "metadata": {},
   "outputs": [
    {
     "name": "stdout",
     "output_type": "stream",
     "text": [
      "p-значение:  [0.22867644]\n",
      "Не получилось отвергнуть нулевую гипотезу, нет оснований считать доли разными\n"
     ]
    }
   ],
   "source": [
    "#проверка для групп 246 и 247\n",
    "success_1 = event_parts_per_groups[event_parts_per_groups['e_name']=='CartScreenAppear']['246']\n",
    "success_2 = event_parts_per_groups[event_parts_per_groups['e_name']=='CartScreenAppear']['247']\n",
    "hypothesis(success_1, success_2, trials_1, trials_2, 0.05)"
   ]
  },
  {
   "cell_type": "code",
   "execution_count": 71,
   "metadata": {},
   "outputs": [
    {
     "name": "stdout",
     "output_type": "stream",
     "text": [
      "p-значение:  [0.08067368]\n",
      "Не получилось отвергнуть нулевую гипотезу, нет оснований считать доли разными\n"
     ]
    }
   ],
   "source": [
    "#проверка для групп 246 и 248\n",
    "success_1 = event_parts_per_groups[event_parts_per_groups['e_name']=='CartScreenAppear']['246']\n",
    "success_3 = event_parts_per_groups[event_parts_per_groups['e_name']=='CartScreenAppear']['248']\n",
    "hypothesis(success_1, success_3, trials_1, trials_3, 0.05)"
   ]
  },
  {
   "cell_type": "code",
   "execution_count": 84,
   "metadata": {},
   "outputs": [
    {
     "name": "stdout",
     "output_type": "stream",
     "text": [
      "p-значение:  [0.08067368]\n",
      "Не получилось отвергнуть нулевую гипотезу, нет оснований считать доли разными\n"
     ]
    }
   ],
   "source": [
    "#проверка для групп 246 и 248 при уровне значимости 0.1\n",
    "success_1 = event_parts_per_groups[event_parts_per_groups['e_name']=='CartScreenAppear']['246']\n",
    "success_3 = event_parts_per_groups[event_parts_per_groups['e_name']=='CartScreenAppear']['248']\n",
    "hypothesis(success_1, success_3, trials_1, trials_3, 0.05)"
   ]
  },
  {
   "cell_type": "code",
   "execution_count": 72,
   "metadata": {},
   "outputs": [
    {
     "name": "stdout",
     "output_type": "stream",
     "text": [
      "p-значение:  [0.58782846]\n",
      "Не получилось отвергнуть нулевую гипотезу, нет оснований считать доли разными\n"
     ]
    }
   ],
   "source": [
    "#проверка для групп 247 и 248\n",
    "success_2 = event_parts_per_groups[event_parts_per_groups['e_name']=='CartScreenAppear']['247']\n",
    "success_3 = event_parts_per_groups[event_parts_per_groups['e_name']=='CartScreenAppear']['248']\n",
    "hypothesis(success_2, success_3, trials_2, trials_3, 0.05)"
   ]
  },
  {
   "cell_type": "code",
   "execution_count": 73,
   "metadata": {},
   "outputs": [
    {
     "name": "stdout",
     "output_type": "stream",
     "text": [
      "p-значение:  [0.18683559]\n",
      "Не получилось отвергнуть нулевую гипотезу, нет оснований считать доли разными\n"
     ]
    }
   ],
   "source": [
    "#проверка для групп 246+247 и 248\n",
    "success_4 = event_parts_per_groups[event_parts_per_groups['e_name']=='CartScreenAppear']['246+247']\n",
    "success_3 = event_parts_per_groups[event_parts_per_groups['e_name']=='CartScreenAppear']['248']\n",
    "hypothesis(success_4, success_3, trials_4, trials_3, 0.05)"
   ]
  },
  {
   "cell_type": "markdown",
   "metadata": {},
   "source": [
    "### Проверка гипотезы отдельно для события \"PaymentScreenSuccessful\""
   ]
  },
  {
   "cell_type": "code",
   "execution_count": 74,
   "metadata": {},
   "outputs": [
    {
     "name": "stdout",
     "output_type": "stream",
     "text": [
      "p-значение:  [0.11446628]\n",
      "Не получилось отвергнуть нулевую гипотезу, нет оснований считать доли разными\n"
     ]
    }
   ],
   "source": [
    "#проверка для групп 246 и 247\n",
    "success_1 = event_parts_per_groups[event_parts_per_groups['e_name']=='PaymentScreenSuccessful']['246']\n",
    "success_2 = event_parts_per_groups[event_parts_per_groups['e_name']=='PaymentScreenSuccessful']['247']\n",
    "hypothesis(success_1, success_2, trials_1, trials_2, 0.05)"
   ]
  },
  {
   "cell_type": "code",
   "execution_count": 75,
   "metadata": {},
   "outputs": [
    {
     "name": "stdout",
     "output_type": "stream",
     "text": [
      "p-значение:  [0.21693034]\n",
      "Не получилось отвергнуть нулевую гипотезу, нет оснований считать доли разными\n"
     ]
    }
   ],
   "source": [
    "#проверка для групп 246 и 248\n",
    "success_1 = event_parts_per_groups[event_parts_per_groups['e_name']=='PaymentScreenSuccessful']['246']\n",
    "success_3 = event_parts_per_groups[event_parts_per_groups['e_name']=='PaymentScreenSuccessful']['248']\n",
    "hypothesis(success_1, success_3, trials_1, trials_3, 0.05)"
   ]
  },
  {
   "cell_type": "code",
   "execution_count": 76,
   "metadata": {},
   "outputs": [
    {
     "name": "stdout",
     "output_type": "stream",
     "text": [
      "p-значение:  [0.72757187]\n",
      "Не получилось отвергнуть нулевую гипотезу, нет оснований считать доли разными\n"
     ]
    }
   ],
   "source": [
    "#проверка для групп 247 и 248\n",
    "success_2 = event_parts_per_groups[event_parts_per_groups['e_name']=='PaymentScreenSuccessful']['247']\n",
    "success_3 = event_parts_per_groups[event_parts_per_groups['e_name']=='PaymentScreenSuccessful']['248']\n",
    "hypothesis(success_2, success_3, trials_2, trials_3, 0.05)"
   ]
  },
  {
   "cell_type": "code",
   "execution_count": 77,
   "metadata": {},
   "outputs": [
    {
     "name": "stdout",
     "output_type": "stream",
     "text": [
      "p-значение:  [0.61079187]\n",
      "Не получилось отвергнуть нулевую гипотезу, нет оснований считать доли разными\n"
     ]
    }
   ],
   "source": [
    "#проверка для групп 246+247 и 248\n",
    "success_4 = event_parts_per_groups[event_parts_per_groups['e_name']=='PaymentScreenSuccessful']['246+247']\n",
    "success_3 = event_parts_per_groups[event_parts_per_groups['e_name']=='PaymentScreenSuccessful']['248']\n",
    "hypothesis(success_4, success_3, trials_4, trials_3, 0.05)"
   ]
  },
  {
   "cell_type": "markdown",
   "metadata": {},
   "source": [
    "В рамках сравнения групп мы использовали критический уровень значимости 0.05, можно было бы изменить уровень значимости, но из результатов видно, что p-value в любом случае будет больше, чем альфа равное 0.01 или 0.1, и мы не сможем отвергнуть нулевую гипотезу, следовательно и нет оснований считать доли разными.\n",
    "Единственное, для события CartScreenAppear, будет разница между долями для групп 246 и 248, если уровень значимости будет 0.1"
   ]
  },
  {
   "cell_type": "markdown",
   "metadata": {},
   "source": [
    "Но чтобы удержать ошбику на уровне 0.05, посчитаем уровень значимости как 0.05/16 (кол-во сравнений)"
   ]
  },
  {
   "cell_type": "code",
   "execution_count": 79,
   "metadata": {
    "scrolled": true
   },
   "outputs": [
    {
     "data": {
      "text/plain": [
       "0.003125"
      ]
     },
     "execution_count": 79,
     "metadata": {},
     "output_type": "execute_result"
    }
   ],
   "source": [
    "0.05/16"
   ]
  },
  {
   "cell_type": "markdown",
   "metadata": {},
   "source": [
    "### Проверка гипотезы отдельно для события \"MainScreenAppear\" с новым уровнем значимости"
   ]
  },
  {
   "cell_type": "code",
   "execution_count": 80,
   "metadata": {},
   "outputs": [
    {
     "name": "stdout",
     "output_type": "stream",
     "text": [
      "p-значение:  [0.75267034]\n",
      "Не получилось отвергнуть нулевую гипотезу, нет оснований считать доли разными\n"
     ]
    }
   ],
   "source": [
    "#проверка для групп 246 и 247\n",
    "success_1 = event_parts_per_groups[event_parts_per_groups['e_name']=='MainScreenAppear']['246']\n",
    "success_2 = event_parts_per_groups[event_parts_per_groups['e_name']=='MainScreenAppear']['247']\n",
    "hypothesis(success_1, success_2, trials_1, trials_2,0.003125)"
   ]
  },
  {
   "cell_type": "code",
   "execution_count": 81,
   "metadata": {},
   "outputs": [
    {
     "name": "stdout",
     "output_type": "stream",
     "text": [
      "p-значение:  [0.33871141]\n",
      "Не получилось отвергнуть нулевую гипотезу, нет оснований считать доли разными\n"
     ]
    }
   ],
   "source": [
    "#проверка для групп 246 и 248\n",
    "success_1 = event_parts_per_groups[event_parts_per_groups['e_name']=='MainScreenAppear']['246']\n",
    "success_3 = event_parts_per_groups[event_parts_per_groups['e_name']=='MainScreenAppear']['248']\n",
    "hypothesis(success_1, success_3, trials_1, trials_3,0.003125)"
   ]
  },
  {
   "cell_type": "code",
   "execution_count": 82,
   "metadata": {},
   "outputs": [
    {
     "name": "stdout",
     "output_type": "stream",
     "text": [
      "p-значение:  [0.51949644]\n",
      "Не получилось отвергнуть нулевую гипотезу, нет оснований считать доли разными\n"
     ]
    }
   ],
   "source": [
    "#проверка для групп 247 и 248\n",
    "success_2 = event_parts_per_groups[event_parts_per_groups['e_name']=='MainScreenAppear']['247']\n",
    "success_3 = event_parts_per_groups[event_parts_per_groups['e_name']=='MainScreenAppear']['248']\n",
    "hypothesis(success_2, success_3, trials_2, trials_3, 0.003125)"
   ]
  },
  {
   "cell_type": "code",
   "execution_count": 83,
   "metadata": {},
   "outputs": [
    {
     "name": "stdout",
     "output_type": "stream",
     "text": [
      "p-значение:  [0.34866843]\n",
      "Не получилось отвергнуть нулевую гипотезу, нет оснований считать доли разными\n"
     ]
    }
   ],
   "source": [
    "#проверка для групп 246+247 и 248\n",
    "success_4 = event_parts_per_groups[event_parts_per_groups['e_name']=='MainScreenAppear']['246+247']\n",
    "success_3 = event_parts_per_groups[event_parts_per_groups['e_name']=='MainScreenAppear']['248']\n",
    "hypothesis(success_4, success_3, trials_4, trials_3, 0.003125)"
   ]
  },
  {
   "cell_type": "markdown",
   "metadata": {},
   "source": [
    "### Проверка гипотезы отдельно для события \"OffersScreenAppear\" с новым уровнем значимости"
   ]
  },
  {
   "cell_type": "code",
   "execution_count": 93,
   "metadata": {},
   "outputs": [
    {
     "name": "stdout",
     "output_type": "stream",
     "text": [
      "p-значение:  [0.24786097]\n",
      "Не получилось отвергнуть нулевую гипотезу, нет оснований считать доли разными\n"
     ]
    }
   ],
   "source": [
    "#проверка для групп 246 и 247\n",
    "success_1 = event_parts_per_groups[event_parts_per_groups['e_name']=='OffersScreenAppear']['246']\n",
    "success_2 = event_parts_per_groups[event_parts_per_groups['e_name']=='OffersScreenAppear']['247']\n",
    "hypothesis(success_1, success_2, trials_1, trials_2, 0.003125)"
   ]
  },
  {
   "cell_type": "code",
   "execution_count": 94,
   "metadata": {},
   "outputs": [
    {
     "name": "stdout",
     "output_type": "stream",
     "text": [
      "p-значение:  [0.21442477]\n",
      "Не получилось отвергнуть нулевую гипотезу, нет оснований считать доли разными\n"
     ]
    }
   ],
   "source": [
    "#проверка для групп 246 и 248\n",
    "success_1 = event_parts_per_groups[event_parts_per_groups['e_name']=='OffersScreenAppear']['246']\n",
    "success_3 = event_parts_per_groups[event_parts_per_groups['e_name']=='OffersScreenAppear']['248']\n",
    "hypothesis(success_1, success_3, trials_1, trials_3, 0.003125)"
   ]
  },
  {
   "cell_type": "code",
   "execution_count": 95,
   "metadata": {},
   "outputs": [
    {
     "name": "stdout",
     "output_type": "stream",
     "text": [
      "p-значение:  [0.93337513]\n",
      "Не получилось отвергнуть нулевую гипотезу, нет оснований считать доли разными\n"
     ]
    }
   ],
   "source": [
    "#проверка для групп 247 и 248\n",
    "success_2 = event_parts_per_groups[event_parts_per_groups['e_name']=='OffersScreenAppear']['247']\n",
    "success_3 = event_parts_per_groups[event_parts_per_groups['e_name']=='OffersScreenAppear']['248']\n",
    "hypothesis(success_2, success_3, trials_2, trials_3,0.003125)"
   ]
  },
  {
   "cell_type": "code",
   "execution_count": 96,
   "metadata": {},
   "outputs": [
    {
     "name": "stdout",
     "output_type": "stream",
     "text": [
      "p-значение:  [0.44582745]\n",
      "Не получилось отвергнуть нулевую гипотезу, нет оснований считать доли разными\n"
     ]
    }
   ],
   "source": [
    "#проверка для групп 246+247 и 248\n",
    "success_4 = event_parts_per_groups[event_parts_per_groups['e_name']=='OffersScreenAppear']['246+247']\n",
    "success_3 = event_parts_per_groups[event_parts_per_groups['e_name']=='OffersScreenAppear']['248']\n",
    "hypothesis(success_4, success_3, trials_4, trials_3,0.003125)"
   ]
  },
  {
   "cell_type": "markdown",
   "metadata": {},
   "source": [
    "### Проверка гипотезы отдельно для события \"CartScreenAppear\" с новым уровнем значимости"
   ]
  },
  {
   "cell_type": "code",
   "execution_count": 97,
   "metadata": {},
   "outputs": [
    {
     "name": "stdout",
     "output_type": "stream",
     "text": [
      "p-значение:  [0.22867644]\n",
      "Не получилось отвергнуть нулевую гипотезу, нет оснований считать доли разными\n"
     ]
    }
   ],
   "source": [
    "#проверка для групп 246 и 247\n",
    "success_1 = event_parts_per_groups[event_parts_per_groups['e_name']=='CartScreenAppear']['246']\n",
    "success_2 = event_parts_per_groups[event_parts_per_groups['e_name']=='CartScreenAppear']['247']\n",
    "hypothesis(success_1, success_2, trials_1, trials_2, 0.003125)"
   ]
  },
  {
   "cell_type": "code",
   "execution_count": 98,
   "metadata": {},
   "outputs": [
    {
     "name": "stdout",
     "output_type": "stream",
     "text": [
      "p-значение:  [0.08067368]\n",
      "Не получилось отвергнуть нулевую гипотезу, нет оснований считать доли разными\n"
     ]
    }
   ],
   "source": [
    "#проверка для групп 246 и 248\n",
    "success_1 = event_parts_per_groups[event_parts_per_groups['e_name']=='CartScreenAppear']['246']\n",
    "success_3 = event_parts_per_groups[event_parts_per_groups['e_name']=='CartScreenAppear']['248']\n",
    "hypothesis(success_1, success_3, trials_1, trials_3, 0.003125)"
   ]
  },
  {
   "cell_type": "code",
   "execution_count": 99,
   "metadata": {},
   "outputs": [
    {
     "name": "stdout",
     "output_type": "stream",
     "text": [
      "p-значение:  [0.58782846]\n",
      "Не получилось отвергнуть нулевую гипотезу, нет оснований считать доли разными\n"
     ]
    }
   ],
   "source": [
    "#проверка для групп 247 и 248\n",
    "success_2 = event_parts_per_groups[event_parts_per_groups['e_name']=='CartScreenAppear']['247']\n",
    "success_3 = event_parts_per_groups[event_parts_per_groups['e_name']=='CartScreenAppear']['248']\n",
    "hypothesis(success_2, success_3, trials_2, trials_3, 0.003125)"
   ]
  },
  {
   "cell_type": "code",
   "execution_count": 100,
   "metadata": {},
   "outputs": [
    {
     "name": "stdout",
     "output_type": "stream",
     "text": [
      "p-значение:  [0.18683559]\n",
      "Не получилось отвергнуть нулевую гипотезу, нет оснований считать доли разными\n"
     ]
    }
   ],
   "source": [
    "#проверка для групп 246+247 и 248\n",
    "success_4 = event_parts_per_groups[event_parts_per_groups['e_name']=='CartScreenAppear']['246+247']\n",
    "success_3 = event_parts_per_groups[event_parts_per_groups['e_name']=='CartScreenAppear']['248']\n",
    "hypothesis(success_4, success_3, trials_4, trials_3,0.003125)"
   ]
  },
  {
   "cell_type": "markdown",
   "metadata": {},
   "source": [
    "### Проверка гипотезы отдельно для события \"PaymentScreenSuccessful\" с новым уровнем значимости"
   ]
  },
  {
   "cell_type": "code",
   "execution_count": 101,
   "metadata": {},
   "outputs": [
    {
     "name": "stdout",
     "output_type": "stream",
     "text": [
      "p-значение:  [0.11446628]\n",
      "Не получилось отвергнуть нулевую гипотезу, нет оснований считать доли разными\n"
     ]
    }
   ],
   "source": [
    "#проверка для групп 246 и 247\n",
    "success_1 = event_parts_per_groups[event_parts_per_groups['e_name']=='PaymentScreenSuccessful']['246']\n",
    "success_2 = event_parts_per_groups[event_parts_per_groups['e_name']=='PaymentScreenSuccessful']['247']\n",
    "hypothesis(success_1, success_2, trials_1, trials_2, 0.003125)"
   ]
  },
  {
   "cell_type": "code",
   "execution_count": 102,
   "metadata": {},
   "outputs": [
    {
     "name": "stdout",
     "output_type": "stream",
     "text": [
      "p-значение:  [0.21693034]\n",
      "Не получилось отвергнуть нулевую гипотезу, нет оснований считать доли разными\n"
     ]
    }
   ],
   "source": [
    "#проверка для групп 246 и 248\n",
    "success_1 = event_parts_per_groups[event_parts_per_groups['e_name']=='PaymentScreenSuccessful']['246']\n",
    "success_3 = event_parts_per_groups[event_parts_per_groups['e_name']=='PaymentScreenSuccessful']['248']\n",
    "hypothesis(success_1, success_3, trials_1, trials_3, 0.003125)"
   ]
  },
  {
   "cell_type": "code",
   "execution_count": 103,
   "metadata": {},
   "outputs": [
    {
     "name": "stdout",
     "output_type": "stream",
     "text": [
      "p-значение:  [0.72757187]\n",
      "Не получилось отвергнуть нулевую гипотезу, нет оснований считать доли разными\n"
     ]
    }
   ],
   "source": [
    "#проверка для групп 247 и 248\n",
    "success_2 = event_parts_per_groups[event_parts_per_groups['e_name']=='PaymentScreenSuccessful']['247']\n",
    "success_3 = event_parts_per_groups[event_parts_per_groups['e_name']=='PaymentScreenSuccessful']['248']\n",
    "hypothesis(success_2, success_3, trials_2, trials_3, 0.003125)"
   ]
  },
  {
   "cell_type": "code",
   "execution_count": 104,
   "metadata": {},
   "outputs": [
    {
     "name": "stdout",
     "output_type": "stream",
     "text": [
      "p-значение:  [0.61079187]\n",
      "Не получилось отвергнуть нулевую гипотезу, нет оснований считать доли разными\n"
     ]
    }
   ],
   "source": [
    "#проверка для групп 246+247 и 248\n",
    "success_4 = event_parts_per_groups[event_parts_per_groups['e_name']=='PaymentScreenSuccessful']['246+247']\n",
    "success_3 = event_parts_per_groups[event_parts_per_groups['e_name']=='PaymentScreenSuccessful']['248']\n",
    "hypothesis(success_4, success_3, trials_4, trials_3,0.003125)"
   ]
  },
  {
   "cell_type": "markdown",
   "metadata": {},
   "source": [
    "# Вывод"
   ]
  },
  {
   "cell_type": "markdown",
   "metadata": {},
   "source": [
    "1. На этапе подготовки данных было замечено присутствие дубликатов, но их было незначительное кол-во, и они были удалены. \n",
    "2. Далее мы посмотрели, как распределяются события по дням из имеющегося периода, так мы заметилич, что полные данные имеются только за период с 01.08719г по 07.08.19г.\n",
    "3. Больше всего пользователей теряется на первом шаге воронки - примерно 61%. До оплаты же доходит примерно 47% пользователей.\n",
    "4. Критический уровень значимости перед проведением тестирований мы взяли 0.05. Было проведено A/A тестирование групп и выяснилось, что распределение на группы было корректным.\n",
    "5. В процессе A/B тестирование не было замечено статистически значимых отличий между контрольными группами и экспериментальной. \n",
    "6. Проводя множественное сравнение при A/A и A/B тестированиях, мы не использовали никакие поправки критического уровня значимости, так как в этом не было никакого смысла - при уменьшении критического уровня значимости с помощью имеющихся поправок результаты тестирования не изменились бы, это видно из полученных p-value.\n",
    "\n",
    "И как итог можно сделать вывод, что изменение шрифта никак не скажется на совершении покупок пользователями."
   ]
  }
 ],
 "metadata": {
  "ExecuteTimeLog": [
   {
    "duration": 1203,
    "start_time": "2023-04-26T21:07:10.103Z"
   },
   {
    "duration": 392,
    "start_time": "2023-04-26T21:07:50.629Z"
   },
   {
    "duration": 22,
    "start_time": "2023-04-26T21:08:02.553Z"
   },
   {
    "duration": 306,
    "start_time": "2023-04-26T21:08:14.354Z"
   },
   {
    "duration": 22,
    "start_time": "2023-04-26T21:08:17.315Z"
   },
   {
    "duration": 11,
    "start_time": "2023-04-26T21:09:06.628Z"
   },
   {
    "duration": 306,
    "start_time": "2023-04-26T21:09:14.265Z"
   },
   {
    "duration": 9,
    "start_time": "2023-04-26T21:09:17.140Z"
   },
   {
    "duration": 87,
    "start_time": "2023-04-26T21:09:20.504Z"
   },
   {
    "duration": 77,
    "start_time": "2023-04-26T21:09:27.663Z"
   },
   {
    "duration": 342,
    "start_time": "2023-04-26T21:09:33.165Z"
   },
   {
    "duration": 9,
    "start_time": "2023-04-26T21:09:35.692Z"
   },
   {
    "duration": 177,
    "start_time": "2023-04-26T21:09:41.533Z"
   },
   {
    "duration": 16,
    "start_time": "2023-04-26T21:09:43.547Z"
   },
   {
    "duration": 19,
    "start_time": "2023-04-26T21:09:46.501Z"
   },
   {
    "duration": 54,
    "start_time": "2023-04-26T21:10:40.673Z"
   },
   {
    "duration": 63,
    "start_time": "2023-04-26T21:11:28.178Z"
   },
   {
    "duration": 3,
    "start_time": "2023-04-26T21:13:07.098Z"
   },
   {
    "duration": 3,
    "start_time": "2023-04-26T21:13:25.572Z"
   },
   {
    "duration": 98,
    "start_time": "2023-04-26T21:13:49.965Z"
   },
   {
    "duration": 1461,
    "start_time": "2023-04-26T21:15:25.145Z"
   },
   {
    "duration": 3,
    "start_time": "2023-04-26T21:16:23.775Z"
   },
   {
    "duration": 60,
    "start_time": "2023-04-26T21:16:26.787Z"
   },
   {
    "duration": 63,
    "start_time": "2023-04-26T21:16:29.069Z"
   },
   {
    "duration": 3,
    "start_time": "2023-04-26T21:16:29.290Z"
   },
   {
    "duration": 84,
    "start_time": "2023-04-26T21:16:29.491Z"
   },
   {
    "duration": 1264,
    "start_time": "2023-04-26T21:18:34.675Z"
   },
   {
    "duration": 9,
    "start_time": "2023-04-26T21:18:47.786Z"
   },
   {
    "duration": 19,
    "start_time": "2023-04-26T21:19:59.540Z"
   },
   {
    "duration": 19,
    "start_time": "2023-04-26T21:20:06.743Z"
   },
   {
    "duration": 15,
    "start_time": "2023-04-26T21:20:59.470Z"
   },
   {
    "duration": 5,
    "start_time": "2023-04-26T21:23:23.379Z"
   },
   {
    "duration": 251,
    "start_time": "2023-04-26T21:24:12.094Z"
   },
   {
    "duration": 159,
    "start_time": "2023-04-26T21:24:19.516Z"
   },
   {
    "duration": 162,
    "start_time": "2023-04-26T21:24:41.806Z"
   },
   {
    "duration": 172,
    "start_time": "2023-04-26T21:24:50.524Z"
   },
   {
    "duration": 185,
    "start_time": "2023-04-26T21:25:03.405Z"
   },
   {
    "duration": 179,
    "start_time": "2023-04-26T21:25:28.286Z"
   },
   {
    "duration": 182,
    "start_time": "2023-04-26T21:26:45.504Z"
   },
   {
    "duration": 1184,
    "start_time": "2023-04-27T07:21:45.214Z"
   },
   {
    "duration": 845,
    "start_time": "2023-04-27T07:21:48.068Z"
   },
   {
    "duration": 15,
    "start_time": "2023-04-27T07:21:48.915Z"
   },
   {
    "duration": 19,
    "start_time": "2023-04-27T07:21:49.485Z"
   },
   {
    "duration": 3,
    "start_time": "2023-04-27T07:21:50.048Z"
   },
   {
    "duration": 62,
    "start_time": "2023-04-27T07:21:50.501Z"
   },
   {
    "duration": 2,
    "start_time": "2023-04-27T07:21:50.937Z"
   },
   {
    "duration": 73,
    "start_time": "2023-04-27T07:21:51.346Z"
   },
   {
    "duration": 20,
    "start_time": "2023-04-27T07:21:51.800Z"
   },
   {
    "duration": 5,
    "start_time": "2023-04-27T07:21:52.502Z"
   },
   {
    "duration": 328,
    "start_time": "2023-04-27T07:21:52.798Z"
   },
   {
    "duration": 88,
    "start_time": "2023-04-27T07:24:55.150Z"
   },
   {
    "duration": 3,
    "start_time": "2023-04-27T07:25:06.457Z"
   },
   {
    "duration": 178,
    "start_time": "2023-04-27T07:25:09.358Z"
   },
   {
    "duration": 196,
    "start_time": "2023-04-27T07:25:38.069Z"
   },
   {
    "duration": 18,
    "start_time": "2023-04-27T07:27:17.844Z"
   },
   {
    "duration": 34,
    "start_time": "2023-04-27T07:27:30.647Z"
   },
   {
    "duration": 28,
    "start_time": "2023-04-27T07:28:21.726Z"
   },
   {
    "duration": 29,
    "start_time": "2023-04-27T07:28:25.857Z"
   },
   {
    "duration": 4,
    "start_time": "2023-04-27T07:33:49.363Z"
   },
   {
    "duration": 5,
    "start_time": "2023-04-27T07:34:10.730Z"
   },
   {
    "duration": 4,
    "start_time": "2023-04-27T07:34:15.140Z"
   },
   {
    "duration": 49,
    "start_time": "2023-04-27T07:34:39.182Z"
   },
   {
    "duration": 5,
    "start_time": "2023-04-27T07:34:49.425Z"
   },
   {
    "duration": 15,
    "start_time": "2023-04-27T07:37:03.966Z"
   },
   {
    "duration": 192,
    "start_time": "2023-04-27T07:37:25.430Z"
   },
   {
    "duration": 144,
    "start_time": "2023-04-27T07:37:34.314Z"
   },
   {
    "duration": 9,
    "start_time": "2023-04-27T07:37:34.608Z"
   },
   {
    "duration": 19,
    "start_time": "2023-04-27T07:37:34.971Z"
   },
   {
    "duration": 3,
    "start_time": "2023-04-27T07:37:35.581Z"
   },
   {
    "duration": 54,
    "start_time": "2023-04-27T07:37:36.223Z"
   },
   {
    "duration": 3,
    "start_time": "2023-04-27T07:37:36.577Z"
   },
   {
    "duration": 65,
    "start_time": "2023-04-27T07:37:36.847Z"
   },
   {
    "duration": 20,
    "start_time": "2023-04-27T07:37:37.226Z"
   },
   {
    "duration": 6,
    "start_time": "2023-04-27T07:37:38.246Z"
   },
   {
    "duration": 198,
    "start_time": "2023-04-27T07:37:38.818Z"
   },
   {
    "duration": 30,
    "start_time": "2023-04-27T07:37:40.744Z"
   },
   {
    "duration": 4,
    "start_time": "2023-04-27T07:37:43.512Z"
   },
   {
    "duration": 33,
    "start_time": "2023-04-27T07:37:55.482Z"
   },
   {
    "duration": 11,
    "start_time": "2023-04-27T07:38:16.336Z"
   },
   {
    "duration": 36,
    "start_time": "2023-04-27T08:04:44.014Z"
   },
   {
    "duration": 35,
    "start_time": "2023-04-27T08:13:27.866Z"
   },
   {
    "duration": 55,
    "start_time": "2023-04-27T08:19:00.190Z"
   },
   {
    "duration": 53,
    "start_time": "2023-04-27T08:19:02.650Z"
   },
   {
    "duration": 33,
    "start_time": "2023-04-27T08:19:08.169Z"
   },
   {
    "duration": 37,
    "start_time": "2023-04-27T08:37:29.362Z"
   },
   {
    "duration": 34,
    "start_time": "2023-04-27T08:37:37.586Z"
   },
   {
    "duration": 32,
    "start_time": "2023-04-27T08:37:48.445Z"
   },
   {
    "duration": 42,
    "start_time": "2023-04-27T08:37:55.260Z"
   },
   {
    "duration": 45,
    "start_time": "2023-04-27T08:38:02.918Z"
   },
   {
    "duration": 44,
    "start_time": "2023-04-27T08:38:36.740Z"
   },
   {
    "duration": 44,
    "start_time": "2023-04-27T08:38:51.346Z"
   },
   {
    "duration": 45,
    "start_time": "2023-04-27T20:10:03.651Z"
   },
   {
    "duration": 1106,
    "start_time": "2023-04-27T20:10:08.483Z"
   },
   {
    "duration": 542,
    "start_time": "2023-04-27T20:10:10.590Z"
   },
   {
    "duration": 12,
    "start_time": "2023-04-27T20:10:11.134Z"
   },
   {
    "duration": 15,
    "start_time": "2023-04-27T20:10:11.147Z"
   },
   {
    "duration": 2,
    "start_time": "2023-04-27T20:10:11.184Z"
   },
   {
    "duration": 52,
    "start_time": "2023-04-27T20:10:11.350Z"
   },
   {
    "duration": 3,
    "start_time": "2023-04-27T20:10:11.546Z"
   },
   {
    "duration": 64,
    "start_time": "2023-04-27T20:10:11.757Z"
   },
   {
    "duration": 16,
    "start_time": "2023-04-27T20:10:11.951Z"
   },
   {
    "duration": 5,
    "start_time": "2023-04-27T20:10:12.368Z"
   },
   {
    "duration": 244,
    "start_time": "2023-04-27T20:10:12.581Z"
   },
   {
    "duration": 26,
    "start_time": "2023-04-27T20:10:13.361Z"
   },
   {
    "duration": 3,
    "start_time": "2023-04-27T20:10:13.922Z"
   },
   {
    "duration": 33,
    "start_time": "2023-04-27T20:10:14.372Z"
   },
   {
    "duration": 32,
    "start_time": "2023-04-27T20:10:14.967Z"
   },
   {
    "duration": 36,
    "start_time": "2023-04-27T20:10:15.587Z"
   },
   {
    "duration": 53,
    "start_time": "2023-04-27T20:23:52.643Z"
   },
   {
    "duration": 49,
    "start_time": "2023-04-27T20:23:56.182Z"
   },
   {
    "duration": 109,
    "start_time": "2023-04-27T20:25:48.182Z"
   },
   {
    "duration": 52,
    "start_time": "2023-04-27T20:26:47.101Z"
   },
   {
    "duration": 78,
    "start_time": "2023-04-27T20:30:06.155Z"
   },
   {
    "duration": 74,
    "start_time": "2023-04-27T20:30:27.938Z"
   },
   {
    "duration": 72,
    "start_time": "2023-04-27T20:30:37.453Z"
   },
   {
    "duration": 92,
    "start_time": "2023-04-27T20:30:42.688Z"
   },
   {
    "duration": 69,
    "start_time": "2023-04-27T20:30:45.532Z"
   },
   {
    "duration": 73,
    "start_time": "2023-04-27T20:30:48.782Z"
   },
   {
    "duration": 87,
    "start_time": "2023-04-27T20:31:02.515Z"
   },
   {
    "duration": 65,
    "start_time": "2023-04-27T20:31:04.792Z"
   },
   {
    "duration": 73,
    "start_time": "2023-04-27T20:31:24.035Z"
   },
   {
    "duration": 73,
    "start_time": "2023-04-27T20:31:42.125Z"
   },
   {
    "duration": 59,
    "start_time": "2023-04-27T20:31:53.451Z"
   },
   {
    "duration": 56,
    "start_time": "2023-04-27T20:32:14.044Z"
   },
   {
    "duration": 68,
    "start_time": "2023-04-27T20:32:18.110Z"
   },
   {
    "duration": 47,
    "start_time": "2023-04-27T20:34:46.582Z"
   },
   {
    "duration": 41,
    "start_time": "2023-04-27T20:35:34.403Z"
   },
   {
    "duration": 54,
    "start_time": "2023-04-27T20:35:41.202Z"
   },
   {
    "duration": 44,
    "start_time": "2023-04-27T20:35:58.964Z"
   },
   {
    "duration": 47,
    "start_time": "2023-04-27T20:36:18.214Z"
   },
   {
    "duration": 44,
    "start_time": "2023-04-27T20:36:23.313Z"
   },
   {
    "duration": 43,
    "start_time": "2023-04-27T20:36:34.427Z"
   },
   {
    "duration": 42,
    "start_time": "2023-04-27T20:36:42.472Z"
   },
   {
    "duration": 46,
    "start_time": "2023-04-27T20:36:49.540Z"
   },
   {
    "duration": 55,
    "start_time": "2023-04-27T20:36:53.604Z"
   },
   {
    "duration": 62,
    "start_time": "2023-04-27T20:36:59.129Z"
   },
   {
    "duration": 57,
    "start_time": "2023-04-27T20:38:38.723Z"
   },
   {
    "duration": 46,
    "start_time": "2023-04-27T20:38:55.987Z"
   },
   {
    "duration": 28,
    "start_time": "2023-04-27T21:15:02.562Z"
   },
   {
    "duration": 9,
    "start_time": "2023-04-27T21:15:27.969Z"
   },
   {
    "duration": 5,
    "start_time": "2023-04-27T21:18:40.666Z"
   },
   {
    "duration": 4,
    "start_time": "2023-04-27T21:19:25.622Z"
   },
   {
    "duration": 11,
    "start_time": "2023-04-27T21:20:22.626Z"
   },
   {
    "duration": 3,
    "start_time": "2023-04-27T21:20:25.783Z"
   },
   {
    "duration": 6,
    "start_time": "2023-04-27T21:20:30.461Z"
   },
   {
    "duration": 4,
    "start_time": "2023-04-27T21:21:09.218Z"
   },
   {
    "duration": 7,
    "start_time": "2023-04-27T21:21:11.819Z"
   },
   {
    "duration": 10,
    "start_time": "2023-04-27T21:22:40.256Z"
   },
   {
    "duration": 7,
    "start_time": "2023-04-27T21:22:45.716Z"
   },
   {
    "duration": 73,
    "start_time": "2023-04-27T21:25:48.700Z"
   },
   {
    "duration": 53,
    "start_time": "2023-04-27T21:25:52.351Z"
   },
   {
    "duration": 10,
    "start_time": "2023-04-27T21:26:03.228Z"
   },
   {
    "duration": 5,
    "start_time": "2023-04-27T21:26:06.023Z"
   },
   {
    "duration": 11,
    "start_time": "2023-04-27T21:26:12.721Z"
   },
   {
    "duration": 4,
    "start_time": "2023-04-27T21:26:13.275Z"
   },
   {
    "duration": 8,
    "start_time": "2023-04-27T21:26:14.033Z"
   },
   {
    "duration": 4,
    "start_time": "2023-04-27T21:26:24.550Z"
   },
   {
    "duration": 7,
    "start_time": "2023-04-27T21:26:28.765Z"
   },
   {
    "duration": 5,
    "start_time": "2023-04-27T21:27:25.586Z"
   },
   {
    "duration": 3,
    "start_time": "2023-04-27T21:27:44.826Z"
   },
   {
    "duration": 7,
    "start_time": "2023-04-27T21:27:47.903Z"
   },
   {
    "duration": 4,
    "start_time": "2023-04-27T21:27:56.519Z"
   },
   {
    "duration": 6,
    "start_time": "2023-04-27T21:28:27.107Z"
   },
   {
    "duration": 8,
    "start_time": "2023-04-27T21:28:28.914Z"
   },
   {
    "duration": 11,
    "start_time": "2023-04-27T21:29:51.449Z"
   },
   {
    "duration": 6,
    "start_time": "2023-04-27T21:29:52.106Z"
   },
   {
    "duration": 8,
    "start_time": "2023-04-27T21:29:54.447Z"
   },
   {
    "duration": 3,
    "start_time": "2023-04-27T21:29:59.918Z"
   },
   {
    "duration": 134,
    "start_time": "2023-04-27T21:30:00.473Z"
   },
   {
    "duration": 11,
    "start_time": "2023-04-27T21:30:00.666Z"
   },
   {
    "duration": 17,
    "start_time": "2023-04-27T21:30:00.850Z"
   },
   {
    "duration": 3,
    "start_time": "2023-04-27T21:30:01.051Z"
   },
   {
    "duration": 52,
    "start_time": "2023-04-27T21:30:01.277Z"
   },
   {
    "duration": 3,
    "start_time": "2023-04-27T21:30:01.464Z"
   },
   {
    "duration": 60,
    "start_time": "2023-04-27T21:30:01.668Z"
   },
   {
    "duration": 17,
    "start_time": "2023-04-27T21:30:01.864Z"
   },
   {
    "duration": 5,
    "start_time": "2023-04-27T21:30:02.211Z"
   },
   {
    "duration": 170,
    "start_time": "2023-04-27T21:30:02.399Z"
   },
   {
    "duration": 26,
    "start_time": "2023-04-27T21:30:02.773Z"
   },
   {
    "duration": 5,
    "start_time": "2023-04-27T21:30:02.940Z"
   },
   {
    "duration": 31,
    "start_time": "2023-04-27T21:30:03.123Z"
   },
   {
    "duration": 30,
    "start_time": "2023-04-27T21:30:03.323Z"
   },
   {
    "duration": 59,
    "start_time": "2023-04-27T21:30:03.521Z"
   },
   {
    "duration": 50,
    "start_time": "2023-04-27T21:30:03.737Z"
   },
   {
    "duration": 9,
    "start_time": "2023-04-27T21:30:04.136Z"
   },
   {
    "duration": 6,
    "start_time": "2023-04-27T21:30:04.363Z"
   },
   {
    "duration": 7,
    "start_time": "2023-04-27T21:30:04.538Z"
   },
   {
    "duration": 10,
    "start_time": "2023-04-27T21:30:12.246Z"
   },
   {
    "duration": 4,
    "start_time": "2023-04-27T21:30:12.818Z"
   },
   {
    "duration": 7,
    "start_time": "2023-04-27T21:30:13.469Z"
   },
   {
    "duration": 3,
    "start_time": "2023-04-27T21:33:34.766Z"
   },
   {
    "duration": 3,
    "start_time": "2023-04-27T21:33:46.309Z"
   },
   {
    "duration": 3,
    "start_time": "2023-04-27T21:33:57.239Z"
   },
   {
    "duration": 14,
    "start_time": "2023-04-27T21:58:24.531Z"
   },
   {
    "duration": 22,
    "start_time": "2023-04-27T21:58:28.400Z"
   },
   {
    "duration": 7,
    "start_time": "2023-04-27T21:58:34.420Z"
   },
   {
    "duration": 5,
    "start_time": "2023-04-27T21:58:37.108Z"
   },
   {
    "duration": 10,
    "start_time": "2023-04-27T21:59:41.329Z"
   },
   {
    "duration": 36,
    "start_time": "2023-04-27T22:00:05.476Z"
   },
   {
    "duration": 71,
    "start_time": "2023-04-27T22:03:34.355Z"
   },
   {
    "duration": 701,
    "start_time": "2023-04-27T22:03:48.757Z"
   },
   {
    "duration": 52,
    "start_time": "2023-04-27T22:04:07.811Z"
   },
   {
    "duration": 55,
    "start_time": "2023-04-27T22:04:12.650Z"
   },
   {
    "duration": 1206,
    "start_time": "2023-04-28T05:24:56.318Z"
   },
   {
    "duration": 499,
    "start_time": "2023-04-28T05:24:58.149Z"
   },
   {
    "duration": 13,
    "start_time": "2023-04-28T05:24:58.649Z"
   },
   {
    "duration": 19,
    "start_time": "2023-04-28T05:24:59.229Z"
   },
   {
    "duration": 2,
    "start_time": "2023-04-28T05:24:59.447Z"
   },
   {
    "duration": 63,
    "start_time": "2023-04-28T05:24:59.629Z"
   },
   {
    "duration": 4,
    "start_time": "2023-04-28T05:24:59.828Z"
   },
   {
    "duration": 81,
    "start_time": "2023-04-28T05:25:00.051Z"
   },
   {
    "duration": 23,
    "start_time": "2023-04-28T05:25:00.199Z"
   },
   {
    "duration": 6,
    "start_time": "2023-04-28T05:25:00.619Z"
   },
   {
    "duration": 291,
    "start_time": "2023-04-28T05:25:00.788Z"
   },
   {
    "duration": 31,
    "start_time": "2023-04-28T05:25:01.148Z"
   },
   {
    "duration": 4,
    "start_time": "2023-04-28T05:25:01.339Z"
   },
   {
    "duration": 39,
    "start_time": "2023-04-28T05:25:01.549Z"
   },
   {
    "duration": 36,
    "start_time": "2023-04-28T05:25:01.749Z"
   },
   {
    "duration": 65,
    "start_time": "2023-04-28T05:25:01.969Z"
   },
   {
    "duration": 62,
    "start_time": "2023-04-28T05:25:02.080Z"
   },
   {
    "duration": 26,
    "start_time": "2023-04-28T05:25:02.454Z"
   },
   {
    "duration": 9,
    "start_time": "2023-04-28T05:25:02.638Z"
   },
   {
    "duration": 6,
    "start_time": "2023-04-28T05:25:02.986Z"
   },
   {
    "duration": 8,
    "start_time": "2023-04-28T05:25:03.335Z"
   },
   {
    "duration": 4,
    "start_time": "2023-04-28T05:25:03.798Z"
   },
   {
    "duration": 38,
    "start_time": "2023-04-28T05:25:03.984Z"
   },
   {
    "duration": 49,
    "start_time": "2023-04-28T05:25:04.179Z"
   },
   {
    "duration": 93,
    "start_time": "2023-04-28T05:32:52.971Z"
   },
   {
    "duration": 2246,
    "start_time": "2023-04-28T05:33:11.052Z"
   },
   {
    "duration": 5,
    "start_time": "2023-04-28T05:33:27.188Z"
   },
   {
    "duration": 68,
    "start_time": "2023-04-28T05:34:41.213Z"
   },
   {
    "duration": 944,
    "start_time": "2023-04-28T05:35:25.103Z"
   },
   {
    "duration": 6,
    "start_time": "2023-04-28T05:36:03.852Z"
   },
   {
    "duration": 1247,
    "start_time": "2023-04-28T05:36:34.111Z"
   },
   {
    "duration": 7,
    "start_time": "2023-04-28T05:42:18.717Z"
   },
   {
    "duration": 1354,
    "start_time": "2023-04-28T05:42:28.997Z"
   },
   {
    "duration": 13,
    "start_time": "2023-04-28T05:46:36.758Z"
   },
   {
    "duration": 8,
    "start_time": "2023-04-28T05:53:30.228Z"
   },
   {
    "duration": 71,
    "start_time": "2023-04-28T05:54:14.421Z"
   },
   {
    "duration": 78,
    "start_time": "2023-04-28T05:54:40.730Z"
   },
   {
    "duration": 963,
    "start_time": "2023-04-28T05:54:51.992Z"
   },
   {
    "duration": 1553,
    "start_time": "2023-04-28T07:58:22.904Z"
   },
   {
    "duration": 1029,
    "start_time": "2023-04-28T07:58:24.459Z"
   },
   {
    "duration": 18,
    "start_time": "2023-04-28T07:58:25.490Z"
   },
   {
    "duration": 34,
    "start_time": "2023-04-28T07:58:26.355Z"
   },
   {
    "duration": 4,
    "start_time": "2023-04-28T07:58:26.842Z"
   },
   {
    "duration": 95,
    "start_time": "2023-04-28T07:58:27.242Z"
   },
   {
    "duration": 4,
    "start_time": "2023-04-28T07:58:27.566Z"
   },
   {
    "duration": 112,
    "start_time": "2023-04-28T07:58:27.802Z"
   },
   {
    "duration": 40,
    "start_time": "2023-04-28T07:58:28.194Z"
   },
   {
    "duration": 6,
    "start_time": "2023-04-28T07:58:28.755Z"
   },
   {
    "duration": 443,
    "start_time": "2023-04-28T07:58:28.957Z"
   },
   {
    "duration": 33,
    "start_time": "2023-04-28T07:58:29.635Z"
   },
   {
    "duration": 5,
    "start_time": "2023-04-28T07:58:30.235Z"
   },
   {
    "duration": 59,
    "start_time": "2023-04-28T07:58:30.674Z"
   },
   {
    "duration": 48,
    "start_time": "2023-04-28T07:58:31.133Z"
   },
   {
    "duration": 99,
    "start_time": "2023-04-28T07:58:31.648Z"
   },
   {
    "duration": 96,
    "start_time": "2023-04-28T07:58:32.133Z"
   },
   {
    "duration": 40,
    "start_time": "2023-04-28T07:58:33.530Z"
   },
   {
    "duration": 9,
    "start_time": "2023-04-28T07:58:54.334Z"
   },
   {
    "duration": 17,
    "start_time": "2023-04-28T07:58:54.734Z"
   },
   {
    "duration": 4,
    "start_time": "2023-04-28T07:59:00.358Z"
   },
   {
    "duration": 53,
    "start_time": "2023-04-28T07:59:02.384Z"
   },
   {
    "duration": 210,
    "start_time": "2023-04-28T08:00:16.077Z"
   },
   {
    "duration": 76,
    "start_time": "2023-04-28T08:00:34.634Z"
   },
   {
    "duration": 7,
    "start_time": "2023-04-28T08:00:38.369Z"
   },
   {
    "duration": 19,
    "start_time": "2023-04-28T08:00:53.123Z"
   },
   {
    "duration": 7,
    "start_time": "2023-04-28T08:01:17.433Z"
   },
   {
    "duration": 276,
    "start_time": "2023-04-28T08:01:38.762Z"
   },
   {
    "duration": 3,
    "start_time": "2023-04-28T08:01:49.833Z"
   },
   {
    "duration": 13,
    "start_time": "2023-04-28T08:02:34.968Z"
   },
   {
    "duration": 4,
    "start_time": "2023-04-28T08:02:44.668Z"
   },
   {
    "duration": 5,
    "start_time": "2023-04-28T08:03:15.606Z"
   },
   {
    "duration": 11,
    "start_time": "2023-04-28T08:03:22.662Z"
   },
   {
    "duration": 53,
    "start_time": "2023-04-28T08:07:46.016Z"
   },
   {
    "duration": 50,
    "start_time": "2023-04-28T08:08:02.806Z"
   },
   {
    "duration": 69,
    "start_time": "2023-04-28T08:10:28.352Z"
   },
   {
    "duration": 95,
    "start_time": "2023-04-28T08:10:38.616Z"
   },
   {
    "duration": 11,
    "start_time": "2023-04-28T08:10:52.152Z"
   },
   {
    "duration": 73,
    "start_time": "2023-04-28T08:11:00.567Z"
   },
   {
    "duration": 9,
    "start_time": "2023-04-28T08:11:00.927Z"
   },
   {
    "duration": 1128,
    "start_time": "2023-04-28T08:11:03.542Z"
   },
   {
    "duration": 164,
    "start_time": "2023-04-28T08:11:05.564Z"
   },
   {
    "duration": 11,
    "start_time": "2023-04-28T08:11:06.080Z"
   },
   {
    "duration": 23,
    "start_time": "2023-04-28T08:11:06.817Z"
   },
   {
    "duration": 3,
    "start_time": "2023-04-28T08:11:09.429Z"
   },
   {
    "duration": 81,
    "start_time": "2023-04-28T08:11:09.828Z"
   },
   {
    "duration": 3,
    "start_time": "2023-04-28T08:11:10.436Z"
   },
   {
    "duration": 113,
    "start_time": "2023-04-28T08:11:15.114Z"
   },
   {
    "duration": 27,
    "start_time": "2023-04-28T08:11:16.568Z"
   },
   {
    "duration": 8,
    "start_time": "2023-04-28T08:11:18.221Z"
   },
   {
    "duration": 347,
    "start_time": "2023-04-28T08:11:18.953Z"
   },
   {
    "duration": 31,
    "start_time": "2023-04-28T08:11:20.913Z"
   },
   {
    "duration": 4,
    "start_time": "2023-04-28T08:11:24.326Z"
   },
   {
    "duration": 40,
    "start_time": "2023-04-28T08:11:27.171Z"
   },
   {
    "duration": 37,
    "start_time": "2023-04-28T08:11:33.181Z"
   },
   {
    "duration": 45,
    "start_time": "2023-04-28T08:11:35.265Z"
   },
   {
    "duration": 97,
    "start_time": "2023-04-28T08:11:37.247Z"
   },
   {
    "duration": 78,
    "start_time": "2023-04-28T08:12:38.706Z"
   },
   {
    "duration": 65,
    "start_time": "2023-04-28T08:12:39.231Z"
   },
   {
    "duration": 26,
    "start_time": "2023-04-28T08:12:40.645Z"
   },
   {
    "duration": 12,
    "start_time": "2023-04-28T08:12:41.362Z"
   },
   {
    "duration": 6,
    "start_time": "2023-04-28T08:12:41.961Z"
   },
   {
    "duration": 10,
    "start_time": "2023-04-28T08:12:42.717Z"
   },
   {
    "duration": 4,
    "start_time": "2023-04-28T08:12:44.080Z"
   },
   {
    "duration": 38,
    "start_time": "2023-04-28T08:12:44.740Z"
   },
   {
    "duration": 26,
    "start_time": "2023-04-28T08:12:55.614Z"
   },
   {
    "duration": 26,
    "start_time": "2023-04-28T08:13:07.075Z"
   },
   {
    "duration": 20,
    "start_time": "2023-04-28T08:14:28.314Z"
   },
   {
    "duration": 26,
    "start_time": "2023-04-28T08:14:33.040Z"
   },
   {
    "duration": 3,
    "start_time": "2023-04-28T08:16:06.690Z"
   },
   {
    "duration": 669,
    "start_time": "2023-04-28T08:16:45.962Z"
   },
   {
    "duration": 678,
    "start_time": "2023-04-28T08:17:19.133Z"
   },
   {
    "duration": 67,
    "start_time": "2023-04-28T08:17:33.437Z"
   },
   {
    "duration": 58,
    "start_time": "2023-04-28T08:17:36.420Z"
   },
   {
    "duration": 24,
    "start_time": "2023-04-28T08:17:45.284Z"
   },
   {
    "duration": 9,
    "start_time": "2023-04-28T08:17:46.241Z"
   },
   {
    "duration": 6,
    "start_time": "2023-04-28T08:17:48.724Z"
   },
   {
    "duration": 9,
    "start_time": "2023-04-28T08:17:49.520Z"
   },
   {
    "duration": 4,
    "start_time": "2023-04-28T08:17:53.318Z"
   },
   {
    "duration": 3,
    "start_time": "2023-04-28T08:18:17.465Z"
   },
   {
    "duration": 41,
    "start_time": "2023-04-28T08:18:24.351Z"
   },
   {
    "duration": 68,
    "start_time": "2023-04-28T08:18:27.978Z"
   },
   {
    "duration": 2,
    "start_time": "2023-04-28T08:18:28.684Z"
   },
   {
    "duration": 4,
    "start_time": "2023-04-28T08:18:35.330Z"
   },
   {
    "duration": 8,
    "start_time": "2023-04-28T08:18:35.924Z"
   },
   {
    "duration": 59,
    "start_time": "2023-04-28T08:22:09.367Z"
   },
   {
    "duration": 7,
    "start_time": "2023-04-28T08:23:30.032Z"
   },
   {
    "duration": 11,
    "start_time": "2023-04-28T08:25:17.770Z"
   },
   {
    "duration": 13,
    "start_time": "2023-04-28T08:25:24.219Z"
   },
   {
    "duration": 72,
    "start_time": "2023-04-28T08:25:47.722Z"
   },
   {
    "duration": 5,
    "start_time": "2023-04-28T08:25:49.034Z"
   },
   {
    "duration": 8,
    "start_time": "2023-04-28T08:25:49.925Z"
   },
   {
    "duration": 1498,
    "start_time": "2023-04-28T10:39:21.292Z"
   },
   {
    "duration": 676,
    "start_time": "2023-04-28T10:39:22.793Z"
   },
   {
    "duration": 11,
    "start_time": "2023-04-28T10:39:23.471Z"
   },
   {
    "duration": 24,
    "start_time": "2023-04-28T10:39:23.484Z"
   },
   {
    "duration": 3,
    "start_time": "2023-04-28T10:39:23.577Z"
   },
   {
    "duration": 70,
    "start_time": "2023-04-28T10:39:23.764Z"
   },
   {
    "duration": 4,
    "start_time": "2023-04-28T10:39:24.481Z"
   },
   {
    "duration": 89,
    "start_time": "2023-04-28T10:39:25.296Z"
   },
   {
    "duration": 27,
    "start_time": "2023-04-28T10:39:26.596Z"
   },
   {
    "duration": 5,
    "start_time": "2023-04-28T10:39:28.984Z"
   },
   {
    "duration": 362,
    "start_time": "2023-04-28T10:39:29.611Z"
   },
   {
    "duration": 41,
    "start_time": "2023-04-28T10:39:30.499Z"
   },
   {
    "duration": 4,
    "start_time": "2023-04-28T10:39:30.951Z"
   },
   {
    "duration": 40,
    "start_time": "2023-04-28T10:39:31.248Z"
   },
   {
    "duration": 50,
    "start_time": "2023-04-28T10:39:31.495Z"
   },
   {
    "duration": 29,
    "start_time": "2023-04-28T10:39:31.766Z"
   },
   {
    "duration": 984,
    "start_time": "2023-04-28T10:39:33.010Z"
   },
   {
    "duration": 86,
    "start_time": "2023-04-28T10:39:33.996Z"
   },
   {
    "duration": 45,
    "start_time": "2023-04-28T10:39:51.912Z"
   },
   {
    "duration": 846,
    "start_time": "2023-04-28T10:39:52.733Z"
   },
   {
    "duration": 81,
    "start_time": "2023-04-28T10:40:10.735Z"
   },
   {
    "duration": 81,
    "start_time": "2023-04-28T10:40:12.304Z"
   },
   {
    "duration": 36,
    "start_time": "2023-04-28T10:40:14.614Z"
   },
   {
    "duration": 13,
    "start_time": "2023-04-28T10:40:15.423Z"
   },
   {
    "duration": 8,
    "start_time": "2023-04-28T10:40:16.044Z"
   },
   {
    "duration": 12,
    "start_time": "2023-04-28T10:40:16.899Z"
   },
   {
    "duration": 5,
    "start_time": "2023-04-28T10:40:18.144Z"
   },
   {
    "duration": 43,
    "start_time": "2023-04-28T10:40:18.651Z"
   },
   {
    "duration": 105,
    "start_time": "2023-04-28T10:40:19.309Z"
   },
   {
    "duration": 4,
    "start_time": "2023-04-28T10:40:19.816Z"
   },
   {
    "duration": 6,
    "start_time": "2023-04-28T10:40:20.558Z"
   },
   {
    "duration": 9,
    "start_time": "2023-04-28T10:40:53.169Z"
   },
   {
    "duration": 131,
    "start_time": "2023-04-28T10:54:28.683Z"
   },
   {
    "duration": 102,
    "start_time": "2023-04-28T10:54:36.285Z"
   },
   {
    "duration": 113,
    "start_time": "2023-04-28T10:54:44.365Z"
   },
   {
    "duration": 7,
    "start_time": "2023-04-28T10:54:47.899Z"
   },
   {
    "duration": 134,
    "start_time": "2023-04-28T12:38:59.015Z"
   },
   {
    "duration": 11,
    "start_time": "2023-04-28T12:39:28.674Z"
   },
   {
    "duration": 3041,
    "start_time": "2023-04-28T12:40:10.457Z"
   },
   {
    "duration": 2247,
    "start_time": "2023-04-28T12:40:25.940Z"
   },
   {
    "duration": 5,
    "start_time": "2023-04-28T12:41:28.544Z"
   },
   {
    "duration": 17,
    "start_time": "2023-04-28T12:41:42.633Z"
   },
   {
    "duration": 5,
    "start_time": "2023-04-28T12:41:57.190Z"
   },
   {
    "duration": 12,
    "start_time": "2023-04-28T12:42:08.847Z"
   },
   {
    "duration": 14,
    "start_time": "2023-04-28T12:42:18.047Z"
   },
   {
    "duration": 13,
    "start_time": "2023-04-28T12:42:31.384Z"
   },
   {
    "duration": 23,
    "start_time": "2023-04-28T12:43:06.547Z"
   },
   {
    "duration": 58,
    "start_time": "2023-04-28T12:43:23.819Z"
   },
   {
    "duration": 99,
    "start_time": "2023-04-28T12:43:24.207Z"
   },
   {
    "duration": 5,
    "start_time": "2023-04-28T12:43:24.748Z"
   },
   {
    "duration": 5,
    "start_time": "2023-04-28T12:43:25.281Z"
   },
   {
    "duration": 13,
    "start_time": "2023-04-28T12:43:26.871Z"
   },
   {
    "duration": 20,
    "start_time": "2023-04-28T12:43:28.114Z"
   },
   {
    "duration": 14,
    "start_time": "2023-04-28T12:44:09.594Z"
   },
   {
    "duration": 9,
    "start_time": "2023-04-28T12:49:42.193Z"
   },
   {
    "duration": 5,
    "start_time": "2023-04-28T12:49:48.500Z"
   },
   {
    "duration": 18,
    "start_time": "2023-04-28T12:49:59.950Z"
   },
   {
    "duration": 3,
    "start_time": "2023-04-28T12:50:07.472Z"
   },
   {
    "duration": 681,
    "start_time": "2023-04-28T12:50:08.071Z"
   },
   {
    "duration": 0,
    "start_time": "2023-04-28T12:50:08.760Z"
   },
   {
    "duration": 846,
    "start_time": "2023-04-28T12:50:23.939Z"
   },
   {
    "duration": 30,
    "start_time": "2023-04-28T12:50:41.025Z"
   },
   {
    "duration": 82,
    "start_time": "2023-04-28T12:50:54.898Z"
   },
   {
    "duration": 108,
    "start_time": "2023-04-28T12:50:56.820Z"
   },
   {
    "duration": 25,
    "start_time": "2023-04-28T12:50:58.661Z"
   },
   {
    "duration": 7,
    "start_time": "2023-04-28T12:51:00.786Z"
   },
   {
    "duration": 177,
    "start_time": "2023-04-28T12:51:03.096Z"
   },
   {
    "duration": 8,
    "start_time": "2023-04-28T12:51:08.436Z"
   },
   {
    "duration": 9,
    "start_time": "2023-04-28T12:51:08.945Z"
   },
   {
    "duration": 148,
    "start_time": "2023-04-28T12:51:47.852Z"
   },
   {
    "duration": 17,
    "start_time": "2023-04-28T12:51:48.877Z"
   },
   {
    "duration": 27,
    "start_time": "2023-04-28T12:52:01.515Z"
   },
   {
    "duration": 112,
    "start_time": "2023-04-28T12:52:09.904Z"
   },
   {
    "duration": 21,
    "start_time": "2023-04-28T12:52:10.644Z"
   },
   {
    "duration": 18,
    "start_time": "2023-04-28T12:52:19.261Z"
   },
   {
    "duration": 6,
    "start_time": "2023-04-28T12:52:32.215Z"
   },
   {
    "duration": 4,
    "start_time": "2023-04-28T12:52:35.983Z"
   },
   {
    "duration": 9,
    "start_time": "2023-04-28T12:52:39.487Z"
   },
   {
    "duration": 6,
    "start_time": "2023-04-28T12:52:42.933Z"
   },
   {
    "duration": 4,
    "start_time": "2023-04-28T12:52:50.748Z"
   },
   {
    "duration": 10,
    "start_time": "2023-04-28T12:52:54.380Z"
   },
   {
    "duration": 20,
    "start_time": "2023-04-28T12:53:06.405Z"
   },
   {
    "duration": 17,
    "start_time": "2023-04-28T12:53:20.000Z"
   },
   {
    "duration": 19,
    "start_time": "2023-04-28T12:56:48.257Z"
   },
   {
    "duration": 40,
    "start_time": "2023-04-28T12:58:23.796Z"
   },
   {
    "duration": 38,
    "start_time": "2023-04-28T12:58:26.209Z"
   },
   {
    "duration": 55,
    "start_time": "2023-04-28T12:58:29.050Z"
   },
   {
    "duration": 13,
    "start_time": "2023-04-28T12:58:46.352Z"
   },
   {
    "duration": 22,
    "start_time": "2023-04-28T12:59:18.154Z"
   },
   {
    "duration": 37,
    "start_time": "2023-04-28T12:59:22.549Z"
   },
   {
    "duration": 6,
    "start_time": "2023-04-28T13:01:03.273Z"
   },
   {
    "duration": 25,
    "start_time": "2023-04-28T13:01:04.397Z"
   },
   {
    "duration": 7,
    "start_time": "2023-04-28T13:01:41.207Z"
   },
   {
    "duration": 14,
    "start_time": "2023-04-28T13:01:42.411Z"
   },
   {
    "duration": 34,
    "start_time": "2023-04-28T13:01:44.410Z"
   },
   {
    "duration": 7,
    "start_time": "2023-04-28T13:04:34.773Z"
   },
   {
    "duration": 21,
    "start_time": "2023-04-28T13:04:36.875Z"
   },
   {
    "duration": 26,
    "start_time": "2023-04-28T13:08:21.240Z"
   },
   {
    "duration": 14,
    "start_time": "2023-04-28T13:13:24.737Z"
   },
   {
    "duration": 34,
    "start_time": "2023-04-28T13:14:08.741Z"
   },
   {
    "duration": 4032,
    "start_time": "2023-04-28T13:14:41.586Z"
   },
   {
    "duration": 0,
    "start_time": "2023-04-28T13:14:45.620Z"
   },
   {
    "duration": 17,
    "start_time": "2023-04-28T13:15:02.416Z"
   },
   {
    "duration": 31,
    "start_time": "2023-04-28T13:17:58.011Z"
   },
   {
    "duration": 31,
    "start_time": "2023-04-28T13:18:06.969Z"
   },
   {
    "duration": 21,
    "start_time": "2023-04-28T13:18:16.677Z"
   },
   {
    "duration": 10,
    "start_time": "2023-04-28T13:21:53.603Z"
   },
   {
    "duration": 14,
    "start_time": "2023-04-28T13:21:55.535Z"
   },
   {
    "duration": 13,
    "start_time": "2023-04-28T13:22:07.025Z"
   },
   {
    "duration": 19,
    "start_time": "2023-04-28T13:22:08.911Z"
   },
   {
    "duration": 3,
    "start_time": "2023-04-28T13:23:34.703Z"
   },
   {
    "duration": 12,
    "start_time": "2023-04-28T13:23:38.503Z"
   },
   {
    "duration": 10,
    "start_time": "2023-04-28T13:23:47.605Z"
   },
   {
    "duration": 10,
    "start_time": "2023-04-28T13:23:49.752Z"
   },
   {
    "duration": 10,
    "start_time": "2023-04-28T13:23:51.214Z"
   },
   {
    "duration": 4,
    "start_time": "2023-04-28T13:25:23.860Z"
   },
   {
    "duration": 9,
    "start_time": "2023-04-28T13:25:27.267Z"
   },
   {
    "duration": 101,
    "start_time": "2023-04-28T13:28:11.569Z"
   },
   {
    "duration": 5,
    "start_time": "2023-04-28T13:28:20.502Z"
   },
   {
    "duration": 27,
    "start_time": "2023-04-28T13:31:48.914Z"
   },
   {
    "duration": 10,
    "start_time": "2023-04-28T13:32:11.209Z"
   },
   {
    "duration": 9,
    "start_time": "2023-04-28T13:32:23.166Z"
   },
   {
    "duration": 30,
    "start_time": "2023-04-28T13:33:20.144Z"
   },
   {
    "duration": 21,
    "start_time": "2023-04-28T13:33:30.209Z"
   },
   {
    "duration": 45,
    "start_time": "2023-04-28T13:54:09.303Z"
   },
   {
    "duration": 84,
    "start_time": "2023-04-28T13:54:58.516Z"
   },
   {
    "duration": 50,
    "start_time": "2023-04-28T13:57:13.708Z"
   },
   {
    "duration": 123,
    "start_time": "2023-04-28T13:58:12.567Z"
   },
   {
    "duration": 4,
    "start_time": "2023-04-28T13:58:15.057Z"
   },
   {
    "duration": 183,
    "start_time": "2023-04-28T13:58:25.299Z"
   },
   {
    "duration": 1253,
    "start_time": "2023-04-28T13:58:30.071Z"
   },
   {
    "duration": 150,
    "start_time": "2023-04-28T13:58:39.535Z"
   },
   {
    "duration": 8,
    "start_time": "2023-04-28T13:58:41.731Z"
   },
   {
    "duration": 6,
    "start_time": "2023-04-28T13:58:46.563Z"
   },
   {
    "duration": 18,
    "start_time": "2023-04-28T13:59:03.757Z"
   },
   {
    "duration": 10,
    "start_time": "2023-04-28T13:59:05.582Z"
   },
   {
    "duration": 14,
    "start_time": "2023-04-28T13:59:06.531Z"
   },
   {
    "duration": 70,
    "start_time": "2023-04-28T14:11:31.763Z"
   },
   {
    "duration": 10,
    "start_time": "2023-04-28T14:12:57.059Z"
   },
   {
    "duration": 12,
    "start_time": "2023-04-28T14:18:30.389Z"
   },
   {
    "duration": 12,
    "start_time": "2023-04-28T14:20:01.077Z"
   },
   {
    "duration": 176,
    "start_time": "2023-04-28T14:20:10.148Z"
   },
   {
    "duration": 13,
    "start_time": "2023-04-28T14:22:24.786Z"
   },
   {
    "duration": 551,
    "start_time": "2023-04-28T14:22:59.657Z"
   },
   {
    "duration": 11,
    "start_time": "2023-04-28T14:26:34.107Z"
   },
   {
    "duration": 1175,
    "start_time": "2023-04-28T15:20:33.580Z"
   },
   {
    "duration": 172,
    "start_time": "2023-04-28T15:20:34.757Z"
   },
   {
    "duration": 11,
    "start_time": "2023-04-28T15:20:34.930Z"
   },
   {
    "duration": 17,
    "start_time": "2023-04-28T15:20:34.944Z"
   },
   {
    "duration": 3,
    "start_time": "2023-04-28T15:20:34.962Z"
   },
   {
    "duration": 88,
    "start_time": "2023-04-28T15:20:34.966Z"
   },
   {
    "duration": 3,
    "start_time": "2023-04-28T15:20:35.056Z"
   },
   {
    "duration": 110,
    "start_time": "2023-04-28T15:20:35.060Z"
   },
   {
    "duration": 39,
    "start_time": "2023-04-28T15:20:35.171Z"
   },
   {
    "duration": 5,
    "start_time": "2023-04-28T15:20:35.214Z"
   },
   {
    "duration": 312,
    "start_time": "2023-04-28T15:20:35.221Z"
   },
   {
    "duration": 30,
    "start_time": "2023-04-28T15:20:35.535Z"
   },
   {
    "duration": 4,
    "start_time": "2023-04-28T15:20:35.567Z"
   },
   {
    "duration": 52,
    "start_time": "2023-04-28T15:20:35.591Z"
   },
   {
    "duration": 48,
    "start_time": "2023-04-28T15:20:35.645Z"
   },
   {
    "duration": 67,
    "start_time": "2023-04-28T15:20:35.708Z"
   },
   {
    "duration": 69,
    "start_time": "2023-04-28T15:20:35.777Z"
   },
   {
    "duration": 3,
    "start_time": "2023-04-28T15:20:35.848Z"
   },
   {
    "duration": 46,
    "start_time": "2023-04-28T15:20:35.853Z"
   },
   {
    "duration": 15,
    "start_time": "2023-04-28T15:20:35.901Z"
   },
   {
    "duration": 13,
    "start_time": "2023-04-28T15:20:35.918Z"
   },
   {
    "duration": 12,
    "start_time": "2023-04-28T15:20:35.933Z"
   },
   {
    "duration": 17,
    "start_time": "2023-04-28T15:20:35.946Z"
   },
   {
    "duration": 47,
    "start_time": "2023-04-28T15:20:35.965Z"
   },
   {
    "duration": 88,
    "start_time": "2023-04-28T15:20:36.014Z"
   },
   {
    "duration": 11,
    "start_time": "2023-04-28T15:20:36.112Z"
   },
   {
    "duration": 9,
    "start_time": "2023-04-28T15:20:36.125Z"
   },
   {
    "duration": 9,
    "start_time": "2023-04-28T15:20:36.138Z"
   },
   {
    "duration": 7,
    "start_time": "2023-04-28T15:20:36.149Z"
   },
   {
    "duration": 20,
    "start_time": "2023-04-28T15:20:36.158Z"
   },
   {
    "duration": 14,
    "start_time": "2023-04-28T15:20:36.180Z"
   },
   {
    "duration": 10,
    "start_time": "2023-04-28T15:20:36.207Z"
   },
   {
    "duration": 9,
    "start_time": "2023-04-28T15:20:36.218Z"
   },
   {
    "duration": 18,
    "start_time": "2023-04-28T15:20:36.229Z"
   },
   {
    "duration": 8,
    "start_time": "2023-04-28T15:20:36.249Z"
   },
   {
    "duration": 7,
    "start_time": "2023-04-28T15:20:36.258Z"
   },
   {
    "duration": 15,
    "start_time": "2023-04-28T15:26:01.711Z"
   },
   {
    "duration": 1071,
    "start_time": "2023-05-01T10:52:51.714Z"
   },
   {
    "duration": 623,
    "start_time": "2023-05-01T10:52:56.416Z"
   },
   {
    "duration": 9,
    "start_time": "2023-05-01T10:52:57.041Z"
   },
   {
    "duration": 18,
    "start_time": "2023-05-01T10:52:57.249Z"
   },
   {
    "duration": 2,
    "start_time": "2023-05-01T10:53:00.016Z"
   },
   {
    "duration": 54,
    "start_time": "2023-05-01T10:53:01.714Z"
   },
   {
    "duration": 3,
    "start_time": "2023-05-01T10:53:02.815Z"
   },
   {
    "duration": 89,
    "start_time": "2023-05-01T10:53:37.219Z"
   },
   {
    "duration": 53,
    "start_time": "2023-05-01T10:53:40.556Z"
   },
   {
    "duration": 3,
    "start_time": "2023-05-01T10:53:41.214Z"
   },
   {
    "duration": 3,
    "start_time": "2023-05-01T10:55:19.432Z"
   },
   {
    "duration": 58,
    "start_time": "2023-05-01T10:55:21.422Z"
   },
   {
    "duration": 4,
    "start_time": "2023-05-01T10:55:23.815Z"
   },
   {
    "duration": 30,
    "start_time": "2023-05-01T10:55:57.206Z"
   },
   {
    "duration": 16,
    "start_time": "2023-05-01T10:56:01.815Z"
   },
   {
    "duration": 28,
    "start_time": "2023-05-01T10:56:09.535Z"
   },
   {
    "duration": 31,
    "start_time": "2023-05-01T10:56:23.776Z"
   },
   {
    "duration": 184,
    "start_time": "2023-05-01T10:58:01.196Z"
   },
   {
    "duration": 141,
    "start_time": "2023-05-01T10:58:45.284Z"
   },
   {
    "duration": 125,
    "start_time": "2023-05-01T10:58:51.411Z"
   },
   {
    "duration": 6,
    "start_time": "2023-05-01T10:58:51.802Z"
   },
   {
    "duration": 16,
    "start_time": "2023-05-01T10:58:52.160Z"
   },
   {
    "duration": 3,
    "start_time": "2023-05-01T10:58:52.821Z"
   },
   {
    "duration": 145,
    "start_time": "2023-05-01T10:58:55.604Z"
   },
   {
    "duration": 3,
    "start_time": "2023-05-01T10:58:59.907Z"
   },
   {
    "duration": 4,
    "start_time": "2023-05-01T11:00:03.615Z"
   },
   {
    "duration": 141,
    "start_time": "2023-05-01T11:09:28.718Z"
   },
   {
    "duration": 6,
    "start_time": "2023-05-01T11:09:35.514Z"
   },
   {
    "duration": 19,
    "start_time": "2023-05-01T11:09:36.013Z"
   },
   {
    "duration": 3,
    "start_time": "2023-05-01T11:09:36.926Z"
   },
   {
    "duration": 127,
    "start_time": "2023-05-01T11:09:42.249Z"
   },
   {
    "duration": 14,
    "start_time": "2023-05-01T11:13:29.713Z"
   },
   {
    "duration": 32,
    "start_time": "2023-05-01T11:17:37.111Z"
   },
   {
    "duration": 33,
    "start_time": "2023-05-01T11:17:46.665Z"
   },
   {
    "duration": 32,
    "start_time": "2023-05-01T11:19:57.594Z"
   },
   {
    "duration": 32,
    "start_time": "2023-05-01T11:20:10.747Z"
   },
   {
    "duration": 34,
    "start_time": "2023-05-01T11:20:17.114Z"
   },
   {
    "duration": 35,
    "start_time": "2023-05-01T11:20:27.007Z"
   },
   {
    "duration": 24,
    "start_time": "2023-05-01T11:21:45.901Z"
   },
   {
    "duration": 44,
    "start_time": "2023-05-01T11:21:57.401Z"
   },
   {
    "duration": 56,
    "start_time": "2023-05-01T11:22:02.934Z"
   },
   {
    "duration": 41,
    "start_time": "2023-05-01T11:22:10.938Z"
   },
   {
    "duration": 5,
    "start_time": "2023-05-01T11:24:27.958Z"
   },
   {
    "duration": 268,
    "start_time": "2023-05-01T11:24:28.520Z"
   },
   {
    "duration": 451,
    "start_time": "2023-05-01T11:24:46.335Z"
   },
   {
    "duration": 26,
    "start_time": "2023-05-01T11:25:01.049Z"
   },
   {
    "duration": 26,
    "start_time": "2023-05-01T11:25:54.155Z"
   },
   {
    "duration": 4,
    "start_time": "2023-05-01T11:27:28.005Z"
   },
   {
    "duration": 47,
    "start_time": "2023-05-01T11:29:02.765Z"
   },
   {
    "duration": 31,
    "start_time": "2023-05-01T11:29:18.024Z"
   },
   {
    "duration": 41,
    "start_time": "2023-05-01T11:30:34.119Z"
   },
   {
    "duration": 30,
    "start_time": "2023-05-01T11:31:01.898Z"
   },
   {
    "duration": 58,
    "start_time": "2023-05-01T11:31:07.410Z"
   },
   {
    "duration": 57,
    "start_time": "2023-05-01T11:31:10.827Z"
   },
   {
    "duration": 3,
    "start_time": "2023-05-01T11:31:13.050Z"
   },
   {
    "duration": 24,
    "start_time": "2023-05-01T11:32:34.547Z"
   },
   {
    "duration": 24,
    "start_time": "2023-05-01T11:32:42.509Z"
   },
   {
    "duration": 10,
    "start_time": "2023-05-01T11:32:59.600Z"
   },
   {
    "duration": 14,
    "start_time": "2023-05-01T11:33:10.162Z"
   },
   {
    "duration": 3,
    "start_time": "2023-05-01T11:33:31.754Z"
   },
   {
    "duration": 22,
    "start_time": "2023-05-01T11:34:13.347Z"
   },
   {
    "duration": 80,
    "start_time": "2023-05-01T11:34:25.999Z"
   },
   {
    "duration": 8,
    "start_time": "2023-05-01T11:34:33.398Z"
   },
   {
    "duration": 5,
    "start_time": "2023-05-01T11:34:33.858Z"
   },
   {
    "duration": 7,
    "start_time": "2023-05-01T11:34:34.432Z"
   },
   {
    "duration": 1300,
    "start_time": "2023-05-01T11:34:56.125Z"
   },
   {
    "duration": 6,
    "start_time": "2023-05-01T11:37:15.515Z"
   },
   {
    "duration": 4,
    "start_time": "2023-05-01T11:42:30.004Z"
   },
   {
    "duration": 5,
    "start_time": "2023-05-01T11:42:48.259Z"
   },
   {
    "duration": 9,
    "start_time": "2023-05-01T11:42:53.948Z"
   },
   {
    "duration": 6,
    "start_time": "2023-05-01T11:43:05.417Z"
   },
   {
    "duration": 6,
    "start_time": "2023-05-01T11:43:14.652Z"
   },
   {
    "duration": 11,
    "start_time": "2023-05-01T11:43:17.305Z"
   },
   {
    "duration": 5,
    "start_time": "2023-05-01T11:43:50.590Z"
   },
   {
    "duration": 9,
    "start_time": "2023-05-01T11:44:42.508Z"
   },
   {
    "duration": 4,
    "start_time": "2023-05-01T11:44:55.340Z"
   },
   {
    "duration": 4,
    "start_time": "2023-05-01T11:45:13.251Z"
   },
   {
    "duration": 40,
    "start_time": "2023-05-01T11:45:35.398Z"
   },
   {
    "duration": 69,
    "start_time": "2023-05-01T11:45:36.316Z"
   },
   {
    "duration": 3,
    "start_time": "2023-05-01T11:45:36.880Z"
   },
   {
    "duration": 6,
    "start_time": "2023-05-01T11:45:37.441Z"
   },
   {
    "duration": 38,
    "start_time": "2023-05-01T11:47:34.681Z"
   },
   {
    "duration": 74,
    "start_time": "2023-05-01T11:47:34.834Z"
   },
   {
    "duration": 2,
    "start_time": "2023-05-01T11:47:35.050Z"
   },
   {
    "duration": 7,
    "start_time": "2023-05-01T11:47:35.239Z"
   },
   {
    "duration": 3,
    "start_time": "2023-05-01T11:47:36.560Z"
   },
   {
    "duration": 3,
    "start_time": "2023-05-01T11:47:37.028Z"
   },
   {
    "duration": 10,
    "start_time": "2023-05-01T11:47:37.659Z"
   },
   {
    "duration": 5,
    "start_time": "2023-05-01T11:47:47.863Z"
   },
   {
    "duration": 8,
    "start_time": "2023-05-01T11:47:48.329Z"
   },
   {
    "duration": 4,
    "start_time": "2023-05-01T11:47:49.112Z"
   },
   {
    "duration": 6,
    "start_time": "2023-05-01T11:47:50.317Z"
   },
   {
    "duration": 5,
    "start_time": "2023-05-01T11:47:50.852Z"
   },
   {
    "duration": 5,
    "start_time": "2023-05-01T11:47:51.360Z"
   },
   {
    "duration": 4,
    "start_time": "2023-05-01T11:52:43.209Z"
   },
   {
    "duration": 4,
    "start_time": "2023-05-01T11:53:11.230Z"
   },
   {
    "duration": 13,
    "start_time": "2023-05-01T11:55:25.892Z"
   },
   {
    "duration": 9,
    "start_time": "2023-05-01T11:55:39.892Z"
   },
   {
    "duration": 9,
    "start_time": "2023-05-01T11:56:12.635Z"
   },
   {
    "duration": 9,
    "start_time": "2023-05-01T11:56:26.006Z"
   },
   {
    "duration": 7,
    "start_time": "2023-05-01T11:57:34.630Z"
   },
   {
    "duration": 6,
    "start_time": "2023-05-01T11:58:04.359Z"
   },
   {
    "duration": 7,
    "start_time": "2023-05-01T11:58:07.607Z"
   },
   {
    "duration": 11,
    "start_time": "2023-05-01T12:03:30.931Z"
   },
   {
    "duration": 1178,
    "start_time": "2023-05-01T12:04:06.867Z"
   },
   {
    "duration": 4,
    "start_time": "2023-05-01T12:04:27.610Z"
   },
   {
    "duration": 14,
    "start_time": "2023-05-01T12:06:37.616Z"
   },
   {
    "duration": 803,
    "start_time": "2023-05-01T12:06:51.757Z"
   },
   {
    "duration": 1091,
    "start_time": "2023-05-01T12:07:20.641Z"
   },
   {
    "duration": 37,
    "start_time": "2023-05-01T12:07:41.492Z"
   },
   {
    "duration": 867,
    "start_time": "2023-05-01T12:07:46.789Z"
   },
   {
    "duration": 8,
    "start_time": "2023-05-01T12:08:50.691Z"
   },
   {
    "duration": 73,
    "start_time": "2023-05-01T12:08:55.691Z"
   },
   {
    "duration": 2,
    "start_time": "2023-05-01T12:08:56.413Z"
   },
   {
    "duration": 7,
    "start_time": "2023-05-01T12:09:01.004Z"
   },
   {
    "duration": 4,
    "start_time": "2023-05-01T12:09:03.294Z"
   },
   {
    "duration": 3,
    "start_time": "2023-05-01T12:09:11.238Z"
   },
   {
    "duration": 3,
    "start_time": "2023-05-01T12:09:11.900Z"
   },
   {
    "duration": 12,
    "start_time": "2023-05-01T12:09:12.994Z"
   },
   {
    "duration": 5,
    "start_time": "2023-05-01T12:09:14.276Z"
   },
   {
    "duration": 8,
    "start_time": "2023-05-01T12:09:15.104Z"
   },
   {
    "duration": 878,
    "start_time": "2023-05-01T12:09:18.208Z"
   },
   {
    "duration": 325,
    "start_time": "2023-05-01T12:09:43.907Z"
   },
   {
    "duration": 69,
    "start_time": "2023-05-01T12:09:51.019Z"
   },
   {
    "duration": 3,
    "start_time": "2023-05-01T12:09:51.631Z"
   },
   {
    "duration": 7,
    "start_time": "2023-05-01T12:09:52.519Z"
   },
   {
    "duration": 4,
    "start_time": "2023-05-01T12:09:57.387Z"
   },
   {
    "duration": 4,
    "start_time": "2023-05-01T12:09:58.196Z"
   },
   {
    "duration": 12,
    "start_time": "2023-05-01T12:09:59.545Z"
   },
   {
    "duration": 6,
    "start_time": "2023-05-01T12:10:00.996Z"
   },
   {
    "duration": 9,
    "start_time": "2023-05-01T12:10:04.307Z"
   },
   {
    "duration": 1047,
    "start_time": "2023-05-01T12:11:04.558Z"
   },
   {
    "duration": 989,
    "start_time": "2023-05-01T12:11:29.554Z"
   },
   {
    "duration": 955,
    "start_time": "2023-05-01T12:13:20.285Z"
   },
   {
    "duration": 19,
    "start_time": "2023-05-01T12:13:27.588Z"
   },
   {
    "duration": 1948,
    "start_time": "2023-05-01T12:13:34.884Z"
   },
   {
    "duration": 1271,
    "start_time": "2023-05-01T12:13:39.134Z"
   },
   {
    "duration": 1210,
    "start_time": "2023-05-01T12:13:49.431Z"
   },
   {
    "duration": 33,
    "start_time": "2023-05-01T12:20:48.514Z"
   },
   {
    "duration": 42,
    "start_time": "2023-05-01T12:20:51.921Z"
   },
   {
    "duration": 876,
    "start_time": "2023-05-01T12:21:25.860Z"
   },
   {
    "duration": 932,
    "start_time": "2023-05-01T12:21:34.009Z"
   },
   {
    "duration": 58,
    "start_time": "2023-05-01T12:21:56.400Z"
   },
   {
    "duration": 60,
    "start_time": "2023-05-01T12:22:01.333Z"
   },
   {
    "duration": 4,
    "start_time": "2023-05-01T12:22:07.304Z"
   },
   {
    "duration": 5,
    "start_time": "2023-05-01T12:22:39.039Z"
   },
   {
    "duration": 4,
    "start_time": "2023-05-01T12:23:23.900Z"
   },
   {
    "duration": 16,
    "start_time": "2023-05-01T12:25:51.108Z"
   },
   {
    "duration": 18,
    "start_time": "2023-05-01T12:25:55.203Z"
   },
   {
    "duration": 8,
    "start_time": "2023-05-01T12:25:57.596Z"
   },
   {
    "duration": 10,
    "start_time": "2023-05-01T12:25:58.203Z"
   },
   {
    "duration": 4,
    "start_time": "2023-05-01T12:25:58.928Z"
   },
   {
    "duration": 7,
    "start_time": "2023-05-01T12:26:21.418Z"
   },
   {
    "duration": 7,
    "start_time": "2023-05-01T12:26:21.831Z"
   },
   {
    "duration": 8,
    "start_time": "2023-05-01T12:26:22.033Z"
   },
   {
    "duration": 6,
    "start_time": "2023-05-01T12:26:22.237Z"
   },
   {
    "duration": 8,
    "start_time": "2023-05-01T12:26:22.423Z"
   },
   {
    "duration": 7,
    "start_time": "2023-05-01T12:26:22.642Z"
   },
   {
    "duration": 8,
    "start_time": "2023-05-01T12:26:22.813Z"
   },
   {
    "duration": 9,
    "start_time": "2023-05-01T12:26:23.004Z"
   },
   {
    "duration": 10,
    "start_time": "2023-05-01T12:31:36.540Z"
   },
   {
    "duration": 7,
    "start_time": "2023-05-01T12:31:39.598Z"
   },
   {
    "duration": 7,
    "start_time": "2023-05-01T12:31:40.114Z"
   },
   {
    "duration": 6,
    "start_time": "2023-05-01T12:31:40.562Z"
   },
   {
    "duration": 7,
    "start_time": "2023-05-01T12:31:41.064Z"
   },
   {
    "duration": 8,
    "start_time": "2023-05-01T12:33:09.029Z"
   },
   {
    "duration": 8,
    "start_time": "2023-05-01T12:33:09.456Z"
   },
   {
    "duration": 6,
    "start_time": "2023-05-01T12:33:09.803Z"
   },
   {
    "duration": 8,
    "start_time": "2023-05-01T12:33:10.149Z"
   },
   {
    "duration": 7,
    "start_time": "2023-05-01T12:34:03.050Z"
   },
   {
    "duration": 8,
    "start_time": "2023-05-01T12:34:27.349Z"
   },
   {
    "duration": 7,
    "start_time": "2023-05-01T12:34:27.637Z"
   },
   {
    "duration": 7,
    "start_time": "2023-05-01T12:34:27.896Z"
   },
   {
    "duration": 7,
    "start_time": "2023-05-01T12:34:28.189Z"
   },
   {
    "duration": 3,
    "start_time": "2023-05-01T12:35:17.210Z"
   },
   {
    "duration": 162,
    "start_time": "2023-05-01T12:35:18.109Z"
   },
   {
    "duration": 7,
    "start_time": "2023-05-01T12:35:18.356Z"
   },
   {
    "duration": 22,
    "start_time": "2023-05-01T12:35:18.595Z"
   },
   {
    "duration": 4,
    "start_time": "2023-05-01T12:35:18.800Z"
   },
   {
    "duration": 145,
    "start_time": "2023-05-01T12:35:19.306Z"
   },
   {
    "duration": 41,
    "start_time": "2023-05-01T12:35:19.523Z"
   },
   {
    "duration": 4,
    "start_time": "2023-05-01T12:35:19.728Z"
   },
   {
    "duration": 39,
    "start_time": "2023-05-01T12:35:19.948Z"
   },
   {
    "duration": 40,
    "start_time": "2023-05-01T12:35:20.153Z"
   },
   {
    "duration": 22,
    "start_time": "2023-05-01T12:35:21.320Z"
   },
   {
    "duration": 6,
    "start_time": "2023-05-01T12:35:22.538Z"
   },
   {
    "duration": 645,
    "start_time": "2023-05-01T12:35:22.793Z"
   },
   {
    "duration": 27,
    "start_time": "2023-05-01T12:35:23.533Z"
   },
   {
    "duration": 5,
    "start_time": "2023-05-01T12:35:24.056Z"
   },
   {
    "duration": 43,
    "start_time": "2023-05-01T12:35:24.747Z"
   },
   {
    "duration": 43,
    "start_time": "2023-05-01T12:35:25.748Z"
   },
   {
    "duration": 67,
    "start_time": "2023-05-01T12:35:26.259Z"
   },
   {
    "duration": 49,
    "start_time": "2023-05-01T12:35:26.715Z"
   },
   {
    "duration": 23,
    "start_time": "2023-05-01T12:35:27.522Z"
   },
   {
    "duration": 4,
    "start_time": "2023-05-01T12:35:27.654Z"
   },
   {
    "duration": 33,
    "start_time": "2023-05-01T12:35:29.854Z"
   },
   {
    "duration": 11,
    "start_time": "2023-05-01T12:35:31.399Z"
   },
   {
    "duration": 7,
    "start_time": "2023-05-01T12:35:31.693Z"
   },
   {
    "duration": 10,
    "start_time": "2023-05-01T12:35:31.943Z"
   },
   {
    "duration": 6,
    "start_time": "2023-05-01T12:35:33.095Z"
   },
   {
    "duration": 5,
    "start_time": "2023-05-01T12:35:33.317Z"
   },
   {
    "duration": 35,
    "start_time": "2023-05-01T12:35:34.460Z"
   },
   {
    "duration": 59,
    "start_time": "2023-05-01T12:35:34.751Z"
   },
   {
    "duration": 3,
    "start_time": "2023-05-01T12:35:35.296Z"
   },
   {
    "duration": 10,
    "start_time": "2023-05-01T12:35:36.028Z"
   },
   {
    "duration": 4,
    "start_time": "2023-05-01T12:35:36.751Z"
   },
   {
    "duration": 3,
    "start_time": "2023-05-01T12:35:36.993Z"
   },
   {
    "duration": 12,
    "start_time": "2023-05-01T12:35:37.198Z"
   },
   {
    "duration": 8,
    "start_time": "2023-05-01T12:35:37.855Z"
   },
   {
    "duration": 12,
    "start_time": "2023-05-01T12:35:38.182Z"
   },
   {
    "duration": 4,
    "start_time": "2023-05-01T12:35:38.505Z"
   },
   {
    "duration": 5,
    "start_time": "2023-05-01T12:35:39.011Z"
   },
   {
    "duration": 5,
    "start_time": "2023-05-01T12:35:40.178Z"
   },
   {
    "duration": 6,
    "start_time": "2023-05-01T12:35:40.540Z"
   },
   {
    "duration": 6,
    "start_time": "2023-05-01T12:35:40.898Z"
   },
   {
    "duration": 9,
    "start_time": "2023-05-01T12:35:41.958Z"
   },
   {
    "duration": 1063,
    "start_time": "2023-05-01T12:37:51.509Z"
   },
   {
    "duration": 129,
    "start_time": "2023-05-01T12:37:52.574Z"
   },
   {
    "duration": 12,
    "start_time": "2023-05-01T12:37:52.704Z"
   },
   {
    "duration": 17,
    "start_time": "2023-05-01T12:37:52.732Z"
   },
   {
    "duration": 3,
    "start_time": "2023-05-01T12:37:52.940Z"
   },
   {
    "duration": 196,
    "start_time": "2023-05-01T12:37:53.307Z"
   },
   {
    "duration": 68,
    "start_time": "2023-05-01T12:37:53.522Z"
   },
   {
    "duration": 4,
    "start_time": "2023-05-01T12:37:53.724Z"
   },
   {
    "duration": 44,
    "start_time": "2023-05-01T12:37:53.921Z"
   },
   {
    "duration": 52,
    "start_time": "2023-05-01T12:37:54.134Z"
   },
   {
    "duration": 31,
    "start_time": "2023-05-01T12:37:55.114Z"
   },
   {
    "duration": 7,
    "start_time": "2023-05-01T12:37:56.107Z"
   },
   {
    "duration": 744,
    "start_time": "2023-05-01T12:37:56.265Z"
   },
   {
    "duration": 28,
    "start_time": "2023-05-01T12:37:57.011Z"
   },
   {
    "duration": 4,
    "start_time": "2023-05-01T12:37:57.276Z"
   },
   {
    "duration": 44,
    "start_time": "2023-05-01T12:37:58.197Z"
   },
   {
    "duration": 35,
    "start_time": "2023-05-01T12:37:58.589Z"
   },
   {
    "duration": 32,
    "start_time": "2023-05-01T12:38:13.597Z"
   },
   {
    "duration": 59,
    "start_time": "2023-05-01T12:38:14.701Z"
   },
   {
    "duration": 59,
    "start_time": "2023-05-01T12:38:15.564Z"
   },
   {
    "duration": 17,
    "start_time": "2023-05-01T12:38:16.316Z"
   },
   {
    "duration": 3,
    "start_time": "2023-05-01T12:38:16.546Z"
   },
   {
    "duration": 21,
    "start_time": "2023-05-01T12:38:17.309Z"
   },
   {
    "duration": 8,
    "start_time": "2023-05-01T12:38:18.609Z"
   },
   {
    "duration": 5,
    "start_time": "2023-05-01T12:38:18.852Z"
   },
   {
    "duration": 8,
    "start_time": "2023-05-01T12:38:19.394Z"
   },
   {
    "duration": 8,
    "start_time": "2023-05-01T12:38:20.920Z"
   },
   {
    "duration": 4,
    "start_time": "2023-05-01T12:38:21.200Z"
   },
   {
    "duration": 37,
    "start_time": "2023-05-01T12:38:22.103Z"
   },
   {
    "duration": 59,
    "start_time": "2023-05-01T12:38:22.704Z"
   },
   {
    "duration": 3,
    "start_time": "2023-05-01T12:38:23.036Z"
   },
   {
    "duration": 7,
    "start_time": "2023-05-01T12:38:23.401Z"
   },
   {
    "duration": 4,
    "start_time": "2023-05-01T12:38:24.197Z"
   },
   {
    "duration": 4,
    "start_time": "2023-05-01T12:38:24.606Z"
   },
   {
    "duration": 19,
    "start_time": "2023-05-01T12:38:24.971Z"
   },
   {
    "duration": 10,
    "start_time": "2023-05-01T12:38:28.058Z"
   },
   {
    "duration": 4,
    "start_time": "2023-05-01T12:38:28.842Z"
   },
   {
    "duration": 7,
    "start_time": "2023-05-01T12:38:30.114Z"
   },
   {
    "duration": 8,
    "start_time": "2023-05-01T12:38:43.045Z"
   },
   {
    "duration": 7,
    "start_time": "2023-05-01T12:38:43.718Z"
   },
   {
    "duration": 7,
    "start_time": "2023-05-01T12:38:44.323Z"
   },
   {
    "duration": 7,
    "start_time": "2023-05-01T12:38:45.006Z"
   },
   {
    "duration": 7,
    "start_time": "2023-05-01T12:38:46.101Z"
   },
   {
    "duration": 11,
    "start_time": "2023-05-01T12:38:46.418Z"
   },
   {
    "duration": 8,
    "start_time": "2023-05-01T12:38:46.622Z"
   },
   {
    "duration": 8,
    "start_time": "2023-05-01T12:38:46.819Z"
   },
   {
    "duration": 7,
    "start_time": "2023-05-01T12:38:47.253Z"
   },
   {
    "duration": 7,
    "start_time": "2023-05-01T12:38:47.497Z"
   },
   {
    "duration": 7,
    "start_time": "2023-05-01T12:38:47.755Z"
   },
   {
    "duration": 9,
    "start_time": "2023-05-01T12:38:48.401Z"
   },
   {
    "duration": 10,
    "start_time": "2023-05-01T12:38:49.089Z"
   },
   {
    "duration": 6,
    "start_time": "2023-05-01T12:38:49.490Z"
   },
   {
    "duration": 6,
    "start_time": "2023-05-01T12:38:49.738Z"
   },
   {
    "duration": 7,
    "start_time": "2023-05-01T12:38:49.954Z"
   },
   {
    "duration": 1292,
    "start_time": "2023-05-02T08:57:38.813Z"
   },
   {
    "duration": 174,
    "start_time": "2023-05-02T08:57:40.107Z"
   },
   {
    "duration": 10,
    "start_time": "2023-05-02T08:57:40.283Z"
   },
   {
    "duration": 20,
    "start_time": "2023-05-02T08:57:40.295Z"
   },
   {
    "duration": 16,
    "start_time": "2023-05-02T08:57:40.318Z"
   },
   {
    "duration": 213,
    "start_time": "2023-05-02T08:57:40.335Z"
   },
   {
    "duration": 65,
    "start_time": "2023-05-02T08:57:40.550Z"
   },
   {
    "duration": 5,
    "start_time": "2023-05-02T08:57:40.617Z"
   },
   {
    "duration": 55,
    "start_time": "2023-05-02T08:57:40.624Z"
   },
   {
    "duration": 74,
    "start_time": "2023-05-02T08:57:40.682Z"
   },
   {
    "duration": 33,
    "start_time": "2023-05-02T08:57:40.757Z"
   },
   {
    "duration": 5,
    "start_time": "2023-05-02T08:57:40.792Z"
   },
   {
    "duration": 712,
    "start_time": "2023-05-02T08:57:40.799Z"
   },
   {
    "duration": 37,
    "start_time": "2023-05-02T08:57:41.515Z"
   },
   {
    "duration": 4,
    "start_time": "2023-05-02T08:57:41.554Z"
   },
   {
    "duration": 74,
    "start_time": "2023-05-02T08:57:41.560Z"
   },
   {
    "duration": 37,
    "start_time": "2023-05-02T08:57:41.636Z"
   },
   {
    "duration": 95,
    "start_time": "2023-05-02T08:57:41.675Z"
   },
   {
    "duration": 85,
    "start_time": "2023-05-02T08:57:41.772Z"
   },
   {
    "duration": 18,
    "start_time": "2023-05-02T08:57:41.859Z"
   },
   {
    "duration": 10,
    "start_time": "2023-05-02T08:57:41.879Z"
   },
   {
    "duration": 44,
    "start_time": "2023-05-02T08:57:41.890Z"
   },
   {
    "duration": 9,
    "start_time": "2023-05-02T08:57:41.936Z"
   },
   {
    "duration": 11,
    "start_time": "2023-05-02T08:57:41.947Z"
   },
   {
    "duration": 16,
    "start_time": "2023-05-02T08:57:41.959Z"
   },
   {
    "duration": 12,
    "start_time": "2023-05-02T08:57:41.977Z"
   },
   {
    "duration": 13,
    "start_time": "2023-05-02T08:57:41.991Z"
   },
   {
    "duration": 84,
    "start_time": "2023-05-02T08:57:42.006Z"
   },
   {
    "duration": 81,
    "start_time": "2023-05-02T08:57:42.092Z"
   },
   {
    "duration": 2,
    "start_time": "2023-05-02T08:57:42.175Z"
   },
   {
    "duration": 11,
    "start_time": "2023-05-02T08:57:42.179Z"
   },
   {
    "duration": 14,
    "start_time": "2023-05-02T08:57:42.192Z"
   },
   {
    "duration": 9,
    "start_time": "2023-05-02T08:57:42.207Z"
   },
   {
    "duration": 27,
    "start_time": "2023-05-02T08:57:42.218Z"
   },
   {
    "duration": 16,
    "start_time": "2023-05-02T08:57:42.246Z"
   },
   {
    "duration": 18,
    "start_time": "2023-05-02T08:57:42.264Z"
   },
   {
    "duration": 19,
    "start_time": "2023-05-02T08:57:42.283Z"
   },
   {
    "duration": 22,
    "start_time": "2023-05-02T08:57:42.303Z"
   },
   {
    "duration": 9,
    "start_time": "2023-05-02T08:57:42.327Z"
   },
   {
    "duration": 10,
    "start_time": "2023-05-02T08:57:42.337Z"
   },
   {
    "duration": 9,
    "start_time": "2023-05-02T08:57:42.351Z"
   },
   {
    "duration": 8,
    "start_time": "2023-05-02T08:57:42.361Z"
   },
   {
    "duration": 13,
    "start_time": "2023-05-02T08:57:42.371Z"
   },
   {
    "duration": 11,
    "start_time": "2023-05-02T08:57:42.386Z"
   },
   {
    "duration": 42,
    "start_time": "2023-05-02T08:57:42.398Z"
   },
   {
    "duration": 15,
    "start_time": "2023-05-02T08:57:42.442Z"
   },
   {
    "duration": 15,
    "start_time": "2023-05-02T08:57:42.459Z"
   },
   {
    "duration": 13,
    "start_time": "2023-05-02T08:57:42.475Z"
   },
   {
    "duration": 19,
    "start_time": "2023-05-02T08:57:42.490Z"
   },
   {
    "duration": 33,
    "start_time": "2023-05-02T08:57:42.511Z"
   },
   {
    "duration": 31,
    "start_time": "2023-05-02T08:57:42.547Z"
   },
   {
    "duration": 14,
    "start_time": "2023-05-02T08:57:42.580Z"
   },
   {
    "duration": 11,
    "start_time": "2023-05-02T08:57:42.596Z"
   },
   {
    "duration": 65,
    "start_time": "2023-05-02T08:59:02.234Z"
   },
   {
    "duration": 9,
    "start_time": "2023-05-02T09:06:51.879Z"
   },
   {
    "duration": 9,
    "start_time": "2023-05-02T09:08:19.318Z"
   },
   {
    "duration": 10,
    "start_time": "2023-05-02T09:09:39.977Z"
   },
   {
    "duration": 10,
    "start_time": "2023-05-02T09:09:45.015Z"
   },
   {
    "duration": 1428,
    "start_time": "2023-05-02T09:52:21.017Z"
   },
   {
    "duration": 1340,
    "start_time": "2023-05-02T09:52:24.036Z"
   },
   {
    "duration": 15,
    "start_time": "2023-05-02T09:52:25.378Z"
   },
   {
    "duration": 39,
    "start_time": "2023-05-02T09:52:25.396Z"
   },
   {
    "duration": 3,
    "start_time": "2023-05-02T09:52:29.017Z"
   },
   {
    "duration": 226,
    "start_time": "2023-05-02T09:52:30.224Z"
   },
   {
    "duration": 84,
    "start_time": "2023-05-02T09:52:32.817Z"
   },
   {
    "duration": 5,
    "start_time": "2023-05-02T09:52:33.343Z"
   },
   {
    "duration": 60,
    "start_time": "2023-05-02T09:52:33.913Z"
   },
   {
    "duration": 62,
    "start_time": "2023-05-02T09:52:34.443Z"
   },
   {
    "duration": 184,
    "start_time": "2023-05-02T09:53:38.920Z"
   },
   {
    "duration": 10,
    "start_time": "2023-05-02T09:53:39.226Z"
   },
   {
    "duration": 33,
    "start_time": "2023-05-02T09:53:39.897Z"
   },
   {
    "duration": 4,
    "start_time": "2023-05-02T09:53:40.413Z"
   },
   {
    "duration": 159,
    "start_time": "2023-05-02T09:53:41.574Z"
   },
   {
    "duration": 6,
    "start_time": "2023-05-02T09:53:42.545Z"
   },
   {
    "duration": 127,
    "start_time": "2023-05-02T09:53:45.134Z"
   },
   {
    "duration": 65,
    "start_time": "2023-05-02T09:53:47.917Z"
   },
   {
    "duration": 51,
    "start_time": "2023-05-02T09:53:48.725Z"
   },
   {
    "duration": 32,
    "start_time": "2023-05-02T09:53:55.619Z"
   },
   {
    "duration": 6,
    "start_time": "2023-05-02T09:54:02.721Z"
   },
   {
    "duration": 759,
    "start_time": "2023-05-02T09:54:03.518Z"
   },
   {
    "duration": 30,
    "start_time": "2023-05-02T09:54:07.834Z"
   },
   {
    "duration": 6,
    "start_time": "2023-05-02T09:54:11.820Z"
   },
   {
    "duration": 144,
    "start_time": "2023-05-02T09:56:30.402Z"
   },
   {
    "duration": 9,
    "start_time": "2023-05-02T09:56:41.717Z"
   },
   {
    "duration": 11,
    "start_time": "2023-05-02T09:56:46.113Z"
   },
   {
    "duration": 15,
    "start_time": "2023-05-02T09:56:48.858Z"
   },
   {
    "duration": 16,
    "start_time": "2023-05-02T09:56:53.521Z"
   },
   {
    "duration": 14,
    "start_time": "2023-05-02T09:57:09.741Z"
   },
   {
    "duration": 9,
    "start_time": "2023-05-02T09:57:35.454Z"
   },
   {
    "duration": 12,
    "start_time": "2023-05-02T09:57:50.835Z"
   },
   {
    "duration": 13,
    "start_time": "2023-05-02T09:58:03.331Z"
   },
   {
    "duration": 4,
    "start_time": "2023-05-02T10:01:33.161Z"
   },
   {
    "duration": 45,
    "start_time": "2023-05-02T10:02:37.966Z"
   },
   {
    "duration": 8,
    "start_time": "2023-05-02T10:02:47.567Z"
   },
   {
    "duration": 56,
    "start_time": "2023-05-02T10:03:14.847Z"
   },
   {
    "duration": 39,
    "start_time": "2023-05-02T10:03:26.153Z"
   },
   {
    "duration": 74,
    "start_time": "2023-05-02T10:03:28.563Z"
   },
   {
    "duration": 73,
    "start_time": "2023-05-02T10:03:31.311Z"
   },
   {
    "duration": 15,
    "start_time": "2023-05-02T10:03:32.343Z"
   },
   {
    "duration": 3,
    "start_time": "2023-05-02T10:03:32.568Z"
   },
   {
    "duration": 24,
    "start_time": "2023-05-02T10:03:34.736Z"
   },
   {
    "duration": 9,
    "start_time": "2023-05-02T10:09:03.821Z"
   },
   {
    "duration": 6,
    "start_time": "2023-05-02T10:09:04.003Z"
   },
   {
    "duration": 12,
    "start_time": "2023-05-02T10:09:04.434Z"
   },
   {
    "duration": 10,
    "start_time": "2023-05-02T10:09:06.031Z"
   },
   {
    "duration": 4,
    "start_time": "2023-05-02T10:09:06.344Z"
   },
   {
    "duration": 7,
    "start_time": "2023-05-02T10:13:09.463Z"
   },
   {
    "duration": 753,
    "start_time": "2023-05-02T10:13:09.964Z"
   },
   {
    "duration": 4,
    "start_time": "2023-05-02T10:13:17.958Z"
   },
   {
    "duration": 43,
    "start_time": "2023-05-02T10:14:46.933Z"
   },
   {
    "duration": 70,
    "start_time": "2023-05-02T10:14:47.515Z"
   },
   {
    "duration": 3,
    "start_time": "2023-05-02T10:14:47.907Z"
   },
   {
    "duration": 11,
    "start_time": "2023-05-02T10:14:48.103Z"
   },
   {
    "duration": 5,
    "start_time": "2023-05-02T10:14:53.819Z"
   },
   {
    "duration": 4,
    "start_time": "2023-05-02T10:14:54.330Z"
   },
   {
    "duration": 19,
    "start_time": "2023-05-02T10:14:55.111Z"
   },
   {
    "duration": 9,
    "start_time": "2023-05-02T10:17:04.838Z"
   },
   {
    "duration": 4,
    "start_time": "2023-05-02T10:17:05.210Z"
   },
   {
    "duration": 6,
    "start_time": "2023-05-02T10:17:05.610Z"
   },
   {
    "duration": 10,
    "start_time": "2023-05-02T10:17:06.207Z"
   },
   {
    "duration": 10,
    "start_time": "2023-05-02T10:17:06.417Z"
   },
   {
    "duration": 8,
    "start_time": "2023-05-02T10:17:06.907Z"
   },
   {
    "duration": 9,
    "start_time": "2023-05-02T10:17:07.522Z"
   },
   {
    "duration": 11,
    "start_time": "2023-05-02T10:17:08.950Z"
   },
   {
    "duration": 9,
    "start_time": "2023-05-02T10:17:09.108Z"
   },
   {
    "duration": 9,
    "start_time": "2023-05-02T10:17:10.554Z"
   },
   {
    "duration": 9,
    "start_time": "2023-05-02T10:17:11.058Z"
   },
   {
    "duration": 9,
    "start_time": "2023-05-02T10:17:12.048Z"
   },
   {
    "duration": 10,
    "start_time": "2023-05-02T10:17:12.622Z"
   },
   {
    "duration": 9,
    "start_time": "2023-05-02T10:17:13.203Z"
   },
   {
    "duration": 9,
    "start_time": "2023-05-02T10:17:13.748Z"
   },
   {
    "duration": 8,
    "start_time": "2023-05-02T10:17:14.806Z"
   },
   {
    "duration": 10,
    "start_time": "2023-05-02T10:17:15.607Z"
   },
   {
    "duration": 10,
    "start_time": "2023-05-02T10:17:16.411Z"
   },
   {
    "duration": 9,
    "start_time": "2023-05-02T10:17:16.948Z"
   },
   {
    "duration": 9,
    "start_time": "2023-05-02T10:20:47.002Z"
   },
   {
    "duration": 5,
    "start_time": "2023-05-02T10:31:45.809Z"
   },
   {
    "duration": 12,
    "start_time": "2023-05-02T10:34:09.520Z"
   },
   {
    "duration": 9,
    "start_time": "2023-05-02T10:34:48.104Z"
   },
   {
    "duration": 9,
    "start_time": "2023-05-02T10:34:48.555Z"
   },
   {
    "duration": 10,
    "start_time": "2023-05-02T10:34:48.992Z"
   },
   {
    "duration": 10,
    "start_time": "2023-05-02T10:35:43.013Z"
   },
   {
    "duration": 11,
    "start_time": "2023-05-02T10:36:30.694Z"
   },
   {
    "duration": 9,
    "start_time": "2023-05-02T10:36:31.178Z"
   },
   {
    "duration": 9,
    "start_time": "2023-05-02T10:36:31.523Z"
   },
   {
    "duration": 9,
    "start_time": "2023-05-02T10:36:32.055Z"
   },
   {
    "duration": 9,
    "start_time": "2023-05-02T10:38:06.997Z"
   },
   {
    "duration": 10,
    "start_time": "2023-05-02T10:38:07.209Z"
   },
   {
    "duration": 9,
    "start_time": "2023-05-02T10:38:07.422Z"
   },
   {
    "duration": 10,
    "start_time": "2023-05-02T10:38:07.835Z"
   },
   {
    "duration": 8,
    "start_time": "2023-05-02T10:38:32.275Z"
   },
   {
    "duration": 9,
    "start_time": "2023-05-02T10:38:32.462Z"
   },
   {
    "duration": 10,
    "start_time": "2023-05-02T10:38:32.704Z"
   },
   {
    "duration": 9,
    "start_time": "2023-05-02T10:38:32.860Z"
   },
   {
    "duration": 9,
    "start_time": "2023-05-02T10:38:33.301Z"
   },
   {
    "duration": 9,
    "start_time": "2023-05-02T10:38:33.556Z"
   },
   {
    "duration": 9,
    "start_time": "2023-05-02T10:38:33.880Z"
   },
   {
    "duration": 9,
    "start_time": "2023-05-02T10:38:34.555Z"
   },
   {
    "duration": 11,
    "start_time": "2023-05-02T10:39:57.882Z"
   },
   {
    "duration": 9,
    "start_time": "2023-05-02T10:39:58.236Z"
   },
   {
    "duration": 10,
    "start_time": "2023-05-02T10:39:58.675Z"
   },
   {
    "duration": 10,
    "start_time": "2023-05-02T10:39:59.233Z"
   }
  ],
  "kernelspec": {
   "display_name": "Python 3 (ipykernel)",
   "language": "python",
   "name": "python3"
  },
  "language_info": {
   "codemirror_mode": {
    "name": "ipython",
    "version": 3
   },
   "file_extension": ".py",
   "mimetype": "text/x-python",
   "name": "python",
   "nbconvert_exporter": "python",
   "pygments_lexer": "ipython3",
   "version": "3.9.13"
  },
  "toc": {
   "base_numbering": 1,
   "nav_menu": {},
   "number_sections": false,
   "sideBar": true,
   "skip_h1_title": false,
   "title_cell": "Table of Contents",
   "title_sidebar": "Contents",
   "toc_cell": false,
   "toc_position": {
    "height": "calc(100% - 180px)",
    "left": "10px",
    "top": "150px",
    "width": "223.267px"
   },
   "toc_section_display": true,
   "toc_window_display": true
  }
 },
 "nbformat": 4,
 "nbformat_minor": 2
}
